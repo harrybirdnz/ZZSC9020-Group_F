{
 "cells": [
  {
   "cell_type": "code",
   "execution_count": 1,
   "id": "900d5a72",
   "metadata": {},
   "outputs": [],
   "source": [
    "#imports\n",
    "import optuna\n",
    "from model import *"
   ]
  },
  {
   "cell_type": "code",
   "execution_count": 4,
   "id": "522e7340",
   "metadata": {},
   "outputs": [],
   "source": [
    "## Optuna Function\n",
    "def objective(trial):\n",
    "    # Detect device\n",
    "    device = torch.device('cuda' if torch.cuda.is_available() else 'cpu')\n",
    "\n",
    "    # Suggest hyperparameters\n",
    "    # Restrict d_model and nhead to best from first optuna to get better insights (no inf)\n",
    "    d_model = 48\n",
    "    nhead = 6\n",
    "    \n",
    "\n",
    "    params = {\n",
    "        'dropout': trial.suggest_float(\"dropout\", 0.0, 0.3),\n",
    "        'learning_rate': trial.suggest_float(\"learning_rate\", 1e-4, 1e-2, log=True),\n",
    "        'batch_size': trial.suggest_categorical(\"batch_size\", [8, 16, 32, 64]),\n",
    "        'seq_length': trial.suggest_categorical(\"seq_length\", [7, 14, 21]),\n",
    "        'transformer_encoder_layer_params': {\n",
    "            'd_model': d_model,\n",
    "            'nhead': nhead,\n",
    "            'dim_feedforward': trial.suggest_int(\"dim_feedforward\", 128, 512),\n",
    "            'dropout': trial.suggest_float(\"dropout\", 0.0, 0.3),\n",
    "            'activation': trial.suggest_categorical(\"activation\", ['relu', 'gelu'])\n",
    "        },\n",
    "        'transformer_layer_params': {\n",
    "            'num_layers': trial.suggest_int(\"num_layers\", 1, 4),\n",
    "        },\n",
    "        'dataset': '2016-2019',\n",
    "        'train_test_split': '80:20'\n",
    "    }\n",
    "\n",
    "    sequences, targets, datetimes, scaler_X = prepare_data(params)\n",
    "\n",
    "    # Build and train model\n",
    "    model, train_losses, val_losses = train_transformer_model(sequences, targets, input_dim, datetimes, params)\n",
    "\n",
    "    # 5. Evaluate and plot results\n",
    "    device = torch.device('cuda' if torch.cuda.is_available() else 'cpu')\n",
    "    test_mask = pd.to_datetime(datetimes).dt.year == 2019\n",
    "    seq_mask = test_mask[params['seq_length']:].to_numpy()\n",
    "    predictions = evaluate_model(model, sequences[seq_mask], targets[seq_mask], device)\n",
    "\n",
    "    # Inverse transform predictions to original scale\n",
    "    # Create dummy array for inverse transform\n",
    "    dummy = np.zeros((len(predictions), 2))\n",
    "    dummy[:, 0] = predictions.flatten()\n",
    "    predictions_original = scaler_X.inverse_transform(dummy)[:, 0]\n",
    "\n",
    "    dummy[:, 0] = targets[seq_mask].numpy().flatten()\n",
    "    targets_original = scaler_X.inverse_transform(dummy)[:, 0]\n",
    "\n",
    "    # Calculate mae\n",
    "    mae = np.mean(np.abs(predictions_original - targets_original))\n",
    "    return mae"
   ]
  },
  {
   "cell_type": "code",
   "execution_count": null,
   "id": "f764341f",
   "metadata": {},
   "outputs": [
    {
     "name": "stderr",
     "output_type": "stream",
     "text": [
      "[I 2025-09-25 18:02:01,424] Using an existing study with name 'full_data_transformer_optimization_fix_nhead_d_model' instead of creating a new one.\n"
     ]
    },
    {
     "name": "stdout",
     "output_type": "stream",
     "text": [
      "Using device: cuda\n"
     ]
    }
   ],
   "source": [
    "study = optuna.create_study(storage=\"sqlite:///db.sqlite3\", study_name=\"full_data_transformer_optimization_fix_nhead_d_model\", load_if_exists=True)\n",
    "study.optimize(objective, n_trials=100, n_jobs=1)\n",
    "\n",
    "study.best_params "
   ]
  },
  {
   "cell_type": "code",
   "execution_count": 84,
   "id": "1d42e13a",
   "metadata": {},
   "outputs": [
    {
     "data": {
      "text/plain": [
       "{'dropout': 0.1503743360111539,\n",
       " 'learning_rate': 0.0011392910510892803,\n",
       " 'batch_size': 32,\n",
       " 'seq_length': 21,\n",
       " 'dim_feedforward': 339,\n",
       " 'activation': 'relu',\n",
       " 'num_layers': 2}"
      ]
     },
     "execution_count": 84,
     "metadata": {},
     "output_type": "execute_result"
    }
   ],
   "source": [
    "study.best_params"
   ]
  }
 ],
 "metadata": {
  "kernelspec": {
   "display_name": ".venv",
   "language": "python",
   "name": "python3"
  },
  "language_info": {
   "codemirror_mode": {
    "name": "ipython",
    "version": 3
   },
   "file_extension": ".py",
   "mimetype": "text/x-python",
   "name": "python",
   "nbconvert_exporter": "python",
   "pygments_lexer": "ipython3",
   "version": "3.10.12"
  }
 },
 "nbformat": 4,
 "nbformat_minor": 5
}
