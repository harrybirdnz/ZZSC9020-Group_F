{
 "cells": [
  {
   "cell_type": "code",
   "execution_count": 1,
   "id": "98b25d83",
   "metadata": {},
   "outputs": [],
   "source": [
    "#imports\n",
    "import optuna\n",
    "import sys\n",
    "sys.path.append('/home/harry/personal/uni/project/individual/harry/model')\n",
    "\n",
    "from model import *\n",
    "\n",
    "feature_names = [\n",
    "    'is_summer', 'is_autumn', 'is_winter', 'is_spring',\n",
    "    'is_monday', 'is_tuesday', 'is_wednesday', 'is_thursday', 'is_friday', 'is_saturday', 'is_sunday',\n",
    "    'is_weekday', 'is_weekend',\n",
    "    'is_jan', 'is_feb', 'is_mar', 'is_apr', 'is_may', 'is_jun', 'is_jul', 'is_aug', 'is_sep', 'is_oct', 'is_nov', 'is_dec',\n",
    "    'min_30_min_demand',\n",
    "    'avg_30_min_demand',\n",
    "    'max_30_min_demand',\n",
    "    'avg_temp',\n",
    "    'max_temp',\n",
    "    'min_temp',\n",
    "    'hd_next_24h',\n",
    "    'cd_next_24h',\n",
    "    'sunlight',\n",
    "    'precipitation'\n",
    "]\n",
    "optimal_feature_names = [\n",
    "    'is_summer', 'is_autumn', 'is_winter', 'is_spring',\n",
    "    'is_monday', 'is_tuesday', 'is_wednesday', 'is_thursday', 'is_friday', 'is_saturday', 'is_sunday',\n",
    "    'is_weekday', 'is_weekend',\n",
    "    'avg_30_min_demand',\n",
    "    'avg_temp',\n",
    "    'max_temp',\n",
    "    'cd_next_24h'\n",
    "]\n"
   ]
  },
  {
   "cell_type": "code",
   "execution_count": null,
   "id": "522e7340",
   "metadata": {},
   "outputs": [],
   "source": [
    "\n",
    "## Optuna Function\n",
    "def objective(trial):\n",
    "    # Suggest hyperparameters\n",
    "    # Restrict d_model and nhead to best from first optuna to get better insights (no inf)\n",
    "    d_model = 64\n",
    "    nhead = 4\n",
    "    \n",
    "\n",
    "    params = {\n",
    "        'learning_rate': trial.suggest_float(\"learning_rate\", 1e-4, 1e-2, log=True),\n",
    "        'batch_size': trial.suggest_int(\"batch_size\", 8, 64),\n",
    "        'seq_length': trial.suggest_int(\"seq_length\", 3, 21),\n",
    "        'transformer_encoder_layer_params': {\n",
    "            'd_model': d_model,\n",
    "            'nhead': nhead,\n",
    "            'dim_feedforward': trial.suggest_int(\"dim_feedforward\", 128, 512),\n",
    "            'dropout': trial.suggest_float(\"dropout\", 0.0, 0.1),\n",
    "            'activation': 'relu'\n",
    "        },\n",
    "        'transformer_layer_params': {\n",
    "            'num_layers': trial.suggest_int(\"num_layers\", 1, 5),\n",
    "        },\n",
    "        'dataset': '2016-2019',\n",
    "        'train_test_split': 'prior:2019',\n",
    "        'features': ['sum_30_min_demand'] + feature_names,\n",
    "        'visualise': False,\n",
    "    }\n",
    "\n",
    "    return median_mape(params)"
   ]
  },
  {
   "cell_type": "code",
   "execution_count": null,
   "id": "f764341f",
   "metadata": {},
   "outputs": [
    {
     "name": "stderr",
     "output_type": "stream",
     "text": [
      "[I 2025-09-29 15:40:51,593] A new study created in RDB with name: 2016_2019+all_features\n"
     ]
    },
    {
     "name": "stdout",
     "output_type": "stream",
     "text": [
      "Using device: cuda\n"
     ]
    },
    {
     "name": "stderr",
     "output_type": "stream",
     "text": [
      "[I 2025-09-29 15:41:14,757] Trial 0 finished with value: 3.3257223871712616 and parameters: {'learning_rate': 0.002030899356209592, 'batch_size': 21, 'seq_length': 14, 'dim_feedforward': 267, 'dropout': 0.0671148069642173, 'num_layers': 4}. Best is trial 0 with value: 3.3257223871712616.\n"
     ]
    },
    {
     "name": "stdout",
     "output_type": "stream",
     "text": [
      "Using device: cuda\n"
     ]
    },
    {
     "name": "stderr",
     "output_type": "stream",
     "text": [
      "[I 2025-09-29 15:41:22,246] Trial 1 finished with value: 3.2074449919348686 and parameters: {'learning_rate': 0.0004912525481300255, 'batch_size': 42, 'seq_length': 19, 'dim_feedforward': 168, 'dropout': 0.09432145815761739, 'num_layers': 3}. Best is trial 1 with value: 3.2074449919348686.\n"
     ]
    },
    {
     "name": "stdout",
     "output_type": "stream",
     "text": [
      "Using device: cuda\n"
     ]
    },
    {
     "name": "stderr",
     "output_type": "stream",
     "text": [
      "[I 2025-09-29 15:41:35,934] Trial 2 finished with value: 3.0010241207241846 and parameters: {'learning_rate': 0.004373605534635941, 'batch_size': 13, 'seq_length': 13, 'dim_feedforward': 504, 'dropout': 0.03170187763917859, 'num_layers': 1}. Best is trial 2 with value: 3.0010241207241846.\n"
     ]
    },
    {
     "name": "stdout",
     "output_type": "stream",
     "text": [
      "Using device: cuda\n"
     ]
    },
    {
     "name": "stderr",
     "output_type": "stream",
     "text": [
      "[I 2025-09-29 15:41:41,455] Trial 3 finished with value: 5.9147364692565425 and parameters: {'learning_rate': 0.009296994978726757, 'batch_size': 43, 'seq_length': 19, 'dim_feedforward': 274, 'dropout': 0.042163050261384, 'num_layers': 3}. Best is trial 2 with value: 3.0010241207241846.\n"
     ]
    },
    {
     "name": "stdout",
     "output_type": "stream",
     "text": [
      "Using device: cuda\n"
     ]
    },
    {
     "name": "stderr",
     "output_type": "stream",
     "text": [
      "[I 2025-09-29 15:42:03,003] Trial 4 finished with value: 3.3871620499808213 and parameters: {'learning_rate': 0.0011142948296489245, 'batch_size': 14, 'seq_length': 18, 'dim_feedforward': 388, 'dropout': 0.0484119560643522, 'num_layers': 3}. Best is trial 2 with value: 3.0010241207241846.\n"
     ]
    },
    {
     "name": "stdout",
     "output_type": "stream",
     "text": [
      "Using device: cuda\n"
     ]
    },
    {
     "name": "stderr",
     "output_type": "stream",
     "text": [
      "[I 2025-09-29 15:42:07,327] Trial 5 finished with value: 3.479723757261441 and parameters: {'learning_rate': 0.0024779297803427464, 'batch_size': 60, 'seq_length': 13, 'dim_feedforward': 455, 'dropout': 0.011062607352148025, 'num_layers': 3}. Best is trial 2 with value: 3.0010241207241846.\n"
     ]
    },
    {
     "name": "stdout",
     "output_type": "stream",
     "text": [
      "Using device: cuda\n"
     ]
    },
    {
     "name": "stderr",
     "output_type": "stream",
     "text": [
      "[I 2025-09-29 15:42:17,402] Trial 6 finished with value: 3.5290421546138604 and parameters: {'learning_rate': 0.0004647674977772755, 'batch_size': 39, 'seq_length': 17, 'dim_feedforward': 202, 'dropout': 0.05776597925188734, 'num_layers': 5}. Best is trial 2 with value: 3.0010241207241846.\n"
     ]
    },
    {
     "name": "stdout",
     "output_type": "stream",
     "text": [
      "Using device: cuda\n"
     ]
    },
    {
     "name": "stderr",
     "output_type": "stream",
     "text": [
      "[I 2025-09-29 15:42:24,297] Trial 7 finished with value: 3.2961582985817515 and parameters: {'learning_rate': 0.00018128114913263933, 'batch_size': 30, 'seq_length': 6, 'dim_feedforward': 235, 'dropout': 0.07671381178278877, 'num_layers': 2}. Best is trial 2 with value: 3.0010241207241846.\n"
     ]
    },
    {
     "name": "stdout",
     "output_type": "stream",
     "text": [
      "Using device: cuda\n"
     ]
    },
    {
     "name": "stderr",
     "output_type": "stream",
     "text": [
      "[I 2025-09-29 15:42:32,471] Trial 8 finished with value: 3.4111685004837757 and parameters: {'learning_rate': 0.001391828804385173, 'batch_size': 51, 'seq_length': 5, 'dim_feedforward': 295, 'dropout': 0.08877820627109545, 'num_layers': 4}. Best is trial 2 with value: 3.0010241207241846.\n"
     ]
    },
    {
     "name": "stdout",
     "output_type": "stream",
     "text": [
      "Using device: cuda\n"
     ]
    },
    {
     "name": "stderr",
     "output_type": "stream",
     "text": [
      "[I 2025-09-29 15:42:53,115] Trial 9 finished with value: 3.3942134592147606 and parameters: {'learning_rate': 0.0004067493759741905, 'batch_size': 34, 'seq_length': 21, 'dim_feedforward': 427, 'dropout': 0.026807333065729345, 'num_layers': 5}. Best is trial 2 with value: 3.0010241207241846.\n"
     ]
    },
    {
     "name": "stdout",
     "output_type": "stream",
     "text": [
      "Using device: cuda\n"
     ]
    },
    {
     "name": "stderr",
     "output_type": "stream",
     "text": [
      "[I 2025-09-29 15:43:36,079] Trial 10 finished with value: 3.126725179584623 and parameters: {'learning_rate': 0.007905978285680668, 'batch_size': 8, 'seq_length': 9, 'dim_feedforward': 512, 'dropout': 0.0026464262396251118, 'num_layers': 1}. Best is trial 2 with value: 3.0010241207241846.\n"
     ]
    },
    {
     "name": "stdout",
     "output_type": "stream",
     "text": [
      "Using device: cuda\n"
     ]
    },
    {
     "name": "stderr",
     "output_type": "stream",
     "text": [
      "[I 2025-09-29 15:44:07,184] Trial 11 finished with value: 3.273344564915057 and parameters: {'learning_rate': 0.009863495564459876, 'batch_size': 10, 'seq_length': 9, 'dim_feedforward': 507, 'dropout': 0.0005313608502770968, 'num_layers': 1}. Best is trial 2 with value: 3.0010241207241846.\n"
     ]
    },
    {
     "name": "stdout",
     "output_type": "stream",
     "text": [
      "Using device: cuda\n"
     ]
    },
    {
     "name": "stderr",
     "output_type": "stream",
     "text": [
      "[I 2025-09-29 15:44:14,970] Trial 12 finished with value: 3.320261273194415 and parameters: {'learning_rate': 0.004642933932378061, 'batch_size': 21, 'seq_length': 10, 'dim_feedforward': 502, 'dropout': 0.02516420496024714, 'num_layers': 1}. Best is trial 2 with value: 3.0010241207241846.\n"
     ]
    },
    {
     "name": "stdout",
     "output_type": "stream",
     "text": [
      "Using device: cuda\n"
     ]
    },
    {
     "name": "stderr",
     "output_type": "stream",
     "text": [
      "[I 2025-09-29 15:44:42,131] Trial 13 finished with value: 3.1140008555771477 and parameters: {'learning_rate': 0.0044827987079312254, 'batch_size': 9, 'seq_length': 9, 'dim_feedforward': 367, 'dropout': 0.031994582568382224, 'num_layers': 1}. Best is trial 2 with value: 3.0010241207241846.\n"
     ]
    },
    {
     "name": "stdout",
     "output_type": "stream",
     "text": [
      "Using device: cuda\n"
     ]
    },
    {
     "name": "stderr",
     "output_type": "stream",
     "text": [
      "[I 2025-09-29 15:44:57,443] Trial 14 finished with value: 3.3225169292022287 and parameters: {'learning_rate': 0.0034336294468423805, 'batch_size': 21, 'seq_length': 15, 'dim_feedforward': 355, 'dropout': 0.02882538465301981, 'num_layers': 2}. Best is trial 2 with value: 3.0010241207241846.\n"
     ]
    },
    {
     "name": "stdout",
     "output_type": "stream",
     "text": [
      "Using device: cuda\n"
     ]
    },
    {
     "name": "stderr",
     "output_type": "stream",
     "text": [
      "[I 2025-09-29 15:45:18,738] Trial 15 finished with value: 3.218274017638666 and parameters: {'learning_rate': 0.004821173608091746, 'batch_size': 16, 'seq_length': 11, 'dim_feedforward': 338, 'dropout': 0.03603226452149999, 'num_layers': 2}. Best is trial 2 with value: 3.0010241207241846.\n"
     ]
    },
    {
     "name": "stdout",
     "output_type": "stream",
     "text": [
      "Using device: cuda\n"
     ]
    },
    {
     "name": "stderr",
     "output_type": "stream",
     "text": [
      "[I 2025-09-29 15:45:25,175] Trial 16 finished with value: 3.1077623658715168 and parameters: {'learning_rate': 0.005108084946811526, 'batch_size': 29, 'seq_length': 7, 'dim_feedforward': 416, 'dropout': 0.01776410884713855, 'num_layers': 1}. Best is trial 2 with value: 3.0010241207241846.\n"
     ]
    },
    {
     "name": "stdout",
     "output_type": "stream",
     "text": [
      "Using device: cuda\n"
     ]
    },
    {
     "name": "stderr",
     "output_type": "stream",
     "text": [
      "[I 2025-09-29 15:45:32,390] Trial 17 finished with value: 3.46125428129976 and parameters: {'learning_rate': 0.0019579527377547993, 'batch_size': 28, 'seq_length': 3, 'dim_feedforward': 438, 'dropout': 0.01347187015221402, 'num_layers': 2}. Best is trial 2 with value: 3.0010241207241846.\n"
     ]
    },
    {
     "name": "stdout",
     "output_type": "stream",
     "text": [
      "Using device: cuda\n"
     ]
    },
    {
     "name": "stderr",
     "output_type": "stream",
     "text": [
      "[I 2025-09-29 15:45:37,207] Trial 18 finished with value: 3.331650532392396 and parameters: {'learning_rate': 0.0007423606258110054, 'batch_size': 27, 'seq_length': 7, 'dim_feedforward': 401, 'dropout': 0.01670201076710633, 'num_layers': 1}. Best is trial 2 with value: 3.0010241207241846.\n"
     ]
    },
    {
     "name": "stdout",
     "output_type": "stream",
     "text": [
      "Using device: cuda\n"
     ]
    },
    {
     "name": "stderr",
     "output_type": "stream",
     "text": [
      "[I 2025-09-29 15:45:42,692] Trial 19 finished with value: 3.1661332713801027 and parameters: {'learning_rate': 0.00010233071240177725, 'batch_size': 49, 'seq_length': 12, 'dim_feedforward': 473, 'dropout': 0.05566187890463358, 'num_layers': 2}. Best is trial 2 with value: 3.0010241207241846.\n"
     ]
    },
    {
     "name": "stdout",
     "output_type": "stream",
     "text": [
      "Using device: cuda\n"
     ]
    },
    {
     "name": "stderr",
     "output_type": "stream",
     "text": [
      "[I 2025-09-29 15:45:48,536] Trial 20 finished with value: 3.198554250865741 and parameters: {'learning_rate': 0.006193009454441735, 'batch_size': 34, 'seq_length': 3, 'dim_feedforward': 412, 'dropout': 0.04200360202519187, 'num_layers': 1}. Best is trial 2 with value: 3.0010241207241846.\n"
     ]
    },
    {
     "name": "stdout",
     "output_type": "stream",
     "text": [
      "Using device: cuda\n"
     ]
    },
    {
     "name": "stderr",
     "output_type": "stream",
     "text": [
      "[I 2025-09-29 15:45:58,412] Trial 21 finished with value: 3.4064224172303974 and parameters: {'learning_rate': 0.0032219299792630805, 'batch_size': 15, 'seq_length': 7, 'dim_feedforward': 372, 'dropout': 0.02119041301649504, 'num_layers': 1}. Best is trial 2 with value: 3.0010241207241846.\n"
     ]
    },
    {
     "name": "stdout",
     "output_type": "stream",
     "text": [
      "Using device: cuda\n"
     ]
    },
    {
     "name": "stderr",
     "output_type": "stream",
     "text": [
      "[I 2025-09-29 15:46:37,256] Trial 22 finished with value: 3.252608183086312 and parameters: {'learning_rate': 0.004943032068737613, 'batch_size': 8, 'seq_length': 8, 'dim_feedforward': 320, 'dropout': 0.03516093487632313, 'num_layers': 1}. Best is trial 2 with value: 3.0010241207241846.\n"
     ]
    },
    {
     "name": "stdout",
     "output_type": "stream",
     "text": [
      "Using device: cuda\n"
     ]
    },
    {
     "name": "stderr",
     "output_type": "stream",
     "text": [
      "[I 2025-09-29 15:46:49,369] Trial 23 finished with value: 3.3204197436308314 and parameters: {'learning_rate': 0.003312603351005178, 'batch_size': 18, 'seq_length': 11, 'dim_feedforward': 470, 'dropout': 0.034751854671728886, 'num_layers': 2}. Best is trial 2 with value: 3.0010241207241846.\n"
     ]
    },
    {
     "name": "stdout",
     "output_type": "stream",
     "text": [
      "Using device: cuda\n"
     ]
    },
    {
     "name": "stderr",
     "output_type": "stream",
     "text": [
      "[I 2025-09-29 15:47:03,314] Trial 24 finished with value: 3.206630704103624 and parameters: {'learning_rate': 0.006506672550037614, 'batch_size': 25, 'seq_length': 15, 'dim_feedforward': 374, 'dropout': 0.009453156645302994, 'num_layers': 1}. Best is trial 2 with value: 3.0010241207241846.\n"
     ]
    },
    {
     "name": "stdout",
     "output_type": "stream",
     "text": [
      "Using device: cuda\n"
     ]
    },
    {
     "name": "stderr",
     "output_type": "stream",
     "text": [
      "[I 2025-09-29 15:47:20,602] Trial 25 finished with value: 3.404450165675206 and parameters: {'learning_rate': 0.0023707726365779732, 'batch_size': 12, 'seq_length': 5, 'dim_feedforward': 130, 'dropout': 0.04660656392277736, 'num_layers': 2}. Best is trial 2 with value: 3.0010241207241846.\n"
     ]
    },
    {
     "name": "stdout",
     "output_type": "stream",
     "text": [
      "Using device: cuda\n"
     ]
    },
    {
     "name": "stderr",
     "output_type": "stream",
     "text": [
      "[I 2025-09-29 15:47:25,915] Trial 26 finished with value: 3.093746695158865 and parameters: {'learning_rate': 0.001458095406897964, 'batch_size': 23, 'seq_length': 10, 'dim_feedforward': 323, 'dropout': 0.020138105296764894, 'num_layers': 1}. Best is trial 2 with value: 3.0010241207241846.\n"
     ]
    },
    {
     "name": "stdout",
     "output_type": "stream",
     "text": [
      "Using device: cuda\n"
     ]
    },
    {
     "name": "stderr",
     "output_type": "stream",
     "text": [
      "[I 2025-09-29 15:47:34,120] Trial 27 finished with value: 3.396964734065084 and parameters: {'learning_rate': 0.0013825743913576814, 'batch_size': 31, 'seq_length': 12, 'dim_feedforward': 474, 'dropout': 0.02146827143696959, 'num_layers': 2}. Best is trial 2 with value: 3.0010241207241846.\n"
     ]
    },
    {
     "name": "stdout",
     "output_type": "stream",
     "text": [
      "Using device: cuda\n"
     ]
    },
    {
     "name": "stderr",
     "output_type": "stream",
     "text": [
      "[I 2025-09-29 15:47:45,689] Trial 28 finished with value: 3.4742523896024036 and parameters: {'learning_rate': 0.0008037734846651791, 'batch_size': 25, 'seq_length': 16, 'dim_feedforward': 308, 'dropout': 0.006401219255842749, 'num_layers': 4}. Best is trial 2 with value: 3.0010241207241846.\n"
     ]
    },
    {
     "name": "stdout",
     "output_type": "stream",
     "text": [
      "Using device: cuda\n"
     ]
    },
    {
     "name": "stderr",
     "output_type": "stream",
     "text": [
      "[I 2025-09-29 15:48:07,931] Trial 29 finished with value: 3.5448778716025795 and parameters: {'learning_rate': 0.0017835537226105343, 'batch_size': 20, 'seq_length': 13, 'dim_feedforward': 243, 'dropout': 0.016876305385052782, 'num_layers': 4}. Best is trial 2 with value: 3.0010241207241846.\n"
     ]
    },
    {
     "name": "stdout",
     "output_type": "stream",
     "text": [
      "Using device: cuda\n"
     ]
    },
    {
     "name": "stderr",
     "output_type": "stream",
     "text": [
      "[I 2025-09-29 15:48:16,531] Trial 30 finished with value: 3.2640994245446557 and parameters: {'learning_rate': 0.002730115994643764, 'batch_size': 23, 'seq_length': 10, 'dim_feedforward': 441, 'dropout': 0.055657889632201495, 'num_layers': 1}. Best is trial 2 with value: 3.0010241207241846.\n"
     ]
    },
    {
     "name": "stdout",
     "output_type": "stream",
     "text": [
      "Using device: cuda\n"
     ]
    },
    {
     "name": "stderr",
     "output_type": "stream",
     "text": [
      "[I 2025-09-29 15:48:34,200] Trial 31 finished with value: 3.203176306872228 and parameters: {'learning_rate': 0.004199305154459356, 'batch_size': 12, 'seq_length': 9, 'dim_feedforward': 329, 'dropout': 0.0304802505916211, 'num_layers': 1}. Best is trial 2 with value: 3.0010241207241846.\n"
     ]
    },
    {
     "name": "stdout",
     "output_type": "stream",
     "text": [
      "Using device: cuda\n"
     ]
    },
    {
     "name": "stderr",
     "output_type": "stream",
     "text": [
      "[I 2025-09-29 15:48:48,552] Trial 32 finished with value: 3.0638699780919065 and parameters: {'learning_rate': 0.007426606746371314, 'batch_size': 17, 'seq_length': 7, 'dim_feedforward': 342, 'dropout': 0.021028205976819193, 'num_layers': 1}. Best is trial 2 with value: 3.0010241207241846.\n"
     ]
    },
    {
     "name": "stdout",
     "output_type": "stream",
     "text": [
      "Using device: cuda\n"
     ]
    },
    {
     "name": "stderr",
     "output_type": "stream",
     "text": [
      "[I 2025-09-29 15:49:00,015] Trial 33 finished with value: 3.341486907200704 and parameters: {'learning_rate': 0.00649227126083594, 'batch_size': 18, 'seq_length': 5, 'dim_feedforward': 290, 'dropout': 0.018323892199611797, 'num_layers': 1}. Best is trial 2 with value: 3.0010241207241846.\n"
     ]
    },
    {
     "name": "stdout",
     "output_type": "stream",
     "text": [
      "Using device: cuda\n"
     ]
    },
    {
     "name": "stderr",
     "output_type": "stream",
     "text": [
      "[I 2025-09-29 15:49:08,685] Trial 34 finished with value: 3.443668791292299 and parameters: {'learning_rate': 0.007457195013319058, 'batch_size': 24, 'seq_length': 7, 'dim_feedforward': 340, 'dropout': 0.022415066984698022, 'num_layers': 1}. Best is trial 2 with value: 3.0010241207241846.\n"
     ]
    },
    {
     "name": "stdout",
     "output_type": "stream",
     "text": [
      "Using device: cuda\n"
     ]
    },
    {
     "name": "stderr",
     "output_type": "stream",
     "text": [
      "[I 2025-09-29 15:49:49,401] Trial 35 finished with value: 5.473182778762079 and parameters: {'learning_rate': 0.009240392352959457, 'batch_size': 16, 'seq_length': 11, 'dim_feedforward': 398, 'dropout': 0.03913153606650313, 'num_layers': 2}. Best is trial 2 with value: 3.0010241207241846.\n"
     ]
    },
    {
     "name": "stdout",
     "output_type": "stream",
     "text": [
      "Using device: cuda\n"
     ]
    },
    {
     "name": "stderr",
     "output_type": "stream",
     "text": [
      "[I 2025-09-29 15:49:56,774] Trial 36 finished with value: 3.448602189506273 and parameters: {'learning_rate': 0.00029142663743294455, 'batch_size': 39, 'seq_length': 14, 'dim_feedforward': 254, 'dropout': 0.012449927537273142, 'num_layers': 3}. Best is trial 2 with value: 3.0010241207241846.\n"
     ]
    },
    {
     "name": "stdout",
     "output_type": "stream",
     "text": [
      "Using device: cuda\n"
     ]
    },
    {
     "name": "stderr",
     "output_type": "stream",
     "text": [
      "[I 2025-09-29 15:50:06,808] Trial 37 finished with value: 3.444800240915604 and parameters: {'learning_rate': 0.001524274574737589, 'batch_size': 30, 'seq_length': 6, 'dim_feedforward': 273, 'dropout': 0.005502665660889333, 'num_layers': 3}. Best is trial 2 with value: 3.0010241207241846.\n"
     ]
    },
    {
     "name": "stdout",
     "output_type": "stream",
     "text": [
      "Using device: cuda\n"
     ]
    },
    {
     "name": "stderr",
     "output_type": "stream",
     "text": [
      "[I 2025-09-29 15:50:21,339] Trial 38 finished with value: 3.1431545663578433 and parameters: {'learning_rate': 0.0010368265784631023, 'batch_size': 13, 'seq_length': 8, 'dim_feedforward': 202, 'dropout': 0.04698009284063927, 'num_layers': 1}. Best is trial 2 with value: 3.0010241207241846.\n"
     ]
    },
    {
     "name": "stdout",
     "output_type": "stream",
     "text": [
      "Using device: cuda\n"
     ]
    },
    {
     "name": "stderr",
     "output_type": "stream",
     "text": [
      "[I 2025-09-29 15:50:27,148] Trial 39 finished with value: 3.326379853352636 and parameters: {'learning_rate': 0.005882483288086188, 'batch_size': 44, 'seq_length': 13, 'dim_feedforward': 422, 'dropout': 0.0619339231741148, 'num_layers': 2}. Best is trial 2 with value: 3.0010241207241846.\n"
     ]
    },
    {
     "name": "stdout",
     "output_type": "stream",
     "text": [
      "Using device: cuda\n"
     ]
    },
    {
     "name": "stderr",
     "output_type": "stream",
     "text": [
      "[I 2025-09-29 15:50:31,028] Trial 40 finished with value: 3.1783726131543144 and parameters: {'learning_rate': 0.002593544384423781, 'batch_size': 62, 'seq_length': 4, 'dim_feedforward': 385, 'dropout': 0.027383313159097006, 'num_layers': 1}. Best is trial 2 with value: 3.0010241207241846.\n"
     ]
    },
    {
     "name": "stdout",
     "output_type": "stream",
     "text": [
      "Using device: cuda\n"
     ]
    },
    {
     "name": "stderr",
     "output_type": "stream",
     "text": [
      "[I 2025-09-29 15:50:42,339] Trial 41 finished with value: 3.2424167619955444 and parameters: {'learning_rate': 0.0034838030910725104, 'batch_size': 18, 'seq_length': 8, 'dim_feedforward': 359, 'dropout': 0.03063836208921906, 'num_layers': 1}. Best is trial 2 with value: 3.0010241207241846.\n"
     ]
    },
    {
     "name": "stdout",
     "output_type": "stream",
     "text": [
      "Using device: cuda\n"
     ]
    },
    {
     "name": "stderr",
     "output_type": "stream",
     "text": [
      "[I 2025-09-29 15:51:11,242] Trial 42 finished with value: 3.3277891294232793 and parameters: {'learning_rate': 0.004035780384180086, 'batch_size': 10, 'seq_length': 10, 'dim_feedforward': 304, 'dropout': 0.015161295854103595, 'num_layers': 1}. Best is trial 2 with value: 3.0010241207241846.\n"
     ]
    },
    {
     "name": "stdout",
     "output_type": "stream",
     "text": [
      "Using device: cuda\n"
     ]
    },
    {
     "name": "stderr",
     "output_type": "stream",
     "text": [
      "[I 2025-09-29 15:51:31,019] Trial 43 finished with value: 3.215176770083742 and parameters: {'learning_rate': 0.00567096269478203, 'batch_size': 13, 'seq_length': 6, 'dim_feedforward': 360, 'dropout': 0.02447579447357406, 'num_layers': 1}. Best is trial 2 with value: 3.0010241207241846.\n"
     ]
    },
    {
     "name": "stdout",
     "output_type": "stream",
     "text": [
      "Using device: cuda\n"
     ]
    },
    {
     "name": "stderr",
     "output_type": "stream",
     "text": [
      "[I 2025-09-29 15:51:40,577] Trial 44 finished with value: 3.1744618734504586 and parameters: {'learning_rate': 0.007406383344544445, 'batch_size': 20, 'seq_length': 9, 'dim_feedforward': 347, 'dropout': 0.07896143784878681, 'num_layers': 1}. Best is trial 2 with value: 3.0010241207241846.\n"
     ]
    },
    {
     "name": "stdout",
     "output_type": "stream",
     "text": [
      "Using device: cuda\n"
     ]
    },
    {
     "name": "stderr",
     "output_type": "stream",
     "text": [
      "[I 2025-09-29 15:52:04,675] Trial 45 finished with value: 3.4764620991947868 and parameters: {'learning_rate': 0.0005868251249728112, 'batch_size': 8, 'seq_length': 10, 'dim_feedforward': 283, 'dropout': 0.032123865711023755, 'num_layers': 2}. Best is trial 2 with value: 3.0010241207241846.\n"
     ]
    },
    {
     "name": "stdout",
     "output_type": "stream",
     "text": [
      "Using device: cuda\n"
     ]
    },
    {
     "name": "stderr",
     "output_type": "stream",
     "text": [
      "[I 2025-09-29 15:52:26,862] Trial 46 finished with value: 8.005834662712404 and parameters: {'learning_rate': 0.009542403401772492, 'batch_size': 22, 'seq_length': 8, 'dim_feedforward': 491, 'dropout': 0.04018908395499296, 'num_layers': 5}. Best is trial 2 with value: 3.0010241207241846.\n"
     ]
    },
    {
     "name": "stdout",
     "output_type": "stream",
     "text": [
      "Using device: cuda\n"
     ]
    },
    {
     "name": "stderr",
     "output_type": "stream",
     "text": [
      "[I 2025-09-29 15:52:34,015] Trial 47 finished with value: 3.1714781199785587 and parameters: {'learning_rate': 0.0022514893201282227, 'batch_size': 27, 'seq_length': 12, 'dim_feedforward': 320, 'dropout': 0.009627899961212476, 'num_layers': 1}. Best is trial 2 with value: 3.0010241207241846.\n"
     ]
    },
    {
     "name": "stdout",
     "output_type": "stream",
     "text": [
      "Using device: cuda\n"
     ]
    },
    {
     "name": "stderr",
     "output_type": "stream",
     "text": [
      "[I 2025-09-29 15:52:52,463] Trial 48 finished with value: 3.237818666327392 and parameters: {'learning_rate': 0.0050869137048406, 'batch_size': 16, 'seq_length': 6, 'dim_feedforward': 450, 'dropout': 0.02026200555171722, 'num_layers': 1}. Best is trial 2 with value: 3.0010241207241846.\n"
     ]
    },
    {
     "name": "stdout",
     "output_type": "stream",
     "text": [
      "Using device: cuda\n"
     ]
    },
    {
     "name": "stderr",
     "output_type": "stream",
     "text": [
      "[I 2025-09-29 15:53:39,547] Trial 49 finished with value: 3.080003805566931 and parameters: {'learning_rate': 0.003991458352791616, 'batch_size': 10, 'seq_length': 14, 'dim_feedforward': 408, 'dropout': 0.09743142612781927, 'num_layers': 2}. Best is trial 2 with value: 3.0010241207241846.\n"
     ]
    },
    {
     "name": "stdout",
     "output_type": "stream",
     "text": [
      "Using device: cuda\n"
     ]
    },
    {
     "name": "stderr",
     "output_type": "stream",
     "text": [
      "[I 2025-09-29 15:53:49,648] Trial 50 finished with value: 3.3384715436438195 and parameters: {'learning_rate': 0.003813419139350961, 'batch_size': 34, 'seq_length': 14, 'dim_feedforward': 416, 'dropout': 0.09795642908625961, 'num_layers': 2}. Best is trial 2 with value: 3.0010241207241846.\n"
     ]
    },
    {
     "name": "stdout",
     "output_type": "stream",
     "text": [
      "Using device: cuda\n"
     ]
    },
    {
     "name": "stderr",
     "output_type": "stream",
     "text": [
      "[I 2025-09-29 15:54:06,650] Trial 51 finished with value: 3.027713644305698 and parameters: {'learning_rate': 0.0030641179983092962, 'batch_size': 10, 'seq_length': 18, 'dim_feedforward': 385, 'dropout': 0.08925951892837275, 'num_layers': 1}. Best is trial 2 with value: 3.0010241207241846.\n"
     ]
    },
    {
     "name": "stdout",
     "output_type": "stream",
     "text": [
      "Using device: cuda\n"
     ]
    },
    {
     "name": "stderr",
     "output_type": "stream",
     "text": [
      "[I 2025-09-29 15:54:20,576] Trial 52 finished with value: 3.0191939330196633 and parameters: {'learning_rate': 0.002883809511195709, 'batch_size': 11, 'seq_length': 19, 'dim_feedforward': 388, 'dropout': 0.08375021623439088, 'num_layers': 1}. Best is trial 2 with value: 3.0010241207241846.\n"
     ]
    },
    {
     "name": "stdout",
     "output_type": "stream",
     "text": [
      "Using device: cuda\n"
     ]
    },
    {
     "name": "stderr",
     "output_type": "stream",
     "text": [
      "[I 2025-09-29 15:54:36,364] Trial 53 finished with value: 3.1656837795545947 and parameters: {'learning_rate': 0.0028769812584641665, 'batch_size': 12, 'seq_length': 19, 'dim_feedforward': 385, 'dropout': 0.09039813996690177, 'num_layers': 2}. Best is trial 2 with value: 3.0010241207241846.\n"
     ]
    },
    {
     "name": "stdout",
     "output_type": "stream",
     "text": [
      "Using device: cuda\n"
     ]
    },
    {
     "name": "stderr",
     "output_type": "stream",
     "text": [
      "[I 2025-09-29 15:55:02,484] Trial 54 finished with value: 3.190783477921153 and parameters: {'learning_rate': 0.0015637595867224194, 'batch_size': 10, 'seq_length': 21, 'dim_feedforward': 392, 'dropout': 0.08200343814838718, 'num_layers': 1}. Best is trial 2 with value: 3.0010241207241846.\n"
     ]
    },
    {
     "name": "stdout",
     "output_type": "stream",
     "text": [
      "Using device: cuda\n"
     ]
    },
    {
     "name": "stderr",
     "output_type": "stream",
     "text": [
      "[I 2025-09-29 15:55:12,208] Trial 55 finished with value: 3.47153300495691 and parameters: {'learning_rate': 0.0011914207013689216, 'batch_size': 14, 'seq_length': 18, 'dim_feedforward': 405, 'dropout': 0.0696583164610117, 'num_layers': 1}. Best is trial 2 with value: 3.0010241207241846.\n"
     ]
    },
    {
     "name": "stdout",
     "output_type": "stream",
     "text": [
      "Using device: cuda\n"
     ]
    },
    {
     "name": "stderr",
     "output_type": "stream",
     "text": [
      "[I 2025-09-29 15:55:43,737] Trial 56 finished with value: 3.424244448897152 and parameters: {'learning_rate': 0.0019455702878287415, 'batch_size': 11, 'seq_length': 20, 'dim_feedforward': 373, 'dropout': 0.08565390449821203, 'num_layers': 3}. Best is trial 2 with value: 3.0010241207241846.\n"
     ]
    },
    {
     "name": "stdout",
     "output_type": "stream",
     "text": [
      "Using device: cuda\n"
     ]
    },
    {
     "name": "stderr",
     "output_type": "stream",
     "text": [
      "[I 2025-09-29 15:55:53,738] Trial 57 finished with value: 3.147070205067327 and parameters: {'learning_rate': 0.003194858579949033, 'batch_size': 15, 'seq_length': 17, 'dim_feedforward': 346, 'dropout': 0.09459985061530457, 'num_layers': 1}. Best is trial 2 with value: 3.0010241207241846.\n"
     ]
    },
    {
     "name": "stdout",
     "output_type": "stream",
     "text": [
      "Using device: cuda\n"
     ]
    },
    {
     "name": "stderr",
     "output_type": "stream",
     "text": [
      "[I 2025-09-29 15:56:15,587] Trial 58 finished with value: 3.208837204919108 and parameters: {'learning_rate': 0.0022396165552229143, 'batch_size': 17, 'seq_length': 20, 'dim_feedforward': 432, 'dropout': 0.09242031089439338, 'num_layers': 2}. Best is trial 2 with value: 3.0010241207241846.\n"
     ]
    },
    {
     "name": "stdout",
     "output_type": "stream",
     "text": [
      "Using device: cuda\n"
     ]
    },
    {
     "name": "stderr",
     "output_type": "stream",
     "text": [
      "[I 2025-09-29 15:56:30,766] Trial 59 finished with value: 3.027884243010086 and parameters: {'learning_rate': 0.003907847122453435, 'batch_size': 10, 'seq_length': 18, 'dim_feedforward': 329, 'dropout': 0.0987787696584525, 'num_layers': 1}. Best is trial 2 with value: 3.0010241207241846.\n"
     ]
    },
    {
     "name": "stdout",
     "output_type": "stream",
     "text": [
      "Using device: cuda\n"
     ]
    },
    {
     "name": "stderr",
     "output_type": "stream",
     "text": [
      "[I 2025-09-29 15:57:39,090] Trial 60 finished with value: 3.1655621088075256 and parameters: {'learning_rate': 0.004213004693378151, 'batch_size': 8, 'seq_length': 17, 'dim_feedforward': 459, 'dropout': 0.09746895371106154, 'num_layers': 2}. Best is trial 2 with value: 3.0010241207241846.\n"
     ]
    },
    {
     "name": "stdout",
     "output_type": "stream",
     "text": [
      "Using device: cuda\n"
     ]
    },
    {
     "name": "stderr",
     "output_type": "stream",
     "text": [
      "[I 2025-09-29 15:57:53,787] Trial 61 finished with value: 3.3426347911853007 and parameters: {'learning_rate': 0.0027435990285805574, 'batch_size': 14, 'seq_length': 18, 'dim_feedforward': 330, 'dropout': 0.08712501433293018, 'num_layers': 1}. Best is trial 2 with value: 3.0010241207241846.\n"
     ]
    },
    {
     "name": "stdout",
     "output_type": "stream",
     "text": [
      "Using device: cuda\n"
     ]
    },
    {
     "name": "stderr",
     "output_type": "stream",
     "text": [
      "[I 2025-09-29 15:58:19,734] Trial 62 finished with value: 3.129177232983605 and parameters: {'learning_rate': 0.005419962408726463, 'batch_size': 10, 'seq_length': 16, 'dim_feedforward': 309, 'dropout': 0.0991593710318723, 'num_layers': 1}. Best is trial 2 with value: 3.0010241207241846.\n"
     ]
    },
    {
     "name": "stdout",
     "output_type": "stream",
     "text": [
      "Using device: cuda\n"
     ]
    },
    {
     "name": "stderr",
     "output_type": "stream",
     "text": [
      "[I 2025-09-29 15:58:27,383] Trial 63 finished with value: 3.078595776806461 and parameters: {'learning_rate': 0.008006836956814192, 'batch_size': 57, 'seq_length': 19, 'dim_feedforward': 381, 'dropout': 0.08418600942221928, 'num_layers': 1}. Best is trial 2 with value: 3.0010241207241846.\n"
     ]
    },
    {
     "name": "stdout",
     "output_type": "stream",
     "text": [
      "Using device: cuda\n"
     ]
    },
    {
     "name": "stderr",
     "output_type": "stream",
     "text": [
      "[I 2025-09-29 15:58:35,477] Trial 64 finished with value: 3.2090229347070793 and parameters: {'learning_rate': 0.00746199776955677, 'batch_size': 54, 'seq_length': 20, 'dim_feedforward': 377, 'dropout': 0.07425231336451535, 'num_layers': 1}. Best is trial 2 with value: 3.0010241207241846.\n"
     ]
    },
    {
     "name": "stdout",
     "output_type": "stream",
     "text": [
      "Using device: cuda\n"
     ]
    },
    {
     "name": "stderr",
     "output_type": "stream",
     "text": [
      "[I 2025-09-29 15:59:10,633] Trial 65 finished with value: 3.228118209016246 and parameters: {'learning_rate': 0.008417261238821952, 'batch_size': 11, 'seq_length': 19, 'dim_feedforward': 353, 'dropout': 0.09463836610079629, 'num_layers': 1}. Best is trial 2 with value: 3.0010241207241846.\n"
     ]
    },
    {
     "name": "stdout",
     "output_type": "stream",
     "text": [
      "Using device: cuda\n"
     ]
    },
    {
     "name": "stderr",
     "output_type": "stream",
     "text": [
      "[I 2025-09-29 15:59:17,631] Trial 66 finished with value: 3.2166130162809283 and parameters: {'learning_rate': 0.004440652461050668, 'batch_size': 50, 'seq_length': 16, 'dim_feedforward': 496, 'dropout': 0.08054801807469848, 'num_layers': 1}. Best is trial 2 with value: 3.0010241207241846.\n"
     ]
    },
    {
     "name": "stdout",
     "output_type": "stream",
     "text": [
      "Using device: cuda\n"
     ]
    },
    {
     "name": "stderr",
     "output_type": "stream",
     "text": [
      "[I 2025-09-29 15:59:25,798] Trial 67 finished with value: 3.151791876632452 and parameters: {'learning_rate': 0.0069696360232830625, 'batch_size': 44, 'seq_length': 19, 'dim_feedforward': 363, 'dropout': 0.08402513248662749, 'num_layers': 1}. Best is trial 2 with value: 3.0010241207241846.\n"
     ]
    },
    {
     "name": "stdout",
     "output_type": "stream",
     "text": [
      "Using device: cuda\n"
     ]
    },
    {
     "name": "stderr",
     "output_type": "stream",
     "text": [
      "[I 2025-09-29 15:59:34,327] Trial 68 finished with value: 3.18853637685079 and parameters: {'learning_rate': 0.008575030998736636, 'batch_size': 47, 'seq_length': 15, 'dim_feedforward': 406, 'dropout': 0.08998648397819625, 'num_layers': 1}. Best is trial 2 with value: 3.0010241207241846.\n"
     ]
    },
    {
     "name": "stdout",
     "output_type": "stream",
     "text": [
      "Using device: cuda\n"
     ]
    },
    {
     "name": "stderr",
     "output_type": "stream",
     "text": [
      "[I 2025-09-29 15:59:47,025] Trial 69 finished with value: 3.3578355041994445 and parameters: {'learning_rate': 0.003625617901462527, 'batch_size': 38, 'seq_length': 18, 'dim_feedforward': 392, 'dropout': 0.07445256667665512, 'num_layers': 2}. Best is trial 2 with value: 3.0010241207241846.\n"
     ]
    },
    {
     "name": "stdout",
     "output_type": "stream",
     "text": [
      "Using device: cuda\n"
     ]
    },
    {
     "name": "stderr",
     "output_type": "stream",
     "text": [
      "[I 2025-09-29 15:59:54,330] Trial 70 finished with value: 3.117105069383528 and parameters: {'learning_rate': 0.0062224730046301305, 'batch_size': 58, 'seq_length': 18, 'dim_feedforward': 335, 'dropout': 0.09266534940594018, 'num_layers': 1}. Best is trial 2 with value: 3.0010241207241846.\n"
     ]
    },
    {
     "name": "stdout",
     "output_type": "stream",
     "text": [
      "Using device: cuda\n"
     ]
    },
    {
     "name": "stderr",
     "output_type": "stream",
     "text": [
      "[I 2025-09-29 16:00:26,322] Trial 71 finished with value: 3.238628412181874 and parameters: {'learning_rate': 0.002927941661090758, 'batch_size': 9, 'seq_length': 13, 'dim_feedforward': 322, 'dropout': 0.09978395101236441, 'num_layers': 1}. Best is trial 2 with value: 3.0010241207241846.\n"
     ]
    },
    {
     "name": "stdout",
     "output_type": "stream",
     "text": [
      "Using device: cuda\n"
     ]
    },
    {
     "name": "stderr",
     "output_type": "stream",
     "text": [
      "[I 2025-09-29 16:00:41,502] Trial 72 finished with value: 3.1072087212723867 and parameters: {'learning_rate': 0.004905180931548434, 'batch_size': 19, 'seq_length': 20, 'dim_feedforward': 383, 'dropout': 0.08662535389916323, 'num_layers': 1}. Best is trial 2 with value: 3.0010241207241846.\n"
     ]
    },
    {
     "name": "stdout",
     "output_type": "stream",
     "text": [
      "Using device: cuda\n"
     ]
    },
    {
     "name": "stderr",
     "output_type": "stream",
     "text": [
      "[I 2025-09-29 16:01:02,947] Trial 73 finished with value: 3.1783355768374344 and parameters: {'learning_rate': 0.0008591614058768834, 'batch_size': 13, 'seq_length': 21, 'dim_feedforward': 300, 'dropout': 0.05022745853176959, 'num_layers': 1}. Best is trial 2 with value: 3.0010241207241846.\n"
     ]
    },
    {
     "name": "stdout",
     "output_type": "stream",
     "text": [
      "Using device: cuda\n"
     ]
    },
    {
     "name": "stderr",
     "output_type": "stream",
     "text": [
      "[I 2025-09-29 16:01:13,703] Trial 74 finished with value: 3.1117984638332827 and parameters: {'learning_rate': 0.0017436076264683703, 'batch_size': 16, 'seq_length': 14, 'dim_feedforward': 367, 'dropout': 0.08920340070609777, 'num_layers': 1}. Best is trial 2 with value: 3.0010241207241846.\n"
     ]
    },
    {
     "name": "stdout",
     "output_type": "stream",
     "text": [
      "Using device: cuda\n"
     ]
    },
    {
     "name": "stderr",
     "output_type": "stream",
     "text": [
      "[I 2025-09-29 16:01:29,759] Trial 75 finished with value: 3.0576510585557397 and parameters: {'learning_rate': 0.00307035850056566, 'batch_size': 11, 'seq_length': 17, 'dim_feedforward': 343, 'dropout': 0.09600168093336912, 'num_layers': 1}. Best is trial 2 with value: 3.0010241207241846.\n"
     ]
    },
    {
     "name": "stdout",
     "output_type": "stream",
     "text": [
      "Using device: cuda\n"
     ]
    },
    {
     "name": "stderr",
     "output_type": "stream",
     "text": [
      "[I 2025-09-29 16:01:50,058] Trial 76 finished with value: 3.089226816556511 and parameters: {'learning_rate': 0.003701709959665077, 'batch_size': 11, 'seq_length': 17, 'dim_feedforward': 354, 'dropout': 0.09526738463280646, 'num_layers': 1}. Best is trial 2 with value: 3.0010241207241846.\n"
     ]
    },
    {
     "name": "stdout",
     "output_type": "stream",
     "text": [
      "Using device: cuda\n"
     ]
    },
    {
     "name": "stderr",
     "output_type": "stream",
     "text": [
      "[I 2025-09-29 16:02:24,114] Trial 77 finished with value: 8.018224626824233 and parameters: {'learning_rate': 0.003143857277418071, 'batch_size': 8, 'seq_length': 15, 'dim_feedforward': 430, 'dropout': 0.08276650523039658, 'num_layers': 4}. Best is trial 2 with value: 3.0010241207241846.\n"
     ]
    },
    {
     "name": "stdout",
     "output_type": "stream",
     "text": [
      "Using device: cuda\n"
     ]
    },
    {
     "name": "stderr",
     "output_type": "stream",
     "text": [
      "[I 2025-09-29 16:02:37,685] Trial 78 finished with value: 3.12906417896627 and parameters: {'learning_rate': 0.002415530796632337, 'batch_size': 14, 'seq_length': 16, 'dim_feedforward': 341, 'dropout': 0.09254765627934944, 'num_layers': 1}. Best is trial 2 with value: 3.0010241207241846.\n"
     ]
    },
    {
     "name": "stdout",
     "output_type": "stream",
     "text": [
      "Using device: cuda\n"
     ]
    },
    {
     "name": "stderr",
     "output_type": "stream",
     "text": [
      "[I 2025-09-29 16:02:46,217] Trial 79 finished with value: 3.2790313384579077 and parameters: {'learning_rate': 0.00585612805953686, 'batch_size': 55, 'seq_length': 19, 'dim_feedforward': 395, 'dropout': 0.07740242133626876, 'num_layers': 2}. Best is trial 2 with value: 3.0010241207241846.\n"
     ]
    },
    {
     "name": "stdout",
     "output_type": "stream",
     "text": [
      "Using device: cuda\n"
     ]
    },
    {
     "name": "stderr",
     "output_type": "stream",
     "text": [
      "[I 2025-09-29 16:03:05,927] Trial 80 finished with value: 3.0881509639665325 and parameters: {'learning_rate': 0.004730041594619153, 'batch_size': 12, 'seq_length': 17, 'dim_feedforward': 483, 'dropout': 0.0966381293071829, 'num_layers': 1}. Best is trial 2 with value: 3.0010241207241846.\n"
     ]
    },
    {
     "name": "stdout",
     "output_type": "stream",
     "text": [
      "Using device: cuda\n"
     ]
    },
    {
     "name": "stderr",
     "output_type": "stream",
     "text": [
      "[I 2025-09-29 16:03:28,989] Trial 81 finished with value: 3.1814578613618547 and parameters: {'learning_rate': 0.004540676227398018, 'batch_size': 12, 'seq_length': 17, 'dim_feedforward': 484, 'dropout': 0.09755628397566078, 'num_layers': 1}. Best is trial 2 with value: 3.0010241207241846.\n"
     ]
    },
    {
     "name": "stdout",
     "output_type": "stream",
     "text": [
      "Using device: cuda\n"
     ]
    },
    {
     "name": "stderr",
     "output_type": "stream",
     "text": [
      "[I 2025-09-29 16:03:57,730] Trial 82 finished with value: 3.0003390376632764 and parameters: {'learning_rate': 0.006699510228516179, 'batch_size': 10, 'seq_length': 18, 'dim_feedforward': 511, 'dropout': 0.0960344805347917, 'num_layers': 1}. Best is trial 82 with value: 3.0003390376632764.\n"
     ]
    },
    {
     "name": "stdout",
     "output_type": "stream",
     "text": [
      "Using device: cuda\n"
     ]
    },
    {
     "name": "stderr",
     "output_type": "stream",
     "text": [
      "[I 2025-09-29 16:04:25,206] Trial 83 finished with value: 3.0846584340784204 and parameters: {'learning_rate': 0.008132854691168872, 'batch_size': 9, 'seq_length': 18, 'dim_feedforward': 510, 'dropout': 0.09071177408178088, 'num_layers': 1}. Best is trial 82 with value: 3.0003390376632764.\n"
     ]
    },
    {
     "name": "stdout",
     "output_type": "stream",
     "text": [
      "Using device: cuda\n"
     ]
    },
    {
     "name": "stderr",
     "output_type": "stream",
     "text": [
      "[I 2025-09-29 16:04:42,932] Trial 84 finished with value: 7.724452155555957 and parameters: {'learning_rate': 0.00693041336253394, 'batch_size': 15, 'seq_length': 20, 'dim_feedforward': 447, 'dropout': 0.08815080856491898, 'num_layers': 3}. Best is trial 82 with value: 3.0003390376632764.\n"
     ]
    },
    {
     "name": "stdout",
     "output_type": "stream",
     "text": [
      "Using device: cuda\n"
     ]
    },
    {
     "name": "stderr",
     "output_type": "stream",
     "text": [
      "[I 2025-09-29 16:05:15,534] Trial 85 finished with value: 3.2201779146643896 and parameters: {'learning_rate': 0.009809178555539179, 'batch_size': 9, 'seq_length': 18, 'dim_feedforward': 501, 'dropout': 0.08452387171708399, 'num_layers': 1}. Best is trial 82 with value: 3.0003390376632764.\n"
     ]
    },
    {
     "name": "stdout",
     "output_type": "stream",
     "text": [
      "Using device: cuda\n"
     ]
    },
    {
     "name": "stderr",
     "output_type": "stream",
     "text": [
      "[I 2025-09-29 16:05:38,632] Trial 86 finished with value: 3.1471174685267287 and parameters: {'learning_rate': 0.005290492071673292, 'batch_size': 10, 'seq_length': 19, 'dim_feedforward': 468, 'dropout': 0.0925582194952702, 'num_layers': 1}. Best is trial 82 with value: 3.0003390376632764.\n"
     ]
    },
    {
     "name": "stdout",
     "output_type": "stream",
     "text": [
      "Using device: cuda\n"
     ]
    },
    {
     "name": "stderr",
     "output_type": "stream",
     "text": [
      "[I 2025-09-29 16:05:55,318] Trial 87 finished with value: 3.2834773617953927 and parameters: {'learning_rate': 0.00010845208494672818, 'batch_size': 14, 'seq_length': 13, 'dim_feedforward': 417, 'dropout': 0.06195737640762782, 'num_layers': 1}. Best is trial 82 with value: 3.0003390376632764.\n"
     ]
    },
    {
     "name": "stdout",
     "output_type": "stream",
     "text": [
      "Using device: cuda\n"
     ]
    },
    {
     "name": "stderr",
     "output_type": "stream",
     "text": [
      "[I 2025-09-29 16:06:08,699] Trial 88 finished with value: 3.2315536145981114 and parameters: {'learning_rate': 0.0039907346837110905, 'batch_size': 17, 'seq_length': 15, 'dim_feedforward': 461, 'dropout': 0.09441151644160037, 'num_layers': 1}. Best is trial 82 with value: 3.0003390376632764.\n"
     ]
    },
    {
     "name": "stdout",
     "output_type": "stream",
     "text": [
      "Using device: cuda\n"
     ]
    },
    {
     "name": "stderr",
     "output_type": "stream",
     "text": [
      "[I 2025-09-29 16:06:29,548] Trial 89 finished with value: 3.1916032564064856 and parameters: {'learning_rate': 0.006403846565733592, 'batch_size': 11, 'seq_length': 11, 'dim_feedforward': 288, 'dropout': 0.0999229911139692, 'num_layers': 1}. Best is trial 82 with value: 3.0003390376632764.\n"
     ]
    },
    {
     "name": "stdout",
     "output_type": "stream",
     "text": [
      "Using device: cuda\n"
     ]
    },
    {
     "name": "stderr",
     "output_type": "stream",
     "text": [
      "[I 2025-09-29 16:06:35,460] Trial 90 finished with value: 3.278788936311397 and parameters: {'learning_rate': 0.0003515772233149812, 'batch_size': 63, 'seq_length': 18, 'dim_feedforward': 313, 'dropout': 0.09635640313610729, 'num_layers': 2}. Best is trial 82 with value: 3.0003390376632764.\n"
     ]
    },
    {
     "name": "stdout",
     "output_type": "stream",
     "text": [
      "Using device: cuda\n"
     ]
    },
    {
     "name": "stderr",
     "output_type": "stream",
     "text": [
      "[I 2025-09-29 16:07:06,898] Trial 91 finished with value: 3.1299953942627474 and parameters: {'learning_rate': 0.008385565965198962, 'batch_size': 9, 'seq_length': 18, 'dim_feedforward': 503, 'dropout': 0.09058600123811095, 'num_layers': 1}. Best is trial 82 with value: 3.0003390376632764.\n"
     ]
    },
    {
     "name": "stdout",
     "output_type": "stream",
     "text": [
      "Using device: cuda\n"
     ]
    },
    {
     "name": "stderr",
     "output_type": "stream",
     "text": [
      "[I 2025-09-29 16:07:42,355] Trial 92 finished with value: 3.154234362861329 and parameters: {'learning_rate': 0.00804268991209152, 'batch_size': 8, 'seq_length': 17, 'dim_feedforward': 511, 'dropout': 0.08759169476072899, 'num_layers': 1}. Best is trial 82 with value: 3.0003390376632764.\n"
     ]
    },
    {
     "name": "stdout",
     "output_type": "stream",
     "text": [
      "Using device: cuda\n"
     ]
    },
    {
     "name": "stderr",
     "output_type": "stream",
     "text": [
      "[I 2025-09-29 16:08:10,040] Trial 93 finished with value: 3.0580449978395214 and parameters: {'learning_rate': 0.005669072059468287, 'batch_size': 13, 'seq_length': 19, 'dim_feedforward': 487, 'dropout': 0.09091300937740711, 'num_layers': 1}. Best is trial 82 with value: 3.0003390376632764.\n"
     ]
    },
    {
     "name": "stdout",
     "output_type": "stream",
     "text": [
      "Using device: cuda\n"
     ]
    },
    {
     "name": "stderr",
     "output_type": "stream",
     "text": [
      "[I 2025-09-29 16:08:29,062] Trial 94 finished with value: 3.1413447255260114 and parameters: {'learning_rate': 0.005403094138679943, 'batch_size': 13, 'seq_length': 19, 'dim_feedforward': 477, 'dropout': 0.07972242823829315, 'num_layers': 1}. Best is trial 82 with value: 3.0003390376632764.\n"
     ]
    },
    {
     "name": "stdout",
     "output_type": "stream",
     "text": [
      "Using device: cuda\n"
     ]
    },
    {
     "name": "stderr",
     "output_type": "stream",
     "text": [
      "[I 2025-09-29 16:09:01,779] Trial 95 finished with value: 2.9708868155075416 and parameters: {'learning_rate': 0.003490834806057147, 'batch_size': 11, 'seq_length': 19, 'dim_feedforward': 376, 'dropout': 0.09152546239599968, 'num_layers': 1}. Best is trial 95 with value: 2.9708868155075416.\n"
     ]
    },
    {
     "name": "stdout",
     "output_type": "stream",
     "text": [
      "Using device: cuda\n"
     ]
    },
    {
     "name": "stderr",
     "output_type": "stream",
     "text": [
      "[I 2025-09-29 16:09:22,166] Trial 96 finished with value: 3.1144341736575676 and parameters: {'learning_rate': 0.0032459401787999485, 'batch_size': 15, 'seq_length': 19, 'dim_feedforward': 488, 'dropout': 0.08530299041093943, 'num_layers': 1}. Best is trial 95 with value: 2.9708868155075416.\n"
     ]
    },
    {
     "name": "stdout",
     "output_type": "stream",
     "text": [
      "Using device: cuda\n"
     ]
    },
    {
     "name": "stderr",
     "output_type": "stream",
     "text": [
      "[I 2025-09-29 16:09:27,716] Trial 97 finished with value: 3.34006447753536 and parameters: {'learning_rate': 0.0020590024743729935, 'batch_size': 41, 'seq_length': 20, 'dim_feedforward': 213, 'dropout': 0.09252935498223824, 'num_layers': 1}. Best is trial 95 with value: 2.9708868155075416.\n"
     ]
    },
    {
     "name": "stdout",
     "output_type": "stream",
     "text": [
      "Using device: cuda\n"
     ]
    },
    {
     "name": "stderr",
     "output_type": "stream",
     "text": [
      "[I 2025-09-29 16:09:39,698] Trial 98 finished with value: 3.122596641443862 and parameters: {'learning_rate': 0.002574426849326108, 'batch_size': 17, 'seq_length': 21, 'dim_feedforward': 380, 'dropout': 0.06885002609781869, 'num_layers': 1}. Best is trial 95 with value: 2.9708868155075416.\n"
     ]
    },
    {
     "name": "stdout",
     "output_type": "stream",
     "text": [
      "Using device: cuda\n"
     ]
    },
    {
     "name": "stderr",
     "output_type": "stream",
     "text": [
      "[I 2025-09-29 16:09:59,019] Trial 99 finished with value: 3.203033582594926 and parameters: {'learning_rate': 0.005869940549712211, 'batch_size': 11, 'seq_length': 19, 'dim_feedforward': 347, 'dropout': 0.024134619125663077, 'num_layers': 1}. Best is trial 95 with value: 2.9708868155075416.\n"
     ]
    },
    {
     "data": {
      "text/plain": [
       "{'learning_rate': 0.003490834806057147,\n",
       " 'batch_size': 11,\n",
       " 'seq_length': 19,\n",
       " 'dim_feedforward': 376,\n",
       " 'dropout': 0.09152546239599968,\n",
       " 'num_layers': 1}"
      ]
     },
     "execution_count": 2,
     "metadata": {},
     "output_type": "execute_result"
    }
   ],
   "source": [
    "study = optuna.create_study(storage=\"sqlite:///../db.sqlite3\", study_name=\"2016_2019+all_features\", load_if_exists=True)\n",
    "study.optimize(objective, n_trials=100, n_jobs=1)\n",
    "\n",
    "study.best_params"
   ]
  },
  {
   "cell_type": "code",
   "execution_count": 5,
   "id": "b045b34d",
   "metadata": {},
   "outputs": [
    {
     "name": "stderr",
     "output_type": "stream",
     "text": [
      "[I 2025-09-29 22:21:33,082] A new study created in RDB with name: 2016_2019+all_features+80:20+4runs\n"
     ]
    },
    {
     "name": "stdout",
     "output_type": "stream",
     "text": [
      "Using device: cuda\n",
      "Using device: cuda\n",
      "Using device: cuda\n",
      "Using device: cuda\n",
      "Using device: cuda\n",
      "Using device: cuda\n",
      "Using device: cuda\n",
      "Using device: cuda\n",
      "Using device: cuda\n",
      "Using device: cuda\n",
      "Using device: cuda\n",
      "Using device: cuda\n",
      "Using device: cuda\n",
      "Using device: cuda\n",
      "Using device: cuda\n",
      "Using device: cuda\n",
      "Using device: cuda\n",
      "Using device: cuda\n",
      "Using device: cuda\n",
      "Using device: cuda\n"
     ]
    },
    {
     "name": "stderr",
     "output_type": "stream",
     "text": [
      "[I 2025-09-29 22:26:36,129] Trial 0 finished with value: 2.7196023646650884 and parameters: {'learning_rate': 0.006889350197222347, 'batch_size': 25, 'seq_length': 16, 'dim_feedforward': 502, 'dropout': 0.014758552445583406, 'num_layers': 2}. Best is trial 0 with value: 2.7196023646650884.\n"
     ]
    },
    {
     "name": "stdout",
     "output_type": "stream",
     "text": [
      "Using device: cuda\n",
      "Using device: cuda\n",
      "Using device: cuda\n",
      "Using device: cuda\n",
      "Using device: cuda\n",
      "Using device: cuda\n",
      "Using device: cuda\n",
      "Using device: cuda\n",
      "Using device: cuda\n",
      "Using device: cuda\n",
      "Using device: cuda\n",
      "Using device: cuda\n",
      "Using device: cuda\n",
      "Using device: cuda\n"
     ]
    },
    {
     "name": "stderr",
     "output_type": "stream",
     "text": [
      "[I 2025-09-29 22:29:36,531] Trial 2 finished with value: 2.8148344294383354 and parameters: {'learning_rate': 0.0006038322467543339, 'batch_size': 9, 'seq_length': 17, 'dim_feedforward': 395, 'dropout': 0.03717878097805828, 'num_layers': 2}. Best is trial 0 with value: 2.7196023646650884.\n"
     ]
    },
    {
     "name": "stdout",
     "output_type": "stream",
     "text": [
      "Using device: cuda\n",
      "Using device: cuda\n"
     ]
    },
    {
     "name": "stderr",
     "output_type": "stream",
     "text": [
      "[I 2025-09-29 22:30:25,111] Trial 10 finished with value: 2.792522300540358 and parameters: {'learning_rate': 0.00013427082533922632, 'batch_size': 24, 'seq_length': 7, 'dim_feedforward': 266, 'dropout': 0.022424371556974243, 'num_layers': 3}. Best is trial 0 with value: 2.7196023646650884.\n"
     ]
    },
    {
     "name": "stdout",
     "output_type": "stream",
     "text": [
      "Using device: cuda\n",
      "Using device: cuda\n",
      "Using device: cuda\n"
     ]
    },
    {
     "name": "stderr",
     "output_type": "stream",
     "text": [
      "[I 2025-09-29 22:30:51,034] Trial 6 finished with value: 4.912618152429336 and parameters: {'learning_rate': 0.004347007934794934, 'batch_size': 34, 'seq_length': 18, 'dim_feedforward': 296, 'dropout': 0.044087474484909496, 'num_layers': 5}. Best is trial 0 with value: 2.7196023646650884.\n"
     ]
    },
    {
     "name": "stdout",
     "output_type": "stream",
     "text": [
      "Using device: cuda\n",
      "Using device: cuda\n",
      "Using device: cuda\n",
      "Using device: cuda\n",
      "Using device: cuda\n",
      "Using device: cuda\n",
      "Using device: cuda\n"
     ]
    },
    {
     "name": "stderr",
     "output_type": "stream",
     "text": [
      "[I 2025-09-29 22:32:13,047] Trial 9 finished with value: 7.087805047519385 and parameters: {'learning_rate': 0.00624128932181987, 'batch_size': 50, 'seq_length': 11, 'dim_feedforward': 433, 'dropout': 0.09558597060223833, 'num_layers': 5}. Best is trial 0 with value: 2.7196023646650884.\n"
     ]
    },
    {
     "name": "stdout",
     "output_type": "stream",
     "text": [
      "Using device: cuda\n",
      "Using device: cuda\n",
      "Using device: cuda\n"
     ]
    },
    {
     "name": "stderr",
     "output_type": "stream",
     "text": [
      "[I 2025-09-29 22:32:54,105] Trial 11 finished with value: 2.6432362756027676 and parameters: {'learning_rate': 0.001166906551495673, 'batch_size': 26, 'seq_length': 4, 'dim_feedforward': 209, 'dropout': 0.05891210541854609, 'num_layers': 1}. Best is trial 11 with value: 2.6432362756027676.\n"
     ]
    },
    {
     "name": "stdout",
     "output_type": "stream",
     "text": [
      "Using device: cuda\n",
      "Using device: cuda\n",
      "Using device: cuda\n"
     ]
    },
    {
     "name": "stderr",
     "output_type": "stream",
     "text": [
      "[I 2025-09-29 22:33:33,424] Trial 4 finished with value: 2.840268527916469 and parameters: {'learning_rate': 0.0009790414082557863, 'batch_size': 52, 'seq_length': 12, 'dim_feedforward': 253, 'dropout': 0.018148544090550733, 'num_layers': 5}. Best is trial 11 with value: 2.6432362756027676.\n"
     ]
    },
    {
     "name": "stdout",
     "output_type": "stream",
     "text": [
      "Using device: cuda\n"
     ]
    },
    {
     "name": "stderr",
     "output_type": "stream",
     "text": [
      "[I 2025-09-29 22:33:51,243] Trial 7 finished with value: 2.672340143244913 and parameters: {'learning_rate': 0.0031102213864134015, 'batch_size': 47, 'seq_length': 5, 'dim_feedforward': 373, 'dropout': 0.081118256285594, 'num_layers': 1}. Best is trial 11 with value: 2.6432362756027676.\n"
     ]
    },
    {
     "name": "stdout",
     "output_type": "stream",
     "text": [
      "Using device: cuda\n"
     ]
    },
    {
     "name": "stderr",
     "output_type": "stream",
     "text": [
      "[I 2025-09-29 22:34:08,665] Trial 12 finished with value: 2.9477662974633434 and parameters: {'learning_rate': 0.004330111332022696, 'batch_size': 41, 'seq_length': 19, 'dim_feedforward': 271, 'dropout': 0.0008077933529450632, 'num_layers': 4}. Best is trial 11 with value: 2.6432362756027676.\n"
     ]
    },
    {
     "name": "stdout",
     "output_type": "stream",
     "text": [
      "Using device: cuda\n",
      "Using device: cuda\n",
      "Using device: cuda\n",
      "Using device: cuda\n",
      "Using device: cuda\n",
      "Using device: cuda\n",
      "Using device: cuda\n",
      "Using device: cuda\n",
      "Using device: cuda\n"
     ]
    },
    {
     "name": "stderr",
     "output_type": "stream",
     "text": [
      "[I 2025-09-29 22:35:24,953] Trial 18 finished with value: 2.8593481695282246 and parameters: {'learning_rate': 0.0001995232644759348, 'batch_size': 49, 'seq_length': 21, 'dim_feedforward': 153, 'dropout': 0.07434727620596546, 'num_layers': 1}. Best is trial 11 with value: 2.6432362756027676.\n"
     ]
    },
    {
     "name": "stdout",
     "output_type": "stream",
     "text": [
      "Using device: cuda\n",
      "Using device: cuda\n",
      "Using device: cuda\n",
      "Using device: cuda\n"
     ]
    },
    {
     "name": "stderr",
     "output_type": "stream",
     "text": [
      "[I 2025-09-29 22:36:54,296] Trial 15 finished with value: 2.840108145074334 and parameters: {'learning_rate': 0.00017667511160759822, 'batch_size': 14, 'seq_length': 7, 'dim_feedforward': 202, 'dropout': 0.03338636541067557, 'num_layers': 2}. Best is trial 11 with value: 2.6432362756027676.\n"
     ]
    },
    {
     "name": "stdout",
     "output_type": "stream",
     "text": [
      "Using device: cuda\n",
      "Using device: cuda\n",
      "Using device: cuda\n"
     ]
    },
    {
     "name": "stderr",
     "output_type": "stream",
     "text": [
      "[I 2025-09-29 22:37:07,106] Trial 3 finished with value: 2.5777469976966 and parameters: {'learning_rate': 0.0028844719673065196, 'batch_size': 41, 'seq_length': 10, 'dim_feedforward': 238, 'dropout': 0.07009410111823772, 'num_layers': 1}. Best is trial 3 with value: 2.5777469976966.\n"
     ]
    },
    {
     "name": "stdout",
     "output_type": "stream",
     "text": [
      "Using device: cuda\n",
      "Using device: cuda\n",
      "Using device: cuda\n",
      "Using device: cuda\n",
      "Using device: cuda\n"
     ]
    },
    {
     "name": "stderr",
     "output_type": "stream",
     "text": [
      "[I 2025-09-29 22:37:45,858] Trial 20 finished with value: 2.6200890601251814 and parameters: {'learning_rate': 0.001990868586179084, 'batch_size': 64, 'seq_length': 3, 'dim_feedforward': 377, 'dropout': 0.06996444432711264, 'num_layers': 1}. Best is trial 3 with value: 2.5777469976966.\n"
     ]
    },
    {
     "name": "stdout",
     "output_type": "stream",
     "text": [
      "Using device: cuda\n",
      "Using device: cuda\n",
      "Using device: cuda\n",
      "Using device: cuda\n",
      "Using device: cuda\n",
      "Using device: cuda\n"
     ]
    },
    {
     "name": "stderr",
     "output_type": "stream",
     "text": [
      "[I 2025-09-29 22:38:57,196] Trial 8 finished with value: 2.8048475835402713 and parameters: {'learning_rate': 0.0001782313541702206, 'batch_size': 19, 'seq_length': 12, 'dim_feedforward': 468, 'dropout': 0.02513567585276585, 'num_layers': 4}. Best is trial 3 with value: 2.5777469976966.\n"
     ]
    },
    {
     "name": "stdout",
     "output_type": "stream",
     "text": [
      "Using device: cuda\n",
      "Using device: cuda\n"
     ]
    },
    {
     "name": "stderr",
     "output_type": "stream",
     "text": [
      "[I 2025-09-29 22:39:09,614] Trial 22 finished with value: 2.735607594144067 and parameters: {'learning_rate': 0.002152056215103207, 'batch_size': 64, 'seq_length': 9, 'dim_feedforward': 346, 'dropout': 0.06277778779096255, 'num_layers': 2}. Best is trial 3 with value: 2.5777469976966.\n"
     ]
    },
    {
     "name": "stdout",
     "output_type": "stream",
     "text": [
      "Using device: cuda\n",
      "Using device: cuda\n",
      "Using device: cuda\n",
      "Using device: cuda\n",
      "Using device: cuda\n",
      "Using device: cuda\n",
      "Using device: cuda\n",
      "Using device: cuda\n",
      "Using device: cuda\n",
      "Using device: cuda\n",
      "Using device: cuda\n"
     ]
    },
    {
     "name": "stderr",
     "output_type": "stream",
     "text": [
      "[I 2025-09-29 22:40:31,286] Trial 1 finished with value: 2.6895994168064554 and parameters: {'learning_rate': 0.0030934663679523327, 'batch_size': 38, 'seq_length': 17, 'dim_feedforward': 346, 'dropout': 0.07539006815248844, 'num_layers': 1}. Best is trial 3 with value: 2.5777469976966.\n"
     ]
    },
    {
     "name": "stdout",
     "output_type": "stream",
     "text": [
      "Using device: cuda\n"
     ]
    },
    {
     "name": "stderr",
     "output_type": "stream",
     "text": [
      "[I 2025-09-29 22:40:37,731] Trial 13 finished with value: 2.6951165401771107 and parameters: {'learning_rate': 0.003158017860186118, 'batch_size': 25, 'seq_length': 13, 'dim_feedforward': 509, 'dropout': 0.024687576029130312, 'num_layers': 4}. Best is trial 3 with value: 2.5777469976966.\n"
     ]
    },
    {
     "name": "stdout",
     "output_type": "stream",
     "text": [
      "Using device: cuda\n",
      "Using device: cuda\n"
     ]
    },
    {
     "name": "stderr",
     "output_type": "stream",
     "text": [
      "[I 2025-09-29 22:40:44,933] Trial 24 finished with value: 2.5780787635404465 and parameters: {'learning_rate': 0.0020396063516305058, 'batch_size': 63, 'seq_length': 3, 'dim_feedforward': 328, 'dropout': 0.09957071857431103, 'num_layers': 1}. Best is trial 3 with value: 2.5777469976966.\n"
     ]
    },
    {
     "name": "stdout",
     "output_type": "stream",
     "text": [
      "Using device: cuda\n",
      "Using device: cuda\n",
      "Using device: cuda\n"
     ]
    },
    {
     "name": "stderr",
     "output_type": "stream",
     "text": [
      "[I 2025-09-29 22:41:14,602] Trial 23 finished with value: 2.6499863416113434 and parameters: {'learning_rate': 0.001996538197859218, 'batch_size': 59, 'seq_length': 9, 'dim_feedforward': 346, 'dropout': 0.062361065781557895, 'num_layers': 1}. Best is trial 3 with value: 2.5777469976966.\n"
     ]
    },
    {
     "name": "stdout",
     "output_type": "stream",
     "text": [
      "Using device: cuda\n"
     ]
    },
    {
     "name": "stderr",
     "output_type": "stream",
     "text": [
      "[I 2025-09-29 22:41:34,237] Trial 19 finished with value: 2.6665985638966476 and parameters: {'learning_rate': 0.0004554529751398293, 'batch_size': 8, 'seq_length': 3, 'dim_feedforward': 157, 'dropout': 0.06286393622955794, 'num_layers': 2}. Best is trial 3 with value: 2.5777469976966.\n"
     ]
    },
    {
     "name": "stdout",
     "output_type": "stream",
     "text": [
      "Using device: cuda\n"
     ]
    },
    {
     "name": "stderr",
     "output_type": "stream",
     "text": [
      "[I 2025-09-29 22:41:36,509] Trial 14 finished with value: 2.7951136807289707 and parameters: {'learning_rate': 0.0020247267050826946, 'batch_size': 43, 'seq_length': 9, 'dim_feedforward': 358, 'dropout': 0.020058379010770302, 'num_layers': 1}. Best is trial 3 with value: 2.5777469976966.\n"
     ]
    },
    {
     "name": "stdout",
     "output_type": "stream",
     "text": [
      "Using device: cuda\n",
      "Using device: cuda\n",
      "Using device: cuda\n",
      "Using device: cuda\n",
      "Using device: cuda\n",
      "Using device: cuda\n",
      "Using device: cuda\n",
      "Using device: cuda\n",
      "Using device: cuda\n"
     ]
    },
    {
     "name": "stderr",
     "output_type": "stream",
     "text": [
      "[I 2025-09-29 22:42:44,367] Trial 27 finished with value: 2.653081333642847 and parameters: {'learning_rate': 0.0005389312280673682, 'batch_size': 58, 'seq_length': 14, 'dim_feedforward': 138, 'dropout': 0.094664948053054, 'num_layers': 3}. Best is trial 3 with value: 2.5777469976966.\n"
     ]
    },
    {
     "name": "stdout",
     "output_type": "stream",
     "text": [
      "Using device: cuda\n",
      "Using device: cuda\n",
      "Using device: cuda\n"
     ]
    },
    {
     "name": "stderr",
     "output_type": "stream",
     "text": [
      "[I 2025-09-29 22:43:01,958] Trial 29 finished with value: 5.981766694985657 and parameters: {'learning_rate': 0.00934940294118818, 'batch_size': 56, 'seq_length': 14, 'dim_feedforward': 229, 'dropout': 0.09383830589767413, 'num_layers': 3}. Best is trial 3 with value: 2.5777469976966.\n"
     ]
    },
    {
     "name": "stdout",
     "output_type": "stream",
     "text": [
      "Using device: cuda\n",
      "Using device: cuda\n",
      "Using device: cuda\n",
      "Using device: cuda\n",
      "Using device: cuda\n",
      "Using device: cuda\n",
      "Using device: cuda\n",
      "Using device: cuda\n",
      "Using device: cuda\n",
      "Using device: cuda\n",
      "Using device: cuda\n"
     ]
    },
    {
     "name": "stderr",
     "output_type": "stream",
     "text": [
      "[I 2025-09-29 22:44:01,321] Trial 26 finished with value: 2.651154414956058 and parameters: {'learning_rate': 0.0014406143430565044, 'batch_size': 63, 'seq_length': 3, 'dim_feedforward': 143, 'dropout': 0.09219517720337408, 'num_layers': 3}. Best is trial 3 with value: 2.5777469976966.\n"
     ]
    },
    {
     "name": "stdout",
     "output_type": "stream",
     "text": [
      "Using device: cuda\n"
     ]
    },
    {
     "name": "stderr",
     "output_type": "stream",
     "text": [
      "[I 2025-09-29 22:44:04,978] Trial 32 finished with value: 2.6297153368048174 and parameters: {'learning_rate': 0.00111254330628851, 'batch_size': 63, 'seq_length': 6, 'dim_feedforward': 297, 'dropout': 0.08486179523173967, 'num_layers': 1}. Best is trial 3 with value: 2.5777469976966.\n"
     ]
    },
    {
     "name": "stdout",
     "output_type": "stream",
     "text": [
      "Using device: cuda\n",
      "Using device: cuda\n"
     ]
    },
    {
     "name": "stderr",
     "output_type": "stream",
     "text": [
      "[I 2025-09-29 22:44:24,015] Trial 5 finished with value: 2.6379739893255847 and parameters: {'learning_rate': 0.0004119487493428584, 'batch_size': 40, 'seq_length': 12, 'dim_feedforward': 270, 'dropout': 0.0893685306536493, 'num_layers': 1}. Best is trial 3 with value: 2.5777469976966.\n"
     ]
    },
    {
     "name": "stdout",
     "output_type": "stream",
     "text": [
      "Using device: cuda\n"
     ]
    },
    {
     "name": "stderr",
     "output_type": "stream",
     "text": [
      "[I 2025-09-29 22:44:32,631] Trial 16 finished with value: 2.7645288717767937 and parameters: {'learning_rate': 0.005772960759771816, 'batch_size': 51, 'seq_length': 4, 'dim_feedforward': 236, 'dropout': 0.03258978098535159, 'num_layers': 3}. Best is trial 3 with value: 2.5777469976966.\n"
     ]
    },
    {
     "name": "stdout",
     "output_type": "stream",
     "text": [
      "Using device: cuda\n",
      "Using device: cuda\n"
     ]
    },
    {
     "name": "stderr",
     "output_type": "stream",
     "text": [
      "[I 2025-09-29 22:44:36,816] Trial 31 finished with value: 2.7400792327372283 and parameters: {'learning_rate': 0.0012505736030256525, 'batch_size': 63, 'seq_length': 6, 'dim_feedforward': 306, 'dropout': 0.0845949347454405, 'num_layers': 3}. Best is trial 3 with value: 2.5777469976966.\n"
     ]
    },
    {
     "name": "stdout",
     "output_type": "stream",
     "text": [
      "Using device: cuda\n",
      "Using device: cuda\n",
      "Using device: cuda\n",
      "Using device: cuda\n",
      "Using device: cuda\n",
      "Using device: cuda\n",
      "Using device: cuda\n",
      "Using device: cuda\n",
      "Using device: cuda\n"
     ]
    },
    {
     "name": "stderr",
     "output_type": "stream",
     "text": [
      "[I 2025-09-29 22:45:28,792] Trial 21 finished with value: 2.5804377774789193 and parameters: {'learning_rate': 0.0019649390332039103, 'batch_size': 61, 'seq_length': 4, 'dim_feedforward': 141, 'dropout': 0.06308501583592417, 'num_layers': 1}. Best is trial 3 with value: 2.5777469976966.\n"
     ]
    },
    {
     "name": "stdout",
     "output_type": "stream",
     "text": [
      "Using device: cuda\n"
     ]
    },
    {
     "name": "stderr",
     "output_type": "stream",
     "text": [
      "[I 2025-09-29 22:45:34,493] Trial 34 finished with value: 2.719072496697629 and parameters: {'learning_rate': 0.0006955306786087401, 'batch_size': 32, 'seq_length': 5, 'dim_feedforward': 412, 'dropout': 0.052489949704074335, 'num_layers': 2}. Best is trial 3 with value: 2.5777469976966.\n"
     ]
    },
    {
     "name": "stdout",
     "output_type": "stream",
     "text": [
      "Using device: cuda\n",
      "Using device: cuda\n",
      "Using device: cuda\n"
     ]
    },
    {
     "name": "stderr",
     "output_type": "stream",
     "text": [
      "[I 2025-09-29 22:45:53,330] Trial 28 finished with value: 2.6491620210380336 and parameters: {'learning_rate': 0.0006175813441323151, 'batch_size': 57, 'seq_length': 15, 'dim_feedforward': 206, 'dropout': 0.09995189631013271, 'num_layers': 3}. Best is trial 3 with value: 2.5777469976966.\n"
     ]
    },
    {
     "name": "stdout",
     "output_type": "stream",
     "text": [
      "Using device: cuda\n",
      "Using device: cuda\n",
      "Using device: cuda\n",
      "Using device: cuda\n",
      "Using device: cuda\n",
      "Using device: cuda\n",
      "Using device: cuda\n"
     ]
    },
    {
     "name": "stderr",
     "output_type": "stream",
     "text": [
      "[I 2025-09-29 22:46:27,058] Trial 37 finished with value: 2.7280326680518057 and parameters: {'learning_rate': 0.0015716640221796947, 'batch_size': 32, 'seq_length': 8, 'dim_feedforward': 408, 'dropout': 0.07191122955769132, 'num_layers': 2}. Best is trial 3 with value: 2.5777469976966.\n"
     ]
    },
    {
     "name": "stdout",
     "output_type": "stream",
     "text": [
      "Using device: cuda\n"
     ]
    },
    {
     "name": "stderr",
     "output_type": "stream",
     "text": [
      "[I 2025-09-29 22:46:31,174] Trial 39 finished with value: 2.8113102594379873 and parameters: {'learning_rate': 0.0008285499949524502, 'batch_size': 54, 'seq_length': 8, 'dim_feedforward': 178, 'dropout': 0.05036162304825465, 'num_layers': 2}. Best is trial 3 with value: 2.5777469976966.\n"
     ]
    },
    {
     "name": "stdout",
     "output_type": "stream",
     "text": [
      "Using device: cuda\n"
     ]
    },
    {
     "name": "stderr",
     "output_type": "stream",
     "text": [
      "[I 2025-09-29 22:46:36,254] Trial 33 finished with value: 2.64927295397715 and parameters: {'learning_rate': 0.0007873173914372153, 'batch_size': 32, 'seq_length': 6, 'dim_feedforward': 311, 'dropout': 0.08365696176524966, 'num_layers': 1}. Best is trial 3 with value: 2.5777469976966.\n"
     ]
    },
    {
     "name": "stdout",
     "output_type": "stream",
     "text": [
      "Using device: cuda\n",
      "Using device: cuda\n",
      "Using device: cuda\n",
      "Using device: cuda\n",
      "Using device: cuda\n",
      "Using device: cuda\n",
      "Using device: cuda\n",
      "Using device: cuda\n",
      "Using device: cuda\n"
     ]
    },
    {
     "name": "stderr",
     "output_type": "stream",
     "text": [
      "[I 2025-09-29 22:47:03,366] Trial 41 finished with value: 2.6730663582236396 and parameters: {'learning_rate': 0.0025075009946457635, 'batch_size': 55, 'seq_length': 3, 'dim_feedforward': 183, 'dropout': 0.052739951848508465, 'num_layers': 1}. Best is trial 3 with value: 2.5777469976966.\n"
     ]
    },
    {
     "name": "stdout",
     "output_type": "stream",
     "text": [
      "Using device: cuda\n"
     ]
    },
    {
     "name": "stderr",
     "output_type": "stream",
     "text": [
      "[I 2025-09-29 22:47:06,046] Trial 42 finished with value: 2.576016665584721 and parameters: {'learning_rate': 0.002324509504066925, 'batch_size': 46, 'seq_length': 3, 'dim_feedforward': 327, 'dropout': 0.06945590198581707, 'num_layers': 1}. Best is trial 42 with value: 2.576016665584721.\n"
     ]
    },
    {
     "name": "stdout",
     "output_type": "stream",
     "text": [
      "Using device: cuda\n",
      "Using device: cuda\n",
      "Using device: cuda\n",
      "Using device: cuda\n",
      "Using device: cuda\n",
      "Using device: cuda\n",
      "Using device: cuda\n",
      "Using device: cuda\n",
      "Using device: cuda\n",
      "Using device: cuda\n"
     ]
    },
    {
     "name": "stderr",
     "output_type": "stream",
     "text": [
      "[I 2025-09-29 22:47:39,759] Trial 43 finished with value: 2.6148547548111405 and parameters: {'learning_rate': 0.00231464938541052, 'batch_size': 60, 'seq_length': 4, 'dim_feedforward': 330, 'dropout': 0.07036532723388238, 'num_layers': 1}. Best is trial 42 with value: 2.576016665584721.\n"
     ]
    },
    {
     "name": "stdout",
     "output_type": "stream",
     "text": [
      "Using device: cuda\n",
      "Using device: cuda\n"
     ]
    },
    {
     "name": "stderr",
     "output_type": "stream",
     "text": [
      "[I 2025-09-29 22:47:44,234] Trial 40 finished with value: 2.5879417247799603 and parameters: {'learning_rate': 0.0016984084352498936, 'batch_size': 54, 'seq_length': 3, 'dim_feedforward': 179, 'dropout': 0.07237317834798117, 'num_layers': 1}. Best is trial 42 with value: 2.576016665584721.\n"
     ]
    },
    {
     "name": "stdout",
     "output_type": "stream",
     "text": [
      "Using device: cuda\n",
      "Using device: cuda\n",
      "Using device: cuda\n"
     ]
    },
    {
     "name": "stderr",
     "output_type": "stream",
     "text": [
      "[I 2025-09-29 22:48:03,698] Trial 44 finished with value: 2.6831301052319696 and parameters: {'learning_rate': 0.004112373849360651, 'batch_size': 60, 'seq_length': 4, 'dim_feedforward': 379, 'dropout': 0.06991250869200633, 'num_layers': 1}. Best is trial 42 with value: 2.576016665584721.\n"
     ]
    },
    {
     "name": "stdout",
     "output_type": "stream",
     "text": [
      "Using device: cuda\n",
      "Using device: cuda\n"
     ]
    },
    {
     "name": "stderr",
     "output_type": "stream",
     "text": [
      "[I 2025-09-29 22:48:20,144] Trial 45 finished with value: 2.7128448190760435 and parameters: {'learning_rate': 0.0038227226256512988, 'batch_size': 44, 'seq_length': 5, 'dim_feedforward': 331, 'dropout': 0.06842293405214551, 'num_layers': 2}. Best is trial 42 with value: 2.576016665584721.\n"
     ]
    },
    {
     "name": "stdout",
     "output_type": "stream",
     "text": [
      "Using device: cuda\n",
      "Using device: cuda\n"
     ]
    },
    {
     "name": "stderr",
     "output_type": "stream",
     "text": [
      "[I 2025-09-29 22:48:26,865] Trial 30 finished with value: 2.7309763085613894 and parameters: {'learning_rate': 0.001202136051737844, 'batch_size': 59, 'seq_length': 6, 'dim_feedforward': 312, 'dropout': 0.099922698005699, 'num_layers': 3}. Best is trial 42 with value: 2.576016665584721.\n"
     ]
    },
    {
     "name": "stdout",
     "output_type": "stream",
     "text": [
      "Using device: cuda\n",
      "Using device: cuda\n",
      "Using device: cuda\n",
      "Using device: cuda\n",
      "Using device: cuda\n",
      "Using device: cuda\n",
      "Using device: cuda\n",
      "Using device: cuda\n",
      "Using device: cuda\n",
      "Using device: cuda\n",
      "Using device: cuda\n"
     ]
    },
    {
     "name": "stderr",
     "output_type": "stream",
     "text": [
      "[I 2025-09-29 22:49:29,468] Trial 46 finished with value: 2.7041816218082344 and parameters: {'learning_rate': 0.004122395998328168, 'batch_size': 46, 'seq_length': 5, 'dim_feedforward': 324, 'dropout': 0.0405940063235363, 'num_layers': 1}. Best is trial 42 with value: 2.576016665584721.\n"
     ]
    },
    {
     "name": "stdout",
     "output_type": "stream",
     "text": [
      "Using device: cuda\n"
     ]
    },
    {
     "name": "stderr",
     "output_type": "stream",
     "text": [
      "[I 2025-09-29 22:49:39,448] Trial 49 finished with value: 2.6908844828576806 and parameters: {'learning_rate': 0.0029460627503693107, 'batch_size': 37, 'seq_length': 11, 'dim_feedforward': 252, 'dropout': 0.04419803468147823, 'num_layers': 1}. Best is trial 42 with value: 2.576016665584721.\n"
     ]
    },
    {
     "name": "stdout",
     "output_type": "stream",
     "text": [
      "Using device: cuda\n"
     ]
    },
    {
     "name": "stderr",
     "output_type": "stream",
     "text": [
      "[I 2025-09-29 22:49:43,782] Trial 48 finished with value: 2.848129762204789 and parameters: {'learning_rate': 0.003005793433532307, 'batch_size': 47, 'seq_length': 11, 'dim_feedforward': 323, 'dropout': 0.0439519323726571, 'num_layers': 2}. Best is trial 42 with value: 2.576016665584721.\n"
     ]
    },
    {
     "name": "stdout",
     "output_type": "stream",
     "text": [
      "Using device: cuda\n",
      "Using device: cuda\n",
      "Using device: cuda\n",
      "Using device: cuda\n",
      "Using device: cuda\n",
      "Using device: cuda\n",
      "Using device: cuda\n",
      "Using device: cuda\n",
      "Using device: cuda\n",
      "Using device: cuda\n"
     ]
    },
    {
     "name": "stderr",
     "output_type": "stream",
     "text": [
      "[I 2025-09-29 22:50:10,201] Trial 17 finished with value: 2.9886489987960845 and parameters: {'learning_rate': 0.0027324006064676546, 'batch_size': 28, 'seq_length': 5, 'dim_feedforward': 482, 'dropout': 0.018784130317698534, 'num_layers': 2}. Best is trial 42 with value: 2.576016665584721.\n"
     ]
    },
    {
     "name": "stdout",
     "output_type": "stream",
     "text": [
      "Using device: cuda\n"
     ]
    },
    {
     "name": "stderr",
     "output_type": "stream",
     "text": [
      "[I 2025-09-29 22:50:17,008] Trial 52 finished with value: 2.62131549204116 and parameters: {'learning_rate': 0.0015737699162672008, 'batch_size': 53, 'seq_length': 3, 'dim_feedforward': 129, 'dropout': 0.07973350635696387, 'num_layers': 1}. Best is trial 42 with value: 2.576016665584721.\n"
     ]
    },
    {
     "name": "stdout",
     "output_type": "stream",
     "text": [
      "Using device: cuda\n"
     ]
    },
    {
     "name": "stderr",
     "output_type": "stream",
     "text": [
      "[I 2025-09-29 22:50:19,010] Trial 53 finished with value: 2.628310880006164 and parameters: {'learning_rate': 0.0016015489987285182, 'batch_size': 53, 'seq_length': 3, 'dim_feedforward': 173, 'dropout': 0.059261871604086955, 'num_layers': 1}. Best is trial 42 with value: 2.576016665584721.\n"
     ]
    },
    {
     "name": "stdout",
     "output_type": "stream",
     "text": [
      "Using device: cuda\n",
      "Using device: cuda\n",
      "Using device: cuda\n",
      "Using device: cuda\n",
      "Using device: cuda\n",
      "Using device: cuda\n",
      "Using device: cuda\n",
      "Using device: cuda\n"
     ]
    },
    {
     "name": "stderr",
     "output_type": "stream",
     "text": [
      "[I 2025-09-29 22:50:48,992] Trial 47 finished with value: 2.7257128787683795 and parameters: {'learning_rate': 0.004280207383012016, 'batch_size': 46, 'seq_length': 11, 'dim_feedforward': 280, 'dropout': 0.04295999566733084, 'num_layers': 2}. Best is trial 42 with value: 2.576016665584721.\n"
     ]
    },
    {
     "name": "stdout",
     "output_type": "stream",
     "text": [
      "Using device: cuda\n"
     ]
    },
    {
     "name": "stderr",
     "output_type": "stream",
     "text": [
      "[I 2025-09-29 22:50:52,640] Trial 55 finished with value: 2.646887459957504 and parameters: {'learning_rate': 0.0017353257872171864, 'batch_size': 42, 'seq_length': 4, 'dim_feedforward': 169, 'dropout': 0.07839791139079197, 'num_layers': 1}. Best is trial 42 with value: 2.576016665584721.\n"
     ]
    },
    {
     "name": "stdout",
     "output_type": "stream",
     "text": [
      "Using device: cuda\n",
      "Using device: cuda\n"
     ]
    },
    {
     "name": "stderr",
     "output_type": "stream",
     "text": [
      "[I 2025-09-29 22:51:06,295] Trial 56 finished with value: 2.5692276700614882 and parameters: {'learning_rate': 0.0059517128574747115, 'batch_size': 42, 'seq_length': 4, 'dim_feedforward': 283, 'dropout': 0.07870400190564725, 'num_layers': 1}. Best is trial 56 with value: 2.5692276700614882.\n"
     ]
    },
    {
     "name": "stdout",
     "output_type": "stream",
     "text": [
      "Using device: cuda\n",
      "Using device: cuda\n"
     ]
    },
    {
     "name": "stderr",
     "output_type": "stream",
     "text": [
      "[I 2025-09-29 22:51:09,197] Trial 51 finished with value: 2.5875791973357667 and parameters: {'learning_rate': 0.001610587975502386, 'batch_size': 37, 'seq_length': 3, 'dim_feedforward': 172, 'dropout': 0.07939873301804069, 'num_layers': 1}. Best is trial 56 with value: 2.5692276700614882.\n"
     ]
    },
    {
     "name": "stdout",
     "output_type": "stream",
     "text": [
      "Using device: cuda\n"
     ]
    },
    {
     "name": "stderr",
     "output_type": "stream",
     "text": [
      "[I 2025-09-29 22:51:15,095] Trial 36 finished with value: 2.6918132674772526 and parameters: {'learning_rate': 0.0007925476277965316, 'batch_size': 32, 'seq_length': 7, 'dim_feedforward': 401, 'dropout': 0.07174923758113493, 'num_layers': 2}. Best is trial 56 with value: 2.5692276700614882.\n"
     ]
    },
    {
     "name": "stdout",
     "output_type": "stream",
     "text": [
      "Using device: cuda\n",
      "Using device: cuda\n",
      "Using device: cuda\n",
      "Using device: cuda\n",
      "Using device: cuda\n",
      "Using device: cuda\n",
      "Using device: cuda\n",
      "Using device: cuda\n",
      "Using device: cuda\n"
     ]
    },
    {
     "name": "stderr",
     "output_type": "stream",
     "text": [
      "[I 2025-09-29 22:51:55,021] Trial 58 finished with value: 2.732666568786067 and parameters: {'learning_rate': 0.005666210837195988, 'batch_size': 49, 'seq_length': 16, 'dim_feedforward': 226, 'dropout': 0.05597666743438126, 'num_layers': 1}. Best is trial 56 with value: 2.5692276700614882.\n"
     ]
    },
    {
     "name": "stdout",
     "output_type": "stream",
     "text": [
      "Using device: cuda\n",
      "Using device: cuda\n",
      "Using device: cuda\n",
      "Using device: cuda\n"
     ]
    },
    {
     "name": "stderr",
     "output_type": "stream",
     "text": [
      "[I 2025-09-29 22:52:22,125] Trial 59 finished with value: 2.60859414861204 and parameters: {'learning_rate': 0.005296186517496327, 'batch_size': 39, 'seq_length': 7, 'dim_feedforward': 285, 'dropout': 0.08902047671402576, 'num_layers': 1}. Best is trial 56 with value: 2.5692276700614882.\n"
     ]
    },
    {
     "name": "stdout",
     "output_type": "stream",
     "text": [
      "Using device: cuda\n",
      "Using device: cuda\n",
      "Using device: cuda\n",
      "Using device: cuda\n",
      "Using device: cuda\n",
      "Using device: cuda\n",
      "Using device: cuda\n",
      "Using device: cuda\n",
      "Using device: cuda\n",
      "Using device: cuda\n",
      "Using device: cuda\n"
     ]
    },
    {
     "name": "stderr",
     "output_type": "stream",
     "text": [
      "[I 2025-09-29 22:53:01,141] Trial 62 finished with value: 2.5674798173455344 and parameters: {'learning_rate': 0.007422887689583403, 'batch_size': 40, 'seq_length': 4, 'dim_feedforward': 286, 'dropout': 0.08859578928270256, 'num_layers': 1}. Best is trial 62 with value: 2.5674798173455344.\n"
     ]
    },
    {
     "name": "stdout",
     "output_type": "stream",
     "text": [
      "Using device: cuda\n",
      "Using device: cuda\n",
      "Using device: cuda\n"
     ]
    },
    {
     "name": "stderr",
     "output_type": "stream",
     "text": [
      "[I 2025-09-29 22:53:18,778] Trial 57 finished with value: 2.721465895547308 and parameters: {'learning_rate': 0.0009831942016060703, 'batch_size': 41, 'seq_length': 17, 'dim_feedforward': 194, 'dropout': 0.07713857811551415, 'num_layers': 1}. Best is trial 62 with value: 2.5674798173455344.\n"
     ]
    },
    {
     "name": "stdout",
     "output_type": "stream",
     "text": [
      "Using device: cuda\n",
      "Using device: cuda\n"
     ]
    },
    {
     "name": "stderr",
     "output_type": "stream",
     "text": [
      "[I 2025-09-29 22:53:21,934] Trial 63 finished with value: 2.6520080410488407 and parameters: {'learning_rate': 0.0035079428500495104, 'batch_size': 36, 'seq_length': 4, 'dim_feedforward': 242, 'dropout': 0.07541152979153436, 'num_layers': 1}. Best is trial 62 with value: 2.5674798173455344.\n"
     ]
    },
    {
     "name": "stdout",
     "output_type": "stream",
     "text": [
      "Using device: cuda\n"
     ]
    },
    {
     "name": "stderr",
     "output_type": "stream",
     "text": [
      "[I 2025-09-29 22:53:29,023] Trial 60 finished with value: 2.574183215208831 and parameters: {'learning_rate': 0.00545608247568281, 'batch_size': 40, 'seq_length': 7, 'dim_feedforward': 287, 'dropout': 0.07772289808075006, 'num_layers': 1}. Best is trial 62 with value: 2.5674798173455344.\n"
     ]
    },
    {
     "name": "stdout",
     "output_type": "stream",
     "text": [
      "Using device: cuda\n",
      "Using device: cuda\n"
     ]
    },
    {
     "name": "stderr",
     "output_type": "stream",
     "text": [
      "[I 2025-09-29 22:53:39,934] Trial 64 finished with value: 2.595799062800029 and parameters: {'learning_rate': 0.006770091979917986, 'batch_size': 44, 'seq_length': 4, 'dim_feedforward': 243, 'dropout': 0.08884608576037625, 'num_layers': 1}. Best is trial 62 with value: 2.5674798173455344.\n"
     ]
    },
    {
     "name": "stdout",
     "output_type": "stream",
     "text": [
      "Using device: cuda\n",
      "Using device: cuda\n"
     ]
    },
    {
     "name": "stderr",
     "output_type": "stream",
     "text": [
      "[I 2025-09-29 22:53:47,439] Trial 50 finished with value: 2.6213252498437725 and parameters: {'learning_rate': 0.0016472233754635027, 'batch_size': 47, 'seq_length': 11, 'dim_feedforward': 176, 'dropout': 0.0779299917382259, 'num_layers': 1}. Best is trial 62 with value: 2.5674798173455344.\n"
     ]
    },
    {
     "name": "stdout",
     "output_type": "stream",
     "text": [
      "Using device: cuda\n",
      "Using device: cuda\n",
      "Using device: cuda\n",
      "Using device: cuda\n",
      "Using device: cuda\n",
      "Using device: cuda\n",
      "Using device: cuda\n",
      "Using device: cuda\n",
      "Using device: cuda\n",
      "Using device: cuda\n",
      "Using device: cuda\n",
      "Using device: cuda\n"
     ]
    },
    {
     "name": "stderr",
     "output_type": "stream",
     "text": [
      "[I 2025-09-29 22:55:49,114] Trial 66 finished with value: 7.373520001421726 and parameters: {'learning_rate': 0.007946485491011651, 'batch_size': 44, 'seq_length': 4, 'dim_feedforward': 261, 'dropout': 0.08835511803086449, 'num_layers': 5}. Best is trial 62 with value: 2.5674798173455344.\n"
     ]
    },
    {
     "name": "stdout",
     "output_type": "stream",
     "text": [
      "Using device: cuda\n",
      "Using device: cuda\n",
      "Using device: cuda\n",
      "Using device: cuda\n",
      "Using device: cuda\n"
     ]
    },
    {
     "name": "stderr",
     "output_type": "stream",
     "text": [
      "[I 2025-09-29 22:56:12,416] Trial 68 finished with value: 7.832360917593052 and parameters: {'learning_rate': 0.008733828608580152, 'batch_size': 35, 'seq_length': 10, 'dim_feedforward': 262, 'dropout': 0.08739191710085752, 'num_layers': 5}. Best is trial 62 with value: 2.5674798173455344.\n"
     ]
    },
    {
     "name": "stdout",
     "output_type": "stream",
     "text": [
      "Using device: cuda\n",
      "Using device: cuda\n",
      "Using device: cuda\n",
      "Using device: cuda\n",
      "Using device: cuda\n"
     ]
    },
    {
     "name": "stderr",
     "output_type": "stream",
     "text": [
      "[I 2025-09-29 22:56:51,910] Trial 67 finished with value: 7.250208714992709 and parameters: {'learning_rate': 0.009717580784587922, 'batch_size': 35, 'seq_length': 10, 'dim_feedforward': 265, 'dropout': 0.08886994283943594, 'num_layers': 4}. Best is trial 62 with value: 2.5674798173455344.\n"
     ]
    },
    {
     "name": "stdout",
     "output_type": "stream",
     "text": [
      "Using device: cuda\n",
      "Using device: cuda\n",
      "Using device: cuda\n"
     ]
    },
    {
     "name": "stderr",
     "output_type": "stream",
     "text": [
      "[I 2025-09-29 22:57:10,667] Trial 70 finished with value: 2.6252594764589237 and parameters: {'learning_rate': 0.0050353592181877765, 'batch_size': 39, 'seq_length': 5, 'dim_feedforward': 360, 'dropout': 0.06662709711448789, 'num_layers': 1}. Best is trial 62 with value: 2.5674798173455344.\n"
     ]
    },
    {
     "name": "stdout",
     "output_type": "stream",
     "text": [
      "Using device: cuda\n"
     ]
    },
    {
     "name": "stderr",
     "output_type": "stream",
     "text": [
      "[I 2025-09-29 22:57:12,056] Trial 61 finished with value: 2.6324520218411633 and parameters: {'learning_rate': 0.005365673416175614, 'batch_size': 39, 'seq_length': 4, 'dim_feedforward': 237, 'dropout': 0.0896906711247846, 'num_layers': 1}. Best is trial 62 with value: 2.5674798173455344.\n"
     ]
    },
    {
     "name": "stdout",
     "output_type": "stream",
     "text": [
      "Using device: cuda\n",
      "Using device: cuda\n",
      "Using device: cuda\n",
      "Using device: cuda\n",
      "Using device: cuda\n",
      "Using device: cuda\n",
      "Using device: cuda\n"
     ]
    },
    {
     "name": "stderr",
     "output_type": "stream",
     "text": [
      "[I 2025-09-29 22:57:45,844] Trial 65 finished with value: 2.6409660790016494 and parameters: {'learning_rate': 0.008469310245603023, 'batch_size': 35, 'seq_length': 4, 'dim_feedforward': 257, 'dropout': 0.06489808459724901, 'num_layers': 1}. Best is trial 62 with value: 2.5674798173455344.\n"
     ]
    },
    {
     "name": "stdout",
     "output_type": "stream",
     "text": [
      "Using device: cuda\n",
      "Using device: cuda\n",
      "Using device: cuda\n",
      "Using device: cuda\n",
      "Using device: cuda\n"
     ]
    },
    {
     "name": "stderr",
     "output_type": "stream",
     "text": [
      "[I 2025-09-29 22:58:20,387] Trial 73 finished with value: 2.642811891154702 and parameters: {'learning_rate': 0.007680450191671969, 'batch_size': 42, 'seq_length': 6, 'dim_feedforward': 286, 'dropout': 0.0826368132504983, 'num_layers': 1}. Best is trial 62 with value: 2.5674798173455344.\n"
     ]
    },
    {
     "name": "stdout",
     "output_type": "stream",
     "text": [
      "Using device: cuda\n"
     ]
    },
    {
     "name": "stderr",
     "output_type": "stream",
     "text": [
      "[I 2025-09-29 22:58:36,668] Trial 72 finished with value: 2.6720373530621364 and parameters: {'learning_rate': 0.007266238791455568, 'batch_size': 39, 'seq_length': 5, 'dim_feedforward': 289, 'dropout': 0.0654526440069686, 'num_layers': 1}. Best is trial 62 with value: 2.5674798173455344.\n"
     ]
    },
    {
     "name": "stdout",
     "output_type": "stream",
     "text": [
      "Using device: cuda\n"
     ]
    },
    {
     "name": "stderr",
     "output_type": "stream",
     "text": [
      "[I 2025-09-29 22:58:39,543] Trial 71 finished with value: 2.7716260977292646 and parameters: {'learning_rate': 0.005081279671310815, 'batch_size': 39, 'seq_length': 5, 'dim_feedforward': 290, 'dropout': 0.06552125387279986, 'num_layers': 4}. Best is trial 62 with value: 2.5674798173455344.\n"
     ]
    },
    {
     "name": "stdout",
     "output_type": "stream",
     "text": [
      "Using device: cuda\n",
      "Using device: cuda\n",
      "Using device: cuda\n",
      "Using device: cuda\n",
      "Using device: cuda\n",
      "Using device: cuda\n",
      "Using device: cuda\n",
      "Using device: cuda\n",
      "Using device: cuda\n"
     ]
    },
    {
     "name": "stderr",
     "output_type": "stream",
     "text": [
      "[I 2025-09-29 22:59:30,463] Trial 78 finished with value: 2.6811346408813703 and parameters: {'learning_rate': 0.0034065347533076165, 'batch_size': 51, 'seq_length': 8, 'dim_feedforward': 219, 'dropout': 0.0968666129986853, 'num_layers': 2}. Best is trial 62 with value: 2.5674798173455344.\n"
     ]
    },
    {
     "name": "stdout",
     "output_type": "stream",
     "text": [
      "Using device: cuda\n",
      "Using device: cuda\n",
      "Using device: cuda\n",
      "Using device: cuda\n",
      "Using device: cuda\n",
      "Using device: cuda\n",
      "Using device: cuda\n",
      "Using device: cuda\n"
     ]
    },
    {
     "name": "stderr",
     "output_type": "stream",
     "text": [
      "[I 2025-09-29 23:00:07,501] Trial 76 finished with value: 2.776153568416448 and parameters: {'learning_rate': 0.0025844998975170503, 'batch_size': 18, 'seq_length': 8, 'dim_feedforward': 293, 'dropout': 0.060683368870828404, 'num_layers': 1}. Best is trial 62 with value: 2.5674798173455344.\n"
     ]
    },
    {
     "name": "stdout",
     "output_type": "stream",
     "text": [
      "Using device: cuda\n",
      "Using device: cuda\n",
      "Using device: cuda\n",
      "Using device: cuda\n",
      "Using device: cuda\n"
     ]
    },
    {
     "name": "stderr",
     "output_type": "stream",
     "text": [
      "[I 2025-09-29 23:00:47,148] Trial 79 finished with value: 2.5454720927583168 and parameters: {'learning_rate': 0.0066779511652954255, 'batch_size': 28, 'seq_length': 7, 'dim_feedforward': 355, 'dropout': 0.07519874608589755, 'num_layers': 1}. Best is trial 79 with value: 2.5454720927583168.\n"
     ]
    },
    {
     "name": "stdout",
     "output_type": "stream",
     "text": [
      "Using device: cuda\n",
      "Using device: cuda\n",
      "Using device: cuda\n"
     ]
    },
    {
     "name": "stderr",
     "output_type": "stream",
     "text": [
      "[I 2025-09-29 23:01:05,316] Trial 80 finished with value: 2.584885252163526 and parameters: {'learning_rate': 0.001992432588740973, 'batch_size': 29, 'seq_length': 3, 'dim_feedforward': 304, 'dropout': 0.0750021290256768, 'num_layers': 1}. Best is trial 79 with value: 2.5454720927583168.\n"
     ]
    },
    {
     "name": "stdout",
     "output_type": "stream",
     "text": [
      "Using device: cuda\n"
     ]
    },
    {
     "name": "stderr",
     "output_type": "stream",
     "text": [
      "[I 2025-09-29 23:01:10,330] Trial 74 finished with value: 2.603712985304159 and parameters: {'learning_rate': 0.007223297702341401, 'batch_size': 50, 'seq_length': 8, 'dim_feedforward': 288, 'dropout': 0.08278459028140796, 'num_layers': 1}. Best is trial 79 with value: 2.5454720927583168.\n"
     ]
    },
    {
     "name": "stdout",
     "output_type": "stream",
     "text": [
      "Using device: cuda\n",
      "Using device: cuda\n"
     ]
    },
    {
     "name": "stderr",
     "output_type": "stream",
     "text": [
      "[I 2025-09-29 23:01:14,696] Trial 77 finished with value: 2.7653279097288803 and parameters: {'learning_rate': 0.0025858148246265373, 'batch_size': 29, 'seq_length': 8, 'dim_feedforward': 305, 'dropout': 0.07464926169783831, 'num_layers': 2}. Best is trial 79 with value: 2.5454720927583168.\n"
     ]
    },
    {
     "name": "stdout",
     "output_type": "stream",
     "text": [
      "Using device: cuda\n",
      "Using device: cuda\n",
      "Using device: cuda\n",
      "Using device: cuda\n",
      "Using device: cuda\n"
     ]
    },
    {
     "name": "stderr",
     "output_type": "stream",
     "text": [
      "[I 2025-09-29 23:01:52,618] Trial 81 finished with value: 2.6275797864375905 and parameters: {'learning_rate': 0.005807876690196943, 'batch_size': 29, 'seq_length': 7, 'dim_feedforward': 343, 'dropout': 0.0736602460372834, 'num_layers': 1}. Best is trial 79 with value: 2.5454720927583168.\n"
     ]
    },
    {
     "name": "stdout",
     "output_type": "stream",
     "text": [
      "Using device: cuda\n",
      "Using device: cuda\n",
      "Using device: cuda\n",
      "Using device: cuda\n",
      "Using device: cuda\n",
      "Using device: cuda\n"
     ]
    },
    {
     "name": "stderr",
     "output_type": "stream",
     "text": [
      "[I 2025-09-29 23:02:29,323] Trial 85 finished with value: 2.675774807217559 and parameters: {'learning_rate': 0.0062583082600939, 'batch_size': 61, 'seq_length': 6, 'dim_feedforward': 361, 'dropout': 0.008421908007002536, 'num_layers': 1}. Best is trial 79 with value: 2.5454720927583168.\n"
     ]
    },
    {
     "name": "stdout",
     "output_type": "stream",
     "text": [
      "Using device: cuda\n"
     ]
    },
    {
     "name": "stderr",
     "output_type": "stream",
     "text": [
      "[I 2025-09-29 23:02:34,794] Trial 82 finished with value: 2.612681807292663 and parameters: {'learning_rate': 0.006616451374634196, 'batch_size': 29, 'seq_length': 6, 'dim_feedforward': 337, 'dropout': 0.08262342215177214, 'num_layers': 1}. Best is trial 79 with value: 2.5454720927583168.\n"
     ]
    },
    {
     "name": "stdout",
     "output_type": "stream",
     "text": [
      "Using device: cuda\n",
      "Using device: cuda\n",
      "Using device: cuda\n",
      "Using device: cuda\n",
      "Using device: cuda\n",
      "Using device: cuda\n",
      "Using device: cuda\n",
      "Using device: cuda\n",
      "Using device: cuda\n",
      "Using device: cuda\n"
     ]
    },
    {
     "name": "stderr",
     "output_type": "stream",
     "text": [
      "[I 2025-09-29 23:03:14,869] Trial 87 finished with value: 2.7350275055621407 and parameters: {'learning_rate': 0.000281234912048089, 'batch_size': 41, 'seq_length': 9, 'dim_feedforward': 278, 'dropout': 0.0922054815907706, 'num_layers': 1}. Best is trial 79 with value: 2.5454720927583168.\n"
     ]
    },
    {
     "name": "stdout",
     "output_type": "stream",
     "text": [
      "Using device: cuda\n",
      "Using device: cuda\n"
     ]
    },
    {
     "name": "stderr",
     "output_type": "stream",
     "text": [
      "[I 2025-09-29 23:03:28,511] Trial 86 finished with value: 2.689356953206918 and parameters: {'learning_rate': 0.0022319442444513607, 'batch_size': 24, 'seq_length': 12, 'dim_feedforward': 388, 'dropout': 0.09824814629979271, 'num_layers': 1}. Best is trial 79 with value: 2.5454720927583168.\n"
     ]
    },
    {
     "name": "stdout",
     "output_type": "stream",
     "text": [
      "Using device: cuda\n",
      "Using device: cuda\n",
      "Using device: cuda\n",
      "Using device: cuda\n",
      "Using device: cuda\n"
     ]
    },
    {
     "name": "stderr",
     "output_type": "stream",
     "text": [
      "[I 2025-09-29 23:04:05,006] Trial 84 finished with value: 2.64828662102182 and parameters: {'learning_rate': 0.006223320082138388, 'batch_size': 20, 'seq_length': 6, 'dim_feedforward': 340, 'dropout': 0.009474823133884966, 'num_layers': 1}. Best is trial 79 with value: 2.5454720927583168.\n"
     ]
    },
    {
     "name": "stdout",
     "output_type": "stream",
     "text": [
      "Using device: cuda\n",
      "Using device: cuda\n"
     ]
    },
    {
     "name": "stderr",
     "output_type": "stream",
     "text": [
      "[I 2025-09-29 23:04:13,343] Trial 75 finished with value: 2.6190076940291704 and parameters: {'learning_rate': 0.0070504626899740245, 'batch_size': 22, 'seq_length': 6, 'dim_feedforward': 296, 'dropout': 0.081196487021376, 'num_layers': 1}. Best is trial 79 with value: 2.5454720927583168.\n"
     ]
    },
    {
     "name": "stdout",
     "output_type": "stream",
     "text": [
      "Using device: cuda\n",
      "Using device: cuda\n"
     ]
    },
    {
     "name": "stderr",
     "output_type": "stream",
     "text": [
      "[I 2025-09-29 23:04:24,019] Trial 54 finished with value: 2.65579932561189 and parameters: {'learning_rate': 0.0016942044010100224, 'batch_size': 53, 'seq_length': 3, 'dim_feedforward': 283, 'dropout': 0.0794249792554007, 'num_layers': 1}. Best is trial 79 with value: 2.5454720927583168.\n"
     ]
    },
    {
     "name": "stdout",
     "output_type": "stream",
     "text": [
      "Using device: cuda\n",
      "Using device: cuda\n",
      "Using device: cuda\n"
     ]
    },
    {
     "name": "stderr",
     "output_type": "stream",
     "text": [
      "[I 2025-09-29 23:04:45,421] Trial 88 finished with value: 2.5995338327410695 and parameters: {'learning_rate': 0.004690748180153653, 'batch_size': 25, 'seq_length': 13, 'dim_feedforward': 316, 'dropout': 0.09755377794079065, 'num_layers': 1}. Best is trial 79 with value: 2.5454720927583168.\n"
     ]
    },
    {
     "name": "stdout",
     "output_type": "stream",
     "text": [
      "Using device: cuda\n"
     ]
    },
    {
     "name": "stderr",
     "output_type": "stream",
     "text": [
      "[I 2025-09-29 23:04:51,532] Trial 89 finished with value: 2.634225853122942 and parameters: {'learning_rate': 0.0046251933940602615, 'batch_size': 21, 'seq_length': 21, 'dim_feedforward': 433, 'dropout': 0.05692190614090614, 'num_layers': 1}. Best is trial 79 with value: 2.5454720927583168.\n"
     ]
    },
    {
     "name": "stdout",
     "output_type": "stream",
     "text": [
      "Using device: cuda\n",
      "Using device: cuda\n",
      "Using device: cuda\n",
      "Using device: cuda\n",
      "Using device: cuda\n",
      "Using device: cuda\n",
      "Using device: cuda\n",
      "Using device: cuda\n",
      "Using device: cuda\n",
      "Using device: cuda\n",
      "Using device: cuda\n"
     ]
    },
    {
     "name": "stderr",
     "output_type": "stream",
     "text": [
      "[I 2025-09-29 23:05:45,084] Trial 94 finished with value: 2.648838606010519 and parameters: {'learning_rate': 0.0020817550087667627, 'batch_size': 27, 'seq_length': 3, 'dim_feedforward': 305, 'dropout': 0.06927990972861142, 'num_layers': 1}. Best is trial 79 with value: 2.5454720927583168.\n"
     ]
    },
    {
     "name": "stdout",
     "output_type": "stream",
     "text": [
      "Using device: cuda\n",
      "Using device: cuda\n"
     ]
    },
    {
     "name": "stderr",
     "output_type": "stream",
     "text": [
      "[I 2025-09-29 23:05:58,085] Trial 93 finished with value: 2.6444510757084023 and parameters: {'learning_rate': 0.002058434841282146, 'batch_size': 27, 'seq_length': 3, 'dim_feedforward': 273, 'dropout': 0.08607562437982567, 'num_layers': 1}. Best is trial 79 with value: 2.5454720927583168.\n"
     ]
    },
    {
     "name": "stdout",
     "output_type": "stream",
     "text": [
      "Using device: cuda\n",
      "Using device: cuda\n",
      "Using device: cuda\n",
      "Using device: cuda\n"
     ]
    },
    {
     "name": "stderr",
     "output_type": "stream",
     "text": [
      "[I 2025-09-29 23:06:18,350] Trial 90 finished with value: 2.689251991691036 and parameters: {'learning_rate': 0.0019119276850285906, 'batch_size': 26, 'seq_length': 3, 'dim_feedforward': 312, 'dropout': 0.08589438568916657, 'num_layers': 1}. Best is trial 79 with value: 2.5454720927583168.\n"
     ]
    },
    {
     "name": "stdout",
     "output_type": "stream",
     "text": [
      "Using device: cuda\n",
      "Using device: cuda\n"
     ]
    },
    {
     "name": "stderr",
     "output_type": "stream",
     "text": [
      "[I 2025-09-29 23:06:33,297] Trial 95 finished with value: 2.630713388303525 and parameters: {'learning_rate': 0.0013490175067802487, 'batch_size': 31, 'seq_length': 3, 'dim_feedforward': 272, 'dropout': 0.07673752210570944, 'num_layers': 1}. Best is trial 79 with value: 2.5454720927583168.\n"
     ]
    },
    {
     "name": "stdout",
     "output_type": "stream",
     "text": [
      "Using device: cuda\n",
      "Using device: cuda\n",
      "Using device: cuda\n",
      "Using device: cuda\n",
      "Using device: cuda\n",
      "Using device: cuda\n"
     ]
    },
    {
     "name": "stderr",
     "output_type": "stream",
     "text": [
      "[I 2025-09-29 23:07:13,698] Trial 96 finished with value: 2.6945142772750867 and parameters: {'learning_rate': 0.0013673944740640455, 'batch_size': 33, 'seq_length': 4, 'dim_feedforward': 371, 'dropout': 0.07675836452533107, 'num_layers': 2}. Best is trial 79 with value: 2.5454720927583168.\n"
     ]
    },
    {
     "name": "stdout",
     "output_type": "stream",
     "text": [
      "Using device: cuda\n",
      "Using device: cuda\n",
      "Using device: cuda\n",
      "Using device: cuda\n",
      "Using device: cuda\n"
     ]
    },
    {
     "name": "stderr",
     "output_type": "stream",
     "text": [
      "[I 2025-09-29 23:07:44,214] Trial 98 finished with value: 2.7206290711785326 and parameters: {'learning_rate': 0.0036310977766885735, 'batch_size': 37, 'seq_length': 7, 'dim_feedforward': 354, 'dropout': 0.07280239026201804, 'num_layers': 2}. Best is trial 79 with value: 2.5454720927583168.\n"
     ]
    },
    {
     "name": "stdout",
     "output_type": "stream",
     "text": [
      "Using device: cuda\n",
      "Using device: cuda\n",
      "Using device: cuda\n"
     ]
    },
    {
     "name": "stderr",
     "output_type": "stream",
     "text": [
      "[I 2025-09-29 23:07:49,703] Trial 99 finished with value: 2.676230592748286 and parameters: {'learning_rate': 0.003728346645037659, 'batch_size': 62, 'seq_length': 5, 'dim_feedforward': 352, 'dropout': 0.06764805604326385, 'num_layers': 1}. Best is trial 79 with value: 2.5454720927583168.\n",
      "[I 2025-09-29 23:08:01,315] Trial 91 finished with value: 2.679392281116605 and parameters: {'learning_rate': 0.0019186029630040586, 'batch_size': 27, 'seq_length': 3, 'dim_feedforward': 317, 'dropout': 0.0861030715366971, 'num_layers': 1}. Best is trial 79 with value: 2.5454720927583168.\n",
      "[I 2025-09-29 23:08:03,230] Trial 69 finished with value: 8.01925787357725 and parameters: {'learning_rate': 0.007952676958545969, 'batch_size': 35, 'seq_length': 8, 'dim_feedforward': 264, 'dropout': 0.06582817151725441, 'num_layers': 5}. Best is trial 79 with value: 2.5454720927583168.\n"
     ]
    },
    {
     "name": "stdout",
     "output_type": "stream",
     "text": [
      "Using device: cuda\n",
      "Using device: cuda\n",
      "Using device: cuda\n"
     ]
    },
    {
     "name": "stderr",
     "output_type": "stream",
     "text": [
      "[I 2025-09-29 23:08:18,757] Trial 83 finished with value: 2.6144806061202392 and parameters: {'learning_rate': 0.005852877131491771, 'batch_size': 27, 'seq_length': 6, 'dim_feedforward': 354, 'dropout': 0.012881306934650602, 'num_layers': 1}. Best is trial 79 with value: 2.5454720927583168.\n",
      "[I 2025-09-29 23:08:19,188] Trial 97 finished with value: 2.7790183989496944 and parameters: {'learning_rate': 0.0014068918353662768, 'batch_size': 33, 'seq_length': 5, 'dim_feedforward': 350, 'dropout': 0.07496198782066822, 'num_layers': 2}. Best is trial 79 with value: 2.5454720927583168.\n"
     ]
    },
    {
     "name": "stdout",
     "output_type": "stream",
     "text": [
      "Using device: cuda\n"
     ]
    },
    {
     "name": "stderr",
     "output_type": "stream",
     "text": [
      "[I 2025-09-29 23:08:27,640] Trial 38 finished with value: 2.7573125749945087 and parameters: {'learning_rate': 0.0007786283661312173, 'batch_size': 34, 'seq_length': 8, 'dim_feedforward': 197, 'dropout': 0.051922685707599114, 'num_layers': 2}. Best is trial 79 with value: 2.5454720927583168.\n",
      "[I 2025-09-29 23:08:31,014] Trial 25 finished with value: 2.7090335582379206 and parameters: {'learning_rate': 0.001530145521934141, 'batch_size': 64, 'seq_length': 3, 'dim_feedforward': 132, 'dropout': 0.09870326257062419, 'num_layers': 3}. Best is trial 79 with value: 2.5454720927583168.\n"
     ]
    },
    {
     "name": "stdout",
     "output_type": "stream",
     "text": [
      "Using device: cuda\n",
      "Using device: cuda\n"
     ]
    },
    {
     "name": "stderr",
     "output_type": "stream",
     "text": [
      "[I 2025-09-29 23:08:42,670] Trial 92 finished with value: 2.5666134264125957 and parameters: {'learning_rate': 0.0013980419158554714, 'batch_size': 33, 'seq_length': 3, 'dim_feedforward': 315, 'dropout': 0.06848087706976444, 'num_layers': 1}. Best is trial 79 with value: 2.5454720927583168.\n"
     ]
    },
    {
     "name": "stdout",
     "output_type": "stream",
     "text": [
      "Using device: cuda\n"
     ]
    },
    {
     "name": "stderr",
     "output_type": "stream",
     "text": [
      "[I 2025-09-29 23:08:59,760] Trial 35 finished with value: 2.7801835547436986 and parameters: {'learning_rate': 0.0008288445837630881, 'batch_size': 31, 'seq_length': 5, 'dim_feedforward': 402, 'dropout': 0.052006878352606846, 'num_layers': 2}. Best is trial 79 with value: 2.5454720927583168.\n"
     ]
    },
    {
     "data": {
      "text/plain": [
       "{'learning_rate': 0.0066779511652954255,\n",
       " 'batch_size': 28,\n",
       " 'seq_length': 7,\n",
       " 'dim_feedforward': 355,\n",
       " 'dropout': 0.07519874608589755,\n",
       " 'num_layers': 1}"
      ]
     },
     "execution_count": 5,
     "metadata": {},
     "output_type": "execute_result"
    }
   ],
   "source": [
    "def objective2(trial):\n",
    "    # Suggest hyperparameters\n",
    "    # Restrict d_model and nhead to best from first optuna to get better insights (no inf)\n",
    "    d_model = 64\n",
    "    nhead = 4\n",
    "    \n",
    "\n",
    "    params = {\n",
    "        'learning_rate': trial.suggest_float(\"learning_rate\", 1e-4, 1e-2, log=True),\n",
    "        'batch_size': trial.suggest_int(\"batch_size\", 8, 64),\n",
    "        'seq_length': trial.suggest_int(\"seq_length\", 3, 21),\n",
    "        'transformer_encoder_layer_params': {\n",
    "            'd_model': d_model,\n",
    "            'nhead': nhead,\n",
    "            'dim_feedforward': trial.suggest_int(\"dim_feedforward\", 128, 512),\n",
    "            'dropout': trial.suggest_float(\"dropout\", 0.0, 0.1),\n",
    "            'activation': 'relu'\n",
    "        },\n",
    "        'transformer_layer_params': {\n",
    "            'num_layers': trial.suggest_int(\"num_layers\", 1, 5),\n",
    "        },\n",
    "        'dataset': '2016-2019',\n",
    "        'train_test_split': '80:20',\n",
    "        'features': ['sum_30_min_demand'] + feature_names,\n",
    "        'visualise': False,\n",
    "    }\n",
    "    mapes = []\n",
    "    # sd of 0.08 on 100 runs, therefore average over 4 runs to reduce variance to ~0.04\n",
    "    for i in range(4):  # Average over 4 runs to reduce variance\n",
    "        mapes.append(train_model(params))\n",
    "    return sum(mapes)/len(mapes)\n",
    "\n",
    "study = optuna.create_study(storage=\"sqlite:///db.sqlite3\", study_name=\"2016_2019+all_features+80:20+4runs\", load_if_exists=True)\n",
    "study.optimize(objective2, n_trials=100, n_jobs=10)\n",
    "\n",
    "study.best_params"
   ]
  },
  {
   "cell_type": "code",
   "execution_count": null,
   "id": "4e985abe",
   "metadata": {},
   "outputs": [
    {
     "name": "stderr",
     "output_type": "stream",
     "text": [
      "[I 2025-09-30 11:00:43,264] Using an existing study with name '2016_2019+sunlight_precipitation+prior:2019+5runs' instead of creating a new one.\n",
      "[I 2025-09-30 11:03:14,068] Trial 5 finished with value: 3.3521779817646973 and parameters: {'learning_rate': 0.0003144995895281153, 'batch_size': 33, 'seq_length': 18, 'dim_feedforward': 447, 'dropout': 0.09972828946414458, 'num_layers': 5}. Best is trial 5 with value: 3.3521779817646973.\n",
      "[I 2025-09-30 11:03:56,115] Trial 6 finished with value: 3.215110882080167 and parameters: {'learning_rate': 0.0005016988608835774, 'batch_size': 26, 'seq_length': 9, 'dim_feedforward': 316, 'dropout': 0.03986945130763411, 'num_layers': 3}. Best is trial 6 with value: 3.215110882080167.\n",
      "[I 2025-09-30 11:05:08,578] Trial 10 finished with value: 3.243127719450048 and parameters: {'learning_rate': 0.00405119218860763, 'batch_size': 31, 'seq_length': 10, 'dim_feedforward': 253, 'dropout': 0.02121794642786904, 'num_layers': 2}. Best is trial 6 with value: 3.215110882080167.\n",
      "[I 2025-09-30 11:05:52,364] Trial 12 finished with value: 3.3238636154653647 and parameters: {'learning_rate': 0.0008706289987100731, 'batch_size': 60, 'seq_length': 9, 'dim_feedforward': 276, 'dropout': 0.06621477635116098, 'num_layers': 2}. Best is trial 6 with value: 3.215110882080167.\n",
      "[I 2025-09-30 11:06:25,389] Trial 8 finished with value: 3.4924902946510668 and parameters: {'learning_rate': 0.00046428352259798503, 'batch_size': 16, 'seq_length': 11, 'dim_feedforward': 182, 'dropout': 0.014868695862366978, 'num_layers': 2}. Best is trial 6 with value: 3.215110882080167.\n",
      "[I 2025-09-30 11:07:08,854] Trial 11 finished with value: 3.440939427028726 and parameters: {'learning_rate': 0.0003226106307738766, 'batch_size': 28, 'seq_length': 8, 'dim_feedforward': 490, 'dropout': 0.02891583970331989, 'num_layers': 4}. Best is trial 6 with value: 3.215110882080167.\n",
      "[I 2025-09-30 11:07:28,943] Trial 9 finished with value: 3.251096135910402 and parameters: {'learning_rate': 0.0022595582506958214, 'batch_size': 34, 'seq_length': 18, 'dim_feedforward': 389, 'dropout': 0.09948401668467517, 'num_layers': 2}. Best is trial 6 with value: 3.215110882080167.\n",
      "[I 2025-09-30 11:08:06,679] Trial 7 finished with value: 3.3405605721285507 and parameters: {'learning_rate': 0.0013555723153704402, 'batch_size': 33, 'seq_length': 15, 'dim_feedforward': 509, 'dropout': 0.013112495015901572, 'num_layers': 1}. Best is trial 6 with value: 3.215110882080167.\n",
      "[I 2025-09-30 11:08:31,901] Trial 14 finished with value: 3.1933707263365196 and parameters: {'learning_rate': 0.0013977639786962104, 'batch_size': 63, 'seq_length': 14, 'dim_feedforward': 462, 'dropout': 0.06681124133839803, 'num_layers': 1}. Best is trial 14 with value: 3.1933707263365196.\n",
      "[I 2025-09-30 11:09:20,454] Trial 13 finished with value: 3.405275962309943 and parameters: {'learning_rate': 0.0001538520888909138, 'batch_size': 32, 'seq_length': 21, 'dim_feedforward': 166, 'dropout': 0.04651648484589797, 'num_layers': 4}. Best is trial 14 with value: 3.1933707263365196.\n",
      "[I 2025-09-30 11:10:14,406] Trial 19 finished with value: 2.998494414600148 and parameters: {'learning_rate': 0.009492783922540018, 'batch_size': 61, 'seq_length': 3, 'dim_feedforward': 396, 'dropout': 0.07079982464822425, 'num_layers': 1}. Best is trial 19 with value: 2.998494414600148.\n",
      "[I 2025-09-30 11:10:35,711] Trial 15 finished with value: 3.3615439931324866 and parameters: {'learning_rate': 0.0006557609393083693, 'batch_size': 55, 'seq_length': 21, 'dim_feedforward': 455, 'dropout': 0.053978880464148116, 'num_layers': 5}. Best is trial 19 with value: 2.998494414600148.\n",
      "[I 2025-09-30 11:11:24,827] Trial 20 finished with value: 3.0033207341937307 and parameters: {'learning_rate': 0.009280296792419299, 'batch_size': 64, 'seq_length': 4, 'dim_feedforward': 409, 'dropout': 0.07107807043471072, 'num_layers': 1}. Best is trial 19 with value: 2.998494414600148.\n",
      "[I 2025-09-30 11:11:52,715] Trial 21 finished with value: 3.015758287863094 and parameters: {'learning_rate': 0.009629031392456102, 'batch_size': 49, 'seq_length': 3, 'dim_feedforward': 373, 'dropout': 0.07667951111627476, 'num_layers': 1}. Best is trial 19 with value: 2.998494414600148.\n",
      "[I 2025-09-30 11:12:26,807] Trial 16 finished with value: 3.4049737575459496 and parameters: {'learning_rate': 0.0014878895619287874, 'batch_size': 49, 'seq_length': 16, 'dim_feedforward': 213, 'dropout': 0.02998305894311375, 'num_layers': 2}. Best is trial 19 with value: 2.998494414600148.\n",
      "[I 2025-09-30 11:12:47,769] Trial 22 finished with value: 2.940326019284356 and parameters: {'learning_rate': 0.009242368334075698, 'batch_size': 49, 'seq_length': 3, 'dim_feedforward': 376, 'dropout': 0.07987053633754967, 'num_layers': 1}. Best is trial 22 with value: 2.940326019284356.\n",
      "[I 2025-09-30 11:13:28,070] Trial 23 finished with value: 2.9679943117222347 and parameters: {'learning_rate': 0.009125604702696124, 'batch_size': 46, 'seq_length': 3, 'dim_feedforward': 382, 'dropout': 0.08161493140389472, 'num_layers': 1}. Best is trial 22 with value: 2.940326019284356.\n",
      "[I 2025-09-30 11:15:05,551] Trial 25 finished with value: 3.1803058614933204 and parameters: {'learning_rate': 0.004522306114289566, 'batch_size': 44, 'seq_length': 5, 'dim_feedforward': 342, 'dropout': 0.08442098602721676, 'num_layers': 3}. Best is trial 22 with value: 2.940326019284356.\n",
      "[I 2025-09-30 11:16:08,401] Trial 26 finished with value: 3.190682650507147 and parameters: {'learning_rate': 0.0034670834550437507, 'batch_size': 42, 'seq_length': 6, 'dim_feedforward': 341, 'dropout': 0.0868921183430756, 'num_layers': 3}. Best is trial 22 with value: 2.940326019284356.\n",
      "[I 2025-09-30 11:17:24,934] Trial 27 finished with value: 3.2130370191331767 and parameters: {'learning_rate': 0.004530569199551881, 'batch_size': 43, 'seq_length': 6, 'dim_feedforward': 309, 'dropout': 0.0883757960443199, 'num_layers': 3}. Best is trial 22 with value: 2.940326019284356.\n",
      "[I 2025-09-30 11:17:45,774] Trial 18 finished with value: 7.071206535302264 and parameters: {'learning_rate': 0.004333126456188363, 'batch_size': 18, 'seq_length': 6, 'dim_feedforward': 246, 'dropout': 0.0333861590192633, 'num_layers': 5}. Best is trial 22 with value: 2.940326019284356.\n",
      "[I 2025-09-30 11:18:19,462] Trial 29 finished with value: 3.0060493959727137 and parameters: {'learning_rate': 0.005791900566629895, 'batch_size': 53, 'seq_length': 7, 'dim_feedforward': 420, 'dropout': 0.05549829141667598, 'num_layers': 1}. Best is trial 22 with value: 2.940326019284356.\n",
      "[I 2025-09-30 11:18:28,923] Trial 24 finished with value: 3.014778404794925 and parameters: {'learning_rate': 0.0074393364582823855, 'batch_size': 45, 'seq_length': 3, 'dim_feedforward': 371, 'dropout': 0.08263513676200095, 'num_layers': 1}. Best is trial 22 with value: 2.940326019284356.\n",
      "[I 2025-09-30 11:19:12,007] Trial 31 finished with value: 3.0356698975154766 and parameters: {'learning_rate': 0.008607223323566043, 'batch_size': 56, 'seq_length': 3, 'dim_feedforward': 373, 'dropout': 0.0782458462104876, 'num_layers': 1}. Best is trial 22 with value: 2.940326019284356.\n",
      "[I 2025-09-30 11:19:17,056] Trial 30 finished with value: 3.0989411843799726 and parameters: {'learning_rate': 0.007148435753632954, 'batch_size': 55, 'seq_length': 3, 'dim_feedforward': 417, 'dropout': 0.05648637837931358, 'num_layers': 1}. Best is trial 22 with value: 2.940326019284356.\n",
      "[I 2025-09-30 11:20:17,946] Trial 33 finished with value: 3.329564463890586 and parameters: {'learning_rate': 0.0022490075084122215, 'batch_size': 38, 'seq_length': 5, 'dim_feedforward': 128, 'dropout': 0.06159405906620416, 'num_layers': 2}. Best is trial 22 with value: 2.940326019284356.\n",
      "[I 2025-09-30 11:20:24,650] Trial 32 finished with value: 3.0833112300097767 and parameters: {'learning_rate': 0.002581712457298543, 'batch_size': 56, 'seq_length': 3, 'dim_feedforward': 409, 'dropout': 0.06248266220706372, 'num_layers': 1}. Best is trial 22 with value: 2.940326019284356.\n",
      "[I 2025-09-30 11:21:34,402] Trial 34 finished with value: 3.153695430808533 and parameters: {'learning_rate': 0.002595294935969779, 'batch_size': 40, 'seq_length': 5, 'dim_feedforward': 356, 'dropout': 0.0626362640690067, 'num_layers': 2}. Best is trial 22 with value: 2.940326019284356.\n",
      "[I 2025-09-30 11:21:41,501] Trial 35 finished with value: 3.120008859650949 and parameters: {'learning_rate': 0.002601166726682117, 'batch_size': 49, 'seq_length': 5, 'dim_feedforward': 338, 'dropout': 0.09330556039047444, 'num_layers': 2}. Best is trial 22 with value: 2.940326019284356.\n",
      "[I 2025-09-30 11:22:33,497] Trial 38 finished with value: 3.145233759077181 and parameters: {'learning_rate': 0.005986517131324451, 'batch_size': 60, 'seq_length': 12, 'dim_feedforward': 294, 'dropout': 0.07397831645798829, 'num_layers': 1}. Best is trial 22 with value: 2.940326019284356.\n",
      "[I 2025-09-30 11:22:49,120] Trial 17 finished with value: 7.122143166849002 and parameters: {'learning_rate': 0.009779229776383454, 'batch_size': 19, 'seq_length': 18, 'dim_feedforward': 190, 'dropout': 0.09200869669968709, 'num_layers': 3}. Best is trial 22 with value: 2.940326019284356.\n",
      "[I 2025-09-30 11:23:09,690] Trial 37 finished with value: 3.1441086629160218 and parameters: {'learning_rate': 0.00605307574212437, 'batch_size': 49, 'seq_length': 13, 'dim_feedforward': 297, 'dropout': 0.0010893279753759547, 'num_layers': 1}. Best is trial 22 with value: 2.940326019284356.\n",
      "[I 2025-09-30 11:23:58,403] Trial 36 finished with value: 3.4041286503606583 and parameters: {'learning_rate': 0.006097140281482573, 'batch_size': 50, 'seq_length': 13, 'dim_feedforward': 346, 'dropout': 0.002280939933771736, 'num_layers': 2}. Best is trial 22 with value: 2.940326019284356.\n",
      "[I 2025-09-30 11:24:32,315] Trial 39 finished with value: 3.2420899248769475 and parameters: {'learning_rate': 0.00015338404808095315, 'batch_size': 52, 'seq_length': 7, 'dim_feedforward': 433, 'dropout': 0.09517097715081747, 'num_layers': 4}. Best is trial 22 with value: 2.940326019284356.\n",
      "[I 2025-09-30 11:24:42,881] Trial 28 finished with value: 3.0895892087700645 and parameters: {'learning_rate': 0.006078073438693036, 'batch_size': 8, 'seq_length': 7, 'dim_feedforward': 299, 'dropout': 0.05815443064071811, 'num_layers': 1}. Best is trial 22 with value: 2.940326019284356.\n",
      "[I 2025-09-30 11:24:43,634] Trial 41 finished with value: 3.052827900461185 and parameters: {'learning_rate': 0.006569059955695503, 'batch_size': 63, 'seq_length': 4, 'dim_feedforward': 404, 'dropout': 0.06989567230625046, 'num_layers': 1}. Best is trial 22 with value: 2.940326019284356.\n",
      "[I 2025-09-30 11:25:29,607] Trial 43 finished with value: 3.0114422425291614 and parameters: {'learning_rate': 0.00990066395302643, 'batch_size': 62, 'seq_length': 4, 'dim_feedforward': 390, 'dropout': 0.0716335360230409, 'num_layers': 1}. Best is trial 22 with value: 2.940326019284356.\n",
      "[I 2025-09-30 11:25:55,712] Trial 45 finished with value: 3.1430855810992093 and parameters: {'learning_rate': 0.0033869307076609687, 'batch_size': 61, 'seq_length': 4, 'dim_feedforward': 388, 'dropout': 0.04517873442328674, 'num_layers': 1}. Best is trial 22 with value: 2.940326019284356.\n",
      "[I 2025-09-30 11:26:00,334] Trial 44 finished with value: 2.9547069562700616 and parameters: {'learning_rate': 0.00971926950336264, 'batch_size': 64, 'seq_length': 4, 'dim_feedforward': 392, 'dropout': 0.07073385919833766, 'num_layers': 1}. Best is trial 22 with value: 2.940326019284356.\n",
      "[I 2025-09-30 11:26:00,991] Trial 42 finished with value: 2.9894773424950567 and parameters: {'learning_rate': 0.007953471235446317, 'batch_size': 63, 'seq_length': 4, 'dim_feedforward': 434, 'dropout': 0.07178268387286676, 'num_layers': 1}. Best is trial 22 with value: 2.940326019284356.\n",
      "[I 2025-09-30 11:27:22,302] Trial 48 finished with value: 3.2778104863138555 and parameters: {'learning_rate': 0.001824081261825981, 'batch_size': 59, 'seq_length': 8, 'dim_feedforward': 434, 'dropout': 0.07921175233567647, 'num_layers': 2}. Best is trial 22 with value: 2.940326019284356.\n",
      "[I 2025-09-30 11:27:30,753] Trial 46 finished with value: 3.1486240396020095 and parameters: {'learning_rate': 0.008027545542646402, 'batch_size': 59, 'seq_length': 4, 'dim_feedforward': 478, 'dropout': 0.04614976679400865, 'num_layers': 2}. Best is trial 22 with value: 2.940326019284356.\n",
      "[I 2025-09-30 11:27:33,877] Trial 40 finished with value: 3.005216819608646 and parameters: {'learning_rate': 0.006580852067867973, 'batch_size': 64, 'seq_length': 4, 'dim_feedforward': 437, 'dropout': 0.07313129699101215, 'num_layers': 1}. Best is trial 22 with value: 2.940326019284356.\n",
      "[I 2025-09-30 11:28:20,444] Trial 51 finished with value: 3.137880393548023 and parameters: {'learning_rate': 0.005077551302945122, 'batch_size': 58, 'seq_length': 10, 'dim_feedforward': 446, 'dropout': 0.0807114671990491, 'num_layers': 1}. Best is trial 22 with value: 2.940326019284356.\n",
      "[I 2025-09-30 11:28:43,765] Trial 47 finished with value: 3.209865659336254 and parameters: {'learning_rate': 0.00010075932139126545, 'batch_size': 58, 'seq_length': 10, 'dim_feedforward': 479, 'dropout': 0.07918434728235171, 'num_layers': 2}. Best is trial 22 with value: 2.940326019284356.\n",
      "[I 2025-09-30 11:28:53,456] Trial 50 finished with value: 2.9581410957262784 and parameters: {'learning_rate': 0.008052118998481753, 'batch_size': 58, 'seq_length': 4, 'dim_feedforward': 465, 'dropout': 0.07992838029749877, 'num_layers': 1}. Best is trial 22 with value: 2.940326019284356.\n",
      "[I 2025-09-30 11:29:14,636] Trial 53 finished with value: 3.2327780867944607 and parameters: {'learning_rate': 0.0033615617851433725, 'batch_size': 52, 'seq_length': 6, 'dim_feedforward': 501, 'dropout': 0.06629769650884824, 'num_layers': 2}. Best is trial 22 with value: 2.940326019284356.\n",
      "[I 2025-09-30 11:29:53,894] Trial 56 finished with value: 3.240793391886555 and parameters: {'learning_rate': 0.00037998311613878465, 'batch_size': 46, 'seq_length': 8, 'dim_feedforward': 463, 'dropout': 0.08832973703325099, 'num_layers': 1}. Best is trial 22 with value: 2.940326019284356.\n",
      "[I 2025-09-30 11:30:02,009] Trial 49 finished with value: 3.1383102007280126 and parameters: {'learning_rate': 0.005046688312733561, 'batch_size': 58, 'seq_length': 8, 'dim_feedforward': 480, 'dropout': 0.07959763014564561, 'num_layers': 2}. Best is trial 22 with value: 2.940326019284356.\n",
      "[I 2025-09-30 11:30:04,756] Trial 54 finished with value: 3.0690740975167476 and parameters: {'learning_rate': 0.003476886689178416, 'batch_size': 46, 'seq_length': 6, 'dim_feedforward': 387, 'dropout': 0.09901313125882932, 'num_layers': 1}. Best is trial 22 with value: 2.940326019284356.\n",
      "[I 2025-09-30 11:30:20,230] Trial 55 finished with value: 2.9501932829662554 and parameters: {'learning_rate': 0.003484693853561115, 'batch_size': 35, 'seq_length': 6, 'dim_feedforward': 490, 'dropout': 0.09714413236174178, 'num_layers': 1}. Best is trial 22 with value: 2.940326019284356.\n",
      "[I 2025-09-30 11:31:47,549] Trial 58 finished with value: 3.265330983848649 and parameters: {'learning_rate': 0.00110094849045587, 'batch_size': 47, 'seq_length': 16, 'dim_feedforward': 363, 'dropout': 0.08604744671973297, 'num_layers': 1}. Best is trial 22 with value: 2.940326019284356.\n",
      "[I 2025-09-30 11:31:51,207] Trial 57 finished with value: 2.961646022378404 and parameters: {'learning_rate': 0.007879322050548525, 'batch_size': 25, 'seq_length': 5, 'dim_feedforward': 470, 'dropout': 0.09960324282825264, 'num_layers': 1}. Best is trial 22 with value: 2.940326019284356.\n",
      "[I 2025-09-30 11:32:05,994] Trial 52 finished with value: 3.1527406981090884 and parameters: {'learning_rate': 0.00011049541646380094, 'batch_size': 58, 'seq_length': 9, 'dim_feedforward': 471, 'dropout': 0.07953054007957877, 'num_layers': 1}. Best is trial 22 with value: 2.940326019284356.\n",
      "[I 2025-09-30 11:32:11,356] Trial 60 finished with value: 2.974237099820012 and parameters: {'learning_rate': 0.007808516885887919, 'batch_size': 29, 'seq_length': 5, 'dim_feedforward': 461, 'dropout': 0.0976852279323147, 'num_layers': 1}. Best is trial 22 with value: 2.940326019284356.\n",
      "[I 2025-09-30 11:32:12,089] Trial 59 finished with value: 3.0571784508588755 and parameters: {'learning_rate': 0.007547289069238573, 'batch_size': 35, 'seq_length': 16, 'dim_feedforward': 511, 'dropout': 0.08483154718847882, 'num_layers': 1}. Best is trial 22 with value: 2.940326019284356.\n",
      "[I 2025-09-30 11:33:26,470] Trial 62 finished with value: 2.9788541058243463 and parameters: {'learning_rate': 0.007836674591313408, 'batch_size': 27, 'seq_length': 5, 'dim_feedforward': 507, 'dropout': 0.0998446386430566, 'num_layers': 1}. Best is trial 22 with value: 2.940326019284356.\n",
      "[I 2025-09-30 11:34:44,368] Trial 66 finished with value: 2.994422796835231 and parameters: {'learning_rate': 0.005055545941213997, 'batch_size': 24, 'seq_length': 3, 'dim_feedforward': 494, 'dropout': 0.09416496914521823, 'num_layers': 1}. Best is trial 22 with value: 2.940326019284356.\n",
      "[I 2025-09-30 11:34:54,939] Trial 64 finished with value: 8.019273281530403 and parameters: {'learning_rate': 0.0051061673925092, 'batch_size': 25, 'seq_length': 5, 'dim_feedforward': 503, 'dropout': 0.09064328526067547, 'num_layers': 5}. Best is trial 22 with value: 2.940326019284356.\n",
      "[I 2025-09-30 11:36:26,083] Trial 68 finished with value: 3.069130193486902 and parameters: {'learning_rate': 0.00392858479706554, 'batch_size': 31, 'seq_length': 7, 'dim_feedforward': 329, 'dropout': 0.08907082038064147, 'num_layers': 1}. Best is trial 22 with value: 2.940326019284356.\n",
      "[I 2025-09-30 11:36:58,193] Trial 67 finished with value: 6.7985800563259255 and parameters: {'learning_rate': 0.004007350429896837, 'batch_size': 24, 'seq_length': 7, 'dim_feedforward': 321, 'dropout': 0.09077948089573265, 'num_layers': 5}. Best is trial 22 with value: 2.940326019284356.\n",
      "[I 2025-09-30 11:38:35,687] Trial 70 finished with value: 3.017339470961756 and parameters: {'learning_rate': 0.00869613733207079, 'batch_size': 29, 'seq_length': 3, 'dim_feedforward': 453, 'dropout': 0.09840374839202275, 'num_layers': 1}. Best is trial 22 with value: 2.940326019284356.\n",
      "[I 2025-09-30 11:38:46,857] Trial 65 finished with value: 8.012047863881708 and parameters: {'learning_rate': 0.005225463411133936, 'batch_size': 21, 'seq_length': 20, 'dim_feedforward': 489, 'dropout': 0.09702807738688557, 'num_layers': 5}. Best is trial 22 with value: 2.940326019284356.\n",
      "[I 2025-09-30 11:38:58,335] Trial 69 finished with value: 3.1695450385518424 and parameters: {'learning_rate': 0.0005851937607482691, 'batch_size': 22, 'seq_length': 3, 'dim_feedforward': 425, 'dropout': 0.08366527882018042, 'num_layers': 2}. Best is trial 22 with value: 2.940326019284356.\n",
      "[I 2025-09-30 11:39:27,625] Trial 61 finished with value: 3.067125277687993 and parameters: {'learning_rate': 0.0074027192786673595, 'batch_size': 29, 'seq_length': 5, 'dim_feedforward': 510, 'dropout': 0.09092972451794383, 'num_layers': 1}. Best is trial 22 with value: 2.940326019284356.\n",
      "[I 2025-09-30 11:40:12,141] Trial 73 finished with value: 3.0586577111780384 and parameters: {'learning_rate': 0.009505987720829563, 'batch_size': 39, 'seq_length': 6, 'dim_feedforward': 466, 'dropout': 0.07564577392279968, 'num_layers': 1}. Best is trial 22 with value: 2.940326019284356.\n",
      "[I 2025-09-30 11:40:47,798] Trial 71 finished with value: 3.1384981188241126 and parameters: {'learning_rate': 0.009564788156948565, 'batch_size': 21, 'seq_length': 6, 'dim_feedforward': 462, 'dropout': 0.09570797277421426, 'num_layers': 1}. Best is trial 22 with value: 2.940326019284356.\n",
      "[I 2025-09-30 11:41:41,906] Trial 72 finished with value: 3.165784372312104 and parameters: {'learning_rate': 0.007210402073465453, 'batch_size': 33, 'seq_length': 6, 'dim_feedforward': 465, 'dropout': 0.08381593090569298, 'num_layers': 1}. Best is trial 22 with value: 2.940326019284356.\n",
      "[I 2025-09-30 11:42:21,004] Trial 75 finished with value: 6.87345938567203 and parameters: {'learning_rate': 0.006968485013743605, 'batch_size': 33, 'seq_length': 4, 'dim_feedforward': 455, 'dropout': 0.09532355030292763, 'num_layers': 4}. Best is trial 22 with value: 2.940326019284356.\n",
      "[I 2025-09-30 11:43:21,586] Trial 63 finished with value: 3.0352573037916146 and parameters: {'learning_rate': 0.007696353780222036, 'batch_size': 25, 'seq_length': 5, 'dim_feedforward': 458, 'dropout': 0.0974298602145111, 'num_layers': 1}. Best is trial 22 with value: 2.940326019284356.\n",
      "[I 2025-09-30 11:43:43,496] Trial 78 finished with value: 2.9671560061321633 and parameters: {'learning_rate': 0.008460912502655106, 'batch_size': 37, 'seq_length': 5, 'dim_feedforward': 255, 'dropout': 0.06854906266198244, 'num_layers': 1}. Best is trial 22 with value: 2.940326019284356.\n",
      "[I 2025-09-30 11:44:08,755] Trial 76 finished with value: 3.0423317632587437 and parameters: {'learning_rate': 0.006862550155074043, 'batch_size': 13, 'seq_length': 4, 'dim_feedforward': 245, 'dropout': 0.09321900546530502, 'num_layers': 1}. Best is trial 22 with value: 2.940326019284356.\n",
      "[I 2025-09-30 11:44:18,281] Trial 74 finished with value: 3.0881270213514322 and parameters: {'learning_rate': 0.009674176743865417, 'batch_size': 38, 'seq_length': 6, 'dim_feedforward': 464, 'dropout': 0.09480378277480245, 'num_layers': 1}. Best is trial 22 with value: 2.940326019284356.\n",
      "[I 2025-09-30 11:44:56,309] Trial 80 finished with value: 3.0217717941794477 and parameters: {'learning_rate': 0.008826056011632511, 'batch_size': 36, 'seq_length': 4, 'dim_feedforward': 256, 'dropout': 0.06685004152023902, 'num_layers': 1}. Best is trial 22 with value: 2.940326019284356.\n",
      "[I 2025-09-30 11:45:14,078] Trial 81 finished with value: 3.053272924262428 and parameters: {'learning_rate': 0.00868664253451371, 'batch_size': 37, 'seq_length': 3, 'dim_feedforward': 267, 'dropout': 0.051284558643116374, 'num_layers': 1}. Best is trial 22 with value: 2.940326019284356.\n",
      "[I 2025-09-30 11:45:38,616] Trial 77 finished with value: 5.5847229171580395 and parameters: {'learning_rate': 0.008619459276570589, 'batch_size': 37, 'seq_length': 4, 'dim_feedforward': 410, 'dropout': 0.05124015708452005, 'num_layers': 3}. Best is trial 22 with value: 2.940326019284356.\n",
      "[I 2025-09-30 11:46:27,712] Trial 83 finished with value: 2.991653721035569 and parameters: {'learning_rate': 0.005708680093133195, 'batch_size': 31, 'seq_length': 3, 'dim_feedforward': 222, 'dropout': 0.08662121802762895, 'num_layers': 1}. Best is trial 22 with value: 2.940326019284356.\n",
      "[I 2025-09-30 11:46:35,723] Trial 84 finished with value: 3.044597405016289 and parameters: {'learning_rate': 0.005680208413286833, 'batch_size': 31, 'seq_length': 5, 'dim_feedforward': 190, 'dropout': 0.07552625621084189, 'num_layers': 1}. Best is trial 22 with value: 2.940326019284356.\n",
      "[I 2025-09-30 11:47:29,169] Trial 87 finished with value: 3.017211283207411 and parameters: {'learning_rate': 0.004468250258501951, 'batch_size': 43, 'seq_length': 5, 'dim_feedforward': 378, 'dropout': 0.06936096185885134, 'num_layers': 1}. Best is trial 22 with value: 2.940326019284356.\n",
      "[I 2025-09-30 11:47:36,553] Trial 85 finished with value: 2.937620741190157 and parameters: {'learning_rate': 0.005749102129708673, 'batch_size': 43, 'seq_length': 5, 'dim_feedforward': 379, 'dropout': 0.06878088229261956, 'num_layers': 1}. Best is trial 85 with value: 2.937620741190157.\n",
      "[I 2025-09-30 11:47:53,741] Trial 86 finished with value: 2.9978830636281923 and parameters: {'learning_rate': 0.006191833062495381, 'batch_size': 41, 'seq_length': 5, 'dim_feedforward': 445, 'dropout': 0.07668066539027861, 'num_layers': 1}. Best is trial 85 with value: 2.937620741190157.\n",
      "[I 2025-09-30 11:49:00,198] Trial 82 finished with value: 2.9381618498925377 and parameters: {'learning_rate': 0.008567638589458063, 'batch_size': 36, 'seq_length': 3, 'dim_feedforward': 264, 'dropout': 0.06813274538814387, 'num_layers': 1}. Best is trial 85 with value: 2.937620741190157.\n",
      "[I 2025-09-30 11:49:11,605] Trial 88 finished with value: 3.1134498098602412 and parameters: {'learning_rate': 0.006428812311181721, 'batch_size': 42, 'seq_length': 7, 'dim_feedforward': 358, 'dropout': 0.08190901975606815, 'num_layers': 2}. Best is trial 85 with value: 2.937620741190157.\n",
      "[I 2025-09-30 11:49:15,088] Trial 90 finished with value: 3.012968917006956 and parameters: {'learning_rate': 0.006631389122872262, 'batch_size': 41, 'seq_length': 4, 'dim_feedforward': 355, 'dropout': 0.06405971410488262, 'num_layers': 1}. Best is trial 85 with value: 2.937620741190157.\n",
      "[I 2025-09-30 11:50:09,222] Trial 92 finished with value: 2.9971533106844546 and parameters: {'learning_rate': 0.008489723914729474, 'batch_size': 44, 'seq_length': 3, 'dim_feedforward': 273, 'dropout': 0.05985745473942948, 'num_layers': 1}. Best is trial 85 with value: 2.937620741190157.\n",
      "[I 2025-09-30 11:50:22,941] Trial 93 finished with value: 2.990354708203438 and parameters: {'learning_rate': 0.009963189149708706, 'batch_size': 54, 'seq_length': 3, 'dim_feedforward': 239, 'dropout': 0.05975676963976768, 'num_layers': 1}. Best is trial 85 with value: 2.937620741190157.\n",
      "[I 2025-09-30 11:50:36,165] Trial 89 finished with value: 3.0261241742892127 and parameters: {'learning_rate': 0.006589184592023932, 'batch_size': 41, 'seq_length': 3, 'dim_feedforward': 363, 'dropout': 0.06056556312057364, 'num_layers': 2}. Best is trial 85 with value: 2.937620741190157.\n",
      "[I 2025-09-30 11:50:45,676] Trial 94 finished with value: 3.057597106570743 and parameters: {'learning_rate': 0.0008176975392239055, 'batch_size': 51, 'seq_length': 3, 'dim_feedforward': 222, 'dropout': 0.06816415771297957, 'num_layers': 1}. Best is trial 85 with value: 2.937620741190157.\n",
      "[I 2025-09-30 11:50:56,084] Trial 79 finished with value: 3.0163957112821635 and parameters: {'learning_rate': 0.008692791701589493, 'batch_size': 37, 'seq_length': 4, 'dim_feedforward': 405, 'dropout': 0.08708992880620926, 'num_layers': 1}. Best is trial 85 with value: 2.937620741190157.\n",
      "[I 2025-09-30 11:51:08,304] Trial 95 finished with value: 2.992491808592919 and parameters: {'learning_rate': 0.005588877438880038, 'batch_size': 51, 'seq_length': 4, 'dim_feedforward': 306, 'dropout': 0.06819425968444937, 'num_layers': 1}. Best is trial 85 with value: 2.937620741190157.\n",
      "[I 2025-09-30 11:51:28,634] Trial 97 finished with value: 3.0531625955713224 and parameters: {'learning_rate': 0.0056070039502071475, 'batch_size': 48, 'seq_length': 4, 'dim_feedforward': 397, 'dropout': 0.07328800711474712, 'num_layers': 1}. Best is trial 85 with value: 2.937620741190157.\n",
      "[I 2025-09-30 11:52:11,830] Trial 99 finished with value: 3.126542387342036 and parameters: {'learning_rate': 0.0002300184676837974, 'batch_size': 47, 'seq_length': 6, 'dim_feedforward': 394, 'dropout': 0.07395614983130674, 'num_layers': 1}. Best is trial 85 with value: 2.937620741190157.\n",
      "[I 2025-09-30 11:52:12,138] Trial 96 finished with value: 3.145469595477128 and parameters: {'learning_rate': 0.0002657144144528353, 'batch_size': 48, 'seq_length': 4, 'dim_feedforward': 286, 'dropout': 0.06832313569931511, 'num_layers': 1}. Best is trial 85 with value: 2.937620741190157.\n",
      "[I 2025-09-30 11:52:50,038] Trial 91 finished with value: 3.003209798421294 and parameters: {'learning_rate': 0.009880636721669415, 'batch_size': 41, 'seq_length': 3, 'dim_feedforward': 284, 'dropout': 0.05963039168685908, 'num_layers': 1}. Best is trial 85 with value: 2.937620741190157.\n",
      "[I 2025-09-30 11:52:52,292] Trial 100 finished with value: 3.064548671619111 and parameters: {'learning_rate': 0.007821810294038894, 'batch_size': 34, 'seq_length': 5, 'dim_feedforward': 286, 'dropout': 0.06375091609473288, 'num_layers': 1}. Best is trial 85 with value: 2.937620741190157.\n",
      "[I 2025-09-30 11:53:46,424] Trial 101 finished with value: 3.020925632295329 and parameters: {'learning_rate': 0.007903211334762763, 'batch_size': 35, 'seq_length': 5, 'dim_feedforward': 422, 'dropout': 0.06465141026517664, 'num_layers': 1}. Best is trial 85 with value: 2.937620741190157.\n",
      "[I 2025-09-30 11:54:16,907] Trial 98 finished with value: 3.013406235911256 and parameters: {'learning_rate': 0.005657536301914225, 'batch_size': 48, 'seq_length': 4, 'dim_feedforward': 380, 'dropout': 0.07417525575840207, 'num_layers': 1}. Best is trial 85 with value: 2.937620741190157.\n",
      "[I 2025-09-30 11:54:17,591] Trial 104 finished with value: 3.055393555398699 and parameters: {'learning_rate': 0.007884117754636792, 'batch_size': 29, 'seq_length': 5, 'dim_feedforward': 382, 'dropout': 0.018061471634083295, 'num_layers': 1}. Best is trial 85 with value: 2.937620741190157.\n",
      "[I 2025-09-30 11:54:25,818] Trial 102 finished with value: 3.0466840989568746 and parameters: {'learning_rate': 0.007937105041435277, 'batch_size': 34, 'seq_length': 5, 'dim_feedforward': 381, 'dropout': 0.019565186244643297, 'num_layers': 1}. Best is trial 85 with value: 2.937620741190157.\n",
      "[I 2025-09-30 11:54:48,873] Trial 103 finished with value: 2.994762595426409 and parameters: {'learning_rate': 0.007905724878417054, 'batch_size': 28, 'seq_length': 5, 'dim_feedforward': 478, 'dropout': 0.0771039507347703, 'num_layers': 1}. Best is trial 85 with value: 2.937620741190157.\n"
     ]
    },
    {
     "data": {
      "text/plain": [
       "{'learning_rate': 0.005749102129708673,\n",
       " 'batch_size': 43,\n",
       " 'seq_length': 5,\n",
       " 'dim_feedforward': 379,\n",
       " 'dropout': 0.06878088229261956,\n",
       " 'num_layers': 1}"
      ]
     },
     "execution_count": 2,
     "metadata": {},
     "output_type": "execute_result"
    }
   ],
   "source": [
    "def objective4(trial):\n",
    "    # Suggest hyperparameters\n",
    "    # Restrict d_model and nhead to best from first optuna to get better insights (no inf)\n",
    "    d_model = 64\n",
    "    nhead = 4\n",
    "    \n",
    "    params = {\n",
    "        'learning_rate': trial.suggest_float(\"learning_rate\", 1e-4, 1e-2, log=True),\n",
    "        'batch_size': trial.suggest_int(\"batch_size\", 8, 64),\n",
    "        'seq_length': trial.suggest_int(\"seq_length\", 3, 21),\n",
    "        'transformer_encoder_layer_params': {\n",
    "            'd_model': d_model,\n",
    "            'nhead': nhead,\n",
    "            'dim_feedforward': trial.suggest_int(\"dim_feedforward\", 128, 512),\n",
    "            'dropout': trial.suggest_float(\"dropout\", 0.0, 0.1),\n",
    "            'activation': 'relu'\n",
    "        },\n",
    "        'transformer_layer_params': {\n",
    "            'num_layers': trial.suggest_int(\"num_layers\", 1, 5),\n",
    "        },\n",
    "        'dataset': '2016-2019',\n",
    "        'train_test_split': 'prior:2019',\n",
    "        'features': ['sum_30_min_demand'] + feature_names,\n",
    "        'visualise': False,\n",
    "    }\n",
    "    mapes = []\n",
    "    # sd of 0.08 on 100 runs, therefore average over 5 runs to reduce variance to ~0.04\n",
    "    for i in range(5):  # Average over 5 runs to reduce variance\n",
    "        mapes.append(train_model(params))\n",
    "    median_mape = sorted(mapes)[len(mapes) // 2]  # Use median to reduce impact of outliers\n",
    "    return median_mape\n",
    "\n",
    "study = optuna.create_study(storage=\"sqlite:///db.sqlite3\", study_name=\"2016_2019+sunlight_precipitation+prior:2019+5runs\", load_if_exists=True)\n",
    "study.optimize(objective4, n_trials=100, n_jobs=5)\n",
    "\n",
    "study.best_params"
   ]
  },
  {
   "cell_type": "code",
   "execution_count": null,
   "id": "60cd01e1",
   "metadata": {},
   "outputs": [
    {
     "name": "stderr",
     "output_type": "stream",
     "text": [
      "[I 2025-10-02 10:04:03,395] Using an existing study with name '75:25-base' instead of creating a new one.\n",
      "[I 2025-10-02 10:10:38,798] Trial 37 finished with value: 3.9944380702471207 and parameters: {'learning_rate': 0.001580317854197986, 'batch_size': 12, 'seq_length': 14, 'dim_feedforward': 135, 'dropout': 0.021791949587060353, 'num_layers': 2}. Best is trial 21 with value: 3.8813432231978093.\n",
      "[I 2025-10-02 10:12:59,173] Trial 38 finished with value: 3.8832749267350573 and parameters: {'learning_rate': 0.001473261522735139, 'batch_size': 8, 'seq_length': 14, 'dim_feedforward': 333, 'dropout': 0.024403476197233723, 'num_layers': 2}. Best is trial 21 with value: 3.8813432231978093.\n",
      "[I 2025-10-02 10:14:34,878] Trial 42 finished with value: 4.1152942029813095 and parameters: {'learning_rate': 0.0015350167517641496, 'batch_size': 58, 'seq_length': 15, 'dim_feedforward': 329, 'dropout': 0.021290549398654494, 'num_layers': 2}. Best is trial 21 with value: 3.8813432231978093.\n",
      "[I 2025-10-02 10:15:21,703] Trial 41 finished with value: 3.95547461398879 and parameters: {'learning_rate': 0.0012190157601848486, 'batch_size': 17, 'seq_length': 14, 'dim_feedforward': 312, 'dropout': 0.020769630081096453, 'num_layers': 2}. Best is trial 21 with value: 3.8813432231978093.\n",
      "[I 2025-10-02 10:16:25,319] Trial 43 finished with value: 3.999930259419513 and parameters: {'learning_rate': 0.0012489678609455548, 'batch_size': 64, 'seq_length': 21, 'dim_feedforward': 312, 'dropout': 0.025995483373299447, 'num_layers': 2}. Best is trial 21 with value: 3.8813432231978093.\n",
      "[I 2025-10-02 10:18:54,670] Trial 44 finished with value: 3.874766694766554 and parameters: {'learning_rate': 0.0009362316071368533, 'batch_size': 38, 'seq_length': 21, 'dim_feedforward': 323, 'dropout': 0.002221967753431517, 'num_layers': 2}. Best is trial 44 with value: 3.874766694766554.\n",
      "[I 2025-10-02 10:21:09,215] Trial 40 finished with value: 3.9007778651545144 and parameters: {'learning_rate': 0.00163248908251946, 'batch_size': 11, 'seq_length': 14, 'dim_feedforward': 322, 'dropout': 0.020814388063537068, 'num_layers': 2}. Best is trial 44 with value: 3.874766694766554.\n",
      "[I 2025-10-02 10:22:39,339] Trial 46 finished with value: 4.013697960997087 and parameters: {'learning_rate': 0.0022552347457216976, 'batch_size': 41, 'seq_length': 19, 'dim_feedforward': 353, 'dropout': 0.0012326351259437567, 'num_layers': 2}. Best is trial 44 with value: 3.874766694766554.\n",
      "[I 2025-10-02 10:28:08,564] Trial 48 finished with value: 4.011166867188556 and parameters: {'learning_rate': 0.0007988726241847485, 'batch_size': 40, 'seq_length': 16, 'dim_feedforward': 413, 'dropout': 0.0011515445053743771, 'num_layers': 4}. Best is trial 44 with value: 3.874766694766554.\n",
      "[I 2025-10-02 10:28:40,486] Trial 47 finished with value: 3.9813578522948903 and parameters: {'learning_rate': 0.0008821036619282776, 'batch_size': 41, 'seq_length': 19, 'dim_feedforward': 412, 'dropout': 0.0020063410297282767, 'num_layers': 2}. Best is trial 44 with value: 3.874766694766554.\n",
      "[I 2025-10-02 10:29:04,872] Trial 45 finished with value: 4.197590695626038 and parameters: {'learning_rate': 0.0008165204985784357, 'batch_size': 8, 'seq_length': 9, 'dim_feedforward': 422, 'dropout': 0.013718118539835724, 'num_layers': 4}. Best is trial 44 with value: 3.874766694766554.\n",
      "[I 2025-10-02 10:30:12,834] Trial 39 finished with value: 3.817835322497415 and parameters: {'learning_rate': 0.0016460053999574641, 'batch_size': 14, 'seq_length': 13, 'dim_feedforward': 328, 'dropout': 0.021130715179139423, 'num_layers': 2}. Best is trial 39 with value: 3.817835322497415.\n",
      "[I 2025-10-02 10:31:10,294] Trial 49 finished with value: 3.6820315460902933 and parameters: {'learning_rate': 0.005833694675409483, 'batch_size': 32, 'seq_length': 19, 'dim_feedforward': 273, 'dropout': 0.010955040504070425, 'num_layers': 1}. Best is trial 49 with value: 3.6820315460902933.\n",
      "[I 2025-10-02 10:31:29,204] Trial 51 finished with value: 4.116897816681968 and parameters: {'learning_rate': 0.006286233636759214, 'batch_size': 33, 'seq_length': 19, 'dim_feedforward': 282, 'dropout': 0.03242456195403588, 'num_layers': 1}. Best is trial 49 with value: 3.6820315460902933.\n",
      "[I 2025-10-02 10:33:51,343] Trial 50 finished with value: 3.81967827632773 and parameters: {'learning_rate': 0.0055585629815021985, 'batch_size': 32, 'seq_length': 9, 'dim_feedforward': 285, 'dropout': 0.013350453987621289, 'num_layers': 1}. Best is trial 49 with value: 3.6820315460902933.\n",
      "[I 2025-10-02 10:34:22,258] Trial 54 finished with value: 4.022621272005151 and parameters: {'learning_rate': 0.005370996346996484, 'batch_size': 31, 'seq_length': 20, 'dim_feedforward': 262, 'dropout': 0.012145254022089016, 'num_layers': 1}. Best is trial 49 with value: 3.6820315460902933.\n",
      "[I 2025-10-02 10:35:49,087] Trial 53 finished with value: 3.776676745495828 and parameters: {'learning_rate': 0.00725225834400075, 'batch_size': 18, 'seq_length': 19, 'dim_feedforward': 280, 'dropout': 0.013407928240751845, 'num_layers': 1}. Best is trial 49 with value: 3.6820315460902933.\n",
      "[I 2025-10-02 10:38:32,842] Trial 56 finished with value: 3.9337107270162623 and parameters: {'learning_rate': 0.003783767390110301, 'batch_size': 18, 'seq_length': 9, 'dim_feedforward': 286, 'dropout': 0.013989417223716825, 'num_layers': 1}. Best is trial 49 with value: 3.6820315460902933.\n",
      "[I 2025-10-02 10:39:41,037] Trial 55 finished with value: 4.095539353988093 and parameters: {'learning_rate': 0.005288342686818384, 'batch_size': 30, 'seq_length': 20, 'dim_feedforward': 259, 'dropout': 0.013733323395856716, 'num_layers': 1}. Best is trial 49 with value: 3.6820315460902933.\n",
      "[I 2025-10-02 10:39:47,795] Trial 52 finished with value: 3.9125670826926333 and parameters: {'learning_rate': 0.006328744447724167, 'batch_size': 32, 'seq_length': 19, 'dim_feedforward': 283, 'dropout': 0.03374502159683166, 'num_layers': 1}. Best is trial 49 with value: 3.6820315460902933.\n",
      "[I 2025-10-02 10:41:21,633] Trial 57 finished with value: 3.860352146419493 and parameters: {'learning_rate': 0.0068002081589911495, 'batch_size': 19, 'seq_length': 9, 'dim_feedforward': 288, 'dropout': 0.013354502941817835, 'num_layers': 1}. Best is trial 49 with value: 3.6820315460902933.\n",
      "[I 2025-10-02 10:43:21,608] Trial 58 finished with value: 3.734024778555705 and parameters: {'learning_rate': 0.006609304543829726, 'batch_size': 19, 'seq_length': 18, 'dim_feedforward': 240, 'dropout': 0.0438515686700411, 'num_layers': 1}. Best is trial 49 with value: 3.6820315460902933.\n",
      "[I 2025-10-02 10:44:50,659] Trial 61 finished with value: 4.616681943937958 and parameters: {'learning_rate': 0.004272030001236891, 'batch_size': 15, 'seq_length': 5, 'dim_feedforward': 239, 'dropout': 0.04672066199345985, 'num_layers': 1}. Best is trial 49 with value: 3.6820315460902933.\n",
      "[I 2025-10-02 10:45:47,171] Trial 59 finished with value: 4.6371500345607215 and parameters: {'learning_rate': 0.006949528946522243, 'batch_size': 17, 'seq_length': 5, 'dim_feedforward': 238, 'dropout': 0.0392115635086696, 'num_layers': 1}. Best is trial 49 with value: 3.6820315460902933.\n",
      "[I 2025-10-02 10:48:18,235] Trial 62 finished with value: 3.782798973426259 and parameters: {'learning_rate': 0.0030057780054240273, 'batch_size': 15, 'seq_length': 18, 'dim_feedforward': 198, 'dropout': 0.056557210407514456, 'num_layers': 1}. Best is trial 49 with value: 3.6820315460902933.\n",
      "[I 2025-10-02 10:48:34,826] Trial 60 finished with value: 4.727114521506323 and parameters: {'learning_rate': 0.002851512093354594, 'batch_size': 17, 'seq_length': 3, 'dim_feedforward': 240, 'dropout': 0.04310118573687345, 'num_layers': 1}. Best is trial 49 with value: 3.6820315460902933.\n",
      "[I 2025-10-02 10:48:51,501] Trial 36 finished with value: 3.958825774148665 and parameters: {'learning_rate': 0.0013585184772084528, 'batch_size': 13, 'seq_length': 14, 'dim_feedforward': 308, 'dropout': 0.02059541857611672, 'num_layers': 2}. Best is trial 49 with value: 3.6820315460902933.\n",
      "[I 2025-10-02 10:50:36,093] Trial 63 finished with value: 3.829562594411679 and parameters: {'learning_rate': 0.0030089717427082504, 'batch_size': 22, 'seq_length': 18, 'dim_feedforward': 206, 'dropout': 0.06597484593557763, 'num_layers': 2}. Best is trial 49 with value: 3.6820315460902933.\n",
      "[I 2025-10-02 10:52:48,989] Trial 65 finished with value: 3.730307062140095 and parameters: {'learning_rate': 0.00306547286804383, 'batch_size': 14, 'seq_length': 18, 'dim_feedforward': 192, 'dropout': 0.07625744142022907, 'num_layers': 1}. Best is trial 49 with value: 3.6820315460902933.\n",
      "[I 2025-10-02 10:53:20,203] Trial 68 finished with value: 4.087865119983427 and parameters: {'learning_rate': 0.0020794486619161046, 'batch_size': 21, 'seq_length': 16, 'dim_feedforward': 180, 'dropout': 0.058010970845695675, 'num_layers': 1}. Best is trial 49 with value: 3.6820315460902933.\n",
      "[I 2025-10-02 10:54:18,919] Trial 64 finished with value: 3.9038970854358404 and parameters: {'learning_rate': 0.0031001758046518228, 'batch_size': 22, 'seq_length': 18, 'dim_feedforward': 214, 'dropout': 0.05667334009758079, 'num_layers': 2}. Best is trial 49 with value: 3.6820315460902933.\n",
      "[I 2025-10-02 10:55:09,326] Trial 69 finished with value: 4.142420126820617 and parameters: {'learning_rate': 0.004137226277977017, 'batch_size': 24, 'seq_length': 16, 'dim_feedforward': 157, 'dropout': 0.054469669203207116, 'num_layers': 1}. Best is trial 49 with value: 3.6820315460902933.\n",
      "[I 2025-10-02 10:56:22,656] Trial 70 finished with value: 3.83785718871585 and parameters: {'learning_rate': 0.0038643531630914688, 'batch_size': 24, 'seq_length': 18, 'dim_feedforward': 156, 'dropout': 0.07636488219410645, 'num_layers': 1}. Best is trial 49 with value: 3.6820315460902933.\n",
      "[I 2025-10-02 10:57:40,818] Trial 72 finished with value: 3.9719801040003015 and parameters: {'learning_rate': 0.008091650253279266, 'batch_size': 28, 'seq_length': 18, 'dim_feedforward': 199, 'dropout': 0.07457693971068081, 'num_layers': 1}. Best is trial 49 with value: 3.6820315460902933.\n",
      "[I 2025-10-02 10:59:44,257] Trial 73 finished with value: 3.928369035379986 and parameters: {'learning_rate': 0.007961703810218232, 'batch_size': 28, 'seq_length': 20, 'dim_feedforward': 202, 'dropout': 0.08499215856349113, 'num_layers': 1}. Best is trial 49 with value: 3.6820315460902933.\n",
      "[I 2025-10-02 10:59:55,917] Trial 66 finished with value: 3.9291523537465394 and parameters: {'learning_rate': 0.0033383946708259405, 'batch_size': 22, 'seq_length': 18, 'dim_feedforward': 207, 'dropout': 0.05462208859633753, 'num_layers': 1}. Best is trial 49 with value: 3.6820315460902933.\n",
      "[I 2025-10-02 10:59:56,333] Trial 71 finished with value: 3.7858867372926035 and parameters: {'learning_rate': 0.008592529734534258, 'batch_size': 25, 'seq_length': 18, 'dim_feedforward': 159, 'dropout': 0.07528004378456306, 'num_layers': 1}. Best is trial 49 with value: 3.6820315460902933.\n",
      "[I 2025-10-02 11:01:06,710] Trial 74 finished with value: 7.893287978579634 and parameters: {'learning_rate': 0.004845523499277733, 'batch_size': 11, 'seq_length': 20, 'dim_feedforward': 167, 'dropout': 0.09423949040816262, 'num_layers': 3}. Best is trial 49 with value: 3.6820315460902933.\n",
      "[I 2025-10-02 11:06:21,919] Trial 67 finished with value: 4.175311855113441 and parameters: {'learning_rate': 0.003127281089555842, 'batch_size': 22, 'seq_length': 18, 'dim_feedforward': 197, 'dropout': 0.055702827699355834, 'num_layers': 1}. Best is trial 49 with value: 3.6820315460902933.\n",
      "[I 2025-10-02 11:06:40,324] Trial 78 finished with value: 3.8363087575784633 and parameters: {'learning_rate': 0.009939541188546952, 'batch_size': 15, 'seq_length': 17, 'dim_feedforward': 224, 'dropout': 0.08540413818240572, 'num_layers': 1}. Best is trial 49 with value: 3.6820315460902933.\n",
      "[I 2025-10-02 11:08:40,465] Trial 77 finished with value: 3.8910768438375474 and parameters: {'learning_rate': 0.00991655276535748, 'batch_size': 20, 'seq_length': 17, 'dim_feedforward': 171, 'dropout': 0.0915378558265119, 'num_layers': 1}. Best is trial 49 with value: 3.6820315460902933.\n",
      "[I 2025-10-02 11:09:42,989] Trial 80 finished with value: 3.940449895308182 and parameters: {'learning_rate': 0.008317071181236776, 'batch_size': 26, 'seq_length': 17, 'dim_feedforward': 175, 'dropout': 0.07219676681864097, 'num_layers': 1}. Best is trial 49 with value: 3.6820315460902933.\n",
      "[I 2025-10-02 11:12:37,880] Trial 75 finished with value: 3.9290767753366445 and parameters: {'learning_rate': 0.001953105596096526, 'batch_size': 14, 'seq_length': 17, 'dim_feedforward': 175, 'dropout': 0.09463098947506743, 'num_layers': 3}. Best is trial 49 with value: 3.6820315460902933.\n",
      "[I 2025-10-02 11:14:30,459] Trial 81 finished with value: 4.2924571563291005 and parameters: {'learning_rate': 0.00841627737900467, 'batch_size': 36, 'seq_length': 15, 'dim_feedforward': 252, 'dropout': 0.07168464498428058, 'num_layers': 1}. Best is trial 49 with value: 3.6820315460902933.\n",
      "[I 2025-10-02 11:15:47,463] Trial 83 finished with value: 4.604971693460079 and parameters: {'learning_rate': 0.007362694118218878, 'batch_size': 36, 'seq_length': 15, 'dim_feedforward': 131, 'dropout': 0.06916783508883019, 'num_layers': 1}. Best is trial 49 with value: 3.6820315460902933.\n",
      "[I 2025-10-02 11:18:32,092] Trial 82 finished with value: 4.112635290763355 and parameters: {'learning_rate': 0.0025260992253508274, 'batch_size': 15, 'seq_length': 15, 'dim_feedforward': 139, 'dropout': 0.07025748175927303, 'num_layers': 4}. Best is trial 49 with value: 3.6820315460902933.\n",
      "[I 2025-10-02 11:24:42,151] Trial 84 finished with value: 7.996958630176451 and parameters: {'learning_rate': 0.004748833990553591, 'batch_size': 11, 'seq_length': 21, 'dim_feedforward': 269, 'dropout': 0.08132325109186334, 'num_layers': 4}. Best is trial 49 with value: 3.6820315460902933.\n",
      "[I 2025-10-02 11:25:33,859] Trial 85 finished with value: 3.9098180852926068 and parameters: {'learning_rate': 0.0024179998484176886, 'batch_size': 10, 'seq_length': 11, 'dim_feedforward': 300, 'dropout': 0.07927972252605794, 'num_layers': 2}. Best is trial 49 with value: 3.6820315460902933.\n",
      "[I 2025-10-02 11:26:13,473] Trial 76 finished with value: 3.9342721198245516 and parameters: {'learning_rate': 0.0018501321905016108, 'batch_size': 14, 'seq_length': 17, 'dim_feedforward': 172, 'dropout': 0.08797913068670732, 'num_layers': 1}. Best is trial 49 with value: 3.6820315460902933.\n",
      "[I 2025-10-02 11:26:40,539] Trial 86 finished with value: 3.7900383821796244 and parameters: {'learning_rate': 0.0018039999873803773, 'batch_size': 11, 'seq_length': 12, 'dim_feedforward': 341, 'dropout': 0.07898513989266535, 'num_layers': 2}. Best is trial 49 with value: 3.6820315460902933.\n"
     ]
    }
   ],
   "source": [
    "def objective5(trial):\n",
    "    # Suggest hyperparameters\n",
    "    # Restrict d_model and nhead to best from first optuna to get better insights (no inf)\n",
    "    d_model = 64\n",
    "    nhead = 4\n",
    "    \n",
    "    params = {\n",
    "        'learning_rate': trial.suggest_float(\"learning_rate\", 1e-4, 1e-2, log=True),\n",
    "        'batch_size': trial.suggest_int(\"batch_size\", 8, 64),\n",
    "        'seq_length': trial.suggest_int(\"seq_length\", 3, 21),\n",
    "        'transformer_encoder_layer_params': {\n",
    "            'd_model': d_model,\n",
    "            'nhead': nhead,\n",
    "            'dim_feedforward': trial.suggest_int(\"dim_feedforward\", 128, 512),\n",
    "            'dropout': trial.suggest_float(\"dropout\", 0.0, 0.1),\n",
    "            'activation': 'relu'\n",
    "        },\n",
    "        'transformer_layer_params': {\n",
    "            'num_layers': trial.suggest_int(\"num_layers\", 1, 5),\n",
    "        },\n",
    "        'dataset': '2016-2019',\n",
    "        'train_test_split': 'prior:2019',\n",
    "        'features': ['sum_30_min_demand'],\n",
    "        'visualise': False,\n",
    "    }\n",
    "    model = median_model(params)\n",
    "    return model['results']['test_mape']\n",
    "\n",
    "study = optuna.create_study(storage=\"sqlite:///../../db.sqlite3\", study_name=\"75:25-base\", load_if_exists=True)\n",
    "study.optimize(objective5, n_trials=100, n_jobs=5)\n",
    "\n",
    "study.best_params"
   ]
  },
  {
   "cell_type": "code",
   "execution_count": 3,
   "id": "b56dbebe",
   "metadata": {},
   "outputs": [
    {
     "name": "stderr",
     "output_type": "stream",
     "text": [
      "[I 2025-10-02 15:07:40,539] Using an existing study with name '75:25 - optimal features' instead of creating a new one.\n",
      "[I 2025-10-02 15:10:57,448] Trial 5 finished with value: 3.1857422923969527 and parameters: {'learning_rate': 0.006385769772796186, 'batch_size': 36, 'seq_length': 10, 'dim_feedforward': 232, 'dropout': 0.038716876107915736, 'num_layers': 3}. Best is trial 5 with value: 3.1857422923969527.\n",
      "[I 2025-10-02 15:11:14,338] Trial 6 finished with value: 3.1320018438806607 and parameters: {'learning_rate': 0.00047500427341821315, 'batch_size': 53, 'seq_length': 17, 'dim_feedforward': 487, 'dropout': 0.016052546670216463, 'num_layers': 1}. Best is trial 6 with value: 3.1320018438806607.\n",
      "[I 2025-10-02 15:11:47,855] Trial 9 finished with value: 6.836800359977777 and parameters: {'learning_rate': 0.0045952848957766905, 'batch_size': 8, 'seq_length': 19, 'dim_feedforward': 266, 'dropout': 0.09051533028347072, 'num_layers': 3}. Best is trial 6 with value: 3.1320018438806607.\n",
      "[I 2025-10-02 15:12:52,875] Trial 7 finished with value: 3.1884810368869525 and parameters: {'learning_rate': 0.00020542605669232895, 'batch_size': 21, 'seq_length': 9, 'dim_feedforward': 440, 'dropout': 0.007403793337443032, 'num_layers': 2}. Best is trial 6 with value: 3.1320018438806607.\n",
      "[I 2025-10-02 15:13:05,563] Trial 12 finished with value: 3.1758176063836725 and parameters: {'learning_rate': 0.0007262849860832954, 'batch_size': 43, 'seq_length': 5, 'dim_feedforward': 512, 'dropout': 0.07923677003060305, 'num_layers': 3}. Best is trial 6 with value: 3.1320018438806607.\n",
      "[I 2025-10-02 15:13:23,821] Trial 10 finished with value: 3.2904748463437707 and parameters: {'learning_rate': 0.0011506012137323047, 'batch_size': 40, 'seq_length': 16, 'dim_feedforward': 481, 'dropout': 0.031040345811191916, 'num_layers': 5}. Best is trial 6 with value: 3.1320018438806607.\n",
      "[I 2025-10-02 15:14:13,161] Trial 14 finished with value: 3.224748921547216 and parameters: {'learning_rate': 0.0030780298386070457, 'batch_size': 59, 'seq_length': 7, 'dim_feedforward': 475, 'dropout': 0.02835560556405762, 'num_layers': 3}. Best is trial 6 with value: 3.1320018438806607.\n",
      "[I 2025-10-02 15:14:39,243] Trial 15 finished with value: 3.096250096302612 and parameters: {'learning_rate': 0.0002050075274858497, 'batch_size': 53, 'seq_length': 15, 'dim_feedforward': 340, 'dropout': 0.008311400413519243, 'num_layers': 2}. Best is trial 15 with value: 3.096250096302612.\n",
      "[I 2025-10-02 15:15:21,820] Trial 16 finished with value: 3.1496670822176513 and parameters: {'learning_rate': 0.0002795914160826726, 'batch_size': 61, 'seq_length': 10, 'dim_feedforward': 391, 'dropout': 0.006249188984056343, 'num_layers': 4}. Best is trial 15 with value: 3.096250096302612.\n",
      "[I 2025-10-02 15:16:41,734] Trial 17 finished with value: 3.393033599939398 and parameters: {'learning_rate': 0.0010275794908816568, 'batch_size': 17, 'seq_length': 8, 'dim_feedforward': 365, 'dropout': 0.0052250894406134065, 'num_layers': 1}. Best is trial 15 with value: 3.096250096302612.\n",
      "[I 2025-10-02 15:17:33,004] Trial 18 finished with value: 4.181651052365549 and parameters: {'learning_rate': 0.009847671233225604, 'batch_size': 60, 'seq_length': 11, 'dim_feedforward': 131, 'dropout': 0.06419886876343407, 'num_layers': 3}. Best is trial 15 with value: 3.096250096302612.\n",
      "[I 2025-10-02 15:18:38,225] Trial 19 finished with value: 2.9516869240274253 and parameters: {'learning_rate': 0.00012102095537520008, 'batch_size': 49, 'seq_length': 14, 'dim_feedforward': 137, 'dropout': 0.06170555678810286, 'num_layers': 2}. Best is trial 19 with value: 2.9516869240274253.\n",
      "[I 2025-10-02 15:18:39,232] Trial 20 finished with value: 3.0304547923665206 and parameters: {'learning_rate': 0.0001114003443818345, 'batch_size': 49, 'seq_length': 15, 'dim_feedforward': 306, 'dropout': 0.021218803857156285, 'num_layers': 1}. Best is trial 19 with value: 2.9516869240274253.\n",
      "[I 2025-10-02 15:19:51,393] Trial 22 finished with value: 3.037767866211996 and parameters: {'learning_rate': 0.0001038269542647846, 'batch_size': 46, 'seq_length': 13, 'dim_feedforward': 156, 'dropout': 0.05474968974033938, 'num_layers': 1}. Best is trial 19 with value: 2.9516869240274253.\n",
      "[I 2025-10-02 15:20:34,075] Trial 21 finished with value: 3.080049259386739 and parameters: {'learning_rate': 0.00010416349806636986, 'batch_size': 47, 'seq_length': 14, 'dim_feedforward': 129, 'dropout': 0.05578640891431219, 'num_layers': 2}. Best is trial 19 with value: 2.9516869240274253.\n",
      "[I 2025-10-02 15:21:34,829] Trial 23 finished with value: 3.0217114948823136 and parameters: {'learning_rate': 0.00010186509159756557, 'batch_size': 32, 'seq_length': 13, 'dim_feedforward': 218, 'dropout': 0.06903236891438097, 'num_layers': 2}. Best is trial 19 with value: 2.9516869240274253.\n",
      "[I 2025-10-02 15:22:13,553] Trial 24 finished with value: 3.095600079020864 and parameters: {'learning_rate': 0.0003969502544393067, 'batch_size': 28, 'seq_length': 20, 'dim_feedforward': 213, 'dropout': 0.07193119738516503, 'num_layers': 2}. Best is trial 19 with value: 2.9516869240274253.\n",
      "[I 2025-10-02 15:22:55,400] Trial 25 finished with value: 3.039202208945263 and parameters: {'learning_rate': 0.00037038566284011085, 'batch_size': 28, 'seq_length': 19, 'dim_feedforward': 217, 'dropout': 0.07454518211479702, 'num_layers': 2}. Best is trial 19 with value: 2.9516869240274253.\n",
      "[I 2025-10-02 15:22:57,448] Trial 11 finished with value: 8.024481658968172 and parameters: {'learning_rate': 0.007406417212907478, 'batch_size': 31, 'seq_length': 18, 'dim_feedforward': 493, 'dropout': 0.041044131612638535, 'num_layers': 5}. Best is trial 19 with value: 2.9516869240274253.\n",
      "[I 2025-10-02 15:24:50,261] Trial 27 finished with value: 3.2799105273410567 and parameters: {'learning_rate': 0.0019819196624773936, 'batch_size': 32, 'seq_length': 12, 'dim_feedforward': 177, 'dropout': 0.09955358809875701, 'num_layers': 4}. Best is trial 19 with value: 2.9516869240274253.\n",
      "[I 2025-10-02 15:25:10,046] Trial 26 finished with value: 2.958490939817961 and parameters: {'learning_rate': 0.0017355477951115897, 'batch_size': 33, 'seq_length': 3, 'dim_feedforward': 196, 'dropout': 0.09851043218233117, 'num_layers': 4}. Best is trial 19 with value: 2.9516869240274253.\n",
      "[I 2025-10-02 15:27:28,360] Trial 30 finished with value: 3.192503003040957 and parameters: {'learning_rate': 0.0017523476811320449, 'batch_size': 36, 'seq_length': 4, 'dim_feedforward': 180, 'dropout': 0.08639782778225907, 'num_layers': 4}. Best is trial 19 with value: 2.9516869240274253.\n",
      "[I 2025-10-02 15:27:42,570] Trial 29 finished with value: 3.033720551663043 and parameters: {'learning_rate': 0.00016594216364199652, 'batch_size': 21, 'seq_length': 21, 'dim_feedforward': 275, 'dropout': 0.08522414896107229, 'num_layers': 4}. Best is trial 19 with value: 2.9516869240274253.\n",
      "[I 2025-10-02 15:28:36,612] Trial 32 finished with value: 3.173219899684549 and parameters: {'learning_rate': 0.0005705378446522558, 'batch_size': 40, 'seq_length': 13, 'dim_feedforward': 193, 'dropout': 0.06842651328351966, 'num_layers': 2}. Best is trial 19 with value: 2.9516869240274253.\n",
      "[I 2025-10-02 15:31:28,507] Trial 31 finished with value: 2.8901932383764213 and parameters: {'learning_rate': 0.00016264972578250677, 'batch_size': 22, 'seq_length': 3, 'dim_feedforward': 272, 'dropout': 0.06186418571879792, 'num_layers': 4}. Best is trial 31 with value: 2.8901932383764213.\n",
      "[I 2025-10-02 15:31:44,410] Trial 33 finished with value: 3.095202366680941 and parameters: {'learning_rate': 0.0017121364087162299, 'batch_size': 24, 'seq_length': 3, 'dim_feedforward': 252, 'dropout': 0.09935973501790354, 'num_layers': 5}. Best is trial 31 with value: 2.8901932383764213.\n",
      "[I 2025-10-02 15:35:19,253] Trial 13 finished with value: 3.316589449737111 and parameters: {'learning_rate': 0.00034796181338297787, 'batch_size': 8, 'seq_length': 18, 'dim_feedforward': 156, 'dropout': 0.042320566530217874, 'num_layers': 5}. Best is trial 31 with value: 2.8901932383764213.\n",
      "[I 2025-10-02 15:35:26,081] Trial 28 finished with value: 3.3197806706325217 and parameters: {'learning_rate': 0.001796987604527862, 'batch_size': 35, 'seq_length': 12, 'dim_feedforward': 180, 'dropout': 0.09502986602037329, 'num_layers': 4}. Best is trial 31 with value: 2.8901932383764213.\n",
      "[I 2025-10-02 15:37:45,829] Trial 35 finished with value: 3.1237399291280834 and parameters: {'learning_rate': 0.00015438946395878383, 'batch_size': 9, 'seq_length': 6, 'dim_feedforward': 296, 'dropout': 0.06064249956920626, 'num_layers': 4}. Best is trial 31 with value: 2.8901932383764213.\n",
      "[I 2025-10-02 15:41:26,656] Trial 34 finished with value: 3.135237395543336 and parameters: {'learning_rate': 0.001674805505552295, 'batch_size': 14, 'seq_length': 3, 'dim_feedforward': 264, 'dropout': 0.04520789445573473, 'num_layers': 5}. Best is trial 31 with value: 2.8901932383764213.\n",
      "[I 2025-10-02 15:44:21,761] Trial 38 finished with value: 3.1209926573226454 and parameters: {'learning_rate': 0.0035995237622024187, 'batch_size': 13, 'seq_length': 3, 'dim_feedforward': 243, 'dropout': 0.04601281958893925, 'num_layers': 3}. Best is trial 31 with value: 2.8901932383764213.\n",
      "[I 2025-10-02 15:45:03,407] Trial 39 finished with value: 3.340559597471531 and parameters: {'learning_rate': 0.002532518611094814, 'batch_size': 24, 'seq_length': 5, 'dim_feedforward': 155, 'dropout': 0.04921053878918461, 'num_layers': 3}. Best is trial 31 with value: 2.8901932383764213.\n",
      "[I 2025-10-02 15:46:57,607] Trial 41 finished with value: 3.0362421806064477 and parameters: {'learning_rate': 0.0001474001802718019, 'batch_size': 37, 'seq_length': 10, 'dim_feedforward': 219, 'dropout': 0.0788459886176862, 'num_layers': 2}. Best is trial 31 with value: 2.8901932383764213.\n",
      "[I 2025-10-02 15:47:03,726] Trial 40 finished with value: 3.023851850778719 and parameters: {'learning_rate': 0.00014639308688012417, 'batch_size': 24, 'seq_length': 5, 'dim_feedforward': 216, 'dropout': 0.07979231247996856, 'num_layers': 3}. Best is trial 31 with value: 2.8901932383764213.\n",
      "[I 2025-10-02 15:48:24,528] Trial 36 finished with value: 3.12682880389256 and parameters: {'learning_rate': 0.0001665107989628776, 'batch_size': 15, 'seq_length': 6, 'dim_feedforward': 297, 'dropout': 0.059495322812701354, 'num_layers': 4}. Best is trial 31 with value: 2.8901932383764213.\n",
      "[I 2025-10-02 15:48:35,785] Trial 43 finished with value: 3.0003077749627005 and parameters: {'learning_rate': 0.0002869837968442134, 'batch_size': 54, 'seq_length': 8, 'dim_feedforward': 288, 'dropout': 0.06256262715304736, 'num_layers': 4}. Best is trial 31 with value: 2.8901932383764213.\n",
      "[I 2025-10-02 15:50:12,694] Trial 45 finished with value: 2.9876551559260482 and parameters: {'learning_rate': 0.00022978573842486914, 'batch_size': 54, 'seq_length': 8, 'dim_feedforward': 340, 'dropout': 0.03466071670499724, 'num_layers': 4}. Best is trial 31 with value: 2.8901932383764213.\n",
      "[I 2025-10-02 15:50:54,330] Trial 42 finished with value: 2.9729798538018883 and parameters: {'learning_rate': 0.0001986756006040287, 'batch_size': 30, 'seq_length': 8, 'dim_feedforward': 198, 'dropout': 0.061594387766133976, 'num_layers': 4}. Best is trial 31 with value: 2.8901932383764213.\n",
      "[I 2025-10-02 15:50:56,026] Trial 44 finished with value: 3.0402024938432968 and parameters: {'learning_rate': 0.0002643786452614744, 'batch_size': 54, 'seq_length': 9, 'dim_feedforward': 235, 'dropout': 0.06601693433681997, 'num_layers': 1}. Best is trial 31 with value: 2.8901932383764213.\n",
      "[I 2025-10-02 15:51:17,865] Trial 46 finished with value: 3.1853264779167443 and parameters: {'learning_rate': 0.0006816691931148182, 'batch_size': 64, 'seq_length': 8, 'dim_feedforward': 402, 'dropout': 0.030101068966052486, 'num_layers': 4}. Best is trial 31 with value: 2.8901932383764213.\n",
      "[I 2025-10-02 15:54:21,137] Trial 49 finished with value: 3.335130327590214 and parameters: {'learning_rate': 0.0012994465080733008, 'batch_size': 27, 'seq_length': 4, 'dim_feedforward': 191, 'dropout': 0.050456692506244925, 'num_layers': 5}. Best is trial 31 with value: 2.8901932383764213.\n",
      "[I 2025-10-02 15:56:01,080] Trial 47 finished with value: 3.253227030067707 and parameters: {'learning_rate': 0.0006917912043364492, 'batch_size': 27, 'seq_length': 4, 'dim_feedforward': 153, 'dropout': 0.053480503190720105, 'num_layers': 5}. Best is trial 31 with value: 2.8901932383764213.\n",
      "[I 2025-10-02 15:56:09,106] Trial 50 finished with value: 3.125989411795095 and parameters: {'learning_rate': 0.0002140525695357299, 'batch_size': 50, 'seq_length': 6, 'dim_feedforward': 324, 'dropout': 0.038255198398594564, 'num_layers': 4}. Best is trial 31 with value: 2.8901932383764213.\n",
      "[I 2025-10-02 15:58:19,589] Trial 48 finished with value: 3.2290288506111957 and parameters: {'learning_rate': 0.0007884780146520384, 'batch_size': 29, 'seq_length': 4, 'dim_feedforward': 197, 'dropout': 0.05350218155028161, 'num_layers': 5}. Best is trial 31 with value: 2.8901932383764213.\n",
      "[I 2025-10-02 15:58:28,849] Trial 52 finished with value: 3.1309351741113893 and parameters: {'learning_rate': 0.00023143691170752248, 'batch_size': 42, 'seq_length': 16, 'dim_feedforward': 328, 'dropout': 0.015649547841812446, 'num_layers': 4}. Best is trial 31 with value: 2.8901932383764213.\n",
      "[I 2025-10-02 15:59:16,692] Trial 51 finished with value: 3.0947756561176076 and parameters: {'learning_rate': 0.0002217202619500473, 'batch_size': 41, 'seq_length': 6, 'dim_feedforward': 331, 'dropout': 0.03569797169903283, 'num_layers': 4}. Best is trial 31 with value: 2.8901932383764213.\n",
      "[I 2025-10-02 16:00:19,754] Trial 54 finished with value: 3.03305882404823 and parameters: {'learning_rate': 0.0004699665687792966, 'batch_size': 56, 'seq_length': 7, 'dim_feedforward': 355, 'dropout': 0.036729790690294924, 'num_layers': 3}. Best is trial 31 with value: 2.8901932383764213.\n",
      "[I 2025-10-02 16:01:01,830] Trial 55 finished with value: 3.1179293841032716 and parameters: {'learning_rate': 0.0004587507574775776, 'batch_size': 56, 'seq_length': 11, 'dim_feedforward': 348, 'dropout': 0.027398399438029263, 'num_layers': 3}. Best is trial 31 with value: 2.8901932383764213.\n",
      "[I 2025-10-02 16:02:33,181] Trial 8 finished with value: 3.09084539743255 and parameters: {'learning_rate': 0.006953587836965893, 'batch_size': 11, 'seq_length': 20, 'dim_feedforward': 257, 'dropout': 0.0976451784048898, 'num_layers': 1}. Best is trial 31 with value: 2.8901932383764213.\n",
      "[I 2025-10-02 16:02:36,177] Trial 53 finished with value: 3.0182807627036805 and parameters: {'learning_rate': 0.0001927526846778943, 'batch_size': 57, 'seq_length': 16, 'dim_feedforward': 358, 'dropout': 0.034647772741174795, 'num_layers': 4}. Best is trial 31 with value: 2.8901932383764213.\n",
      "[I 2025-10-02 16:03:45,051] Trial 56 finished with value: 6.901642205728196 and parameters: {'learning_rate': 0.005576101459797413, 'batch_size': 19, 'seq_length': 11, 'dim_feedforward': 392, 'dropout': 0.02590448590833934, 'num_layers': 4}. Best is trial 31 with value: 2.8901932383764213.\n",
      "[I 2025-10-02 16:04:05,564] Trial 57 finished with value: 6.506146905858673 and parameters: {'learning_rate': 0.005477139348724417, 'batch_size': 34, 'seq_length': 9, 'dim_feedforward': 410, 'dropout': 0.018061395995769405, 'num_layers': 4}. Best is trial 31 with value: 2.8901932383764213.\n",
      "[I 2025-10-02 16:04:26,575] Trial 37 finished with value: 3.0496627971495545 and parameters: {'learning_rate': 0.00015924446924081643, 'batch_size': 14, 'seq_length': 6, 'dim_feedforward': 304, 'dropout': 0.06056194978985462, 'num_layers': 4}. Best is trial 31 with value: 2.8901932383764213.\n",
      "[I 2025-10-02 16:05:37,674] Trial 60 finished with value: 3.111315858968277 and parameters: {'learning_rate': 0.0003009067121922452, 'batch_size': 52, 'seq_length': 8, 'dim_feedforward': 279, 'dropout': 0.05972708252121476, 'num_layers': 4}. Best is trial 31 with value: 2.8901932383764213.\n",
      "[I 2025-10-02 16:06:53,089] Trial 61 finished with value: 3.051231732959261 and parameters: {'learning_rate': 0.0003147282007514256, 'batch_size': 51, 'seq_length': 7, 'dim_feedforward': 280, 'dropout': 0.06046938695789715, 'num_layers': 4}. Best is trial 31 with value: 2.8901932383764213.\n",
      "[I 2025-10-02 16:07:53,336] Trial 63 finished with value: 3.036617660107295 and parameters: {'learning_rate': 0.0001257908739655237, 'batch_size': 48, 'seq_length': 7, 'dim_feedforward': 141, 'dropout': 0.06450107544800834, 'num_layers': 3}. Best is trial 31 with value: 2.8901932383764213.\n",
      "[I 2025-10-02 16:10:38,825] Trial 65 finished with value: 3.033176864175368 and parameters: {'learning_rate': 0.0001281992103199447, 'batch_size': 64, 'seq_length': 14, 'dim_feedforward': 313, 'dropout': 0.07353301579972692, 'num_layers': 5}. Best is trial 31 with value: 2.8901932383764213.\n",
      "[I 2025-10-02 16:11:37,225] Trial 64 finished with value: 2.987093311900395 and parameters: {'learning_rate': 0.0001340812349985245, 'batch_size': 45, 'seq_length': 14, 'dim_feedforward': 141, 'dropout': 0.07425261372398965, 'num_layers': 3}. Best is trial 31 with value: 2.8901932383764213.\n",
      "[I 2025-10-02 16:13:26,869] Trial 66 finished with value: 3.0164952544268613 and parameters: {'learning_rate': 0.00019703437081090304, 'batch_size': 45, 'seq_length': 9, 'dim_feedforward': 443, 'dropout': 0.09320677105572027, 'num_layers': 4}. Best is trial 31 with value: 2.8901932383764213.\n",
      "[I 2025-10-02 16:13:56,197] Trial 62 finished with value: 3.0787979701630306 and parameters: {'learning_rate': 0.00030208240214013387, 'batch_size': 51, 'seq_length': 8, 'dim_feedforward': 271, 'dropout': 0.06276180189391899, 'num_layers': 4}. Best is trial 31 with value: 2.8901932383764213.\n",
      "[I 2025-10-02 16:15:05,791] Trial 67 finished with value: 3.0793167672727453 and parameters: {'learning_rate': 0.00012427459648326988, 'batch_size': 38, 'seq_length': 17, 'dim_feedforward': 173, 'dropout': 0.09114956783627245, 'num_layers': 3}. Best is trial 31 with value: 2.8901932383764213.\n",
      "[I 2025-10-02 16:15:49,551] Trial 59 finished with value: 3.0589008375176148 and parameters: {'learning_rate': 0.00012975809371954225, 'batch_size': 19, 'seq_length': 9, 'dim_feedforward': 385, 'dropout': 0.0230259374965093, 'num_layers': 4}. Best is trial 31 with value: 2.8901932383764213.\n",
      "[I 2025-10-02 16:16:13,083] Trial 68 finished with value: 3.005819580624736 and parameters: {'learning_rate': 0.00012431218512095173, 'batch_size': 44, 'seq_length': 15, 'dim_feedforward': 170, 'dropout': 0.08540683864803965, 'num_layers': 3}. Best is trial 31 with value: 2.8901932383764213.\n",
      "[I 2025-10-02 16:18:08,060] Trial 72 finished with value: 2.973712169768383 and parameters: {'learning_rate': 0.0002612494183629577, 'batch_size': 54, 'seq_length': 14, 'dim_feedforward': 142, 'dropout': 0.06883471851209887, 'num_layers': 1}. Best is trial 31 with value: 2.8901932383764213.\n",
      "[I 2025-10-02 16:18:21,269] Trial 70 finished with value: 3.0505353072459407 and parameters: {'learning_rate': 0.00018097125087116007, 'batch_size': 54, 'seq_length': 14, 'dim_feedforward': 142, 'dropout': 0.06974014193794265, 'num_layers': 3}. Best is trial 31 with value: 2.8901932383764213.\n",
      "[I 2025-10-02 16:19:38,315] Trial 74 finished with value: 3.0562842842325106 and parameters: {'learning_rate': 0.0002395571037551863, 'batch_size': 59, 'seq_length': 12, 'dim_feedforward': 129, 'dropout': 0.057204611330674754, 'num_layers': 1}. Best is trial 31 with value: 2.8901932383764213.\n",
      "[I 2025-10-02 16:19:50,029] Trial 73 finished with value: 2.992778848566491 and parameters: {'learning_rate': 0.00024020712585249982, 'batch_size': 47, 'seq_length': 14, 'dim_feedforward': 140, 'dropout': 0.06970950953062033, 'num_layers': 1}. Best is trial 31 with value: 2.8901932383764213.\n",
      "[I 2025-10-02 16:20:47,918] Trial 71 finished with value: 3.04285158176353 and parameters: {'learning_rate': 0.00017540098076188418, 'batch_size': 54, 'seq_length': 14, 'dim_feedforward': 137, 'dropout': 0.06981843085274071, 'num_layers': 3}. Best is trial 31 with value: 2.8901932383764213.\n",
      "[I 2025-10-02 16:21:09,400] Trial 75 finished with value: 3.2079530854063605 and parameters: {'learning_rate': 0.0013417144531268298, 'batch_size': 33, 'seq_length': 14, 'dim_feedforward': 164, 'dropout': 0.07676089564728257, 'num_layers': 1}. Best is trial 31 with value: 2.8901932383764213.\n",
      "[I 2025-10-02 16:21:29,597] Trial 76 finished with value: 3.311533848319 and parameters: {'learning_rate': 0.0013337150861866373, 'batch_size': 33, 'seq_length': 13, 'dim_feedforward': 206, 'dropout': 0.07589084924109638, 'num_layers': 2}. Best is trial 31 with value: 2.8901932383764213.\n",
      "[I 2025-10-02 16:23:20,213] Trial 78 finished with value: 2.9746787780464667 and parameters: {'learning_rate': 0.0004186171917917738, 'batch_size': 30, 'seq_length': 13, 'dim_feedforward': 200, 'dropout': 0.08062343396867049, 'num_layers': 2}. Best is trial 31 with value: 2.8901932383764213.\n",
      "[I 2025-10-02 16:23:55,194] Trial 79 finished with value: 2.980922739637713 and parameters: {'learning_rate': 0.00010257640624414664, 'batch_size': 30, 'seq_length': 15, 'dim_feedforward': 228, 'dropout': 0.08214422557634811, 'num_layers': 2}. Best is trial 31 with value: 2.8901932383764213.\n",
      "[I 2025-10-02 16:24:04,012] Trial 69 finished with value: 3.0164719002119975 and parameters: {'learning_rate': 0.00012377755201533933, 'batch_size': 44, 'seq_length': 15, 'dim_feedforward': 164, 'dropout': 0.08554342395101407, 'num_layers': 3}. Best is trial 31 with value: 2.8901932383764213.\n",
      "[I 2025-10-02 16:24:46,021] Trial 77 finished with value: 3.081616716171892 and parameters: {'learning_rate': 0.0004038293492255234, 'batch_size': 30, 'seq_length': 13, 'dim_feedforward': 164, 'dropout': 0.08058536836485977, 'num_layers': 2}. Best is trial 31 with value: 2.8901932383764213.\n",
      "[I 2025-10-02 16:25:35,872] Trial 80 finished with value: 3.1077867019452063 and parameters: {'learning_rate': 0.000405136066514091, 'batch_size': 29, 'seq_length': 15, 'dim_feedforward': 229, 'dropout': 0.08170157882530626, 'num_layers': 2}. Best is trial 31 with value: 2.8901932383764213.\n",
      "[I 2025-10-02 16:26:37,472] Trial 81 finished with value: 3.0303871463797023 and parameters: {'learning_rate': 0.00010015445238130837, 'batch_size': 30, 'seq_length': 15, 'dim_feedforward': 251, 'dropout': 0.08729523968026251, 'num_layers': 2}. Best is trial 31 with value: 2.8901932383764213.\n",
      "[I 2025-10-02 16:27:26,501] Trial 58 finished with value: 3.0591753823809844 and parameters: {'learning_rate': 0.00012460497172012868, 'batch_size': 21, 'seq_length': 9, 'dim_feedforward': 385, 'dropout': 0.017432066087157402, 'num_layers': 4}. Best is trial 31 with value: 2.8901932383764213.\n",
      "[I 2025-10-02 16:28:23,875] Trial 85 finished with value: 3.0543395828238786 and parameters: {'learning_rate': 0.00014466097767591396, 'batch_size': 38, 'seq_length': 13, 'dim_feedforward': 203, 'dropout': 0.09572866139498012, 'num_layers': 2}. Best is trial 31 with value: 2.8901932383764213.\n",
      "[I 2025-10-02 16:29:06,729] Trial 84 finished with value: 3.006596225497934 and parameters: {'learning_rate': 0.00010332055968028056, 'batch_size': 26, 'seq_length': 17, 'dim_feedforward': 187, 'dropout': 0.08919878121430352, 'num_layers': 2}. Best is trial 31 with value: 2.8901932383764213.\n",
      "[I 2025-10-02 16:29:36,189] Trial 87 finished with value: 3.1519011702861532 and parameters: {'learning_rate': 0.0009508350067582331, 'batch_size': 26, 'seq_length': 11, 'dim_feedforward': 192, 'dropout': 0.06595108097680585, 'num_layers': 1}. Best is trial 31 with value: 2.8901932383764213.\n",
      "[I 2025-10-02 16:29:44,767] Trial 83 finished with value: 2.9769136448206734 and parameters: {'learning_rate': 0.00010599326955134813, 'batch_size': 39, 'seq_length': 17, 'dim_feedforward': 232, 'dropout': 0.07248696709973851, 'num_layers': 2}. Best is trial 31 with value: 2.8901932383764213.\n",
      "[I 2025-10-02 16:31:31,711] Trial 89 finished with value: 3.032661923472783 and parameters: {'learning_rate': 0.0001481646462836646, 'batch_size': 35, 'seq_length': 12, 'dim_feedforward': 232, 'dropout': 0.0822390019784268, 'num_layers': 1}. Best is trial 31 with value: 2.8901932383764213.\n",
      "[I 2025-10-02 16:31:40,074] Trial 88 finished with value: 3.0081761217257155 and parameters: {'learning_rate': 0.0001463022232174951, 'batch_size': 25, 'seq_length': 11, 'dim_feedforward': 235, 'dropout': 0.07244265005522552, 'num_layers': 1}. Best is trial 31 with value: 2.8901932383764213.\n",
      "[I 2025-10-02 16:33:52,148] Trial 90 finished with value: 3.0911284740207647 and parameters: {'learning_rate': 0.00014394202587663751, 'batch_size': 39, 'seq_length': 18, 'dim_feedforward': 153, 'dropout': 0.07237779222029167, 'num_layers': 2}. Best is trial 31 with value: 2.8901932383764213.\n",
      "[I 2025-10-02 16:33:59,519] Trial 92 finished with value: 3.012741799895176 and parameters: {'learning_rate': 0.00011178009265165091, 'batch_size': 39, 'seq_length': 18, 'dim_feedforward': 259, 'dropout': 0.06779727517065094, 'num_layers': 2}. Best is trial 31 with value: 2.8901932383764213.\n",
      "[I 2025-10-02 16:34:22,695] Trial 91 finished with value: 2.972161859462814 and parameters: {'learning_rate': 0.00011335615004262937, 'batch_size': 23, 'seq_length': 18, 'dim_feedforward': 222, 'dropout': 0.06704372290660272, 'num_layers': 2}. Best is trial 31 with value: 2.8901932383764213.\n",
      "[I 2025-10-02 16:35:48,263] Trial 82 finished with value: 2.9952590206780383 and parameters: {'learning_rate': 0.00010483432213847642, 'batch_size': 30, 'seq_length': 15, 'dim_feedforward': 229, 'dropout': 0.08180391951303209, 'num_layers': 2}. Best is trial 31 with value: 2.8901932383764213.\n",
      "[I 2025-10-02 16:36:19,616] Trial 94 finished with value: 3.0050596545073858 and parameters: {'learning_rate': 0.00017276568202740793, 'batch_size': 31, 'seq_length': 16, 'dim_feedforward': 209, 'dropout': 0.05806333868016123, 'num_layers': 2}. Best is trial 31 with value: 2.8901932383764213.\n",
      "[I 2025-10-02 16:37:46,162] Trial 95 finished with value: 2.994097991625909 and parameters: {'learning_rate': 0.00011066219876824139, 'batch_size': 22, 'seq_length': 20, 'dim_feedforward': 223, 'dropout': 0.05706319480038689, 'num_layers': 2}. Best is trial 31 with value: 2.8901932383764213.\n",
      "[I 2025-10-02 16:38:56,412] Trial 86 finished with value: 3.4036004919100797 and parameters: {'learning_rate': 0.0024102233171307856, 'batch_size': 25, 'seq_length': 11, 'dim_feedforward': 191, 'dropout': 0.07295687448001467, 'num_layers': 2}. Best is trial 31 with value: 2.8901932383764213.\n",
      "[I 2025-10-02 16:39:18,980] Trial 97 finished with value: 3.413935533511312 and parameters: {'learning_rate': 0.0024509598420247164, 'batch_size': 22, 'seq_length': 20, 'dim_feedforward': 244, 'dropout': 0.06400604001432206, 'num_layers': 2}. Best is trial 31 with value: 2.8901932383764213.\n",
      "[I 2025-10-02 16:39:27,958] Trial 98 finished with value: 3.2589847359321786 and parameters: {'learning_rate': 0.0021206766168920766, 'batch_size': 36, 'seq_length': 19, 'dim_feedforward': 252, 'dropout': 0.07671973809190193, 'num_layers': 2}. Best is trial 31 with value: 2.8901932383764213.\n",
      "[I 2025-10-02 16:39:52,205] Trial 93 finished with value: 2.9810957703302434 and parameters: {'learning_rate': 0.00011317909106813399, 'batch_size': 31, 'seq_length': 16, 'dim_feedforward': 223, 'dropout': 0.07660212862724791, 'num_layers': 2}. Best is trial 31 with value: 2.8901932383764213.\n",
      "[I 2025-10-02 16:42:15,618] Trial 96 finished with value: 3.46704062066528 and parameters: {'learning_rate': 0.0027642874300295114, 'batch_size': 31, 'seq_length': 16, 'dim_feedforward': 247, 'dropout': 0.057678912493106214, 'num_layers': 2}. Best is trial 31 with value: 2.8901932383764213.\n",
      "[I 2025-10-02 16:42:35,191] Trial 101 finished with value: 3.117760759703895 and parameters: {'learning_rate': 0.0034189841533229207, 'batch_size': 17, 'seq_length': 3, 'dim_feedforward': 183, 'dropout': 0.06718657471743757, 'num_layers': 2}. Best is trial 31 with value: 2.8901932383764213.\n",
      "[I 2025-10-02 16:43:04,120] Trial 100 finished with value: 2.854797281173456 and parameters: {'learning_rate': 0.00019631858761495606, 'batch_size': 18, 'seq_length': 3, 'dim_feedforward': 182, 'dropout': 0.07784433954123926, 'num_layers': 2}. Best is trial 100 with value: 2.854797281173456.\n",
      "[I 2025-10-02 16:43:55,135] Trial 102 finished with value: 3.1788564978036593 and parameters: {'learning_rate': 0.0005851107285382156, 'batch_size': 18, 'seq_length': 16, 'dim_feedforward': 244, 'dropout': 0.06784372966897907, 'num_layers': 2}. Best is trial 100 with value: 2.854797281173456.\n",
      "[I 2025-10-02 16:43:56,042] Trial 104 finished with value: 3.1345888613031656 and parameters: {'learning_rate': 0.0005526386597840727, 'batch_size': 33, 'seq_length': 16, 'dim_feedforward': 200, 'dropout': 0.07803373501898583, 'num_layers': 2}. Best is trial 100 with value: 2.854797281173456.\n",
      "[I 2025-10-02 16:45:28,589] Trial 99 finished with value: 2.998858688090866 and parameters: {'learning_rate': 0.00035293509949117086, 'batch_size': 18, 'seq_length': 19, 'dim_feedforward': 246, 'dropout': 0.07704763792708952, 'num_layers': 2}. Best is trial 100 with value: 2.854797281173456.\n",
      "[I 2025-10-02 16:45:34,924] Trial 103 finished with value: 3.0572138629778647 and parameters: {'learning_rate': 0.0002641438682862537, 'batch_size': 17, 'seq_length': 3, 'dim_feedforward': 181, 'dropout': 0.0013979353932538213, 'num_layers': 2}. Best is trial 100 with value: 2.854797281173456.\n"
     ]
    },
    {
     "data": {
      "text/plain": [
       "{'learning_rate': 0.00019631858761495606,\n",
       " 'batch_size': 18,\n",
       " 'seq_length': 3,\n",
       " 'dim_feedforward': 182,\n",
       " 'dropout': 0.07784433954123926,\n",
       " 'num_layers': 2}"
      ]
     },
     "execution_count": 3,
     "metadata": {},
     "output_type": "execute_result"
    }
   ],
   "source": [
    "def objective6(trial):\n",
    "    # Suggest hyperparameters\n",
    "    # Restrict d_model and nhead to best from first optuna to get better insights (no inf)\n",
    "    d_model = 64\n",
    "    nhead = 4\n",
    "    \n",
    "    params = {\n",
    "        'learning_rate': trial.suggest_float(\"learning_rate\", 1e-4, 1e-2, log=True),\n",
    "        'batch_size': trial.suggest_int(\"batch_size\", 8, 64),\n",
    "        'seq_length': trial.suggest_int(\"seq_length\", 3, 21),\n",
    "        'transformer_encoder_layer_params': {\n",
    "            'd_model': d_model,\n",
    "            'nhead': nhead,\n",
    "            'dim_feedforward': trial.suggest_int(\"dim_feedforward\", 128, 512),\n",
    "            'dropout': trial.suggest_float(\"dropout\", 0.0, 0.1),\n",
    "            'activation': 'relu'\n",
    "        },\n",
    "        'transformer_layer_params': {\n",
    "            'num_layers': trial.suggest_int(\"num_layers\", 1, 5),\n",
    "        },\n",
    "        'dataset': '2016-2019',\n",
    "        'train_test_split': 'prior:2019',\n",
    "        'features': ['sum_30_min_demand'] + optimal_feature_names,\n",
    "        'visualise': False,\n",
    "    }\n",
    "    model = median_model(params, 5)\n",
    "    return model['results']['test_mape']\n",
    "\n",
    "study = optuna.create_study(storage=\"sqlite:///../../db.sqlite3\", study_name=\"75:25 - optimal features\", load_if_exists=True)\n",
    "study.optimize(objective6, n_trials=100, n_jobs=5)\n",
    "\n",
    "study.best_params"
   ]
  },
  {
   "cell_type": "code",
   "execution_count": 5,
   "id": "2f7b6df9",
   "metadata": {},
   "outputs": [
    {
     "name": "stderr",
     "output_type": "stream",
     "text": [
      "[I 2025-10-03 10:23:20,474] A new study created in RDB with name: 75:25 - all features\n",
      "[I 2025-10-03 10:24:12,525] Trial 1 finished with value: 6.380832659717736 and parameters: {'learning_rate': 0.004511987258548201, 'batch_size': 55, 'seq_length': 19, 'dim_feedforward': 395, 'dropout': 0.08204705393654972, 'num_layers': 5}. Best is trial 1 with value: 6.380832659717736.\n",
      "[I 2025-10-03 10:24:59,725] Trial 5 finished with value: 2.987462829549501 and parameters: {'learning_rate': 0.0003778456272706621, 'batch_size': 32, 'seq_length': 6, 'dim_feedforward': 430, 'dropout': 0.037373846767619734, 'num_layers': 1}. Best is trial 5 with value: 2.987462829549501.\n",
      "[I 2025-10-03 10:25:50,738] Trial 0 finished with value: 3.2346515894116226 and parameters: {'learning_rate': 0.0018265646152774678, 'batch_size': 24, 'seq_length': 6, 'dim_feedforward': 160, 'dropout': 0.010635137266631367, 'num_layers': 4}. Best is trial 5 with value: 2.987462829549501.\n",
      "[I 2025-10-03 10:26:09,506] Trial 3 finished with value: 2.9975464543591035 and parameters: {'learning_rate': 0.00013820805470407223, 'batch_size': 55, 'seq_length': 17, 'dim_feedforward': 324, 'dropout': 0.09901058141053126, 'num_layers': 3}. Best is trial 5 with value: 2.987462829549501.\n",
      "[I 2025-10-03 10:26:55,810] Trial 6 finished with value: 2.9728370613228203 and parameters: {'learning_rate': 0.00019424659157457304, 'batch_size': 12, 'seq_length': 12, 'dim_feedforward': 455, 'dropout': 0.07791241063615151, 'num_layers': 1}. Best is trial 6 with value: 2.9728370613228203.\n",
      "[I 2025-10-03 10:29:28,223] Trial 9 finished with value: 3.2142674191310947 and parameters: {'learning_rate': 0.00020648744783788883, 'batch_size': 24, 'seq_length': 14, 'dim_feedforward': 384, 'dropout': 0.02911370545909361, 'num_layers': 5}. Best is trial 6 with value: 2.9728370613228203.\n",
      "[I 2025-10-03 10:30:34,599] Trial 7 finished with value: 3.1485626187516815 and parameters: {'learning_rate': 0.0011213637020232718, 'batch_size': 26, 'seq_length': 10, 'dim_feedforward': 246, 'dropout': 0.09881656270317292, 'num_layers': 5}. Best is trial 6 with value: 2.9728370613228203.\n",
      "[I 2025-10-03 10:31:25,799] Trial 10 finished with value: 5.759037152901918 and parameters: {'learning_rate': 0.005143304787747473, 'batch_size': 55, 'seq_length': 8, 'dim_feedforward': 246, 'dropout': 0.035570761715304544, 'num_layers': 5}. Best is trial 6 with value: 2.9728370613228203.\n",
      "[I 2025-10-03 10:31:46,016] Trial 11 finished with value: 3.0647279055841965 and parameters: {'learning_rate': 0.004693961585901122, 'batch_size': 39, 'seq_length': 9, 'dim_feedforward': 478, 'dropout': 0.05876946190186151, 'num_layers': 1}. Best is trial 6 with value: 2.9728370613228203.\n",
      "[I 2025-10-03 10:32:35,653] Trial 4 finished with value: 2.919134108361875 and parameters: {'learning_rate': 0.0001638087746005395, 'batch_size': 41, 'seq_length': 13, 'dim_feedforward': 413, 'dropout': 0.0306315229314595, 'num_layers': 1}. Best is trial 4 with value: 2.919134108361875.\n",
      "[I 2025-10-03 10:33:40,208] Trial 12 finished with value: 3.144236671626806 and parameters: {'learning_rate': 0.00464302255459343, 'batch_size': 60, 'seq_length': 16, 'dim_feedforward': 226, 'dropout': 0.026932130469998528, 'num_layers': 4}. Best is trial 4 with value: 2.919134108361875.\n",
      "[I 2025-10-03 10:34:28,554] Trial 8 finished with value: 3.0456860336084466 and parameters: {'learning_rate': 0.004132085814327657, 'batch_size': 28, 'seq_length': 9, 'dim_feedforward': 221, 'dropout': 0.05687248455945329, 'num_layers': 4}. Best is trial 4 with value: 2.919134108361875.\n",
      "[I 2025-10-03 10:34:54,062] Trial 13 finished with value: 3.078811523965077 and parameters: {'learning_rate': 0.00017421352773658216, 'batch_size': 24, 'seq_length': 16, 'dim_feedforward': 418, 'dropout': 0.09657516303140713, 'num_layers': 3}. Best is trial 4 with value: 2.919134108361875.\n",
      "[I 2025-10-03 10:37:06,811] Trial 15 finished with value: 3.1138268728590686 and parameters: {'learning_rate': 0.0003952495484529818, 'batch_size': 9, 'seq_length': 12, 'dim_feedforward': 509, 'dropout': 0.06682713000744718, 'num_layers': 2}. Best is trial 4 with value: 2.919134108361875.\n",
      "[I 2025-10-03 10:37:54,231] Trial 18 finished with value: 3.065008337086713 and parameters: {'learning_rate': 0.0003812412212958782, 'batch_size': 44, 'seq_length': 3, 'dim_feedforward': 337, 'dropout': 0.0004523898772410065, 'num_layers': 2}. Best is trial 4 with value: 2.919134108361875.\n",
      "[I 2025-10-03 10:39:07,746] Trial 17 finished with value: 3.1758713707966457 and parameters: {'learning_rate': 0.0004162400136988454, 'batch_size': 8, 'seq_length': 12, 'dim_feedforward': 494, 'dropout': 0.06931352446895356, 'num_layers': 2}. Best is trial 4 with value: 2.919134108361875.\n",
      "[I 2025-10-03 10:41:11,259] Trial 19 finished with value: 3.015506452145565 and parameters: {'learning_rate': 0.00010597065366874568, 'batch_size': 10, 'seq_length': 13, 'dim_feedforward': 461, 'dropout': 0.07548143420878763, 'num_layers': 2}. Best is trial 4 with value: 2.919134108361875.\n",
      "[I 2025-10-03 10:41:24,650] Trial 2 finished with value: 3.1661489020781546 and parameters: {'learning_rate': 0.0018370572358031665, 'batch_size': 10, 'seq_length': 12, 'dim_feedforward': 176, 'dropout': 0.07704760008502623, 'num_layers': 2}. Best is trial 4 with value: 2.919134108361875.\n",
      "[I 2025-10-03 10:41:29,568] Trial 20 finished with value: 2.975349939272125 and parameters: {'learning_rate': 0.00010659405472755317, 'batch_size': 17, 'seq_length': 20, 'dim_feedforward': 448, 'dropout': 0.08350691794776924, 'num_layers': 1}. Best is trial 4 with value: 2.919134108361875.\n",
      "[I 2025-10-03 10:41:35,488] Trial 14 finished with value: 3.163884142279241 and parameters: {'learning_rate': 0.0006122699738716907, 'batch_size': 43, 'seq_length': 3, 'dim_feedforward': 509, 'dropout': 0.0004340214470285528, 'num_layers': 2}. Best is trial 4 with value: 2.919134108361875.\n",
      "[I 2025-10-03 10:41:44,405] Trial 21 finished with value: 3.160583145638078 and parameters: {'learning_rate': 0.0008426784000302893, 'batch_size': 44, 'seq_length': 20, 'dim_feedforward': 368, 'dropout': 0.04487012181881182, 'num_layers': 1}. Best is trial 4 with value: 2.919134108361875.\n",
      "[I 2025-10-03 10:42:23,221] Trial 23 finished with value: 2.971373581552421 and parameters: {'learning_rate': 0.00024065097173054363, 'batch_size': 45, 'seq_length': 15, 'dim_feedforward': 370, 'dropout': 0.0435622163478396, 'num_layers': 1}. Best is trial 4 with value: 2.919134108361875.\n",
      "[I 2025-10-03 10:42:52,886] Trial 16 finished with value: 3.1767584262666104 and parameters: {'learning_rate': 0.00041116816386111647, 'batch_size': 8, 'seq_length': 13, 'dim_feedforward': 497, 'dropout': 0.07622805636453672, 'num_layers': 2}. Best is trial 4 with value: 2.919134108361875.\n",
      "[I 2025-10-03 10:42:58,877] Trial 26 finished with value: 2.98242211937969 and parameters: {'learning_rate': 0.00026206462430040207, 'batch_size': 50, 'seq_length': 14, 'dim_feedforward': 361, 'dropout': 0.017940708892963345, 'num_layers': 1}. Best is trial 4 with value: 2.919134108361875.\n",
      "[I 2025-10-03 10:43:02,787] Trial 25 finished with value: 3.068924619001854 and parameters: {'learning_rate': 0.0002492906477687176, 'batch_size': 17, 'seq_length': 21, 'dim_feedforward': 434, 'dropout': 0.08181892789508266, 'num_layers': 1}. Best is trial 4 with value: 2.919134108361875.\n",
      "[I 2025-10-03 10:43:27,306] Trial 22 finished with value: 3.144332094811702 and parameters: {'learning_rate': 0.0006923988284239166, 'batch_size': 46, 'seq_length': 20, 'dim_feedforward': 453, 'dropout': 0.04413281229492075, 'num_layers': 1}. Best is trial 4 with value: 2.919134108361875.\n",
      "[I 2025-10-03 10:44:22,705] Trial 28 finished with value: 3.0261922224030102 and parameters: {'learning_rate': 0.0002326470651841847, 'batch_size': 35, 'seq_length': 17, 'dim_feedforward': 292, 'dropout': 0.04780707685625219, 'num_layers': 1}. Best is trial 4 with value: 2.919134108361875.\n",
      "[I 2025-10-03 10:44:39,802] Trial 27 finished with value: 3.026926749046593 and parameters: {'learning_rate': 0.00020340538427519, 'batch_size': 50, 'seq_length': 15, 'dim_feedforward': 351, 'dropout': 0.018221831811366027, 'num_layers': 1}. Best is trial 4 with value: 2.919134108361875.\n",
      "[I 2025-10-03 10:44:46,838] Trial 29 finished with value: 2.9828219799571882 and parameters: {'learning_rate': 0.00015075183348425454, 'batch_size': 36, 'seq_length': 16, 'dim_feedforward': 290, 'dropout': 0.046983914225322256, 'num_layers': 1}. Best is trial 4 with value: 2.919134108361875.\n",
      "[I 2025-10-03 10:48:06,435] Trial 33 finished with value: 3.106787220187789 and parameters: {'learning_rate': 0.0016015652643020651, 'batch_size': 40, 'seq_length': 10, 'dim_feedforward': 389, 'dropout': 0.05804778625035863, 'num_layers': 3}. Best is trial 4 with value: 2.919134108361875.\n",
      "[I 2025-10-03 10:48:27,126] Trial 31 finished with value: 3.0450525354264792 and parameters: {'learning_rate': 0.00015762250470408885, 'batch_size': 38, 'seq_length': 15, 'dim_feedforward': 406, 'dropout': 0.05500597196512883, 'num_layers': 3}. Best is trial 4 with value: 2.919134108361875.\n",
      "[I 2025-10-03 10:48:54,607] Trial 24 finished with value: 2.8184280003512243 and parameters: {'learning_rate': 0.00023012066138871276, 'batch_size': 47, 'seq_length': 14, 'dim_feedforward': 355, 'dropout': 0.043975107811000946, 'num_layers': 1}. Best is trial 24 with value: 2.8184280003512243.\n",
      "[I 2025-10-03 10:50:13,340] Trial 30 finished with value: 2.878313116039367 and parameters: {'learning_rate': 0.00017207113832042346, 'batch_size': 35, 'seq_length': 17, 'dim_feedforward': 292, 'dropout': 0.05562292274890296, 'num_layers': 1}. Best is trial 24 with value: 2.8184280003512243.\n",
      "[I 2025-10-03 10:50:55,711] Trial 34 finished with value: 6.09243836365724 and parameters: {'learning_rate': 0.009025367117460792, 'batch_size': 64, 'seq_length': 11, 'dim_feedforward': 410, 'dropout': 0.036103824004543955, 'num_layers': 3}. Best is trial 24 with value: 2.8184280003512243.\n",
      "[I 2025-10-03 10:52:07,302] Trial 32 finished with value: 6.801355808983245 and parameters: {'learning_rate': 0.009061267452500861, 'batch_size': 38, 'seq_length': 10, 'dim_feedforward': 300, 'dropout': 0.05725336077522037, 'num_layers': 3}. Best is trial 24 with value: 2.8184280003512243.\n",
      "[I 2025-10-03 10:53:14,199] Trial 38 finished with value: 3.059399956234 and parameters: {'learning_rate': 0.0002860133152281578, 'batch_size': 49, 'seq_length': 18, 'dim_feedforward': 302, 'dropout': 0.028893765569524762, 'num_layers': 2}. Best is trial 24 with value: 2.8184280003512243.\n",
      "[I 2025-10-03 10:55:06,884] Trial 37 finished with value: 3.016569856804157 and parameters: {'learning_rate': 0.00031039868149652493, 'batch_size': 49, 'seq_length': 18, 'dim_feedforward': 304, 'dropout': 0.03911272618581807, 'num_layers': 2}. Best is trial 24 with value: 2.8184280003512243.\n",
      "[I 2025-10-03 10:55:07,072] Trial 36 finished with value: 3.1298176768951635 and parameters: {'learning_rate': 0.0002967051153999703, 'batch_size': 49, 'seq_length': 11, 'dim_feedforward': 291, 'dropout': 0.03809053931410215, 'num_layers': 1}. Best is trial 24 with value: 2.8184280003512243.\n",
      "[I 2025-10-03 10:56:00,563] Trial 40 finished with value: 2.902091321566523 and parameters: {'learning_rate': 0.00014010461864855732, 'batch_size': 31, 'seq_length': 18, 'dim_feedforward': 329, 'dropout': 0.03693139216856217, 'num_layers': 1}. Best is trial 24 with value: 2.8184280003512243.\n",
      "[I 2025-10-03 10:56:06,566] Trial 39 finished with value: 3.0618156326131527 and parameters: {'learning_rate': 0.0002920852767120085, 'batch_size': 49, 'seq_length': 17, 'dim_feedforward': 320, 'dropout': 0.0283628146460023, 'num_layers': 2}. Best is trial 24 with value: 2.8184280003512243.\n",
      "[I 2025-10-03 10:56:09,955] Trial 35 finished with value: 2.8985468280230933 and parameters: {'learning_rate': 0.00010341005775545768, 'batch_size': 18, 'seq_length': 19, 'dim_feedforward': 466, 'dropout': 0.08912140791678203, 'num_layers': 1}. Best is trial 24 with value: 2.8184280003512243.\n",
      "[I 2025-10-03 10:59:01,051] Trial 43 finished with value: 2.9708088207825574 and parameters: {'learning_rate': 0.00013177617895117642, 'batch_size': 32, 'seq_length': 18, 'dim_feedforward': 148, 'dropout': 0.05204364288108915, 'num_layers': 1}. Best is trial 24 with value: 2.8184280003512243.\n",
      "[I 2025-10-03 10:59:19,855] Trial 45 finished with value: 3.1266301966112824 and parameters: {'learning_rate': 0.0001232781956280266, 'batch_size': 31, 'seq_length': 19, 'dim_feedforward': 148, 'dropout': 0.02082298669133409, 'num_layers': 1}. Best is trial 24 with value: 2.8184280003512243.\n",
      "[I 2025-10-03 10:59:34,918] Trial 44 finished with value: 3.1425882198277124 and parameters: {'learning_rate': 0.0001289091394186462, 'batch_size': 31, 'seq_length': 18, 'dim_feedforward': 266, 'dropout': 0.019496874539411728, 'num_layers': 1}. Best is trial 24 with value: 2.8184280003512243.\n",
      "[I 2025-10-03 11:00:38,125] Trial 46 finished with value: 2.937942692699768 and parameters: {'learning_rate': 0.00013072350693361506, 'batch_size': 31, 'seq_length': 19, 'dim_feedforward': 270, 'dropout': 0.0912263566342466, 'num_layers': 1}. Best is trial 24 with value: 2.8184280003512243.\n",
      "[I 2025-10-03 11:00:48,166] Trial 41 finished with value: 3.086743335298192 and parameters: {'learning_rate': 0.00013260985556202745, 'batch_size': 33, 'seq_length': 14, 'dim_feedforward': 131, 'dropout': 0.05156734088081817, 'num_layers': 1}. Best is trial 24 with value: 2.8184280003512243.\n",
      "[I 2025-10-03 11:01:40,796] Trial 47 finished with value: 2.956579290005736 and parameters: {'learning_rate': 0.00010478166889648974, 'batch_size': 21, 'seq_length': 19, 'dim_feedforward': 256, 'dropout': 0.09421841075499224, 'num_layers': 1}. Best is trial 24 with value: 2.8184280003512243.\n",
      "[I 2025-10-03 11:02:42,389] Trial 49 finished with value: 2.881302188610778 and parameters: {'learning_rate': 0.00017712058789885022, 'batch_size': 18, 'seq_length': 14, 'dim_feedforward': 330, 'dropout': 0.0635031321554503, 'num_layers': 1}. Best is trial 24 with value: 2.8184280003512243.\n",
      "[I 2025-10-03 11:03:19,712] Trial 42 finished with value: 2.9698853328327184 and parameters: {'learning_rate': 0.00012663709283476605, 'batch_size': 32, 'seq_length': 14, 'dim_feedforward': 170, 'dropout': 0.051641826869283355, 'num_layers': 1}. Best is trial 24 with value: 2.8184280003512243.\n",
      "[I 2025-10-03 11:03:37,509] Trial 51 finished with value: 3.0179195888272172 and parameters: {'learning_rate': 0.00017994458546376386, 'batch_size': 53, 'seq_length': 21, 'dim_feedforward': 332, 'dropout': 0.06266912602096003, 'num_layers': 2}. Best is trial 24 with value: 2.8184280003512243.\n",
      "[I 2025-10-03 11:03:46,384] Trial 48 finished with value: 2.9682363110646275 and parameters: {'learning_rate': 0.0001648248777482945, 'batch_size': 19, 'seq_length': 19, 'dim_feedforward': 327, 'dropout': 0.09248423823183993, 'num_layers': 1}. Best is trial 24 with value: 2.8184280003512243.\n",
      "[I 2025-10-03 11:05:55,130] Trial 52 finished with value: 3.115562635104878 and parameters: {'learning_rate': 0.00018054765117147775, 'batch_size': 18, 'seq_length': 16, 'dim_feedforward': 328, 'dropout': 0.0630510252253552, 'num_layers': 2}. Best is trial 24 with value: 2.8184280003512243.\n",
      "[I 2025-10-03 11:06:43,148] Trial 56 finished with value: 3.1988774707607366 and parameters: {'learning_rate': 0.0005105494620427208, 'batch_size': 28, 'seq_length': 13, 'dim_feedforward': 353, 'dropout': 0.03414147120573774, 'num_layers': 1}. Best is trial 24 with value: 2.8184280003512243.\n",
      "[I 2025-10-03 11:09:33,304] Trial 50 finished with value: 3.245843334116908 and parameters: {'learning_rate': 0.00017865806733044845, 'batch_size': 27, 'seq_length': 17, 'dim_feedforward': 334, 'dropout': 0.03363866621709661, 'num_layers': 4}. Best is trial 24 with value: 2.8184280003512243.\n",
      "[I 2025-10-03 11:10:04,681] Trial 55 finished with value: 2.9873353001037546 and parameters: {'learning_rate': 0.00018875838586645256, 'batch_size': 13, 'seq_length': 13, 'dim_feedforward': 349, 'dropout': 0.06296334310093653, 'num_layers': 1}. Best is trial 24 with value: 2.8184280003512243.\n",
      "[I 2025-10-03 11:10:18,902] Trial 54 finished with value: 3.128832305345096 and parameters: {'learning_rate': 0.0005199138361655129, 'batch_size': 14, 'seq_length': 17, 'dim_feedforward': 205, 'dropout': 0.07133003685654127, 'num_layers': 4}. Best is trial 24 with value: 2.8184280003512243.\n",
      "[I 2025-10-03 11:11:18,811] Trial 57 finished with value: 3.28417622464722 and parameters: {'learning_rate': 0.0002114339211124468, 'batch_size': 13, 'seq_length': 17, 'dim_feedforward': 377, 'dropout': 0.0407084268863193, 'num_layers': 4}. Best is trial 24 with value: 2.8184280003512243.\n",
      "[I 2025-10-03 11:12:25,642] Trial 60 finished with value: 3.0134725632817037 and parameters: {'learning_rate': 0.00010213267892059355, 'batch_size': 41, 'seq_length': 7, 'dim_feedforward': 472, 'dropout': 0.040949956981511784, 'num_layers': 2}. Best is trial 24 with value: 2.8184280003512243.\n",
      "[I 2025-10-03 11:13:30,410] Trial 61 finished with value: 2.922159396550847 and parameters: {'learning_rate': 0.00035197656554588393, 'batch_size': 23, 'seq_length': 15, 'dim_feedforward': 469, 'dropout': 0.08818173372455149, 'num_layers': 2}. Best is trial 24 with value: 2.8184280003512243.\n",
      "[I 2025-10-03 11:14:18,445] Trial 63 finished with value: 3.2575024929671055 and parameters: {'learning_rate': 0.0028652756258979537, 'batch_size': 42, 'seq_length': 11, 'dim_feedforward': 311, 'dropout': 0.01013118849582281, 'num_layers': 1}. Best is trial 24 with value: 2.8184280003512243.\n",
      "[I 2025-10-03 11:14:24,073] Trial 62 finished with value: 3.208798095758733 and parameters: {'learning_rate': 0.001306747537430579, 'batch_size': 22, 'seq_length': 15, 'dim_feedforward': 415, 'dropout': 0.024272775923534835, 'num_layers': 1}. Best is trial 24 with value: 2.8184280003512243.\n",
      "[I 2025-10-03 11:15:23,921] Trial 59 finished with value: 3.1212759973675377 and parameters: {'learning_rate': 0.003058449077395796, 'batch_size': 22, 'seq_length': 17, 'dim_feedforward': 477, 'dropout': 0.04132483333571764, 'num_layers': 2}. Best is trial 24 with value: 2.8184280003512243.\n",
      "[I 2025-10-03 11:15:58,824] Trial 64 finished with value: 2.9100468936183375 and parameters: {'learning_rate': 0.000148857368688111, 'batch_size': 36, 'seq_length': 13, 'dim_feedforward': 399, 'dropout': 0.08591597579131333, 'num_layers': 1}. Best is trial 24 with value: 2.8184280003512243.\n",
      "[I 2025-10-03 11:16:02,694] Trial 65 finished with value: 2.9850663688180408 and parameters: {'learning_rate': 0.00035543058941957446, 'batch_size': 23, 'seq_length': 13, 'dim_feedforward': 429, 'dropout': 0.08527331823645616, 'num_layers': 1}. Best is trial 24 with value: 2.8184280003512243.\n",
      "[I 2025-10-03 11:17:45,285] Trial 67 finished with value: 2.9285461611005377 and parameters: {'learning_rate': 0.00015287801979345264, 'batch_size': 34, 'seq_length': 13, 'dim_feedforward': 432, 'dropout': 0.09959174457968922, 'num_layers': 1}. Best is trial 24 with value: 2.8184280003512243.\n",
      "[I 2025-10-03 11:18:04,019] Trial 68 finished with value: 2.90319176323428 and parameters: {'learning_rate': 0.00015351394019747473, 'batch_size': 35, 'seq_length': 14, 'dim_feedforward': 401, 'dropout': 0.0750077993253341, 'num_layers': 1}. Best is trial 24 with value: 2.8184280003512243.\n",
      "[I 2025-10-03 11:18:33,539] Trial 66 finished with value: 3.0051150379008367 and parameters: {'learning_rate': 0.0003360883188890986, 'batch_size': 25, 'seq_length': 13, 'dim_feedforward': 490, 'dropout': 0.08763889759909893, 'num_layers': 1}. Best is trial 24 with value: 2.8184280003512243.\n",
      "[I 2025-10-03 11:19:00,951] Trial 58 finished with value: 2.979108629677338 and parameters: {'learning_rate': 0.00020843421309144037, 'batch_size': 13, 'seq_length': 13, 'dim_feedforward': 433, 'dropout': 0.042062498102594284, 'num_layers': 1}. Best is trial 24 with value: 2.8184280003512243.\n",
      "[I 2025-10-03 11:19:17,080] Trial 69 finished with value: 3.0720198241621173 and parameters: {'learning_rate': 0.0002237735915896084, 'batch_size': 47, 'seq_length': 16, 'dim_feedforward': 400, 'dropout': 0.03293516741931023, 'num_layers': 1}. Best is trial 24 with value: 2.8184280003512243.\n",
      "[I 2025-10-03 11:20:15,380] Trial 70 finished with value: 2.9590297358831066 and parameters: {'learning_rate': 0.00022622620309905211, 'batch_size': 37, 'seq_length': 14, 'dim_feedforward': 397, 'dropout': 0.08065672030130312, 'num_layers': 1}. Best is trial 24 with value: 2.8184280003512243.\n",
      "[I 2025-10-03 11:21:28,298] Trial 73 finished with value: 2.9159144570428603 and parameters: {'learning_rate': 0.00011359962526389729, 'batch_size': 37, 'seq_length': 14, 'dim_feedforward': 386, 'dropout': 0.0795032617611927, 'num_layers': 1}. Best is trial 24 with value: 2.8184280003512243.\n",
      "[I 2025-10-03 11:21:54,720] Trial 71 finished with value: 2.9563565596599783 and parameters: {'learning_rate': 0.00021064030380048583, 'batch_size': 29, 'seq_length': 12, 'dim_feedforward': 399, 'dropout': 0.07917418821137566, 'num_layers': 1}. Best is trial 24 with value: 2.8184280003512243.\n",
      "[I 2025-10-03 11:22:35,079] Trial 74 finished with value: 2.853211644525589 and parameters: {'learning_rate': 0.00011585816583855833, 'batch_size': 29, 'seq_length': 12, 'dim_feedforward': 374, 'dropout': 0.07016191068067996, 'num_layers': 1}. Best is trial 24 with value: 2.8184280003512243.\n",
      "[I 2025-10-03 11:22:38,085] Trial 75 finished with value: 2.984042017958634 and parameters: {'learning_rate': 0.00011567641915381856, 'batch_size': 36, 'seq_length': 12, 'dim_feedforward': 381, 'dropout': 0.0713540087057651, 'num_layers': 1}. Best is trial 24 with value: 2.8184280003512243.\n",
      "[I 2025-10-03 11:23:43,375] Trial 72 finished with value: 2.9239002081369163 and parameters: {'learning_rate': 0.00011441843158215497, 'batch_size': 36, 'seq_length': 14, 'dim_feedforward': 393, 'dropout': 0.07956307890288006, 'num_layers': 1}. Best is trial 24 with value: 2.8184280003512243.\n",
      "[I 2025-10-03 11:24:21,847] Trial 76 finished with value: 2.955099965202782 and parameters: {'learning_rate': 0.00011933844699556825, 'batch_size': 35, 'seq_length': 14, 'dim_feedforward': 365, 'dropout': 0.07454816004696492, 'num_layers': 1}. Best is trial 24 with value: 2.8184280003512243.\n",
      "[I 2025-10-03 11:24:39,716] Trial 77 finished with value: 2.9878237358291146 and parameters: {'learning_rate': 0.00014884894163674298, 'batch_size': 35, 'seq_length': 12, 'dim_feedforward': 342, 'dropout': 0.07341811769338397, 'num_layers': 1}. Best is trial 24 with value: 2.8184280003512243.\n",
      "[I 2025-10-03 11:25:29,826] Trial 53 finished with value: 3.178289213715086 and parameters: {'learning_rate': 0.00018178414893404602, 'batch_size': 15, 'seq_length': 17, 'dim_feedforward': 341, 'dropout': 0.06683241841917022, 'num_layers': 4}. Best is trial 24 with value: 2.8184280003512243.\n",
      "[I 2025-10-03 11:27:29,045] Trial 78 finished with value: 3.219925491742339 and parameters: {'learning_rate': 0.00014867070978509986, 'batch_size': 29, 'seq_length': 11, 'dim_feedforward': 363, 'dropout': 0.07389858468201374, 'num_layers': 5}. Best is trial 24 with value: 2.8184280003512243.\n",
      "[I 2025-10-03 11:29:51,289] Trial 83 finished with value: 2.9254434701118806 and parameters: {'learning_rate': 0.00014358807282443127, 'batch_size': 26, 'seq_length': 20, 'dim_feedforward': 314, 'dropout': 0.08378547162278023, 'num_layers': 1}. Best is trial 24 with value: 2.8184280003512243.\n",
      "[I 2025-10-03 11:29:51,600] Trial 80 finished with value: 2.994365004584147 and parameters: {'learning_rate': 0.00015733747205635176, 'batch_size': 29, 'seq_length': 11, 'dim_feedforward': 341, 'dropout': 0.06768078930988516, 'num_layers': 1}. Best is trial 24 with value: 2.8184280003512243.\n",
      "[I 2025-10-03 11:30:02,391] Trial 81 finished with value: 3.041555465852472 and parameters: {'learning_rate': 0.0001476170905471613, 'batch_size': 39, 'seq_length': 11, 'dim_feedforward': 315, 'dropout': 0.06740250327473798, 'num_layers': 5}. Best is trial 24 with value: 2.8184280003512243.\n",
      "[I 2025-10-03 11:30:21,331] Trial 79 finished with value: 2.962057505696452 and parameters: {'learning_rate': 0.00014225068651924896, 'batch_size': 29, 'seq_length': 20, 'dim_feedforward': 364, 'dropout': 0.06677230538275121, 'num_layers': 1}. Best is trial 24 with value: 2.8184280003512243.\n",
      "[I 2025-10-03 11:30:59,292] Trial 84 finished with value: 2.9438533474537723 and parameters: {'learning_rate': 0.00016096740478948032, 'batch_size': 39, 'seq_length': 9, 'dim_feedforward': 274, 'dropout': 0.054611795887336466, 'num_layers': 1}. Best is trial 24 with value: 2.8184280003512243.\n",
      "[I 2025-10-03 11:31:56,482] Trial 86 finished with value: 2.981821938187624 and parameters: {'learning_rate': 0.0002604937929665309, 'batch_size': 20, 'seq_length': 4, 'dim_feedforward': 375, 'dropout': 0.07676011086950289, 'num_layers': 1}. Best is trial 24 with value: 2.8184280003512243.\n",
      "[I 2025-10-03 11:32:02,983] Trial 85 finished with value: 3.025310601039183 and parameters: {'learning_rate': 0.00025363806040246, 'batch_size': 33, 'seq_length': 15, 'dim_feedforward': 284, 'dropout': 0.059997488714373354, 'num_layers': 1}. Best is trial 24 with value: 2.8184280003512243.\n",
      "[I 2025-10-03 11:32:23,153] Trial 88 finished with value: 2.970020169867082 and parameters: {'learning_rate': 0.00011098338972628045, 'batch_size': 33, 'seq_length': 15, 'dim_feedforward': 354, 'dropout': 0.060352156211859055, 'num_layers': 1}. Best is trial 24 with value: 2.8184280003512243.\n",
      "[I 2025-10-03 11:33:03,879] Trial 82 finished with value: 3.0259042114797365 and parameters: {'learning_rate': 0.00014908405258046698, 'batch_size': 29, 'seq_length': 20, 'dim_feedforward': 362, 'dropout': 0.06065730726586083, 'num_layers': 1}. Best is trial 24 with value: 2.8184280003512243.\n",
      "[I 2025-10-03 11:33:31,314] Trial 89 finished with value: 3.0153693333420177 and parameters: {'learning_rate': 0.00010109256966123257, 'batch_size': 33, 'seq_length': 15, 'dim_feedforward': 384, 'dropout': 0.04824037409721263, 'num_layers': 1}. Best is trial 24 with value: 2.8184280003512243.\n",
      "[I 2025-10-03 11:34:24,556] Trial 87 finished with value: 2.8665419507600496 and parameters: {'learning_rate': 0.00010278181606534649, 'batch_size': 40, 'seq_length': 16, 'dim_feedforward': 378, 'dropout': 0.055358198373779775, 'num_layers': 1}. Best is trial 24 with value: 2.8184280003512243.\n",
      "[I 2025-10-03 11:34:42,698] Trial 93 finished with value: 2.9959548937220557 and parameters: {'learning_rate': 0.00012300598762834912, 'batch_size': 38, 'seq_length': 16, 'dim_feedforward': 445, 'dropout': 0.05520520614635728, 'num_layers': 1}. Best is trial 24 with value: 2.8184280003512243.\n",
      "[I 2025-10-03 11:36:18,259] Trial 91 finished with value: 2.9616474199188185 and parameters: {'learning_rate': 0.0001034575478216339, 'batch_size': 10, 'seq_length': 16, 'dim_feedforward': 383, 'dropout': 0.046719655417436466, 'num_layers': 1}. Best is trial 24 with value: 2.8184280003512243.\n",
      "[I 2025-10-03 11:36:56,673] Trial 95 finished with value: 2.8967398930449706 and parameters: {'learning_rate': 0.0001011704729519662, 'batch_size': 42, 'seq_length': 18, 'dim_feedforward': 422, 'dropout': 0.08913245069212124, 'num_layers': 1}. Best is trial 24 with value: 2.8184280003512243.\n",
      "[I 2025-10-03 11:37:17,092] Trial 90 finished with value: 3.010968194519091 and parameters: {'learning_rate': 0.00010080442291781353, 'batch_size': 16, 'seq_length': 16, 'dim_feedforward': 444, 'dropout': 0.048858891134322985, 'num_layers': 1}. Best is trial 24 with value: 2.8184280003512243.\n",
      "[I 2025-10-03 11:38:47,261] Trial 96 finished with value: 2.8905951388120696 and parameters: {'learning_rate': 0.00013208314774412004, 'batch_size': 43, 'seq_length': 18, 'dim_feedforward': 421, 'dropout': 0.06492899414091473, 'num_layers': 1}. Best is trial 24 with value: 2.8184280003512243.\n",
      "[I 2025-10-03 11:38:48,861] Trial 94 finished with value: 3.066644101569813 and parameters: {'learning_rate': 0.00012417273665806826, 'batch_size': 41, 'seq_length': 16, 'dim_feedforward': 423, 'dropout': 0.05437123036297393, 'num_layers': 1}. Best is trial 24 with value: 2.8184280003512243.\n",
      "[I 2025-10-03 11:39:13,616] Trial 97 finished with value: 2.8525866450201804 and parameters: {'learning_rate': 0.0001694719213353555, 'batch_size': 44, 'seq_length': 19, 'dim_feedforward': 422, 'dropout': 0.09609775649696252, 'num_layers': 1}. Best is trial 24 with value: 2.8184280003512243.\n",
      "[I 2025-10-03 11:39:33,066] Trial 92 finished with value: 2.93570595040007 and parameters: {'learning_rate': 0.00010219049029660235, 'batch_size': 41, 'seq_length': 16, 'dim_feedforward': 443, 'dropout': 0.047775561547232996, 'num_layers': 1}. Best is trial 24 with value: 2.8184280003512243.\n",
      "[I 2025-10-03 11:39:51,196] Trial 98 finished with value: 2.877380025454442 and parameters: {'learning_rate': 0.0001330872389236407, 'batch_size': 44, 'seq_length': 18, 'dim_feedforward': 425, 'dropout': 0.09501870071084163, 'num_layers': 1}. Best is trial 24 with value: 2.8184280003512243.\n",
      "[I 2025-10-03 11:40:05,072] Trial 99 finished with value: 2.951126459230482 and parameters: {'learning_rate': 0.00013265025822254472, 'batch_size': 45, 'seq_length': 18, 'dim_feedforward': 419, 'dropout': 0.09638916515370326, 'num_layers': 1}. Best is trial 24 with value: 2.8184280003512243.\n"
     ]
    },
    {
     "data": {
      "text/plain": [
       "{'learning_rate': 0.00023012066138871276,\n",
       " 'batch_size': 47,\n",
       " 'seq_length': 14,\n",
       " 'dim_feedforward': 355,\n",
       " 'dropout': 0.043975107811000946,\n",
       " 'num_layers': 1}"
      ]
     },
     "execution_count": 5,
     "metadata": {},
     "output_type": "execute_result"
    }
   ],
   "source": [
    "def objective7(trial):\n",
    "    d_model = 64\n",
    "    nhead = 4\n",
    "    params = {\n",
    "        'learning_rate': trial.suggest_float(\"learning_rate\", 1e-4, 1e-2, log=True),\n",
    "        'batch_size': trial.suggest_int(\"batch_size\", 8, 64),\n",
    "        'seq_length': trial.suggest_int(\"seq_length\", 3, 21),\n",
    "        'transformer_encoder_layer_params': {\n",
    "            'd_model': d_model,\n",
    "            'nhead': nhead,\n",
    "            'dim_feedforward': trial.suggest_int(\"dim_feedforward\", 128, 512),\n",
    "            'dropout': trial.suggest_float(\"dropout\", 0.0, 0.1),\n",
    "            'activation': 'relu'\n",
    "        },\n",
    "        'transformer_layer_params': {\n",
    "            'num_layers': trial.suggest_int(\"num_layers\", 1, 5),\n",
    "        },\n",
    "        'dataset': '2016-2019',\n",
    "        'train_test_split': 'prior:2019',\n",
    "        'features': ['sum_30_min_demand'] + feature_names,\n",
    "        'visualise': False,\n",
    "    }\n",
    "    model = median_model(params, 5)\n",
    "    return model['results']['test_mape']\n",
    "\n",
    "study = optuna.create_study(storage=\"sqlite:///../../db.sqlite3\", study_name=\"75:25 - all features\", load_if_exists=True)\n",
    "study.optimize(objective7, n_trials=100, n_jobs=5)\n",
    "\n",
    "study.best_params"
   ]
  }
 ],
 "metadata": {
  "kernelspec": {
   "display_name": ".venv",
   "language": "python",
   "name": "python3"
  },
  "language_info": {
   "codemirror_mode": {
    "name": "ipython",
    "version": 3
   },
   "file_extension": ".py",
   "mimetype": "text/x-python",
   "name": "python",
   "nbconvert_exporter": "python",
   "pygments_lexer": "ipython3",
   "version": "3.10.12"
  }
 },
 "nbformat": 4,
 "nbformat_minor": 5
}
