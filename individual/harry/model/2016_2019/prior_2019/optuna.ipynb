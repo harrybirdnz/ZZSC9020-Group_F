{
 "cells": [
  {
   "cell_type": "code",
   "execution_count": 1,
   "id": "98b25d83",
   "metadata": {},
   "outputs": [],
   "source": [
    "#imports\n",
    "import optuna\n",
    "import sys\n",
    "sys.path.append('/home/harry/personal/uni/project/individual/harry/model')\n",
    "\n",
    "from model import *\n",
    "\n",
    "feature_names = [\n",
    "    'is_summer', 'is_autumn', 'is_winter', 'is_spring',\n",
    "    'is_monday', 'is_tuesday', 'is_wednesday', 'is_thursday', 'is_friday', 'is_saturday', 'is_sunday',\n",
    "    'is_weekday', 'is_weekend',\n",
    "    'is_jan', 'is_feb', 'is_mar', 'is_apr', 'is_may', 'is_jun', 'is_jul', 'is_aug', 'is_sep', 'is_oct', 'is_nov', 'is_dec',\n",
    "    'min_30_min_demand',\n",
    "    'avg_30_min_demand',\n",
    "    'max_30_min_demand',\n",
    "    'avg_temp',\n",
    "    'max_temp',\n",
    "    'min_temp',\n",
    "    'hd_next_24h',\n",
    "    'cd_next_24h',\n",
    "    'sunlight',\n",
    "    'precipitation'\n",
    "]\n"
   ]
  },
  {
   "cell_type": "code",
   "execution_count": null,
   "id": "522e7340",
   "metadata": {},
   "outputs": [],
   "source": [
    "\n",
    "## Optuna Function\n",
    "def objective(trial):\n",
    "    # Suggest hyperparameters\n",
    "    # Restrict d_model and nhead to best from first optuna to get better insights (no inf)\n",
    "    d_model = 64\n",
    "    nhead = 4\n",
    "    \n",
    "\n",
    "    params = {\n",
    "        'learning_rate': trial.suggest_float(\"learning_rate\", 1e-4, 1e-2, log=True),\n",
    "        'batch_size': trial.suggest_int(\"batch_size\", 8, 64),\n",
    "        'seq_length': trial.suggest_int(\"seq_length\", 3, 21),\n",
    "        'transformer_encoder_layer_params': {\n",
    "            'd_model': d_model,\n",
    "            'nhead': nhead,\n",
    "            'dim_feedforward': trial.suggest_int(\"dim_feedforward\", 128, 512),\n",
    "            'dropout': trial.suggest_float(\"dropout\", 0.0, 0.1),\n",
    "            'activation': 'relu'\n",
    "        },\n",
    "        'transformer_layer_params': {\n",
    "            'num_layers': trial.suggest_int(\"num_layers\", 1, 5),\n",
    "        },\n",
    "        'dataset': '2016-2019',\n",
    "        'train_test_split': 'prior:2019',\n",
    "        'features': ['sum_30_min_demand'] + feature_names,\n",
    "        'visualise': False,\n",
    "    }\n",
    "\n",
    "    return train_model(params)"
   ]
  },
  {
   "cell_type": "code",
   "execution_count": 2,
   "id": "f764341f",
   "metadata": {},
   "outputs": [
    {
     "name": "stderr",
     "output_type": "stream",
     "text": [
      "[I 2025-09-29 15:40:51,593] A new study created in RDB with name: 2016_2019+all_features\n"
     ]
    },
    {
     "name": "stdout",
     "output_type": "stream",
     "text": [
      "Using device: cuda\n"
     ]
    },
    {
     "name": "stderr",
     "output_type": "stream",
     "text": [
      "[I 2025-09-29 15:41:14,757] Trial 0 finished with value: 3.3257223871712616 and parameters: {'learning_rate': 0.002030899356209592, 'batch_size': 21, 'seq_length': 14, 'dim_feedforward': 267, 'dropout': 0.0671148069642173, 'num_layers': 4}. Best is trial 0 with value: 3.3257223871712616.\n"
     ]
    },
    {
     "name": "stdout",
     "output_type": "stream",
     "text": [
      "Using device: cuda\n"
     ]
    },
    {
     "name": "stderr",
     "output_type": "stream",
     "text": [
      "[I 2025-09-29 15:41:22,246] Trial 1 finished with value: 3.2074449919348686 and parameters: {'learning_rate': 0.0004912525481300255, 'batch_size': 42, 'seq_length': 19, 'dim_feedforward': 168, 'dropout': 0.09432145815761739, 'num_layers': 3}. Best is trial 1 with value: 3.2074449919348686.\n"
     ]
    },
    {
     "name": "stdout",
     "output_type": "stream",
     "text": [
      "Using device: cuda\n"
     ]
    },
    {
     "name": "stderr",
     "output_type": "stream",
     "text": [
      "[I 2025-09-29 15:41:35,934] Trial 2 finished with value: 3.0010241207241846 and parameters: {'learning_rate': 0.004373605534635941, 'batch_size': 13, 'seq_length': 13, 'dim_feedforward': 504, 'dropout': 0.03170187763917859, 'num_layers': 1}. Best is trial 2 with value: 3.0010241207241846.\n"
     ]
    },
    {
     "name": "stdout",
     "output_type": "stream",
     "text": [
      "Using device: cuda\n"
     ]
    },
    {
     "name": "stderr",
     "output_type": "stream",
     "text": [
      "[I 2025-09-29 15:41:41,455] Trial 3 finished with value: 5.9147364692565425 and parameters: {'learning_rate': 0.009296994978726757, 'batch_size': 43, 'seq_length': 19, 'dim_feedforward': 274, 'dropout': 0.042163050261384, 'num_layers': 3}. Best is trial 2 with value: 3.0010241207241846.\n"
     ]
    },
    {
     "name": "stdout",
     "output_type": "stream",
     "text": [
      "Using device: cuda\n"
     ]
    },
    {
     "name": "stderr",
     "output_type": "stream",
     "text": [
      "[I 2025-09-29 15:42:03,003] Trial 4 finished with value: 3.3871620499808213 and parameters: {'learning_rate': 0.0011142948296489245, 'batch_size': 14, 'seq_length': 18, 'dim_feedforward': 388, 'dropout': 0.0484119560643522, 'num_layers': 3}. Best is trial 2 with value: 3.0010241207241846.\n"
     ]
    },
    {
     "name": "stdout",
     "output_type": "stream",
     "text": [
      "Using device: cuda\n"
     ]
    },
    {
     "name": "stderr",
     "output_type": "stream",
     "text": [
      "[I 2025-09-29 15:42:07,327] Trial 5 finished with value: 3.479723757261441 and parameters: {'learning_rate': 0.0024779297803427464, 'batch_size': 60, 'seq_length': 13, 'dim_feedforward': 455, 'dropout': 0.011062607352148025, 'num_layers': 3}. Best is trial 2 with value: 3.0010241207241846.\n"
     ]
    },
    {
     "name": "stdout",
     "output_type": "stream",
     "text": [
      "Using device: cuda\n"
     ]
    },
    {
     "name": "stderr",
     "output_type": "stream",
     "text": [
      "[I 2025-09-29 15:42:17,402] Trial 6 finished with value: 3.5290421546138604 and parameters: {'learning_rate': 0.0004647674977772755, 'batch_size': 39, 'seq_length': 17, 'dim_feedforward': 202, 'dropout': 0.05776597925188734, 'num_layers': 5}. Best is trial 2 with value: 3.0010241207241846.\n"
     ]
    },
    {
     "name": "stdout",
     "output_type": "stream",
     "text": [
      "Using device: cuda\n"
     ]
    },
    {
     "name": "stderr",
     "output_type": "stream",
     "text": [
      "[I 2025-09-29 15:42:24,297] Trial 7 finished with value: 3.2961582985817515 and parameters: {'learning_rate': 0.00018128114913263933, 'batch_size': 30, 'seq_length': 6, 'dim_feedforward': 235, 'dropout': 0.07671381178278877, 'num_layers': 2}. Best is trial 2 with value: 3.0010241207241846.\n"
     ]
    },
    {
     "name": "stdout",
     "output_type": "stream",
     "text": [
      "Using device: cuda\n"
     ]
    },
    {
     "name": "stderr",
     "output_type": "stream",
     "text": [
      "[I 2025-09-29 15:42:32,471] Trial 8 finished with value: 3.4111685004837757 and parameters: {'learning_rate': 0.001391828804385173, 'batch_size': 51, 'seq_length': 5, 'dim_feedforward': 295, 'dropout': 0.08877820627109545, 'num_layers': 4}. Best is trial 2 with value: 3.0010241207241846.\n"
     ]
    },
    {
     "name": "stdout",
     "output_type": "stream",
     "text": [
      "Using device: cuda\n"
     ]
    },
    {
     "name": "stderr",
     "output_type": "stream",
     "text": [
      "[I 2025-09-29 15:42:53,115] Trial 9 finished with value: 3.3942134592147606 and parameters: {'learning_rate': 0.0004067493759741905, 'batch_size': 34, 'seq_length': 21, 'dim_feedforward': 427, 'dropout': 0.026807333065729345, 'num_layers': 5}. Best is trial 2 with value: 3.0010241207241846.\n"
     ]
    },
    {
     "name": "stdout",
     "output_type": "stream",
     "text": [
      "Using device: cuda\n"
     ]
    },
    {
     "name": "stderr",
     "output_type": "stream",
     "text": [
      "[I 2025-09-29 15:43:36,079] Trial 10 finished with value: 3.126725179584623 and parameters: {'learning_rate': 0.007905978285680668, 'batch_size': 8, 'seq_length': 9, 'dim_feedforward': 512, 'dropout': 0.0026464262396251118, 'num_layers': 1}. Best is trial 2 with value: 3.0010241207241846.\n"
     ]
    },
    {
     "name": "stdout",
     "output_type": "stream",
     "text": [
      "Using device: cuda\n"
     ]
    },
    {
     "name": "stderr",
     "output_type": "stream",
     "text": [
      "[I 2025-09-29 15:44:07,184] Trial 11 finished with value: 3.273344564915057 and parameters: {'learning_rate': 0.009863495564459876, 'batch_size': 10, 'seq_length': 9, 'dim_feedforward': 507, 'dropout': 0.0005313608502770968, 'num_layers': 1}. Best is trial 2 with value: 3.0010241207241846.\n"
     ]
    },
    {
     "name": "stdout",
     "output_type": "stream",
     "text": [
      "Using device: cuda\n"
     ]
    },
    {
     "name": "stderr",
     "output_type": "stream",
     "text": [
      "[I 2025-09-29 15:44:14,970] Trial 12 finished with value: 3.320261273194415 and parameters: {'learning_rate': 0.004642933932378061, 'batch_size': 21, 'seq_length': 10, 'dim_feedforward': 502, 'dropout': 0.02516420496024714, 'num_layers': 1}. Best is trial 2 with value: 3.0010241207241846.\n"
     ]
    },
    {
     "name": "stdout",
     "output_type": "stream",
     "text": [
      "Using device: cuda\n"
     ]
    },
    {
     "name": "stderr",
     "output_type": "stream",
     "text": [
      "[I 2025-09-29 15:44:42,131] Trial 13 finished with value: 3.1140008555771477 and parameters: {'learning_rate': 0.0044827987079312254, 'batch_size': 9, 'seq_length': 9, 'dim_feedforward': 367, 'dropout': 0.031994582568382224, 'num_layers': 1}. Best is trial 2 with value: 3.0010241207241846.\n"
     ]
    },
    {
     "name": "stdout",
     "output_type": "stream",
     "text": [
      "Using device: cuda\n"
     ]
    },
    {
     "name": "stderr",
     "output_type": "stream",
     "text": [
      "[I 2025-09-29 15:44:57,443] Trial 14 finished with value: 3.3225169292022287 and parameters: {'learning_rate': 0.0034336294468423805, 'batch_size': 21, 'seq_length': 15, 'dim_feedforward': 355, 'dropout': 0.02882538465301981, 'num_layers': 2}. Best is trial 2 with value: 3.0010241207241846.\n"
     ]
    },
    {
     "name": "stdout",
     "output_type": "stream",
     "text": [
      "Using device: cuda\n"
     ]
    },
    {
     "name": "stderr",
     "output_type": "stream",
     "text": [
      "[I 2025-09-29 15:45:18,738] Trial 15 finished with value: 3.218274017638666 and parameters: {'learning_rate': 0.004821173608091746, 'batch_size': 16, 'seq_length': 11, 'dim_feedforward': 338, 'dropout': 0.03603226452149999, 'num_layers': 2}. Best is trial 2 with value: 3.0010241207241846.\n"
     ]
    },
    {
     "name": "stdout",
     "output_type": "stream",
     "text": [
      "Using device: cuda\n"
     ]
    },
    {
     "name": "stderr",
     "output_type": "stream",
     "text": [
      "[I 2025-09-29 15:45:25,175] Trial 16 finished with value: 3.1077623658715168 and parameters: {'learning_rate': 0.005108084946811526, 'batch_size': 29, 'seq_length': 7, 'dim_feedforward': 416, 'dropout': 0.01776410884713855, 'num_layers': 1}. Best is trial 2 with value: 3.0010241207241846.\n"
     ]
    },
    {
     "name": "stdout",
     "output_type": "stream",
     "text": [
      "Using device: cuda\n"
     ]
    },
    {
     "name": "stderr",
     "output_type": "stream",
     "text": [
      "[I 2025-09-29 15:45:32,390] Trial 17 finished with value: 3.46125428129976 and parameters: {'learning_rate': 0.0019579527377547993, 'batch_size': 28, 'seq_length': 3, 'dim_feedforward': 438, 'dropout': 0.01347187015221402, 'num_layers': 2}. Best is trial 2 with value: 3.0010241207241846.\n"
     ]
    },
    {
     "name": "stdout",
     "output_type": "stream",
     "text": [
      "Using device: cuda\n"
     ]
    },
    {
     "name": "stderr",
     "output_type": "stream",
     "text": [
      "[I 2025-09-29 15:45:37,207] Trial 18 finished with value: 3.331650532392396 and parameters: {'learning_rate': 0.0007423606258110054, 'batch_size': 27, 'seq_length': 7, 'dim_feedforward': 401, 'dropout': 0.01670201076710633, 'num_layers': 1}. Best is trial 2 with value: 3.0010241207241846.\n"
     ]
    },
    {
     "name": "stdout",
     "output_type": "stream",
     "text": [
      "Using device: cuda\n"
     ]
    },
    {
     "name": "stderr",
     "output_type": "stream",
     "text": [
      "[I 2025-09-29 15:45:42,692] Trial 19 finished with value: 3.1661332713801027 and parameters: {'learning_rate': 0.00010233071240177725, 'batch_size': 49, 'seq_length': 12, 'dim_feedforward': 473, 'dropout': 0.05566187890463358, 'num_layers': 2}. Best is trial 2 with value: 3.0010241207241846.\n"
     ]
    },
    {
     "name": "stdout",
     "output_type": "stream",
     "text": [
      "Using device: cuda\n"
     ]
    },
    {
     "name": "stderr",
     "output_type": "stream",
     "text": [
      "[I 2025-09-29 15:45:48,536] Trial 20 finished with value: 3.198554250865741 and parameters: {'learning_rate': 0.006193009454441735, 'batch_size': 34, 'seq_length': 3, 'dim_feedforward': 412, 'dropout': 0.04200360202519187, 'num_layers': 1}. Best is trial 2 with value: 3.0010241207241846.\n"
     ]
    },
    {
     "name": "stdout",
     "output_type": "stream",
     "text": [
      "Using device: cuda\n"
     ]
    },
    {
     "name": "stderr",
     "output_type": "stream",
     "text": [
      "[I 2025-09-29 15:45:58,412] Trial 21 finished with value: 3.4064224172303974 and parameters: {'learning_rate': 0.0032219299792630805, 'batch_size': 15, 'seq_length': 7, 'dim_feedforward': 372, 'dropout': 0.02119041301649504, 'num_layers': 1}. Best is trial 2 with value: 3.0010241207241846.\n"
     ]
    },
    {
     "name": "stdout",
     "output_type": "stream",
     "text": [
      "Using device: cuda\n"
     ]
    },
    {
     "name": "stderr",
     "output_type": "stream",
     "text": [
      "[I 2025-09-29 15:46:37,256] Trial 22 finished with value: 3.252608183086312 and parameters: {'learning_rate': 0.004943032068737613, 'batch_size': 8, 'seq_length': 8, 'dim_feedforward': 320, 'dropout': 0.03516093487632313, 'num_layers': 1}. Best is trial 2 with value: 3.0010241207241846.\n"
     ]
    },
    {
     "name": "stdout",
     "output_type": "stream",
     "text": [
      "Using device: cuda\n"
     ]
    },
    {
     "name": "stderr",
     "output_type": "stream",
     "text": [
      "[I 2025-09-29 15:46:49,369] Trial 23 finished with value: 3.3204197436308314 and parameters: {'learning_rate': 0.003312603351005178, 'batch_size': 18, 'seq_length': 11, 'dim_feedforward': 470, 'dropout': 0.034751854671728886, 'num_layers': 2}. Best is trial 2 with value: 3.0010241207241846.\n"
     ]
    },
    {
     "name": "stdout",
     "output_type": "stream",
     "text": [
      "Using device: cuda\n"
     ]
    },
    {
     "name": "stderr",
     "output_type": "stream",
     "text": [
      "[I 2025-09-29 15:47:03,314] Trial 24 finished with value: 3.206630704103624 and parameters: {'learning_rate': 0.006506672550037614, 'batch_size': 25, 'seq_length': 15, 'dim_feedforward': 374, 'dropout': 0.009453156645302994, 'num_layers': 1}. Best is trial 2 with value: 3.0010241207241846.\n"
     ]
    },
    {
     "name": "stdout",
     "output_type": "stream",
     "text": [
      "Using device: cuda\n"
     ]
    },
    {
     "name": "stderr",
     "output_type": "stream",
     "text": [
      "[I 2025-09-29 15:47:20,602] Trial 25 finished with value: 3.404450165675206 and parameters: {'learning_rate': 0.0023707726365779732, 'batch_size': 12, 'seq_length': 5, 'dim_feedforward': 130, 'dropout': 0.04660656392277736, 'num_layers': 2}. Best is trial 2 with value: 3.0010241207241846.\n"
     ]
    },
    {
     "name": "stdout",
     "output_type": "stream",
     "text": [
      "Using device: cuda\n"
     ]
    },
    {
     "name": "stderr",
     "output_type": "stream",
     "text": [
      "[I 2025-09-29 15:47:25,915] Trial 26 finished with value: 3.093746695158865 and parameters: {'learning_rate': 0.001458095406897964, 'batch_size': 23, 'seq_length': 10, 'dim_feedforward': 323, 'dropout': 0.020138105296764894, 'num_layers': 1}. Best is trial 2 with value: 3.0010241207241846.\n"
     ]
    },
    {
     "name": "stdout",
     "output_type": "stream",
     "text": [
      "Using device: cuda\n"
     ]
    },
    {
     "name": "stderr",
     "output_type": "stream",
     "text": [
      "[I 2025-09-29 15:47:34,120] Trial 27 finished with value: 3.396964734065084 and parameters: {'learning_rate': 0.0013825743913576814, 'batch_size': 31, 'seq_length': 12, 'dim_feedforward': 474, 'dropout': 0.02146827143696959, 'num_layers': 2}. Best is trial 2 with value: 3.0010241207241846.\n"
     ]
    },
    {
     "name": "stdout",
     "output_type": "stream",
     "text": [
      "Using device: cuda\n"
     ]
    },
    {
     "name": "stderr",
     "output_type": "stream",
     "text": [
      "[I 2025-09-29 15:47:45,689] Trial 28 finished with value: 3.4742523896024036 and parameters: {'learning_rate': 0.0008037734846651791, 'batch_size': 25, 'seq_length': 16, 'dim_feedforward': 308, 'dropout': 0.006401219255842749, 'num_layers': 4}. Best is trial 2 with value: 3.0010241207241846.\n"
     ]
    },
    {
     "name": "stdout",
     "output_type": "stream",
     "text": [
      "Using device: cuda\n"
     ]
    },
    {
     "name": "stderr",
     "output_type": "stream",
     "text": [
      "[I 2025-09-29 15:48:07,931] Trial 29 finished with value: 3.5448778716025795 and parameters: {'learning_rate': 0.0017835537226105343, 'batch_size': 20, 'seq_length': 13, 'dim_feedforward': 243, 'dropout': 0.016876305385052782, 'num_layers': 4}. Best is trial 2 with value: 3.0010241207241846.\n"
     ]
    },
    {
     "name": "stdout",
     "output_type": "stream",
     "text": [
      "Using device: cuda\n"
     ]
    },
    {
     "name": "stderr",
     "output_type": "stream",
     "text": [
      "[I 2025-09-29 15:48:16,531] Trial 30 finished with value: 3.2640994245446557 and parameters: {'learning_rate': 0.002730115994643764, 'batch_size': 23, 'seq_length': 10, 'dim_feedforward': 441, 'dropout': 0.055657889632201495, 'num_layers': 1}. Best is trial 2 with value: 3.0010241207241846.\n"
     ]
    },
    {
     "name": "stdout",
     "output_type": "stream",
     "text": [
      "Using device: cuda\n"
     ]
    },
    {
     "name": "stderr",
     "output_type": "stream",
     "text": [
      "[I 2025-09-29 15:48:34,200] Trial 31 finished with value: 3.203176306872228 and parameters: {'learning_rate': 0.004199305154459356, 'batch_size': 12, 'seq_length': 9, 'dim_feedforward': 329, 'dropout': 0.0304802505916211, 'num_layers': 1}. Best is trial 2 with value: 3.0010241207241846.\n"
     ]
    },
    {
     "name": "stdout",
     "output_type": "stream",
     "text": [
      "Using device: cuda\n"
     ]
    },
    {
     "name": "stderr",
     "output_type": "stream",
     "text": [
      "[I 2025-09-29 15:48:48,552] Trial 32 finished with value: 3.0638699780919065 and parameters: {'learning_rate': 0.007426606746371314, 'batch_size': 17, 'seq_length': 7, 'dim_feedforward': 342, 'dropout': 0.021028205976819193, 'num_layers': 1}. Best is trial 2 with value: 3.0010241207241846.\n"
     ]
    },
    {
     "name": "stdout",
     "output_type": "stream",
     "text": [
      "Using device: cuda\n"
     ]
    },
    {
     "name": "stderr",
     "output_type": "stream",
     "text": [
      "[I 2025-09-29 15:49:00,015] Trial 33 finished with value: 3.341486907200704 and parameters: {'learning_rate': 0.00649227126083594, 'batch_size': 18, 'seq_length': 5, 'dim_feedforward': 290, 'dropout': 0.018323892199611797, 'num_layers': 1}. Best is trial 2 with value: 3.0010241207241846.\n"
     ]
    },
    {
     "name": "stdout",
     "output_type": "stream",
     "text": [
      "Using device: cuda\n"
     ]
    },
    {
     "name": "stderr",
     "output_type": "stream",
     "text": [
      "[I 2025-09-29 15:49:08,685] Trial 34 finished with value: 3.443668791292299 and parameters: {'learning_rate': 0.007457195013319058, 'batch_size': 24, 'seq_length': 7, 'dim_feedforward': 340, 'dropout': 0.022415066984698022, 'num_layers': 1}. Best is trial 2 with value: 3.0010241207241846.\n"
     ]
    },
    {
     "name": "stdout",
     "output_type": "stream",
     "text": [
      "Using device: cuda\n"
     ]
    },
    {
     "name": "stderr",
     "output_type": "stream",
     "text": [
      "[I 2025-09-29 15:49:49,401] Trial 35 finished with value: 5.473182778762079 and parameters: {'learning_rate': 0.009240392352959457, 'batch_size': 16, 'seq_length': 11, 'dim_feedforward': 398, 'dropout': 0.03913153606650313, 'num_layers': 2}. Best is trial 2 with value: 3.0010241207241846.\n"
     ]
    },
    {
     "name": "stdout",
     "output_type": "stream",
     "text": [
      "Using device: cuda\n"
     ]
    },
    {
     "name": "stderr",
     "output_type": "stream",
     "text": [
      "[I 2025-09-29 15:49:56,774] Trial 36 finished with value: 3.448602189506273 and parameters: {'learning_rate': 0.00029142663743294455, 'batch_size': 39, 'seq_length': 14, 'dim_feedforward': 254, 'dropout': 0.012449927537273142, 'num_layers': 3}. Best is trial 2 with value: 3.0010241207241846.\n"
     ]
    },
    {
     "name": "stdout",
     "output_type": "stream",
     "text": [
      "Using device: cuda\n"
     ]
    },
    {
     "name": "stderr",
     "output_type": "stream",
     "text": [
      "[I 2025-09-29 15:50:06,808] Trial 37 finished with value: 3.444800240915604 and parameters: {'learning_rate': 0.001524274574737589, 'batch_size': 30, 'seq_length': 6, 'dim_feedforward': 273, 'dropout': 0.005502665660889333, 'num_layers': 3}. Best is trial 2 with value: 3.0010241207241846.\n"
     ]
    },
    {
     "name": "stdout",
     "output_type": "stream",
     "text": [
      "Using device: cuda\n"
     ]
    },
    {
     "name": "stderr",
     "output_type": "stream",
     "text": [
      "[I 2025-09-29 15:50:21,339] Trial 38 finished with value: 3.1431545663578433 and parameters: {'learning_rate': 0.0010368265784631023, 'batch_size': 13, 'seq_length': 8, 'dim_feedforward': 202, 'dropout': 0.04698009284063927, 'num_layers': 1}. Best is trial 2 with value: 3.0010241207241846.\n"
     ]
    },
    {
     "name": "stdout",
     "output_type": "stream",
     "text": [
      "Using device: cuda\n"
     ]
    },
    {
     "name": "stderr",
     "output_type": "stream",
     "text": [
      "[I 2025-09-29 15:50:27,148] Trial 39 finished with value: 3.326379853352636 and parameters: {'learning_rate': 0.005882483288086188, 'batch_size': 44, 'seq_length': 13, 'dim_feedforward': 422, 'dropout': 0.0619339231741148, 'num_layers': 2}. Best is trial 2 with value: 3.0010241207241846.\n"
     ]
    },
    {
     "name": "stdout",
     "output_type": "stream",
     "text": [
      "Using device: cuda\n"
     ]
    },
    {
     "name": "stderr",
     "output_type": "stream",
     "text": [
      "[I 2025-09-29 15:50:31,028] Trial 40 finished with value: 3.1783726131543144 and parameters: {'learning_rate': 0.002593544384423781, 'batch_size': 62, 'seq_length': 4, 'dim_feedforward': 385, 'dropout': 0.027383313159097006, 'num_layers': 1}. Best is trial 2 with value: 3.0010241207241846.\n"
     ]
    },
    {
     "name": "stdout",
     "output_type": "stream",
     "text": [
      "Using device: cuda\n"
     ]
    },
    {
     "name": "stderr",
     "output_type": "stream",
     "text": [
      "[I 2025-09-29 15:50:42,339] Trial 41 finished with value: 3.2424167619955444 and parameters: {'learning_rate': 0.0034838030910725104, 'batch_size': 18, 'seq_length': 8, 'dim_feedforward': 359, 'dropout': 0.03063836208921906, 'num_layers': 1}. Best is trial 2 with value: 3.0010241207241846.\n"
     ]
    },
    {
     "name": "stdout",
     "output_type": "stream",
     "text": [
      "Using device: cuda\n"
     ]
    },
    {
     "name": "stderr",
     "output_type": "stream",
     "text": [
      "[I 2025-09-29 15:51:11,242] Trial 42 finished with value: 3.3277891294232793 and parameters: {'learning_rate': 0.004035780384180086, 'batch_size': 10, 'seq_length': 10, 'dim_feedforward': 304, 'dropout': 0.015161295854103595, 'num_layers': 1}. Best is trial 2 with value: 3.0010241207241846.\n"
     ]
    },
    {
     "name": "stdout",
     "output_type": "stream",
     "text": [
      "Using device: cuda\n"
     ]
    },
    {
     "name": "stderr",
     "output_type": "stream",
     "text": [
      "[I 2025-09-29 15:51:31,019] Trial 43 finished with value: 3.215176770083742 and parameters: {'learning_rate': 0.00567096269478203, 'batch_size': 13, 'seq_length': 6, 'dim_feedforward': 360, 'dropout': 0.02447579447357406, 'num_layers': 1}. Best is trial 2 with value: 3.0010241207241846.\n"
     ]
    },
    {
     "name": "stdout",
     "output_type": "stream",
     "text": [
      "Using device: cuda\n"
     ]
    },
    {
     "name": "stderr",
     "output_type": "stream",
     "text": [
      "[I 2025-09-29 15:51:40,577] Trial 44 finished with value: 3.1744618734504586 and parameters: {'learning_rate': 0.007406383344544445, 'batch_size': 20, 'seq_length': 9, 'dim_feedforward': 347, 'dropout': 0.07896143784878681, 'num_layers': 1}. Best is trial 2 with value: 3.0010241207241846.\n"
     ]
    },
    {
     "name": "stdout",
     "output_type": "stream",
     "text": [
      "Using device: cuda\n"
     ]
    },
    {
     "name": "stderr",
     "output_type": "stream",
     "text": [
      "[I 2025-09-29 15:52:04,675] Trial 45 finished with value: 3.4764620991947868 and parameters: {'learning_rate': 0.0005868251249728112, 'batch_size': 8, 'seq_length': 10, 'dim_feedforward': 283, 'dropout': 0.032123865711023755, 'num_layers': 2}. Best is trial 2 with value: 3.0010241207241846.\n"
     ]
    },
    {
     "name": "stdout",
     "output_type": "stream",
     "text": [
      "Using device: cuda\n"
     ]
    },
    {
     "name": "stderr",
     "output_type": "stream",
     "text": [
      "[I 2025-09-29 15:52:26,862] Trial 46 finished with value: 8.005834662712404 and parameters: {'learning_rate': 0.009542403401772492, 'batch_size': 22, 'seq_length': 8, 'dim_feedforward': 491, 'dropout': 0.04018908395499296, 'num_layers': 5}. Best is trial 2 with value: 3.0010241207241846.\n"
     ]
    },
    {
     "name": "stdout",
     "output_type": "stream",
     "text": [
      "Using device: cuda\n"
     ]
    },
    {
     "name": "stderr",
     "output_type": "stream",
     "text": [
      "[I 2025-09-29 15:52:34,015] Trial 47 finished with value: 3.1714781199785587 and parameters: {'learning_rate': 0.0022514893201282227, 'batch_size': 27, 'seq_length': 12, 'dim_feedforward': 320, 'dropout': 0.009627899961212476, 'num_layers': 1}. Best is trial 2 with value: 3.0010241207241846.\n"
     ]
    },
    {
     "name": "stdout",
     "output_type": "stream",
     "text": [
      "Using device: cuda\n"
     ]
    },
    {
     "name": "stderr",
     "output_type": "stream",
     "text": [
      "[I 2025-09-29 15:52:52,463] Trial 48 finished with value: 3.237818666327392 and parameters: {'learning_rate': 0.0050869137048406, 'batch_size': 16, 'seq_length': 6, 'dim_feedforward': 450, 'dropout': 0.02026200555171722, 'num_layers': 1}. Best is trial 2 with value: 3.0010241207241846.\n"
     ]
    },
    {
     "name": "stdout",
     "output_type": "stream",
     "text": [
      "Using device: cuda\n"
     ]
    },
    {
     "name": "stderr",
     "output_type": "stream",
     "text": [
      "[I 2025-09-29 15:53:39,547] Trial 49 finished with value: 3.080003805566931 and parameters: {'learning_rate': 0.003991458352791616, 'batch_size': 10, 'seq_length': 14, 'dim_feedforward': 408, 'dropout': 0.09743142612781927, 'num_layers': 2}. Best is trial 2 with value: 3.0010241207241846.\n"
     ]
    },
    {
     "name": "stdout",
     "output_type": "stream",
     "text": [
      "Using device: cuda\n"
     ]
    },
    {
     "name": "stderr",
     "output_type": "stream",
     "text": [
      "[I 2025-09-29 15:53:49,648] Trial 50 finished with value: 3.3384715436438195 and parameters: {'learning_rate': 0.003813419139350961, 'batch_size': 34, 'seq_length': 14, 'dim_feedforward': 416, 'dropout': 0.09795642908625961, 'num_layers': 2}. Best is trial 2 with value: 3.0010241207241846.\n"
     ]
    },
    {
     "name": "stdout",
     "output_type": "stream",
     "text": [
      "Using device: cuda\n"
     ]
    },
    {
     "name": "stderr",
     "output_type": "stream",
     "text": [
      "[I 2025-09-29 15:54:06,650] Trial 51 finished with value: 3.027713644305698 and parameters: {'learning_rate': 0.0030641179983092962, 'batch_size': 10, 'seq_length': 18, 'dim_feedforward': 385, 'dropout': 0.08925951892837275, 'num_layers': 1}. Best is trial 2 with value: 3.0010241207241846.\n"
     ]
    },
    {
     "name": "stdout",
     "output_type": "stream",
     "text": [
      "Using device: cuda\n"
     ]
    },
    {
     "name": "stderr",
     "output_type": "stream",
     "text": [
      "[I 2025-09-29 15:54:20,576] Trial 52 finished with value: 3.0191939330196633 and parameters: {'learning_rate': 0.002883809511195709, 'batch_size': 11, 'seq_length': 19, 'dim_feedforward': 388, 'dropout': 0.08375021623439088, 'num_layers': 1}. Best is trial 2 with value: 3.0010241207241846.\n"
     ]
    },
    {
     "name": "stdout",
     "output_type": "stream",
     "text": [
      "Using device: cuda\n"
     ]
    },
    {
     "name": "stderr",
     "output_type": "stream",
     "text": [
      "[I 2025-09-29 15:54:36,364] Trial 53 finished with value: 3.1656837795545947 and parameters: {'learning_rate': 0.0028769812584641665, 'batch_size': 12, 'seq_length': 19, 'dim_feedforward': 385, 'dropout': 0.09039813996690177, 'num_layers': 2}. Best is trial 2 with value: 3.0010241207241846.\n"
     ]
    },
    {
     "name": "stdout",
     "output_type": "stream",
     "text": [
      "Using device: cuda\n"
     ]
    },
    {
     "name": "stderr",
     "output_type": "stream",
     "text": [
      "[I 2025-09-29 15:55:02,484] Trial 54 finished with value: 3.190783477921153 and parameters: {'learning_rate': 0.0015637595867224194, 'batch_size': 10, 'seq_length': 21, 'dim_feedforward': 392, 'dropout': 0.08200343814838718, 'num_layers': 1}. Best is trial 2 with value: 3.0010241207241846.\n"
     ]
    },
    {
     "name": "stdout",
     "output_type": "stream",
     "text": [
      "Using device: cuda\n"
     ]
    },
    {
     "name": "stderr",
     "output_type": "stream",
     "text": [
      "[I 2025-09-29 15:55:12,208] Trial 55 finished with value: 3.47153300495691 and parameters: {'learning_rate': 0.0011914207013689216, 'batch_size': 14, 'seq_length': 18, 'dim_feedforward': 405, 'dropout': 0.0696583164610117, 'num_layers': 1}. Best is trial 2 with value: 3.0010241207241846.\n"
     ]
    },
    {
     "name": "stdout",
     "output_type": "stream",
     "text": [
      "Using device: cuda\n"
     ]
    },
    {
     "name": "stderr",
     "output_type": "stream",
     "text": [
      "[I 2025-09-29 15:55:43,737] Trial 56 finished with value: 3.424244448897152 and parameters: {'learning_rate': 0.0019455702878287415, 'batch_size': 11, 'seq_length': 20, 'dim_feedforward': 373, 'dropout': 0.08565390449821203, 'num_layers': 3}. Best is trial 2 with value: 3.0010241207241846.\n"
     ]
    },
    {
     "name": "stdout",
     "output_type": "stream",
     "text": [
      "Using device: cuda\n"
     ]
    },
    {
     "name": "stderr",
     "output_type": "stream",
     "text": [
      "[I 2025-09-29 15:55:53,738] Trial 57 finished with value: 3.147070205067327 and parameters: {'learning_rate': 0.003194858579949033, 'batch_size': 15, 'seq_length': 17, 'dim_feedforward': 346, 'dropout': 0.09459985061530457, 'num_layers': 1}. Best is trial 2 with value: 3.0010241207241846.\n"
     ]
    },
    {
     "name": "stdout",
     "output_type": "stream",
     "text": [
      "Using device: cuda\n"
     ]
    },
    {
     "name": "stderr",
     "output_type": "stream",
     "text": [
      "[I 2025-09-29 15:56:15,587] Trial 58 finished with value: 3.208837204919108 and parameters: {'learning_rate': 0.0022396165552229143, 'batch_size': 17, 'seq_length': 20, 'dim_feedforward': 432, 'dropout': 0.09242031089439338, 'num_layers': 2}. Best is trial 2 with value: 3.0010241207241846.\n"
     ]
    },
    {
     "name": "stdout",
     "output_type": "stream",
     "text": [
      "Using device: cuda\n"
     ]
    },
    {
     "name": "stderr",
     "output_type": "stream",
     "text": [
      "[I 2025-09-29 15:56:30,766] Trial 59 finished with value: 3.027884243010086 and parameters: {'learning_rate': 0.003907847122453435, 'batch_size': 10, 'seq_length': 18, 'dim_feedforward': 329, 'dropout': 0.0987787696584525, 'num_layers': 1}. Best is trial 2 with value: 3.0010241207241846.\n"
     ]
    },
    {
     "name": "stdout",
     "output_type": "stream",
     "text": [
      "Using device: cuda\n"
     ]
    },
    {
     "name": "stderr",
     "output_type": "stream",
     "text": [
      "[I 2025-09-29 15:57:39,090] Trial 60 finished with value: 3.1655621088075256 and parameters: {'learning_rate': 0.004213004693378151, 'batch_size': 8, 'seq_length': 17, 'dim_feedforward': 459, 'dropout': 0.09746895371106154, 'num_layers': 2}. Best is trial 2 with value: 3.0010241207241846.\n"
     ]
    },
    {
     "name": "stdout",
     "output_type": "stream",
     "text": [
      "Using device: cuda\n"
     ]
    },
    {
     "name": "stderr",
     "output_type": "stream",
     "text": [
      "[I 2025-09-29 15:57:53,787] Trial 61 finished with value: 3.3426347911853007 and parameters: {'learning_rate': 0.0027435990285805574, 'batch_size': 14, 'seq_length': 18, 'dim_feedforward': 330, 'dropout': 0.08712501433293018, 'num_layers': 1}. Best is trial 2 with value: 3.0010241207241846.\n"
     ]
    },
    {
     "name": "stdout",
     "output_type": "stream",
     "text": [
      "Using device: cuda\n"
     ]
    },
    {
     "name": "stderr",
     "output_type": "stream",
     "text": [
      "[I 2025-09-29 15:58:19,734] Trial 62 finished with value: 3.129177232983605 and parameters: {'learning_rate': 0.005419962408726463, 'batch_size': 10, 'seq_length': 16, 'dim_feedforward': 309, 'dropout': 0.0991593710318723, 'num_layers': 1}. Best is trial 2 with value: 3.0010241207241846.\n"
     ]
    },
    {
     "name": "stdout",
     "output_type": "stream",
     "text": [
      "Using device: cuda\n"
     ]
    },
    {
     "name": "stderr",
     "output_type": "stream",
     "text": [
      "[I 2025-09-29 15:58:27,383] Trial 63 finished with value: 3.078595776806461 and parameters: {'learning_rate': 0.008006836956814192, 'batch_size': 57, 'seq_length': 19, 'dim_feedforward': 381, 'dropout': 0.08418600942221928, 'num_layers': 1}. Best is trial 2 with value: 3.0010241207241846.\n"
     ]
    },
    {
     "name": "stdout",
     "output_type": "stream",
     "text": [
      "Using device: cuda\n"
     ]
    },
    {
     "name": "stderr",
     "output_type": "stream",
     "text": [
      "[I 2025-09-29 15:58:35,477] Trial 64 finished with value: 3.2090229347070793 and parameters: {'learning_rate': 0.00746199776955677, 'batch_size': 54, 'seq_length': 20, 'dim_feedforward': 377, 'dropout': 0.07425231336451535, 'num_layers': 1}. Best is trial 2 with value: 3.0010241207241846.\n"
     ]
    },
    {
     "name": "stdout",
     "output_type": "stream",
     "text": [
      "Using device: cuda\n"
     ]
    },
    {
     "name": "stderr",
     "output_type": "stream",
     "text": [
      "[I 2025-09-29 15:59:10,633] Trial 65 finished with value: 3.228118209016246 and parameters: {'learning_rate': 0.008417261238821952, 'batch_size': 11, 'seq_length': 19, 'dim_feedforward': 353, 'dropout': 0.09463836610079629, 'num_layers': 1}. Best is trial 2 with value: 3.0010241207241846.\n"
     ]
    },
    {
     "name": "stdout",
     "output_type": "stream",
     "text": [
      "Using device: cuda\n"
     ]
    },
    {
     "name": "stderr",
     "output_type": "stream",
     "text": [
      "[I 2025-09-29 15:59:17,631] Trial 66 finished with value: 3.2166130162809283 and parameters: {'learning_rate': 0.004440652461050668, 'batch_size': 50, 'seq_length': 16, 'dim_feedforward': 496, 'dropout': 0.08054801807469848, 'num_layers': 1}. Best is trial 2 with value: 3.0010241207241846.\n"
     ]
    },
    {
     "name": "stdout",
     "output_type": "stream",
     "text": [
      "Using device: cuda\n"
     ]
    },
    {
     "name": "stderr",
     "output_type": "stream",
     "text": [
      "[I 2025-09-29 15:59:25,798] Trial 67 finished with value: 3.151791876632452 and parameters: {'learning_rate': 0.0069696360232830625, 'batch_size': 44, 'seq_length': 19, 'dim_feedforward': 363, 'dropout': 0.08402513248662749, 'num_layers': 1}. Best is trial 2 with value: 3.0010241207241846.\n"
     ]
    },
    {
     "name": "stdout",
     "output_type": "stream",
     "text": [
      "Using device: cuda\n"
     ]
    },
    {
     "name": "stderr",
     "output_type": "stream",
     "text": [
      "[I 2025-09-29 15:59:34,327] Trial 68 finished with value: 3.18853637685079 and parameters: {'learning_rate': 0.008575030998736636, 'batch_size': 47, 'seq_length': 15, 'dim_feedforward': 406, 'dropout': 0.08998648397819625, 'num_layers': 1}. Best is trial 2 with value: 3.0010241207241846.\n"
     ]
    },
    {
     "name": "stdout",
     "output_type": "stream",
     "text": [
      "Using device: cuda\n"
     ]
    },
    {
     "name": "stderr",
     "output_type": "stream",
     "text": [
      "[I 2025-09-29 15:59:47,025] Trial 69 finished with value: 3.3578355041994445 and parameters: {'learning_rate': 0.003625617901462527, 'batch_size': 38, 'seq_length': 18, 'dim_feedforward': 392, 'dropout': 0.07445256667665512, 'num_layers': 2}. Best is trial 2 with value: 3.0010241207241846.\n"
     ]
    },
    {
     "name": "stdout",
     "output_type": "stream",
     "text": [
      "Using device: cuda\n"
     ]
    },
    {
     "name": "stderr",
     "output_type": "stream",
     "text": [
      "[I 2025-09-29 15:59:54,330] Trial 70 finished with value: 3.117105069383528 and parameters: {'learning_rate': 0.0062224730046301305, 'batch_size': 58, 'seq_length': 18, 'dim_feedforward': 335, 'dropout': 0.09266534940594018, 'num_layers': 1}. Best is trial 2 with value: 3.0010241207241846.\n"
     ]
    },
    {
     "name": "stdout",
     "output_type": "stream",
     "text": [
      "Using device: cuda\n"
     ]
    },
    {
     "name": "stderr",
     "output_type": "stream",
     "text": [
      "[I 2025-09-29 16:00:26,322] Trial 71 finished with value: 3.238628412181874 and parameters: {'learning_rate': 0.002927941661090758, 'batch_size': 9, 'seq_length': 13, 'dim_feedforward': 322, 'dropout': 0.09978395101236441, 'num_layers': 1}. Best is trial 2 with value: 3.0010241207241846.\n"
     ]
    },
    {
     "name": "stdout",
     "output_type": "stream",
     "text": [
      "Using device: cuda\n"
     ]
    },
    {
     "name": "stderr",
     "output_type": "stream",
     "text": [
      "[I 2025-09-29 16:00:41,502] Trial 72 finished with value: 3.1072087212723867 and parameters: {'learning_rate': 0.004905180931548434, 'batch_size': 19, 'seq_length': 20, 'dim_feedforward': 383, 'dropout': 0.08662535389916323, 'num_layers': 1}. Best is trial 2 with value: 3.0010241207241846.\n"
     ]
    },
    {
     "name": "stdout",
     "output_type": "stream",
     "text": [
      "Using device: cuda\n"
     ]
    },
    {
     "name": "stderr",
     "output_type": "stream",
     "text": [
      "[I 2025-09-29 16:01:02,947] Trial 73 finished with value: 3.1783355768374344 and parameters: {'learning_rate': 0.0008591614058768834, 'batch_size': 13, 'seq_length': 21, 'dim_feedforward': 300, 'dropout': 0.05022745853176959, 'num_layers': 1}. Best is trial 2 with value: 3.0010241207241846.\n"
     ]
    },
    {
     "name": "stdout",
     "output_type": "stream",
     "text": [
      "Using device: cuda\n"
     ]
    },
    {
     "name": "stderr",
     "output_type": "stream",
     "text": [
      "[I 2025-09-29 16:01:13,703] Trial 74 finished with value: 3.1117984638332827 and parameters: {'learning_rate': 0.0017436076264683703, 'batch_size': 16, 'seq_length': 14, 'dim_feedforward': 367, 'dropout': 0.08920340070609777, 'num_layers': 1}. Best is trial 2 with value: 3.0010241207241846.\n"
     ]
    },
    {
     "name": "stdout",
     "output_type": "stream",
     "text": [
      "Using device: cuda\n"
     ]
    },
    {
     "name": "stderr",
     "output_type": "stream",
     "text": [
      "[I 2025-09-29 16:01:29,759] Trial 75 finished with value: 3.0576510585557397 and parameters: {'learning_rate': 0.00307035850056566, 'batch_size': 11, 'seq_length': 17, 'dim_feedforward': 343, 'dropout': 0.09600168093336912, 'num_layers': 1}. Best is trial 2 with value: 3.0010241207241846.\n"
     ]
    },
    {
     "name": "stdout",
     "output_type": "stream",
     "text": [
      "Using device: cuda\n"
     ]
    },
    {
     "name": "stderr",
     "output_type": "stream",
     "text": [
      "[I 2025-09-29 16:01:50,058] Trial 76 finished with value: 3.089226816556511 and parameters: {'learning_rate': 0.003701709959665077, 'batch_size': 11, 'seq_length': 17, 'dim_feedforward': 354, 'dropout': 0.09526738463280646, 'num_layers': 1}. Best is trial 2 with value: 3.0010241207241846.\n"
     ]
    },
    {
     "name": "stdout",
     "output_type": "stream",
     "text": [
      "Using device: cuda\n"
     ]
    },
    {
     "name": "stderr",
     "output_type": "stream",
     "text": [
      "[I 2025-09-29 16:02:24,114] Trial 77 finished with value: 8.018224626824233 and parameters: {'learning_rate': 0.003143857277418071, 'batch_size': 8, 'seq_length': 15, 'dim_feedforward': 430, 'dropout': 0.08276650523039658, 'num_layers': 4}. Best is trial 2 with value: 3.0010241207241846.\n"
     ]
    },
    {
     "name": "stdout",
     "output_type": "stream",
     "text": [
      "Using device: cuda\n"
     ]
    },
    {
     "name": "stderr",
     "output_type": "stream",
     "text": [
      "[I 2025-09-29 16:02:37,685] Trial 78 finished with value: 3.12906417896627 and parameters: {'learning_rate': 0.002415530796632337, 'batch_size': 14, 'seq_length': 16, 'dim_feedforward': 341, 'dropout': 0.09254765627934944, 'num_layers': 1}. Best is trial 2 with value: 3.0010241207241846.\n"
     ]
    },
    {
     "name": "stdout",
     "output_type": "stream",
     "text": [
      "Using device: cuda\n"
     ]
    },
    {
     "name": "stderr",
     "output_type": "stream",
     "text": [
      "[I 2025-09-29 16:02:46,217] Trial 79 finished with value: 3.2790313384579077 and parameters: {'learning_rate': 0.00585612805953686, 'batch_size': 55, 'seq_length': 19, 'dim_feedforward': 395, 'dropout': 0.07740242133626876, 'num_layers': 2}. Best is trial 2 with value: 3.0010241207241846.\n"
     ]
    },
    {
     "name": "stdout",
     "output_type": "stream",
     "text": [
      "Using device: cuda\n"
     ]
    },
    {
     "name": "stderr",
     "output_type": "stream",
     "text": [
      "[I 2025-09-29 16:03:05,927] Trial 80 finished with value: 3.0881509639665325 and parameters: {'learning_rate': 0.004730041594619153, 'batch_size': 12, 'seq_length': 17, 'dim_feedforward': 483, 'dropout': 0.0966381293071829, 'num_layers': 1}. Best is trial 2 with value: 3.0010241207241846.\n"
     ]
    },
    {
     "name": "stdout",
     "output_type": "stream",
     "text": [
      "Using device: cuda\n"
     ]
    },
    {
     "name": "stderr",
     "output_type": "stream",
     "text": [
      "[I 2025-09-29 16:03:28,989] Trial 81 finished with value: 3.1814578613618547 and parameters: {'learning_rate': 0.004540676227398018, 'batch_size': 12, 'seq_length': 17, 'dim_feedforward': 484, 'dropout': 0.09755628397566078, 'num_layers': 1}. Best is trial 2 with value: 3.0010241207241846.\n"
     ]
    },
    {
     "name": "stdout",
     "output_type": "stream",
     "text": [
      "Using device: cuda\n"
     ]
    },
    {
     "name": "stderr",
     "output_type": "stream",
     "text": [
      "[I 2025-09-29 16:03:57,730] Trial 82 finished with value: 3.0003390376632764 and parameters: {'learning_rate': 0.006699510228516179, 'batch_size': 10, 'seq_length': 18, 'dim_feedforward': 511, 'dropout': 0.0960344805347917, 'num_layers': 1}. Best is trial 82 with value: 3.0003390376632764.\n"
     ]
    },
    {
     "name": "stdout",
     "output_type": "stream",
     "text": [
      "Using device: cuda\n"
     ]
    },
    {
     "name": "stderr",
     "output_type": "stream",
     "text": [
      "[I 2025-09-29 16:04:25,206] Trial 83 finished with value: 3.0846584340784204 and parameters: {'learning_rate': 0.008132854691168872, 'batch_size': 9, 'seq_length': 18, 'dim_feedforward': 510, 'dropout': 0.09071177408178088, 'num_layers': 1}. Best is trial 82 with value: 3.0003390376632764.\n"
     ]
    },
    {
     "name": "stdout",
     "output_type": "stream",
     "text": [
      "Using device: cuda\n"
     ]
    },
    {
     "name": "stderr",
     "output_type": "stream",
     "text": [
      "[I 2025-09-29 16:04:42,932] Trial 84 finished with value: 7.724452155555957 and parameters: {'learning_rate': 0.00693041336253394, 'batch_size': 15, 'seq_length': 20, 'dim_feedforward': 447, 'dropout': 0.08815080856491898, 'num_layers': 3}. Best is trial 82 with value: 3.0003390376632764.\n"
     ]
    },
    {
     "name": "stdout",
     "output_type": "stream",
     "text": [
      "Using device: cuda\n"
     ]
    },
    {
     "name": "stderr",
     "output_type": "stream",
     "text": [
      "[I 2025-09-29 16:05:15,534] Trial 85 finished with value: 3.2201779146643896 and parameters: {'learning_rate': 0.009809178555539179, 'batch_size': 9, 'seq_length': 18, 'dim_feedforward': 501, 'dropout': 0.08452387171708399, 'num_layers': 1}. Best is trial 82 with value: 3.0003390376632764.\n"
     ]
    },
    {
     "name": "stdout",
     "output_type": "stream",
     "text": [
      "Using device: cuda\n"
     ]
    },
    {
     "name": "stderr",
     "output_type": "stream",
     "text": [
      "[I 2025-09-29 16:05:38,632] Trial 86 finished with value: 3.1471174685267287 and parameters: {'learning_rate': 0.005290492071673292, 'batch_size': 10, 'seq_length': 19, 'dim_feedforward': 468, 'dropout': 0.0925582194952702, 'num_layers': 1}. Best is trial 82 with value: 3.0003390376632764.\n"
     ]
    },
    {
     "name": "stdout",
     "output_type": "stream",
     "text": [
      "Using device: cuda\n"
     ]
    },
    {
     "name": "stderr",
     "output_type": "stream",
     "text": [
      "[I 2025-09-29 16:05:55,318] Trial 87 finished with value: 3.2834773617953927 and parameters: {'learning_rate': 0.00010845208494672818, 'batch_size': 14, 'seq_length': 13, 'dim_feedforward': 417, 'dropout': 0.06195737640762782, 'num_layers': 1}. Best is trial 82 with value: 3.0003390376632764.\n"
     ]
    },
    {
     "name": "stdout",
     "output_type": "stream",
     "text": [
      "Using device: cuda\n"
     ]
    },
    {
     "name": "stderr",
     "output_type": "stream",
     "text": [
      "[I 2025-09-29 16:06:08,699] Trial 88 finished with value: 3.2315536145981114 and parameters: {'learning_rate': 0.0039907346837110905, 'batch_size': 17, 'seq_length': 15, 'dim_feedforward': 461, 'dropout': 0.09441151644160037, 'num_layers': 1}. Best is trial 82 with value: 3.0003390376632764.\n"
     ]
    },
    {
     "name": "stdout",
     "output_type": "stream",
     "text": [
      "Using device: cuda\n"
     ]
    },
    {
     "name": "stderr",
     "output_type": "stream",
     "text": [
      "[I 2025-09-29 16:06:29,548] Trial 89 finished with value: 3.1916032564064856 and parameters: {'learning_rate': 0.006403846565733592, 'batch_size': 11, 'seq_length': 11, 'dim_feedforward': 288, 'dropout': 0.0999229911139692, 'num_layers': 1}. Best is trial 82 with value: 3.0003390376632764.\n"
     ]
    },
    {
     "name": "stdout",
     "output_type": "stream",
     "text": [
      "Using device: cuda\n"
     ]
    },
    {
     "name": "stderr",
     "output_type": "stream",
     "text": [
      "[I 2025-09-29 16:06:35,460] Trial 90 finished with value: 3.278788936311397 and parameters: {'learning_rate': 0.0003515772233149812, 'batch_size': 63, 'seq_length': 18, 'dim_feedforward': 313, 'dropout': 0.09635640313610729, 'num_layers': 2}. Best is trial 82 with value: 3.0003390376632764.\n"
     ]
    },
    {
     "name": "stdout",
     "output_type": "stream",
     "text": [
      "Using device: cuda\n"
     ]
    },
    {
     "name": "stderr",
     "output_type": "stream",
     "text": [
      "[I 2025-09-29 16:07:06,898] Trial 91 finished with value: 3.1299953942627474 and parameters: {'learning_rate': 0.008385565965198962, 'batch_size': 9, 'seq_length': 18, 'dim_feedforward': 503, 'dropout': 0.09058600123811095, 'num_layers': 1}. Best is trial 82 with value: 3.0003390376632764.\n"
     ]
    },
    {
     "name": "stdout",
     "output_type": "stream",
     "text": [
      "Using device: cuda\n"
     ]
    },
    {
     "name": "stderr",
     "output_type": "stream",
     "text": [
      "[I 2025-09-29 16:07:42,355] Trial 92 finished with value: 3.154234362861329 and parameters: {'learning_rate': 0.00804268991209152, 'batch_size': 8, 'seq_length': 17, 'dim_feedforward': 511, 'dropout': 0.08759169476072899, 'num_layers': 1}. Best is trial 82 with value: 3.0003390376632764.\n"
     ]
    },
    {
     "name": "stdout",
     "output_type": "stream",
     "text": [
      "Using device: cuda\n"
     ]
    },
    {
     "name": "stderr",
     "output_type": "stream",
     "text": [
      "[I 2025-09-29 16:08:10,040] Trial 93 finished with value: 3.0580449978395214 and parameters: {'learning_rate': 0.005669072059468287, 'batch_size': 13, 'seq_length': 19, 'dim_feedforward': 487, 'dropout': 0.09091300937740711, 'num_layers': 1}. Best is trial 82 with value: 3.0003390376632764.\n"
     ]
    },
    {
     "name": "stdout",
     "output_type": "stream",
     "text": [
      "Using device: cuda\n"
     ]
    },
    {
     "name": "stderr",
     "output_type": "stream",
     "text": [
      "[I 2025-09-29 16:08:29,062] Trial 94 finished with value: 3.1413447255260114 and parameters: {'learning_rate': 0.005403094138679943, 'batch_size': 13, 'seq_length': 19, 'dim_feedforward': 477, 'dropout': 0.07972242823829315, 'num_layers': 1}. Best is trial 82 with value: 3.0003390376632764.\n"
     ]
    },
    {
     "name": "stdout",
     "output_type": "stream",
     "text": [
      "Using device: cuda\n"
     ]
    },
    {
     "name": "stderr",
     "output_type": "stream",
     "text": [
      "[I 2025-09-29 16:09:01,779] Trial 95 finished with value: 2.9708868155075416 and parameters: {'learning_rate': 0.003490834806057147, 'batch_size': 11, 'seq_length': 19, 'dim_feedforward': 376, 'dropout': 0.09152546239599968, 'num_layers': 1}. Best is trial 95 with value: 2.9708868155075416.\n"
     ]
    },
    {
     "name": "stdout",
     "output_type": "stream",
     "text": [
      "Using device: cuda\n"
     ]
    },
    {
     "name": "stderr",
     "output_type": "stream",
     "text": [
      "[I 2025-09-29 16:09:22,166] Trial 96 finished with value: 3.1144341736575676 and parameters: {'learning_rate': 0.0032459401787999485, 'batch_size': 15, 'seq_length': 19, 'dim_feedforward': 488, 'dropout': 0.08530299041093943, 'num_layers': 1}. Best is trial 95 with value: 2.9708868155075416.\n"
     ]
    },
    {
     "name": "stdout",
     "output_type": "stream",
     "text": [
      "Using device: cuda\n"
     ]
    },
    {
     "name": "stderr",
     "output_type": "stream",
     "text": [
      "[I 2025-09-29 16:09:27,716] Trial 97 finished with value: 3.34006447753536 and parameters: {'learning_rate': 0.0020590024743729935, 'batch_size': 41, 'seq_length': 20, 'dim_feedforward': 213, 'dropout': 0.09252935498223824, 'num_layers': 1}. Best is trial 95 with value: 2.9708868155075416.\n"
     ]
    },
    {
     "name": "stdout",
     "output_type": "stream",
     "text": [
      "Using device: cuda\n"
     ]
    },
    {
     "name": "stderr",
     "output_type": "stream",
     "text": [
      "[I 2025-09-29 16:09:39,698] Trial 98 finished with value: 3.122596641443862 and parameters: {'learning_rate': 0.002574426849326108, 'batch_size': 17, 'seq_length': 21, 'dim_feedforward': 380, 'dropout': 0.06885002609781869, 'num_layers': 1}. Best is trial 95 with value: 2.9708868155075416.\n"
     ]
    },
    {
     "name": "stdout",
     "output_type": "stream",
     "text": [
      "Using device: cuda\n"
     ]
    },
    {
     "name": "stderr",
     "output_type": "stream",
     "text": [
      "[I 2025-09-29 16:09:59,019] Trial 99 finished with value: 3.203033582594926 and parameters: {'learning_rate': 0.005869940549712211, 'batch_size': 11, 'seq_length': 19, 'dim_feedforward': 347, 'dropout': 0.024134619125663077, 'num_layers': 1}. Best is trial 95 with value: 2.9708868155075416.\n"
     ]
    },
    {
     "data": {
      "text/plain": [
       "{'learning_rate': 0.003490834806057147,\n",
       " 'batch_size': 11,\n",
       " 'seq_length': 19,\n",
       " 'dim_feedforward': 376,\n",
       " 'dropout': 0.09152546239599968,\n",
       " 'num_layers': 1}"
      ]
     },
     "execution_count": 2,
     "metadata": {},
     "output_type": "execute_result"
    }
   ],
   "source": [
    "study = optuna.create_study(storage=\"sqlite:///db.sqlite3\", study_name=\"2016_2019+all_features\", load_if_exists=True)\n",
    "study.optimize(objective, n_trials=100, n_jobs=1)\n",
    "\n",
    "study.best_params"
   ]
  },
  {
   "cell_type": "code",
   "execution_count": 5,
   "id": "b045b34d",
   "metadata": {},
   "outputs": [
    {
     "name": "stderr",
     "output_type": "stream",
     "text": [
      "[I 2025-09-29 22:21:33,082] A new study created in RDB with name: 2016_2019+all_features+80:20+4runs\n"
     ]
    },
    {
     "name": "stdout",
     "output_type": "stream",
     "text": [
      "Using device: cuda\n",
      "Using device: cuda\n",
      "Using device: cuda\n",
      "Using device: cuda\n",
      "Using device: cuda\n",
      "Using device: cuda\n",
      "Using device: cuda\n",
      "Using device: cuda\n",
      "Using device: cuda\n",
      "Using device: cuda\n",
      "Using device: cuda\n",
      "Using device: cuda\n",
      "Using device: cuda\n",
      "Using device: cuda\n",
      "Using device: cuda\n",
      "Using device: cuda\n",
      "Using device: cuda\n",
      "Using device: cuda\n",
      "Using device: cuda\n",
      "Using device: cuda\n"
     ]
    },
    {
     "name": "stderr",
     "output_type": "stream",
     "text": [
      "[I 2025-09-29 22:26:36,129] Trial 0 finished with value: 2.7196023646650884 and parameters: {'learning_rate': 0.006889350197222347, 'batch_size': 25, 'seq_length': 16, 'dim_feedforward': 502, 'dropout': 0.014758552445583406, 'num_layers': 2}. Best is trial 0 with value: 2.7196023646650884.\n"
     ]
    },
    {
     "name": "stdout",
     "output_type": "stream",
     "text": [
      "Using device: cuda\n",
      "Using device: cuda\n",
      "Using device: cuda\n",
      "Using device: cuda\n",
      "Using device: cuda\n",
      "Using device: cuda\n",
      "Using device: cuda\n",
      "Using device: cuda\n",
      "Using device: cuda\n",
      "Using device: cuda\n",
      "Using device: cuda\n",
      "Using device: cuda\n",
      "Using device: cuda\n",
      "Using device: cuda\n"
     ]
    },
    {
     "name": "stderr",
     "output_type": "stream",
     "text": [
      "[I 2025-09-29 22:29:36,531] Trial 2 finished with value: 2.8148344294383354 and parameters: {'learning_rate': 0.0006038322467543339, 'batch_size': 9, 'seq_length': 17, 'dim_feedforward': 395, 'dropout': 0.03717878097805828, 'num_layers': 2}. Best is trial 0 with value: 2.7196023646650884.\n"
     ]
    },
    {
     "name": "stdout",
     "output_type": "stream",
     "text": [
      "Using device: cuda\n",
      "Using device: cuda\n"
     ]
    },
    {
     "name": "stderr",
     "output_type": "stream",
     "text": [
      "[I 2025-09-29 22:30:25,111] Trial 10 finished with value: 2.792522300540358 and parameters: {'learning_rate': 0.00013427082533922632, 'batch_size': 24, 'seq_length': 7, 'dim_feedforward': 266, 'dropout': 0.022424371556974243, 'num_layers': 3}. Best is trial 0 with value: 2.7196023646650884.\n"
     ]
    },
    {
     "name": "stdout",
     "output_type": "stream",
     "text": [
      "Using device: cuda\n",
      "Using device: cuda\n",
      "Using device: cuda\n"
     ]
    },
    {
     "name": "stderr",
     "output_type": "stream",
     "text": [
      "[I 2025-09-29 22:30:51,034] Trial 6 finished with value: 4.912618152429336 and parameters: {'learning_rate': 0.004347007934794934, 'batch_size': 34, 'seq_length': 18, 'dim_feedforward': 296, 'dropout': 0.044087474484909496, 'num_layers': 5}. Best is trial 0 with value: 2.7196023646650884.\n"
     ]
    },
    {
     "name": "stdout",
     "output_type": "stream",
     "text": [
      "Using device: cuda\n",
      "Using device: cuda\n",
      "Using device: cuda\n",
      "Using device: cuda\n",
      "Using device: cuda\n",
      "Using device: cuda\n",
      "Using device: cuda\n"
     ]
    },
    {
     "name": "stderr",
     "output_type": "stream",
     "text": [
      "[I 2025-09-29 22:32:13,047] Trial 9 finished with value: 7.087805047519385 and parameters: {'learning_rate': 0.00624128932181987, 'batch_size': 50, 'seq_length': 11, 'dim_feedforward': 433, 'dropout': 0.09558597060223833, 'num_layers': 5}. Best is trial 0 with value: 2.7196023646650884.\n"
     ]
    },
    {
     "name": "stdout",
     "output_type": "stream",
     "text": [
      "Using device: cuda\n",
      "Using device: cuda\n",
      "Using device: cuda\n"
     ]
    },
    {
     "name": "stderr",
     "output_type": "stream",
     "text": [
      "[I 2025-09-29 22:32:54,105] Trial 11 finished with value: 2.6432362756027676 and parameters: {'learning_rate': 0.001166906551495673, 'batch_size': 26, 'seq_length': 4, 'dim_feedforward': 209, 'dropout': 0.05891210541854609, 'num_layers': 1}. Best is trial 11 with value: 2.6432362756027676.\n"
     ]
    },
    {
     "name": "stdout",
     "output_type": "stream",
     "text": [
      "Using device: cuda\n",
      "Using device: cuda\n",
      "Using device: cuda\n"
     ]
    },
    {
     "name": "stderr",
     "output_type": "stream",
     "text": [
      "[I 2025-09-29 22:33:33,424] Trial 4 finished with value: 2.840268527916469 and parameters: {'learning_rate': 0.0009790414082557863, 'batch_size': 52, 'seq_length': 12, 'dim_feedforward': 253, 'dropout': 0.018148544090550733, 'num_layers': 5}. Best is trial 11 with value: 2.6432362756027676.\n"
     ]
    },
    {
     "name": "stdout",
     "output_type": "stream",
     "text": [
      "Using device: cuda\n"
     ]
    },
    {
     "name": "stderr",
     "output_type": "stream",
     "text": [
      "[I 2025-09-29 22:33:51,243] Trial 7 finished with value: 2.672340143244913 and parameters: {'learning_rate': 0.0031102213864134015, 'batch_size': 47, 'seq_length': 5, 'dim_feedforward': 373, 'dropout': 0.081118256285594, 'num_layers': 1}. Best is trial 11 with value: 2.6432362756027676.\n"
     ]
    },
    {
     "name": "stdout",
     "output_type": "stream",
     "text": [
      "Using device: cuda\n"
     ]
    },
    {
     "name": "stderr",
     "output_type": "stream",
     "text": [
      "[I 2025-09-29 22:34:08,665] Trial 12 finished with value: 2.9477662974633434 and parameters: {'learning_rate': 0.004330111332022696, 'batch_size': 41, 'seq_length': 19, 'dim_feedforward': 271, 'dropout': 0.0008077933529450632, 'num_layers': 4}. Best is trial 11 with value: 2.6432362756027676.\n"
     ]
    },
    {
     "name": "stdout",
     "output_type": "stream",
     "text": [
      "Using device: cuda\n",
      "Using device: cuda\n",
      "Using device: cuda\n",
      "Using device: cuda\n",
      "Using device: cuda\n",
      "Using device: cuda\n",
      "Using device: cuda\n",
      "Using device: cuda\n",
      "Using device: cuda\n"
     ]
    },
    {
     "name": "stderr",
     "output_type": "stream",
     "text": [
      "[I 2025-09-29 22:35:24,953] Trial 18 finished with value: 2.8593481695282246 and parameters: {'learning_rate': 0.0001995232644759348, 'batch_size': 49, 'seq_length': 21, 'dim_feedforward': 153, 'dropout': 0.07434727620596546, 'num_layers': 1}. Best is trial 11 with value: 2.6432362756027676.\n"
     ]
    },
    {
     "name": "stdout",
     "output_type": "stream",
     "text": [
      "Using device: cuda\n",
      "Using device: cuda\n",
      "Using device: cuda\n",
      "Using device: cuda\n"
     ]
    },
    {
     "name": "stderr",
     "output_type": "stream",
     "text": [
      "[I 2025-09-29 22:36:54,296] Trial 15 finished with value: 2.840108145074334 and parameters: {'learning_rate': 0.00017667511160759822, 'batch_size': 14, 'seq_length': 7, 'dim_feedforward': 202, 'dropout': 0.03338636541067557, 'num_layers': 2}. Best is trial 11 with value: 2.6432362756027676.\n"
     ]
    },
    {
     "name": "stdout",
     "output_type": "stream",
     "text": [
      "Using device: cuda\n",
      "Using device: cuda\n",
      "Using device: cuda\n"
     ]
    },
    {
     "name": "stderr",
     "output_type": "stream",
     "text": [
      "[I 2025-09-29 22:37:07,106] Trial 3 finished with value: 2.5777469976966 and parameters: {'learning_rate': 0.0028844719673065196, 'batch_size': 41, 'seq_length': 10, 'dim_feedforward': 238, 'dropout': 0.07009410111823772, 'num_layers': 1}. Best is trial 3 with value: 2.5777469976966.\n"
     ]
    },
    {
     "name": "stdout",
     "output_type": "stream",
     "text": [
      "Using device: cuda\n",
      "Using device: cuda\n",
      "Using device: cuda\n",
      "Using device: cuda\n",
      "Using device: cuda\n"
     ]
    },
    {
     "name": "stderr",
     "output_type": "stream",
     "text": [
      "[I 2025-09-29 22:37:45,858] Trial 20 finished with value: 2.6200890601251814 and parameters: {'learning_rate': 0.001990868586179084, 'batch_size': 64, 'seq_length': 3, 'dim_feedforward': 377, 'dropout': 0.06996444432711264, 'num_layers': 1}. Best is trial 3 with value: 2.5777469976966.\n"
     ]
    },
    {
     "name": "stdout",
     "output_type": "stream",
     "text": [
      "Using device: cuda\n",
      "Using device: cuda\n",
      "Using device: cuda\n",
      "Using device: cuda\n",
      "Using device: cuda\n",
      "Using device: cuda\n"
     ]
    },
    {
     "name": "stderr",
     "output_type": "stream",
     "text": [
      "[I 2025-09-29 22:38:57,196] Trial 8 finished with value: 2.8048475835402713 and parameters: {'learning_rate': 0.0001782313541702206, 'batch_size': 19, 'seq_length': 12, 'dim_feedforward': 468, 'dropout': 0.02513567585276585, 'num_layers': 4}. Best is trial 3 with value: 2.5777469976966.\n"
     ]
    },
    {
     "name": "stdout",
     "output_type": "stream",
     "text": [
      "Using device: cuda\n",
      "Using device: cuda\n"
     ]
    },
    {
     "name": "stderr",
     "output_type": "stream",
     "text": [
      "[I 2025-09-29 22:39:09,614] Trial 22 finished with value: 2.735607594144067 and parameters: {'learning_rate': 0.002152056215103207, 'batch_size': 64, 'seq_length': 9, 'dim_feedforward': 346, 'dropout': 0.06277778779096255, 'num_layers': 2}. Best is trial 3 with value: 2.5777469976966.\n"
     ]
    },
    {
     "name": "stdout",
     "output_type": "stream",
     "text": [
      "Using device: cuda\n",
      "Using device: cuda\n",
      "Using device: cuda\n",
      "Using device: cuda\n",
      "Using device: cuda\n",
      "Using device: cuda\n",
      "Using device: cuda\n",
      "Using device: cuda\n",
      "Using device: cuda\n",
      "Using device: cuda\n",
      "Using device: cuda\n"
     ]
    },
    {
     "name": "stderr",
     "output_type": "stream",
     "text": [
      "[I 2025-09-29 22:40:31,286] Trial 1 finished with value: 2.6895994168064554 and parameters: {'learning_rate': 0.0030934663679523327, 'batch_size': 38, 'seq_length': 17, 'dim_feedforward': 346, 'dropout': 0.07539006815248844, 'num_layers': 1}. Best is trial 3 with value: 2.5777469976966.\n"
     ]
    },
    {
     "name": "stdout",
     "output_type": "stream",
     "text": [
      "Using device: cuda\n"
     ]
    },
    {
     "name": "stderr",
     "output_type": "stream",
     "text": [
      "[I 2025-09-29 22:40:37,731] Trial 13 finished with value: 2.6951165401771107 and parameters: {'learning_rate': 0.003158017860186118, 'batch_size': 25, 'seq_length': 13, 'dim_feedforward': 509, 'dropout': 0.024687576029130312, 'num_layers': 4}. Best is trial 3 with value: 2.5777469976966.\n"
     ]
    },
    {
     "name": "stdout",
     "output_type": "stream",
     "text": [
      "Using device: cuda\n",
      "Using device: cuda\n"
     ]
    },
    {
     "name": "stderr",
     "output_type": "stream",
     "text": [
      "[I 2025-09-29 22:40:44,933] Trial 24 finished with value: 2.5780787635404465 and parameters: {'learning_rate': 0.0020396063516305058, 'batch_size': 63, 'seq_length': 3, 'dim_feedforward': 328, 'dropout': 0.09957071857431103, 'num_layers': 1}. Best is trial 3 with value: 2.5777469976966.\n"
     ]
    },
    {
     "name": "stdout",
     "output_type": "stream",
     "text": [
      "Using device: cuda\n",
      "Using device: cuda\n",
      "Using device: cuda\n"
     ]
    },
    {
     "name": "stderr",
     "output_type": "stream",
     "text": [
      "[I 2025-09-29 22:41:14,602] Trial 23 finished with value: 2.6499863416113434 and parameters: {'learning_rate': 0.001996538197859218, 'batch_size': 59, 'seq_length': 9, 'dim_feedforward': 346, 'dropout': 0.062361065781557895, 'num_layers': 1}. Best is trial 3 with value: 2.5777469976966.\n"
     ]
    },
    {
     "name": "stdout",
     "output_type": "stream",
     "text": [
      "Using device: cuda\n"
     ]
    },
    {
     "name": "stderr",
     "output_type": "stream",
     "text": [
      "[I 2025-09-29 22:41:34,237] Trial 19 finished with value: 2.6665985638966476 and parameters: {'learning_rate': 0.0004554529751398293, 'batch_size': 8, 'seq_length': 3, 'dim_feedforward': 157, 'dropout': 0.06286393622955794, 'num_layers': 2}. Best is trial 3 with value: 2.5777469976966.\n"
     ]
    },
    {
     "name": "stdout",
     "output_type": "stream",
     "text": [
      "Using device: cuda\n"
     ]
    },
    {
     "name": "stderr",
     "output_type": "stream",
     "text": [
      "[I 2025-09-29 22:41:36,509] Trial 14 finished with value: 2.7951136807289707 and parameters: {'learning_rate': 0.0020247267050826946, 'batch_size': 43, 'seq_length': 9, 'dim_feedforward': 358, 'dropout': 0.020058379010770302, 'num_layers': 1}. Best is trial 3 with value: 2.5777469976966.\n"
     ]
    },
    {
     "name": "stdout",
     "output_type": "stream",
     "text": [
      "Using device: cuda\n",
      "Using device: cuda\n",
      "Using device: cuda\n",
      "Using device: cuda\n",
      "Using device: cuda\n",
      "Using device: cuda\n",
      "Using device: cuda\n",
      "Using device: cuda\n",
      "Using device: cuda\n"
     ]
    },
    {
     "name": "stderr",
     "output_type": "stream",
     "text": [
      "[I 2025-09-29 22:42:44,367] Trial 27 finished with value: 2.653081333642847 and parameters: {'learning_rate': 0.0005389312280673682, 'batch_size': 58, 'seq_length': 14, 'dim_feedforward': 138, 'dropout': 0.094664948053054, 'num_layers': 3}. Best is trial 3 with value: 2.5777469976966.\n"
     ]
    },
    {
     "name": "stdout",
     "output_type": "stream",
     "text": [
      "Using device: cuda\n",
      "Using device: cuda\n",
      "Using device: cuda\n"
     ]
    },
    {
     "name": "stderr",
     "output_type": "stream",
     "text": [
      "[I 2025-09-29 22:43:01,958] Trial 29 finished with value: 5.981766694985657 and parameters: {'learning_rate': 0.00934940294118818, 'batch_size': 56, 'seq_length': 14, 'dim_feedforward': 229, 'dropout': 0.09383830589767413, 'num_layers': 3}. Best is trial 3 with value: 2.5777469976966.\n"
     ]
    },
    {
     "name": "stdout",
     "output_type": "stream",
     "text": [
      "Using device: cuda\n",
      "Using device: cuda\n",
      "Using device: cuda\n",
      "Using device: cuda\n",
      "Using device: cuda\n",
      "Using device: cuda\n",
      "Using device: cuda\n",
      "Using device: cuda\n",
      "Using device: cuda\n",
      "Using device: cuda\n",
      "Using device: cuda\n"
     ]
    },
    {
     "name": "stderr",
     "output_type": "stream",
     "text": [
      "[I 2025-09-29 22:44:01,321] Trial 26 finished with value: 2.651154414956058 and parameters: {'learning_rate': 0.0014406143430565044, 'batch_size': 63, 'seq_length': 3, 'dim_feedforward': 143, 'dropout': 0.09219517720337408, 'num_layers': 3}. Best is trial 3 with value: 2.5777469976966.\n"
     ]
    },
    {
     "name": "stdout",
     "output_type": "stream",
     "text": [
      "Using device: cuda\n"
     ]
    },
    {
     "name": "stderr",
     "output_type": "stream",
     "text": [
      "[I 2025-09-29 22:44:04,978] Trial 32 finished with value: 2.6297153368048174 and parameters: {'learning_rate': 0.00111254330628851, 'batch_size': 63, 'seq_length': 6, 'dim_feedforward': 297, 'dropout': 0.08486179523173967, 'num_layers': 1}. Best is trial 3 with value: 2.5777469976966.\n"
     ]
    },
    {
     "name": "stdout",
     "output_type": "stream",
     "text": [
      "Using device: cuda\n",
      "Using device: cuda\n"
     ]
    },
    {
     "name": "stderr",
     "output_type": "stream",
     "text": [
      "[I 2025-09-29 22:44:24,015] Trial 5 finished with value: 2.6379739893255847 and parameters: {'learning_rate': 0.0004119487493428584, 'batch_size': 40, 'seq_length': 12, 'dim_feedforward': 270, 'dropout': 0.0893685306536493, 'num_layers': 1}. Best is trial 3 with value: 2.5777469976966.\n"
     ]
    },
    {
     "name": "stdout",
     "output_type": "stream",
     "text": [
      "Using device: cuda\n"
     ]
    },
    {
     "name": "stderr",
     "output_type": "stream",
     "text": [
      "[I 2025-09-29 22:44:32,631] Trial 16 finished with value: 2.7645288717767937 and parameters: {'learning_rate': 0.005772960759771816, 'batch_size': 51, 'seq_length': 4, 'dim_feedforward': 236, 'dropout': 0.03258978098535159, 'num_layers': 3}. Best is trial 3 with value: 2.5777469976966.\n"
     ]
    },
    {
     "name": "stdout",
     "output_type": "stream",
     "text": [
      "Using device: cuda\n",
      "Using device: cuda\n"
     ]
    },
    {
     "name": "stderr",
     "output_type": "stream",
     "text": [
      "[I 2025-09-29 22:44:36,816] Trial 31 finished with value: 2.7400792327372283 and parameters: {'learning_rate': 0.0012505736030256525, 'batch_size': 63, 'seq_length': 6, 'dim_feedforward': 306, 'dropout': 0.0845949347454405, 'num_layers': 3}. Best is trial 3 with value: 2.5777469976966.\n"
     ]
    },
    {
     "name": "stdout",
     "output_type": "stream",
     "text": [
      "Using device: cuda\n",
      "Using device: cuda\n",
      "Using device: cuda\n",
      "Using device: cuda\n",
      "Using device: cuda\n",
      "Using device: cuda\n",
      "Using device: cuda\n",
      "Using device: cuda\n",
      "Using device: cuda\n"
     ]
    },
    {
     "name": "stderr",
     "output_type": "stream",
     "text": [
      "[I 2025-09-29 22:45:28,792] Trial 21 finished with value: 2.5804377774789193 and parameters: {'learning_rate': 0.0019649390332039103, 'batch_size': 61, 'seq_length': 4, 'dim_feedforward': 141, 'dropout': 0.06308501583592417, 'num_layers': 1}. Best is trial 3 with value: 2.5777469976966.\n"
     ]
    },
    {
     "name": "stdout",
     "output_type": "stream",
     "text": [
      "Using device: cuda\n"
     ]
    },
    {
     "name": "stderr",
     "output_type": "stream",
     "text": [
      "[I 2025-09-29 22:45:34,493] Trial 34 finished with value: 2.719072496697629 and parameters: {'learning_rate': 0.0006955306786087401, 'batch_size': 32, 'seq_length': 5, 'dim_feedforward': 412, 'dropout': 0.052489949704074335, 'num_layers': 2}. Best is trial 3 with value: 2.5777469976966.\n"
     ]
    },
    {
     "name": "stdout",
     "output_type": "stream",
     "text": [
      "Using device: cuda\n",
      "Using device: cuda\n",
      "Using device: cuda\n"
     ]
    },
    {
     "name": "stderr",
     "output_type": "stream",
     "text": [
      "[I 2025-09-29 22:45:53,330] Trial 28 finished with value: 2.6491620210380336 and parameters: {'learning_rate': 0.0006175813441323151, 'batch_size': 57, 'seq_length': 15, 'dim_feedforward': 206, 'dropout': 0.09995189631013271, 'num_layers': 3}. Best is trial 3 with value: 2.5777469976966.\n"
     ]
    },
    {
     "name": "stdout",
     "output_type": "stream",
     "text": [
      "Using device: cuda\n",
      "Using device: cuda\n",
      "Using device: cuda\n",
      "Using device: cuda\n",
      "Using device: cuda\n",
      "Using device: cuda\n",
      "Using device: cuda\n"
     ]
    },
    {
     "name": "stderr",
     "output_type": "stream",
     "text": [
      "[I 2025-09-29 22:46:27,058] Trial 37 finished with value: 2.7280326680518057 and parameters: {'learning_rate': 0.0015716640221796947, 'batch_size': 32, 'seq_length': 8, 'dim_feedforward': 408, 'dropout': 0.07191122955769132, 'num_layers': 2}. Best is trial 3 with value: 2.5777469976966.\n"
     ]
    },
    {
     "name": "stdout",
     "output_type": "stream",
     "text": [
      "Using device: cuda\n"
     ]
    },
    {
     "name": "stderr",
     "output_type": "stream",
     "text": [
      "[I 2025-09-29 22:46:31,174] Trial 39 finished with value: 2.8113102594379873 and parameters: {'learning_rate': 0.0008285499949524502, 'batch_size': 54, 'seq_length': 8, 'dim_feedforward': 178, 'dropout': 0.05036162304825465, 'num_layers': 2}. Best is trial 3 with value: 2.5777469976966.\n"
     ]
    },
    {
     "name": "stdout",
     "output_type": "stream",
     "text": [
      "Using device: cuda\n"
     ]
    },
    {
     "name": "stderr",
     "output_type": "stream",
     "text": [
      "[I 2025-09-29 22:46:36,254] Trial 33 finished with value: 2.64927295397715 and parameters: {'learning_rate': 0.0007873173914372153, 'batch_size': 32, 'seq_length': 6, 'dim_feedforward': 311, 'dropout': 0.08365696176524966, 'num_layers': 1}. Best is trial 3 with value: 2.5777469976966.\n"
     ]
    },
    {
     "name": "stdout",
     "output_type": "stream",
     "text": [
      "Using device: cuda\n",
      "Using device: cuda\n",
      "Using device: cuda\n",
      "Using device: cuda\n",
      "Using device: cuda\n",
      "Using device: cuda\n",
      "Using device: cuda\n",
      "Using device: cuda\n",
      "Using device: cuda\n"
     ]
    },
    {
     "name": "stderr",
     "output_type": "stream",
     "text": [
      "[I 2025-09-29 22:47:03,366] Trial 41 finished with value: 2.6730663582236396 and parameters: {'learning_rate': 0.0025075009946457635, 'batch_size': 55, 'seq_length': 3, 'dim_feedforward': 183, 'dropout': 0.052739951848508465, 'num_layers': 1}. Best is trial 3 with value: 2.5777469976966.\n"
     ]
    },
    {
     "name": "stdout",
     "output_type": "stream",
     "text": [
      "Using device: cuda\n"
     ]
    },
    {
     "name": "stderr",
     "output_type": "stream",
     "text": [
      "[I 2025-09-29 22:47:06,046] Trial 42 finished with value: 2.576016665584721 and parameters: {'learning_rate': 0.002324509504066925, 'batch_size': 46, 'seq_length': 3, 'dim_feedforward': 327, 'dropout': 0.06945590198581707, 'num_layers': 1}. Best is trial 42 with value: 2.576016665584721.\n"
     ]
    },
    {
     "name": "stdout",
     "output_type": "stream",
     "text": [
      "Using device: cuda\n",
      "Using device: cuda\n",
      "Using device: cuda\n",
      "Using device: cuda\n",
      "Using device: cuda\n",
      "Using device: cuda\n",
      "Using device: cuda\n",
      "Using device: cuda\n",
      "Using device: cuda\n",
      "Using device: cuda\n"
     ]
    },
    {
     "name": "stderr",
     "output_type": "stream",
     "text": [
      "[I 2025-09-29 22:47:39,759] Trial 43 finished with value: 2.6148547548111405 and parameters: {'learning_rate': 0.00231464938541052, 'batch_size': 60, 'seq_length': 4, 'dim_feedforward': 330, 'dropout': 0.07036532723388238, 'num_layers': 1}. Best is trial 42 with value: 2.576016665584721.\n"
     ]
    },
    {
     "name": "stdout",
     "output_type": "stream",
     "text": [
      "Using device: cuda\n",
      "Using device: cuda\n"
     ]
    },
    {
     "name": "stderr",
     "output_type": "stream",
     "text": [
      "[I 2025-09-29 22:47:44,234] Trial 40 finished with value: 2.5879417247799603 and parameters: {'learning_rate': 0.0016984084352498936, 'batch_size': 54, 'seq_length': 3, 'dim_feedforward': 179, 'dropout': 0.07237317834798117, 'num_layers': 1}. Best is trial 42 with value: 2.576016665584721.\n"
     ]
    },
    {
     "name": "stdout",
     "output_type": "stream",
     "text": [
      "Using device: cuda\n",
      "Using device: cuda\n",
      "Using device: cuda\n"
     ]
    },
    {
     "name": "stderr",
     "output_type": "stream",
     "text": [
      "[I 2025-09-29 22:48:03,698] Trial 44 finished with value: 2.6831301052319696 and parameters: {'learning_rate': 0.004112373849360651, 'batch_size': 60, 'seq_length': 4, 'dim_feedforward': 379, 'dropout': 0.06991250869200633, 'num_layers': 1}. Best is trial 42 with value: 2.576016665584721.\n"
     ]
    },
    {
     "name": "stdout",
     "output_type": "stream",
     "text": [
      "Using device: cuda\n",
      "Using device: cuda\n"
     ]
    },
    {
     "name": "stderr",
     "output_type": "stream",
     "text": [
      "[I 2025-09-29 22:48:20,144] Trial 45 finished with value: 2.7128448190760435 and parameters: {'learning_rate': 0.0038227226256512988, 'batch_size': 44, 'seq_length': 5, 'dim_feedforward': 331, 'dropout': 0.06842293405214551, 'num_layers': 2}. Best is trial 42 with value: 2.576016665584721.\n"
     ]
    },
    {
     "name": "stdout",
     "output_type": "stream",
     "text": [
      "Using device: cuda\n",
      "Using device: cuda\n"
     ]
    },
    {
     "name": "stderr",
     "output_type": "stream",
     "text": [
      "[I 2025-09-29 22:48:26,865] Trial 30 finished with value: 2.7309763085613894 and parameters: {'learning_rate': 0.001202136051737844, 'batch_size': 59, 'seq_length': 6, 'dim_feedforward': 312, 'dropout': 0.099922698005699, 'num_layers': 3}. Best is trial 42 with value: 2.576016665584721.\n"
     ]
    },
    {
     "name": "stdout",
     "output_type": "stream",
     "text": [
      "Using device: cuda\n",
      "Using device: cuda\n",
      "Using device: cuda\n",
      "Using device: cuda\n",
      "Using device: cuda\n",
      "Using device: cuda\n",
      "Using device: cuda\n",
      "Using device: cuda\n",
      "Using device: cuda\n",
      "Using device: cuda\n",
      "Using device: cuda\n"
     ]
    },
    {
     "name": "stderr",
     "output_type": "stream",
     "text": [
      "[I 2025-09-29 22:49:29,468] Trial 46 finished with value: 2.7041816218082344 and parameters: {'learning_rate': 0.004122395998328168, 'batch_size': 46, 'seq_length': 5, 'dim_feedforward': 324, 'dropout': 0.0405940063235363, 'num_layers': 1}. Best is trial 42 with value: 2.576016665584721.\n"
     ]
    },
    {
     "name": "stdout",
     "output_type": "stream",
     "text": [
      "Using device: cuda\n"
     ]
    },
    {
     "name": "stderr",
     "output_type": "stream",
     "text": [
      "[I 2025-09-29 22:49:39,448] Trial 49 finished with value: 2.6908844828576806 and parameters: {'learning_rate': 0.0029460627503693107, 'batch_size': 37, 'seq_length': 11, 'dim_feedforward': 252, 'dropout': 0.04419803468147823, 'num_layers': 1}. Best is trial 42 with value: 2.576016665584721.\n"
     ]
    },
    {
     "name": "stdout",
     "output_type": "stream",
     "text": [
      "Using device: cuda\n"
     ]
    },
    {
     "name": "stderr",
     "output_type": "stream",
     "text": [
      "[I 2025-09-29 22:49:43,782] Trial 48 finished with value: 2.848129762204789 and parameters: {'learning_rate': 0.003005793433532307, 'batch_size': 47, 'seq_length': 11, 'dim_feedforward': 323, 'dropout': 0.0439519323726571, 'num_layers': 2}. Best is trial 42 with value: 2.576016665584721.\n"
     ]
    },
    {
     "name": "stdout",
     "output_type": "stream",
     "text": [
      "Using device: cuda\n",
      "Using device: cuda\n",
      "Using device: cuda\n",
      "Using device: cuda\n",
      "Using device: cuda\n",
      "Using device: cuda\n",
      "Using device: cuda\n",
      "Using device: cuda\n",
      "Using device: cuda\n",
      "Using device: cuda\n"
     ]
    },
    {
     "name": "stderr",
     "output_type": "stream",
     "text": [
      "[I 2025-09-29 22:50:10,201] Trial 17 finished with value: 2.9886489987960845 and parameters: {'learning_rate': 0.0027324006064676546, 'batch_size': 28, 'seq_length': 5, 'dim_feedforward': 482, 'dropout': 0.018784130317698534, 'num_layers': 2}. Best is trial 42 with value: 2.576016665584721.\n"
     ]
    },
    {
     "name": "stdout",
     "output_type": "stream",
     "text": [
      "Using device: cuda\n"
     ]
    },
    {
     "name": "stderr",
     "output_type": "stream",
     "text": [
      "[I 2025-09-29 22:50:17,008] Trial 52 finished with value: 2.62131549204116 and parameters: {'learning_rate': 0.0015737699162672008, 'batch_size': 53, 'seq_length': 3, 'dim_feedforward': 129, 'dropout': 0.07973350635696387, 'num_layers': 1}. Best is trial 42 with value: 2.576016665584721.\n"
     ]
    },
    {
     "name": "stdout",
     "output_type": "stream",
     "text": [
      "Using device: cuda\n"
     ]
    },
    {
     "name": "stderr",
     "output_type": "stream",
     "text": [
      "[I 2025-09-29 22:50:19,010] Trial 53 finished with value: 2.628310880006164 and parameters: {'learning_rate': 0.0016015489987285182, 'batch_size': 53, 'seq_length': 3, 'dim_feedforward': 173, 'dropout': 0.059261871604086955, 'num_layers': 1}. Best is trial 42 with value: 2.576016665584721.\n"
     ]
    },
    {
     "name": "stdout",
     "output_type": "stream",
     "text": [
      "Using device: cuda\n",
      "Using device: cuda\n",
      "Using device: cuda\n",
      "Using device: cuda\n",
      "Using device: cuda\n",
      "Using device: cuda\n",
      "Using device: cuda\n",
      "Using device: cuda\n"
     ]
    },
    {
     "name": "stderr",
     "output_type": "stream",
     "text": [
      "[I 2025-09-29 22:50:48,992] Trial 47 finished with value: 2.7257128787683795 and parameters: {'learning_rate': 0.004280207383012016, 'batch_size': 46, 'seq_length': 11, 'dim_feedforward': 280, 'dropout': 0.04295999566733084, 'num_layers': 2}. Best is trial 42 with value: 2.576016665584721.\n"
     ]
    },
    {
     "name": "stdout",
     "output_type": "stream",
     "text": [
      "Using device: cuda\n"
     ]
    },
    {
     "name": "stderr",
     "output_type": "stream",
     "text": [
      "[I 2025-09-29 22:50:52,640] Trial 55 finished with value: 2.646887459957504 and parameters: {'learning_rate': 0.0017353257872171864, 'batch_size': 42, 'seq_length': 4, 'dim_feedforward': 169, 'dropout': 0.07839791139079197, 'num_layers': 1}. Best is trial 42 with value: 2.576016665584721.\n"
     ]
    },
    {
     "name": "stdout",
     "output_type": "stream",
     "text": [
      "Using device: cuda\n",
      "Using device: cuda\n"
     ]
    },
    {
     "name": "stderr",
     "output_type": "stream",
     "text": [
      "[I 2025-09-29 22:51:06,295] Trial 56 finished with value: 2.5692276700614882 and parameters: {'learning_rate': 0.0059517128574747115, 'batch_size': 42, 'seq_length': 4, 'dim_feedforward': 283, 'dropout': 0.07870400190564725, 'num_layers': 1}. Best is trial 56 with value: 2.5692276700614882.\n"
     ]
    },
    {
     "name": "stdout",
     "output_type": "stream",
     "text": [
      "Using device: cuda\n",
      "Using device: cuda\n"
     ]
    },
    {
     "name": "stderr",
     "output_type": "stream",
     "text": [
      "[I 2025-09-29 22:51:09,197] Trial 51 finished with value: 2.5875791973357667 and parameters: {'learning_rate': 0.001610587975502386, 'batch_size': 37, 'seq_length': 3, 'dim_feedforward': 172, 'dropout': 0.07939873301804069, 'num_layers': 1}. Best is trial 56 with value: 2.5692276700614882.\n"
     ]
    },
    {
     "name": "stdout",
     "output_type": "stream",
     "text": [
      "Using device: cuda\n"
     ]
    },
    {
     "name": "stderr",
     "output_type": "stream",
     "text": [
      "[I 2025-09-29 22:51:15,095] Trial 36 finished with value: 2.6918132674772526 and parameters: {'learning_rate': 0.0007925476277965316, 'batch_size': 32, 'seq_length': 7, 'dim_feedforward': 401, 'dropout': 0.07174923758113493, 'num_layers': 2}. Best is trial 56 with value: 2.5692276700614882.\n"
     ]
    },
    {
     "name": "stdout",
     "output_type": "stream",
     "text": [
      "Using device: cuda\n",
      "Using device: cuda\n",
      "Using device: cuda\n",
      "Using device: cuda\n",
      "Using device: cuda\n",
      "Using device: cuda\n",
      "Using device: cuda\n",
      "Using device: cuda\n",
      "Using device: cuda\n"
     ]
    },
    {
     "name": "stderr",
     "output_type": "stream",
     "text": [
      "[I 2025-09-29 22:51:55,021] Trial 58 finished with value: 2.732666568786067 and parameters: {'learning_rate': 0.005666210837195988, 'batch_size': 49, 'seq_length': 16, 'dim_feedforward': 226, 'dropout': 0.05597666743438126, 'num_layers': 1}. Best is trial 56 with value: 2.5692276700614882.\n"
     ]
    },
    {
     "name": "stdout",
     "output_type": "stream",
     "text": [
      "Using device: cuda\n",
      "Using device: cuda\n",
      "Using device: cuda\n",
      "Using device: cuda\n"
     ]
    },
    {
     "name": "stderr",
     "output_type": "stream",
     "text": [
      "[I 2025-09-29 22:52:22,125] Trial 59 finished with value: 2.60859414861204 and parameters: {'learning_rate': 0.005296186517496327, 'batch_size': 39, 'seq_length': 7, 'dim_feedforward': 285, 'dropout': 0.08902047671402576, 'num_layers': 1}. Best is trial 56 with value: 2.5692276700614882.\n"
     ]
    },
    {
     "name": "stdout",
     "output_type": "stream",
     "text": [
      "Using device: cuda\n",
      "Using device: cuda\n",
      "Using device: cuda\n",
      "Using device: cuda\n",
      "Using device: cuda\n",
      "Using device: cuda\n",
      "Using device: cuda\n",
      "Using device: cuda\n",
      "Using device: cuda\n",
      "Using device: cuda\n",
      "Using device: cuda\n"
     ]
    },
    {
     "name": "stderr",
     "output_type": "stream",
     "text": [
      "[I 2025-09-29 22:53:01,141] Trial 62 finished with value: 2.5674798173455344 and parameters: {'learning_rate': 0.007422887689583403, 'batch_size': 40, 'seq_length': 4, 'dim_feedforward': 286, 'dropout': 0.08859578928270256, 'num_layers': 1}. Best is trial 62 with value: 2.5674798173455344.\n"
     ]
    },
    {
     "name": "stdout",
     "output_type": "stream",
     "text": [
      "Using device: cuda\n",
      "Using device: cuda\n",
      "Using device: cuda\n"
     ]
    },
    {
     "name": "stderr",
     "output_type": "stream",
     "text": [
      "[I 2025-09-29 22:53:18,778] Trial 57 finished with value: 2.721465895547308 and parameters: {'learning_rate': 0.0009831942016060703, 'batch_size': 41, 'seq_length': 17, 'dim_feedforward': 194, 'dropout': 0.07713857811551415, 'num_layers': 1}. Best is trial 62 with value: 2.5674798173455344.\n"
     ]
    },
    {
     "name": "stdout",
     "output_type": "stream",
     "text": [
      "Using device: cuda\n",
      "Using device: cuda\n"
     ]
    },
    {
     "name": "stderr",
     "output_type": "stream",
     "text": [
      "[I 2025-09-29 22:53:21,934] Trial 63 finished with value: 2.6520080410488407 and parameters: {'learning_rate': 0.0035079428500495104, 'batch_size': 36, 'seq_length': 4, 'dim_feedforward': 242, 'dropout': 0.07541152979153436, 'num_layers': 1}. Best is trial 62 with value: 2.5674798173455344.\n"
     ]
    },
    {
     "name": "stdout",
     "output_type": "stream",
     "text": [
      "Using device: cuda\n"
     ]
    },
    {
     "name": "stderr",
     "output_type": "stream",
     "text": [
      "[I 2025-09-29 22:53:29,023] Trial 60 finished with value: 2.574183215208831 and parameters: {'learning_rate': 0.00545608247568281, 'batch_size': 40, 'seq_length': 7, 'dim_feedforward': 287, 'dropout': 0.07772289808075006, 'num_layers': 1}. Best is trial 62 with value: 2.5674798173455344.\n"
     ]
    },
    {
     "name": "stdout",
     "output_type": "stream",
     "text": [
      "Using device: cuda\n",
      "Using device: cuda\n"
     ]
    },
    {
     "name": "stderr",
     "output_type": "stream",
     "text": [
      "[I 2025-09-29 22:53:39,934] Trial 64 finished with value: 2.595799062800029 and parameters: {'learning_rate': 0.006770091979917986, 'batch_size': 44, 'seq_length': 4, 'dim_feedforward': 243, 'dropout': 0.08884608576037625, 'num_layers': 1}. Best is trial 62 with value: 2.5674798173455344.\n"
     ]
    },
    {
     "name": "stdout",
     "output_type": "stream",
     "text": [
      "Using device: cuda\n",
      "Using device: cuda\n"
     ]
    },
    {
     "name": "stderr",
     "output_type": "stream",
     "text": [
      "[I 2025-09-29 22:53:47,439] Trial 50 finished with value: 2.6213252498437725 and parameters: {'learning_rate': 0.0016472233754635027, 'batch_size': 47, 'seq_length': 11, 'dim_feedforward': 176, 'dropout': 0.0779299917382259, 'num_layers': 1}. Best is trial 62 with value: 2.5674798173455344.\n"
     ]
    },
    {
     "name": "stdout",
     "output_type": "stream",
     "text": [
      "Using device: cuda\n",
      "Using device: cuda\n",
      "Using device: cuda\n",
      "Using device: cuda\n",
      "Using device: cuda\n",
      "Using device: cuda\n",
      "Using device: cuda\n",
      "Using device: cuda\n",
      "Using device: cuda\n",
      "Using device: cuda\n",
      "Using device: cuda\n",
      "Using device: cuda\n"
     ]
    },
    {
     "name": "stderr",
     "output_type": "stream",
     "text": [
      "[I 2025-09-29 22:55:49,114] Trial 66 finished with value: 7.373520001421726 and parameters: {'learning_rate': 0.007946485491011651, 'batch_size': 44, 'seq_length': 4, 'dim_feedforward': 261, 'dropout': 0.08835511803086449, 'num_layers': 5}. Best is trial 62 with value: 2.5674798173455344.\n"
     ]
    },
    {
     "name": "stdout",
     "output_type": "stream",
     "text": [
      "Using device: cuda\n",
      "Using device: cuda\n",
      "Using device: cuda\n",
      "Using device: cuda\n",
      "Using device: cuda\n"
     ]
    },
    {
     "name": "stderr",
     "output_type": "stream",
     "text": [
      "[I 2025-09-29 22:56:12,416] Trial 68 finished with value: 7.832360917593052 and parameters: {'learning_rate': 0.008733828608580152, 'batch_size': 35, 'seq_length': 10, 'dim_feedforward': 262, 'dropout': 0.08739191710085752, 'num_layers': 5}. Best is trial 62 with value: 2.5674798173455344.\n"
     ]
    },
    {
     "name": "stdout",
     "output_type": "stream",
     "text": [
      "Using device: cuda\n",
      "Using device: cuda\n",
      "Using device: cuda\n",
      "Using device: cuda\n",
      "Using device: cuda\n"
     ]
    },
    {
     "name": "stderr",
     "output_type": "stream",
     "text": [
      "[I 2025-09-29 22:56:51,910] Trial 67 finished with value: 7.250208714992709 and parameters: {'learning_rate': 0.009717580784587922, 'batch_size': 35, 'seq_length': 10, 'dim_feedforward': 265, 'dropout': 0.08886994283943594, 'num_layers': 4}. Best is trial 62 with value: 2.5674798173455344.\n"
     ]
    },
    {
     "name": "stdout",
     "output_type": "stream",
     "text": [
      "Using device: cuda\n",
      "Using device: cuda\n",
      "Using device: cuda\n"
     ]
    },
    {
     "name": "stderr",
     "output_type": "stream",
     "text": [
      "[I 2025-09-29 22:57:10,667] Trial 70 finished with value: 2.6252594764589237 and parameters: {'learning_rate': 0.0050353592181877765, 'batch_size': 39, 'seq_length': 5, 'dim_feedforward': 360, 'dropout': 0.06662709711448789, 'num_layers': 1}. Best is trial 62 with value: 2.5674798173455344.\n"
     ]
    },
    {
     "name": "stdout",
     "output_type": "stream",
     "text": [
      "Using device: cuda\n"
     ]
    },
    {
     "name": "stderr",
     "output_type": "stream",
     "text": [
      "[I 2025-09-29 22:57:12,056] Trial 61 finished with value: 2.6324520218411633 and parameters: {'learning_rate': 0.005365673416175614, 'batch_size': 39, 'seq_length': 4, 'dim_feedforward': 237, 'dropout': 0.0896906711247846, 'num_layers': 1}. Best is trial 62 with value: 2.5674798173455344.\n"
     ]
    },
    {
     "name": "stdout",
     "output_type": "stream",
     "text": [
      "Using device: cuda\n",
      "Using device: cuda\n",
      "Using device: cuda\n",
      "Using device: cuda\n",
      "Using device: cuda\n",
      "Using device: cuda\n",
      "Using device: cuda\n"
     ]
    },
    {
     "name": "stderr",
     "output_type": "stream",
     "text": [
      "[I 2025-09-29 22:57:45,844] Trial 65 finished with value: 2.6409660790016494 and parameters: {'learning_rate': 0.008469310245603023, 'batch_size': 35, 'seq_length': 4, 'dim_feedforward': 257, 'dropout': 0.06489808459724901, 'num_layers': 1}. Best is trial 62 with value: 2.5674798173455344.\n"
     ]
    },
    {
     "name": "stdout",
     "output_type": "stream",
     "text": [
      "Using device: cuda\n",
      "Using device: cuda\n",
      "Using device: cuda\n",
      "Using device: cuda\n",
      "Using device: cuda\n"
     ]
    },
    {
     "name": "stderr",
     "output_type": "stream",
     "text": [
      "[I 2025-09-29 22:58:20,387] Trial 73 finished with value: 2.642811891154702 and parameters: {'learning_rate': 0.007680450191671969, 'batch_size': 42, 'seq_length': 6, 'dim_feedforward': 286, 'dropout': 0.0826368132504983, 'num_layers': 1}. Best is trial 62 with value: 2.5674798173455344.\n"
     ]
    },
    {
     "name": "stdout",
     "output_type": "stream",
     "text": [
      "Using device: cuda\n"
     ]
    },
    {
     "name": "stderr",
     "output_type": "stream",
     "text": [
      "[I 2025-09-29 22:58:36,668] Trial 72 finished with value: 2.6720373530621364 and parameters: {'learning_rate': 0.007266238791455568, 'batch_size': 39, 'seq_length': 5, 'dim_feedforward': 289, 'dropout': 0.0654526440069686, 'num_layers': 1}. Best is trial 62 with value: 2.5674798173455344.\n"
     ]
    },
    {
     "name": "stdout",
     "output_type": "stream",
     "text": [
      "Using device: cuda\n"
     ]
    },
    {
     "name": "stderr",
     "output_type": "stream",
     "text": [
      "[I 2025-09-29 22:58:39,543] Trial 71 finished with value: 2.7716260977292646 and parameters: {'learning_rate': 0.005081279671310815, 'batch_size': 39, 'seq_length': 5, 'dim_feedforward': 290, 'dropout': 0.06552125387279986, 'num_layers': 4}. Best is trial 62 with value: 2.5674798173455344.\n"
     ]
    },
    {
     "name": "stdout",
     "output_type": "stream",
     "text": [
      "Using device: cuda\n",
      "Using device: cuda\n",
      "Using device: cuda\n",
      "Using device: cuda\n",
      "Using device: cuda\n",
      "Using device: cuda\n",
      "Using device: cuda\n",
      "Using device: cuda\n",
      "Using device: cuda\n"
     ]
    },
    {
     "name": "stderr",
     "output_type": "stream",
     "text": [
      "[I 2025-09-29 22:59:30,463] Trial 78 finished with value: 2.6811346408813703 and parameters: {'learning_rate': 0.0034065347533076165, 'batch_size': 51, 'seq_length': 8, 'dim_feedforward': 219, 'dropout': 0.0968666129986853, 'num_layers': 2}. Best is trial 62 with value: 2.5674798173455344.\n"
     ]
    },
    {
     "name": "stdout",
     "output_type": "stream",
     "text": [
      "Using device: cuda\n",
      "Using device: cuda\n",
      "Using device: cuda\n",
      "Using device: cuda\n",
      "Using device: cuda\n",
      "Using device: cuda\n",
      "Using device: cuda\n",
      "Using device: cuda\n"
     ]
    },
    {
     "name": "stderr",
     "output_type": "stream",
     "text": [
      "[I 2025-09-29 23:00:07,501] Trial 76 finished with value: 2.776153568416448 and parameters: {'learning_rate': 0.0025844998975170503, 'batch_size': 18, 'seq_length': 8, 'dim_feedforward': 293, 'dropout': 0.060683368870828404, 'num_layers': 1}. Best is trial 62 with value: 2.5674798173455344.\n"
     ]
    },
    {
     "name": "stdout",
     "output_type": "stream",
     "text": [
      "Using device: cuda\n",
      "Using device: cuda\n",
      "Using device: cuda\n",
      "Using device: cuda\n",
      "Using device: cuda\n"
     ]
    },
    {
     "name": "stderr",
     "output_type": "stream",
     "text": [
      "[I 2025-09-29 23:00:47,148] Trial 79 finished with value: 2.5454720927583168 and parameters: {'learning_rate': 0.0066779511652954255, 'batch_size': 28, 'seq_length': 7, 'dim_feedforward': 355, 'dropout': 0.07519874608589755, 'num_layers': 1}. Best is trial 79 with value: 2.5454720927583168.\n"
     ]
    },
    {
     "name": "stdout",
     "output_type": "stream",
     "text": [
      "Using device: cuda\n",
      "Using device: cuda\n",
      "Using device: cuda\n"
     ]
    },
    {
     "name": "stderr",
     "output_type": "stream",
     "text": [
      "[I 2025-09-29 23:01:05,316] Trial 80 finished with value: 2.584885252163526 and parameters: {'learning_rate': 0.001992432588740973, 'batch_size': 29, 'seq_length': 3, 'dim_feedforward': 304, 'dropout': 0.0750021290256768, 'num_layers': 1}. Best is trial 79 with value: 2.5454720927583168.\n"
     ]
    },
    {
     "name": "stdout",
     "output_type": "stream",
     "text": [
      "Using device: cuda\n"
     ]
    },
    {
     "name": "stderr",
     "output_type": "stream",
     "text": [
      "[I 2025-09-29 23:01:10,330] Trial 74 finished with value: 2.603712985304159 and parameters: {'learning_rate': 0.007223297702341401, 'batch_size': 50, 'seq_length': 8, 'dim_feedforward': 288, 'dropout': 0.08278459028140796, 'num_layers': 1}. Best is trial 79 with value: 2.5454720927583168.\n"
     ]
    },
    {
     "name": "stdout",
     "output_type": "stream",
     "text": [
      "Using device: cuda\n",
      "Using device: cuda\n"
     ]
    },
    {
     "name": "stderr",
     "output_type": "stream",
     "text": [
      "[I 2025-09-29 23:01:14,696] Trial 77 finished with value: 2.7653279097288803 and parameters: {'learning_rate': 0.0025858148246265373, 'batch_size': 29, 'seq_length': 8, 'dim_feedforward': 305, 'dropout': 0.07464926169783831, 'num_layers': 2}. Best is trial 79 with value: 2.5454720927583168.\n"
     ]
    },
    {
     "name": "stdout",
     "output_type": "stream",
     "text": [
      "Using device: cuda\n",
      "Using device: cuda\n",
      "Using device: cuda\n",
      "Using device: cuda\n",
      "Using device: cuda\n"
     ]
    },
    {
     "name": "stderr",
     "output_type": "stream",
     "text": [
      "[I 2025-09-29 23:01:52,618] Trial 81 finished with value: 2.6275797864375905 and parameters: {'learning_rate': 0.005807876690196943, 'batch_size': 29, 'seq_length': 7, 'dim_feedforward': 343, 'dropout': 0.0736602460372834, 'num_layers': 1}. Best is trial 79 with value: 2.5454720927583168.\n"
     ]
    },
    {
     "name": "stdout",
     "output_type": "stream",
     "text": [
      "Using device: cuda\n",
      "Using device: cuda\n",
      "Using device: cuda\n",
      "Using device: cuda\n",
      "Using device: cuda\n",
      "Using device: cuda\n"
     ]
    },
    {
     "name": "stderr",
     "output_type": "stream",
     "text": [
      "[I 2025-09-29 23:02:29,323] Trial 85 finished with value: 2.675774807217559 and parameters: {'learning_rate': 0.0062583082600939, 'batch_size': 61, 'seq_length': 6, 'dim_feedforward': 361, 'dropout': 0.008421908007002536, 'num_layers': 1}. Best is trial 79 with value: 2.5454720927583168.\n"
     ]
    },
    {
     "name": "stdout",
     "output_type": "stream",
     "text": [
      "Using device: cuda\n"
     ]
    },
    {
     "name": "stderr",
     "output_type": "stream",
     "text": [
      "[I 2025-09-29 23:02:34,794] Trial 82 finished with value: 2.612681807292663 and parameters: {'learning_rate': 0.006616451374634196, 'batch_size': 29, 'seq_length': 6, 'dim_feedforward': 337, 'dropout': 0.08262342215177214, 'num_layers': 1}. Best is trial 79 with value: 2.5454720927583168.\n"
     ]
    },
    {
     "name": "stdout",
     "output_type": "stream",
     "text": [
      "Using device: cuda\n",
      "Using device: cuda\n",
      "Using device: cuda\n",
      "Using device: cuda\n",
      "Using device: cuda\n",
      "Using device: cuda\n",
      "Using device: cuda\n",
      "Using device: cuda\n",
      "Using device: cuda\n",
      "Using device: cuda\n"
     ]
    },
    {
     "name": "stderr",
     "output_type": "stream",
     "text": [
      "[I 2025-09-29 23:03:14,869] Trial 87 finished with value: 2.7350275055621407 and parameters: {'learning_rate': 0.000281234912048089, 'batch_size': 41, 'seq_length': 9, 'dim_feedforward': 278, 'dropout': 0.0922054815907706, 'num_layers': 1}. Best is trial 79 with value: 2.5454720927583168.\n"
     ]
    },
    {
     "name": "stdout",
     "output_type": "stream",
     "text": [
      "Using device: cuda\n",
      "Using device: cuda\n"
     ]
    },
    {
     "name": "stderr",
     "output_type": "stream",
     "text": [
      "[I 2025-09-29 23:03:28,511] Trial 86 finished with value: 2.689356953206918 and parameters: {'learning_rate': 0.0022319442444513607, 'batch_size': 24, 'seq_length': 12, 'dim_feedforward': 388, 'dropout': 0.09824814629979271, 'num_layers': 1}. Best is trial 79 with value: 2.5454720927583168.\n"
     ]
    },
    {
     "name": "stdout",
     "output_type": "stream",
     "text": [
      "Using device: cuda\n",
      "Using device: cuda\n",
      "Using device: cuda\n",
      "Using device: cuda\n",
      "Using device: cuda\n"
     ]
    },
    {
     "name": "stderr",
     "output_type": "stream",
     "text": [
      "[I 2025-09-29 23:04:05,006] Trial 84 finished with value: 2.64828662102182 and parameters: {'learning_rate': 0.006223320082138388, 'batch_size': 20, 'seq_length': 6, 'dim_feedforward': 340, 'dropout': 0.009474823133884966, 'num_layers': 1}. Best is trial 79 with value: 2.5454720927583168.\n"
     ]
    },
    {
     "name": "stdout",
     "output_type": "stream",
     "text": [
      "Using device: cuda\n",
      "Using device: cuda\n"
     ]
    },
    {
     "name": "stderr",
     "output_type": "stream",
     "text": [
      "[I 2025-09-29 23:04:13,343] Trial 75 finished with value: 2.6190076940291704 and parameters: {'learning_rate': 0.0070504626899740245, 'batch_size': 22, 'seq_length': 6, 'dim_feedforward': 296, 'dropout': 0.081196487021376, 'num_layers': 1}. Best is trial 79 with value: 2.5454720927583168.\n"
     ]
    },
    {
     "name": "stdout",
     "output_type": "stream",
     "text": [
      "Using device: cuda\n",
      "Using device: cuda\n"
     ]
    },
    {
     "name": "stderr",
     "output_type": "stream",
     "text": [
      "[I 2025-09-29 23:04:24,019] Trial 54 finished with value: 2.65579932561189 and parameters: {'learning_rate': 0.0016942044010100224, 'batch_size': 53, 'seq_length': 3, 'dim_feedforward': 283, 'dropout': 0.0794249792554007, 'num_layers': 1}. Best is trial 79 with value: 2.5454720927583168.\n"
     ]
    },
    {
     "name": "stdout",
     "output_type": "stream",
     "text": [
      "Using device: cuda\n",
      "Using device: cuda\n",
      "Using device: cuda\n"
     ]
    },
    {
     "name": "stderr",
     "output_type": "stream",
     "text": [
      "[I 2025-09-29 23:04:45,421] Trial 88 finished with value: 2.5995338327410695 and parameters: {'learning_rate': 0.004690748180153653, 'batch_size': 25, 'seq_length': 13, 'dim_feedforward': 316, 'dropout': 0.09755377794079065, 'num_layers': 1}. Best is trial 79 with value: 2.5454720927583168.\n"
     ]
    },
    {
     "name": "stdout",
     "output_type": "stream",
     "text": [
      "Using device: cuda\n"
     ]
    },
    {
     "name": "stderr",
     "output_type": "stream",
     "text": [
      "[I 2025-09-29 23:04:51,532] Trial 89 finished with value: 2.634225853122942 and parameters: {'learning_rate': 0.0046251933940602615, 'batch_size': 21, 'seq_length': 21, 'dim_feedforward': 433, 'dropout': 0.05692190614090614, 'num_layers': 1}. Best is trial 79 with value: 2.5454720927583168.\n"
     ]
    },
    {
     "name": "stdout",
     "output_type": "stream",
     "text": [
      "Using device: cuda\n",
      "Using device: cuda\n",
      "Using device: cuda\n",
      "Using device: cuda\n",
      "Using device: cuda\n",
      "Using device: cuda\n",
      "Using device: cuda\n",
      "Using device: cuda\n",
      "Using device: cuda\n",
      "Using device: cuda\n",
      "Using device: cuda\n"
     ]
    },
    {
     "name": "stderr",
     "output_type": "stream",
     "text": [
      "[I 2025-09-29 23:05:45,084] Trial 94 finished with value: 2.648838606010519 and parameters: {'learning_rate': 0.0020817550087667627, 'batch_size': 27, 'seq_length': 3, 'dim_feedforward': 305, 'dropout': 0.06927990972861142, 'num_layers': 1}. Best is trial 79 with value: 2.5454720927583168.\n"
     ]
    },
    {
     "name": "stdout",
     "output_type": "stream",
     "text": [
      "Using device: cuda\n",
      "Using device: cuda\n"
     ]
    },
    {
     "name": "stderr",
     "output_type": "stream",
     "text": [
      "[I 2025-09-29 23:05:58,085] Trial 93 finished with value: 2.6444510757084023 and parameters: {'learning_rate': 0.002058434841282146, 'batch_size': 27, 'seq_length': 3, 'dim_feedforward': 273, 'dropout': 0.08607562437982567, 'num_layers': 1}. Best is trial 79 with value: 2.5454720927583168.\n"
     ]
    },
    {
     "name": "stdout",
     "output_type": "stream",
     "text": [
      "Using device: cuda\n",
      "Using device: cuda\n",
      "Using device: cuda\n",
      "Using device: cuda\n"
     ]
    },
    {
     "name": "stderr",
     "output_type": "stream",
     "text": [
      "[I 2025-09-29 23:06:18,350] Trial 90 finished with value: 2.689251991691036 and parameters: {'learning_rate': 0.0019119276850285906, 'batch_size': 26, 'seq_length': 3, 'dim_feedforward': 312, 'dropout': 0.08589438568916657, 'num_layers': 1}. Best is trial 79 with value: 2.5454720927583168.\n"
     ]
    },
    {
     "name": "stdout",
     "output_type": "stream",
     "text": [
      "Using device: cuda\n",
      "Using device: cuda\n"
     ]
    },
    {
     "name": "stderr",
     "output_type": "stream",
     "text": [
      "[I 2025-09-29 23:06:33,297] Trial 95 finished with value: 2.630713388303525 and parameters: {'learning_rate': 0.0013490175067802487, 'batch_size': 31, 'seq_length': 3, 'dim_feedforward': 272, 'dropout': 0.07673752210570944, 'num_layers': 1}. Best is trial 79 with value: 2.5454720927583168.\n"
     ]
    },
    {
     "name": "stdout",
     "output_type": "stream",
     "text": [
      "Using device: cuda\n",
      "Using device: cuda\n",
      "Using device: cuda\n",
      "Using device: cuda\n",
      "Using device: cuda\n",
      "Using device: cuda\n"
     ]
    },
    {
     "name": "stderr",
     "output_type": "stream",
     "text": [
      "[I 2025-09-29 23:07:13,698] Trial 96 finished with value: 2.6945142772750867 and parameters: {'learning_rate': 0.0013673944740640455, 'batch_size': 33, 'seq_length': 4, 'dim_feedforward': 371, 'dropout': 0.07675836452533107, 'num_layers': 2}. Best is trial 79 with value: 2.5454720927583168.\n"
     ]
    },
    {
     "name": "stdout",
     "output_type": "stream",
     "text": [
      "Using device: cuda\n",
      "Using device: cuda\n",
      "Using device: cuda\n",
      "Using device: cuda\n",
      "Using device: cuda\n"
     ]
    },
    {
     "name": "stderr",
     "output_type": "stream",
     "text": [
      "[I 2025-09-29 23:07:44,214] Trial 98 finished with value: 2.7206290711785326 and parameters: {'learning_rate': 0.0036310977766885735, 'batch_size': 37, 'seq_length': 7, 'dim_feedforward': 354, 'dropout': 0.07280239026201804, 'num_layers': 2}. Best is trial 79 with value: 2.5454720927583168.\n"
     ]
    },
    {
     "name": "stdout",
     "output_type": "stream",
     "text": [
      "Using device: cuda\n",
      "Using device: cuda\n",
      "Using device: cuda\n"
     ]
    },
    {
     "name": "stderr",
     "output_type": "stream",
     "text": [
      "[I 2025-09-29 23:07:49,703] Trial 99 finished with value: 2.676230592748286 and parameters: {'learning_rate': 0.003728346645037659, 'batch_size': 62, 'seq_length': 5, 'dim_feedforward': 352, 'dropout': 0.06764805604326385, 'num_layers': 1}. Best is trial 79 with value: 2.5454720927583168.\n",
      "[I 2025-09-29 23:08:01,315] Trial 91 finished with value: 2.679392281116605 and parameters: {'learning_rate': 0.0019186029630040586, 'batch_size': 27, 'seq_length': 3, 'dim_feedforward': 317, 'dropout': 0.0861030715366971, 'num_layers': 1}. Best is trial 79 with value: 2.5454720927583168.\n",
      "[I 2025-09-29 23:08:03,230] Trial 69 finished with value: 8.01925787357725 and parameters: {'learning_rate': 0.007952676958545969, 'batch_size': 35, 'seq_length': 8, 'dim_feedforward': 264, 'dropout': 0.06582817151725441, 'num_layers': 5}. Best is trial 79 with value: 2.5454720927583168.\n"
     ]
    },
    {
     "name": "stdout",
     "output_type": "stream",
     "text": [
      "Using device: cuda\n",
      "Using device: cuda\n",
      "Using device: cuda\n"
     ]
    },
    {
     "name": "stderr",
     "output_type": "stream",
     "text": [
      "[I 2025-09-29 23:08:18,757] Trial 83 finished with value: 2.6144806061202392 and parameters: {'learning_rate': 0.005852877131491771, 'batch_size': 27, 'seq_length': 6, 'dim_feedforward': 354, 'dropout': 0.012881306934650602, 'num_layers': 1}. Best is trial 79 with value: 2.5454720927583168.\n",
      "[I 2025-09-29 23:08:19,188] Trial 97 finished with value: 2.7790183989496944 and parameters: {'learning_rate': 0.0014068918353662768, 'batch_size': 33, 'seq_length': 5, 'dim_feedforward': 350, 'dropout': 0.07496198782066822, 'num_layers': 2}. Best is trial 79 with value: 2.5454720927583168.\n"
     ]
    },
    {
     "name": "stdout",
     "output_type": "stream",
     "text": [
      "Using device: cuda\n"
     ]
    },
    {
     "name": "stderr",
     "output_type": "stream",
     "text": [
      "[I 2025-09-29 23:08:27,640] Trial 38 finished with value: 2.7573125749945087 and parameters: {'learning_rate': 0.0007786283661312173, 'batch_size': 34, 'seq_length': 8, 'dim_feedforward': 197, 'dropout': 0.051922685707599114, 'num_layers': 2}. Best is trial 79 with value: 2.5454720927583168.\n",
      "[I 2025-09-29 23:08:31,014] Trial 25 finished with value: 2.7090335582379206 and parameters: {'learning_rate': 0.001530145521934141, 'batch_size': 64, 'seq_length': 3, 'dim_feedforward': 132, 'dropout': 0.09870326257062419, 'num_layers': 3}. Best is trial 79 with value: 2.5454720927583168.\n"
     ]
    },
    {
     "name": "stdout",
     "output_type": "stream",
     "text": [
      "Using device: cuda\n",
      "Using device: cuda\n"
     ]
    },
    {
     "name": "stderr",
     "output_type": "stream",
     "text": [
      "[I 2025-09-29 23:08:42,670] Trial 92 finished with value: 2.5666134264125957 and parameters: {'learning_rate': 0.0013980419158554714, 'batch_size': 33, 'seq_length': 3, 'dim_feedforward': 315, 'dropout': 0.06848087706976444, 'num_layers': 1}. Best is trial 79 with value: 2.5454720927583168.\n"
     ]
    },
    {
     "name": "stdout",
     "output_type": "stream",
     "text": [
      "Using device: cuda\n"
     ]
    },
    {
     "name": "stderr",
     "output_type": "stream",
     "text": [
      "[I 2025-09-29 23:08:59,760] Trial 35 finished with value: 2.7801835547436986 and parameters: {'learning_rate': 0.0008288445837630881, 'batch_size': 31, 'seq_length': 5, 'dim_feedforward': 402, 'dropout': 0.052006878352606846, 'num_layers': 2}. Best is trial 79 with value: 2.5454720927583168.\n"
     ]
    },
    {
     "data": {
      "text/plain": [
       "{'learning_rate': 0.0066779511652954255,\n",
       " 'batch_size': 28,\n",
       " 'seq_length': 7,\n",
       " 'dim_feedforward': 355,\n",
       " 'dropout': 0.07519874608589755,\n",
       " 'num_layers': 1}"
      ]
     },
     "execution_count": 5,
     "metadata": {},
     "output_type": "execute_result"
    }
   ],
   "source": [
    "def objective2(trial):\n",
    "    # Suggest hyperparameters\n",
    "    # Restrict d_model and nhead to best from first optuna to get better insights (no inf)\n",
    "    d_model = 64\n",
    "    nhead = 4\n",
    "    \n",
    "\n",
    "    params = {\n",
    "        'learning_rate': trial.suggest_float(\"learning_rate\", 1e-4, 1e-2, log=True),\n",
    "        'batch_size': trial.suggest_int(\"batch_size\", 8, 64),\n",
    "        'seq_length': trial.suggest_int(\"seq_length\", 3, 21),\n",
    "        'transformer_encoder_layer_params': {\n",
    "            'd_model': d_model,\n",
    "            'nhead': nhead,\n",
    "            'dim_feedforward': trial.suggest_int(\"dim_feedforward\", 128, 512),\n",
    "            'dropout': trial.suggest_float(\"dropout\", 0.0, 0.1),\n",
    "            'activation': 'relu'\n",
    "        },\n",
    "        'transformer_layer_params': {\n",
    "            'num_layers': trial.suggest_int(\"num_layers\", 1, 5),\n",
    "        },\n",
    "        'dataset': '2016-2019',\n",
    "        'train_test_split': '80:20',\n",
    "        'features': ['sum_30_min_demand'] + feature_names,\n",
    "        'visualise': False,\n",
    "    }\n",
    "    mapes = []\n",
    "    # sd of 0.08 on 100 runs, therefore average over 4 runs to reduce variance to ~0.04\n",
    "    for i in range(4):  # Average over 4 runs to reduce variance\n",
    "        mapes.append(train_model(params))\n",
    "    return sum(mapes)/len(mapes)\n",
    "\n",
    "study = optuna.create_study(storage=\"sqlite:///db.sqlite3\", study_name=\"2016_2019+all_features+80:20+4runs\", load_if_exists=True)\n",
    "study.optimize(objective2, n_trials=100, n_jobs=10)\n",
    "\n",
    "study.best_params"
   ]
  },
  {
   "cell_type": "code",
   "execution_count": null,
   "id": "ad7e1304",
   "metadata": {},
   "outputs": [
    {
     "name": "stderr",
     "output_type": "stream",
     "text": [
      "[I 2025-09-30 09:50:15,479] A new study created in RDB with name: 2016_2019+all_features+prior:2019+5runs\n"
     ]
    },
    {
     "name": "stdout",
     "output_type": "stream",
     "text": [
      "Using device: cuda\n",
      "Using device: cuda\n",
      "Using device: cuda\n",
      "Using device: cuda\n",
      "Using device: cuda\n",
      "Using device: cuda\n",
      "Using device: cuda\n",
      "Using device: cuda\n",
      "Using device: cuda\n",
      "Using device: cuda\n",
      "Using device: cuda\n",
      "Using device: cuda\n",
      "Using device: cuda\n",
      "Using device: cuda\n",
      "Using device: cuda\n",
      "Using device: cuda\n",
      "Using device: cuda\n",
      "Using device: cuda\n",
      "Using device: cuda\n"
     ]
    },
    {
     "name": "stderr",
     "output_type": "stream",
     "text": [
      "[I 2025-09-30 09:52:59,072] Trial 0 finished with value: 3.339361279429317 and parameters: {'learning_rate': 0.0013038623264792497, 'batch_size': 46, 'seq_length': 19, 'dim_feedforward': 320, 'dropout': 0.04219293540958091, 'num_layers': 5}. Best is trial 0 with value: 3.339361279429317.\n"
     ]
    },
    {
     "name": "stdout",
     "output_type": "stream",
     "text": [
      "Using device: cuda\n",
      "Using device: cuda\n",
      "Using device: cuda\n",
      "Using device: cuda\n",
      "Using device: cuda\n",
      "Using device: cuda\n",
      "Using device: cuda\n",
      "Using device: cuda\n"
     ]
    },
    {
     "name": "stderr",
     "output_type": "stream",
     "text": [
      "[I 2025-09-30 09:54:13,173] Trial 2 finished with value: 3.0858731499130965 and parameters: {'learning_rate': 0.005018763766207417, 'batch_size': 19, 'seq_length': 19, 'dim_feedforward': 444, 'dropout': 0.08748827791899327, 'num_layers': 2}. Best is trial 2 with value: 3.0858731499130965.\n"
     ]
    },
    {
     "name": "stdout",
     "output_type": "stream",
     "text": [
      "Using device: cuda\n"
     ]
    },
    {
     "name": "stderr",
     "output_type": "stream",
     "text": [
      "[I 2025-09-30 09:54:14,204] Trial 3 finished with value: 3.199972903821529 and parameters: {'learning_rate': 0.000489196419515176, 'batch_size': 28, 'seq_length': 3, 'dim_feedforward': 145, 'dropout': 0.09020116251335841, 'num_layers': 2}. Best is trial 2 with value: 3.0858731499130965.\n"
     ]
    },
    {
     "name": "stdout",
     "output_type": "stream",
     "text": [
      "Using device: cuda\n",
      "Using device: cuda\n",
      "Using device: cuda\n",
      "Using device: cuda\n",
      "Using device: cuda\n",
      "Using device: cuda\n"
     ]
    },
    {
     "name": "stderr",
     "output_type": "stream",
     "text": [
      "[I 2025-09-30 09:55:23,607] Trial 5 finished with value: 3.2032574320683938 and parameters: {'learning_rate': 0.0066200163122904845, 'batch_size': 37, 'seq_length': 14, 'dim_feedforward': 492, 'dropout': 0.08871542015938925, 'num_layers': 1}. Best is trial 2 with value: 3.0858731499130965.\n"
     ]
    },
    {
     "name": "stdout",
     "output_type": "stream",
     "text": [
      "Using device: cuda\n",
      "Using device: cuda\n"
     ]
    },
    {
     "name": "stderr",
     "output_type": "stream",
     "text": [
      "[I 2025-09-30 09:55:31,184] Trial 1 finished with value: 3.2510941543047163 and parameters: {'learning_rate': 0.0001383437803148704, 'batch_size': 44, 'seq_length': 15, 'dim_feedforward': 446, 'dropout': 0.021085453636733444, 'num_layers': 3}. Best is trial 2 with value: 3.0858731499130965.\n"
     ]
    },
    {
     "name": "stdout",
     "output_type": "stream",
     "text": [
      "Using device: cuda\n",
      "Using device: cuda\n",
      "Using device: cuda\n",
      "Using device: cuda\n",
      "Using device: cuda\n",
      "Using device: cuda\n",
      "Using device: cuda\n"
     ]
    },
    {
     "name": "stderr",
     "output_type": "stream",
     "text": [
      "[I 2025-09-30 09:56:41,450] Trial 4 finished with value: 3.2444168407910436 and parameters: {'learning_rate': 0.00016813118441364117, 'batch_size': 35, 'seq_length': 20, 'dim_feedforward': 242, 'dropout': 0.04925005114247612, 'num_layers': 1}. Best is trial 2 with value: 3.0858731499130965.\n"
     ]
    },
    {
     "name": "stdout",
     "output_type": "stream",
     "text": [
      "Using device: cuda\n",
      "Using device: cuda\n",
      "Using device: cuda\n",
      "Using device: cuda\n"
     ]
    },
    {
     "name": "stderr",
     "output_type": "stream",
     "text": [
      "[I 2025-09-30 09:57:27,885] Trial 8 finished with value: 3.136392875964031 and parameters: {'learning_rate': 0.0003459743321952066, 'batch_size': 54, 'seq_length': 12, 'dim_feedforward': 342, 'dropout': 0.08981481022883366, 'num_layers': 1}. Best is trial 2 with value: 3.0858731499130965.\n"
     ]
    },
    {
     "name": "stdout",
     "output_type": "stream",
     "text": [
      "Using device: cuda\n"
     ]
    },
    {
     "name": "stderr",
     "output_type": "stream",
     "text": [
      "[I 2025-09-30 09:57:30,233] Trial 6 finished with value: 3.33167170731579 and parameters: {'learning_rate': 0.0013283026145155105, 'batch_size': 49, 'seq_length': 21, 'dim_feedforward': 211, 'dropout': 0.0935335858634594, 'num_layers': 5}. Best is trial 2 with value: 3.0858731499130965.\n"
     ]
    },
    {
     "name": "stdout",
     "output_type": "stream",
     "text": [
      "Using device: cuda\n",
      "Using device: cuda\n",
      "Using device: cuda\n",
      "Using device: cuda\n",
      "Using device: cuda\n"
     ]
    },
    {
     "name": "stderr",
     "output_type": "stream",
     "text": [
      "[I 2025-09-30 09:59:04,779] Trial 7 finished with value: 3.3924565471796253 and parameters: {'learning_rate': 0.002253663812270879, 'batch_size': 54, 'seq_length': 16, 'dim_feedforward': 175, 'dropout': 0.07684181127314649, 'num_layers': 5}. Best is trial 2 with value: 3.0858731499130965.\n"
     ]
    },
    {
     "name": "stdout",
     "output_type": "stream",
     "text": [
      "Using device: cuda\n",
      "Using device: cuda\n",
      "Using device: cuda\n",
      "Using device: cuda\n",
      "Using device: cuda\n",
      "Using device: cuda\n",
      "Using device: cuda\n"
     ]
    },
    {
     "name": "stderr",
     "output_type": "stream",
     "text": [
      "[I 2025-09-30 10:01:02,761] Trial 9 finished with value: 3.3897471492760003 and parameters: {'learning_rate': 0.0010338923453033534, 'batch_size': 61, 'seq_length': 21, 'dim_feedforward': 237, 'dropout': 0.06612413233736417, 'num_layers': 3}. Best is trial 2 with value: 3.0858731499130965.\n"
     ]
    },
    {
     "name": "stdout",
     "output_type": "stream",
     "text": [
      "Using device: cuda\n",
      "Using device: cuda\n",
      "Using device: cuda\n",
      "Using device: cuda\n",
      "Using device: cuda\n",
      "Using device: cuda\n",
      "Using device: cuda\n"
     ]
    },
    {
     "name": "stderr",
     "output_type": "stream",
     "text": [
      "[I 2025-09-30 10:03:24,624] Trial 11 finished with value: 3.342225117291227 and parameters: {'learning_rate': 0.0031576546453368293, 'batch_size': 37, 'seq_length': 9, 'dim_feedforward': 198, 'dropout': 0.014934297930833363, 'num_layers': 5}. Best is trial 2 with value: 3.0858731499130965.\n"
     ]
    },
    {
     "name": "stdout",
     "output_type": "stream",
     "text": [
      "Using device: cuda\n",
      "Using device: cuda\n",
      "Using device: cuda\n",
      "Using device: cuda\n",
      "Using device: cuda\n"
     ]
    },
    {
     "name": "stderr",
     "output_type": "stream",
     "text": [
      "[I 2025-09-30 10:05:16,299] Trial 13 finished with value: 3.5168172878079655 and parameters: {'learning_rate': 0.0010626843703863485, 'batch_size': 33, 'seq_length': 18, 'dim_feedforward': 156, 'dropout': 0.01782060788631118, 'num_layers': 5}. Best is trial 2 with value: 3.0858731499130965.\n"
     ]
    },
    {
     "name": "stdout",
     "output_type": "stream",
     "text": [
      "Using device: cuda\n",
      "Using device: cuda\n"
     ]
    },
    {
     "name": "stderr",
     "output_type": "stream",
     "text": [
      "[I 2025-09-30 10:05:49,816] Trial 12 finished with value: 3.406088551169042 and parameters: {'learning_rate': 0.0035889758720758992, 'batch_size': 14, 'seq_length': 21, 'dim_feedforward': 167, 'dropout': 0.09360209184611806, 'num_layers': 3}. Best is trial 2 with value: 3.0858731499130965.\n"
     ]
    },
    {
     "name": "stdout",
     "output_type": "stream",
     "text": [
      "Using device: cuda\n",
      "Using device: cuda\n",
      "Using device: cuda\n",
      "Using device: cuda\n",
      "Using device: cuda\n",
      "Using device: cuda\n",
      "Using device: cuda\n"
     ]
    },
    {
     "name": "stderr",
     "output_type": "stream",
     "text": [
      "[I 2025-09-30 10:08:03,709] Trial 15 finished with value: 3.2912945082215597 and parameters: {'learning_rate': 0.000372604847598113, 'batch_size': 11, 'seq_length': 10, 'dim_feedforward': 377, 'dropout': 0.06685316463646822, 'num_layers': 2}. Best is trial 2 with value: 3.0858731499130965.\n"
     ]
    },
    {
     "name": "stdout",
     "output_type": "stream",
     "text": [
      "Using device: cuda\n",
      "Using device: cuda\n",
      "Using device: cuda\n"
     ]
    },
    {
     "name": "stderr",
     "output_type": "stream",
     "text": [
      "[I 2025-09-30 10:08:20,087] Trial 10 finished with value: 3.118136202717465 and parameters: {'learning_rate': 0.0051658485161687, 'batch_size': 45, 'seq_length': 14, 'dim_feedforward': 280, 'dropout': 0.0826954310832671, 'num_layers': 2}. Best is trial 2 with value: 3.0858731499130965.\n"
     ]
    },
    {
     "name": "stdout",
     "output_type": "stream",
     "text": [
      "Using device: cuda\n",
      "Using device: cuda\n",
      "Using device: cuda\n",
      "Using device: cuda\n",
      "Using device: cuda\n",
      "Using device: cuda\n",
      "Using device: cuda\n"
     ]
    },
    {
     "name": "stderr",
     "output_type": "stream",
     "text": [
      "[I 2025-09-30 10:10:41,527] Trial 17 finished with value: 3.2597543084448946 and parameters: {'learning_rate': 0.00037677668346791025, 'batch_size': 8, 'seq_length': 10, 'dim_feedforward': 381, 'dropout': 0.07001176894672015, 'num_layers': 2}. Best is trial 2 with value: 3.0858731499130965.\n"
     ]
    },
    {
     "name": "stdout",
     "output_type": "stream",
     "text": [
      "Using device: cuda\n",
      "Using device: cuda\n",
      "Using device: cuda\n",
      "Using device: cuda\n",
      "Using device: cuda\n",
      "Using device: cuda\n"
     ]
    },
    {
     "name": "stderr",
     "output_type": "stream",
     "text": [
      "[I 2025-09-30 10:13:04,441] Trial 16 finished with value: 3.2625606793852806 and parameters: {'learning_rate': 0.00034195158895015113, 'batch_size': 13, 'seq_length': 10, 'dim_feedforward': 389, 'dropout': 0.06842557678845392, 'num_layers': 2}. Best is trial 2 with value: 3.0858731499130965.\n"
     ]
    },
    {
     "name": "stdout",
     "output_type": "stream",
     "text": [
      "Using device: cuda\n"
     ]
    },
    {
     "name": "stderr",
     "output_type": "stream",
     "text": [
      "[I 2025-09-30 10:13:19,770] Trial 18 finished with value: 3.1899967089150674 and parameters: {'learning_rate': 0.008487986467901857, 'batch_size': 21, 'seq_length': 11, 'dim_feedforward': 380, 'dropout': 0.07199313931219477, 'num_layers': 2}. Best is trial 2 with value: 3.0858731499130965.\n"
     ]
    },
    {
     "name": "stdout",
     "output_type": "stream",
     "text": [
      "Using device: cuda\n",
      "Using device: cuda\n",
      "Using device: cuda\n",
      "Using device: cuda\n",
      "Using device: cuda\n",
      "Using device: cuda\n",
      "Using device: cuda\n"
     ]
    },
    {
     "name": "stderr",
     "output_type": "stream",
     "text": [
      "[I 2025-09-30 10:15:09,268] Trial 20 finished with value: 5.529493095636865 and parameters: {'learning_rate': 0.00911397244169107, 'batch_size': 21, 'seq_length': 17, 'dim_feedforward': 445, 'dropout': 0.03544333231145258, 'num_layers': 2}. Best is trial 2 with value: 3.0858731499130965.\n"
     ]
    },
    {
     "name": "stdout",
     "output_type": "stream",
     "text": [
      "Using device: cuda\n",
      "Using device: cuda\n",
      "Using device: cuda\n",
      "Using device: cuda\n",
      "Using device: cuda\n",
      "Using device: cuda\n",
      "Using device: cuda\n",
      "Using device: cuda\n",
      "Using device: cuda\n",
      "Using device: cuda\n",
      "Using device: cuda\n",
      "Using device: cuda\n",
      "Using device: cuda\n"
     ]
    },
    {
     "name": "stderr",
     "output_type": "stream",
     "text": [
      "[I 2025-09-30 10:18:20,004] Trial 22 finished with value: 6.276243828838883 and parameters: {'learning_rate': 0.0050342409940142855, 'batch_size': 22, 'seq_length': 7, 'dim_feedforward': 286, 'dropout': 0.03377596235109986, 'num_layers': 4}. Best is trial 2 with value: 3.0858731499130965.\n"
     ]
    },
    {
     "name": "stdout",
     "output_type": "stream",
     "text": [
      "Using device: cuda\n"
     ]
    },
    {
     "name": "stderr",
     "output_type": "stream",
     "text": [
      "[I 2025-09-30 10:18:47,877] Trial 21 finished with value: 8.012932930428091 and parameters: {'learning_rate': 0.007544681701095994, 'batch_size': 22, 'seq_length': 17, 'dim_feedforward': 269, 'dropout': 0.0003112707423538891, 'num_layers': 4}. Best is trial 2 with value: 3.0858731499130965.\n"
     ]
    },
    {
     "name": "stdout",
     "output_type": "stream",
     "text": [
      "Using device: cuda\n"
     ]
    },
    {
     "name": "stderr",
     "output_type": "stream",
     "text": [
      "[I 2025-09-30 10:18:57,817] Trial 23 finished with value: 5.76126841000084 and parameters: {'learning_rate': 0.00512127733040072, 'batch_size': 26, 'seq_length': 5, 'dim_feedforward': 303, 'dropout': 0.081202519486902, 'num_layers': 4}. Best is trial 2 with value: 3.0858731499130965.\n"
     ]
    },
    {
     "name": "stdout",
     "output_type": "stream",
     "text": [
      "Using device: cuda\n",
      "Using device: cuda\n",
      "Using device: cuda\n",
      "Using device: cuda\n",
      "Using device: cuda\n",
      "Using device: cuda\n",
      "Using device: cuda\n"
     ]
    },
    {
     "name": "stderr",
     "output_type": "stream",
     "text": [
      "[I 2025-09-30 10:19:31,651] Trial 19 finished with value: 5.322833321256774 and parameters: {'learning_rate': 0.009879188436333074, 'batch_size': 24, 'seq_length': 17, 'dim_feedforward': 418, 'dropout': 0.07115856931743487, 'num_layers': 2}. Best is trial 2 with value: 3.0858731499130965.\n"
     ]
    },
    {
     "name": "stdout",
     "output_type": "stream",
     "text": [
      "Using device: cuda\n",
      "Using device: cuda\n",
      "Using device: cuda\n"
     ]
    },
    {
     "name": "stderr",
     "output_type": "stream",
     "text": [
      "[I 2025-09-30 10:19:45,868] Trial 26 finished with value: 3.2648016844368084 and parameters: {'learning_rate': 0.002097907482260176, 'batch_size': 61, 'seq_length': 13, 'dim_feedforward': 340, 'dropout': 0.09969773414950624, 'num_layers': 1}. Best is trial 2 with value: 3.0858731499130965.\n"
     ]
    },
    {
     "name": "stdout",
     "output_type": "stream",
     "text": [
      "Using device: cuda\n",
      "Using device: cuda\n",
      "Using device: cuda\n",
      "Using device: cuda\n",
      "Using device: cuda\n",
      "Using device: cuda\n"
     ]
    },
    {
     "name": "stderr",
     "output_type": "stream",
     "text": [
      "[I 2025-09-30 10:20:19,432] Trial 25 finished with value: 3.3165366010393478 and parameters: {'learning_rate': 0.0025218626110069175, 'batch_size': 64, 'seq_length': 13, 'dim_feedforward': 322, 'dropout': 0.08151170740892537, 'num_layers': 1}. Best is trial 2 with value: 3.0858731499130965.\n"
     ]
    },
    {
     "name": "stdout",
     "output_type": "stream",
     "text": [
      "Using device: cuda\n",
      "Using device: cuda\n",
      "Using device: cuda\n",
      "Using device: cuda\n",
      "Using device: cuda\n"
     ]
    },
    {
     "name": "stderr",
     "output_type": "stream",
     "text": [
      "[I 2025-09-30 10:20:48,652] Trial 28 finished with value: 3.211886855631142 and parameters: {'learning_rate': 0.00018392492138698618, 'batch_size': 55, 'seq_length': 13, 'dim_feedforward': 502, 'dropout': 0.0573986726028774, 'num_layers': 1}. Best is trial 2 with value: 3.0858731499130965.\n"
     ]
    },
    {
     "name": "stdout",
     "output_type": "stream",
     "text": [
      "Using device: cuda\n",
      "Using device: cuda\n",
      "Using device: cuda\n",
      "Using device: cuda\n",
      "Using device: cuda\n",
      "Using device: cuda\n",
      "Using device: cuda\n",
      "Using device: cuda\n",
      "Using device: cuda\n",
      "Using device: cuda\n"
     ]
    },
    {
     "name": "stderr",
     "output_type": "stream",
     "text": [
      "[I 2025-09-30 10:21:48,169] Trial 29 finished with value: 3.197512356711954 and parameters: {'learning_rate': 0.0007098431911602828, 'batch_size': 54, 'seq_length': 12, 'dim_feedforward': 509, 'dropout': 0.05574377056000126, 'num_layers': 1}. Best is trial 2 with value: 3.0858731499130965.\n"
     ]
    },
    {
     "name": "stdout",
     "output_type": "stream",
     "text": [
      "Using device: cuda\n",
      "Using device: cuda\n"
     ]
    },
    {
     "name": "stderr",
     "output_type": "stream",
     "text": [
      "[I 2025-09-30 10:22:03,058] Trial 27 finished with value: 3.20678483012094 and parameters: {'learning_rate': 0.0021672234328531477, 'batch_size': 63, 'seq_length': 13, 'dim_feedforward': 336, 'dropout': 0.05795788359853583, 'num_layers': 1}. Best is trial 2 with value: 3.0858731499130965.\n",
      "[I 2025-09-30 10:22:03,153] Trial 30 finished with value: 3.3126893423069723 and parameters: {'learning_rate': 0.0006552600980834441, 'batch_size': 43, 'seq_length': 8, 'dim_feedforward': 350, 'dropout': 0.08404259513087622, 'num_layers': 1}. Best is trial 2 with value: 3.0858731499130965.\n"
     ]
    },
    {
     "name": "stdout",
     "output_type": "stream",
     "text": [
      "Using device: cuda\n",
      "Using device: cuda\n",
      "Using device: cuda\n",
      "Using device: cuda\n",
      "Using device: cuda\n",
      "Using device: cuda\n",
      "Using device: cuda\n",
      "Using device: cuda\n",
      "Using device: cuda\n",
      "Using device: cuda\n",
      "Using device: cuda\n"
     ]
    },
    {
     "name": "stderr",
     "output_type": "stream",
     "text": [
      "[I 2025-09-30 10:23:59,420] Trial 24 finished with value: 3.3107422510996543 and parameters: {'learning_rate': 0.0021752822991824646, 'batch_size': 28, 'seq_length': 14, 'dim_feedforward': 288, 'dropout': 0.05684829756377955, 'num_layers': 4}. Best is trial 2 with value: 3.0858731499130965.\n"
     ]
    },
    {
     "name": "stdout",
     "output_type": "stream",
     "text": [
      "Using device: cuda\n"
     ]
    },
    {
     "name": "stderr",
     "output_type": "stream",
     "text": [
      "[I 2025-09-30 10:24:15,272] Trial 33 finished with value: 3.1996501322839546 and parameters: {'learning_rate': 0.00023735558131033374, 'batch_size': 49, 'seq_length': 19, 'dim_feedforward': 457, 'dropout': 0.09990433116719968, 'num_layers': 3}. Best is trial 2 with value: 3.0858731499130965.\n"
     ]
    },
    {
     "name": "stdout",
     "output_type": "stream",
     "text": [
      "Using device: cuda\n",
      "Using device: cuda\n",
      "Using device: cuda\n",
      "Using device: cuda\n",
      "Using device: cuda\n",
      "Using device: cuda\n",
      "Using device: cuda\n",
      "Using device: cuda\n",
      "Using device: cuda\n"
     ]
    },
    {
     "name": "stderr",
     "output_type": "stream",
     "text": [
      "[I 2025-09-30 10:25:54,528] Trial 31 finished with value: 3.2120020978371358 and parameters: {'learning_rate': 0.0002693912615910226, 'batch_size': 41, 'seq_length': 8, 'dim_feedforward': 344, 'dropout': 0.09959195697511426, 'num_layers': 3}. Best is trial 2 with value: 3.0858731499130965.\n"
     ]
    },
    {
     "name": "stdout",
     "output_type": "stream",
     "text": [
      "Using device: cuda\n"
     ]
    },
    {
     "name": "stderr",
     "output_type": "stream",
     "text": [
      "[I 2025-09-30 10:26:16,658] Trial 34 finished with value: 3.2491425791393316 and parameters: {'learning_rate': 0.00025546748558020934, 'batch_size': 49, 'seq_length': 19, 'dim_feedforward': 458, 'dropout': 0.08593180907770714, 'num_layers': 3}. Best is trial 2 with value: 3.0858731499130965.\n"
     ]
    },
    {
     "name": "stdout",
     "output_type": "stream",
     "text": [
      "Using device: cuda\n",
      "Using device: cuda\n",
      "Using device: cuda\n",
      "Using device: cuda\n",
      "Using device: cuda\n",
      "Using device: cuda\n",
      "Using device: cuda\n",
      "Using device: cuda\n",
      "Using device: cuda\n",
      "Using device: cuda\n",
      "Using device: cuda\n",
      "Using device: cuda\n",
      "Using device: cuda\n",
      "Using device: cuda\n"
     ]
    },
    {
     "name": "stderr",
     "output_type": "stream",
     "text": [
      "[I 2025-09-30 10:28:26,699] Trial 35 finished with value: 3.205253263643378 and parameters: {'learning_rate': 0.004879826821963397, 'batch_size': 16, 'seq_length': 11, 'dim_feedforward': 409, 'dropout': 0.07796934595564847, 'num_layers': 2}. Best is trial 2 with value: 3.0858731499130965.\n"
     ]
    },
    {
     "name": "stdout",
     "output_type": "stream",
     "text": [
      "Using device: cuda\n",
      "Using device: cuda\n",
      "Using device: cuda\n"
     ]
    },
    {
     "name": "stderr",
     "output_type": "stream",
     "text": [
      "[I 2025-09-30 10:28:49,917] Trial 36 finished with value: 3.3124759105611674 and parameters: {'learning_rate': 0.005133748937836292, 'batch_size': 48, 'seq_length': 11, 'dim_feedforward': 425, 'dropout': 0.0760507948021552, 'num_layers': 2}. Best is trial 2 with value: 3.0858731499130965.\n"
     ]
    },
    {
     "name": "stdout",
     "output_type": "stream",
     "text": [
      "Using device: cuda\n"
     ]
    },
    {
     "name": "stderr",
     "output_type": "stream",
     "text": [
      "[I 2025-09-30 10:29:00,788] Trial 37 finished with value: 3.214243704796036 and parameters: {'learning_rate': 0.00011396312051227561, 'batch_size': 17, 'seq_length': 11, 'dim_feedforward': 412, 'dropout': 0.07679538918911175, 'num_layers': 2}. Best is trial 2 with value: 3.0858731499130965.\n"
     ]
    },
    {
     "name": "stdout",
     "output_type": "stream",
     "text": [
      "Using device: cuda\n",
      "Using device: cuda\n",
      "Using device: cuda\n",
      "Using device: cuda\n",
      "Using device: cuda\n",
      "Using device: cuda\n",
      "Using device: cuda\n",
      "Using device: cuda\n",
      "Using device: cuda\n"
     ]
    },
    {
     "name": "stderr",
     "output_type": "stream",
     "text": [
      "[I 2025-09-30 10:30:00,012] Trial 38 finished with value: 3.2136316802102556 and parameters: {'learning_rate': 0.00011823546453821094, 'batch_size': 18, 'seq_length': 15, 'dim_feedforward': 425, 'dropout': 0.07508393863576049, 'num_layers': 2}. Best is trial 2 with value: 3.0858731499130965.\n"
     ]
    },
    {
     "name": "stdout",
     "output_type": "stream",
     "text": [
      "Using device: cuda\n"
     ]
    },
    {
     "name": "stderr",
     "output_type": "stream",
     "text": [
      "[I 2025-09-30 10:30:03,891] Trial 40 finished with value: 3.3193961729712935 and parameters: {'learning_rate': 0.0016064269139994022, 'batch_size': 31, 'seq_length': 15, 'dim_feedforward': 368, 'dropout': 0.09098497906003322, 'num_layers': 2}. Best is trial 2 with value: 3.0858731499130965.\n"
     ]
    },
    {
     "name": "stdout",
     "output_type": "stream",
     "text": [
      "Using device: cuda\n",
      "Using device: cuda\n",
      "Using device: cuda\n"
     ]
    },
    {
     "name": "stderr",
     "output_type": "stream",
     "text": [
      "[I 2025-09-30 10:30:16,321] Trial 32 finished with value: 3.294212076086321 and parameters: {'learning_rate': 0.00022504352494757843, 'batch_size': 41, 'seq_length': 8, 'dim_feedforward': 471, 'dropout': 0.09950489506040508, 'num_layers': 3}. Best is trial 2 with value: 3.0858731499130965.\n"
     ]
    },
    {
     "name": "stdout",
     "output_type": "stream",
     "text": [
      "Using device: cuda\n",
      "Using device: cuda\n",
      "Using device: cuda\n",
      "Using device: cuda\n",
      "Using device: cuda\n",
      "Using device: cuda\n",
      "Using device: cuda\n"
     ]
    },
    {
     "name": "stderr",
     "output_type": "stream",
     "text": [
      "[I 2025-09-30 10:30:42,738] Trial 42 finished with value: 3.1437173911386855 and parameters: {'learning_rate': 0.007009535054749203, 'batch_size': 57, 'seq_length': 16, 'dim_feedforward': 251, 'dropout': 0.0881407582351139, 'num_layers': 1}. Best is trial 2 with value: 3.0858731499130965.\n"
     ]
    },
    {
     "name": "stdout",
     "output_type": "stream",
     "text": [
      "Using device: cuda\n",
      "Using device: cuda\n"
     ]
    },
    {
     "name": "stderr",
     "output_type": "stream",
     "text": [
      "[I 2025-09-30 10:30:49,409] Trial 41 finished with value: 3.146148742675571 and parameters: {'learning_rate': 0.006704904860694185, 'batch_size': 33, 'seq_length': 15, 'dim_feedforward': 364, 'dropout': 0.09075194536004247, 'num_layers': 1}. Best is trial 2 with value: 3.0858731499130965.\n"
     ]
    },
    {
     "name": "stdout",
     "output_type": "stream",
     "text": [
      "Using device: cuda\n",
      "Using device: cuda\n",
      "Using device: cuda\n",
      "Using device: cuda\n",
      "Using device: cuda\n",
      "Using device: cuda\n",
      "Using device: cuda\n",
      "Using device: cuda\n"
     ]
    },
    {
     "name": "stderr",
     "output_type": "stream",
     "text": [
      "[I 2025-09-30 10:31:10,413] Trial 45 finished with value: 3.2087185869957775 and parameters: {'learning_rate': 0.0036631191013992877, 'batch_size': 57, 'seq_length': 16, 'dim_feedforward': 249, 'dropout': 0.08785916600578998, 'num_layers': 1}. Best is trial 2 with value: 3.0858731499130965.\n"
     ]
    },
    {
     "name": "stdout",
     "output_type": "stream",
     "text": [
      "Using device: cuda\n"
     ]
    },
    {
     "name": "stderr",
     "output_type": "stream",
     "text": [
      "[I 2025-09-30 10:31:13,224] Trial 44 finished with value: 3.217169633482317 and parameters: {'learning_rate': 0.0038406217214733396, 'batch_size': 58, 'seq_length': 15, 'dim_feedforward': 239, 'dropout': 0.08775894004888403, 'num_layers': 1}. Best is trial 2 with value: 3.0858731499130965.\n"
     ]
    },
    {
     "name": "stdout",
     "output_type": "stream",
     "text": [
      "Using device: cuda\n",
      "Using device: cuda\n",
      "Using device: cuda\n",
      "Using device: cuda\n",
      "Using device: cuda\n",
      "Using device: cuda\n",
      "Using device: cuda\n",
      "Using device: cuda\n",
      "Using device: cuda\n",
      "Using device: cuda\n",
      "Using device: cuda\n"
     ]
    },
    {
     "name": "stderr",
     "output_type": "stream",
     "text": [
      "[I 2025-09-30 10:31:42,123] Trial 46 finished with value: 3.122233815023041 and parameters: {'learning_rate': 0.006323444316051793, 'batch_size': 52, 'seq_length': 15, 'dim_feedforward': 212, 'dropout': 0.09286803154021864, 'num_layers': 1}. Best is trial 2 with value: 3.0858731499130965.\n"
     ]
    },
    {
     "name": "stdout",
     "output_type": "stream",
     "text": [
      "Using device: cuda\n"
     ]
    },
    {
     "name": "stderr",
     "output_type": "stream",
     "text": [
      "[I 2025-09-30 10:31:46,677] Trial 47 finished with value: 3.1836871206041515 and parameters: {'learning_rate': 0.006634054162783071, 'batch_size': 52, 'seq_length': 18, 'dim_feedforward': 215, 'dropout': 0.09363196029184467, 'num_layers': 1}. Best is trial 2 with value: 3.0858731499130965.\n"
     ]
    },
    {
     "name": "stdout",
     "output_type": "stream",
     "text": [
      "Using device: cuda\n",
      "Using device: cuda\n"
     ]
    },
    {
     "name": "stderr",
     "output_type": "stream",
     "text": [
      "[I 2025-09-30 10:31:49,543] Trial 14 finished with value: 5.5843705038018046 and parameters: {'learning_rate': 0.009703935772473452, 'batch_size': 8, 'seq_length': 10, 'dim_feedforward': 398, 'dropout': 0.005577467087884119, 'num_layers': 2}. Best is trial 2 with value: 3.0858731499130965.\n"
     ]
    },
    {
     "name": "stdout",
     "output_type": "stream",
     "text": [
      "Using device: cuda\n",
      "Using device: cuda\n",
      "Using device: cuda\n",
      "Using device: cuda\n",
      "Using device: cuda\n",
      "Using device: cuda\n",
      "Using device: cuda\n",
      "Using device: cuda\n",
      "Using device: cuda\n"
     ]
    },
    {
     "name": "stderr",
     "output_type": "stream",
     "text": [
      "[I 2025-09-30 10:32:17,505] Trial 48 finished with value: 3.0856843422991784 and parameters: {'learning_rate': 0.00601251999470264, 'batch_size': 51, 'seq_length': 19, 'dim_feedforward': 199, 'dropout': 0.09424314058575256, 'num_layers': 1}. Best is trial 48 with value: 3.0856843422991784.\n"
     ]
    },
    {
     "name": "stdout",
     "output_type": "stream",
     "text": [
      "Using device: cuda\n"
     ]
    },
    {
     "name": "stderr",
     "output_type": "stream",
     "text": [
      "[I 2025-09-30 10:32:18,528] Trial 49 finished with value: 3.2536253629962384 and parameters: {'learning_rate': 0.002857948707611103, 'batch_size': 45, 'seq_length': 20, 'dim_feedforward': 195, 'dropout': 0.09406678890414047, 'num_layers': 1}. Best is trial 48 with value: 3.0856843422991784.\n"
     ]
    },
    {
     "name": "stdout",
     "output_type": "stream",
     "text": [
      "Using device: cuda\n",
      "Using device: cuda\n",
      "Using device: cuda\n",
      "Using device: cuda\n",
      "Using device: cuda\n",
      "Using device: cuda\n",
      "Using device: cuda\n",
      "Using device: cuda\n",
      "Using device: cuda\n",
      "Using device: cuda\n",
      "Using device: cuda\n"
     ]
    },
    {
     "name": "stderr",
     "output_type": "stream",
     "text": [
      "[I 2025-09-30 10:32:48,938] Trial 52 finished with value: 3.215836097805939 and parameters: {'learning_rate': 0.0015562447265183926, 'batch_size': 52, 'seq_length': 14, 'dim_feedforward': 146, 'dropout': 0.08153051331753997, 'num_layers': 1}. Best is trial 48 with value: 3.0856843422991784.\n"
     ]
    },
    {
     "name": "stdout",
     "output_type": "stream",
     "text": [
      "Using device: cuda\n"
     ]
    },
    {
     "name": "stderr",
     "output_type": "stream",
     "text": [
      "[I 2025-09-30 10:32:50,719] Trial 51 finished with value: 3.163389709748538 and parameters: {'learning_rate': 0.004105529868448433, 'batch_size': 45, 'seq_length': 20, 'dim_feedforward': 180, 'dropout': 0.09484067710557136, 'num_layers': 1}. Best is trial 48 with value: 3.0856843422991784.\n"
     ]
    },
    {
     "name": "stdout",
     "output_type": "stream",
     "text": [
      "Using device: cuda\n",
      "Using device: cuda\n",
      "Using device: cuda\n",
      "Using device: cuda\n",
      "Using device: cuda\n",
      "Using device: cuda\n",
      "Using device: cuda\n",
      "Using device: cuda\n",
      "Using device: cuda\n",
      "Using device: cuda\n",
      "Using device: cuda\n",
      "Using device: cuda\n",
      "Using device: cuda\n"
     ]
    },
    {
     "name": "stderr",
     "output_type": "stream",
     "text": [
      "[I 2025-09-30 10:33:47,411] Trial 50 finished with value: 3.1714549280785946 and parameters: {'learning_rate': 0.0029788274109831515, 'batch_size': 52, 'seq_length': 20, 'dim_feedforward': 191, 'dropout': 0.094493846707264, 'num_layers': 1}. Best is trial 48 with value: 3.0856843422991784.\n"
     ]
    },
    {
     "name": "stdout",
     "output_type": "stream",
     "text": [
      "Using device: cuda\n",
      "Using device: cuda\n"
     ]
    },
    {
     "name": "stderr",
     "output_type": "stream",
     "text": [
      "[I 2025-09-30 10:33:55,534] Trial 53 finished with value: 3.2240739837101864 and parameters: {'learning_rate': 0.004091098239463257, 'batch_size': 39, 'seq_length': 20, 'dim_feedforward': 180, 'dropout': 0.09554624118785528, 'num_layers': 1}. Best is trial 48 with value: 3.0856843422991784.\n"
     ]
    },
    {
     "name": "stdout",
     "output_type": "stream",
     "text": [
      "Using device: cuda\n"
     ]
    },
    {
     "name": "stderr",
     "output_type": "stream",
     "text": [
      "[I 2025-09-30 10:33:56,864] Trial 54 finished with value: 3.3738378945186143 and parameters: {'learning_rate': 0.005766461827269729, 'batch_size': 39, 'seq_length': 18, 'dim_feedforward': 131, 'dropout': 0.047340019846441914, 'num_layers': 2}. Best is trial 48 with value: 3.0856843422991784.\n"
     ]
    },
    {
     "name": "stdout",
     "output_type": "stream",
     "text": [
      "Using device: cuda\n",
      "Using device: cuda\n",
      "Using device: cuda\n",
      "Using device: cuda\n",
      "Using device: cuda\n",
      "Using device: cuda\n",
      "Using device: cuda\n",
      "Using device: cuda\n",
      "Using device: cuda\n",
      "Using device: cuda\n",
      "Using device: cuda\n"
     ]
    },
    {
     "name": "stderr",
     "output_type": "stream",
     "text": [
      "[I 2025-09-30 10:34:30,782] Trial 56 finished with value: 3.090189668261108 and parameters: {'learning_rate': 0.005902889716946795, 'batch_size': 58, 'seq_length': 18, 'dim_feedforward': 218, 'dropout': 0.08442091440296673, 'num_layers': 1}. Best is trial 48 with value: 3.0856843422991784.\n"
     ]
    },
    {
     "name": "stdout",
     "output_type": "stream",
     "text": [
      "Using device: cuda\n"
     ]
    },
    {
     "name": "stderr",
     "output_type": "stream",
     "text": [
      "[I 2025-09-30 10:34:34,999] Trial 57 finished with value: 3.2064033892766695 and parameters: {'learning_rate': 0.0077356232668380496, 'batch_size': 58, 'seq_length': 16, 'dim_feedforward': 218, 'dropout': 0.06353854830219066, 'num_layers': 1}. Best is trial 48 with value: 3.0856843422991784.\n"
     ]
    },
    {
     "name": "stdout",
     "output_type": "stream",
     "text": [
      "Using device: cuda\n"
     ]
    },
    {
     "name": "stderr",
     "output_type": "stream",
     "text": [
      "[I 2025-09-30 10:34:42,144] Trial 43 finished with value: 3.0263926056225965 and parameters: {'learning_rate': 0.006843690470185633, 'batch_size': 56, 'seq_length': 3, 'dim_feedforward': 241, 'dropout': 0.08974372210033789, 'num_layers': 1}. Best is trial 43 with value: 3.0263926056225965.\n"
     ]
    },
    {
     "name": "stdout",
     "output_type": "stream",
     "text": [
      "Using device: cuda\n",
      "Using device: cuda\n",
      "Using device: cuda\n",
      "Using device: cuda\n",
      "Using device: cuda\n",
      "Using device: cuda\n",
      "Using device: cuda\n",
      "Using device: cuda\n",
      "Using device: cuda\n",
      "Using device: cuda\n",
      "Using device: cuda\n"
     ]
    },
    {
     "name": "stderr",
     "output_type": "stream",
     "text": [
      "[I 2025-09-30 10:35:32,446] Trial 55 finished with value: 3.1047411914355267 and parameters: {'learning_rate': 0.005953016589585662, 'batch_size': 58, 'seq_length': 18, 'dim_feedforward': 214, 'dropout': 0.08510582736825534, 'num_layers': 1}. Best is trial 43 with value: 3.0263926056225965.\n"
     ]
    },
    {
     "name": "stdout",
     "output_type": "stream",
     "text": [
      "Using device: cuda\n"
     ]
    },
    {
     "name": "stderr",
     "output_type": "stream",
     "text": [
      "[I 2025-09-30 10:35:38,133] Trial 58 finished with value: 3.1378675246766417 and parameters: {'learning_rate': 0.008117046592828086, 'batch_size': 47, 'seq_length': 17, 'dim_feedforward': 212, 'dropout': 0.06421703105765537, 'num_layers': 1}. Best is trial 43 with value: 3.0263926056225965.\n"
     ]
    },
    {
     "name": "stdout",
     "output_type": "stream",
     "text": [
      "Using device: cuda\n"
     ]
    },
    {
     "name": "stderr",
     "output_type": "stream",
     "text": [
      "[I 2025-09-30 10:35:41,363] Trial 59 finished with value: 3.2460441472775923 and parameters: {'learning_rate': 0.005956381602405888, 'batch_size': 47, 'seq_length': 17, 'dim_feedforward': 270, 'dropout': 0.08376645036797076, 'num_layers': 2}. Best is trial 43 with value: 3.0263926056225965.\n"
     ]
    },
    {
     "name": "stdout",
     "output_type": "stream",
     "text": [
      "Using device: cuda\n",
      "Using device: cuda\n",
      "Using device: cuda\n",
      "Using device: cuda\n",
      "Using device: cuda\n",
      "Using device: cuda\n",
      "Using device: cuda\n",
      "Using device: cuda\n",
      "Using device: cuda\n",
      "Using device: cuda\n",
      "Using device: cuda\n",
      "Using device: cuda\n"
     ]
    },
    {
     "name": "stderr",
     "output_type": "stream",
     "text": [
      "[I 2025-09-30 10:36:30,503] Trial 63 finished with value: 3.1978834969289056 and parameters: {'learning_rate': 0.0044624466981606934, 'batch_size': 60, 'seq_length': 3, 'dim_feedforward': 231, 'dropout': 0.07954566000576595, 'num_layers': 2}. Best is trial 43 with value: 3.0263926056225965.\n"
     ]
    },
    {
     "name": "stdout",
     "output_type": "stream",
     "text": [
      "Using device: cuda\n",
      "Using device: cuda\n"
     ]
    },
    {
     "name": "stderr",
     "output_type": "stream",
     "text": [
      "[I 2025-09-30 10:36:42,446] Trial 62 finished with value: 3.364839766681823 and parameters: {'learning_rate': 0.004701478649449235, 'batch_size': 62, 'seq_length': 19, 'dim_feedforward': 261, 'dropout': 0.08343063524619264, 'num_layers': 2}. Best is trial 43 with value: 3.0263926056225965.\n"
     ]
    },
    {
     "name": "stdout",
     "output_type": "stream",
     "text": [
      "Using device: cuda\n",
      "Using device: cuda\n",
      "Using device: cuda\n",
      "Using device: cuda\n",
      "Using device: cuda\n",
      "Using device: cuda\n",
      "Using device: cuda\n",
      "Using device: cuda\n"
     ]
    },
    {
     "name": "stderr",
     "output_type": "stream",
     "text": [
      "[I 2025-09-30 10:37:16,135] Trial 64 finished with value: 3.350100006012043 and parameters: {'learning_rate': 0.003488426137073391, 'batch_size': 60, 'seq_length': 21, 'dim_feedforward': 271, 'dropout': 0.07289196056014277, 'num_layers': 2}. Best is trial 43 with value: 3.0263926056225965.\n"
     ]
    },
    {
     "name": "stdout",
     "output_type": "stream",
     "text": [
      "Using device: cuda\n",
      "Using device: cuda\n",
      "Using device: cuda\n",
      "Using device: cuda\n",
      "Using device: cuda\n",
      "Using device: cuda\n"
     ]
    },
    {
     "name": "stderr",
     "output_type": "stream",
     "text": [
      "[I 2025-09-30 10:37:32,468] Trial 65 finished with value: 3.168249815050893 and parameters: {'learning_rate': 0.00569418181800542, 'batch_size': 55, 'seq_length': 18, 'dim_feedforward': 226, 'dropout': 0.09033754144313152, 'num_layers': 1}. Best is trial 43 with value: 3.0263926056225965.\n"
     ]
    },
    {
     "name": "stdout",
     "output_type": "stream",
     "text": [
      "Using device: cuda\n",
      "Using device: cuda\n",
      "Using device: cuda\n",
      "Using device: cuda\n"
     ]
    },
    {
     "name": "stderr",
     "output_type": "stream",
     "text": [
      "[I 2025-09-30 10:37:46,655] Trial 66 finished with value: 3.1511448717375234 and parameters: {'learning_rate': 0.005969594428401863, 'batch_size': 55, 'seq_length': 18, 'dim_feedforward': 228, 'dropout': 0.08490747111224863, 'num_layers': 1}. Best is trial 43 with value: 3.0263926056225965.\n"
     ]
    },
    {
     "name": "stdout",
     "output_type": "stream",
     "text": [
      "Using device: cuda\n",
      "Using device: cuda\n",
      "Using device: cuda\n",
      "Using device: cuda\n",
      "Using device: cuda\n",
      "Using device: cuda\n",
      "Using device: cuda\n",
      "Using device: cuda\n",
      "Using device: cuda\n"
     ]
    },
    {
     "name": "stderr",
     "output_type": "stream",
     "text": [
      "[I 2025-09-30 10:38:16,014] Trial 67 finished with value: 3.081236711412031 and parameters: {'learning_rate': 0.00824488155362734, 'batch_size': 51, 'seq_length': 19, 'dim_feedforward': 194, 'dropout': 0.08564941047873545, 'num_layers': 1}. Best is trial 43 with value: 3.0263926056225965.\n"
     ]
    },
    {
     "name": "stdout",
     "output_type": "stream",
     "text": [
      "Using device: cuda\n",
      "Using device: cuda\n",
      "Using device: cuda\n"
     ]
    },
    {
     "name": "stderr",
     "output_type": "stream",
     "text": [
      "[I 2025-09-30 10:38:23,704] Trial 39 finished with value: 3.167778772038095 and parameters: {'learning_rate': 0.006860652774121218, 'batch_size': 18, 'seq_length': 15, 'dim_feedforward': 375, 'dropout': 0.0900474995480295, 'num_layers': 2}. Best is trial 43 with value: 3.0263926056225965.\n",
      "[I 2025-09-30 10:38:24,216] Trial 68 finished with value: 3.0599919832733073 and parameters: {'learning_rate': 0.008017402541224855, 'batch_size': 52, 'seq_length': 4, 'dim_feedforward': 206, 'dropout': 0.09695699208551013, 'num_layers': 1}. Best is trial 43 with value: 3.0263926056225965.\n"
     ]
    },
    {
     "name": "stdout",
     "output_type": "stream",
     "text": [
      "Using device: cuda\n",
      "Using device: cuda\n"
     ]
    },
    {
     "name": "stderr",
     "output_type": "stream",
     "text": [
      "[I 2025-09-30 10:38:26,588] Trial 61 finished with value: 3.272881905400126 and parameters: {'learning_rate': 0.004511604179065304, 'batch_size': 61, 'seq_length': 3, 'dim_feedforward': 263, 'dropout': 0.08291359728919306, 'num_layers': 2}. Best is trial 43 with value: 3.0263926056225965.\n"
     ]
    },
    {
     "name": "stdout",
     "output_type": "stream",
     "text": [
      "Using device: cuda\n",
      "Using device: cuda\n",
      "Using device: cuda\n",
      "Using device: cuda\n",
      "Using device: cuda\n",
      "Using device: cuda\n",
      "Using device: cuda\n",
      "Using device: cuda\n",
      "Using device: cuda\n",
      "Using device: cuda\n"
     ]
    },
    {
     "name": "stderr",
     "output_type": "stream",
     "text": [
      "[I 2025-09-30 10:39:00,743] Trial 69 finished with value: 3.093664552342843 and parameters: {'learning_rate': 0.009819475824949488, 'batch_size': 51, 'seq_length': 19, 'dim_feedforward': 163, 'dropout': 0.09673638529676311, 'num_layers': 1}. Best is trial 43 with value: 3.0263926056225965.\n"
     ]
    },
    {
     "name": "stdout",
     "output_type": "stream",
     "text": [
      "Using device: cuda\n",
      "Using device: cuda\n",
      "Using device: cuda\n"
     ]
    },
    {
     "name": "stderr",
     "output_type": "stream",
     "text": [
      "[I 2025-09-30 10:39:09,049] Trial 71 finished with value: 3.0641053090835335 and parameters: {'learning_rate': 0.00902391560397611, 'batch_size': 50, 'seq_length': 4, 'dim_feedforward': 161, 'dropout': 0.0968436737187555, 'num_layers': 1}. Best is trial 43 with value: 3.0263926056225965.\n"
     ]
    },
    {
     "name": "stdout",
     "output_type": "stream",
     "text": [
      "Using device: cuda\n",
      "Using device: cuda\n",
      "Using device: cuda\n",
      "Using device: cuda\n",
      "Using device: cuda\n",
      "Using device: cuda\n",
      "Using device: cuda\n",
      "Using device: cuda\n",
      "Using device: cuda\n",
      "Using device: cuda\n",
      "Using device: cuda\n"
     ]
    },
    {
     "name": "stderr",
     "output_type": "stream",
     "text": [
      "[I 2025-09-30 10:39:58,463] Trial 70 finished with value: 3.15801787525897 and parameters: {'learning_rate': 0.009401636346303522, 'batch_size': 50, 'seq_length': 19, 'dim_feedforward': 158, 'dropout': 0.07935370776849576, 'num_layers': 1}. Best is trial 43 with value: 3.0263926056225965.\n"
     ]
    },
    {
     "name": "stdout",
     "output_type": "stream",
     "text": [
      "Using device: cuda\n"
     ]
    },
    {
     "name": "stderr",
     "output_type": "stream",
     "text": [
      "[I 2025-09-30 10:40:01,477] Trial 60 finished with value: 3.2107321039010484 and parameters: {'learning_rate': 0.005995683783534408, 'batch_size': 60, 'seq_length': 3, 'dim_feedforward': 262, 'dropout': 0.08271747359004679, 'num_layers': 2}. Best is trial 43 with value: 3.0263926056225965.\n"
     ]
    },
    {
     "name": "stdout",
     "output_type": "stream",
     "text": [
      "Using device: cuda\n",
      "Using device: cuda\n"
     ]
    },
    {
     "name": "stderr",
     "output_type": "stream",
     "text": [
      "[I 2025-09-30 10:40:10,490] Trial 73 finished with value: 3.1695456793550063 and parameters: {'learning_rate': 0.0088088444978124, 'batch_size': 50, 'seq_length': 4, 'dim_feedforward': 168, 'dropout': 0.09709228010325331, 'num_layers': 1}. Best is trial 43 with value: 3.0263926056225965.\n",
      "[I 2025-09-30 10:40:10,743] Trial 74 finished with value: 3.0763084560259752 and parameters: {'learning_rate': 0.008684723431117407, 'batch_size': 54, 'seq_length': 4, 'dim_feedforward': 168, 'dropout': 0.09716274727268012, 'num_layers': 1}. Best is trial 43 with value: 3.0263926056225965.\n"
     ]
    },
    {
     "name": "stdout",
     "output_type": "stream",
     "text": [
      "Using device: cuda\n",
      "Using device: cuda\n",
      "Using device: cuda\n",
      "Using device: cuda\n",
      "Using device: cuda\n",
      "Using device: cuda\n",
      "Using device: cuda\n",
      "Using device: cuda\n",
      "Using device: cuda\n",
      "Using device: cuda\n",
      "Using device: cuda\n",
      "Using device: cuda\n",
      "Using device: cuda\n"
     ]
    },
    {
     "name": "stderr",
     "output_type": "stream",
     "text": [
      "[I 2025-09-30 10:40:59,033] Trial 78 finished with value: 3.121767935615911 and parameters: {'learning_rate': 0.00760626095416873, 'batch_size': 56, 'seq_length': 5, 'dim_feedforward': 201, 'dropout': 0.09191870770377375, 'num_layers': 1}. Best is trial 43 with value: 3.0263926056225965.\n"
     ]
    },
    {
     "name": "stdout",
     "output_type": "stream",
     "text": [
      "Using device: cuda\n",
      "Using device: cuda\n",
      "Using device: cuda\n"
     ]
    },
    {
     "name": "stderr",
     "output_type": "stream",
     "text": [
      "[I 2025-09-30 10:41:08,305] Trial 77 finished with value: 3.065296600208494 and parameters: {'learning_rate': 0.009730711718628307, 'batch_size': 53, 'seq_length': 5, 'dim_feedforward': 202, 'dropout': 0.09679931150689856, 'num_layers': 1}. Best is trial 43 with value: 3.0263926056225965.\n"
     ]
    },
    {
     "name": "stdout",
     "output_type": "stream",
     "text": [
      "Using device: cuda\n",
      "Using device: cuda\n",
      "Using device: cuda\n",
      "Using device: cuda\n",
      "Using device: cuda\n",
      "Using device: cuda\n",
      "Using device: cuda\n",
      "Using device: cuda\n",
      "Using device: cuda\n"
     ]
    },
    {
     "name": "stderr",
     "output_type": "stream",
     "text": [
      "[I 2025-09-30 10:41:36,894] Trial 72 finished with value: 3.1235859956995893 and parameters: {'learning_rate': 0.008482753090683902, 'batch_size': 51, 'seq_length': 4, 'dim_feedforward': 160, 'dropout': 0.09568099154165564, 'num_layers': 1}. Best is trial 43 with value: 3.0263926056225965.\n"
     ]
    },
    {
     "name": "stdout",
     "output_type": "stream",
     "text": [
      "Using device: cuda\n"
     ]
    },
    {
     "name": "stderr",
     "output_type": "stream",
     "text": [
      "[I 2025-09-30 10:41:37,724] Trial 79 finished with value: 3.103931706432856 and parameters: {'learning_rate': 0.008346999576383738, 'batch_size': 53, 'seq_length': 5, 'dim_feedforward': 188, 'dropout': 0.09830947468770039, 'num_layers': 1}. Best is trial 43 with value: 3.0263926056225965.\n"
     ]
    },
    {
     "name": "stdout",
     "output_type": "stream",
     "text": [
      "Using device: cuda\n",
      "Using device: cuda\n",
      "Using device: cuda\n",
      "Using device: cuda\n",
      "Using device: cuda\n"
     ]
    },
    {
     "name": "stderr",
     "output_type": "stream",
     "text": [
      "[I 2025-09-30 10:42:00,608] Trial 80 finished with value: 3.1171597472967085 and parameters: {'learning_rate': 0.008332884695406084, 'batch_size': 53, 'seq_length': 5, 'dim_feedforward': 187, 'dropout': 0.097173303431097, 'num_layers': 1}. Best is trial 43 with value: 3.0263926056225965.\n"
     ]
    },
    {
     "name": "stdout",
     "output_type": "stream",
     "text": [
      "Using device: cuda\n",
      "Using device: cuda\n"
     ]
    },
    {
     "name": "stderr",
     "output_type": "stream",
     "text": [
      "[I 2025-09-30 10:42:06,694] Trial 75 finished with value: 3.0517032934526678 and parameters: {'learning_rate': 0.008763750100132847, 'batch_size': 50, 'seq_length': 4, 'dim_feedforward': 168, 'dropout': 0.09685871971106398, 'num_layers': 1}. Best is trial 43 with value: 3.0263926056225965.\n"
     ]
    },
    {
     "name": "stdout",
     "output_type": "stream",
     "text": [
      "Using device: cuda\n",
      "Using device: cuda\n",
      "Using device: cuda\n",
      "Using device: cuda\n",
      "Using device: cuda\n",
      "Using device: cuda\n",
      "Using device: cuda\n"
     ]
    },
    {
     "name": "stderr",
     "output_type": "stream",
     "text": [
      "[I 2025-09-30 10:42:32,953] Trial 82 finished with value: 3.1918986778540117 and parameters: {'learning_rate': 0.007533135223048234, 'batch_size': 48, 'seq_length': 6, 'dim_feedforward': 144, 'dropout': 0.02791030533427835, 'num_layers': 1}. Best is trial 43 with value: 3.0263926056225965.\n"
     ]
    },
    {
     "name": "stdout",
     "output_type": "stream",
     "text": [
      "Using device: cuda\n",
      "Using device: cuda\n",
      "Using device: cuda\n",
      "Using device: cuda\n",
      "Using device: cuda\n",
      "Using device: cuda\n",
      "Using device: cuda\n",
      "Using device: cuda\n"
     ]
    },
    {
     "name": "stderr",
     "output_type": "stream",
     "text": [
      "[I 2025-09-30 10:42:58,866] Trial 83 finished with value: 3.165712081575086 and parameters: {'learning_rate': 0.007180756877206005, 'batch_size': 44, 'seq_length': 4, 'dim_feedforward': 143, 'dropout': 0.03471850624564198, 'num_layers': 1}. Best is trial 43 with value: 3.0263926056225965.\n"
     ]
    },
    {
     "name": "stdout",
     "output_type": "stream",
     "text": [
      "Using device: cuda\n",
      "Using device: cuda\n",
      "Using device: cuda\n",
      "Using device: cuda\n",
      "Using device: cuda\n",
      "Using device: cuda\n",
      "Using device: cuda\n"
     ]
    },
    {
     "name": "stderr",
     "output_type": "stream",
     "text": [
      "[I 2025-09-30 10:43:21,245] Trial 85 finished with value: 3.1429932770124673 and parameters: {'learning_rate': 0.009999174738582044, 'batch_size': 54, 'seq_length': 4, 'dim_feedforward': 201, 'dropout': 0.08687483193308988, 'num_layers': 1}. Best is trial 43 with value: 3.0263926056225965.\n"
     ]
    },
    {
     "name": "stdout",
     "output_type": "stream",
     "text": [
      "Using device: cuda\n",
      "Using device: cuda\n",
      "Using device: cuda\n",
      "Using device: cuda\n",
      "Using device: cuda\n",
      "Using device: cuda\n",
      "Using device: cuda\n",
      "Using device: cuda\n"
     ]
    },
    {
     "name": "stderr",
     "output_type": "stream",
     "text": [
      "[I 2025-09-30 10:43:47,486] Trial 84 finished with value: 3.2468245384083367 and parameters: {'learning_rate': 0.009916511955395484, 'batch_size': 43, 'seq_length': 6, 'dim_feedforward': 143, 'dropout': 0.035304755517119576, 'num_layers': 1}. Best is trial 43 with value: 3.0263926056225965.\n"
     ]
    },
    {
     "name": "stdout",
     "output_type": "stream",
     "text": [
      "Using device: cuda\n",
      "Using device: cuda\n"
     ]
    },
    {
     "name": "stderr",
     "output_type": "stream",
     "text": [
      "[I 2025-09-30 10:43:55,087] Trial 86 finished with value: 3.1986626035294616 and parameters: {'learning_rate': 0.009587508931807825, 'batch_size': 54, 'seq_length': 4, 'dim_feedforward': 174, 'dropout': 0.08715132877161172, 'num_layers': 1}. Best is trial 43 with value: 3.0263926056225965.\n"
     ]
    },
    {
     "name": "stdout",
     "output_type": "stream",
     "text": [
      "Using device: cuda\n",
      "Using device: cuda\n"
     ]
    },
    {
     "name": "stderr",
     "output_type": "stream",
     "text": [
      "[I 2025-09-30 10:44:03,354] Trial 87 finished with value: 3.1355842499337467 and parameters: {'learning_rate': 0.008900434166152308, 'batch_size': 50, 'seq_length': 6, 'dim_feedforward': 149, 'dropout': 0.09181389164892324, 'num_layers': 1}. Best is trial 43 with value: 3.0263926056225965.\n"
     ]
    },
    {
     "name": "stdout",
     "output_type": "stream",
     "text": [
      "Using device: cuda\n",
      "Using device: cuda\n",
      "Using device: cuda\n"
     ]
    },
    {
     "name": "stderr",
     "output_type": "stream",
     "text": [
      "[I 2025-09-30 10:44:09,477] Trial 81 finished with value: 3.0672763019492155 and parameters: {'learning_rate': 0.007417450878734818, 'batch_size': 53, 'seq_length': 6, 'dim_feedforward': 187, 'dropout': 0.09767619977944723, 'num_layers': 1}. Best is trial 43 with value: 3.0263926056225965.\n"
     ]
    },
    {
     "name": "stdout",
     "output_type": "stream",
     "text": [
      "Using device: cuda\n",
      "Using device: cuda\n",
      "Using device: cuda\n",
      "Using device: cuda\n",
      "Using device: cuda\n",
      "Using device: cuda\n",
      "Using device: cuda\n",
      "Using device: cuda\n",
      "Using device: cuda\n",
      "Using device: cuda\n"
     ]
    },
    {
     "name": "stderr",
     "output_type": "stream",
     "text": [
      "[I 2025-09-30 10:44:38,735] Trial 90 finished with value: 3.066118288727743 and parameters: {'learning_rate': 0.005417799858360469, 'batch_size': 56, 'seq_length': 3, 'dim_feedforward': 201, 'dropout': 0.08987894050039734, 'num_layers': 1}. Best is trial 43 with value: 3.0263926056225965.\n"
     ]
    },
    {
     "name": "stdout",
     "output_type": "stream",
     "text": [
      "Using device: cuda\n",
      "Using device: cuda\n"
     ]
    },
    {
     "name": "stderr",
     "output_type": "stream",
     "text": [
      "[I 2025-09-30 10:44:46,442] Trial 89 finished with value: 3.1214941198707913 and parameters: {'learning_rate': 0.006871818026635375, 'batch_size': 50, 'seq_length': 6, 'dim_feedforward': 203, 'dropout': 0.09181036689399297, 'num_layers': 1}. Best is trial 43 with value: 3.0263926056225965.\n"
     ]
    },
    {
     "name": "stdout",
     "output_type": "stream",
     "text": [
      "Using device: cuda\n",
      "Using device: cuda\n",
      "Using device: cuda\n",
      "Using device: cuda\n",
      "Using device: cuda\n"
     ]
    },
    {
     "name": "stderr",
     "output_type": "stream",
     "text": [
      "[I 2025-09-30 10:44:57,229] Trial 76 finished with value: 3.1144412723236337 and parameters: {'learning_rate': 0.009981947677489464, 'batch_size': 51, 'seq_length': 5, 'dim_feedforward': 165, 'dropout': 0.09808815970531705, 'num_layers': 1}. Best is trial 43 with value: 3.0263926056225965.\n"
     ]
    },
    {
     "name": "stdout",
     "output_type": "stream",
     "text": [
      "Using device: cuda\n",
      "Using device: cuda\n",
      "Using device: cuda\n",
      "Using device: cuda\n",
      "Using device: cuda\n"
     ]
    },
    {
     "name": "stderr",
     "output_type": "stream",
     "text": [
      "[I 2025-09-30 10:45:09,720] Trial 88 finished with value: 3.1352011168393057 and parameters: {'learning_rate': 0.005280444409096518, 'batch_size': 50, 'seq_length': 6, 'dim_feedforward': 175, 'dropout': 0.09249566014004283, 'num_layers': 1}. Best is trial 43 with value: 3.0263926056225965.\n"
     ]
    },
    {
     "name": "stdout",
     "output_type": "stream",
     "text": [
      "Using device: cuda\n",
      "Using device: cuda\n",
      "Using device: cuda\n"
     ]
    },
    {
     "name": "stderr",
     "output_type": "stream",
     "text": [
      "[I 2025-09-30 10:45:18,780] Trial 92 finished with value: 3.0122046454737967 and parameters: {'learning_rate': 0.007083338682026224, 'batch_size': 56, 'seq_length': 3, 'dim_feedforward': 129, 'dropout': 0.09816569515731734, 'num_layers': 1}. Best is trial 92 with value: 3.0122046454737967.\n"
     ]
    },
    {
     "name": "stdout",
     "output_type": "stream",
     "text": [
      "Using device: cuda\n"
     ]
    },
    {
     "name": "stderr",
     "output_type": "stream",
     "text": [
      "[I 2025-09-30 10:45:23,467] Trial 93 finished with value: 3.052393052988623 and parameters: {'learning_rate': 0.005290745485575089, 'batch_size': 56, 'seq_length': 3, 'dim_feedforward': 128, 'dropout': 0.0984193996754029, 'num_layers': 1}. Best is trial 92 with value: 3.0122046454737967.\n"
     ]
    },
    {
     "name": "stdout",
     "output_type": "stream",
     "text": [
      "Using device: cuda\n",
      "Using device: cuda\n",
      "Using device: cuda\n",
      "Using device: cuda\n",
      "Using device: cuda\n",
      "Using device: cuda\n",
      "Using device: cuda\n",
      "Using device: cuda\n",
      "Using device: cuda\n",
      "Using device: cuda\n",
      "Using device: cuda\n",
      "Using device: cuda\n",
      "Using device: cuda\n"
     ]
    },
    {
     "name": "stderr",
     "output_type": "stream",
     "text": [
      "[I 2025-09-30 10:46:03,431] Trial 96 finished with value: 3.048981472522311 and parameters: {'learning_rate': 0.007876449895993523, 'batch_size': 55, 'seq_length': 3, 'dim_feedforward': 134, 'dropout': 0.09946720915507247, 'num_layers': 1}. Best is trial 92 with value: 3.0122046454737967.\n"
     ]
    },
    {
     "name": "stdout",
     "output_type": "stream",
     "text": [
      "Using device: cuda\n"
     ]
    },
    {
     "name": "stderr",
     "output_type": "stream",
     "text": [
      "[I 2025-09-30 10:46:04,902] Trial 97 finished with value: 3.0172489956584814 and parameters: {'learning_rate': 0.007091588726618766, 'batch_size': 56, 'seq_length': 3, 'dim_feedforward': 130, 'dropout': 0.09906591985001852, 'num_layers': 1}. Best is trial 92 with value: 3.0122046454737967.\n"
     ]
    },
    {
     "name": "stdout",
     "output_type": "stream",
     "text": [
      "Using device: cuda\n",
      "Using device: cuda\n",
      "Using device: cuda\n",
      "Using device: cuda\n",
      "Using device: cuda\n",
      "Using device: cuda\n",
      "Using device: cuda\n",
      "Using device: cuda\n",
      "Using device: cuda\n",
      "Using device: cuda\n",
      "Using device: cuda\n",
      "Using device: cuda\n"
     ]
    },
    {
     "name": "stderr",
     "output_type": "stream",
     "text": [
      "[I 2025-09-30 10:46:36,705] Trial 95 finished with value: 3.075712745157608 and parameters: {'learning_rate': 0.0075804219004665255, 'batch_size': 56, 'seq_length': 3, 'dim_feedforward': 185, 'dropout': 0.09985113609292301, 'num_layers': 1}. Best is trial 92 with value: 3.0122046454737967.\n",
      "[I 2025-09-30 10:46:39,427] Trial 91 finished with value: 3.132690284216634 and parameters: {'learning_rate': 0.007098256474880826, 'batch_size': 47, 'seq_length': 7, 'dim_feedforward': 201, 'dropout': 0.09999831016075589, 'num_layers': 1}. Best is trial 92 with value: 3.0122046454737967.\n",
      "[I 2025-09-30 10:46:40,646] Trial 98 finished with value: 2.964722487595293 and parameters: {'learning_rate': 0.006927695522232818, 'batch_size': 56, 'seq_length': 3, 'dim_feedforward': 128, 'dropout': 0.08928069854708873, 'num_layers': 1}. Best is trial 98 with value: 2.964722487595293.\n"
     ]
    },
    {
     "name": "stdout",
     "output_type": "stream",
     "text": [
      "Using device: cuda\n",
      "Using device: cuda\n"
     ]
    },
    {
     "name": "stderr",
     "output_type": "stream",
     "text": [
      "[I 2025-09-30 10:46:49,694] Trial 99 finished with value: 3.0148265488252566 and parameters: {'learning_rate': 0.006623808036829936, 'batch_size': 56, 'seq_length': 3, 'dim_feedforward': 131, 'dropout': 0.09962325593578801, 'num_layers': 1}. Best is trial 98 with value: 2.964722487595293.\n"
     ]
    },
    {
     "name": "stdout",
     "output_type": "stream",
     "text": [
      "Using device: cuda\n"
     ]
    },
    {
     "name": "stderr",
     "output_type": "stream",
     "text": [
      "[I 2025-09-30 10:46:53,091] Trial 94 finished with value: 3.018744236619433 and parameters: {'learning_rate': 0.005209043400858779, 'batch_size': 57, 'seq_length': 3, 'dim_feedforward': 177, 'dropout': 0.08936284506851914, 'num_layers': 1}. Best is trial 98 with value: 2.964722487595293.\n"
     ]
    },
    {
     "data": {
      "text/plain": [
       "{'learning_rate': 0.006927695522232818,\n",
       " 'batch_size': 56,\n",
       " 'seq_length': 3,\n",
       " 'dim_feedforward': 128,\n",
       " 'dropout': 0.08928069854708873,\n",
       " 'num_layers': 1}"
      ]
     },
     "execution_count": 6,
     "metadata": {},
     "output_type": "execute_result"
    }
   ],
   "source": [
    "def objective3(trial):\n",
    "    # Suggest hyperparameters\n",
    "    # Restrict d_model and nhead to best from first optuna to get better insights (no inf)\n",
    "    d_model = 64\n",
    "    nhead = 4\n",
    "    \n",
    "\n",
    "    params = {\n",
    "        'learning_rate': trial.suggest_float(\"learning_rate\", 1e-4, 1e-2, log=True),\n",
    "        'batch_size': trial.suggest_int(\"batch_size\", 8, 64),\n",
    "        'seq_length': trial.suggest_int(\"seq_length\", 3, 21),\n",
    "        'transformer_encoder_layer_params': {\n",
    "            'd_model': d_model,\n",
    "            'nhead': nhead,\n",
    "            'dim_feedforward': trial.suggest_int(\"dim_feedforward\", 128, 512),\n",
    "            'dropout': trial.suggest_float(\"dropout\", 0.0, 0.1),\n",
    "            'activation': 'relu'\n",
    "        },\n",
    "        'transformer_layer_params': {\n",
    "            'num_layers': trial.suggest_int(\"num_layers\", 1, 5),\n",
    "        },\n",
    "        'dataset': '2016-2019',\n",
    "        'train_test_split': 'prior:2019',\n",
    "        'features': ['sum_30_min_demand'] + feature_names,\n",
    "        'visualise': False,\n",
    "    }\n",
    "    \n",
    "    return median_mape(params)\n",
    "\n",
    "study = optuna.create_study(storage=\"sqlite:///db.sqlite3\", study_name=\"2016_2019+all_features+prior:2019+5runs\", load_if_exists=True)\n",
    "study.optimize(objective3, n_trials=100, n_jobs=5)\n",
    "\n",
    "study.best_params"
   ]
  },
  {
   "cell_type": "code",
   "execution_count": 2,
   "id": "4e985abe",
   "metadata": {},
   "outputs": [
    {
     "name": "stderr",
     "output_type": "stream",
     "text": [
      "[I 2025-09-30 11:00:43,264] Using an existing study with name '2016_2019+sunlight_precipitation+prior:2019+5runs' instead of creating a new one.\n",
      "[I 2025-09-30 11:03:14,068] Trial 5 finished with value: 3.3521779817646973 and parameters: {'learning_rate': 0.0003144995895281153, 'batch_size': 33, 'seq_length': 18, 'dim_feedforward': 447, 'dropout': 0.09972828946414458, 'num_layers': 5}. Best is trial 5 with value: 3.3521779817646973.\n",
      "[I 2025-09-30 11:03:56,115] Trial 6 finished with value: 3.215110882080167 and parameters: {'learning_rate': 0.0005016988608835774, 'batch_size': 26, 'seq_length': 9, 'dim_feedforward': 316, 'dropout': 0.03986945130763411, 'num_layers': 3}. Best is trial 6 with value: 3.215110882080167.\n",
      "[I 2025-09-30 11:05:08,578] Trial 10 finished with value: 3.243127719450048 and parameters: {'learning_rate': 0.00405119218860763, 'batch_size': 31, 'seq_length': 10, 'dim_feedforward': 253, 'dropout': 0.02121794642786904, 'num_layers': 2}. Best is trial 6 with value: 3.215110882080167.\n",
      "[I 2025-09-30 11:05:52,364] Trial 12 finished with value: 3.3238636154653647 and parameters: {'learning_rate': 0.0008706289987100731, 'batch_size': 60, 'seq_length': 9, 'dim_feedforward': 276, 'dropout': 0.06621477635116098, 'num_layers': 2}. Best is trial 6 with value: 3.215110882080167.\n",
      "[I 2025-09-30 11:06:25,389] Trial 8 finished with value: 3.4924902946510668 and parameters: {'learning_rate': 0.00046428352259798503, 'batch_size': 16, 'seq_length': 11, 'dim_feedforward': 182, 'dropout': 0.014868695862366978, 'num_layers': 2}. Best is trial 6 with value: 3.215110882080167.\n",
      "[I 2025-09-30 11:07:08,854] Trial 11 finished with value: 3.440939427028726 and parameters: {'learning_rate': 0.0003226106307738766, 'batch_size': 28, 'seq_length': 8, 'dim_feedforward': 490, 'dropout': 0.02891583970331989, 'num_layers': 4}. Best is trial 6 with value: 3.215110882080167.\n",
      "[I 2025-09-30 11:07:28,943] Trial 9 finished with value: 3.251096135910402 and parameters: {'learning_rate': 0.0022595582506958214, 'batch_size': 34, 'seq_length': 18, 'dim_feedforward': 389, 'dropout': 0.09948401668467517, 'num_layers': 2}. Best is trial 6 with value: 3.215110882080167.\n",
      "[I 2025-09-30 11:08:06,679] Trial 7 finished with value: 3.3405605721285507 and parameters: {'learning_rate': 0.0013555723153704402, 'batch_size': 33, 'seq_length': 15, 'dim_feedforward': 509, 'dropout': 0.013112495015901572, 'num_layers': 1}. Best is trial 6 with value: 3.215110882080167.\n",
      "[I 2025-09-30 11:08:31,901] Trial 14 finished with value: 3.1933707263365196 and parameters: {'learning_rate': 0.0013977639786962104, 'batch_size': 63, 'seq_length': 14, 'dim_feedforward': 462, 'dropout': 0.06681124133839803, 'num_layers': 1}. Best is trial 14 with value: 3.1933707263365196.\n",
      "[I 2025-09-30 11:09:20,454] Trial 13 finished with value: 3.405275962309943 and parameters: {'learning_rate': 0.0001538520888909138, 'batch_size': 32, 'seq_length': 21, 'dim_feedforward': 166, 'dropout': 0.04651648484589797, 'num_layers': 4}. Best is trial 14 with value: 3.1933707263365196.\n",
      "[I 2025-09-30 11:10:14,406] Trial 19 finished with value: 2.998494414600148 and parameters: {'learning_rate': 0.009492783922540018, 'batch_size': 61, 'seq_length': 3, 'dim_feedforward': 396, 'dropout': 0.07079982464822425, 'num_layers': 1}. Best is trial 19 with value: 2.998494414600148.\n",
      "[I 2025-09-30 11:10:35,711] Trial 15 finished with value: 3.3615439931324866 and parameters: {'learning_rate': 0.0006557609393083693, 'batch_size': 55, 'seq_length': 21, 'dim_feedforward': 455, 'dropout': 0.053978880464148116, 'num_layers': 5}. Best is trial 19 with value: 2.998494414600148.\n",
      "[I 2025-09-30 11:11:24,827] Trial 20 finished with value: 3.0033207341937307 and parameters: {'learning_rate': 0.009280296792419299, 'batch_size': 64, 'seq_length': 4, 'dim_feedforward': 409, 'dropout': 0.07107807043471072, 'num_layers': 1}. Best is trial 19 with value: 2.998494414600148.\n",
      "[I 2025-09-30 11:11:52,715] Trial 21 finished with value: 3.015758287863094 and parameters: {'learning_rate': 0.009629031392456102, 'batch_size': 49, 'seq_length': 3, 'dim_feedforward': 373, 'dropout': 0.07667951111627476, 'num_layers': 1}. Best is trial 19 with value: 2.998494414600148.\n",
      "[I 2025-09-30 11:12:26,807] Trial 16 finished with value: 3.4049737575459496 and parameters: {'learning_rate': 0.0014878895619287874, 'batch_size': 49, 'seq_length': 16, 'dim_feedforward': 213, 'dropout': 0.02998305894311375, 'num_layers': 2}. Best is trial 19 with value: 2.998494414600148.\n",
      "[I 2025-09-30 11:12:47,769] Trial 22 finished with value: 2.940326019284356 and parameters: {'learning_rate': 0.009242368334075698, 'batch_size': 49, 'seq_length': 3, 'dim_feedforward': 376, 'dropout': 0.07987053633754967, 'num_layers': 1}. Best is trial 22 with value: 2.940326019284356.\n",
      "[I 2025-09-30 11:13:28,070] Trial 23 finished with value: 2.9679943117222347 and parameters: {'learning_rate': 0.009125604702696124, 'batch_size': 46, 'seq_length': 3, 'dim_feedforward': 382, 'dropout': 0.08161493140389472, 'num_layers': 1}. Best is trial 22 with value: 2.940326019284356.\n",
      "[I 2025-09-30 11:15:05,551] Trial 25 finished with value: 3.1803058614933204 and parameters: {'learning_rate': 0.004522306114289566, 'batch_size': 44, 'seq_length': 5, 'dim_feedforward': 342, 'dropout': 0.08442098602721676, 'num_layers': 3}. Best is trial 22 with value: 2.940326019284356.\n",
      "[I 2025-09-30 11:16:08,401] Trial 26 finished with value: 3.190682650507147 and parameters: {'learning_rate': 0.0034670834550437507, 'batch_size': 42, 'seq_length': 6, 'dim_feedforward': 341, 'dropout': 0.0868921183430756, 'num_layers': 3}. Best is trial 22 with value: 2.940326019284356.\n",
      "[I 2025-09-30 11:17:24,934] Trial 27 finished with value: 3.2130370191331767 and parameters: {'learning_rate': 0.004530569199551881, 'batch_size': 43, 'seq_length': 6, 'dim_feedforward': 309, 'dropout': 0.0883757960443199, 'num_layers': 3}. Best is trial 22 with value: 2.940326019284356.\n",
      "[I 2025-09-30 11:17:45,774] Trial 18 finished with value: 7.071206535302264 and parameters: {'learning_rate': 0.004333126456188363, 'batch_size': 18, 'seq_length': 6, 'dim_feedforward': 246, 'dropout': 0.0333861590192633, 'num_layers': 5}. Best is trial 22 with value: 2.940326019284356.\n",
      "[I 2025-09-30 11:18:19,462] Trial 29 finished with value: 3.0060493959727137 and parameters: {'learning_rate': 0.005791900566629895, 'batch_size': 53, 'seq_length': 7, 'dim_feedforward': 420, 'dropout': 0.05549829141667598, 'num_layers': 1}. Best is trial 22 with value: 2.940326019284356.\n",
      "[I 2025-09-30 11:18:28,923] Trial 24 finished with value: 3.014778404794925 and parameters: {'learning_rate': 0.0074393364582823855, 'batch_size': 45, 'seq_length': 3, 'dim_feedforward': 371, 'dropout': 0.08263513676200095, 'num_layers': 1}. Best is trial 22 with value: 2.940326019284356.\n",
      "[I 2025-09-30 11:19:12,007] Trial 31 finished with value: 3.0356698975154766 and parameters: {'learning_rate': 0.008607223323566043, 'batch_size': 56, 'seq_length': 3, 'dim_feedforward': 373, 'dropout': 0.0782458462104876, 'num_layers': 1}. Best is trial 22 with value: 2.940326019284356.\n",
      "[I 2025-09-30 11:19:17,056] Trial 30 finished with value: 3.0989411843799726 and parameters: {'learning_rate': 0.007148435753632954, 'batch_size': 55, 'seq_length': 3, 'dim_feedforward': 417, 'dropout': 0.05648637837931358, 'num_layers': 1}. Best is trial 22 with value: 2.940326019284356.\n",
      "[I 2025-09-30 11:20:17,946] Trial 33 finished with value: 3.329564463890586 and parameters: {'learning_rate': 0.0022490075084122215, 'batch_size': 38, 'seq_length': 5, 'dim_feedforward': 128, 'dropout': 0.06159405906620416, 'num_layers': 2}. Best is trial 22 with value: 2.940326019284356.\n",
      "[I 2025-09-30 11:20:24,650] Trial 32 finished with value: 3.0833112300097767 and parameters: {'learning_rate': 0.002581712457298543, 'batch_size': 56, 'seq_length': 3, 'dim_feedforward': 409, 'dropout': 0.06248266220706372, 'num_layers': 1}. Best is trial 22 with value: 2.940326019284356.\n",
      "[I 2025-09-30 11:21:34,402] Trial 34 finished with value: 3.153695430808533 and parameters: {'learning_rate': 0.002595294935969779, 'batch_size': 40, 'seq_length': 5, 'dim_feedforward': 356, 'dropout': 0.0626362640690067, 'num_layers': 2}. Best is trial 22 with value: 2.940326019284356.\n",
      "[I 2025-09-30 11:21:41,501] Trial 35 finished with value: 3.120008859650949 and parameters: {'learning_rate': 0.002601166726682117, 'batch_size': 49, 'seq_length': 5, 'dim_feedforward': 338, 'dropout': 0.09330556039047444, 'num_layers': 2}. Best is trial 22 with value: 2.940326019284356.\n",
      "[I 2025-09-30 11:22:33,497] Trial 38 finished with value: 3.145233759077181 and parameters: {'learning_rate': 0.005986517131324451, 'batch_size': 60, 'seq_length': 12, 'dim_feedforward': 294, 'dropout': 0.07397831645798829, 'num_layers': 1}. Best is trial 22 with value: 2.940326019284356.\n",
      "[I 2025-09-30 11:22:49,120] Trial 17 finished with value: 7.122143166849002 and parameters: {'learning_rate': 0.009779229776383454, 'batch_size': 19, 'seq_length': 18, 'dim_feedforward': 190, 'dropout': 0.09200869669968709, 'num_layers': 3}. Best is trial 22 with value: 2.940326019284356.\n",
      "[I 2025-09-30 11:23:09,690] Trial 37 finished with value: 3.1441086629160218 and parameters: {'learning_rate': 0.00605307574212437, 'batch_size': 49, 'seq_length': 13, 'dim_feedforward': 297, 'dropout': 0.0010893279753759547, 'num_layers': 1}. Best is trial 22 with value: 2.940326019284356.\n",
      "[I 2025-09-30 11:23:58,403] Trial 36 finished with value: 3.4041286503606583 and parameters: {'learning_rate': 0.006097140281482573, 'batch_size': 50, 'seq_length': 13, 'dim_feedforward': 346, 'dropout': 0.002280939933771736, 'num_layers': 2}. Best is trial 22 with value: 2.940326019284356.\n",
      "[I 2025-09-30 11:24:32,315] Trial 39 finished with value: 3.2420899248769475 and parameters: {'learning_rate': 0.00015338404808095315, 'batch_size': 52, 'seq_length': 7, 'dim_feedforward': 433, 'dropout': 0.09517097715081747, 'num_layers': 4}. Best is trial 22 with value: 2.940326019284356.\n",
      "[I 2025-09-30 11:24:42,881] Trial 28 finished with value: 3.0895892087700645 and parameters: {'learning_rate': 0.006078073438693036, 'batch_size': 8, 'seq_length': 7, 'dim_feedforward': 299, 'dropout': 0.05815443064071811, 'num_layers': 1}. Best is trial 22 with value: 2.940326019284356.\n",
      "[I 2025-09-30 11:24:43,634] Trial 41 finished with value: 3.052827900461185 and parameters: {'learning_rate': 0.006569059955695503, 'batch_size': 63, 'seq_length': 4, 'dim_feedforward': 404, 'dropout': 0.06989567230625046, 'num_layers': 1}. Best is trial 22 with value: 2.940326019284356.\n",
      "[I 2025-09-30 11:25:29,607] Trial 43 finished with value: 3.0114422425291614 and parameters: {'learning_rate': 0.00990066395302643, 'batch_size': 62, 'seq_length': 4, 'dim_feedforward': 390, 'dropout': 0.0716335360230409, 'num_layers': 1}. Best is trial 22 with value: 2.940326019284356.\n",
      "[I 2025-09-30 11:25:55,712] Trial 45 finished with value: 3.1430855810992093 and parameters: {'learning_rate': 0.0033869307076609687, 'batch_size': 61, 'seq_length': 4, 'dim_feedforward': 388, 'dropout': 0.04517873442328674, 'num_layers': 1}. Best is trial 22 with value: 2.940326019284356.\n",
      "[I 2025-09-30 11:26:00,334] Trial 44 finished with value: 2.9547069562700616 and parameters: {'learning_rate': 0.00971926950336264, 'batch_size': 64, 'seq_length': 4, 'dim_feedforward': 392, 'dropout': 0.07073385919833766, 'num_layers': 1}. Best is trial 22 with value: 2.940326019284356.\n",
      "[I 2025-09-30 11:26:00,991] Trial 42 finished with value: 2.9894773424950567 and parameters: {'learning_rate': 0.007953471235446317, 'batch_size': 63, 'seq_length': 4, 'dim_feedforward': 434, 'dropout': 0.07178268387286676, 'num_layers': 1}. Best is trial 22 with value: 2.940326019284356.\n",
      "[I 2025-09-30 11:27:22,302] Trial 48 finished with value: 3.2778104863138555 and parameters: {'learning_rate': 0.001824081261825981, 'batch_size': 59, 'seq_length': 8, 'dim_feedforward': 434, 'dropout': 0.07921175233567647, 'num_layers': 2}. Best is trial 22 with value: 2.940326019284356.\n",
      "[I 2025-09-30 11:27:30,753] Trial 46 finished with value: 3.1486240396020095 and parameters: {'learning_rate': 0.008027545542646402, 'batch_size': 59, 'seq_length': 4, 'dim_feedforward': 478, 'dropout': 0.04614976679400865, 'num_layers': 2}. Best is trial 22 with value: 2.940326019284356.\n",
      "[I 2025-09-30 11:27:33,877] Trial 40 finished with value: 3.005216819608646 and parameters: {'learning_rate': 0.006580852067867973, 'batch_size': 64, 'seq_length': 4, 'dim_feedforward': 437, 'dropout': 0.07313129699101215, 'num_layers': 1}. Best is trial 22 with value: 2.940326019284356.\n",
      "[I 2025-09-30 11:28:20,444] Trial 51 finished with value: 3.137880393548023 and parameters: {'learning_rate': 0.005077551302945122, 'batch_size': 58, 'seq_length': 10, 'dim_feedforward': 446, 'dropout': 0.0807114671990491, 'num_layers': 1}. Best is trial 22 with value: 2.940326019284356.\n",
      "[I 2025-09-30 11:28:43,765] Trial 47 finished with value: 3.209865659336254 and parameters: {'learning_rate': 0.00010075932139126545, 'batch_size': 58, 'seq_length': 10, 'dim_feedforward': 479, 'dropout': 0.07918434728235171, 'num_layers': 2}. Best is trial 22 with value: 2.940326019284356.\n",
      "[I 2025-09-30 11:28:53,456] Trial 50 finished with value: 2.9581410957262784 and parameters: {'learning_rate': 0.008052118998481753, 'batch_size': 58, 'seq_length': 4, 'dim_feedforward': 465, 'dropout': 0.07992838029749877, 'num_layers': 1}. Best is trial 22 with value: 2.940326019284356.\n",
      "[I 2025-09-30 11:29:14,636] Trial 53 finished with value: 3.2327780867944607 and parameters: {'learning_rate': 0.0033615617851433725, 'batch_size': 52, 'seq_length': 6, 'dim_feedforward': 501, 'dropout': 0.06629769650884824, 'num_layers': 2}. Best is trial 22 with value: 2.940326019284356.\n",
      "[I 2025-09-30 11:29:53,894] Trial 56 finished with value: 3.240793391886555 and parameters: {'learning_rate': 0.00037998311613878465, 'batch_size': 46, 'seq_length': 8, 'dim_feedforward': 463, 'dropout': 0.08832973703325099, 'num_layers': 1}. Best is trial 22 with value: 2.940326019284356.\n",
      "[I 2025-09-30 11:30:02,009] Trial 49 finished with value: 3.1383102007280126 and parameters: {'learning_rate': 0.005046688312733561, 'batch_size': 58, 'seq_length': 8, 'dim_feedforward': 480, 'dropout': 0.07959763014564561, 'num_layers': 2}. Best is trial 22 with value: 2.940326019284356.\n",
      "[I 2025-09-30 11:30:04,756] Trial 54 finished with value: 3.0690740975167476 and parameters: {'learning_rate': 0.003476886689178416, 'batch_size': 46, 'seq_length': 6, 'dim_feedforward': 387, 'dropout': 0.09901313125882932, 'num_layers': 1}. Best is trial 22 with value: 2.940326019284356.\n",
      "[I 2025-09-30 11:30:20,230] Trial 55 finished with value: 2.9501932829662554 and parameters: {'learning_rate': 0.003484693853561115, 'batch_size': 35, 'seq_length': 6, 'dim_feedforward': 490, 'dropout': 0.09714413236174178, 'num_layers': 1}. Best is trial 22 with value: 2.940326019284356.\n",
      "[I 2025-09-30 11:31:47,549] Trial 58 finished with value: 3.265330983848649 and parameters: {'learning_rate': 0.00110094849045587, 'batch_size': 47, 'seq_length': 16, 'dim_feedforward': 363, 'dropout': 0.08604744671973297, 'num_layers': 1}. Best is trial 22 with value: 2.940326019284356.\n",
      "[I 2025-09-30 11:31:51,207] Trial 57 finished with value: 2.961646022378404 and parameters: {'learning_rate': 0.007879322050548525, 'batch_size': 25, 'seq_length': 5, 'dim_feedforward': 470, 'dropout': 0.09960324282825264, 'num_layers': 1}. Best is trial 22 with value: 2.940326019284356.\n",
      "[I 2025-09-30 11:32:05,994] Trial 52 finished with value: 3.1527406981090884 and parameters: {'learning_rate': 0.00011049541646380094, 'batch_size': 58, 'seq_length': 9, 'dim_feedforward': 471, 'dropout': 0.07953054007957877, 'num_layers': 1}. Best is trial 22 with value: 2.940326019284356.\n",
      "[I 2025-09-30 11:32:11,356] Trial 60 finished with value: 2.974237099820012 and parameters: {'learning_rate': 0.007808516885887919, 'batch_size': 29, 'seq_length': 5, 'dim_feedforward': 461, 'dropout': 0.0976852279323147, 'num_layers': 1}. Best is trial 22 with value: 2.940326019284356.\n",
      "[I 2025-09-30 11:32:12,089] Trial 59 finished with value: 3.0571784508588755 and parameters: {'learning_rate': 0.007547289069238573, 'batch_size': 35, 'seq_length': 16, 'dim_feedforward': 511, 'dropout': 0.08483154718847882, 'num_layers': 1}. Best is trial 22 with value: 2.940326019284356.\n",
      "[I 2025-09-30 11:33:26,470] Trial 62 finished with value: 2.9788541058243463 and parameters: {'learning_rate': 0.007836674591313408, 'batch_size': 27, 'seq_length': 5, 'dim_feedforward': 507, 'dropout': 0.0998446386430566, 'num_layers': 1}. Best is trial 22 with value: 2.940326019284356.\n",
      "[I 2025-09-30 11:34:44,368] Trial 66 finished with value: 2.994422796835231 and parameters: {'learning_rate': 0.005055545941213997, 'batch_size': 24, 'seq_length': 3, 'dim_feedforward': 494, 'dropout': 0.09416496914521823, 'num_layers': 1}. Best is trial 22 with value: 2.940326019284356.\n",
      "[I 2025-09-30 11:34:54,939] Trial 64 finished with value: 8.019273281530403 and parameters: {'learning_rate': 0.0051061673925092, 'batch_size': 25, 'seq_length': 5, 'dim_feedforward': 503, 'dropout': 0.09064328526067547, 'num_layers': 5}. Best is trial 22 with value: 2.940326019284356.\n",
      "[I 2025-09-30 11:36:26,083] Trial 68 finished with value: 3.069130193486902 and parameters: {'learning_rate': 0.00392858479706554, 'batch_size': 31, 'seq_length': 7, 'dim_feedforward': 329, 'dropout': 0.08907082038064147, 'num_layers': 1}. Best is trial 22 with value: 2.940326019284356.\n",
      "[I 2025-09-30 11:36:58,193] Trial 67 finished with value: 6.7985800563259255 and parameters: {'learning_rate': 0.004007350429896837, 'batch_size': 24, 'seq_length': 7, 'dim_feedforward': 321, 'dropout': 0.09077948089573265, 'num_layers': 5}. Best is trial 22 with value: 2.940326019284356.\n",
      "[I 2025-09-30 11:38:35,687] Trial 70 finished with value: 3.017339470961756 and parameters: {'learning_rate': 0.00869613733207079, 'batch_size': 29, 'seq_length': 3, 'dim_feedforward': 453, 'dropout': 0.09840374839202275, 'num_layers': 1}. Best is trial 22 with value: 2.940326019284356.\n",
      "[I 2025-09-30 11:38:46,857] Trial 65 finished with value: 8.012047863881708 and parameters: {'learning_rate': 0.005225463411133936, 'batch_size': 21, 'seq_length': 20, 'dim_feedforward': 489, 'dropout': 0.09702807738688557, 'num_layers': 5}. Best is trial 22 with value: 2.940326019284356.\n",
      "[I 2025-09-30 11:38:58,335] Trial 69 finished with value: 3.1695450385518424 and parameters: {'learning_rate': 0.0005851937607482691, 'batch_size': 22, 'seq_length': 3, 'dim_feedforward': 425, 'dropout': 0.08366527882018042, 'num_layers': 2}. Best is trial 22 with value: 2.940326019284356.\n",
      "[I 2025-09-30 11:39:27,625] Trial 61 finished with value: 3.067125277687993 and parameters: {'learning_rate': 0.0074027192786673595, 'batch_size': 29, 'seq_length': 5, 'dim_feedforward': 510, 'dropout': 0.09092972451794383, 'num_layers': 1}. Best is trial 22 with value: 2.940326019284356.\n",
      "[I 2025-09-30 11:40:12,141] Trial 73 finished with value: 3.0586577111780384 and parameters: {'learning_rate': 0.009505987720829563, 'batch_size': 39, 'seq_length': 6, 'dim_feedforward': 466, 'dropout': 0.07564577392279968, 'num_layers': 1}. Best is trial 22 with value: 2.940326019284356.\n",
      "[I 2025-09-30 11:40:47,798] Trial 71 finished with value: 3.1384981188241126 and parameters: {'learning_rate': 0.009564788156948565, 'batch_size': 21, 'seq_length': 6, 'dim_feedforward': 462, 'dropout': 0.09570797277421426, 'num_layers': 1}. Best is trial 22 with value: 2.940326019284356.\n",
      "[I 2025-09-30 11:41:41,906] Trial 72 finished with value: 3.165784372312104 and parameters: {'learning_rate': 0.007210402073465453, 'batch_size': 33, 'seq_length': 6, 'dim_feedforward': 465, 'dropout': 0.08381593090569298, 'num_layers': 1}. Best is trial 22 with value: 2.940326019284356.\n",
      "[I 2025-09-30 11:42:21,004] Trial 75 finished with value: 6.87345938567203 and parameters: {'learning_rate': 0.006968485013743605, 'batch_size': 33, 'seq_length': 4, 'dim_feedforward': 455, 'dropout': 0.09532355030292763, 'num_layers': 4}. Best is trial 22 with value: 2.940326019284356.\n",
      "[I 2025-09-30 11:43:21,586] Trial 63 finished with value: 3.0352573037916146 and parameters: {'learning_rate': 0.007696353780222036, 'batch_size': 25, 'seq_length': 5, 'dim_feedforward': 458, 'dropout': 0.0974298602145111, 'num_layers': 1}. Best is trial 22 with value: 2.940326019284356.\n",
      "[I 2025-09-30 11:43:43,496] Trial 78 finished with value: 2.9671560061321633 and parameters: {'learning_rate': 0.008460912502655106, 'batch_size': 37, 'seq_length': 5, 'dim_feedforward': 255, 'dropout': 0.06854906266198244, 'num_layers': 1}. Best is trial 22 with value: 2.940326019284356.\n",
      "[I 2025-09-30 11:44:08,755] Trial 76 finished with value: 3.0423317632587437 and parameters: {'learning_rate': 0.006862550155074043, 'batch_size': 13, 'seq_length': 4, 'dim_feedforward': 245, 'dropout': 0.09321900546530502, 'num_layers': 1}. Best is trial 22 with value: 2.940326019284356.\n",
      "[I 2025-09-30 11:44:18,281] Trial 74 finished with value: 3.0881270213514322 and parameters: {'learning_rate': 0.009674176743865417, 'batch_size': 38, 'seq_length': 6, 'dim_feedforward': 464, 'dropout': 0.09480378277480245, 'num_layers': 1}. Best is trial 22 with value: 2.940326019284356.\n",
      "[I 2025-09-30 11:44:56,309] Trial 80 finished with value: 3.0217717941794477 and parameters: {'learning_rate': 0.008826056011632511, 'batch_size': 36, 'seq_length': 4, 'dim_feedforward': 256, 'dropout': 0.06685004152023902, 'num_layers': 1}. Best is trial 22 with value: 2.940326019284356.\n",
      "[I 2025-09-30 11:45:14,078] Trial 81 finished with value: 3.053272924262428 and parameters: {'learning_rate': 0.00868664253451371, 'batch_size': 37, 'seq_length': 3, 'dim_feedforward': 267, 'dropout': 0.051284558643116374, 'num_layers': 1}. Best is trial 22 with value: 2.940326019284356.\n",
      "[I 2025-09-30 11:45:38,616] Trial 77 finished with value: 5.5847229171580395 and parameters: {'learning_rate': 0.008619459276570589, 'batch_size': 37, 'seq_length': 4, 'dim_feedforward': 410, 'dropout': 0.05124015708452005, 'num_layers': 3}. Best is trial 22 with value: 2.940326019284356.\n",
      "[I 2025-09-30 11:46:27,712] Trial 83 finished with value: 2.991653721035569 and parameters: {'learning_rate': 0.005708680093133195, 'batch_size': 31, 'seq_length': 3, 'dim_feedforward': 222, 'dropout': 0.08662121802762895, 'num_layers': 1}. Best is trial 22 with value: 2.940326019284356.\n",
      "[I 2025-09-30 11:46:35,723] Trial 84 finished with value: 3.044597405016289 and parameters: {'learning_rate': 0.005680208413286833, 'batch_size': 31, 'seq_length': 5, 'dim_feedforward': 190, 'dropout': 0.07552625621084189, 'num_layers': 1}. Best is trial 22 with value: 2.940326019284356.\n",
      "[I 2025-09-30 11:47:29,169] Trial 87 finished with value: 3.017211283207411 and parameters: {'learning_rate': 0.004468250258501951, 'batch_size': 43, 'seq_length': 5, 'dim_feedforward': 378, 'dropout': 0.06936096185885134, 'num_layers': 1}. Best is trial 22 with value: 2.940326019284356.\n",
      "[I 2025-09-30 11:47:36,553] Trial 85 finished with value: 2.937620741190157 and parameters: {'learning_rate': 0.005749102129708673, 'batch_size': 43, 'seq_length': 5, 'dim_feedforward': 379, 'dropout': 0.06878088229261956, 'num_layers': 1}. Best is trial 85 with value: 2.937620741190157.\n",
      "[I 2025-09-30 11:47:53,741] Trial 86 finished with value: 2.9978830636281923 and parameters: {'learning_rate': 0.006191833062495381, 'batch_size': 41, 'seq_length': 5, 'dim_feedforward': 445, 'dropout': 0.07668066539027861, 'num_layers': 1}. Best is trial 85 with value: 2.937620741190157.\n",
      "[I 2025-09-30 11:49:00,198] Trial 82 finished with value: 2.9381618498925377 and parameters: {'learning_rate': 0.008567638589458063, 'batch_size': 36, 'seq_length': 3, 'dim_feedforward': 264, 'dropout': 0.06813274538814387, 'num_layers': 1}. Best is trial 85 with value: 2.937620741190157.\n",
      "[I 2025-09-30 11:49:11,605] Trial 88 finished with value: 3.1134498098602412 and parameters: {'learning_rate': 0.006428812311181721, 'batch_size': 42, 'seq_length': 7, 'dim_feedforward': 358, 'dropout': 0.08190901975606815, 'num_layers': 2}. Best is trial 85 with value: 2.937620741190157.\n",
      "[I 2025-09-30 11:49:15,088] Trial 90 finished with value: 3.012968917006956 and parameters: {'learning_rate': 0.006631389122872262, 'batch_size': 41, 'seq_length': 4, 'dim_feedforward': 355, 'dropout': 0.06405971410488262, 'num_layers': 1}. Best is trial 85 with value: 2.937620741190157.\n",
      "[I 2025-09-30 11:50:09,222] Trial 92 finished with value: 2.9971533106844546 and parameters: {'learning_rate': 0.008489723914729474, 'batch_size': 44, 'seq_length': 3, 'dim_feedforward': 273, 'dropout': 0.05985745473942948, 'num_layers': 1}. Best is trial 85 with value: 2.937620741190157.\n",
      "[I 2025-09-30 11:50:22,941] Trial 93 finished with value: 2.990354708203438 and parameters: {'learning_rate': 0.009963189149708706, 'batch_size': 54, 'seq_length': 3, 'dim_feedforward': 239, 'dropout': 0.05975676963976768, 'num_layers': 1}. Best is trial 85 with value: 2.937620741190157.\n",
      "[I 2025-09-30 11:50:36,165] Trial 89 finished with value: 3.0261241742892127 and parameters: {'learning_rate': 0.006589184592023932, 'batch_size': 41, 'seq_length': 3, 'dim_feedforward': 363, 'dropout': 0.06056556312057364, 'num_layers': 2}. Best is trial 85 with value: 2.937620741190157.\n",
      "[I 2025-09-30 11:50:45,676] Trial 94 finished with value: 3.057597106570743 and parameters: {'learning_rate': 0.0008176975392239055, 'batch_size': 51, 'seq_length': 3, 'dim_feedforward': 222, 'dropout': 0.06816415771297957, 'num_layers': 1}. Best is trial 85 with value: 2.937620741190157.\n",
      "[I 2025-09-30 11:50:56,084] Trial 79 finished with value: 3.0163957112821635 and parameters: {'learning_rate': 0.008692791701589493, 'batch_size': 37, 'seq_length': 4, 'dim_feedforward': 405, 'dropout': 0.08708992880620926, 'num_layers': 1}. Best is trial 85 with value: 2.937620741190157.\n",
      "[I 2025-09-30 11:51:08,304] Trial 95 finished with value: 2.992491808592919 and parameters: {'learning_rate': 0.005588877438880038, 'batch_size': 51, 'seq_length': 4, 'dim_feedforward': 306, 'dropout': 0.06819425968444937, 'num_layers': 1}. Best is trial 85 with value: 2.937620741190157.\n",
      "[I 2025-09-30 11:51:28,634] Trial 97 finished with value: 3.0531625955713224 and parameters: {'learning_rate': 0.0056070039502071475, 'batch_size': 48, 'seq_length': 4, 'dim_feedforward': 397, 'dropout': 0.07328800711474712, 'num_layers': 1}. Best is trial 85 with value: 2.937620741190157.\n",
      "[I 2025-09-30 11:52:11,830] Trial 99 finished with value: 3.126542387342036 and parameters: {'learning_rate': 0.0002300184676837974, 'batch_size': 47, 'seq_length': 6, 'dim_feedforward': 394, 'dropout': 0.07395614983130674, 'num_layers': 1}. Best is trial 85 with value: 2.937620741190157.\n",
      "[I 2025-09-30 11:52:12,138] Trial 96 finished with value: 3.145469595477128 and parameters: {'learning_rate': 0.0002657144144528353, 'batch_size': 48, 'seq_length': 4, 'dim_feedforward': 286, 'dropout': 0.06832313569931511, 'num_layers': 1}. Best is trial 85 with value: 2.937620741190157.\n",
      "[I 2025-09-30 11:52:50,038] Trial 91 finished with value: 3.003209798421294 and parameters: {'learning_rate': 0.009880636721669415, 'batch_size': 41, 'seq_length': 3, 'dim_feedforward': 284, 'dropout': 0.05963039168685908, 'num_layers': 1}. Best is trial 85 with value: 2.937620741190157.\n",
      "[I 2025-09-30 11:52:52,292] Trial 100 finished with value: 3.064548671619111 and parameters: {'learning_rate': 0.007821810294038894, 'batch_size': 34, 'seq_length': 5, 'dim_feedforward': 286, 'dropout': 0.06375091609473288, 'num_layers': 1}. Best is trial 85 with value: 2.937620741190157.\n",
      "[I 2025-09-30 11:53:46,424] Trial 101 finished with value: 3.020925632295329 and parameters: {'learning_rate': 0.007903211334762763, 'batch_size': 35, 'seq_length': 5, 'dim_feedforward': 422, 'dropout': 0.06465141026517664, 'num_layers': 1}. Best is trial 85 with value: 2.937620741190157.\n",
      "[I 2025-09-30 11:54:16,907] Trial 98 finished with value: 3.013406235911256 and parameters: {'learning_rate': 0.005657536301914225, 'batch_size': 48, 'seq_length': 4, 'dim_feedforward': 380, 'dropout': 0.07417525575840207, 'num_layers': 1}. Best is trial 85 with value: 2.937620741190157.\n",
      "[I 2025-09-30 11:54:17,591] Trial 104 finished with value: 3.055393555398699 and parameters: {'learning_rate': 0.007884117754636792, 'batch_size': 29, 'seq_length': 5, 'dim_feedforward': 382, 'dropout': 0.018061471634083295, 'num_layers': 1}. Best is trial 85 with value: 2.937620741190157.\n",
      "[I 2025-09-30 11:54:25,818] Trial 102 finished with value: 3.0466840989568746 and parameters: {'learning_rate': 0.007937105041435277, 'batch_size': 34, 'seq_length': 5, 'dim_feedforward': 381, 'dropout': 0.019565186244643297, 'num_layers': 1}. Best is trial 85 with value: 2.937620741190157.\n",
      "[I 2025-09-30 11:54:48,873] Trial 103 finished with value: 2.994762595426409 and parameters: {'learning_rate': 0.007905724878417054, 'batch_size': 28, 'seq_length': 5, 'dim_feedforward': 478, 'dropout': 0.0771039507347703, 'num_layers': 1}. Best is trial 85 with value: 2.937620741190157.\n"
     ]
    },
    {
     "data": {
      "text/plain": [
       "{'learning_rate': 0.005749102129708673,\n",
       " 'batch_size': 43,\n",
       " 'seq_length': 5,\n",
       " 'dim_feedforward': 379,\n",
       " 'dropout': 0.06878088229261956,\n",
       " 'num_layers': 1}"
      ]
     },
     "execution_count": 2,
     "metadata": {},
     "output_type": "execute_result"
    }
   ],
   "source": [
    "def objective4(trial):\n",
    "    # Suggest hyperparameters\n",
    "    # Restrict d_model and nhead to best from first optuna to get better insights (no inf)\n",
    "    d_model = 64\n",
    "    nhead = 4\n",
    "    \n",
    "\n",
    "    params = {\n",
    "        'learning_rate': trial.suggest_float(\"learning_rate\", 1e-4, 1e-2, log=True),\n",
    "        'batch_size': trial.suggest_int(\"batch_size\", 8, 64),\n",
    "        'seq_length': trial.suggest_int(\"seq_length\", 3, 21),\n",
    "        'transformer_encoder_layer_params': {\n",
    "            'd_model': d_model,\n",
    "            'nhead': nhead,\n",
    "            'dim_feedforward': trial.suggest_int(\"dim_feedforward\", 128, 512),\n",
    "            'dropout': trial.suggest_float(\"dropout\", 0.0, 0.1),\n",
    "            'activation': 'relu'\n",
    "        },\n",
    "        'transformer_layer_params': {\n",
    "            'num_layers': trial.suggest_int(\"num_layers\", 1, 5),\n",
    "        },\n",
    "        'dataset': '2016-2019',\n",
    "        'train_test_split': 'prior:2019',\n",
    "        'features': ['sum_30_min_demand'] + feature_names,\n",
    "        'visualise': False,\n",
    "    }\n",
    "    mapes = []\n",
    "    # sd of 0.08 on 100 runs, therefore average over 5 runs to reduce variance to ~0.04\n",
    "    for i in range(5):  # Average over 5 runs to reduce variance\n",
    "        mapes.append(train_model(params))\n",
    "    median_mape = sorted(mapes)[len(mapes) // 2]  # Use median to reduce impact of outliers\n",
    "    return median_mape\n",
    "\n",
    "study = optuna.create_study(storage=\"sqlite:///db.sqlite3\", study_name=\"2016_2019+sunlight_precipitation+prior:2019+5runs\", load_if_exists=True)\n",
    "study.optimize(objective4, n_trials=100, n_jobs=5)\n",
    "\n",
    "study.best_params"
   ]
  }
 ],
 "metadata": {
  "kernelspec": {
   "display_name": ".venv",
   "language": "python",
   "name": "python3"
  },
  "language_info": {
   "codemirror_mode": {
    "name": "ipython",
    "version": 3
   },
   "file_extension": ".py",
   "mimetype": "text/x-python",
   "name": "python",
   "nbconvert_exporter": "python",
   "pygments_lexer": "ipython3",
   "version": "3.13.5"
  }
 },
 "nbformat": 4,
 "nbformat_minor": 5
}
