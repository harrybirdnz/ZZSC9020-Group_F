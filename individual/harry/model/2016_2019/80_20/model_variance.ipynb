{
 "cells": [
  {
   "cell_type": "code",
   "execution_count": 3,
   "id": "af17514c",
   "metadata": {},
   "outputs": [],
   "source": [
    "#imports\n",
    "import sys\n",
    "sys.path.append('/home/harry/personal/uni/project/individual/harry/model')\n",
    "\n",
    "from model import *\n",
    "\n",
    "feature_names = [\n",
    "    'is_summer', 'is_autumn', 'is_winter', 'is_spring',\n",
    "    'is_monday', 'is_tuesday', 'is_wednesday', 'is_thursday', 'is_friday', 'is_saturday', 'is_sunday',\n",
    "    'is_weekday', 'is_weekend',\n",
    "    'is_jan', 'is_feb', 'is_mar', 'is_apr', 'is_may', 'is_jun', 'is_jul', 'is_aug', 'is_sep', 'is_oct', 'is_nov', 'is_dec',\n",
    "    'min_30_min_demand',\n",
    "    'avg_30_min_demand',\n",
    "    'max_30_min_demand',\n",
    "    'avg_temp',\n",
    "    'max_temp',\n",
    "    'min_temp',\n",
    "    'hd_next_24h',\n",
    "    'cd_next_24h'\n",
    "]"
   ]
  },
  {
   "cell_type": "code",
   "execution_count": null,
   "id": "4b2c3e26",
   "metadata": {},
   "outputs": [
    {
     "ename": "TypeError",
     "evalue": "unsupported operand type(s) for +: 'int' and 'tuple'",
     "output_type": "error",
     "traceback": [
      "\u001b[0;31m---------------------------------------------------------------------------\u001b[0m",
      "\u001b[0;31mTypeError\u001b[0m                                 Traceback (most recent call last)",
      "Cell \u001b[0;32mIn[4], line 27\u001b[0m\n\u001b[1;32m     25\u001b[0m \u001b[38;5;28;01mfor\u001b[39;00m i \u001b[38;5;129;01min\u001b[39;00m \u001b[38;5;28mrange\u001b[39m(\u001b[38;5;241m100\u001b[39m):\n\u001b[1;32m     26\u001b[0m     mapes\u001b[38;5;241m.\u001b[39mappend(train_model(params))\n\u001b[0;32m---> 27\u001b[0m \u001b[38;5;28mprint\u001b[39m(\u001b[38;5;124mf\u001b[39m\u001b[38;5;124m'\u001b[39m\u001b[38;5;124mAverage MAPE over 100 runs: \u001b[39m\u001b[38;5;132;01m{\u001b[39;00m\u001b[38;5;28;43msum\u001b[39;49m\u001b[43m(\u001b[49m\u001b[43mmapes\u001b[49m\u001b[43m)\u001b[49m\u001b[38;5;241m/\u001b[39m\u001b[38;5;28mlen\u001b[39m(mapes)\u001b[38;5;132;01m}\u001b[39;00m\u001b[38;5;124m'\u001b[39m)\n\u001b[1;32m     28\u001b[0m \u001b[38;5;28mprint\u001b[39m(\u001b[38;5;124mf\u001b[39m\u001b[38;5;124m'\u001b[39m\u001b[38;5;124mStandard Deviation of MAPE over 100 runs: \u001b[39m\u001b[38;5;132;01m{\u001b[39;00mstatistics\u001b[38;5;241m.\u001b[39mstdev(mapes)\u001b[38;5;132;01m}\u001b[39;00m\u001b[38;5;124m'\u001b[39m)\n\u001b[1;32m     29\u001b[0m \u001b[38;5;28mprint\u001b[39m(\u001b[38;5;124mf\u001b[39m\u001b[38;5;124m'\u001b[39m\u001b[38;5;124mRange of MAPE over 100 runs: \u001b[39m\u001b[38;5;132;01m{\u001b[39;00m\u001b[38;5;28mmax\u001b[39m(mapes)\u001b[38;5;250m \u001b[39m\u001b[38;5;241m-\u001b[39m\u001b[38;5;250m \u001b[39m\u001b[38;5;28mmin\u001b[39m(mapes)\u001b[38;5;132;01m}\u001b[39;00m\u001b[38;5;124m, from \u001b[39m\u001b[38;5;132;01m{\u001b[39;00m\u001b[38;5;28mmin\u001b[39m(mapes)\u001b[38;5;132;01m}\u001b[39;00m\u001b[38;5;124m to \u001b[39m\u001b[38;5;132;01m{\u001b[39;00m\u001b[38;5;28mmax\u001b[39m(mapes)\u001b[38;5;132;01m}\u001b[39;00m\u001b[38;5;124m'\u001b[39m)\n",
      "\u001b[0;31mTypeError\u001b[0m: unsupported operand type(s) for +: 'int' and 'tuple'"
     ]
    }
   ],
   "source": [
    "import statistics\n",
    "runs = 100\n",
    "params = {\n",
    "    'learning_rate': 0.0002882851523818458,\n",
    "    'batch_size': 29,\n",
    "    'seq_length': 10,\n",
    "    'transformer_encoder_layer_params': {\n",
    "        'd_model': 64,\n",
    "        'nhead': 4,\n",
    "        'dim_feedforward': 164,\n",
    "        'dropout': 0.07670173154434252,\n",
    "        'activation': 'relu'\n",
    "    },\n",
    "    'transformer_layer_params': {\n",
    "        'num_layers': 2,\n",
    "    },\n",
    "    'dataset': '2016-2019',\n",
    "    'train_test_split': '80:20',\n",
    "    'features': ['sum_30_min_demand'] + feature_names,\n",
    "    'num_epochs': num_epochs,\n",
    "    'patience': patience,\n",
    "    'visualise': False\n",
    "}\n",
    "mapes = []\n",
    "for i in range(100):\n",
    "    mape, results = train_model(params)\n",
    "    mapes.append(mape)\n",
    "print(f'Average MAPE over 100 runs: {sum(mapes)/len(mapes)}')\n",
    "print(f'Standard Deviation of MAPE over 100 runs: {statistics.stdev(mapes)}')\n",
    "print(f'Range of MAPE over 100 runs: {max(mapes) - min(mapes)}, from {min(mapes)} to {max(mapes)}')"
   ]
  },
  {
   "cell_type": "code",
   "execution_count": 6,
   "id": "bee3348d",
   "metadata": {},
   "outputs": [
    {
     "name": "stdout",
     "output_type": "stream",
     "text": [
      "Average MAPE over 100 runs: 2.535510824862226\n",
      "Standard Deviation of MAPE over 100 runs: 0.09564046792232013\n",
      "Range of MAPE over 100 runs: 0.4858396878334523, from 2.319153005714153 to 2.8049926935476055\n"
     ]
    }
   ],
   "source": [
    "tuples = mapes\n",
    "mapes2 = []\n",
    "for mape, results in tuples:\n",
    "    mapes2.append(mape)\n",
    "print(f'Average MAPE over 100 runs: {sum(mapes2)/len(mapes2)}')\n",
    "print(f'Standard Deviation of MAPE over 100 runs: {statistics.stdev(mapes2)}')\n",
    "print(f'Range of MAPE over 100 runs: {max(mapes2) - min(mapes2)}, from {min(mapes2)} to {max(mapes2)}')"
   ]
  },
  {
   "cell_type": "code",
   "execution_count": 7,
   "id": "361d20ed",
   "metadata": {},
   "outputs": [
    {
     "data": {
      "image/png": "[encoded data removed]",
      "text/plain": [
       "<Figure size 640x480 with 1 Axes>"
      ]
     },
     "metadata": {},
     "output_type": "display_data"
    }
   ],
   "source": [
    "# plot mapes histogram\n",
    "import matplotlib.pyplot as plt\n",
    "plt.hist(mapes2, bins=20)\n",
    "plt.xlabel('MAPE')\n",
    "plt.ylabel('Frequency')\n",
    "plt.show()"
   ]
  }
 ],
 "metadata": {
  "kernelspec": {
   "display_name": ".venv",
   "language": "python",
   "name": "python3"
  },
  "language_info": {
   "codemirror_mode": {
    "name": "ipython",
    "version": 3
   },
   "file_extension": ".py",
   "mimetype": "text/x-python",
   "name": "python",
   "nbconvert_exporter": "python",
   "pygments_lexer": "ipython3",
   "version": "3.10.12"
  }
 },
 "nbformat": 4,
 "nbformat_minor": 5
}
