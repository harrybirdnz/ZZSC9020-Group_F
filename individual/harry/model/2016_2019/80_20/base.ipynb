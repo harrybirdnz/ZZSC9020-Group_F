{
 "cells": [
  {
   "cell_type": "code",
   "execution_count": null,
   "id": "d43f7257",
   "metadata": {},
   "outputs": [
    {
     "ename": "KeyboardInterrupt",
     "evalue": "",
     "output_type": "error",
     "traceback": [
      "\u001b[0;31m---------------------------------------------------------------------------\u001b[0m",
      "\u001b[0;31mKeyboardInterrupt\u001b[0m                         Traceback (most recent call last)",
      "Cell \u001b[0;32mIn[1], line 26\u001b[0m\n\u001b[1;32m      4\u001b[0m \u001b[38;5;28;01mfrom\u001b[39;00m\u001b[38;5;250m \u001b[39m\u001b[38;5;21;01mmodel\u001b[39;00m\u001b[38;5;250m \u001b[39m\u001b[38;5;28;01mimport\u001b[39;00m \u001b[38;5;241m*\u001b[39m\n\u001b[1;32m      6\u001b[0m params \u001b[38;5;241m=\u001b[39m {\n\u001b[1;32m      7\u001b[0m         \u001b[38;5;124m'\u001b[39m\u001b[38;5;124mlearning_rate\u001b[39m\u001b[38;5;124m'\u001b[39m: \u001b[38;5;241m0.002\u001b[39m,\n\u001b[1;32m      8\u001b[0m         \u001b[38;5;124m'\u001b[39m\u001b[38;5;124mbatch_size\u001b[39m\u001b[38;5;124m'\u001b[39m: \u001b[38;5;241m16\u001b[39m,\n\u001b[0;32m   (...)\u001b[0m\n\u001b[1;32m     23\u001b[0m         \u001b[38;5;124m'\u001b[39m\u001b[38;5;124mvisualise\u001b[39m\u001b[38;5;124m'\u001b[39m: \u001b[38;5;28;01mTrue\u001b[39;00m\n\u001b[1;32m     24\u001b[0m     }\n\u001b[0;32m---> 26\u001b[0m \u001b[43mmedian_mape\u001b[49m\u001b[43m(\u001b[49m\u001b[43mparams\u001b[49m\u001b[43m)\u001b[49m\n",
      "File \u001b[0;32m~/personal/uni/project/individual/harry/model/model.py:284\u001b[0m, in \u001b[0;36mmedian_mape\u001b[0;34m(params)\u001b[0m\n\u001b[1;32m    282\u001b[0m \u001b[38;5;66;03m# sd of 0.08 on 100 runs, therefore average over 5 runs to reduce variance to ~0.04\u001b[39;00m\n\u001b[1;32m    283\u001b[0m \u001b[38;5;28;01mfor\u001b[39;00m i \u001b[38;5;129;01min\u001b[39;00m \u001b[38;5;28mrange\u001b[39m(\u001b[38;5;241m5\u001b[39m):  \u001b[38;5;66;03m# Average over 5 runs to reduce variance\u001b[39;00m\n\u001b[0;32m--> 284\u001b[0m     mape, results \u001b[38;5;241m=\u001b[39m \u001b[43mtrain_model\u001b[49m\u001b[43m(\u001b[49m\u001b[43mparams\u001b[49m\u001b[43m)\u001b[49m\n\u001b[1;32m    285\u001b[0m     mapes\u001b[38;5;241m.\u001b[39mappend(mape)\n\u001b[1;32m    286\u001b[0m     results_list\u001b[38;5;241m.\u001b[39mappend(results)\n",
      "File \u001b[0;32m~/personal/uni/project/individual/harry/model/model.py:272\u001b[0m, in \u001b[0;36mtrain_model\u001b[0;34m(params)\u001b[0m\n\u001b[1;32m    270\u001b[0m sequences, targets, datetimes, scaler_X \u001b[38;5;241m=\u001b[39m prepare_data(params)\n\u001b[1;32m    271\u001b[0m \u001b[38;5;66;03m# Get train/test splits from train_transformer_model\u001b[39;00m\n\u001b[0;32m--> 272\u001b[0m model, train_losses, val_losses, X_train, y_train, X_test, y_test \u001b[38;5;241m=\u001b[39m \u001b[43mtrain_transformer_model\u001b[49m\u001b[43m(\u001b[49m\n\u001b[1;32m    273\u001b[0m \u001b[43m    \u001b[49m\u001b[43msequences\u001b[49m\u001b[43m,\u001b[49m\u001b[43m \u001b[49m\u001b[43mtargets\u001b[49m\u001b[43m,\u001b[49m\u001b[43m \u001b[49m\u001b[43minput_dim\u001b[49m\u001b[43m,\u001b[49m\u001b[43m \u001b[49m\u001b[43mdatetimes\u001b[49m\u001b[43m,\u001b[49m\u001b[43m \u001b[49m\u001b[43mparams\u001b[49m\n\u001b[1;32m    274\u001b[0m \u001b[43m\u001b[49m\u001b[43m)\u001b[49m\n\u001b[1;32m    275\u001b[0m mape, results \u001b[38;5;241m=\u001b[39m postprocess(model, X_train, y_train, X_test, y_test, scaler_X, train_losses, val_losses, params, params[\u001b[38;5;124m'\u001b[39m\u001b[38;5;124mvisualise\u001b[39m\u001b[38;5;124m'\u001b[39m])\n\u001b[1;32m    276\u001b[0m \u001b[38;5;28;01mreturn\u001b[39;00m mape, results\n",
      "File \u001b[0;32m~/personal/uni/project/individual/harry/model/model.py:188\u001b[0m, in \u001b[0;36mtrain_transformer_model\u001b[0;34m(sequences, targets, input_dim, datetimes, params)\u001b[0m\n\u001b[1;32m    186\u001b[0m \u001b[38;5;28;01mwith\u001b[39;00m torch\u001b[38;5;241m.\u001b[39mno_grad():\n\u001b[1;32m    187\u001b[0m     \u001b[38;5;28;01mfor\u001b[39;00m batch_X, batch_y \u001b[38;5;129;01min\u001b[39;00m val_loader:\n\u001b[0;32m--> 188\u001b[0m         batch_X, batch_y \u001b[38;5;241m=\u001b[39m \u001b[43mbatch_X\u001b[49m\u001b[38;5;241;43m.\u001b[39;49m\u001b[43mto\u001b[49m\u001b[43m(\u001b[49m\u001b[43mdevice\u001b[49m\u001b[43m)\u001b[49m, batch_y\u001b[38;5;241m.\u001b[39mto(device)\n\u001b[1;32m    189\u001b[0m         predictions \u001b[38;5;241m=\u001b[39m model(batch_X)\n\u001b[1;32m    190\u001b[0m         loss \u001b[38;5;241m=\u001b[39m criterion(predictions, batch_y)\n",
      "\u001b[0;31mKeyboardInterrupt\u001b[0m: "
     ]
    }
   ],
   "source": [
    "#imports\n",
    "import sys\n",
    "sys.path.append('/home/harry/personal/uni/project/individual/harry/model')\n",
    "from model import *\n",
    "\n",
    "params = {\n",
    "        'learning_rate': 0.002,\n",
    "        'batch_size': 16,\n",
    "        'seq_length': 14,\n",
    "        'transformer_encoder_layer_params': {\n",
    "            'd_model': 64,\n",
    "            'nhead': 4,\n",
    "            'dim_feedforward': 276,\n",
    "            'dropout': 0.0579,\n",
    "            'activation': 'relu'\n",
    "        },\n",
    "        'transformer_layer_params': {\n",
    "            'num_layers': 3,\n",
    "        },\n",
    "        'dataset': '2016-2019',\n",
    "        'train_test_split': '80:20',\n",
    "        'features': ['sum_30_min_demand', 'avg_temp'],\n",
    "        'visualise': True\n",
    "    }\n",
    "\n",
    "median_model(params, 5)\n"
   ]
  }
 ],
 "metadata": {
  "kernelspec": {
   "display_name": ".venv",
   "language": "python",
   "name": "python3"
  },
  "language_info": {
   "codemirror_mode": {
    "name": "ipython",
    "version": 3
   },
   "file_extension": ".py",
   "mimetype": "text/x-python",
   "name": "python",
   "nbconvert_exporter": "python",
   "pygments_lexer": "ipython3",
   "version": "3.10.12"
  }
 },
 "nbformat": 4,
 "nbformat_minor": 5
}
