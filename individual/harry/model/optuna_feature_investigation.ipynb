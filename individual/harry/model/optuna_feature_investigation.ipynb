{
 "cells": [
  {
   "cell_type": "code",
   "execution_count": 2,
   "id": "900d5a72",
   "metadata": {},
   "outputs": [],
   "source": [
    "#imports\n",
    "import optuna\n",
    "from model import *"
   ]
  },
  {
   "cell_type": "code",
   "execution_count": 3,
   "id": "522e7340",
   "metadata": {},
   "outputs": [],
   "source": [
    "## Optuna Function\n",
    "def objective(trial):\n",
    "    # Detect device\n",
    "    device = torch.device('cuda' if torch.cuda.is_available() else 'cpu')\n",
    "\n",
    "    # Suggest hyperparameters\n",
    "    # Restrict d_model and nhead to best from first optuna to get better insights (no inf)\n",
    "    d_model = 48\n",
    "    nhead = 6\n",
    "    \n",
    "    seasons = trial.suggest_int(\"seasons\", 0, 1)\n",
    "    days = trial.suggest_int(\"weekdays\", 0, 1)\n",
    "    weekday_weekend = trial.suggest_int(\"weekday_weekend\", 0, 1)\n",
    "    months = trial.suggest_int(\"months\", 0, 1)\n",
    "    min_demand = trial.suggest_int(\"min_demand\", 0, 1)\n",
    "    avg_demand = trial.suggest_int(\"avg_demand\", 0, 1)\n",
    "    max_demand = trial.suggest_int(\"max_demand\", 0, 1)\n",
    "    avg_temp = trial.suggest_int(\"avg_temp\", 0, 1)\n",
    "    max_temp = trial.suggest_int(\"max_temp\", 0, 1)\n",
    "    min_temp = trial.suggest_int(\"min_temp\", 0, 1)\n",
    "    hd = trial.suggest_int(\"hd\", 0, 1)\n",
    "    cd = trial.suggest_int(\"cd\", 0, 1)\n",
    "    features = ['sum_30_min_demand']  # Always include sum_30_min_demand\n",
    "    cases = [seasons, days, weekday_weekend, months, min_demand, avg_demand, max_demand, avg_temp, max_temp, min_temp, hd, cd]\n",
    "    feature_names = [['is_summer', 'is_autumn', 'is_winter', 'is_spring'], \n",
    "                     ['is_monday', 'is_tuesday', 'is_wednesday', 'is_thursday', 'is_friday', 'is_saturday', 'is_sunday'], \n",
    "                     ['is_weekday', 'is_weekend'], \n",
    "                     ['is_jan', 'is_feb', 'is_mar', 'is_apr', 'is_may', 'is_jun', 'is_jul', 'is_aug', 'is_sep', 'is_oct', 'is_nov', 'is_dec'], \n",
    "                     ['min_30_min_demand'], \n",
    "                     ['avg_30_min_demand'], \n",
    "                     ['max_30_min_demand'], \n",
    "                     ['avg_temp'], \n",
    "                     ['max_temp'], \n",
    "                     ['min_temp'], \n",
    "                     ['hd_next_24h'], \n",
    "                     ['cd_next_24h']]\n",
    "    for i in range(len(cases)):\n",
    "        if cases[i] == 1:\n",
    "            features += feature_names[i]\n",
    "\n",
    "    params = {\n",
    "        'learning_rate': 0.002,\n",
    "        'batch_size': 16,\n",
    "        'seq_length': 14,\n",
    "        'transformer_encoder_layer_params': {\n",
    "            'd_model': d_model,\n",
    "            'nhead': nhead,\n",
    "            'dim_feedforward': 276,\n",
    "            'dropout': 0.0579,\n",
    "            'activation': 'relu'\n",
    "        },\n",
    "        'transformer_layer_params': {\n",
    "            'num_layers': 3,\n",
    "        },\n",
    "        'dataset': '2010-2019',\n",
    "        'train_test_split': '80:20',\n",
    "        'features': features\n",
    "    }\n",
    "\n",
    "    input_dim = len(params['features'])\n",
    "\n",
    "    sequences, targets, datetimes, scaler_X = prepare_data(params)\n",
    "\n",
    "    # Build and train model\n",
    "    model, train_losses, val_losses = train_transformer_model(sequences, targets, input_dim, datetimes, params)\n",
    "\n",
    "    # 5. Evaluate and plot results\n",
    "    device = torch.device('cuda' if torch.cuda.is_available() else 'cpu')\n",
    "    test_mask = pd.to_datetime(datetimes).dt.year == 2019\n",
    "    seq_mask = test_mask[params['seq_length']:].to_numpy()\n",
    "    predictions = evaluate_model(model, sequences[seq_mask], targets[seq_mask], device)\n",
    "\n",
    "    # Inverse transform predictions to original scale\n",
    "    # Create dummy array for inverse transform\n",
    "    dummy = np.zeros((len(predictions), input_dim))\n",
    "    dummy[:, 0] = predictions.flatten()\n",
    "    predictions_original = scaler_X.inverse_transform(dummy)[:, 0]\n",
    "\n",
    "    dummy[:, 0] = targets[seq_mask].numpy().flatten()\n",
    "    targets_original = scaler_X.inverse_transform(dummy)[:, 0]\n",
    "\n",
    "    # Calculate mae\n",
    "    mae = np.mean(np.abs(predictions_original - targets_original))\n",
    "    return mae"
   ]
  },
  {
   "cell_type": "code",
   "execution_count": 4,
   "id": "f764341f",
   "metadata": {},
   "outputs": [
    {
     "name": "stderr",
     "output_type": "stream",
     "text": [
      "[I 2025-09-27 11:11:23,833] Using an existing study with name 'feature_selection' instead of creating a new one.\n"
     ]
    },
    {
     "name": "stdout",
     "output_type": "stream",
     "text": [
      "Using device: cuda\n"
     ]
    },
    {
     "name": "stderr",
     "output_type": "stream",
     "text": [
      "[I 2025-09-27 11:12:53,465] Trial 47 finished with value: 11981.02781453678 and parameters: {'seasons': 1, 'weekdays': 0, 'weekday_weekend': 1, 'months': 0, 'min_demand': 1, 'avg_demand': 1, 'max_demand': 1, 'avg_temp': 1, 'max_temp': 1, 'min_temp': 0, 'hd': 0, 'cd': 0}. Best is trial 37 with value: 11393.430537639542.\n"
     ]
    },
    {
     "name": "stdout",
     "output_type": "stream",
     "text": [
      "Using device: cuda\n"
     ]
    },
    {
     "name": "stderr",
     "output_type": "stream",
     "text": [
      "[I 2025-09-27 11:14:29,693] Trial 48 finished with value: 12083.044497896271 and parameters: {'seasons': 1, 'weekdays': 0, 'weekday_weekend': 1, 'months': 0, 'min_demand': 1, 'avg_demand': 1, 'max_demand': 1, 'avg_temp': 1, 'max_temp': 1, 'min_temp': 0, 'hd': 0, 'cd': 0}. Best is trial 37 with value: 11393.430537639542.\n"
     ]
    },
    {
     "name": "stdout",
     "output_type": "stream",
     "text": [
      "Using device: cuda\n"
     ]
    },
    {
     "name": "stderr",
     "output_type": "stream",
     "text": [
      "[I 2025-09-27 11:15:17,674] Trial 49 finished with value: 12039.68701508802 and parameters: {'seasons': 1, 'weekdays': 0, 'weekday_weekend': 1, 'months': 0, 'min_demand': 1, 'avg_demand': 1, 'max_demand': 1, 'avg_temp': 1, 'max_temp': 1, 'min_temp': 0, 'hd': 0, 'cd': 0}. Best is trial 37 with value: 11393.430537639542.\n"
     ]
    },
    {
     "name": "stdout",
     "output_type": "stream",
     "text": [
      "Using device: cuda\n"
     ]
    },
    {
     "name": "stderr",
     "output_type": "stream",
     "text": [
      "[I 2025-09-27 11:16:14,710] Trial 50 finished with value: 13149.27645752748 and parameters: {'seasons': 0, 'weekdays': 0, 'weekday_weekend': 1, 'months': 0, 'min_demand': 1, 'avg_demand': 1, 'max_demand': 1, 'avg_temp': 1, 'max_temp': 0, 'min_temp': 0, 'hd': 0, 'cd': 1}. Best is trial 37 with value: 11393.430537639542.\n"
     ]
    },
    {
     "name": "stdout",
     "output_type": "stream",
     "text": [
      "Using device: cuda\n"
     ]
    },
    {
     "name": "stderr",
     "output_type": "stream",
     "text": [
      "[I 2025-09-27 11:16:55,051] Trial 51 finished with value: 11000.782831201763 and parameters: {'seasons': 1, 'weekdays': 0, 'weekday_weekend': 1, 'months': 0, 'min_demand': 0, 'avg_demand': 0, 'max_demand': 1, 'avg_temp': 1, 'max_temp': 1, 'min_temp': 0, 'hd': 0, 'cd': 0}. Best is trial 51 with value: 11000.782831201763.\n"
     ]
    },
    {
     "name": "stdout",
     "output_type": "stream",
     "text": [
      "Using device: cuda\n"
     ]
    },
    {
     "name": "stderr",
     "output_type": "stream",
     "text": [
      "[I 2025-09-27 11:17:46,446] Trial 52 finished with value: 13865.254083473103 and parameters: {'seasons': 1, 'weekdays': 0, 'weekday_weekend': 0, 'months': 1, 'min_demand': 0, 'avg_demand': 0, 'max_demand': 0, 'avg_temp': 1, 'max_temp': 1, 'min_temp': 1, 'hd': 1, 'cd': 0}. Best is trial 51 with value: 11000.782831201763.\n"
     ]
    },
    {
     "name": "stdout",
     "output_type": "stream",
     "text": [
      "Using device: cuda\n"
     ]
    },
    {
     "name": "stderr",
     "output_type": "stream",
     "text": [
      "[I 2025-09-27 11:18:25,871] Trial 53 finished with value: 11922.170108110942 and parameters: {'seasons': 1, 'weekdays': 0, 'weekday_weekend': 1, 'months': 0, 'min_demand': 0, 'avg_demand': 0, 'max_demand': 1, 'avg_temp': 1, 'max_temp': 1, 'min_temp': 0, 'hd': 0, 'cd': 0}. Best is trial 51 with value: 11000.782831201763.\n"
     ]
    },
    {
     "name": "stdout",
     "output_type": "stream",
     "text": [
      "Using device: cuda\n"
     ]
    },
    {
     "name": "stderr",
     "output_type": "stream",
     "text": [
      "[I 2025-09-27 11:19:29,979] Trial 54 finished with value: 11975.536043457356 and parameters: {'seasons': 1, 'weekdays': 0, 'weekday_weekend': 1, 'months': 0, 'min_demand': 0, 'avg_demand': 0, 'max_demand': 1, 'avg_temp': 1, 'max_temp': 1, 'min_temp': 0, 'hd': 0, 'cd': 0}. Best is trial 51 with value: 11000.782831201763.\n"
     ]
    },
    {
     "name": "stdout",
     "output_type": "stream",
     "text": [
      "Using device: cuda\n"
     ]
    },
    {
     "name": "stderr",
     "output_type": "stream",
     "text": [
      "[I 2025-09-27 11:20:18,216] Trial 55 finished with value: 12040.474085491345 and parameters: {'seasons': 1, 'weekdays': 0, 'weekday_weekend': 1, 'months': 0, 'min_demand': 0, 'avg_demand': 0, 'max_demand': 1, 'avg_temp': 1, 'max_temp': 1, 'min_temp': 0, 'hd': 0, 'cd': 0}. Best is trial 51 with value: 11000.782831201763.\n"
     ]
    },
    {
     "name": "stdout",
     "output_type": "stream",
     "text": [
      "Using device: cuda\n"
     ]
    },
    {
     "name": "stderr",
     "output_type": "stream",
     "text": [
      "[I 2025-09-27 11:21:06,988] Trial 56 finished with value: 12217.150580965857 and parameters: {'seasons': 1, 'weekdays': 0, 'weekday_weekend': 1, 'months': 0, 'min_demand': 1, 'avg_demand': 0, 'max_demand': 1, 'avg_temp': 1, 'max_temp': 1, 'min_temp': 0, 'hd': 0, 'cd': 0}. Best is trial 51 with value: 11000.782831201763.\n"
     ]
    },
    {
     "name": "stdout",
     "output_type": "stream",
     "text": [
      "Using device: cuda\n"
     ]
    },
    {
     "name": "stderr",
     "output_type": "stream",
     "text": [
      "[I 2025-09-27 11:21:51,234] Trial 57 finished with value: 12059.33669435099 and parameters: {'seasons': 1, 'weekdays': 0, 'weekday_weekend': 1, 'months': 0, 'min_demand': 0, 'avg_demand': 1, 'max_demand': 1, 'avg_temp': 1, 'max_temp': 1, 'min_temp': 0, 'hd': 0, 'cd': 0}. Best is trial 51 with value: 11000.782831201763.\n"
     ]
    },
    {
     "name": "stdout",
     "output_type": "stream",
     "text": [
      "Using device: cuda\n"
     ]
    },
    {
     "name": "stderr",
     "output_type": "stream",
     "text": [
      "[I 2025-09-27 11:22:56,024] Trial 58 finished with value: 12114.812000298145 and parameters: {'seasons': 1, 'weekdays': 0, 'weekday_weekend': 1, 'months': 0, 'min_demand': 1, 'avg_demand': 1, 'max_demand': 1, 'avg_temp': 1, 'max_temp': 1, 'min_temp': 0, 'hd': 0, 'cd': 0}. Best is trial 51 with value: 11000.782831201763.\n"
     ]
    },
    {
     "name": "stdout",
     "output_type": "stream",
     "text": [
      "Using device: cuda\n"
     ]
    },
    {
     "name": "stderr",
     "output_type": "stream",
     "text": [
      "[I 2025-09-27 11:23:53,725] Trial 59 finished with value: 11914.015656239655 and parameters: {'seasons': 1, 'weekdays': 0, 'weekday_weekend': 1, 'months': 0, 'min_demand': 1, 'avg_demand': 1, 'max_demand': 1, 'avg_temp': 1, 'max_temp': 1, 'min_temp': 0, 'hd': 0, 'cd': 0}. Best is trial 51 with value: 11000.782831201763.\n"
     ]
    },
    {
     "name": "stdout",
     "output_type": "stream",
     "text": [
      "Using device: cuda\n"
     ]
    },
    {
     "name": "stderr",
     "output_type": "stream",
     "text": [
      "[I 2025-09-27 11:24:46,988] Trial 60 finished with value: 12088.293165867071 and parameters: {'seasons': 1, 'weekdays': 0, 'weekday_weekend': 1, 'months': 0, 'min_demand': 1, 'avg_demand': 1, 'max_demand': 1, 'avg_temp': 0, 'max_temp': 1, 'min_temp': 0, 'hd': 0, 'cd': 0}. Best is trial 51 with value: 11000.782831201763.\n"
     ]
    },
    {
     "name": "stdout",
     "output_type": "stream",
     "text": [
      "Using device: cuda\n"
     ]
    },
    {
     "name": "stderr",
     "output_type": "stream",
     "text": [
      "[I 2025-09-27 11:25:53,387] Trial 61 finished with value: 12072.724765783114 and parameters: {'seasons': 1, 'weekdays': 0, 'weekday_weekend': 1, 'months': 0, 'min_demand': 1, 'avg_demand': 0, 'max_demand': 1, 'avg_temp': 1, 'max_temp': 1, 'min_temp': 0, 'hd': 0, 'cd': 0}. Best is trial 51 with value: 11000.782831201763.\n"
     ]
    },
    {
     "name": "stdout",
     "output_type": "stream",
     "text": [
      "Using device: cuda\n"
     ]
    },
    {
     "name": "stderr",
     "output_type": "stream",
     "text": [
      "[I 2025-09-27 11:26:36,945] Trial 62 finished with value: 12653.506055633017 and parameters: {'seasons': 1, 'weekdays': 1, 'weekday_weekend': 1, 'months': 0, 'min_demand': 1, 'avg_demand': 1, 'max_demand': 1, 'avg_temp': 1, 'max_temp': 1, 'min_temp': 0, 'hd': 0, 'cd': 0}. Best is trial 51 with value: 11000.782831201763.\n"
     ]
    },
    {
     "name": "stdout",
     "output_type": "stream",
     "text": [
      "Using device: cuda\n"
     ]
    },
    {
     "name": "stderr",
     "output_type": "stream",
     "text": [
      "[I 2025-09-27 11:27:27,857] Trial 63 finished with value: 12125.525211946595 and parameters: {'seasons': 1, 'weekdays': 0, 'weekday_weekend': 1, 'months': 0, 'min_demand': 1, 'avg_demand': 1, 'max_demand': 1, 'avg_temp': 1, 'max_temp': 1, 'min_temp': 0, 'hd': 0, 'cd': 0}. Best is trial 51 with value: 11000.782831201763.\n"
     ]
    },
    {
     "name": "stdout",
     "output_type": "stream",
     "text": [
      "Using device: cuda\n"
     ]
    },
    {
     "name": "stderr",
     "output_type": "stream",
     "text": [
      "[I 2025-09-27 11:28:13,423] Trial 64 finished with value: 11884.46727559009 and parameters: {'seasons': 1, 'weekdays': 0, 'weekday_weekend': 1, 'months': 0, 'min_demand': 1, 'avg_demand': 1, 'max_demand': 1, 'avg_temp': 1, 'max_temp': 1, 'min_temp': 0, 'hd': 0, 'cd': 0}. Best is trial 51 with value: 11000.782831201763.\n"
     ]
    },
    {
     "name": "stdout",
     "output_type": "stream",
     "text": [
      "Using device: cuda\n"
     ]
    },
    {
     "name": "stderr",
     "output_type": "stream",
     "text": [
      "[I 2025-09-27 11:28:57,792] Trial 65 finished with value: 11621.869198604714 and parameters: {'seasons': 1, 'weekdays': 0, 'weekday_weekend': 1, 'months': 0, 'min_demand': 1, 'avg_demand': 1, 'max_demand': 1, 'avg_temp': 1, 'max_temp': 1, 'min_temp': 0, 'hd': 0, 'cd': 0}. Best is trial 51 with value: 11000.782831201763.\n"
     ]
    },
    {
     "name": "stdout",
     "output_type": "stream",
     "text": [
      "Using device: cuda\n"
     ]
    },
    {
     "name": "stderr",
     "output_type": "stream",
     "text": [
      "[I 2025-09-27 11:29:43,517] Trial 66 finished with value: 12364.725502741281 and parameters: {'seasons': 1, 'weekdays': 0, 'weekday_weekend': 1, 'months': 0, 'min_demand': 1, 'avg_demand': 1, 'max_demand': 1, 'avg_temp': 1, 'max_temp': 1, 'min_temp': 0, 'hd': 0, 'cd': 0}. Best is trial 51 with value: 11000.782831201763.\n"
     ]
    },
    {
     "name": "stdout",
     "output_type": "stream",
     "text": [
      "Using device: cuda\n"
     ]
    },
    {
     "name": "stderr",
     "output_type": "stream",
     "text": [
      "[I 2025-09-27 11:30:34,590] Trial 67 finished with value: 12162.418132748206 and parameters: {'seasons': 1, 'weekdays': 0, 'weekday_weekend': 1, 'months': 0, 'min_demand': 1, 'avg_demand': 1, 'max_demand': 1, 'avg_temp': 1, 'max_temp': 1, 'min_temp': 0, 'hd': 0, 'cd': 0}. Best is trial 51 with value: 11000.782831201763.\n"
     ]
    },
    {
     "name": "stdout",
     "output_type": "stream",
     "text": [
      "Using device: cuda\n"
     ]
    },
    {
     "name": "stderr",
     "output_type": "stream",
     "text": [
      "[I 2025-09-27 11:31:26,871] Trial 68 finished with value: 11780.706751160022 and parameters: {'seasons': 1, 'weekdays': 0, 'weekday_weekend': 1, 'months': 0, 'min_demand': 1, 'avg_demand': 1, 'max_demand': 1, 'avg_temp': 1, 'max_temp': 1, 'min_temp': 0, 'hd': 0, 'cd': 0}. Best is trial 51 with value: 11000.782831201763.\n"
     ]
    },
    {
     "name": "stdout",
     "output_type": "stream",
     "text": [
      "Using device: cuda\n"
     ]
    },
    {
     "name": "stderr",
     "output_type": "stream",
     "text": [
      "[I 2025-09-27 11:32:20,823] Trial 69 finished with value: 12164.014670695547 and parameters: {'seasons': 1, 'weekdays': 0, 'weekday_weekend': 1, 'months': 0, 'min_demand': 1, 'avg_demand': 1, 'max_demand': 1, 'avg_temp': 1, 'max_temp': 1, 'min_temp': 0, 'hd': 0, 'cd': 0}. Best is trial 51 with value: 11000.782831201763.\n"
     ]
    },
    {
     "name": "stdout",
     "output_type": "stream",
     "text": [
      "Using device: cuda\n"
     ]
    },
    {
     "name": "stderr",
     "output_type": "stream",
     "text": [
      "[I 2025-09-27 11:33:17,945] Trial 70 finished with value: 12394.688252644777 and parameters: {'seasons': 1, 'weekdays': 0, 'weekday_weekend': 1, 'months': 0, 'min_demand': 1, 'avg_demand': 1, 'max_demand': 1, 'avg_temp': 1, 'max_temp': 1, 'min_temp': 0, 'hd': 0, 'cd': 0}. Best is trial 51 with value: 11000.782831201763.\n"
     ]
    },
    {
     "name": "stdout",
     "output_type": "stream",
     "text": [
      "Using device: cuda\n"
     ]
    },
    {
     "name": "stderr",
     "output_type": "stream",
     "text": [
      "[I 2025-09-27 11:34:16,594] Trial 71 finished with value: 12592.038228443647 and parameters: {'seasons': 1, 'weekdays': 0, 'weekday_weekend': 1, 'months': 0, 'min_demand': 1, 'avg_demand': 1, 'max_demand': 1, 'avg_temp': 1, 'max_temp': 1, 'min_temp': 0, 'hd': 0, 'cd': 0}. Best is trial 51 with value: 11000.782831201763.\n"
     ]
    },
    {
     "name": "stdout",
     "output_type": "stream",
     "text": [
      "Using device: cuda\n"
     ]
    },
    {
     "name": "stderr",
     "output_type": "stream",
     "text": [
      "[I 2025-09-27 11:35:20,206] Trial 72 finished with value: 12120.530445396249 and parameters: {'seasons': 1, 'weekdays': 0, 'weekday_weekend': 1, 'months': 0, 'min_demand': 1, 'avg_demand': 1, 'max_demand': 1, 'avg_temp': 1, 'max_temp': 1, 'min_temp': 0, 'hd': 0, 'cd': 0}. Best is trial 51 with value: 11000.782831201763.\n"
     ]
    },
    {
     "name": "stdout",
     "output_type": "stream",
     "text": [
      "Using device: cuda\n"
     ]
    },
    {
     "name": "stderr",
     "output_type": "stream",
     "text": [
      "[I 2025-09-27 11:36:13,467] Trial 73 finished with value: 12066.423315088156 and parameters: {'seasons': 1, 'weekdays': 0, 'weekday_weekend': 1, 'months': 0, 'min_demand': 1, 'avg_demand': 1, 'max_demand': 1, 'avg_temp': 1, 'max_temp': 1, 'min_temp': 0, 'hd': 0, 'cd': 0}. Best is trial 51 with value: 11000.782831201763.\n"
     ]
    },
    {
     "name": "stdout",
     "output_type": "stream",
     "text": [
      "Using device: cuda\n"
     ]
    },
    {
     "name": "stderr",
     "output_type": "stream",
     "text": [
      "[I 2025-09-27 11:37:03,973] Trial 74 finished with value: 12320.37243988915 and parameters: {'seasons': 1, 'weekdays': 0, 'weekday_weekend': 1, 'months': 0, 'min_demand': 1, 'avg_demand': 1, 'max_demand': 1, 'avg_temp': 1, 'max_temp': 1, 'min_temp': 0, 'hd': 0, 'cd': 0}. Best is trial 51 with value: 11000.782831201763.\n"
     ]
    },
    {
     "name": "stdout",
     "output_type": "stream",
     "text": [
      "Using device: cuda\n"
     ]
    },
    {
     "name": "stderr",
     "output_type": "stream",
     "text": [
      "[I 2025-09-27 11:37:55,971] Trial 75 finished with value: 12081.575208637933 and parameters: {'seasons': 1, 'weekdays': 0, 'weekday_weekend': 1, 'months': 0, 'min_demand': 1, 'avg_demand': 1, 'max_demand': 1, 'avg_temp': 1, 'max_temp': 1, 'min_temp': 0, 'hd': 0, 'cd': 0}. Best is trial 51 with value: 11000.782831201763.\n"
     ]
    },
    {
     "name": "stdout",
     "output_type": "stream",
     "text": [
      "Using device: cuda\n"
     ]
    },
    {
     "name": "stderr",
     "output_type": "stream",
     "text": [
      "[I 2025-09-27 11:38:57,562] Trial 76 finished with value: 12589.204757367212 and parameters: {'seasons': 1, 'weekdays': 0, 'weekday_weekend': 1, 'months': 0, 'min_demand': 1, 'avg_demand': 1, 'max_demand': 1, 'avg_temp': 1, 'max_temp': 1, 'min_temp': 0, 'hd': 0, 'cd': 0}. Best is trial 51 with value: 11000.782831201763.\n"
     ]
    },
    {
     "name": "stdout",
     "output_type": "stream",
     "text": [
      "Using device: cuda\n"
     ]
    },
    {
     "name": "stderr",
     "output_type": "stream",
     "text": [
      "[I 2025-09-27 11:39:42,327] Trial 77 finished with value: 12306.057138620215 and parameters: {'seasons': 1, 'weekdays': 0, 'weekday_weekend': 1, 'months': 0, 'min_demand': 1, 'avg_demand': 1, 'max_demand': 1, 'avg_temp': 1, 'max_temp': 1, 'min_temp': 0, 'hd': 0, 'cd': 0}. Best is trial 51 with value: 11000.782831201763.\n"
     ]
    },
    {
     "name": "stdout",
     "output_type": "stream",
     "text": [
      "Using device: cuda\n"
     ]
    },
    {
     "name": "stderr",
     "output_type": "stream",
     "text": [
      "[I 2025-09-27 11:40:30,711] Trial 78 finished with value: 12115.433094016591 and parameters: {'seasons': 1, 'weekdays': 0, 'weekday_weekend': 1, 'months': 0, 'min_demand': 1, 'avg_demand': 1, 'max_demand': 1, 'avg_temp': 1, 'max_temp': 1, 'min_temp': 0, 'hd': 0, 'cd': 0}. Best is trial 51 with value: 11000.782831201763.\n"
     ]
    },
    {
     "name": "stdout",
     "output_type": "stream",
     "text": [
      "Using device: cuda\n"
     ]
    },
    {
     "name": "stderr",
     "output_type": "stream",
     "text": [
      "[I 2025-09-27 11:41:10,215] Trial 79 finished with value: 12432.140673390655 and parameters: {'seasons': 1, 'weekdays': 0, 'weekday_weekend': 1, 'months': 0, 'min_demand': 1, 'avg_demand': 1, 'max_demand': 1, 'avg_temp': 1, 'max_temp': 1, 'min_temp': 0, 'hd': 0, 'cd': 0}. Best is trial 51 with value: 11000.782831201763.\n"
     ]
    },
    {
     "name": "stdout",
     "output_type": "stream",
     "text": [
      "Using device: cuda\n"
     ]
    },
    {
     "name": "stderr",
     "output_type": "stream",
     "text": [
      "[I 2025-09-27 11:41:59,230] Trial 80 finished with value: 13804.219798266731 and parameters: {'seasons': 1, 'weekdays': 0, 'weekday_weekend': 0, 'months': 0, 'min_demand': 1, 'avg_demand': 1, 'max_demand': 0, 'avg_temp': 1, 'max_temp': 0, 'min_temp': 0, 'hd': 0, 'cd': 0}. Best is trial 51 with value: 11000.782831201763.\n"
     ]
    },
    {
     "name": "stdout",
     "output_type": "stream",
     "text": [
      "Using device: cuda\n"
     ]
    },
    {
     "name": "stderr",
     "output_type": "stream",
     "text": [
      "[I 2025-09-27 11:42:54,906] Trial 81 finished with value: 11300.276526399763 and parameters: {'seasons': 1, 'weekdays': 0, 'weekday_weekend': 1, 'months': 0, 'min_demand': 0, 'avg_demand': 1, 'max_demand': 1, 'avg_temp': 0, 'max_temp': 1, 'min_temp': 0, 'hd': 0, 'cd': 0}. Best is trial 51 with value: 11000.782831201763.\n"
     ]
    },
    {
     "name": "stdout",
     "output_type": "stream",
     "text": [
      "Using device: cuda\n"
     ]
    },
    {
     "name": "stderr",
     "output_type": "stream",
     "text": [
      "[I 2025-09-27 11:43:48,823] Trial 82 finished with value: 11118.350484138553 and parameters: {'seasons': 1, 'weekdays': 0, 'weekday_weekend': 1, 'months': 1, 'min_demand': 0, 'avg_demand': 1, 'max_demand': 1, 'avg_temp': 0, 'max_temp': 1, 'min_temp': 0, 'hd': 0, 'cd': 1}. Best is trial 51 with value: 11000.782831201763.\n"
     ]
    },
    {
     "name": "stdout",
     "output_type": "stream",
     "text": [
      "Using device: cuda\n"
     ]
    },
    {
     "name": "stderr",
     "output_type": "stream",
     "text": [
      "[I 2025-09-27 11:44:37,361] Trial 83 finished with value: 11520.597765183822 and parameters: {'seasons': 1, 'weekdays': 0, 'weekday_weekend': 1, 'months': 1, 'min_demand': 0, 'avg_demand': 1, 'max_demand': 1, 'avg_temp': 0, 'max_temp': 1, 'min_temp': 0, 'hd': 0, 'cd': 1}. Best is trial 51 with value: 11000.782831201763.\n"
     ]
    },
    {
     "name": "stdout",
     "output_type": "stream",
     "text": [
      "Using device: cuda\n"
     ]
    },
    {
     "name": "stderr",
     "output_type": "stream",
     "text": [
      "[I 2025-09-27 11:45:40,917] Trial 84 finished with value: 11678.466870618295 and parameters: {'seasons': 1, 'weekdays': 0, 'weekday_weekend': 1, 'months': 1, 'min_demand': 0, 'avg_demand': 1, 'max_demand': 1, 'avg_temp': 0, 'max_temp': 1, 'min_temp': 0, 'hd': 0, 'cd': 1}. Best is trial 51 with value: 11000.782831201763.\n"
     ]
    },
    {
     "name": "stdout",
     "output_type": "stream",
     "text": [
      "Using device: cuda\n"
     ]
    },
    {
     "name": "stderr",
     "output_type": "stream",
     "text": [
      "[I 2025-09-27 11:46:38,879] Trial 85 finished with value: 12159.552473703394 and parameters: {'seasons': 1, 'weekdays': 0, 'weekday_weekend': 1, 'months': 1, 'min_demand': 0, 'avg_demand': 1, 'max_demand': 1, 'avg_temp': 0, 'max_temp': 1, 'min_temp': 0, 'hd': 0, 'cd': 1}. Best is trial 51 with value: 11000.782831201763.\n"
     ]
    },
    {
     "name": "stdout",
     "output_type": "stream",
     "text": [
      "Using device: cuda\n"
     ]
    },
    {
     "name": "stderr",
     "output_type": "stream",
     "text": [
      "[I 2025-09-27 11:47:39,460] Trial 86 finished with value: 11082.051041722609 and parameters: {'seasons': 1, 'weekdays': 0, 'weekday_weekend': 1, 'months': 1, 'min_demand': 0, 'avg_demand': 1, 'max_demand': 1, 'avg_temp': 0, 'max_temp': 1, 'min_temp': 0, 'hd': 0, 'cd': 1}. Best is trial 51 with value: 11000.782831201763.\n"
     ]
    },
    {
     "name": "stdout",
     "output_type": "stream",
     "text": [
      "Using device: cuda\n"
     ]
    },
    {
     "name": "stderr",
     "output_type": "stream",
     "text": [
      "[I 2025-09-27 11:48:37,162] Trial 87 finished with value: 11517.441072941276 and parameters: {'seasons': 1, 'weekdays': 0, 'weekday_weekend': 1, 'months': 1, 'min_demand': 0, 'avg_demand': 1, 'max_demand': 1, 'avg_temp': 0, 'max_temp': 1, 'min_temp': 0, 'hd': 0, 'cd': 1}. Best is trial 51 with value: 11000.782831201763.\n"
     ]
    },
    {
     "name": "stdout",
     "output_type": "stream",
     "text": [
      "Using device: cuda\n"
     ]
    },
    {
     "name": "stderr",
     "output_type": "stream",
     "text": [
      "[I 2025-09-27 11:49:42,347] Trial 88 finished with value: 11642.939688463157 and parameters: {'seasons': 1, 'weekdays': 0, 'weekday_weekend': 1, 'months': 1, 'min_demand': 0, 'avg_demand': 1, 'max_demand': 1, 'avg_temp': 0, 'max_temp': 1, 'min_temp': 0, 'hd': 0, 'cd': 1}. Best is trial 51 with value: 11000.782831201763.\n"
     ]
    },
    {
     "name": "stdout",
     "output_type": "stream",
     "text": [
      "Using device: cuda\n"
     ]
    },
    {
     "name": "stderr",
     "output_type": "stream",
     "text": [
      "[I 2025-09-27 11:50:49,841] Trial 89 finished with value: 11533.496567207672 and parameters: {'seasons': 1, 'weekdays': 0, 'weekday_weekend': 1, 'months': 1, 'min_demand': 0, 'avg_demand': 1, 'max_demand': 1, 'avg_temp': 0, 'max_temp': 1, 'min_temp': 0, 'hd': 0, 'cd': 1}. Best is trial 51 with value: 11000.782831201763.\n"
     ]
    },
    {
     "name": "stdout",
     "output_type": "stream",
     "text": [
      "Using device: cuda\n"
     ]
    },
    {
     "name": "stderr",
     "output_type": "stream",
     "text": [
      "[I 2025-09-27 11:51:50,114] Trial 90 finished with value: 11914.615406240768 and parameters: {'seasons': 1, 'weekdays': 0, 'weekday_weekend': 1, 'months': 1, 'min_demand': 0, 'avg_demand': 1, 'max_demand': 1, 'avg_temp': 0, 'max_temp': 1, 'min_temp': 0, 'hd': 0, 'cd': 1}. Best is trial 51 with value: 11000.782831201763.\n"
     ]
    },
    {
     "name": "stdout",
     "output_type": "stream",
     "text": [
      "Using device: cuda\n"
     ]
    },
    {
     "name": "stderr",
     "output_type": "stream",
     "text": [
      "[I 2025-09-27 11:52:43,904] Trial 91 finished with value: 12200.11696547696 and parameters: {'seasons': 0, 'weekdays': 0, 'weekday_weekend': 1, 'months': 1, 'min_demand': 0, 'avg_demand': 1, 'max_demand': 1, 'avg_temp': 0, 'max_temp': 1, 'min_temp': 0, 'hd': 0, 'cd': 1}. Best is trial 51 with value: 11000.782831201763.\n"
     ]
    },
    {
     "name": "stdout",
     "output_type": "stream",
     "text": [
      "Using device: cuda\n"
     ]
    },
    {
     "name": "stderr",
     "output_type": "stream",
     "text": [
      "[I 2025-09-27 11:53:29,381] Trial 92 finished with value: 11476.579054941069 and parameters: {'seasons': 1, 'weekdays': 0, 'weekday_weekend': 1, 'months': 1, 'min_demand': 0, 'avg_demand': 0, 'max_demand': 1, 'avg_temp': 0, 'max_temp': 1, 'min_temp': 0, 'hd': 0, 'cd': 1}. Best is trial 51 with value: 11000.782831201763.\n"
     ]
    },
    {
     "name": "stdout",
     "output_type": "stream",
     "text": [
      "Using device: cuda\n"
     ]
    },
    {
     "name": "stderr",
     "output_type": "stream",
     "text": [
      "[I 2025-09-27 11:54:27,370] Trial 93 finished with value: 11208.724184525372 and parameters: {'seasons': 1, 'weekdays': 0, 'weekday_weekend': 1, 'months': 1, 'min_demand': 0, 'avg_demand': 0, 'max_demand': 1, 'avg_temp': 0, 'max_temp': 1, 'min_temp': 0, 'hd': 0, 'cd': 1}. Best is trial 51 with value: 11000.782831201763.\n"
     ]
    },
    {
     "name": "stdout",
     "output_type": "stream",
     "text": [
      "Using device: cuda\n"
     ]
    },
    {
     "name": "stderr",
     "output_type": "stream",
     "text": [
      "[I 2025-09-27 11:55:18,012] Trial 94 finished with value: 12424.695438561712 and parameters: {'seasons': 1, 'weekdays': 0, 'weekday_weekend': 1, 'months': 1, 'min_demand': 0, 'avg_demand': 0, 'max_demand': 1, 'avg_temp': 0, 'max_temp': 1, 'min_temp': 0, 'hd': 0, 'cd': 1}. Best is trial 51 with value: 11000.782831201763.\n"
     ]
    },
    {
     "name": "stdout",
     "output_type": "stream",
     "text": [
      "Using device: cuda\n"
     ]
    },
    {
     "name": "stderr",
     "output_type": "stream",
     "text": [
      "[I 2025-09-27 11:56:10,694] Trial 95 finished with value: 12156.399748411714 and parameters: {'seasons': 1, 'weekdays': 0, 'weekday_weekend': 1, 'months': 1, 'min_demand': 0, 'avg_demand': 0, 'max_demand': 1, 'avg_temp': 0, 'max_temp': 1, 'min_temp': 0, 'hd': 0, 'cd': 1}. Best is trial 51 with value: 11000.782831201763.\n"
     ]
    },
    {
     "name": "stdout",
     "output_type": "stream",
     "text": [
      "Using device: cuda\n"
     ]
    },
    {
     "name": "stderr",
     "output_type": "stream",
     "text": [
      "[I 2025-09-27 11:57:09,124] Trial 96 finished with value: 11167.107023671786 and parameters: {'seasons': 1, 'weekdays': 0, 'weekday_weekend': 1, 'months': 1, 'min_demand': 0, 'avg_demand': 0, 'max_demand': 1, 'avg_temp': 0, 'max_temp': 1, 'min_temp': 0, 'hd': 0, 'cd': 1}. Best is trial 51 with value: 11000.782831201763.\n"
     ]
    },
    {
     "name": "stdout",
     "output_type": "stream",
     "text": [
      "Using device: cuda\n"
     ]
    },
    {
     "name": "stderr",
     "output_type": "stream",
     "text": [
      "[I 2025-09-27 11:58:05,577] Trial 97 finished with value: 11775.995288561438 and parameters: {'seasons': 1, 'weekdays': 0, 'weekday_weekend': 1, 'months': 1, 'min_demand': 0, 'avg_demand': 0, 'max_demand': 1, 'avg_temp': 0, 'max_temp': 1, 'min_temp': 0, 'hd': 0, 'cd': 1}. Best is trial 51 with value: 11000.782831201763.\n"
     ]
    },
    {
     "name": "stdout",
     "output_type": "stream",
     "text": [
      "Using device: cuda\n"
     ]
    },
    {
     "name": "stderr",
     "output_type": "stream",
     "text": [
      "[I 2025-09-27 11:58:55,073] Trial 98 finished with value: 12048.591308313675 and parameters: {'seasons': 1, 'weekdays': 0, 'weekday_weekend': 1, 'months': 1, 'min_demand': 0, 'avg_demand': 0, 'max_demand': 1, 'avg_temp': 0, 'max_temp': 1, 'min_temp': 0, 'hd': 0, 'cd': 1}. Best is trial 51 with value: 11000.782831201763.\n"
     ]
    },
    {
     "name": "stdout",
     "output_type": "stream",
     "text": [
      "Using device: cuda\n"
     ]
    },
    {
     "name": "stderr",
     "output_type": "stream",
     "text": [
      "[I 2025-09-27 11:59:39,608] Trial 99 finished with value: 11580.781654969465 and parameters: {'seasons': 1, 'weekdays': 0, 'weekday_weekend': 1, 'months': 1, 'min_demand': 0, 'avg_demand': 0, 'max_demand': 1, 'avg_temp': 0, 'max_temp': 1, 'min_temp': 0, 'hd': 0, 'cd': 1}. Best is trial 51 with value: 11000.782831201763.\n"
     ]
    },
    {
     "name": "stdout",
     "output_type": "stream",
     "text": [
      "Using device: cuda\n"
     ]
    },
    {
     "name": "stderr",
     "output_type": "stream",
     "text": [
      "[I 2025-09-27 12:00:21,190] Trial 100 finished with value: 11530.251987789892 and parameters: {'seasons': 1, 'weekdays': 0, 'weekday_weekend': 1, 'months': 1, 'min_demand': 0, 'avg_demand': 0, 'max_demand': 1, 'avg_temp': 0, 'max_temp': 1, 'min_temp': 1, 'hd': 0, 'cd': 1}. Best is trial 51 with value: 11000.782831201763.\n"
     ]
    },
    {
     "name": "stdout",
     "output_type": "stream",
     "text": [
      "Using device: cuda\n"
     ]
    },
    {
     "name": "stderr",
     "output_type": "stream",
     "text": [
      "[I 2025-09-27 12:01:15,263] Trial 101 finished with value: 12121.173647714855 and parameters: {'seasons': 1, 'weekdays': 1, 'weekday_weekend': 1, 'months': 1, 'min_demand': 0, 'avg_demand': 0, 'max_demand': 1, 'avg_temp': 0, 'max_temp': 1, 'min_temp': 0, 'hd': 1, 'cd': 1}. Best is trial 51 with value: 11000.782831201763.\n"
     ]
    },
    {
     "name": "stdout",
     "output_type": "stream",
     "text": [
      "Using device: cuda\n"
     ]
    },
    {
     "name": "stderr",
     "output_type": "stream",
     "text": [
      "[I 2025-09-27 12:02:07,526] Trial 102 finished with value: 12166.230693622636 and parameters: {'seasons': 1, 'weekdays': 0, 'weekday_weekend': 1, 'months': 1, 'min_demand': 0, 'avg_demand': 0, 'max_demand': 1, 'avg_temp': 0, 'max_temp': 1, 'min_temp': 0, 'hd': 0, 'cd': 1}. Best is trial 51 with value: 11000.782831201763.\n"
     ]
    },
    {
     "name": "stdout",
     "output_type": "stream",
     "text": [
      "Using device: cuda\n"
     ]
    },
    {
     "name": "stderr",
     "output_type": "stream",
     "text": [
      "[I 2025-09-27 12:03:02,203] Trial 103 finished with value: 11445.102653923412 and parameters: {'seasons': 1, 'weekdays': 0, 'weekday_weekend': 1, 'months': 1, 'min_demand': 0, 'avg_demand': 0, 'max_demand': 1, 'avg_temp': 0, 'max_temp': 1, 'min_temp': 1, 'hd': 0, 'cd': 1}. Best is trial 51 with value: 11000.782831201763.\n"
     ]
    },
    {
     "name": "stdout",
     "output_type": "stream",
     "text": [
      "Using device: cuda\n"
     ]
    },
    {
     "name": "stderr",
     "output_type": "stream",
     "text": [
      "[I 2025-09-27 12:03:55,441] Trial 104 finished with value: 11755.829261381501 and parameters: {'seasons': 1, 'weekdays': 0, 'weekday_weekend': 1, 'months': 1, 'min_demand': 0, 'avg_demand': 0, 'max_demand': 1, 'avg_temp': 0, 'max_temp': 1, 'min_temp': 1, 'hd': 0, 'cd': 1}. Best is trial 51 with value: 11000.782831201763.\n"
     ]
    },
    {
     "name": "stdout",
     "output_type": "stream",
     "text": [
      "Using device: cuda\n"
     ]
    },
    {
     "name": "stderr",
     "output_type": "stream",
     "text": [
      "[I 2025-09-27 12:04:48,107] Trial 105 finished with value: 11701.04392501215 and parameters: {'seasons': 1, 'weekdays': 0, 'weekday_weekend': 1, 'months': 1, 'min_demand': 0, 'avg_demand': 0, 'max_demand': 1, 'avg_temp': 0, 'max_temp': 1, 'min_temp': 1, 'hd': 0, 'cd': 1}. Best is trial 51 with value: 11000.782831201763.\n"
     ]
    },
    {
     "name": "stdout",
     "output_type": "stream",
     "text": [
      "Using device: cuda\n"
     ]
    },
    {
     "name": "stderr",
     "output_type": "stream",
     "text": [
      "[I 2025-09-27 12:05:41,489] Trial 106 finished with value: 12107.009781304012 and parameters: {'seasons': 1, 'weekdays': 0, 'weekday_weekend': 1, 'months': 1, 'min_demand': 0, 'avg_demand': 0, 'max_demand': 1, 'avg_temp': 0, 'max_temp': 1, 'min_temp': 1, 'hd': 0, 'cd': 1}. Best is trial 51 with value: 11000.782831201763.\n"
     ]
    },
    {
     "name": "stdout",
     "output_type": "stream",
     "text": [
      "Using device: cuda\n"
     ]
    },
    {
     "name": "stderr",
     "output_type": "stream",
     "text": [
      "[I 2025-09-27 12:06:56,725] Trial 107 finished with value: 12105.722204013397 and parameters: {'seasons': 1, 'weekdays': 0, 'weekday_weekend': 1, 'months': 1, 'min_demand': 0, 'avg_demand': 0, 'max_demand': 1, 'avg_temp': 0, 'max_temp': 1, 'min_temp': 1, 'hd': 0, 'cd': 1}. Best is trial 51 with value: 11000.782831201763.\n"
     ]
    },
    {
     "name": "stdout",
     "output_type": "stream",
     "text": [
      "Using device: cuda\n"
     ]
    },
    {
     "name": "stderr",
     "output_type": "stream",
     "text": [
      "[I 2025-09-27 12:07:45,329] Trial 108 finished with value: 11651.026757450863 and parameters: {'seasons': 1, 'weekdays': 0, 'weekday_weekend': 1, 'months': 1, 'min_demand': 0, 'avg_demand': 0, 'max_demand': 1, 'avg_temp': 0, 'max_temp': 1, 'min_temp': 0, 'hd': 0, 'cd': 1}. Best is trial 51 with value: 11000.782831201763.\n"
     ]
    },
    {
     "name": "stdout",
     "output_type": "stream",
     "text": [
      "Using device: cuda\n"
     ]
    },
    {
     "name": "stderr",
     "output_type": "stream",
     "text": [
      "[I 2025-09-27 12:08:38,987] Trial 109 finished with value: 11231.81438062689 and parameters: {'seasons': 1, 'weekdays': 0, 'weekday_weekend': 1, 'months': 1, 'min_demand': 0, 'avg_demand': 0, 'max_demand': 1, 'avg_temp': 0, 'max_temp': 1, 'min_temp': 0, 'hd': 0, 'cd': 1}. Best is trial 51 with value: 11000.782831201763.\n"
     ]
    },
    {
     "name": "stdout",
     "output_type": "stream",
     "text": [
      "Using device: cuda\n"
     ]
    },
    {
     "name": "stderr",
     "output_type": "stream",
     "text": [
      "[I 2025-09-27 12:09:40,709] Trial 110 finished with value: 11587.111242026678 and parameters: {'seasons': 1, 'weekdays': 0, 'weekday_weekend': 1, 'months': 1, 'min_demand': 0, 'avg_demand': 0, 'max_demand': 1, 'avg_temp': 0, 'max_temp': 1, 'min_temp': 0, 'hd': 0, 'cd': 1}. Best is trial 51 with value: 11000.782831201763.\n"
     ]
    },
    {
     "name": "stdout",
     "output_type": "stream",
     "text": [
      "Using device: cuda\n"
     ]
    },
    {
     "name": "stderr",
     "output_type": "stream",
     "text": [
      "[I 2025-09-27 12:10:43,941] Trial 111 finished with value: 11556.544450418638 and parameters: {'seasons': 1, 'weekdays': 0, 'weekday_weekend': 1, 'months': 1, 'min_demand': 0, 'avg_demand': 0, 'max_demand': 1, 'avg_temp': 0, 'max_temp': 1, 'min_temp': 0, 'hd': 0, 'cd': 1}. Best is trial 51 with value: 11000.782831201763.\n"
     ]
    },
    {
     "name": "stdout",
     "output_type": "stream",
     "text": [
      "Using device: cuda\n"
     ]
    },
    {
     "name": "stderr",
     "output_type": "stream",
     "text": [
      "[I 2025-09-27 12:11:37,840] Trial 112 finished with value: 12238.316704773668 and parameters: {'seasons': 1, 'weekdays': 0, 'weekday_weekend': 1, 'months': 1, 'min_demand': 0, 'avg_demand': 0, 'max_demand': 1, 'avg_temp': 0, 'max_temp': 0, 'min_temp': 0, 'hd': 0, 'cd': 1}. Best is trial 51 with value: 11000.782831201763.\n"
     ]
    },
    {
     "name": "stdout",
     "output_type": "stream",
     "text": [
      "Using device: cuda\n"
     ]
    },
    {
     "name": "stderr",
     "output_type": "stream",
     "text": [
      "[I 2025-09-27 12:12:36,082] Trial 113 finished with value: 12034.863081101716 and parameters: {'seasons': 1, 'weekdays': 0, 'weekday_weekend': 1, 'months': 1, 'min_demand': 0, 'avg_demand': 0, 'max_demand': 1, 'avg_temp': 0, 'max_temp': 1, 'min_temp': 0, 'hd': 0, 'cd': 1}. Best is trial 51 with value: 11000.782831201763.\n"
     ]
    },
    {
     "name": "stdout",
     "output_type": "stream",
     "text": [
      "Using device: cuda\n"
     ]
    },
    {
     "name": "stderr",
     "output_type": "stream",
     "text": [
      "[I 2025-09-27 12:13:38,352] Trial 114 finished with value: 12059.109391437209 and parameters: {'seasons': 1, 'weekdays': 0, 'weekday_weekend': 1, 'months': 1, 'min_demand': 0, 'avg_demand': 0, 'max_demand': 1, 'avg_temp': 0, 'max_temp': 1, 'min_temp': 0, 'hd': 0, 'cd': 1}. Best is trial 51 with value: 11000.782831201763.\n"
     ]
    },
    {
     "name": "stdout",
     "output_type": "stream",
     "text": [
      "Using device: cuda\n"
     ]
    },
    {
     "name": "stderr",
     "output_type": "stream",
     "text": [
      "[I 2025-09-27 12:14:27,418] Trial 115 finished with value: 11486.64031010891 and parameters: {'seasons': 1, 'weekdays': 0, 'weekday_weekend': 1, 'months': 1, 'min_demand': 0, 'avg_demand': 0, 'max_demand': 1, 'avg_temp': 0, 'max_temp': 1, 'min_temp': 0, 'hd': 0, 'cd': 1}. Best is trial 51 with value: 11000.782831201763.\n"
     ]
    },
    {
     "name": "stdout",
     "output_type": "stream",
     "text": [
      "Using device: cuda\n"
     ]
    },
    {
     "name": "stderr",
     "output_type": "stream",
     "text": [
      "[I 2025-09-27 12:15:07,885] Trial 116 finished with value: 11753.951373102163 and parameters: {'seasons': 1, 'weekdays': 0, 'weekday_weekend': 1, 'months': 1, 'min_demand': 0, 'avg_demand': 0, 'max_demand': 1, 'avg_temp': 0, 'max_temp': 1, 'min_temp': 0, 'hd': 0, 'cd': 1}. Best is trial 51 with value: 11000.782831201763.\n"
     ]
    },
    {
     "name": "stdout",
     "output_type": "stream",
     "text": [
      "Using device: cuda\n"
     ]
    },
    {
     "name": "stderr",
     "output_type": "stream",
     "text": [
      "[I 2025-09-27 12:15:54,362] Trial 117 finished with value: 12291.044713008241 and parameters: {'seasons': 1, 'weekdays': 0, 'weekday_weekend': 1, 'months': 1, 'min_demand': 0, 'avg_demand': 0, 'max_demand': 1, 'avg_temp': 0, 'max_temp': 1, 'min_temp': 0, 'hd': 0, 'cd': 1}. Best is trial 51 with value: 11000.782831201763.\n"
     ]
    },
    {
     "name": "stdout",
     "output_type": "stream",
     "text": [
      "Using device: cuda\n"
     ]
    },
    {
     "name": "stderr",
     "output_type": "stream",
     "text": [
      "[I 2025-09-27 12:16:44,316] Trial 118 finished with value: 11239.169165701613 and parameters: {'seasons': 1, 'weekdays': 0, 'weekday_weekend': 1, 'months': 1, 'min_demand': 0, 'avg_demand': 0, 'max_demand': 1, 'avg_temp': 0, 'max_temp': 1, 'min_temp': 0, 'hd': 0, 'cd': 1}. Best is trial 51 with value: 11000.782831201763.\n"
     ]
    },
    {
     "name": "stdout",
     "output_type": "stream",
     "text": [
      "Using device: cuda\n"
     ]
    },
    {
     "name": "stderr",
     "output_type": "stream",
     "text": [
      "[I 2025-09-27 12:17:35,209] Trial 119 finished with value: 11737.607486419594 and parameters: {'seasons': 1, 'weekdays': 0, 'weekday_weekend': 1, 'months': 1, 'min_demand': 0, 'avg_demand': 0, 'max_demand': 0, 'avg_temp': 0, 'max_temp': 1, 'min_temp': 0, 'hd': 0, 'cd': 1}. Best is trial 51 with value: 11000.782831201763.\n"
     ]
    },
    {
     "name": "stdout",
     "output_type": "stream",
     "text": [
      "Using device: cuda\n"
     ]
    },
    {
     "name": "stderr",
     "output_type": "stream",
     "text": [
      "[I 2025-09-27 12:18:32,597] Trial 120 finished with value: 12285.888828734054 and parameters: {'seasons': 1, 'weekdays': 0, 'weekday_weekend': 1, 'months': 1, 'min_demand': 0, 'avg_demand': 0, 'max_demand': 1, 'avg_temp': 0, 'max_temp': 1, 'min_temp': 0, 'hd': 0, 'cd': 1}. Best is trial 51 with value: 11000.782831201763.\n"
     ]
    },
    {
     "name": "stdout",
     "output_type": "stream",
     "text": [
      "Using device: cuda\n"
     ]
    },
    {
     "name": "stderr",
     "output_type": "stream",
     "text": [
      "[I 2025-09-27 12:19:09,377] Trial 121 finished with value: 12596.667934197743 and parameters: {'seasons': 1, 'weekdays': 0, 'weekday_weekend': 0, 'months': 1, 'min_demand': 0, 'avg_demand': 0, 'max_demand': 1, 'avg_temp': 0, 'max_temp': 1, 'min_temp': 0, 'hd': 0, 'cd': 1}. Best is trial 51 with value: 11000.782831201763.\n"
     ]
    },
    {
     "name": "stdout",
     "output_type": "stream",
     "text": [
      "Using device: cuda\n"
     ]
    },
    {
     "name": "stderr",
     "output_type": "stream",
     "text": [
      "[I 2025-09-27 12:20:00,422] Trial 122 finished with value: 11608.848582200413 and parameters: {'seasons': 1, 'weekdays': 0, 'weekday_weekend': 1, 'months': 1, 'min_demand': 0, 'avg_demand': 0, 'max_demand': 1, 'avg_temp': 0, 'max_temp': 1, 'min_temp': 0, 'hd': 0, 'cd': 1}. Best is trial 51 with value: 11000.782831201763.\n"
     ]
    },
    {
     "name": "stdout",
     "output_type": "stream",
     "text": [
      "Using device: cuda\n"
     ]
    },
    {
     "name": "stderr",
     "output_type": "stream",
     "text": [
      "[I 2025-09-27 12:20:54,575] Trial 123 finished with value: 11527.61727289408 and parameters: {'seasons': 1, 'weekdays': 0, 'weekday_weekend': 1, 'months': 1, 'min_demand': 0, 'avg_demand': 0, 'max_demand': 1, 'avg_temp': 0, 'max_temp': 1, 'min_temp': 0, 'hd': 0, 'cd': 1}. Best is trial 51 with value: 11000.782831201763.\n"
     ]
    },
    {
     "name": "stdout",
     "output_type": "stream",
     "text": [
      "Using device: cuda\n"
     ]
    },
    {
     "name": "stderr",
     "output_type": "stream",
     "text": [
      "[I 2025-09-27 12:21:53,825] Trial 124 finished with value: 11430.465160738273 and parameters: {'seasons': 1, 'weekdays': 0, 'weekday_weekend': 1, 'months': 1, 'min_demand': 0, 'avg_demand': 0, 'max_demand': 1, 'avg_temp': 0, 'max_temp': 1, 'min_temp': 0, 'hd': 0, 'cd': 1}. Best is trial 51 with value: 11000.782831201763.\n"
     ]
    },
    {
     "name": "stdout",
     "output_type": "stream",
     "text": [
      "Using device: cuda\n"
     ]
    },
    {
     "name": "stderr",
     "output_type": "stream",
     "text": [
      "[I 2025-09-27 12:23:17,798] Trial 125 finished with value: 11668.26364031109 and parameters: {'seasons': 1, 'weekdays': 0, 'weekday_weekend': 1, 'months': 1, 'min_demand': 0, 'avg_demand': 0, 'max_demand': 1, 'avg_temp': 0, 'max_temp': 1, 'min_temp': 0, 'hd': 0, 'cd': 1}. Best is trial 51 with value: 11000.782831201763.\n"
     ]
    },
    {
     "name": "stdout",
     "output_type": "stream",
     "text": [
      "Using device: cuda\n"
     ]
    },
    {
     "name": "stderr",
     "output_type": "stream",
     "text": [
      "[W 2025-09-27 12:24:03,491] Trial 126 failed with parameters: {'seasons': 1, 'weekdays': 0, 'weekday_weekend': 1, 'months': 1, 'min_demand': 0, 'avg_demand': 0, 'max_demand': 1, 'avg_temp': 0, 'max_temp': 1, 'min_temp': 0, 'hd': 0, 'cd': 1} because of the following error: KeyboardInterrupt().\n",
      "Traceback (most recent call last):\n",
      "  File \"/home/harry/personal/uni/project/.venv/lib/python3.10/site-packages/optuna/study/_optimize.py\", line 201, in _run_trial\n",
      "    value_or_values = func(trial)\n",
      "  File \"/tmp/ipykernel_25009/720489053.py\", line 65, in objective\n",
      "    model, train_losses, val_losses = train_transformer_model(sequences, targets, input_dim, datetimes, params)\n",
      "  File \"/home/harry/personal/uni/project/individual/harry/model/model.py\", line 134, in train_transformer_model\n",
      "    predictions = model(batch_X)\n",
      "  File \"/home/harry/personal/uni/project/.venv/lib/python3.10/site-packages/torch/nn/modules/module.py\", line 1773, in _wrapped_call_impl\n",
      "    return self._call_impl(*args, **kwargs)\n",
      "  File \"/home/harry/personal/uni/project/.venv/lib/python3.10/site-packages/torch/nn/modules/module.py\", line 1784, in _call_impl\n",
      "    return forward_call(*args, **kwargs)\n",
      "  File \"/home/harry/personal/uni/project/individual/harry/model/model.py\", line 73, in forward\n",
      "    encoder_output = self.transformer_encoder(src_projected, mask=src_mask, src_key_padding_mask=src_key_padding_mask)\n",
      "  File \"/home/harry/personal/uni/project/.venv/lib/python3.10/site-packages/torch/nn/modules/module.py\", line 1773, in _wrapped_call_impl\n",
      "    return self._call_impl(*args, **kwargs)\n",
      "  File \"/home/harry/personal/uni/project/.venv/lib/python3.10/site-packages/torch/nn/modules/module.py\", line 1784, in _call_impl\n",
      "    return forward_call(*args, **kwargs)\n",
      "  File \"/home/harry/personal/uni/project/.venv/lib/python3.10/site-packages/torch/nn/modules/transformer.py\", line 524, in forward\n",
      "    output = mod(\n",
      "  File \"/home/harry/personal/uni/project/.venv/lib/python3.10/site-packages/torch/nn/modules/module.py\", line 1773, in _wrapped_call_impl\n",
      "    return self._call_impl(*args, **kwargs)\n",
      "  File \"/home/harry/personal/uni/project/.venv/lib/python3.10/site-packages/torch/nn/modules/module.py\", line 1784, in _call_impl\n",
      "    return forward_call(*args, **kwargs)\n",
      "  File \"/home/harry/personal/uni/project/.venv/lib/python3.10/site-packages/torch/nn/modules/transformer.py\", line 937, in forward\n",
      "    x = self.norm2(x + self._ff_block(x))\n",
      "  File \"/home/harry/personal/uni/project/.venv/lib/python3.10/site-packages/torch/nn/modules/transformer.py\", line 962, in _ff_block\n",
      "    x = self.linear2(self.dropout(self.activation(self.linear1(x))))\n",
      "  File \"/home/harry/personal/uni/project/.venv/lib/python3.10/site-packages/torch/nn/modules/module.py\", line 1773, in _wrapped_call_impl\n",
      "    return self._call_impl(*args, **kwargs)\n",
      "  File \"/home/harry/personal/uni/project/.venv/lib/python3.10/site-packages/torch/nn/modules/module.py\", line 1784, in _call_impl\n",
      "    return forward_call(*args, **kwargs)\n",
      "  File \"/home/harry/personal/uni/project/.venv/lib/python3.10/site-packages/torch/nn/modules/linear.py\", line 125, in forward\n",
      "    return F.linear(input, self.weight, self.bias)\n",
      "KeyboardInterrupt\n",
      "[W 2025-09-27 12:24:03,492] Trial 126 failed with value None.\n"
     ]
    },
    {
     "ename": "KeyboardInterrupt",
     "evalue": "",
     "output_type": "error",
     "traceback": [
      "\u001b[0;31m---------------------------------------------------------------------------\u001b[0m",
      "\u001b[0;31mKeyboardInterrupt\u001b[0m                         Traceback (most recent call last)",
      "Cell \u001b[0;32mIn[4], line 2\u001b[0m\n\u001b[1;32m      1\u001b[0m study \u001b[38;5;241m=\u001b[39m optuna\u001b[38;5;241m.\u001b[39mcreate_study(storage\u001b[38;5;241m=\u001b[39m\u001b[38;5;124m\"\u001b[39m\u001b[38;5;124msqlite:///db.sqlite3\u001b[39m\u001b[38;5;124m\"\u001b[39m, study_name\u001b[38;5;241m=\u001b[39m\u001b[38;5;124m\"\u001b[39m\u001b[38;5;124mfeature_selection\u001b[39m\u001b[38;5;124m\"\u001b[39m, load_if_exists\u001b[38;5;241m=\u001b[39m\u001b[38;5;28;01mTrue\u001b[39;00m)\n\u001b[0;32m----> 2\u001b[0m \u001b[43mstudy\u001b[49m\u001b[38;5;241;43m.\u001b[39;49m\u001b[43moptimize\u001b[49m\u001b[43m(\u001b[49m\u001b[43mobjective\u001b[49m\u001b[43m,\u001b[49m\u001b[43m \u001b[49m\u001b[43mn_trials\u001b[49m\u001b[38;5;241;43m=\u001b[39;49m\u001b[38;5;241;43m100\u001b[39;49m\u001b[43m,\u001b[49m\u001b[43m \u001b[49m\u001b[43mn_jobs\u001b[49m\u001b[38;5;241;43m=\u001b[39;49m\u001b[38;5;241;43m1\u001b[39;49m\u001b[43m)\u001b[49m\n\u001b[1;32m      4\u001b[0m study\u001b[38;5;241m.\u001b[39mbest_params \n",
      "File \u001b[0;32m~/personal/uni/project/.venv/lib/python3.10/site-packages/optuna/study/study.py:490\u001b[0m, in \u001b[0;36mStudy.optimize\u001b[0;34m(self, func, n_trials, timeout, n_jobs, catch, callbacks, gc_after_trial, show_progress_bar)\u001b[0m\n\u001b[1;32m    388\u001b[0m \u001b[38;5;28;01mdef\u001b[39;00m\u001b[38;5;250m \u001b[39m\u001b[38;5;21moptimize\u001b[39m(\n\u001b[1;32m    389\u001b[0m     \u001b[38;5;28mself\u001b[39m,\n\u001b[1;32m    390\u001b[0m     func: ObjectiveFuncType,\n\u001b[0;32m   (...)\u001b[0m\n\u001b[1;32m    397\u001b[0m     show_progress_bar: \u001b[38;5;28mbool\u001b[39m \u001b[38;5;241m=\u001b[39m \u001b[38;5;28;01mFalse\u001b[39;00m,\n\u001b[1;32m    398\u001b[0m ) \u001b[38;5;241m-\u001b[39m\u001b[38;5;241m>\u001b[39m \u001b[38;5;28;01mNone\u001b[39;00m:\n\u001b[1;32m    399\u001b[0m \u001b[38;5;250m    \u001b[39m\u001b[38;5;124;03m\"\"\"Optimize an objective function.\u001b[39;00m\n\u001b[1;32m    400\u001b[0m \n\u001b[1;32m    401\u001b[0m \u001b[38;5;124;03m    Optimization is done by choosing a suitable set of hyperparameter values from a given\u001b[39;00m\n\u001b[0;32m   (...)\u001b[0m\n\u001b[1;32m    488\u001b[0m \u001b[38;5;124;03m            If nested invocation of this method occurs.\u001b[39;00m\n\u001b[1;32m    489\u001b[0m \u001b[38;5;124;03m    \"\"\"\u001b[39;00m\n\u001b[0;32m--> 490\u001b[0m     \u001b[43m_optimize\u001b[49m\u001b[43m(\u001b[49m\n\u001b[1;32m    491\u001b[0m \u001b[43m        \u001b[49m\u001b[43mstudy\u001b[49m\u001b[38;5;241;43m=\u001b[39;49m\u001b[38;5;28;43mself\u001b[39;49m\u001b[43m,\u001b[49m\n\u001b[1;32m    492\u001b[0m \u001b[43m        \u001b[49m\u001b[43mfunc\u001b[49m\u001b[38;5;241;43m=\u001b[39;49m\u001b[43mfunc\u001b[49m\u001b[43m,\u001b[49m\n\u001b[1;32m    493\u001b[0m \u001b[43m        \u001b[49m\u001b[43mn_trials\u001b[49m\u001b[38;5;241;43m=\u001b[39;49m\u001b[43mn_trials\u001b[49m\u001b[43m,\u001b[49m\n\u001b[1;32m    494\u001b[0m \u001b[43m        \u001b[49m\u001b[43mtimeout\u001b[49m\u001b[38;5;241;43m=\u001b[39;49m\u001b[43mtimeout\u001b[49m\u001b[43m,\u001b[49m\n\u001b[1;32m    495\u001b[0m \u001b[43m        \u001b[49m\u001b[43mn_jobs\u001b[49m\u001b[38;5;241;43m=\u001b[39;49m\u001b[43mn_jobs\u001b[49m\u001b[43m,\u001b[49m\n\u001b[1;32m    496\u001b[0m \u001b[43m        \u001b[49m\u001b[43mcatch\u001b[49m\u001b[38;5;241;43m=\u001b[39;49m\u001b[38;5;28;43mtuple\u001b[39;49m\u001b[43m(\u001b[49m\u001b[43mcatch\u001b[49m\u001b[43m)\u001b[49m\u001b[43m \u001b[49m\u001b[38;5;28;43;01mif\u001b[39;49;00m\u001b[43m \u001b[49m\u001b[38;5;28;43misinstance\u001b[39;49m\u001b[43m(\u001b[49m\u001b[43mcatch\u001b[49m\u001b[43m,\u001b[49m\u001b[43m \u001b[49m\u001b[43mIterable\u001b[49m\u001b[43m)\u001b[49m\u001b[43m \u001b[49m\u001b[38;5;28;43;01melse\u001b[39;49;00m\u001b[43m \u001b[49m\u001b[43m(\u001b[49m\u001b[43mcatch\u001b[49m\u001b[43m,\u001b[49m\u001b[43m)\u001b[49m\u001b[43m,\u001b[49m\n\u001b[1;32m    497\u001b[0m \u001b[43m        \u001b[49m\u001b[43mcallbacks\u001b[49m\u001b[38;5;241;43m=\u001b[39;49m\u001b[43mcallbacks\u001b[49m\u001b[43m,\u001b[49m\n\u001b[1;32m    498\u001b[0m \u001b[43m        \u001b[49m\u001b[43mgc_after_trial\u001b[49m\u001b[38;5;241;43m=\u001b[39;49m\u001b[43mgc_after_trial\u001b[49m\u001b[43m,\u001b[49m\n\u001b[1;32m    499\u001b[0m \u001b[43m        \u001b[49m\u001b[43mshow_progress_bar\u001b[49m\u001b[38;5;241;43m=\u001b[39;49m\u001b[43mshow_progress_bar\u001b[49m\u001b[43m,\u001b[49m\n\u001b[1;32m    500\u001b[0m \u001b[43m    \u001b[49m\u001b[43m)\u001b[49m\n",
      "File \u001b[0;32m~/personal/uni/project/.venv/lib/python3.10/site-packages/optuna/study/_optimize.py:63\u001b[0m, in \u001b[0;36m_optimize\u001b[0;34m(study, func, n_trials, timeout, n_jobs, catch, callbacks, gc_after_trial, show_progress_bar)\u001b[0m\n\u001b[1;32m     61\u001b[0m \u001b[38;5;28;01mtry\u001b[39;00m:\n\u001b[1;32m     62\u001b[0m     \u001b[38;5;28;01mif\u001b[39;00m n_jobs \u001b[38;5;241m==\u001b[39m \u001b[38;5;241m1\u001b[39m:\n\u001b[0;32m---> 63\u001b[0m         \u001b[43m_optimize_sequential\u001b[49m\u001b[43m(\u001b[49m\n\u001b[1;32m     64\u001b[0m \u001b[43m            \u001b[49m\u001b[43mstudy\u001b[49m\u001b[43m,\u001b[49m\n\u001b[1;32m     65\u001b[0m \u001b[43m            \u001b[49m\u001b[43mfunc\u001b[49m\u001b[43m,\u001b[49m\n\u001b[1;32m     66\u001b[0m \u001b[43m            \u001b[49m\u001b[43mn_trials\u001b[49m\u001b[43m,\u001b[49m\n\u001b[1;32m     67\u001b[0m \u001b[43m            \u001b[49m\u001b[43mtimeout\u001b[49m\u001b[43m,\u001b[49m\n\u001b[1;32m     68\u001b[0m \u001b[43m            \u001b[49m\u001b[43mcatch\u001b[49m\u001b[43m,\u001b[49m\n\u001b[1;32m     69\u001b[0m \u001b[43m            \u001b[49m\u001b[43mcallbacks\u001b[49m\u001b[43m,\u001b[49m\n\u001b[1;32m     70\u001b[0m \u001b[43m            \u001b[49m\u001b[43mgc_after_trial\u001b[49m\u001b[43m,\u001b[49m\n\u001b[1;32m     71\u001b[0m \u001b[43m            \u001b[49m\u001b[43mreseed_sampler_rng\u001b[49m\u001b[38;5;241;43m=\u001b[39;49m\u001b[38;5;28;43;01mFalse\u001b[39;49;00m\u001b[43m,\u001b[49m\n\u001b[1;32m     72\u001b[0m \u001b[43m            \u001b[49m\u001b[43mtime_start\u001b[49m\u001b[38;5;241;43m=\u001b[39;49m\u001b[38;5;28;43;01mNone\u001b[39;49;00m\u001b[43m,\u001b[49m\n\u001b[1;32m     73\u001b[0m \u001b[43m            \u001b[49m\u001b[43mprogress_bar\u001b[49m\u001b[38;5;241;43m=\u001b[39;49m\u001b[43mprogress_bar\u001b[49m\u001b[43m,\u001b[49m\n\u001b[1;32m     74\u001b[0m \u001b[43m        \u001b[49m\u001b[43m)\u001b[49m\n\u001b[1;32m     75\u001b[0m     \u001b[38;5;28;01melse\u001b[39;00m:\n\u001b[1;32m     76\u001b[0m         \u001b[38;5;28;01mif\u001b[39;00m n_jobs \u001b[38;5;241m==\u001b[39m \u001b[38;5;241m-\u001b[39m\u001b[38;5;241m1\u001b[39m:\n",
      "File \u001b[0;32m~/personal/uni/project/.venv/lib/python3.10/site-packages/optuna/study/_optimize.py:160\u001b[0m, in \u001b[0;36m_optimize_sequential\u001b[0;34m(study, func, n_trials, timeout, catch, callbacks, gc_after_trial, reseed_sampler_rng, time_start, progress_bar)\u001b[0m\n\u001b[1;32m    157\u001b[0m         \u001b[38;5;28;01mbreak\u001b[39;00m\n\u001b[1;32m    159\u001b[0m \u001b[38;5;28;01mtry\u001b[39;00m:\n\u001b[0;32m--> 160\u001b[0m     frozen_trial_id \u001b[38;5;241m=\u001b[39m \u001b[43m_run_trial\u001b[49m\u001b[43m(\u001b[49m\u001b[43mstudy\u001b[49m\u001b[43m,\u001b[49m\u001b[43m \u001b[49m\u001b[43mfunc\u001b[49m\u001b[43m,\u001b[49m\u001b[43m \u001b[49m\u001b[43mcatch\u001b[49m\u001b[43m)\u001b[49m\n\u001b[1;32m    161\u001b[0m \u001b[38;5;28;01mfinally\u001b[39;00m:\n\u001b[1;32m    162\u001b[0m     \u001b[38;5;66;03m# The following line mitigates memory problems that can be occurred in some\u001b[39;00m\n\u001b[1;32m    163\u001b[0m     \u001b[38;5;66;03m# environments (e.g., services that use computing containers such as GitHub Actions).\u001b[39;00m\n\u001b[1;32m    164\u001b[0m     \u001b[38;5;66;03m# Please refer to the following PR for further details:\u001b[39;00m\n\u001b[1;32m    165\u001b[0m     \u001b[38;5;66;03m# https://github.com/optuna/optuna/pull/325.\u001b[39;00m\n\u001b[1;32m    166\u001b[0m     \u001b[38;5;28;01mif\u001b[39;00m gc_after_trial:\n",
      "File \u001b[0;32m~/personal/uni/project/.venv/lib/python3.10/site-packages/optuna/study/_optimize.py:258\u001b[0m, in \u001b[0;36m_run_trial\u001b[0;34m(study, func, catch)\u001b[0m\n\u001b[1;32m    251\u001b[0m         \u001b[38;5;28;01massert\u001b[39;00m \u001b[38;5;28;01mFalse\u001b[39;00m, \u001b[38;5;124m\"\u001b[39m\u001b[38;5;124mShould not reach.\u001b[39m\u001b[38;5;124m\"\u001b[39m\n\u001b[1;32m    253\u001b[0m \u001b[38;5;28;01mif\u001b[39;00m (\n\u001b[1;32m    254\u001b[0m     updated_state \u001b[38;5;241m==\u001b[39m TrialState\u001b[38;5;241m.\u001b[39mFAIL\n\u001b[1;32m    255\u001b[0m     \u001b[38;5;129;01mand\u001b[39;00m func_err \u001b[38;5;129;01mis\u001b[39;00m \u001b[38;5;129;01mnot\u001b[39;00m \u001b[38;5;28;01mNone\u001b[39;00m\n\u001b[1;32m    256\u001b[0m     \u001b[38;5;129;01mand\u001b[39;00m \u001b[38;5;129;01mnot\u001b[39;00m \u001b[38;5;28misinstance\u001b[39m(func_err, catch)\n\u001b[1;32m    257\u001b[0m ):\n\u001b[0;32m--> 258\u001b[0m     \u001b[38;5;28;01mraise\u001b[39;00m func_err\n\u001b[1;32m    259\u001b[0m \u001b[38;5;28;01mreturn\u001b[39;00m trial\u001b[38;5;241m.\u001b[39m_trial_id\n",
      "File \u001b[0;32m~/personal/uni/project/.venv/lib/python3.10/site-packages/optuna/study/_optimize.py:201\u001b[0m, in \u001b[0;36m_run_trial\u001b[0;34m(study, func, catch)\u001b[0m\n\u001b[1;32m    199\u001b[0m \u001b[38;5;28;01mwith\u001b[39;00m get_heartbeat_thread(trial\u001b[38;5;241m.\u001b[39m_trial_id, study\u001b[38;5;241m.\u001b[39m_storage):\n\u001b[1;32m    200\u001b[0m     \u001b[38;5;28;01mtry\u001b[39;00m:\n\u001b[0;32m--> 201\u001b[0m         value_or_values \u001b[38;5;241m=\u001b[39m \u001b[43mfunc\u001b[49m\u001b[43m(\u001b[49m\u001b[43mtrial\u001b[49m\u001b[43m)\u001b[49m\n\u001b[1;32m    202\u001b[0m     \u001b[38;5;28;01mexcept\u001b[39;00m exceptions\u001b[38;5;241m.\u001b[39mTrialPruned \u001b[38;5;28;01mas\u001b[39;00m e:\n\u001b[1;32m    203\u001b[0m         \u001b[38;5;66;03m# TODO(mamu): Handle multi-objective cases.\u001b[39;00m\n\u001b[1;32m    204\u001b[0m         state \u001b[38;5;241m=\u001b[39m TrialState\u001b[38;5;241m.\u001b[39mPRUNED\n",
      "Cell \u001b[0;32mIn[3], line 65\u001b[0m, in \u001b[0;36mobjective\u001b[0;34m(trial)\u001b[0m\n\u001b[1;32m     62\u001b[0m sequences, targets, datetimes, scaler_X \u001b[38;5;241m=\u001b[39m prepare_data(params)\n\u001b[1;32m     64\u001b[0m \u001b[38;5;66;03m# Build and train model\u001b[39;00m\n\u001b[0;32m---> 65\u001b[0m model, train_losses, val_losses \u001b[38;5;241m=\u001b[39m \u001b[43mtrain_transformer_model\u001b[49m\u001b[43m(\u001b[49m\u001b[43msequences\u001b[49m\u001b[43m,\u001b[49m\u001b[43m \u001b[49m\u001b[43mtargets\u001b[49m\u001b[43m,\u001b[49m\u001b[43m \u001b[49m\u001b[43minput_dim\u001b[49m\u001b[43m,\u001b[49m\u001b[43m \u001b[49m\u001b[43mdatetimes\u001b[49m\u001b[43m,\u001b[49m\u001b[43m \u001b[49m\u001b[43mparams\u001b[49m\u001b[43m)\u001b[49m\n\u001b[1;32m     67\u001b[0m \u001b[38;5;66;03m# 5. Evaluate and plot results\u001b[39;00m\n\u001b[1;32m     68\u001b[0m device \u001b[38;5;241m=\u001b[39m torch\u001b[38;5;241m.\u001b[39mdevice(\u001b[38;5;124m'\u001b[39m\u001b[38;5;124mcuda\u001b[39m\u001b[38;5;124m'\u001b[39m \u001b[38;5;28;01mif\u001b[39;00m torch\u001b[38;5;241m.\u001b[39mcuda\u001b[38;5;241m.\u001b[39mis_available() \u001b[38;5;28;01melse\u001b[39;00m \u001b[38;5;124m'\u001b[39m\u001b[38;5;124mcpu\u001b[39m\u001b[38;5;124m'\u001b[39m)\n",
      "File \u001b[0;32m~/personal/uni/project/individual/harry/model/model.py:134\u001b[0m, in \u001b[0;36mtrain_transformer_model\u001b[0;34m(sequences, targets, input_dim, datetimes, params)\u001b[0m\n\u001b[1;32m    132\u001b[0m batch_X, batch_y \u001b[38;5;241m=\u001b[39m batch_X\u001b[38;5;241m.\u001b[39mto(device), batch_y\u001b[38;5;241m.\u001b[39mto(device)\n\u001b[1;32m    133\u001b[0m optimizer\u001b[38;5;241m.\u001b[39mzero_grad()\n\u001b[0;32m--> 134\u001b[0m predictions \u001b[38;5;241m=\u001b[39m \u001b[43mmodel\u001b[49m\u001b[43m(\u001b[49m\u001b[43mbatch_X\u001b[49m\u001b[43m)\u001b[49m\n\u001b[1;32m    135\u001b[0m loss \u001b[38;5;241m=\u001b[39m criterion(predictions, batch_y)\n\u001b[1;32m    136\u001b[0m loss\u001b[38;5;241m.\u001b[39mbackward()\n",
      "File \u001b[0;32m~/personal/uni/project/.venv/lib/python3.10/site-packages/torch/nn/modules/module.py:1773\u001b[0m, in \u001b[0;36mModule._wrapped_call_impl\u001b[0;34m(self, *args, **kwargs)\u001b[0m\n\u001b[1;32m   1771\u001b[0m     \u001b[38;5;28;01mreturn\u001b[39;00m \u001b[38;5;28mself\u001b[39m\u001b[38;5;241m.\u001b[39m_compiled_call_impl(\u001b[38;5;241m*\u001b[39margs, \u001b[38;5;241m*\u001b[39m\u001b[38;5;241m*\u001b[39mkwargs)  \u001b[38;5;66;03m# type: ignore[misc]\u001b[39;00m\n\u001b[1;32m   1772\u001b[0m \u001b[38;5;28;01melse\u001b[39;00m:\n\u001b[0;32m-> 1773\u001b[0m     \u001b[38;5;28;01mreturn\u001b[39;00m \u001b[38;5;28;43mself\u001b[39;49m\u001b[38;5;241;43m.\u001b[39;49m\u001b[43m_call_impl\u001b[49m\u001b[43m(\u001b[49m\u001b[38;5;241;43m*\u001b[39;49m\u001b[43margs\u001b[49m\u001b[43m,\u001b[49m\u001b[43m \u001b[49m\u001b[38;5;241;43m*\u001b[39;49m\u001b[38;5;241;43m*\u001b[39;49m\u001b[43mkwargs\u001b[49m\u001b[43m)\u001b[49m\n",
      "File \u001b[0;32m~/personal/uni/project/.venv/lib/python3.10/site-packages/torch/nn/modules/module.py:1784\u001b[0m, in \u001b[0;36mModule._call_impl\u001b[0;34m(self, *args, **kwargs)\u001b[0m\n\u001b[1;32m   1779\u001b[0m \u001b[38;5;66;03m# If we don't have any hooks, we want to skip the rest of the logic in\u001b[39;00m\n\u001b[1;32m   1780\u001b[0m \u001b[38;5;66;03m# this function, and just call forward.\u001b[39;00m\n\u001b[1;32m   1781\u001b[0m \u001b[38;5;28;01mif\u001b[39;00m \u001b[38;5;129;01mnot\u001b[39;00m (\u001b[38;5;28mself\u001b[39m\u001b[38;5;241m.\u001b[39m_backward_hooks \u001b[38;5;129;01mor\u001b[39;00m \u001b[38;5;28mself\u001b[39m\u001b[38;5;241m.\u001b[39m_backward_pre_hooks \u001b[38;5;129;01mor\u001b[39;00m \u001b[38;5;28mself\u001b[39m\u001b[38;5;241m.\u001b[39m_forward_hooks \u001b[38;5;129;01mor\u001b[39;00m \u001b[38;5;28mself\u001b[39m\u001b[38;5;241m.\u001b[39m_forward_pre_hooks\n\u001b[1;32m   1782\u001b[0m         \u001b[38;5;129;01mor\u001b[39;00m _global_backward_pre_hooks \u001b[38;5;129;01mor\u001b[39;00m _global_backward_hooks\n\u001b[1;32m   1783\u001b[0m         \u001b[38;5;129;01mor\u001b[39;00m _global_forward_hooks \u001b[38;5;129;01mor\u001b[39;00m _global_forward_pre_hooks):\n\u001b[0;32m-> 1784\u001b[0m     \u001b[38;5;28;01mreturn\u001b[39;00m \u001b[43mforward_call\u001b[49m\u001b[43m(\u001b[49m\u001b[38;5;241;43m*\u001b[39;49m\u001b[43margs\u001b[49m\u001b[43m,\u001b[49m\u001b[43m \u001b[49m\u001b[38;5;241;43m*\u001b[39;49m\u001b[38;5;241;43m*\u001b[39;49m\u001b[43mkwargs\u001b[49m\u001b[43m)\u001b[49m\n\u001b[1;32m   1786\u001b[0m result \u001b[38;5;241m=\u001b[39m \u001b[38;5;28;01mNone\u001b[39;00m\n\u001b[1;32m   1787\u001b[0m called_always_called_hooks \u001b[38;5;241m=\u001b[39m \u001b[38;5;28mset\u001b[39m()\n",
      "File \u001b[0;32m~/personal/uni/project/individual/harry/model/model.py:73\u001b[0m, in \u001b[0;36mTransformerModel.forward\u001b[0;34m(self, src, src_mask, src_key_padding_mask)\u001b[0m\n\u001b[1;32m     71\u001b[0m src_projected \u001b[38;5;241m=\u001b[39m \u001b[38;5;28mself\u001b[39m\u001b[38;5;241m.\u001b[39minput_projection(src) \u001b[38;5;241m*\u001b[39m math\u001b[38;5;241m.\u001b[39msqrt(\u001b[38;5;28mself\u001b[39m\u001b[38;5;241m.\u001b[39md_model)\n\u001b[1;32m     72\u001b[0m src_projected \u001b[38;5;241m=\u001b[39m \u001b[38;5;28mself\u001b[39m\u001b[38;5;241m.\u001b[39mpos_encoder(src_projected)\n\u001b[0;32m---> 73\u001b[0m encoder_output \u001b[38;5;241m=\u001b[39m \u001b[38;5;28;43mself\u001b[39;49m\u001b[38;5;241;43m.\u001b[39;49m\u001b[43mtransformer_encoder\u001b[49m\u001b[43m(\u001b[49m\u001b[43msrc_projected\u001b[49m\u001b[43m,\u001b[49m\u001b[43m \u001b[49m\u001b[43mmask\u001b[49m\u001b[38;5;241;43m=\u001b[39;49m\u001b[43msrc_mask\u001b[49m\u001b[43m,\u001b[49m\u001b[43m \u001b[49m\u001b[43msrc_key_padding_mask\u001b[49m\u001b[38;5;241;43m=\u001b[39;49m\u001b[43msrc_key_padding_mask\u001b[49m\u001b[43m)\u001b[49m\n\u001b[1;32m     74\u001b[0m last_time_step_output \u001b[38;5;241m=\u001b[39m encoder_output[:, \u001b[38;5;241m-\u001b[39m\u001b[38;5;241m1\u001b[39m, :]\n\u001b[1;32m     75\u001b[0m output \u001b[38;5;241m=\u001b[39m \u001b[38;5;28mself\u001b[39m\u001b[38;5;241m.\u001b[39moutput_layer(last_time_step_output)\n",
      "File \u001b[0;32m~/personal/uni/project/.venv/lib/python3.10/site-packages/torch/nn/modules/module.py:1773\u001b[0m, in \u001b[0;36mModule._wrapped_call_impl\u001b[0;34m(self, *args, **kwargs)\u001b[0m\n\u001b[1;32m   1771\u001b[0m     \u001b[38;5;28;01mreturn\u001b[39;00m \u001b[38;5;28mself\u001b[39m\u001b[38;5;241m.\u001b[39m_compiled_call_impl(\u001b[38;5;241m*\u001b[39margs, \u001b[38;5;241m*\u001b[39m\u001b[38;5;241m*\u001b[39mkwargs)  \u001b[38;5;66;03m# type: ignore[misc]\u001b[39;00m\n\u001b[1;32m   1772\u001b[0m \u001b[38;5;28;01melse\u001b[39;00m:\n\u001b[0;32m-> 1773\u001b[0m     \u001b[38;5;28;01mreturn\u001b[39;00m \u001b[38;5;28;43mself\u001b[39;49m\u001b[38;5;241;43m.\u001b[39;49m\u001b[43m_call_impl\u001b[49m\u001b[43m(\u001b[49m\u001b[38;5;241;43m*\u001b[39;49m\u001b[43margs\u001b[49m\u001b[43m,\u001b[49m\u001b[43m \u001b[49m\u001b[38;5;241;43m*\u001b[39;49m\u001b[38;5;241;43m*\u001b[39;49m\u001b[43mkwargs\u001b[49m\u001b[43m)\u001b[49m\n",
      "File \u001b[0;32m~/personal/uni/project/.venv/lib/python3.10/site-packages/torch/nn/modules/module.py:1784\u001b[0m, in \u001b[0;36mModule._call_impl\u001b[0;34m(self, *args, **kwargs)\u001b[0m\n\u001b[1;32m   1779\u001b[0m \u001b[38;5;66;03m# If we don't have any hooks, we want to skip the rest of the logic in\u001b[39;00m\n\u001b[1;32m   1780\u001b[0m \u001b[38;5;66;03m# this function, and just call forward.\u001b[39;00m\n\u001b[1;32m   1781\u001b[0m \u001b[38;5;28;01mif\u001b[39;00m \u001b[38;5;129;01mnot\u001b[39;00m (\u001b[38;5;28mself\u001b[39m\u001b[38;5;241m.\u001b[39m_backward_hooks \u001b[38;5;129;01mor\u001b[39;00m \u001b[38;5;28mself\u001b[39m\u001b[38;5;241m.\u001b[39m_backward_pre_hooks \u001b[38;5;129;01mor\u001b[39;00m \u001b[38;5;28mself\u001b[39m\u001b[38;5;241m.\u001b[39m_forward_hooks \u001b[38;5;129;01mor\u001b[39;00m \u001b[38;5;28mself\u001b[39m\u001b[38;5;241m.\u001b[39m_forward_pre_hooks\n\u001b[1;32m   1782\u001b[0m         \u001b[38;5;129;01mor\u001b[39;00m _global_backward_pre_hooks \u001b[38;5;129;01mor\u001b[39;00m _global_backward_hooks\n\u001b[1;32m   1783\u001b[0m         \u001b[38;5;129;01mor\u001b[39;00m _global_forward_hooks \u001b[38;5;129;01mor\u001b[39;00m _global_forward_pre_hooks):\n\u001b[0;32m-> 1784\u001b[0m     \u001b[38;5;28;01mreturn\u001b[39;00m \u001b[43mforward_call\u001b[49m\u001b[43m(\u001b[49m\u001b[38;5;241;43m*\u001b[39;49m\u001b[43margs\u001b[49m\u001b[43m,\u001b[49m\u001b[43m \u001b[49m\u001b[38;5;241;43m*\u001b[39;49m\u001b[38;5;241;43m*\u001b[39;49m\u001b[43mkwargs\u001b[49m\u001b[43m)\u001b[49m\n\u001b[1;32m   1786\u001b[0m result \u001b[38;5;241m=\u001b[39m \u001b[38;5;28;01mNone\u001b[39;00m\n\u001b[1;32m   1787\u001b[0m called_always_called_hooks \u001b[38;5;241m=\u001b[39m \u001b[38;5;28mset\u001b[39m()\n",
      "File \u001b[0;32m~/personal/uni/project/.venv/lib/python3.10/site-packages/torch/nn/modules/transformer.py:524\u001b[0m, in \u001b[0;36mTransformerEncoder.forward\u001b[0;34m(self, src, mask, src_key_padding_mask, is_causal)\u001b[0m\n\u001b[1;32m    521\u001b[0m is_causal \u001b[38;5;241m=\u001b[39m _detect_is_causal_mask(mask, is_causal, seq_len)\n\u001b[1;32m    523\u001b[0m \u001b[38;5;28;01mfor\u001b[39;00m mod \u001b[38;5;129;01min\u001b[39;00m \u001b[38;5;28mself\u001b[39m\u001b[38;5;241m.\u001b[39mlayers:\n\u001b[0;32m--> 524\u001b[0m     output \u001b[38;5;241m=\u001b[39m \u001b[43mmod\u001b[49m\u001b[43m(\u001b[49m\n\u001b[1;32m    525\u001b[0m \u001b[43m        \u001b[49m\u001b[43moutput\u001b[49m\u001b[43m,\u001b[49m\n\u001b[1;32m    526\u001b[0m \u001b[43m        \u001b[49m\u001b[43msrc_mask\u001b[49m\u001b[38;5;241;43m=\u001b[39;49m\u001b[43mmask\u001b[49m\u001b[43m,\u001b[49m\n\u001b[1;32m    527\u001b[0m \u001b[43m        \u001b[49m\u001b[43mis_causal\u001b[49m\u001b[38;5;241;43m=\u001b[39;49m\u001b[43mis_causal\u001b[49m\u001b[43m,\u001b[49m\n\u001b[1;32m    528\u001b[0m \u001b[43m        \u001b[49m\u001b[43msrc_key_padding_mask\u001b[49m\u001b[38;5;241;43m=\u001b[39;49m\u001b[43msrc_key_padding_mask_for_layers\u001b[49m\u001b[43m,\u001b[49m\n\u001b[1;32m    529\u001b[0m \u001b[43m    \u001b[49m\u001b[43m)\u001b[49m\n\u001b[1;32m    531\u001b[0m \u001b[38;5;28;01mif\u001b[39;00m convert_to_nested:\n\u001b[1;32m    532\u001b[0m     output \u001b[38;5;241m=\u001b[39m output\u001b[38;5;241m.\u001b[39mto_padded_tensor(\u001b[38;5;241m0.0\u001b[39m, src\u001b[38;5;241m.\u001b[39msize())\n",
      "File \u001b[0;32m~/personal/uni/project/.venv/lib/python3.10/site-packages/torch/nn/modules/module.py:1773\u001b[0m, in \u001b[0;36mModule._wrapped_call_impl\u001b[0;34m(self, *args, **kwargs)\u001b[0m\n\u001b[1;32m   1771\u001b[0m     \u001b[38;5;28;01mreturn\u001b[39;00m \u001b[38;5;28mself\u001b[39m\u001b[38;5;241m.\u001b[39m_compiled_call_impl(\u001b[38;5;241m*\u001b[39margs, \u001b[38;5;241m*\u001b[39m\u001b[38;5;241m*\u001b[39mkwargs)  \u001b[38;5;66;03m# type: ignore[misc]\u001b[39;00m\n\u001b[1;32m   1772\u001b[0m \u001b[38;5;28;01melse\u001b[39;00m:\n\u001b[0;32m-> 1773\u001b[0m     \u001b[38;5;28;01mreturn\u001b[39;00m \u001b[38;5;28;43mself\u001b[39;49m\u001b[38;5;241;43m.\u001b[39;49m\u001b[43m_call_impl\u001b[49m\u001b[43m(\u001b[49m\u001b[38;5;241;43m*\u001b[39;49m\u001b[43margs\u001b[49m\u001b[43m,\u001b[49m\u001b[43m \u001b[49m\u001b[38;5;241;43m*\u001b[39;49m\u001b[38;5;241;43m*\u001b[39;49m\u001b[43mkwargs\u001b[49m\u001b[43m)\u001b[49m\n",
      "File \u001b[0;32m~/personal/uni/project/.venv/lib/python3.10/site-packages/torch/nn/modules/module.py:1784\u001b[0m, in \u001b[0;36mModule._call_impl\u001b[0;34m(self, *args, **kwargs)\u001b[0m\n\u001b[1;32m   1779\u001b[0m \u001b[38;5;66;03m# If we don't have any hooks, we want to skip the rest of the logic in\u001b[39;00m\n\u001b[1;32m   1780\u001b[0m \u001b[38;5;66;03m# this function, and just call forward.\u001b[39;00m\n\u001b[1;32m   1781\u001b[0m \u001b[38;5;28;01mif\u001b[39;00m \u001b[38;5;129;01mnot\u001b[39;00m (\u001b[38;5;28mself\u001b[39m\u001b[38;5;241m.\u001b[39m_backward_hooks \u001b[38;5;129;01mor\u001b[39;00m \u001b[38;5;28mself\u001b[39m\u001b[38;5;241m.\u001b[39m_backward_pre_hooks \u001b[38;5;129;01mor\u001b[39;00m \u001b[38;5;28mself\u001b[39m\u001b[38;5;241m.\u001b[39m_forward_hooks \u001b[38;5;129;01mor\u001b[39;00m \u001b[38;5;28mself\u001b[39m\u001b[38;5;241m.\u001b[39m_forward_pre_hooks\n\u001b[1;32m   1782\u001b[0m         \u001b[38;5;129;01mor\u001b[39;00m _global_backward_pre_hooks \u001b[38;5;129;01mor\u001b[39;00m _global_backward_hooks\n\u001b[1;32m   1783\u001b[0m         \u001b[38;5;129;01mor\u001b[39;00m _global_forward_hooks \u001b[38;5;129;01mor\u001b[39;00m _global_forward_pre_hooks):\n\u001b[0;32m-> 1784\u001b[0m     \u001b[38;5;28;01mreturn\u001b[39;00m \u001b[43mforward_call\u001b[49m\u001b[43m(\u001b[49m\u001b[38;5;241;43m*\u001b[39;49m\u001b[43margs\u001b[49m\u001b[43m,\u001b[49m\u001b[43m \u001b[49m\u001b[38;5;241;43m*\u001b[39;49m\u001b[38;5;241;43m*\u001b[39;49m\u001b[43mkwargs\u001b[49m\u001b[43m)\u001b[49m\n\u001b[1;32m   1786\u001b[0m result \u001b[38;5;241m=\u001b[39m \u001b[38;5;28;01mNone\u001b[39;00m\n\u001b[1;32m   1787\u001b[0m called_always_called_hooks \u001b[38;5;241m=\u001b[39m \u001b[38;5;28mset\u001b[39m()\n",
      "File \u001b[0;32m~/personal/uni/project/.venv/lib/python3.10/site-packages/torch/nn/modules/transformer.py:937\u001b[0m, in \u001b[0;36mTransformerEncoderLayer.forward\u001b[0;34m(self, src, src_mask, src_key_padding_mask, is_causal)\u001b[0m\n\u001b[1;32m    932\u001b[0m \u001b[38;5;28;01melse\u001b[39;00m:\n\u001b[1;32m    933\u001b[0m     x \u001b[38;5;241m=\u001b[39m \u001b[38;5;28mself\u001b[39m\u001b[38;5;241m.\u001b[39mnorm1(\n\u001b[1;32m    934\u001b[0m         x\n\u001b[1;32m    935\u001b[0m         \u001b[38;5;241m+\u001b[39m \u001b[38;5;28mself\u001b[39m\u001b[38;5;241m.\u001b[39m_sa_block(x, src_mask, src_key_padding_mask, is_causal\u001b[38;5;241m=\u001b[39mis_causal)\n\u001b[1;32m    936\u001b[0m     )\n\u001b[0;32m--> 937\u001b[0m     x \u001b[38;5;241m=\u001b[39m \u001b[38;5;28mself\u001b[39m\u001b[38;5;241m.\u001b[39mnorm2(x \u001b[38;5;241m+\u001b[39m \u001b[38;5;28;43mself\u001b[39;49m\u001b[38;5;241;43m.\u001b[39;49m\u001b[43m_ff_block\u001b[49m\u001b[43m(\u001b[49m\u001b[43mx\u001b[49m\u001b[43m)\u001b[49m)\n\u001b[1;32m    939\u001b[0m \u001b[38;5;28;01mreturn\u001b[39;00m x\n",
      "File \u001b[0;32m~/personal/uni/project/.venv/lib/python3.10/site-packages/torch/nn/modules/transformer.py:962\u001b[0m, in \u001b[0;36mTransformerEncoderLayer._ff_block\u001b[0;34m(self, x)\u001b[0m\n\u001b[1;32m    961\u001b[0m \u001b[38;5;28;01mdef\u001b[39;00m\u001b[38;5;250m \u001b[39m\u001b[38;5;21m_ff_block\u001b[39m(\u001b[38;5;28mself\u001b[39m, x: Tensor) \u001b[38;5;241m-\u001b[39m\u001b[38;5;241m>\u001b[39m Tensor:\n\u001b[0;32m--> 962\u001b[0m     x \u001b[38;5;241m=\u001b[39m \u001b[38;5;28mself\u001b[39m\u001b[38;5;241m.\u001b[39mlinear2(\u001b[38;5;28mself\u001b[39m\u001b[38;5;241m.\u001b[39mdropout(\u001b[38;5;28mself\u001b[39m\u001b[38;5;241m.\u001b[39mactivation(\u001b[38;5;28;43mself\u001b[39;49m\u001b[38;5;241;43m.\u001b[39;49m\u001b[43mlinear1\u001b[49m\u001b[43m(\u001b[49m\u001b[43mx\u001b[49m\u001b[43m)\u001b[49m)))\n\u001b[1;32m    963\u001b[0m     \u001b[38;5;28;01mreturn\u001b[39;00m \u001b[38;5;28mself\u001b[39m\u001b[38;5;241m.\u001b[39mdropout2(x)\n",
      "File \u001b[0;32m~/personal/uni/project/.venv/lib/python3.10/site-packages/torch/nn/modules/module.py:1773\u001b[0m, in \u001b[0;36mModule._wrapped_call_impl\u001b[0;34m(self, *args, **kwargs)\u001b[0m\n\u001b[1;32m   1771\u001b[0m     \u001b[38;5;28;01mreturn\u001b[39;00m \u001b[38;5;28mself\u001b[39m\u001b[38;5;241m.\u001b[39m_compiled_call_impl(\u001b[38;5;241m*\u001b[39margs, \u001b[38;5;241m*\u001b[39m\u001b[38;5;241m*\u001b[39mkwargs)  \u001b[38;5;66;03m# type: ignore[misc]\u001b[39;00m\n\u001b[1;32m   1772\u001b[0m \u001b[38;5;28;01melse\u001b[39;00m:\n\u001b[0;32m-> 1773\u001b[0m     \u001b[38;5;28;01mreturn\u001b[39;00m \u001b[38;5;28;43mself\u001b[39;49m\u001b[38;5;241;43m.\u001b[39;49m\u001b[43m_call_impl\u001b[49m\u001b[43m(\u001b[49m\u001b[38;5;241;43m*\u001b[39;49m\u001b[43margs\u001b[49m\u001b[43m,\u001b[49m\u001b[43m \u001b[49m\u001b[38;5;241;43m*\u001b[39;49m\u001b[38;5;241;43m*\u001b[39;49m\u001b[43mkwargs\u001b[49m\u001b[43m)\u001b[49m\n",
      "File \u001b[0;32m~/personal/uni/project/.venv/lib/python3.10/site-packages/torch/nn/modules/module.py:1784\u001b[0m, in \u001b[0;36mModule._call_impl\u001b[0;34m(self, *args, **kwargs)\u001b[0m\n\u001b[1;32m   1779\u001b[0m \u001b[38;5;66;03m# If we don't have any hooks, we want to skip the rest of the logic in\u001b[39;00m\n\u001b[1;32m   1780\u001b[0m \u001b[38;5;66;03m# this function, and just call forward.\u001b[39;00m\n\u001b[1;32m   1781\u001b[0m \u001b[38;5;28;01mif\u001b[39;00m \u001b[38;5;129;01mnot\u001b[39;00m (\u001b[38;5;28mself\u001b[39m\u001b[38;5;241m.\u001b[39m_backward_hooks \u001b[38;5;129;01mor\u001b[39;00m \u001b[38;5;28mself\u001b[39m\u001b[38;5;241m.\u001b[39m_backward_pre_hooks \u001b[38;5;129;01mor\u001b[39;00m \u001b[38;5;28mself\u001b[39m\u001b[38;5;241m.\u001b[39m_forward_hooks \u001b[38;5;129;01mor\u001b[39;00m \u001b[38;5;28mself\u001b[39m\u001b[38;5;241m.\u001b[39m_forward_pre_hooks\n\u001b[1;32m   1782\u001b[0m         \u001b[38;5;129;01mor\u001b[39;00m _global_backward_pre_hooks \u001b[38;5;129;01mor\u001b[39;00m _global_backward_hooks\n\u001b[1;32m   1783\u001b[0m         \u001b[38;5;129;01mor\u001b[39;00m _global_forward_hooks \u001b[38;5;129;01mor\u001b[39;00m _global_forward_pre_hooks):\n\u001b[0;32m-> 1784\u001b[0m     \u001b[38;5;28;01mreturn\u001b[39;00m \u001b[43mforward_call\u001b[49m\u001b[43m(\u001b[49m\u001b[38;5;241;43m*\u001b[39;49m\u001b[43margs\u001b[49m\u001b[43m,\u001b[49m\u001b[43m \u001b[49m\u001b[38;5;241;43m*\u001b[39;49m\u001b[38;5;241;43m*\u001b[39;49m\u001b[43mkwargs\u001b[49m\u001b[43m)\u001b[49m\n\u001b[1;32m   1786\u001b[0m result \u001b[38;5;241m=\u001b[39m \u001b[38;5;28;01mNone\u001b[39;00m\n\u001b[1;32m   1787\u001b[0m called_always_called_hooks \u001b[38;5;241m=\u001b[39m \u001b[38;5;28mset\u001b[39m()\n",
      "File \u001b[0;32m~/personal/uni/project/.venv/lib/python3.10/site-packages/torch/nn/modules/linear.py:125\u001b[0m, in \u001b[0;36mLinear.forward\u001b[0;34m(self, input)\u001b[0m\n\u001b[1;32m    124\u001b[0m \u001b[38;5;28;01mdef\u001b[39;00m\u001b[38;5;250m \u001b[39m\u001b[38;5;21mforward\u001b[39m(\u001b[38;5;28mself\u001b[39m, \u001b[38;5;28minput\u001b[39m: Tensor) \u001b[38;5;241m-\u001b[39m\u001b[38;5;241m>\u001b[39m Tensor:\n\u001b[0;32m--> 125\u001b[0m     \u001b[38;5;28;01mreturn\u001b[39;00m \u001b[43mF\u001b[49m\u001b[38;5;241;43m.\u001b[39;49m\u001b[43mlinear\u001b[49m\u001b[43m(\u001b[49m\u001b[38;5;28;43minput\u001b[39;49m\u001b[43m,\u001b[49m\u001b[43m \u001b[49m\u001b[38;5;28;43mself\u001b[39;49m\u001b[38;5;241;43m.\u001b[39;49m\u001b[43mweight\u001b[49m\u001b[43m,\u001b[49m\u001b[43m \u001b[49m\u001b[38;5;28;43mself\u001b[39;49m\u001b[38;5;241;43m.\u001b[39;49m\u001b[43mbias\u001b[49m\u001b[43m)\u001b[49m\n",
      "\u001b[0;31mKeyboardInterrupt\u001b[0m: "
     ]
    }
   ],
   "source": [
    "study = optuna.create_study(storage=\"sqlite:///db.sqlite3\", study_name=\"feature_selection\", load_if_exists=True)\n",
    "study.optimize(objective, n_trials=100, n_jobs=1)\n",
    "\n",
    "study.best_params "
   ]
  },
  {
   "cell_type": "code",
   "execution_count": 1,
   "id": "1d42e13a",
   "metadata": {},
   "outputs": [
    {
     "ename": "NameError",
     "evalue": "name 'study' is not defined",
     "output_type": "error",
     "traceback": [
      "\u001b[0;31m---------------------------------------------------------------------------\u001b[0m",
      "\u001b[0;31mNameError\u001b[0m                                 Traceback (most recent call last)",
      "Cell \u001b[0;32mIn[1], line 1\u001b[0m\n\u001b[0;32m----> 1\u001b[0m \u001b[43mstudy\u001b[49m\u001b[38;5;241m.\u001b[39mbest_params\n",
      "\u001b[0;31mNameError\u001b[0m: name 'study' is not defined"
     ]
    }
   ],
   "source": [
    "study.best_params"
   ]
  }
 ],
 "metadata": {
  "kernelspec": {
   "display_name": ".venv",
   "language": "python",
   "name": "python3"
  },
  "language_info": {
   "codemirror_mode": {
    "name": "ipython",
    "version": 3
   },
   "file_extension": ".py",
   "mimetype": "text/x-python",
   "name": "python",
   "nbconvert_exporter": "python",
   "pygments_lexer": "ipython3",
   "version": "3.13.5"
  }
 },
 "nbformat": 4,
 "nbformat_minor": 5
}
