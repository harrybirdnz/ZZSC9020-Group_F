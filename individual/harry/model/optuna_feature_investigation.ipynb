{
 "cells": [
  {
   "cell_type": "code",
   "execution_count": 1,
   "id": "900d5a72",
   "metadata": {},
   "outputs": [],
   "source": [
    "#imports\n",
    "import optuna\n",
    "from model import *"
   ]
  },
  {
   "cell_type": "code",
   "execution_count": null,
   "id": "522e7340",
   "metadata": {},
   "outputs": [],
   "source": [
    "## Optuna Function\n",
    "def objective(trial):\n",
    "    # Detect device\n",
    "    device = torch.device('cuda' if torch.cuda.is_available() else 'cpu')\n",
    "\n",
    "    # Suggest hyperparameters\n",
    "    # Restrict d_model and nhead to best from first optuna to get better insights (no inf)\n",
    "    d_model = 48\n",
    "    nhead = 6\n",
    "    \n",
    "    seasons = trial.suggest_int(\"seasons\", 0, 1)\n",
    "    days = trial.suggest_int(\"weekdays\", 0, 1)\n",
    "    weekday_weekend = trial.suggest_int(\"weekday_weekend\", 0, 1)\n",
    "    months = trial.suggest_int(\"months\", 0, 1)\n",
    "    min_demand = trial.suggest_int(\"min_demand\", 0, 1)\n",
    "    avg_demand = trial.suggest_int(\"avg_demand\", 0, 1)\n",
    "    max_demand = trial.suggest_int(\"max_demand\", 0, 1)\n",
    "    avg_temp = trial.suggest_int(\"avg_temp\", 0, 1)\n",
    "    max_temp = trial.suggest_int(\"max_temp\", 0, 1)\n",
    "    min_temp = trial.suggest_int(\"min_temp\", 0, 1)\n",
    "    hd = trial.suggest_int(\"hd\", 0, 1)\n",
    "    cd = trial.suggest_int(\"cd\", 0, 1)\n",
    "    features = ['sum_30_min_demand']  # Always include sum_30_min_demand\n",
    "    cases = [seasons, days, weekday_weekend, months, min_demand, avg_demand, max_demand, avg_temp, max_temp, min_temp, hd, cd]\n",
    "    feature_names = [['is_summer', 'is_autumn', 'is_winter', 'is_spring'], \n",
    "                     ['is_monday', 'is_tuesday', 'is_wednesday', 'is_thursday', 'is_friday', 'is_saturday', 'is_sunday'], \n",
    "                     ['is_weekday', 'is_weekend'], \n",
    "                     ['is_jan', 'is_feb', 'is_mar', 'is_apr', 'is_may', 'is_jun', 'is_jul', 'is_aug', 'is_sep', 'is_oct', 'is_nov', 'is_dec'], \n",
    "                     ['min_30_min_demand'],\n",
    "                     ['avg_30_min_demand'],\n",
    "                     ['max_30_min_demand'], \n",
    "                     ['avg_temp'], \n",
    "                     ['max_temp'], \n",
    "                     ['min_temp'], \n",
    "                     ['hd_next_24h'], \n",
    "                     ['cd_next_24h']]\n",
    "    for i in range(len(cases)):\n",
    "        if cases[i] == 1:\n",
    "            features += feature_names[i]\n",
    "\n",
    "    params = {\n",
    "        'learning_rate': 0.0002,\n",
    "        'batch_size': 22,\n",
    "        'seq_length': 7,\n",
    "        'transformer_encoder_layer_params': {\n",
    "            'd_model': d_model,\n",
    "            'nhead': nhead,\n",
    "            'dim_feedforward': 400,\n",
    "            'dropout': 0.05,\n",
    "            'activation': 'relu'\n",
    "        },\n",
    "        'transformer_layer_params': {\n",
    "            'num_layers': 1,\n",
    "        },\n",
    "        'dataset': '2010-2019',\n",
    "        'train_test_split': '80:20',\n",
    "        'features': features,\n",
    "        'visualise': False,\n",
    "    }\n",
    "\n",
    "    \n",
    "    return train_model(params)"
   ]
  },
  {
   "cell_type": "code",
   "execution_count": 3,
   "id": "f764341f",
   "metadata": {},
   "outputs": [
    {
     "name": "stderr",
     "output_type": "stream",
     "text": [
      "[I 2025-09-27 14:55:29,056] A new study created in RDB with name: feature_selection\n"
     ]
    },
    {
     "name": "stdout",
     "output_type": "stream",
     "text": [
      "Using device: cuda\n"
     ]
    },
    {
     "name": "stderr",
     "output_type": "stream",
     "text": [
      "[I 2025-09-27 14:57:08,361] Trial 0 finished with value: 5720.387183932894 and parameters: {'seasons': 1, 'weekdays': 1, 'weekday_weekend': 1, 'months': 1, 'min_demand': 1, 'avg_demand': 0, 'max_demand': 1, 'avg_temp': 1, 'max_temp': 1, 'min_temp': 0, 'hd': 0, 'cd': 1}. Best is trial 0 with value: 5720.387183932894.\n"
     ]
    },
    {
     "name": "stdout",
     "output_type": "stream",
     "text": [
      "Using device: cuda\n"
     ]
    },
    {
     "name": "stderr",
     "output_type": "stream",
     "text": [
      "[I 2025-09-27 14:58:42,689] Trial 1 finished with value: 6314.583643334591 and parameters: {'seasons': 1, 'weekdays': 1, 'weekday_weekend': 1, 'months': 0, 'min_demand': 0, 'avg_demand': 0, 'max_demand': 1, 'avg_temp': 0, 'max_temp': 1, 'min_temp': 1, 'hd': 0, 'cd': 0}. Best is trial 0 with value: 5720.387183932894.\n"
     ]
    },
    {
     "name": "stdout",
     "output_type": "stream",
     "text": [
      "Using device: cuda\n"
     ]
    },
    {
     "name": "stderr",
     "output_type": "stream",
     "text": [
      "[I 2025-09-27 14:59:43,695] Trial 2 finished with value: 6844.035421839967 and parameters: {'seasons': 0, 'weekdays': 1, 'weekday_weekend': 0, 'months': 0, 'min_demand': 1, 'avg_demand': 0, 'max_demand': 1, 'avg_temp': 0, 'max_temp': 1, 'min_temp': 0, 'hd': 1, 'cd': 1}. Best is trial 0 with value: 5720.387183932894.\n"
     ]
    },
    {
     "name": "stdout",
     "output_type": "stream",
     "text": [
      "Using device: cuda\n"
     ]
    },
    {
     "name": "stderr",
     "output_type": "stream",
     "text": [
      "[I 2025-09-27 15:01:01,294] Trial 3 finished with value: 7175.392673444762 and parameters: {'seasons': 0, 'weekdays': 1, 'weekday_weekend': 0, 'months': 0, 'min_demand': 0, 'avg_demand': 1, 'max_demand': 0, 'avg_temp': 0, 'max_temp': 1, 'min_temp': 1, 'hd': 0, 'cd': 0}. Best is trial 0 with value: 5720.387183932894.\n"
     ]
    },
    {
     "name": "stdout",
     "output_type": "stream",
     "text": [
      "Using device: cuda\n"
     ]
    },
    {
     "name": "stderr",
     "output_type": "stream",
     "text": [
      "[I 2025-09-27 15:02:05,140] Trial 4 finished with value: 6319.638874066896 and parameters: {'seasons': 1, 'weekdays': 1, 'weekday_weekend': 0, 'months': 1, 'min_demand': 0, 'avg_demand': 1, 'max_demand': 0, 'avg_temp': 0, 'max_temp': 0, 'min_temp': 0, 'hd': 1, 'cd': 1}. Best is trial 0 with value: 5720.387183932894.\n"
     ]
    },
    {
     "name": "stdout",
     "output_type": "stream",
     "text": [
      "Using device: cuda\n"
     ]
    },
    {
     "name": "stderr",
     "output_type": "stream",
     "text": [
      "[I 2025-09-27 15:03:02,144] Trial 5 finished with value: 6278.212235177024 and parameters: {'seasons': 0, 'weekdays': 1, 'weekday_weekend': 1, 'months': 1, 'min_demand': 1, 'avg_demand': 1, 'max_demand': 1, 'avg_temp': 1, 'max_temp': 1, 'min_temp': 0, 'hd': 1, 'cd': 1}. Best is trial 0 with value: 5720.387183932894.\n"
     ]
    },
    {
     "name": "stdout",
     "output_type": "stream",
     "text": [
      "Using device: cuda\n"
     ]
    },
    {
     "name": "stderr",
     "output_type": "stream",
     "text": [
      "[I 2025-09-27 15:04:27,432] Trial 6 finished with value: 7602.292893949962 and parameters: {'seasons': 0, 'weekdays': 0, 'weekday_weekend': 1, 'months': 1, 'min_demand': 0, 'avg_demand': 1, 'max_demand': 0, 'avg_temp': 1, 'max_temp': 0, 'min_temp': 1, 'hd': 0, 'cd': 0}. Best is trial 0 with value: 5720.387183932894.\n"
     ]
    },
    {
     "name": "stdout",
     "output_type": "stream",
     "text": [
      "Using device: cuda\n"
     ]
    },
    {
     "name": "stderr",
     "output_type": "stream",
     "text": [
      "[I 2025-09-27 15:05:41,568] Trial 7 finished with value: 6697.595134818753 and parameters: {'seasons': 1, 'weekdays': 1, 'weekday_weekend': 1, 'months': 0, 'min_demand': 0, 'avg_demand': 0, 'max_demand': 1, 'avg_temp': 0, 'max_temp': 0, 'min_temp': 1, 'hd': 1, 'cd': 1}. Best is trial 0 with value: 5720.387183932894.\n"
     ]
    },
    {
     "name": "stdout",
     "output_type": "stream",
     "text": [
      "Using device: cuda\n"
     ]
    },
    {
     "name": "stderr",
     "output_type": "stream",
     "text": [
      "[I 2025-09-27 15:07:04,526] Trial 8 finished with value: 7226.567583532828 and parameters: {'seasons': 0, 'weekdays': 0, 'weekday_weekend': 0, 'months': 0, 'min_demand': 1, 'avg_demand': 0, 'max_demand': 1, 'avg_temp': 0, 'max_temp': 0, 'min_temp': 0, 'hd': 1, 'cd': 1}. Best is trial 0 with value: 5720.387183932894.\n"
     ]
    },
    {
     "name": "stdout",
     "output_type": "stream",
     "text": [
      "Using device: cuda\n"
     ]
    },
    {
     "name": "stderr",
     "output_type": "stream",
     "text": [
      "[I 2025-09-27 15:08:20,567] Trial 9 finished with value: 8013.47651560559 and parameters: {'seasons': 1, 'weekdays': 0, 'weekday_weekend': 1, 'months': 0, 'min_demand': 0, 'avg_demand': 1, 'max_demand': 1, 'avg_temp': 0, 'max_temp': 0, 'min_temp': 0, 'hd': 1, 'cd': 0}. Best is trial 0 with value: 5720.387183932894.\n"
     ]
    },
    {
     "name": "stdout",
     "output_type": "stream",
     "text": [
      "Using device: cuda\n"
     ]
    },
    {
     "name": "stderr",
     "output_type": "stream",
     "text": [
      "[I 2025-09-27 15:10:07,851] Trial 10 finished with value: 5853.443528077981 and parameters: {'seasons': 1, 'weekdays': 0, 'weekday_weekend': 1, 'months': 1, 'min_demand': 1, 'avg_demand': 0, 'max_demand': 0, 'avg_temp': 1, 'max_temp': 1, 'min_temp': 0, 'hd': 0, 'cd': 1}. Best is trial 0 with value: 5720.387183932894.\n"
     ]
    },
    {
     "name": "stdout",
     "output_type": "stream",
     "text": [
      "Using device: cuda\n"
     ]
    },
    {
     "name": "stderr",
     "output_type": "stream",
     "text": [
      "[I 2025-09-27 15:11:55,430] Trial 11 finished with value: 6015.9772849575775 and parameters: {'seasons': 1, 'weekdays': 0, 'weekday_weekend': 1, 'months': 1, 'min_demand': 1, 'avg_demand': 0, 'max_demand': 0, 'avg_temp': 1, 'max_temp': 1, 'min_temp': 0, 'hd': 0, 'cd': 1}. Best is trial 0 with value: 5720.387183932894.\n"
     ]
    },
    {
     "name": "stdout",
     "output_type": "stream",
     "text": [
      "Using device: cuda\n"
     ]
    },
    {
     "name": "stderr",
     "output_type": "stream",
     "text": [
      "[I 2025-09-27 15:13:44,542] Trial 12 finished with value: 6226.833992030481 and parameters: {'seasons': 1, 'weekdays': 0, 'weekday_weekend': 1, 'months': 1, 'min_demand': 1, 'avg_demand': 0, 'max_demand': 0, 'avg_temp': 1, 'max_temp': 1, 'min_temp': 0, 'hd': 0, 'cd': 1}. Best is trial 0 with value: 5720.387183932894.\n"
     ]
    },
    {
     "name": "stdout",
     "output_type": "stream",
     "text": [
      "Using device: cuda\n"
     ]
    },
    {
     "name": "stderr",
     "output_type": "stream",
     "text": [
      "[I 2025-09-27 15:15:12,440] Trial 13 finished with value: 6309.324762037146 and parameters: {'seasons': 1, 'weekdays': 0, 'weekday_weekend': 1, 'months': 1, 'min_demand': 1, 'avg_demand': 0, 'max_demand': 0, 'avg_temp': 1, 'max_temp': 1, 'min_temp': 0, 'hd': 0, 'cd': 1}. Best is trial 0 with value: 5720.387183932894.\n"
     ]
    },
    {
     "name": "stdout",
     "output_type": "stream",
     "text": [
      "Using device: cuda\n"
     ]
    },
    {
     "name": "stderr",
     "output_type": "stream",
     "text": [
      "[I 2025-09-27 15:16:45,925] Trial 14 finished with value: 6615.108548881913 and parameters: {'seasons': 1, 'weekdays': 0, 'weekday_weekend': 1, 'months': 1, 'min_demand': 1, 'avg_demand': 0, 'max_demand': 1, 'avg_temp': 1, 'max_temp': 1, 'min_temp': 0, 'hd': 0, 'cd': 1}. Best is trial 0 with value: 5720.387183932894.\n"
     ]
    },
    {
     "name": "stdout",
     "output_type": "stream",
     "text": [
      "Using device: cuda\n"
     ]
    },
    {
     "name": "stderr",
     "output_type": "stream",
     "text": [
      "[I 2025-09-27 15:17:56,332] Trial 15 finished with value: 5725.417890343849 and parameters: {'seasons': 1, 'weekdays': 1, 'weekday_weekend': 1, 'months': 1, 'min_demand': 1, 'avg_demand': 0, 'max_demand': 0, 'avg_temp': 1, 'max_temp': 1, 'min_temp': 0, 'hd': 0, 'cd': 1}. Best is trial 0 with value: 5720.387183932894.\n"
     ]
    },
    {
     "name": "stdout",
     "output_type": "stream",
     "text": [
      "Using device: cuda\n"
     ]
    },
    {
     "name": "stderr",
     "output_type": "stream",
     "text": [
      "[I 2025-09-27 15:19:47,994] Trial 16 finished with value: 5438.6007812187445 and parameters: {'seasons': 1, 'weekdays': 1, 'weekday_weekend': 1, 'months': 1, 'min_demand': 1, 'avg_demand': 0, 'max_demand': 0, 'avg_temp': 1, 'max_temp': 1, 'min_temp': 0, 'hd': 0, 'cd': 1}. Best is trial 16 with value: 5438.6007812187445.\n"
     ]
    },
    {
     "name": "stdout",
     "output_type": "stream",
     "text": [
      "Using device: cuda\n"
     ]
    },
    {
     "name": "stderr",
     "output_type": "stream",
     "text": [
      "[I 2025-09-27 15:20:53,981] Trial 17 finished with value: 6382.598057137244 and parameters: {'seasons': 1, 'weekdays': 1, 'weekday_weekend': 0, 'months': 1, 'min_demand': 1, 'avg_demand': 0, 'max_demand': 1, 'avg_temp': 1, 'max_temp': 1, 'min_temp': 1, 'hd': 0, 'cd': 0}. Best is trial 16 with value: 5438.6007812187445.\n"
     ]
    },
    {
     "name": "stdout",
     "output_type": "stream",
     "text": [
      "Using device: cuda\n"
     ]
    },
    {
     "name": "stderr",
     "output_type": "stream",
     "text": [
      "[I 2025-09-27 15:22:20,931] Trial 18 finished with value: 5704.677597961682 and parameters: {'seasons': 1, 'weekdays': 1, 'weekday_weekend': 1, 'months': 1, 'min_demand': 1, 'avg_demand': 0, 'max_demand': 0, 'avg_temp': 1, 'max_temp': 1, 'min_temp': 0, 'hd': 0, 'cd': 1}. Best is trial 16 with value: 5438.6007812187445.\n"
     ]
    },
    {
     "name": "stdout",
     "output_type": "stream",
     "text": [
      "Using device: cuda\n"
     ]
    },
    {
     "name": "stderr",
     "output_type": "stream",
     "text": [
      "[I 2025-09-27 15:23:51,223] Trial 19 finished with value: 5612.023544529194 and parameters: {'seasons': 1, 'weekdays': 1, 'weekday_weekend': 1, 'months': 1, 'min_demand': 1, 'avg_demand': 0, 'max_demand': 0, 'avg_temp': 1, 'max_temp': 1, 'min_temp': 0, 'hd': 0, 'cd': 1}. Best is trial 16 with value: 5438.6007812187445.\n"
     ]
    },
    {
     "name": "stdout",
     "output_type": "stream",
     "text": [
      "Using device: cuda\n"
     ]
    },
    {
     "name": "stderr",
     "output_type": "stream",
     "text": [
      "[I 2025-09-27 15:24:51,982] Trial 20 finished with value: 6673.669475914293 and parameters: {'seasons': 0, 'weekdays': 1, 'weekday_weekend': 0, 'months': 1, 'min_demand': 1, 'avg_demand': 1, 'max_demand': 0, 'avg_temp': 1, 'max_temp': 0, 'min_temp': 1, 'hd': 0, 'cd': 0}. Best is trial 16 with value: 5438.6007812187445.\n"
     ]
    },
    {
     "name": "stdout",
     "output_type": "stream",
     "text": [
      "Using device: cuda\n"
     ]
    },
    {
     "name": "stderr",
     "output_type": "stream",
     "text": [
      "[I 2025-09-27 15:26:25,784] Trial 21 finished with value: 5366.858716006926 and parameters: {'seasons': 1, 'weekdays': 1, 'weekday_weekend': 1, 'months': 1, 'min_demand': 1, 'avg_demand': 0, 'max_demand': 0, 'avg_temp': 1, 'max_temp': 1, 'min_temp': 0, 'hd': 0, 'cd': 1}. Best is trial 21 with value: 5366.858716006926.\n"
     ]
    },
    {
     "name": "stdout",
     "output_type": "stream",
     "text": [
      "Using device: cuda\n"
     ]
    },
    {
     "name": "stderr",
     "output_type": "stream",
     "text": [
      "[I 2025-09-27 15:28:02,307] Trial 22 finished with value: 5987.929937480678 and parameters: {'seasons': 1, 'weekdays': 1, 'weekday_weekend': 1, 'months': 1, 'min_demand': 1, 'avg_demand': 0, 'max_demand': 0, 'avg_temp': 1, 'max_temp': 1, 'min_temp': 0, 'hd': 0, 'cd': 1}. Best is trial 21 with value: 5366.858716006926.\n"
     ]
    },
    {
     "name": "stdout",
     "output_type": "stream",
     "text": [
      "Using device: cuda\n"
     ]
    },
    {
     "name": "stderr",
     "output_type": "stream",
     "text": [
      "[I 2025-09-27 15:29:46,497] Trial 23 finished with value: 5626.226801674457 and parameters: {'seasons': 1, 'weekdays': 1, 'weekday_weekend': 1, 'months': 1, 'min_demand': 1, 'avg_demand': 0, 'max_demand': 0, 'avg_temp': 1, 'max_temp': 1, 'min_temp': 0, 'hd': 0, 'cd': 1}. Best is trial 21 with value: 5366.858716006926.\n"
     ]
    },
    {
     "name": "stdout",
     "output_type": "stream",
     "text": [
      "Using device: cuda\n"
     ]
    },
    {
     "name": "stderr",
     "output_type": "stream",
     "text": [
      "[I 2025-09-27 15:31:25,421] Trial 24 finished with value: 6258.491661921742 and parameters: {'seasons': 1, 'weekdays': 1, 'weekday_weekend': 1, 'months': 1, 'min_demand': 1, 'avg_demand': 0, 'max_demand': 0, 'avg_temp': 1, 'max_temp': 1, 'min_temp': 0, 'hd': 0, 'cd': 1}. Best is trial 21 with value: 5366.858716006926.\n"
     ]
    },
    {
     "name": "stdout",
     "output_type": "stream",
     "text": [
      "Using device: cuda\n"
     ]
    },
    {
     "name": "stderr",
     "output_type": "stream",
     "text": [
      "[I 2025-09-27 15:33:32,763] Trial 25 finished with value: 5351.635186201549 and parameters: {'seasons': 1, 'weekdays': 1, 'weekday_weekend': 1, 'months': 1, 'min_demand': 1, 'avg_demand': 0, 'max_demand': 0, 'avg_temp': 1, 'max_temp': 1, 'min_temp': 0, 'hd': 0, 'cd': 1}. Best is trial 25 with value: 5351.635186201549.\n"
     ]
    },
    {
     "name": "stdout",
     "output_type": "stream",
     "text": [
      "Using device: cuda\n"
     ]
    },
    {
     "name": "stderr",
     "output_type": "stream",
     "text": [
      "[I 2025-09-27 15:35:10,867] Trial 26 finished with value: 5916.27445169847 and parameters: {'seasons': 1, 'weekdays': 1, 'weekday_weekend': 1, 'months': 1, 'min_demand': 1, 'avg_demand': 0, 'max_demand': 0, 'avg_temp': 1, 'max_temp': 1, 'min_temp': 0, 'hd': 0, 'cd': 1}. Best is trial 25 with value: 5351.635186201549.\n"
     ]
    },
    {
     "name": "stdout",
     "output_type": "stream",
     "text": [
      "Using device: cuda\n"
     ]
    },
    {
     "name": "stderr",
     "output_type": "stream",
     "text": [
      "[I 2025-09-27 15:36:32,326] Trial 27 finished with value: 6492.277118342409 and parameters: {'seasons': 1, 'weekdays': 1, 'weekday_weekend': 1, 'months': 1, 'min_demand': 1, 'avg_demand': 0, 'max_demand': 0, 'avg_temp': 1, 'max_temp': 1, 'min_temp': 0, 'hd': 0, 'cd': 1}. Best is trial 25 with value: 5351.635186201549.\n"
     ]
    },
    {
     "name": "stdout",
     "output_type": "stream",
     "text": [
      "Using device: cuda\n"
     ]
    },
    {
     "name": "stderr",
     "output_type": "stream",
     "text": [
      "[I 2025-09-27 15:38:12,276] Trial 28 finished with value: 5495.648462803487 and parameters: {'seasons': 1, 'weekdays': 1, 'weekday_weekend': 1, 'months': 1, 'min_demand': 1, 'avg_demand': 0, 'max_demand': 0, 'avg_temp': 1, 'max_temp': 1, 'min_temp': 0, 'hd': 0, 'cd': 1}. Best is trial 25 with value: 5351.635186201549.\n"
     ]
    },
    {
     "name": "stdout",
     "output_type": "stream",
     "text": [
      "Using device: cuda\n"
     ]
    },
    {
     "name": "stderr",
     "output_type": "stream",
     "text": [
      "[I 2025-09-27 15:39:37,029] Trial 29 finished with value: 5711.480531914357 and parameters: {'seasons': 1, 'weekdays': 1, 'weekday_weekend': 1, 'months': 1, 'min_demand': 1, 'avg_demand': 0, 'max_demand': 0, 'avg_temp': 1, 'max_temp': 1, 'min_temp': 0, 'hd': 0, 'cd': 1}. Best is trial 25 with value: 5351.635186201549.\n"
     ]
    },
    {
     "name": "stdout",
     "output_type": "stream",
     "text": [
      "Using device: cuda\n"
     ]
    },
    {
     "name": "stderr",
     "output_type": "stream",
     "text": [
      "[I 2025-09-27 15:41:27,208] Trial 30 finished with value: 6050.608588405607 and parameters: {'seasons': 1, 'weekdays': 1, 'weekday_weekend': 1, 'months': 1, 'min_demand': 1, 'avg_demand': 0, 'max_demand': 0, 'avg_temp': 1, 'max_temp': 1, 'min_temp': 0, 'hd': 0, 'cd': 1}. Best is trial 25 with value: 5351.635186201549.\n"
     ]
    },
    {
     "name": "stdout",
     "output_type": "stream",
     "text": [
      "Using device: cuda\n"
     ]
    },
    {
     "name": "stderr",
     "output_type": "stream",
     "text": [
      "[I 2025-09-27 15:42:52,819] Trial 31 finished with value: 6392.575900087473 and parameters: {'seasons': 1, 'weekdays': 1, 'weekday_weekend': 1, 'months': 1, 'min_demand': 1, 'avg_demand': 0, 'max_demand': 0, 'avg_temp': 1, 'max_temp': 1, 'min_temp': 0, 'hd': 0, 'cd': 1}. Best is trial 25 with value: 5351.635186201549.\n"
     ]
    },
    {
     "name": "stdout",
     "output_type": "stream",
     "text": [
      "Using device: cuda\n"
     ]
    },
    {
     "name": "stderr",
     "output_type": "stream",
     "text": [
      "[I 2025-09-27 15:44:22,722] Trial 32 finished with value: 5872.789662421771 and parameters: {'seasons': 1, 'weekdays': 1, 'weekday_weekend': 1, 'months': 1, 'min_demand': 1, 'avg_demand': 0, 'max_demand': 0, 'avg_temp': 1, 'max_temp': 1, 'min_temp': 0, 'hd': 0, 'cd': 1}. Best is trial 25 with value: 5351.635186201549.\n"
     ]
    },
    {
     "name": "stdout",
     "output_type": "stream",
     "text": [
      "Using device: cuda\n"
     ]
    },
    {
     "name": "stderr",
     "output_type": "stream",
     "text": [
      "[I 2025-09-27 15:45:33,008] Trial 33 finished with value: 6294.174401508187 and parameters: {'seasons': 1, 'weekdays': 1, 'weekday_weekend': 1, 'months': 1, 'min_demand': 1, 'avg_demand': 0, 'max_demand': 0, 'avg_temp': 1, 'max_temp': 1, 'min_temp': 0, 'hd': 0, 'cd': 1}. Best is trial 25 with value: 5351.635186201549.\n"
     ]
    },
    {
     "name": "stdout",
     "output_type": "stream",
     "text": [
      "Using device: cuda\n"
     ]
    },
    {
     "name": "stderr",
     "output_type": "stream",
     "text": [
      "[I 2025-09-27 15:46:55,359] Trial 34 finished with value: 6481.262060340481 and parameters: {'seasons': 1, 'weekdays': 1, 'weekday_weekend': 1, 'months': 0, 'min_demand': 1, 'avg_demand': 0, 'max_demand': 0, 'avg_temp': 1, 'max_temp': 1, 'min_temp': 0, 'hd': 0, 'cd': 1}. Best is trial 25 with value: 5351.635186201549.\n"
     ]
    },
    {
     "name": "stdout",
     "output_type": "stream",
     "text": [
      "Using device: cuda\n"
     ]
    },
    {
     "name": "stderr",
     "output_type": "stream",
     "text": [
      "[I 2025-09-27 15:47:55,331] Trial 35 finished with value: 6760.970670548002 and parameters: {'seasons': 1, 'weekdays': 1, 'weekday_weekend': 0, 'months': 1, 'min_demand': 0, 'avg_demand': 0, 'max_demand': 0, 'avg_temp': 1, 'max_temp': 1, 'min_temp': 0, 'hd': 0, 'cd': 0}. Best is trial 25 with value: 5351.635186201549.\n"
     ]
    },
    {
     "name": "stdout",
     "output_type": "stream",
     "text": [
      "Using device: cuda\n"
     ]
    },
    {
     "name": "stderr",
     "output_type": "stream",
     "text": [
      "[I 2025-09-27 15:48:46,221] Trial 36 finished with value: 6160.207799765803 and parameters: {'seasons': 0, 'weekdays': 1, 'weekday_weekend': 1, 'months': 1, 'min_demand': 1, 'avg_demand': 0, 'max_demand': 0, 'avg_temp': 0, 'max_temp': 1, 'min_temp': 1, 'hd': 0, 'cd': 1}. Best is trial 25 with value: 5351.635186201549.\n"
     ]
    },
    {
     "name": "stdout",
     "output_type": "stream",
     "text": [
      "Using device: cuda\n"
     ]
    },
    {
     "name": "stderr",
     "output_type": "stream",
     "text": [
      "[I 2025-09-27 15:50:14,891] Trial 37 finished with value: 6217.831687491866 and parameters: {'seasons': 1, 'weekdays': 1, 'weekday_weekend': 1, 'months': 0, 'min_demand': 1, 'avg_demand': 1, 'max_demand': 0, 'avg_temp': 1, 'max_temp': 1, 'min_temp': 0, 'hd': 1, 'cd': 1}. Best is trial 25 with value: 5351.635186201549.\n"
     ]
    },
    {
     "name": "stdout",
     "output_type": "stream",
     "text": [
      "Using device: cuda\n"
     ]
    },
    {
     "name": "stderr",
     "output_type": "stream",
     "text": [
      "[I 2025-09-27 15:51:34,800] Trial 38 finished with value: 6219.097504827356 and parameters: {'seasons': 1, 'weekdays': 1, 'weekday_weekend': 1, 'months': 1, 'min_demand': 0, 'avg_demand': 0, 'max_demand': 0, 'avg_temp': 1, 'max_temp': 1, 'min_temp': 0, 'hd': 0, 'cd': 1}. Best is trial 25 with value: 5351.635186201549.\n"
     ]
    },
    {
     "name": "stdout",
     "output_type": "stream",
     "text": [
      "Using device: cuda\n"
     ]
    },
    {
     "name": "stderr",
     "output_type": "stream",
     "text": [
      "[I 2025-09-27 15:52:49,518] Trial 39 finished with value: 5911.992955531427 and parameters: {'seasons': 0, 'weekdays': 1, 'weekday_weekend': 0, 'months': 1, 'min_demand': 1, 'avg_demand': 0, 'max_demand': 0, 'avg_temp': 0, 'max_temp': 0, 'min_temp': 1, 'hd': 1, 'cd': 1}. Best is trial 25 with value: 5351.635186201549.\n"
     ]
    },
    {
     "name": "stdout",
     "output_type": "stream",
     "text": [
      "Using device: cuda\n"
     ]
    },
    {
     "name": "stderr",
     "output_type": "stream",
     "text": [
      "[I 2025-09-27 15:54:00,783] Trial 40 finished with value: 7472.34481349237 and parameters: {'seasons': 1, 'weekdays': 1, 'weekday_weekend': 1, 'months': 0, 'min_demand': 0, 'avg_demand': 1, 'max_demand': 0, 'avg_temp': 1, 'max_temp': 1, 'min_temp': 0, 'hd': 0, 'cd': 0}. Best is trial 25 with value: 5351.635186201549.\n"
     ]
    },
    {
     "name": "stdout",
     "output_type": "stream",
     "text": [
      "Using device: cuda\n"
     ]
    },
    {
     "name": "stderr",
     "output_type": "stream",
     "text": [
      "[I 2025-09-27 15:55:32,119] Trial 41 finished with value: 5894.78769747851 and parameters: {'seasons': 1, 'weekdays': 1, 'weekday_weekend': 1, 'months': 1, 'min_demand': 1, 'avg_demand': 0, 'max_demand': 0, 'avg_temp': 1, 'max_temp': 1, 'min_temp': 0, 'hd': 0, 'cd': 1}. Best is trial 25 with value: 5351.635186201549.\n"
     ]
    },
    {
     "name": "stdout",
     "output_type": "stream",
     "text": [
      "Using device: cuda\n"
     ]
    },
    {
     "name": "stderr",
     "output_type": "stream",
     "text": [
      "[I 2025-09-27 15:56:51,378] Trial 42 finished with value: 5916.236615608793 and parameters: {'seasons': 1, 'weekdays': 1, 'weekday_weekend': 1, 'months': 1, 'min_demand': 1, 'avg_demand': 0, 'max_demand': 0, 'avg_temp': 1, 'max_temp': 1, 'min_temp': 0, 'hd': 0, 'cd': 1}. Best is trial 25 with value: 5351.635186201549.\n"
     ]
    },
    {
     "name": "stdout",
     "output_type": "stream",
     "text": [
      "Using device: cuda\n"
     ]
    },
    {
     "name": "stderr",
     "output_type": "stream",
     "text": [
      "[I 2025-09-27 15:58:23,856] Trial 43 finished with value: 5445.833019322479 and parameters: {'seasons': 1, 'weekdays': 1, 'weekday_weekend': 1, 'months': 1, 'min_demand': 1, 'avg_demand': 0, 'max_demand': 0, 'avg_temp': 1, 'max_temp': 1, 'min_temp': 0, 'hd': 0, 'cd': 1}. Best is trial 25 with value: 5351.635186201549.\n"
     ]
    },
    {
     "name": "stdout",
     "output_type": "stream",
     "text": [
      "Using device: cuda\n"
     ]
    },
    {
     "name": "stderr",
     "output_type": "stream",
     "text": [
      "[I 2025-09-27 15:59:50,959] Trial 44 finished with value: 5655.445281666749 and parameters: {'seasons': 1, 'weekdays': 1, 'weekday_weekend': 1, 'months': 1, 'min_demand': 1, 'avg_demand': 0, 'max_demand': 0, 'avg_temp': 1, 'max_temp': 1, 'min_temp': 0, 'hd': 0, 'cd': 1}. Best is trial 25 with value: 5351.635186201549.\n"
     ]
    },
    {
     "name": "stdout",
     "output_type": "stream",
     "text": [
      "Using device: cuda\n"
     ]
    },
    {
     "name": "stderr",
     "output_type": "stream",
     "text": [
      "[I 2025-09-27 16:01:16,490] Trial 45 finished with value: 5695.360343752811 and parameters: {'seasons': 1, 'weekdays': 1, 'weekday_weekend': 1, 'months': 1, 'min_demand': 1, 'avg_demand': 0, 'max_demand': 0, 'avg_temp': 1, 'max_temp': 1, 'min_temp': 0, 'hd': 0, 'cd': 1}. Best is trial 25 with value: 5351.635186201549.\n"
     ]
    },
    {
     "name": "stdout",
     "output_type": "stream",
     "text": [
      "Using device: cuda\n"
     ]
    },
    {
     "name": "stderr",
     "output_type": "stream",
     "text": [
      "[I 2025-09-27 16:02:15,183] Trial 46 finished with value: 7100.450845969241 and parameters: {'seasons': 1, 'weekdays': 1, 'weekday_weekend': 1, 'months': 1, 'min_demand': 1, 'avg_demand': 0, 'max_demand': 1, 'avg_temp': 0, 'max_temp': 0, 'min_temp': 0, 'hd': 0, 'cd': 1}. Best is trial 25 with value: 5351.635186201549.\n"
     ]
    },
    {
     "name": "stdout",
     "output_type": "stream",
     "text": [
      "Using device: cuda\n"
     ]
    },
    {
     "name": "stderr",
     "output_type": "stream",
     "text": [
      "[I 2025-09-27 16:03:56,276] Trial 47 finished with value: 5230.821322942078 and parameters: {'seasons': 1, 'weekdays': 1, 'weekday_weekend': 1, 'months': 1, 'min_demand': 1, 'avg_demand': 0, 'max_demand': 0, 'avg_temp': 1, 'max_temp': 1, 'min_temp': 0, 'hd': 1, 'cd': 1}. Best is trial 47 with value: 5230.821322942078.\n"
     ]
    },
    {
     "name": "stdout",
     "output_type": "stream",
     "text": [
      "Using device: cuda\n"
     ]
    },
    {
     "name": "stderr",
     "output_type": "stream",
     "text": [
      "[I 2025-09-27 16:05:31,843] Trial 48 finished with value: 5818.773636981171 and parameters: {'seasons': 0, 'weekdays': 1, 'weekday_weekend': 1, 'months': 1, 'min_demand': 1, 'avg_demand': 0, 'max_demand': 0, 'avg_temp': 1, 'max_temp': 1, 'min_temp': 0, 'hd': 1, 'cd': 1}. Best is trial 47 with value: 5230.821322942078.\n"
     ]
    },
    {
     "name": "stdout",
     "output_type": "stream",
     "text": [
      "Using device: cuda\n"
     ]
    },
    {
     "name": "stderr",
     "output_type": "stream",
     "text": [
      "[I 2025-09-27 16:06:59,528] Trial 49 finished with value: 6071.741379491488 and parameters: {'seasons': 1, 'weekdays': 1, 'weekday_weekend': 1, 'months': 1, 'min_demand': 1, 'avg_demand': 0, 'max_demand': 0, 'avg_temp': 1, 'max_temp': 1, 'min_temp': 0, 'hd': 1, 'cd': 1}. Best is trial 47 with value: 5230.821322942078.\n"
     ]
    },
    {
     "name": "stdout",
     "output_type": "stream",
     "text": [
      "Using device: cuda\n"
     ]
    },
    {
     "name": "stderr",
     "output_type": "stream",
     "text": [
      "[I 2025-09-27 16:08:39,530] Trial 50 finished with value: 6308.285579713314 and parameters: {'seasons': 1, 'weekdays': 0, 'weekday_weekend': 1, 'months': 0, 'min_demand': 0, 'avg_demand': 1, 'max_demand': 1, 'avg_temp': 1, 'max_temp': 1, 'min_temp': 0, 'hd': 1, 'cd': 1}. Best is trial 47 with value: 5230.821322942078.\n"
     ]
    },
    {
     "name": "stdout",
     "output_type": "stream",
     "text": [
      "Using device: cuda\n"
     ]
    },
    {
     "name": "stderr",
     "output_type": "stream",
     "text": [
      "[I 2025-09-27 16:09:40,081] Trial 51 finished with value: 6323.603749533188 and parameters: {'seasons': 1, 'weekdays': 1, 'weekday_weekend': 1, 'months': 1, 'min_demand': 1, 'avg_demand': 0, 'max_demand': 0, 'avg_temp': 1, 'max_temp': 1, 'min_temp': 0, 'hd': 1, 'cd': 1}. Best is trial 47 with value: 5230.821322942078.\n"
     ]
    },
    {
     "name": "stdout",
     "output_type": "stream",
     "text": [
      "Using device: cuda\n"
     ]
    },
    {
     "name": "stderr",
     "output_type": "stream",
     "text": [
      "[I 2025-09-27 16:10:52,171] Trial 52 finished with value: 5962.4272187504175 and parameters: {'seasons': 1, 'weekdays': 1, 'weekday_weekend': 1, 'months': 1, 'min_demand': 1, 'avg_demand': 0, 'max_demand': 0, 'avg_temp': 1, 'max_temp': 1, 'min_temp': 0, 'hd': 0, 'cd': 1}. Best is trial 47 with value: 5230.821322942078.\n"
     ]
    },
    {
     "name": "stdout",
     "output_type": "stream",
     "text": [
      "Using device: cuda\n"
     ]
    },
    {
     "name": "stderr",
     "output_type": "stream",
     "text": [
      "[I 2025-09-27 16:12:00,761] Trial 53 finished with value: 6331.875852502129 and parameters: {'seasons': 1, 'weekdays': 1, 'weekday_weekend': 1, 'months': 1, 'min_demand': 1, 'avg_demand': 0, 'max_demand': 0, 'avg_temp': 1, 'max_temp': 1, 'min_temp': 0, 'hd': 1, 'cd': 1}. Best is trial 47 with value: 5230.821322942078.\n"
     ]
    },
    {
     "name": "stdout",
     "output_type": "stream",
     "text": [
      "Using device: cuda\n"
     ]
    },
    {
     "name": "stderr",
     "output_type": "stream",
     "text": [
      "[I 2025-09-27 16:13:33,019] Trial 54 finished with value: 5758.445015587295 and parameters: {'seasons': 1, 'weekdays': 1, 'weekday_weekend': 1, 'months': 1, 'min_demand': 1, 'avg_demand': 0, 'max_demand': 0, 'avg_temp': 1, 'max_temp': 1, 'min_temp': 0, 'hd': 0, 'cd': 1}. Best is trial 47 with value: 5230.821322942078.\n"
     ]
    },
    {
     "name": "stdout",
     "output_type": "stream",
     "text": [
      "Using device: cuda\n"
     ]
    },
    {
     "name": "stderr",
     "output_type": "stream",
     "text": [
      "[I 2025-09-27 16:14:59,772] Trial 55 finished with value: 5678.238279564954 and parameters: {'seasons': 1, 'weekdays': 1, 'weekday_weekend': 1, 'months': 1, 'min_demand': 1, 'avg_demand': 0, 'max_demand': 0, 'avg_temp': 1, 'max_temp': 1, 'min_temp': 0, 'hd': 0, 'cd': 1}. Best is trial 47 with value: 5230.821322942078.\n"
     ]
    },
    {
     "name": "stdout",
     "output_type": "stream",
     "text": [
      "Using device: cuda\n"
     ]
    },
    {
     "name": "stderr",
     "output_type": "stream",
     "text": [
      "[I 2025-09-27 16:16:10,407] Trial 56 finished with value: 5753.7705690322255 and parameters: {'seasons': 1, 'weekdays': 1, 'weekday_weekend': 1, 'months': 1, 'min_demand': 1, 'avg_demand': 0, 'max_demand': 0, 'avg_temp': 1, 'max_temp': 1, 'min_temp': 0, 'hd': 0, 'cd': 1}. Best is trial 47 with value: 5230.821322942078.\n"
     ]
    },
    {
     "name": "stdout",
     "output_type": "stream",
     "text": [
      "Using device: cuda\n"
     ]
    },
    {
     "name": "stderr",
     "output_type": "stream",
     "text": [
      "[I 2025-09-27 16:17:52,873] Trial 57 finished with value: 5859.996601596233 and parameters: {'seasons': 1, 'weekdays': 1, 'weekday_weekend': 1, 'months': 1, 'min_demand': 1, 'avg_demand': 0, 'max_demand': 0, 'avg_temp': 1, 'max_temp': 1, 'min_temp': 0, 'hd': 0, 'cd': 1}. Best is trial 47 with value: 5230.821322942078.\n"
     ]
    },
    {
     "name": "stdout",
     "output_type": "stream",
     "text": [
      "Using device: cuda\n"
     ]
    },
    {
     "name": "stderr",
     "output_type": "stream",
     "text": [
      "[I 2025-09-27 16:19:07,689] Trial 58 finished with value: 6100.218536296061 and parameters: {'seasons': 1, 'weekdays': 1, 'weekday_weekend': 0, 'months': 1, 'min_demand': 1, 'avg_demand': 0, 'max_demand': 0, 'avg_temp': 1, 'max_temp': 0, 'min_temp': 0, 'hd': 0, 'cd': 0}. Best is trial 47 with value: 5230.821322942078.\n"
     ]
    },
    {
     "name": "stdout",
     "output_type": "stream",
     "text": [
      "Using device: cuda\n"
     ]
    },
    {
     "name": "stderr",
     "output_type": "stream",
     "text": [
      "[I 2025-09-27 16:20:53,711] Trial 59 finished with value: 5771.740743807881 and parameters: {'seasons': 1, 'weekdays': 0, 'weekday_weekend': 1, 'months': 1, 'min_demand': 1, 'avg_demand': 0, 'max_demand': 0, 'avg_temp': 1, 'max_temp': 1, 'min_temp': 0, 'hd': 1, 'cd': 1}. Best is trial 47 with value: 5230.821322942078.\n"
     ]
    },
    {
     "name": "stdout",
     "output_type": "stream",
     "text": [
      "Using device: cuda\n"
     ]
    },
    {
     "name": "stderr",
     "output_type": "stream",
     "text": [
      "[I 2025-09-27 16:22:00,013] Trial 60 finished with value: 6162.862122331571 and parameters: {'seasons': 1, 'weekdays': 1, 'weekday_weekend': 1, 'months': 1, 'min_demand': 1, 'avg_demand': 0, 'max_demand': 0, 'avg_temp': 1, 'max_temp': 1, 'min_temp': 1, 'hd': 0, 'cd': 1}. Best is trial 47 with value: 5230.821322942078.\n"
     ]
    },
    {
     "name": "stdout",
     "output_type": "stream",
     "text": [
      "Using device: cuda\n"
     ]
    },
    {
     "name": "stderr",
     "output_type": "stream",
     "text": [
      "[I 2025-09-27 16:23:11,867] Trial 61 finished with value: 5993.348952462523 and parameters: {'seasons': 1, 'weekdays': 1, 'weekday_weekend': 1, 'months': 1, 'min_demand': 1, 'avg_demand': 0, 'max_demand': 0, 'avg_temp': 1, 'max_temp': 1, 'min_temp': 0, 'hd': 0, 'cd': 1}. Best is trial 47 with value: 5230.821322942078.\n"
     ]
    },
    {
     "name": "stdout",
     "output_type": "stream",
     "text": [
      "Using device: cuda\n"
     ]
    },
    {
     "name": "stderr",
     "output_type": "stream",
     "text": [
      "[I 2025-09-27 16:24:38,528] Trial 62 finished with value: 5707.348699637552 and parameters: {'seasons': 1, 'weekdays': 1, 'weekday_weekend': 1, 'months': 1, 'min_demand': 1, 'avg_demand': 0, 'max_demand': 0, 'avg_temp': 1, 'max_temp': 1, 'min_temp': 0, 'hd': 0, 'cd': 1}. Best is trial 47 with value: 5230.821322942078.\n"
     ]
    },
    {
     "name": "stdout",
     "output_type": "stream",
     "text": [
      "Using device: cuda\n"
     ]
    },
    {
     "name": "stderr",
     "output_type": "stream",
     "text": [
      "[I 2025-09-27 16:26:05,960] Trial 63 finished with value: 5480.233685974779 and parameters: {'seasons': 1, 'weekdays': 1, 'weekday_weekend': 1, 'months': 1, 'min_demand': 1, 'avg_demand': 0, 'max_demand': 0, 'avg_temp': 1, 'max_temp': 1, 'min_temp': 0, 'hd': 0, 'cd': 1}. Best is trial 47 with value: 5230.821322942078.\n"
     ]
    },
    {
     "name": "stdout",
     "output_type": "stream",
     "text": [
      "Using device: cuda\n"
     ]
    },
    {
     "name": "stderr",
     "output_type": "stream",
     "text": [
      "[I 2025-09-27 16:27:11,562] Trial 64 finished with value: 5661.563242473966 and parameters: {'seasons': 1, 'weekdays': 1, 'weekday_weekend': 1, 'months': 1, 'min_demand': 1, 'avg_demand': 0, 'max_demand': 0, 'avg_temp': 1, 'max_temp': 1, 'min_temp': 0, 'hd': 0, 'cd': 1}. Best is trial 47 with value: 5230.821322942078.\n"
     ]
    },
    {
     "name": "stdout",
     "output_type": "stream",
     "text": [
      "Using device: cuda\n"
     ]
    },
    {
     "name": "stderr",
     "output_type": "stream",
     "text": [
      "[I 2025-09-27 16:28:19,297] Trial 65 finished with value: 6072.983384095273 and parameters: {'seasons': 1, 'weekdays': 1, 'weekday_weekend': 1, 'months': 1, 'min_demand': 1, 'avg_demand': 0, 'max_demand': 0, 'avg_temp': 1, 'max_temp': 1, 'min_temp': 0, 'hd': 0, 'cd': 1}. Best is trial 47 with value: 5230.821322942078.\n"
     ]
    },
    {
     "name": "stdout",
     "output_type": "stream",
     "text": [
      "Using device: cuda\n"
     ]
    },
    {
     "name": "stderr",
     "output_type": "stream",
     "text": [
      "[I 2025-09-27 16:29:32,762] Trial 66 finished with value: 5604.039037177542 and parameters: {'seasons': 1, 'weekdays': 1, 'weekday_weekend': 1, 'months': 1, 'min_demand': 1, 'avg_demand': 0, 'max_demand': 0, 'avg_temp': 1, 'max_temp': 1, 'min_temp': 0, 'hd': 0, 'cd': 1}. Best is trial 47 with value: 5230.821322942078.\n"
     ]
    },
    {
     "name": "stdout",
     "output_type": "stream",
     "text": [
      "Using device: cuda\n"
     ]
    },
    {
     "name": "stderr",
     "output_type": "stream",
     "text": [
      "[I 2025-09-27 16:30:30,328] Trial 67 finished with value: 6438.866183180272 and parameters: {'seasons': 1, 'weekdays': 1, 'weekday_weekend': 1, 'months': 1, 'min_demand': 1, 'avg_demand': 0, 'max_demand': 0, 'avg_temp': 1, 'max_temp': 1, 'min_temp': 0, 'hd': 0, 'cd': 1}. Best is trial 47 with value: 5230.821322942078.\n"
     ]
    },
    {
     "name": "stdout",
     "output_type": "stream",
     "text": [
      "Using device: cuda\n"
     ]
    },
    {
     "name": "stderr",
     "output_type": "stream",
     "text": [
      "[I 2025-09-27 16:31:41,973] Trial 68 finished with value: 5669.466073468826 and parameters: {'seasons': 1, 'weekdays': 1, 'weekday_weekend': 1, 'months': 1, 'min_demand': 1, 'avg_demand': 0, 'max_demand': 0, 'avg_temp': 1, 'max_temp': 1, 'min_temp': 0, 'hd': 0, 'cd': 1}. Best is trial 47 with value: 5230.821322942078.\n"
     ]
    },
    {
     "name": "stdout",
     "output_type": "stream",
     "text": [
      "Using device: cuda\n"
     ]
    },
    {
     "name": "stderr",
     "output_type": "stream",
     "text": [
      "[I 2025-09-27 16:32:57,827] Trial 69 finished with value: 5667.038255111741 and parameters: {'seasons': 1, 'weekdays': 1, 'weekday_weekend': 1, 'months': 1, 'min_demand': 1, 'avg_demand': 0, 'max_demand': 0, 'avg_temp': 1, 'max_temp': 1, 'min_temp': 0, 'hd': 0, 'cd': 1}. Best is trial 47 with value: 5230.821322942078.\n"
     ]
    },
    {
     "name": "stdout",
     "output_type": "stream",
     "text": [
      "Using device: cuda\n"
     ]
    },
    {
     "name": "stderr",
     "output_type": "stream",
     "text": [
      "[I 2025-09-27 16:33:58,285] Trial 70 finished with value: 5962.600105483497 and parameters: {'seasons': 1, 'weekdays': 1, 'weekday_weekend': 1, 'months': 1, 'min_demand': 1, 'avg_demand': 0, 'max_demand': 0, 'avg_temp': 0, 'max_temp': 1, 'min_temp': 0, 'hd': 0, 'cd': 1}. Best is trial 47 with value: 5230.821322942078.\n"
     ]
    },
    {
     "name": "stdout",
     "output_type": "stream",
     "text": [
      "Using device: cuda\n"
     ]
    },
    {
     "name": "stderr",
     "output_type": "stream",
     "text": [
      "[I 2025-09-27 16:35:41,475] Trial 71 finished with value: 5851.464677633626 and parameters: {'seasons': 1, 'weekdays': 1, 'weekday_weekend': 1, 'months': 1, 'min_demand': 1, 'avg_demand': 0, 'max_demand': 0, 'avg_temp': 1, 'max_temp': 1, 'min_temp': 0, 'hd': 0, 'cd': 1}. Best is trial 47 with value: 5230.821322942078.\n"
     ]
    },
    {
     "name": "stdout",
     "output_type": "stream",
     "text": [
      "Using device: cuda\n"
     ]
    },
    {
     "name": "stderr",
     "output_type": "stream",
     "text": [
      "[I 2025-09-27 16:36:37,984] Trial 72 finished with value: 5425.757000060535 and parameters: {'seasons': 1, 'weekdays': 1, 'weekday_weekend': 1, 'months': 1, 'min_demand': 1, 'avg_demand': 0, 'max_demand': 0, 'avg_temp': 1, 'max_temp': 1, 'min_temp': 0, 'hd': 0, 'cd': 1}. Best is trial 47 with value: 5230.821322942078.\n"
     ]
    },
    {
     "name": "stdout",
     "output_type": "stream",
     "text": [
      "Using device: cuda\n"
     ]
    },
    {
     "name": "stderr",
     "output_type": "stream",
     "text": [
      "[I 2025-09-27 16:37:21,904] Trial 73 finished with value: 5727.887547367019 and parameters: {'seasons': 1, 'weekdays': 1, 'weekday_weekend': 1, 'months': 1, 'min_demand': 1, 'avg_demand': 0, 'max_demand': 0, 'avg_temp': 1, 'max_temp': 1, 'min_temp': 0, 'hd': 0, 'cd': 1}. Best is trial 47 with value: 5230.821322942078.\n"
     ]
    },
    {
     "name": "stdout",
     "output_type": "stream",
     "text": [
      "Using device: cuda\n"
     ]
    },
    {
     "name": "stderr",
     "output_type": "stream",
     "text": [
      "[I 2025-09-27 16:38:11,396] Trial 74 finished with value: 5976.574000398706 and parameters: {'seasons': 1, 'weekdays': 1, 'weekday_weekend': 1, 'months': 1, 'min_demand': 1, 'avg_demand': 0, 'max_demand': 0, 'avg_temp': 1, 'max_temp': 1, 'min_temp': 0, 'hd': 0, 'cd': 1}. Best is trial 47 with value: 5230.821322942078.\n"
     ]
    },
    {
     "name": "stdout",
     "output_type": "stream",
     "text": [
      "Using device: cuda\n"
     ]
    },
    {
     "name": "stderr",
     "output_type": "stream",
     "text": [
      "[I 2025-09-27 16:38:51,247] Trial 75 finished with value: 6242.939554956288 and parameters: {'seasons': 1, 'weekdays': 1, 'weekday_weekend': 1, 'months': 1, 'min_demand': 1, 'avg_demand': 0, 'max_demand': 0, 'avg_temp': 1, 'max_temp': 1, 'min_temp': 0, 'hd': 0, 'cd': 1}. Best is trial 47 with value: 5230.821322942078.\n"
     ]
    },
    {
     "name": "stdout",
     "output_type": "stream",
     "text": [
      "Using device: cuda\n"
     ]
    },
    {
     "name": "stderr",
     "output_type": "stream",
     "text": [
      "[I 2025-09-27 16:39:57,903] Trial 76 finished with value: 5416.2919379925725 and parameters: {'seasons': 1, 'weekdays': 1, 'weekday_weekend': 1, 'months': 1, 'min_demand': 1, 'avg_demand': 0, 'max_demand': 0, 'avg_temp': 1, 'max_temp': 1, 'min_temp': 0, 'hd': 0, 'cd': 1}. Best is trial 47 with value: 5230.821322942078.\n"
     ]
    },
    {
     "name": "stdout",
     "output_type": "stream",
     "text": [
      "Using device: cuda\n"
     ]
    },
    {
     "name": "stderr",
     "output_type": "stream",
     "text": [
      "[I 2025-09-27 16:41:08,235] Trial 77 finished with value: 5572.99581539591 and parameters: {'seasons': 1, 'weekdays': 1, 'weekday_weekend': 1, 'months': 1, 'min_demand': 1, 'avg_demand': 0, 'max_demand': 0, 'avg_temp': 1, 'max_temp': 1, 'min_temp': 0, 'hd': 0, 'cd': 1}. Best is trial 47 with value: 5230.821322942078.\n"
     ]
    },
    {
     "name": "stdout",
     "output_type": "stream",
     "text": [
      "Using device: cuda\n"
     ]
    },
    {
     "name": "stderr",
     "output_type": "stream",
     "text": [
      "[I 2025-09-27 16:41:58,792] Trial 78 finished with value: 5568.851227355225 and parameters: {'seasons': 0, 'weekdays': 1, 'weekday_weekend': 1, 'months': 1, 'min_demand': 1, 'avg_demand': 0, 'max_demand': 0, 'avg_temp': 1, 'max_temp': 1, 'min_temp': 0, 'hd': 0, 'cd': 1}. Best is trial 47 with value: 5230.821322942078.\n"
     ]
    },
    {
     "name": "stdout",
     "output_type": "stream",
     "text": [
      "Using device: cuda\n"
     ]
    },
    {
     "name": "stderr",
     "output_type": "stream",
     "text": [
      "[W 2025-09-27 16:42:20,370] Trial 79 failed with parameters: {'seasons': 1, 'weekdays': 1, 'weekday_weekend': 1, 'months': 1, 'min_demand': 1, 'avg_demand': 0, 'max_demand': 0, 'avg_temp': 1, 'max_temp': 1, 'min_temp': 0, 'hd': 0, 'cd': 1} because of the following error: KeyboardInterrupt().\n",
      "Traceback (most recent call last):\n",
      "  File \"/home/harry/personal/uni/project/.venv/lib/python3.10/site-packages/optuna/study/_optimize.py\", line 201, in _run_trial\n",
      "    value_or_values = func(trial)\n",
      "  File \"/tmp/ipykernel_76042/105028946.py\", line 65, in objective\n",
      "    model, train_losses, val_losses = train_transformer_model(sequences, targets, input_dim, datetimes, params)\n",
      "  File \"/home/harry/personal/uni/project/individual/harry/model/model.py\", line 135, in train_transformer_model\n",
      "    predictions = model(batch_X)\n",
      "  File \"/home/harry/personal/uni/project/.venv/lib/python3.10/site-packages/torch/nn/modules/module.py\", line 1773, in _wrapped_call_impl\n",
      "    return self._call_impl(*args, **kwargs)\n",
      "  File \"/home/harry/personal/uni/project/.venv/lib/python3.10/site-packages/torch/nn/modules/module.py\", line 1784, in _call_impl\n",
      "    return forward_call(*args, **kwargs)\n",
      "  File \"/home/harry/personal/uni/project/individual/harry/model/model.py\", line 74, in forward\n",
      "    encoder_output = self.transformer_encoder(src_projected, mask=src_mask, src_key_padding_mask=src_key_padding_mask)\n",
      "  File \"/home/harry/personal/uni/project/.venv/lib/python3.10/site-packages/torch/nn/modules/module.py\", line 1773, in _wrapped_call_impl\n",
      "    return self._call_impl(*args, **kwargs)\n",
      "  File \"/home/harry/personal/uni/project/.venv/lib/python3.10/site-packages/torch/nn/modules/module.py\", line 1784, in _call_impl\n",
      "    return forward_call(*args, **kwargs)\n",
      "  File \"/home/harry/personal/uni/project/.venv/lib/python3.10/site-packages/torch/nn/modules/transformer.py\", line 524, in forward\n",
      "    output = mod(\n",
      "  File \"/home/harry/personal/uni/project/.venv/lib/python3.10/site-packages/torch/nn/modules/module.py\", line 1773, in _wrapped_call_impl\n",
      "    return self._call_impl(*args, **kwargs)\n",
      "  File \"/home/harry/personal/uni/project/.venv/lib/python3.10/site-packages/torch/nn/modules/module.py\", line 1784, in _call_impl\n",
      "    return forward_call(*args, **kwargs)\n",
      "  File \"/home/harry/personal/uni/project/.venv/lib/python3.10/site-packages/torch/nn/modules/transformer.py\", line 937, in forward\n",
      "    x = self.norm2(x + self._ff_block(x))\n",
      "  File \"/home/harry/personal/uni/project/.venv/lib/python3.10/site-packages/torch/nn/modules/transformer.py\", line 962, in _ff_block\n",
      "    x = self.linear2(self.dropout(self.activation(self.linear1(x))))\n",
      "  File \"/home/harry/personal/uni/project/.venv/lib/python3.10/site-packages/torch/nn/modules/module.py\", line 1773, in _wrapped_call_impl\n",
      "    return self._call_impl(*args, **kwargs)\n",
      "  File \"/home/harry/personal/uni/project/.venv/lib/python3.10/site-packages/torch/nn/modules/module.py\", line 1784, in _call_impl\n",
      "    return forward_call(*args, **kwargs)\n",
      "  File \"/home/harry/personal/uni/project/.venv/lib/python3.10/site-packages/torch/nn/modules/dropout.py\", line 70, in forward\n",
      "    return F.dropout(input, self.p, self.training, self.inplace)\n",
      "  File \"/home/harry/personal/uni/project/.venv/lib/python3.10/site-packages/torch/nn/functional.py\", line 1422, in dropout\n",
      "    _VF.dropout_(input, p, training) if inplace else _VF.dropout(input, p, training)\n",
      "KeyboardInterrupt\n",
      "[W 2025-09-27 16:42:20,372] Trial 79 failed with value None.\n"
     ]
    },
    {
     "ename": "KeyboardInterrupt",
     "evalue": "",
     "output_type": "error",
     "traceback": [
      "\u001b[0;31m---------------------------------------------------------------------------\u001b[0m",
      "\u001b[0;31mKeyboardInterrupt\u001b[0m                         Traceback (most recent call last)",
      "Cell \u001b[0;32mIn[3], line 2\u001b[0m\n\u001b[1;32m      1\u001b[0m study \u001b[38;5;241m=\u001b[39m optuna\u001b[38;5;241m.\u001b[39mcreate_study(storage\u001b[38;5;241m=\u001b[39m\u001b[38;5;124m\"\u001b[39m\u001b[38;5;124msqlite:///db.sqlite3\u001b[39m\u001b[38;5;124m\"\u001b[39m, study_name\u001b[38;5;241m=\u001b[39m\u001b[38;5;124m\"\u001b[39m\u001b[38;5;124mfeature_selection\u001b[39m\u001b[38;5;124m\"\u001b[39m, load_if_exists\u001b[38;5;241m=\u001b[39m\u001b[38;5;28;01mTrue\u001b[39;00m)\n\u001b[0;32m----> 2\u001b[0m \u001b[43mstudy\u001b[49m\u001b[38;5;241;43m.\u001b[39;49m\u001b[43moptimize\u001b[49m\u001b[43m(\u001b[49m\u001b[43mobjective\u001b[49m\u001b[43m,\u001b[49m\u001b[43m \u001b[49m\u001b[43mn_trials\u001b[49m\u001b[38;5;241;43m=\u001b[39;49m\u001b[38;5;241;43m100\u001b[39;49m\u001b[43m,\u001b[49m\u001b[43m \u001b[49m\u001b[43mn_jobs\u001b[49m\u001b[38;5;241;43m=\u001b[39;49m\u001b[38;5;241;43m1\u001b[39;49m\u001b[43m)\u001b[49m\n\u001b[1;32m      4\u001b[0m study\u001b[38;5;241m.\u001b[39mbest_params \n",
      "File \u001b[0;32m~/personal/uni/project/.venv/lib/python3.10/site-packages/optuna/study/study.py:490\u001b[0m, in \u001b[0;36mStudy.optimize\u001b[0;34m(self, func, n_trials, timeout, n_jobs, catch, callbacks, gc_after_trial, show_progress_bar)\u001b[0m\n\u001b[1;32m    388\u001b[0m \u001b[38;5;28;01mdef\u001b[39;00m\u001b[38;5;250m \u001b[39m\u001b[38;5;21moptimize\u001b[39m(\n\u001b[1;32m    389\u001b[0m     \u001b[38;5;28mself\u001b[39m,\n\u001b[1;32m    390\u001b[0m     func: ObjectiveFuncType,\n\u001b[0;32m   (...)\u001b[0m\n\u001b[1;32m    397\u001b[0m     show_progress_bar: \u001b[38;5;28mbool\u001b[39m \u001b[38;5;241m=\u001b[39m \u001b[38;5;28;01mFalse\u001b[39;00m,\n\u001b[1;32m    398\u001b[0m ) \u001b[38;5;241m-\u001b[39m\u001b[38;5;241m>\u001b[39m \u001b[38;5;28;01mNone\u001b[39;00m:\n\u001b[1;32m    399\u001b[0m \u001b[38;5;250m    \u001b[39m\u001b[38;5;124;03m\"\"\"Optimize an objective function.\u001b[39;00m\n\u001b[1;32m    400\u001b[0m \n\u001b[1;32m    401\u001b[0m \u001b[38;5;124;03m    Optimization is done by choosing a suitable set of hyperparameter values from a given\u001b[39;00m\n\u001b[0;32m   (...)\u001b[0m\n\u001b[1;32m    488\u001b[0m \u001b[38;5;124;03m            If nested invocation of this method occurs.\u001b[39;00m\n\u001b[1;32m    489\u001b[0m \u001b[38;5;124;03m    \"\"\"\u001b[39;00m\n\u001b[0;32m--> 490\u001b[0m     \u001b[43m_optimize\u001b[49m\u001b[43m(\u001b[49m\n\u001b[1;32m    491\u001b[0m \u001b[43m        \u001b[49m\u001b[43mstudy\u001b[49m\u001b[38;5;241;43m=\u001b[39;49m\u001b[38;5;28;43mself\u001b[39;49m\u001b[43m,\u001b[49m\n\u001b[1;32m    492\u001b[0m \u001b[43m        \u001b[49m\u001b[43mfunc\u001b[49m\u001b[38;5;241;43m=\u001b[39;49m\u001b[43mfunc\u001b[49m\u001b[43m,\u001b[49m\n\u001b[1;32m    493\u001b[0m \u001b[43m        \u001b[49m\u001b[43mn_trials\u001b[49m\u001b[38;5;241;43m=\u001b[39;49m\u001b[43mn_trials\u001b[49m\u001b[43m,\u001b[49m\n\u001b[1;32m    494\u001b[0m \u001b[43m        \u001b[49m\u001b[43mtimeout\u001b[49m\u001b[38;5;241;43m=\u001b[39;49m\u001b[43mtimeout\u001b[49m\u001b[43m,\u001b[49m\n\u001b[1;32m    495\u001b[0m \u001b[43m        \u001b[49m\u001b[43mn_jobs\u001b[49m\u001b[38;5;241;43m=\u001b[39;49m\u001b[43mn_jobs\u001b[49m\u001b[43m,\u001b[49m\n\u001b[1;32m    496\u001b[0m \u001b[43m        \u001b[49m\u001b[43mcatch\u001b[49m\u001b[38;5;241;43m=\u001b[39;49m\u001b[38;5;28;43mtuple\u001b[39;49m\u001b[43m(\u001b[49m\u001b[43mcatch\u001b[49m\u001b[43m)\u001b[49m\u001b[43m \u001b[49m\u001b[38;5;28;43;01mif\u001b[39;49;00m\u001b[43m \u001b[49m\u001b[38;5;28;43misinstance\u001b[39;49m\u001b[43m(\u001b[49m\u001b[43mcatch\u001b[49m\u001b[43m,\u001b[49m\u001b[43m \u001b[49m\u001b[43mIterable\u001b[49m\u001b[43m)\u001b[49m\u001b[43m \u001b[49m\u001b[38;5;28;43;01melse\u001b[39;49;00m\u001b[43m \u001b[49m\u001b[43m(\u001b[49m\u001b[43mcatch\u001b[49m\u001b[43m,\u001b[49m\u001b[43m)\u001b[49m\u001b[43m,\u001b[49m\n\u001b[1;32m    497\u001b[0m \u001b[43m        \u001b[49m\u001b[43mcallbacks\u001b[49m\u001b[38;5;241;43m=\u001b[39;49m\u001b[43mcallbacks\u001b[49m\u001b[43m,\u001b[49m\n\u001b[1;32m    498\u001b[0m \u001b[43m        \u001b[49m\u001b[43mgc_after_trial\u001b[49m\u001b[38;5;241;43m=\u001b[39;49m\u001b[43mgc_after_trial\u001b[49m\u001b[43m,\u001b[49m\n\u001b[1;32m    499\u001b[0m \u001b[43m        \u001b[49m\u001b[43mshow_progress_bar\u001b[49m\u001b[38;5;241;43m=\u001b[39;49m\u001b[43mshow_progress_bar\u001b[49m\u001b[43m,\u001b[49m\n\u001b[1;32m    500\u001b[0m \u001b[43m    \u001b[49m\u001b[43m)\u001b[49m\n",
      "File \u001b[0;32m~/personal/uni/project/.venv/lib/python3.10/site-packages/optuna/study/_optimize.py:63\u001b[0m, in \u001b[0;36m_optimize\u001b[0;34m(study, func, n_trials, timeout, n_jobs, catch, callbacks, gc_after_trial, show_progress_bar)\u001b[0m\n\u001b[1;32m     61\u001b[0m \u001b[38;5;28;01mtry\u001b[39;00m:\n\u001b[1;32m     62\u001b[0m     \u001b[38;5;28;01mif\u001b[39;00m n_jobs \u001b[38;5;241m==\u001b[39m \u001b[38;5;241m1\u001b[39m:\n\u001b[0;32m---> 63\u001b[0m         \u001b[43m_optimize_sequential\u001b[49m\u001b[43m(\u001b[49m\n\u001b[1;32m     64\u001b[0m \u001b[43m            \u001b[49m\u001b[43mstudy\u001b[49m\u001b[43m,\u001b[49m\n\u001b[1;32m     65\u001b[0m \u001b[43m            \u001b[49m\u001b[43mfunc\u001b[49m\u001b[43m,\u001b[49m\n\u001b[1;32m     66\u001b[0m \u001b[43m            \u001b[49m\u001b[43mn_trials\u001b[49m\u001b[43m,\u001b[49m\n\u001b[1;32m     67\u001b[0m \u001b[43m            \u001b[49m\u001b[43mtimeout\u001b[49m\u001b[43m,\u001b[49m\n\u001b[1;32m     68\u001b[0m \u001b[43m            \u001b[49m\u001b[43mcatch\u001b[49m\u001b[43m,\u001b[49m\n\u001b[1;32m     69\u001b[0m \u001b[43m            \u001b[49m\u001b[43mcallbacks\u001b[49m\u001b[43m,\u001b[49m\n\u001b[1;32m     70\u001b[0m \u001b[43m            \u001b[49m\u001b[43mgc_after_trial\u001b[49m\u001b[43m,\u001b[49m\n\u001b[1;32m     71\u001b[0m \u001b[43m            \u001b[49m\u001b[43mreseed_sampler_rng\u001b[49m\u001b[38;5;241;43m=\u001b[39;49m\u001b[38;5;28;43;01mFalse\u001b[39;49;00m\u001b[43m,\u001b[49m\n\u001b[1;32m     72\u001b[0m \u001b[43m            \u001b[49m\u001b[43mtime_start\u001b[49m\u001b[38;5;241;43m=\u001b[39;49m\u001b[38;5;28;43;01mNone\u001b[39;49;00m\u001b[43m,\u001b[49m\n\u001b[1;32m     73\u001b[0m \u001b[43m            \u001b[49m\u001b[43mprogress_bar\u001b[49m\u001b[38;5;241;43m=\u001b[39;49m\u001b[43mprogress_bar\u001b[49m\u001b[43m,\u001b[49m\n\u001b[1;32m     74\u001b[0m \u001b[43m        \u001b[49m\u001b[43m)\u001b[49m\n\u001b[1;32m     75\u001b[0m     \u001b[38;5;28;01melse\u001b[39;00m:\n\u001b[1;32m     76\u001b[0m         \u001b[38;5;28;01mif\u001b[39;00m n_jobs \u001b[38;5;241m==\u001b[39m \u001b[38;5;241m-\u001b[39m\u001b[38;5;241m1\u001b[39m:\n",
      "File \u001b[0;32m~/personal/uni/project/.venv/lib/python3.10/site-packages/optuna/study/_optimize.py:160\u001b[0m, in \u001b[0;36m_optimize_sequential\u001b[0;34m(study, func, n_trials, timeout, catch, callbacks, gc_after_trial, reseed_sampler_rng, time_start, progress_bar)\u001b[0m\n\u001b[1;32m    157\u001b[0m         \u001b[38;5;28;01mbreak\u001b[39;00m\n\u001b[1;32m    159\u001b[0m \u001b[38;5;28;01mtry\u001b[39;00m:\n\u001b[0;32m--> 160\u001b[0m     frozen_trial_id \u001b[38;5;241m=\u001b[39m \u001b[43m_run_trial\u001b[49m\u001b[43m(\u001b[49m\u001b[43mstudy\u001b[49m\u001b[43m,\u001b[49m\u001b[43m \u001b[49m\u001b[43mfunc\u001b[49m\u001b[43m,\u001b[49m\u001b[43m \u001b[49m\u001b[43mcatch\u001b[49m\u001b[43m)\u001b[49m\n\u001b[1;32m    161\u001b[0m \u001b[38;5;28;01mfinally\u001b[39;00m:\n\u001b[1;32m    162\u001b[0m     \u001b[38;5;66;03m# The following line mitigates memory problems that can be occurred in some\u001b[39;00m\n\u001b[1;32m    163\u001b[0m     \u001b[38;5;66;03m# environments (e.g., services that use computing containers such as GitHub Actions).\u001b[39;00m\n\u001b[1;32m    164\u001b[0m     \u001b[38;5;66;03m# Please refer to the following PR for further details:\u001b[39;00m\n\u001b[1;32m    165\u001b[0m     \u001b[38;5;66;03m# https://github.com/optuna/optuna/pull/325.\u001b[39;00m\n\u001b[1;32m    166\u001b[0m     \u001b[38;5;28;01mif\u001b[39;00m gc_after_trial:\n",
      "File \u001b[0;32m~/personal/uni/project/.venv/lib/python3.10/site-packages/optuna/study/_optimize.py:258\u001b[0m, in \u001b[0;36m_run_trial\u001b[0;34m(study, func, catch)\u001b[0m\n\u001b[1;32m    251\u001b[0m         \u001b[38;5;28;01massert\u001b[39;00m \u001b[38;5;28;01mFalse\u001b[39;00m, \u001b[38;5;124m\"\u001b[39m\u001b[38;5;124mShould not reach.\u001b[39m\u001b[38;5;124m\"\u001b[39m\n\u001b[1;32m    253\u001b[0m \u001b[38;5;28;01mif\u001b[39;00m (\n\u001b[1;32m    254\u001b[0m     updated_state \u001b[38;5;241m==\u001b[39m TrialState\u001b[38;5;241m.\u001b[39mFAIL\n\u001b[1;32m    255\u001b[0m     \u001b[38;5;129;01mand\u001b[39;00m func_err \u001b[38;5;129;01mis\u001b[39;00m \u001b[38;5;129;01mnot\u001b[39;00m \u001b[38;5;28;01mNone\u001b[39;00m\n\u001b[1;32m    256\u001b[0m     \u001b[38;5;129;01mand\u001b[39;00m \u001b[38;5;129;01mnot\u001b[39;00m \u001b[38;5;28misinstance\u001b[39m(func_err, catch)\n\u001b[1;32m    257\u001b[0m ):\n\u001b[0;32m--> 258\u001b[0m     \u001b[38;5;28;01mraise\u001b[39;00m func_err\n\u001b[1;32m    259\u001b[0m \u001b[38;5;28;01mreturn\u001b[39;00m trial\u001b[38;5;241m.\u001b[39m_trial_id\n",
      "File \u001b[0;32m~/personal/uni/project/.venv/lib/python3.10/site-packages/optuna/study/_optimize.py:201\u001b[0m, in \u001b[0;36m_run_trial\u001b[0;34m(study, func, catch)\u001b[0m\n\u001b[1;32m    199\u001b[0m \u001b[38;5;28;01mwith\u001b[39;00m get_heartbeat_thread(trial\u001b[38;5;241m.\u001b[39m_trial_id, study\u001b[38;5;241m.\u001b[39m_storage):\n\u001b[1;32m    200\u001b[0m     \u001b[38;5;28;01mtry\u001b[39;00m:\n\u001b[0;32m--> 201\u001b[0m         value_or_values \u001b[38;5;241m=\u001b[39m \u001b[43mfunc\u001b[49m\u001b[43m(\u001b[49m\u001b[43mtrial\u001b[49m\u001b[43m)\u001b[49m\n\u001b[1;32m    202\u001b[0m     \u001b[38;5;28;01mexcept\u001b[39;00m exceptions\u001b[38;5;241m.\u001b[39mTrialPruned \u001b[38;5;28;01mas\u001b[39;00m e:\n\u001b[1;32m    203\u001b[0m         \u001b[38;5;66;03m# TODO(mamu): Handle multi-objective cases.\u001b[39;00m\n\u001b[1;32m    204\u001b[0m         state \u001b[38;5;241m=\u001b[39m TrialState\u001b[38;5;241m.\u001b[39mPRUNED\n",
      "Cell \u001b[0;32mIn[2], line 65\u001b[0m, in \u001b[0;36mobjective\u001b[0;34m(trial)\u001b[0m\n\u001b[1;32m     62\u001b[0m sequences, targets, datetimes, scaler_X \u001b[38;5;241m=\u001b[39m prepare_data(params)\n\u001b[1;32m     64\u001b[0m \u001b[38;5;66;03m# Build and train model\u001b[39;00m\n\u001b[0;32m---> 65\u001b[0m model, train_losses, val_losses \u001b[38;5;241m=\u001b[39m \u001b[43mtrain_transformer_model\u001b[49m\u001b[43m(\u001b[49m\u001b[43msequences\u001b[49m\u001b[43m,\u001b[49m\u001b[43m \u001b[49m\u001b[43mtargets\u001b[49m\u001b[43m,\u001b[49m\u001b[43m \u001b[49m\u001b[43minput_dim\u001b[49m\u001b[43m,\u001b[49m\u001b[43m \u001b[49m\u001b[43mdatetimes\u001b[49m\u001b[43m,\u001b[49m\u001b[43m \u001b[49m\u001b[43mparams\u001b[49m\u001b[43m)\u001b[49m\n\u001b[1;32m     67\u001b[0m mae \u001b[38;5;241m=\u001b[39m postprocess(model, sequences, targets, scaler_X, train_losses, val_losses, input_dim)\n\u001b[1;32m     68\u001b[0m \u001b[38;5;28;01mreturn\u001b[39;00m mae\n",
      "File \u001b[0;32m~/personal/uni/project/individual/harry/model/model.py:135\u001b[0m, in \u001b[0;36mtrain_transformer_model\u001b[0;34m(sequences, targets, input_dim, datetimes, params)\u001b[0m\n\u001b[1;32m    133\u001b[0m batch_X, batch_y \u001b[38;5;241m=\u001b[39m batch_X\u001b[38;5;241m.\u001b[39mto(device), batch_y\u001b[38;5;241m.\u001b[39mto(device)\n\u001b[1;32m    134\u001b[0m optimizer\u001b[38;5;241m.\u001b[39mzero_grad()\n\u001b[0;32m--> 135\u001b[0m predictions \u001b[38;5;241m=\u001b[39m \u001b[43mmodel\u001b[49m\u001b[43m(\u001b[49m\u001b[43mbatch_X\u001b[49m\u001b[43m)\u001b[49m\n\u001b[1;32m    136\u001b[0m loss \u001b[38;5;241m=\u001b[39m criterion(predictions, batch_y)\n\u001b[1;32m    137\u001b[0m loss\u001b[38;5;241m.\u001b[39mbackward()\n",
      "File \u001b[0;32m~/personal/uni/project/.venv/lib/python3.10/site-packages/torch/nn/modules/module.py:1773\u001b[0m, in \u001b[0;36mModule._wrapped_call_impl\u001b[0;34m(self, *args, **kwargs)\u001b[0m\n\u001b[1;32m   1771\u001b[0m     \u001b[38;5;28;01mreturn\u001b[39;00m \u001b[38;5;28mself\u001b[39m\u001b[38;5;241m.\u001b[39m_compiled_call_impl(\u001b[38;5;241m*\u001b[39margs, \u001b[38;5;241m*\u001b[39m\u001b[38;5;241m*\u001b[39mkwargs)  \u001b[38;5;66;03m# type: ignore[misc]\u001b[39;00m\n\u001b[1;32m   1772\u001b[0m \u001b[38;5;28;01melse\u001b[39;00m:\n\u001b[0;32m-> 1773\u001b[0m     \u001b[38;5;28;01mreturn\u001b[39;00m \u001b[38;5;28;43mself\u001b[39;49m\u001b[38;5;241;43m.\u001b[39;49m\u001b[43m_call_impl\u001b[49m\u001b[43m(\u001b[49m\u001b[38;5;241;43m*\u001b[39;49m\u001b[43margs\u001b[49m\u001b[43m,\u001b[49m\u001b[43m \u001b[49m\u001b[38;5;241;43m*\u001b[39;49m\u001b[38;5;241;43m*\u001b[39;49m\u001b[43mkwargs\u001b[49m\u001b[43m)\u001b[49m\n",
      "File \u001b[0;32m~/personal/uni/project/.venv/lib/python3.10/site-packages/torch/nn/modules/module.py:1784\u001b[0m, in \u001b[0;36mModule._call_impl\u001b[0;34m(self, *args, **kwargs)\u001b[0m\n\u001b[1;32m   1779\u001b[0m \u001b[38;5;66;03m# If we don't have any hooks, we want to skip the rest of the logic in\u001b[39;00m\n\u001b[1;32m   1780\u001b[0m \u001b[38;5;66;03m# this function, and just call forward.\u001b[39;00m\n\u001b[1;32m   1781\u001b[0m \u001b[38;5;28;01mif\u001b[39;00m \u001b[38;5;129;01mnot\u001b[39;00m (\u001b[38;5;28mself\u001b[39m\u001b[38;5;241m.\u001b[39m_backward_hooks \u001b[38;5;129;01mor\u001b[39;00m \u001b[38;5;28mself\u001b[39m\u001b[38;5;241m.\u001b[39m_backward_pre_hooks \u001b[38;5;129;01mor\u001b[39;00m \u001b[38;5;28mself\u001b[39m\u001b[38;5;241m.\u001b[39m_forward_hooks \u001b[38;5;129;01mor\u001b[39;00m \u001b[38;5;28mself\u001b[39m\u001b[38;5;241m.\u001b[39m_forward_pre_hooks\n\u001b[1;32m   1782\u001b[0m         \u001b[38;5;129;01mor\u001b[39;00m _global_backward_pre_hooks \u001b[38;5;129;01mor\u001b[39;00m _global_backward_hooks\n\u001b[1;32m   1783\u001b[0m         \u001b[38;5;129;01mor\u001b[39;00m _global_forward_hooks \u001b[38;5;129;01mor\u001b[39;00m _global_forward_pre_hooks):\n\u001b[0;32m-> 1784\u001b[0m     \u001b[38;5;28;01mreturn\u001b[39;00m \u001b[43mforward_call\u001b[49m\u001b[43m(\u001b[49m\u001b[38;5;241;43m*\u001b[39;49m\u001b[43margs\u001b[49m\u001b[43m,\u001b[49m\u001b[43m \u001b[49m\u001b[38;5;241;43m*\u001b[39;49m\u001b[38;5;241;43m*\u001b[39;49m\u001b[43mkwargs\u001b[49m\u001b[43m)\u001b[49m\n\u001b[1;32m   1786\u001b[0m result \u001b[38;5;241m=\u001b[39m \u001b[38;5;28;01mNone\u001b[39;00m\n\u001b[1;32m   1787\u001b[0m called_always_called_hooks \u001b[38;5;241m=\u001b[39m \u001b[38;5;28mset\u001b[39m()\n",
      "File \u001b[0;32m~/personal/uni/project/individual/harry/model/model.py:74\u001b[0m, in \u001b[0;36mTransformerModel.forward\u001b[0;34m(self, src, src_mask, src_key_padding_mask)\u001b[0m\n\u001b[1;32m     72\u001b[0m src_projected \u001b[38;5;241m=\u001b[39m \u001b[38;5;28mself\u001b[39m\u001b[38;5;241m.\u001b[39minput_projection(src) \u001b[38;5;241m*\u001b[39m math\u001b[38;5;241m.\u001b[39msqrt(\u001b[38;5;28mself\u001b[39m\u001b[38;5;241m.\u001b[39md_model)\n\u001b[1;32m     73\u001b[0m src_projected \u001b[38;5;241m=\u001b[39m \u001b[38;5;28mself\u001b[39m\u001b[38;5;241m.\u001b[39mpos_encoder(src_projected)\n\u001b[0;32m---> 74\u001b[0m encoder_output \u001b[38;5;241m=\u001b[39m \u001b[38;5;28;43mself\u001b[39;49m\u001b[38;5;241;43m.\u001b[39;49m\u001b[43mtransformer_encoder\u001b[49m\u001b[43m(\u001b[49m\u001b[43msrc_projected\u001b[49m\u001b[43m,\u001b[49m\u001b[43m \u001b[49m\u001b[43mmask\u001b[49m\u001b[38;5;241;43m=\u001b[39;49m\u001b[43msrc_mask\u001b[49m\u001b[43m,\u001b[49m\u001b[43m \u001b[49m\u001b[43msrc_key_padding_mask\u001b[49m\u001b[38;5;241;43m=\u001b[39;49m\u001b[43msrc_key_padding_mask\u001b[49m\u001b[43m)\u001b[49m\n\u001b[1;32m     75\u001b[0m last_time_step_output \u001b[38;5;241m=\u001b[39m encoder_output[:, \u001b[38;5;241m-\u001b[39m\u001b[38;5;241m1\u001b[39m, :]\n\u001b[1;32m     76\u001b[0m output \u001b[38;5;241m=\u001b[39m \u001b[38;5;28mself\u001b[39m\u001b[38;5;241m.\u001b[39moutput_layer(last_time_step_output)\n",
      "File \u001b[0;32m~/personal/uni/project/.venv/lib/python3.10/site-packages/torch/nn/modules/module.py:1773\u001b[0m, in \u001b[0;36mModule._wrapped_call_impl\u001b[0;34m(self, *args, **kwargs)\u001b[0m\n\u001b[1;32m   1771\u001b[0m     \u001b[38;5;28;01mreturn\u001b[39;00m \u001b[38;5;28mself\u001b[39m\u001b[38;5;241m.\u001b[39m_compiled_call_impl(\u001b[38;5;241m*\u001b[39margs, \u001b[38;5;241m*\u001b[39m\u001b[38;5;241m*\u001b[39mkwargs)  \u001b[38;5;66;03m# type: ignore[misc]\u001b[39;00m\n\u001b[1;32m   1772\u001b[0m \u001b[38;5;28;01melse\u001b[39;00m:\n\u001b[0;32m-> 1773\u001b[0m     \u001b[38;5;28;01mreturn\u001b[39;00m \u001b[38;5;28;43mself\u001b[39;49m\u001b[38;5;241;43m.\u001b[39;49m\u001b[43m_call_impl\u001b[49m\u001b[43m(\u001b[49m\u001b[38;5;241;43m*\u001b[39;49m\u001b[43margs\u001b[49m\u001b[43m,\u001b[49m\u001b[43m \u001b[49m\u001b[38;5;241;43m*\u001b[39;49m\u001b[38;5;241;43m*\u001b[39;49m\u001b[43mkwargs\u001b[49m\u001b[43m)\u001b[49m\n",
      "File \u001b[0;32m~/personal/uni/project/.venv/lib/python3.10/site-packages/torch/nn/modules/module.py:1784\u001b[0m, in \u001b[0;36mModule._call_impl\u001b[0;34m(self, *args, **kwargs)\u001b[0m\n\u001b[1;32m   1779\u001b[0m \u001b[38;5;66;03m# If we don't have any hooks, we want to skip the rest of the logic in\u001b[39;00m\n\u001b[1;32m   1780\u001b[0m \u001b[38;5;66;03m# this function, and just call forward.\u001b[39;00m\n\u001b[1;32m   1781\u001b[0m \u001b[38;5;28;01mif\u001b[39;00m \u001b[38;5;129;01mnot\u001b[39;00m (\u001b[38;5;28mself\u001b[39m\u001b[38;5;241m.\u001b[39m_backward_hooks \u001b[38;5;129;01mor\u001b[39;00m \u001b[38;5;28mself\u001b[39m\u001b[38;5;241m.\u001b[39m_backward_pre_hooks \u001b[38;5;129;01mor\u001b[39;00m \u001b[38;5;28mself\u001b[39m\u001b[38;5;241m.\u001b[39m_forward_hooks \u001b[38;5;129;01mor\u001b[39;00m \u001b[38;5;28mself\u001b[39m\u001b[38;5;241m.\u001b[39m_forward_pre_hooks\n\u001b[1;32m   1782\u001b[0m         \u001b[38;5;129;01mor\u001b[39;00m _global_backward_pre_hooks \u001b[38;5;129;01mor\u001b[39;00m _global_backward_hooks\n\u001b[1;32m   1783\u001b[0m         \u001b[38;5;129;01mor\u001b[39;00m _global_forward_hooks \u001b[38;5;129;01mor\u001b[39;00m _global_forward_pre_hooks):\n\u001b[0;32m-> 1784\u001b[0m     \u001b[38;5;28;01mreturn\u001b[39;00m \u001b[43mforward_call\u001b[49m\u001b[43m(\u001b[49m\u001b[38;5;241;43m*\u001b[39;49m\u001b[43margs\u001b[49m\u001b[43m,\u001b[49m\u001b[43m \u001b[49m\u001b[38;5;241;43m*\u001b[39;49m\u001b[38;5;241;43m*\u001b[39;49m\u001b[43mkwargs\u001b[49m\u001b[43m)\u001b[49m\n\u001b[1;32m   1786\u001b[0m result \u001b[38;5;241m=\u001b[39m \u001b[38;5;28;01mNone\u001b[39;00m\n\u001b[1;32m   1787\u001b[0m called_always_called_hooks \u001b[38;5;241m=\u001b[39m \u001b[38;5;28mset\u001b[39m()\n",
      "File \u001b[0;32m~/personal/uni/project/.venv/lib/python3.10/site-packages/torch/nn/modules/transformer.py:524\u001b[0m, in \u001b[0;36mTransformerEncoder.forward\u001b[0;34m(self, src, mask, src_key_padding_mask, is_causal)\u001b[0m\n\u001b[1;32m    521\u001b[0m is_causal \u001b[38;5;241m=\u001b[39m _detect_is_causal_mask(mask, is_causal, seq_len)\n\u001b[1;32m    523\u001b[0m \u001b[38;5;28;01mfor\u001b[39;00m mod \u001b[38;5;129;01min\u001b[39;00m \u001b[38;5;28mself\u001b[39m\u001b[38;5;241m.\u001b[39mlayers:\n\u001b[0;32m--> 524\u001b[0m     output \u001b[38;5;241m=\u001b[39m \u001b[43mmod\u001b[49m\u001b[43m(\u001b[49m\n\u001b[1;32m    525\u001b[0m \u001b[43m        \u001b[49m\u001b[43moutput\u001b[49m\u001b[43m,\u001b[49m\n\u001b[1;32m    526\u001b[0m \u001b[43m        \u001b[49m\u001b[43msrc_mask\u001b[49m\u001b[38;5;241;43m=\u001b[39;49m\u001b[43mmask\u001b[49m\u001b[43m,\u001b[49m\n\u001b[1;32m    527\u001b[0m \u001b[43m        \u001b[49m\u001b[43mis_causal\u001b[49m\u001b[38;5;241;43m=\u001b[39;49m\u001b[43mis_causal\u001b[49m\u001b[43m,\u001b[49m\n\u001b[1;32m    528\u001b[0m \u001b[43m        \u001b[49m\u001b[43msrc_key_padding_mask\u001b[49m\u001b[38;5;241;43m=\u001b[39;49m\u001b[43msrc_key_padding_mask_for_layers\u001b[49m\u001b[43m,\u001b[49m\n\u001b[1;32m    529\u001b[0m \u001b[43m    \u001b[49m\u001b[43m)\u001b[49m\n\u001b[1;32m    531\u001b[0m \u001b[38;5;28;01mif\u001b[39;00m convert_to_nested:\n\u001b[1;32m    532\u001b[0m     output \u001b[38;5;241m=\u001b[39m output\u001b[38;5;241m.\u001b[39mto_padded_tensor(\u001b[38;5;241m0.0\u001b[39m, src\u001b[38;5;241m.\u001b[39msize())\n",
      "File \u001b[0;32m~/personal/uni/project/.venv/lib/python3.10/site-packages/torch/nn/modules/module.py:1773\u001b[0m, in \u001b[0;36mModule._wrapped_call_impl\u001b[0;34m(self, *args, **kwargs)\u001b[0m\n\u001b[1;32m   1771\u001b[0m     \u001b[38;5;28;01mreturn\u001b[39;00m \u001b[38;5;28mself\u001b[39m\u001b[38;5;241m.\u001b[39m_compiled_call_impl(\u001b[38;5;241m*\u001b[39margs, \u001b[38;5;241m*\u001b[39m\u001b[38;5;241m*\u001b[39mkwargs)  \u001b[38;5;66;03m# type: ignore[misc]\u001b[39;00m\n\u001b[1;32m   1772\u001b[0m \u001b[38;5;28;01melse\u001b[39;00m:\n\u001b[0;32m-> 1773\u001b[0m     \u001b[38;5;28;01mreturn\u001b[39;00m \u001b[38;5;28;43mself\u001b[39;49m\u001b[38;5;241;43m.\u001b[39;49m\u001b[43m_call_impl\u001b[49m\u001b[43m(\u001b[49m\u001b[38;5;241;43m*\u001b[39;49m\u001b[43margs\u001b[49m\u001b[43m,\u001b[49m\u001b[43m \u001b[49m\u001b[38;5;241;43m*\u001b[39;49m\u001b[38;5;241;43m*\u001b[39;49m\u001b[43mkwargs\u001b[49m\u001b[43m)\u001b[49m\n",
      "File \u001b[0;32m~/personal/uni/project/.venv/lib/python3.10/site-packages/torch/nn/modules/module.py:1784\u001b[0m, in \u001b[0;36mModule._call_impl\u001b[0;34m(self, *args, **kwargs)\u001b[0m\n\u001b[1;32m   1779\u001b[0m \u001b[38;5;66;03m# If we don't have any hooks, we want to skip the rest of the logic in\u001b[39;00m\n\u001b[1;32m   1780\u001b[0m \u001b[38;5;66;03m# this function, and just call forward.\u001b[39;00m\n\u001b[1;32m   1781\u001b[0m \u001b[38;5;28;01mif\u001b[39;00m \u001b[38;5;129;01mnot\u001b[39;00m (\u001b[38;5;28mself\u001b[39m\u001b[38;5;241m.\u001b[39m_backward_hooks \u001b[38;5;129;01mor\u001b[39;00m \u001b[38;5;28mself\u001b[39m\u001b[38;5;241m.\u001b[39m_backward_pre_hooks \u001b[38;5;129;01mor\u001b[39;00m \u001b[38;5;28mself\u001b[39m\u001b[38;5;241m.\u001b[39m_forward_hooks \u001b[38;5;129;01mor\u001b[39;00m \u001b[38;5;28mself\u001b[39m\u001b[38;5;241m.\u001b[39m_forward_pre_hooks\n\u001b[1;32m   1782\u001b[0m         \u001b[38;5;129;01mor\u001b[39;00m _global_backward_pre_hooks \u001b[38;5;129;01mor\u001b[39;00m _global_backward_hooks\n\u001b[1;32m   1783\u001b[0m         \u001b[38;5;129;01mor\u001b[39;00m _global_forward_hooks \u001b[38;5;129;01mor\u001b[39;00m _global_forward_pre_hooks):\n\u001b[0;32m-> 1784\u001b[0m     \u001b[38;5;28;01mreturn\u001b[39;00m \u001b[43mforward_call\u001b[49m\u001b[43m(\u001b[49m\u001b[38;5;241;43m*\u001b[39;49m\u001b[43margs\u001b[49m\u001b[43m,\u001b[49m\u001b[43m \u001b[49m\u001b[38;5;241;43m*\u001b[39;49m\u001b[38;5;241;43m*\u001b[39;49m\u001b[43mkwargs\u001b[49m\u001b[43m)\u001b[49m\n\u001b[1;32m   1786\u001b[0m result \u001b[38;5;241m=\u001b[39m \u001b[38;5;28;01mNone\u001b[39;00m\n\u001b[1;32m   1787\u001b[0m called_always_called_hooks \u001b[38;5;241m=\u001b[39m \u001b[38;5;28mset\u001b[39m()\n",
      "File \u001b[0;32m~/personal/uni/project/.venv/lib/python3.10/site-packages/torch/nn/modules/transformer.py:937\u001b[0m, in \u001b[0;36mTransformerEncoderLayer.forward\u001b[0;34m(self, src, src_mask, src_key_padding_mask, is_causal)\u001b[0m\n\u001b[1;32m    932\u001b[0m \u001b[38;5;28;01melse\u001b[39;00m:\n\u001b[1;32m    933\u001b[0m     x \u001b[38;5;241m=\u001b[39m \u001b[38;5;28mself\u001b[39m\u001b[38;5;241m.\u001b[39mnorm1(\n\u001b[1;32m    934\u001b[0m         x\n\u001b[1;32m    935\u001b[0m         \u001b[38;5;241m+\u001b[39m \u001b[38;5;28mself\u001b[39m\u001b[38;5;241m.\u001b[39m_sa_block(x, src_mask, src_key_padding_mask, is_causal\u001b[38;5;241m=\u001b[39mis_causal)\n\u001b[1;32m    936\u001b[0m     )\n\u001b[0;32m--> 937\u001b[0m     x \u001b[38;5;241m=\u001b[39m \u001b[38;5;28mself\u001b[39m\u001b[38;5;241m.\u001b[39mnorm2(x \u001b[38;5;241m+\u001b[39m \u001b[38;5;28;43mself\u001b[39;49m\u001b[38;5;241;43m.\u001b[39;49m\u001b[43m_ff_block\u001b[49m\u001b[43m(\u001b[49m\u001b[43mx\u001b[49m\u001b[43m)\u001b[49m)\n\u001b[1;32m    939\u001b[0m \u001b[38;5;28;01mreturn\u001b[39;00m x\n",
      "File \u001b[0;32m~/personal/uni/project/.venv/lib/python3.10/site-packages/torch/nn/modules/transformer.py:962\u001b[0m, in \u001b[0;36mTransformerEncoderLayer._ff_block\u001b[0;34m(self, x)\u001b[0m\n\u001b[1;32m    961\u001b[0m \u001b[38;5;28;01mdef\u001b[39;00m\u001b[38;5;250m \u001b[39m\u001b[38;5;21m_ff_block\u001b[39m(\u001b[38;5;28mself\u001b[39m, x: Tensor) \u001b[38;5;241m-\u001b[39m\u001b[38;5;241m>\u001b[39m Tensor:\n\u001b[0;32m--> 962\u001b[0m     x \u001b[38;5;241m=\u001b[39m \u001b[38;5;28mself\u001b[39m\u001b[38;5;241m.\u001b[39mlinear2(\u001b[38;5;28;43mself\u001b[39;49m\u001b[38;5;241;43m.\u001b[39;49m\u001b[43mdropout\u001b[49m\u001b[43m(\u001b[49m\u001b[38;5;28;43mself\u001b[39;49m\u001b[38;5;241;43m.\u001b[39;49m\u001b[43mactivation\u001b[49m\u001b[43m(\u001b[49m\u001b[38;5;28;43mself\u001b[39;49m\u001b[38;5;241;43m.\u001b[39;49m\u001b[43mlinear1\u001b[49m\u001b[43m(\u001b[49m\u001b[43mx\u001b[49m\u001b[43m)\u001b[49m\u001b[43m)\u001b[49m\u001b[43m)\u001b[49m)\n\u001b[1;32m    963\u001b[0m     \u001b[38;5;28;01mreturn\u001b[39;00m \u001b[38;5;28mself\u001b[39m\u001b[38;5;241m.\u001b[39mdropout2(x)\n",
      "File \u001b[0;32m~/personal/uni/project/.venv/lib/python3.10/site-packages/torch/nn/modules/module.py:1773\u001b[0m, in \u001b[0;36mModule._wrapped_call_impl\u001b[0;34m(self, *args, **kwargs)\u001b[0m\n\u001b[1;32m   1771\u001b[0m     \u001b[38;5;28;01mreturn\u001b[39;00m \u001b[38;5;28mself\u001b[39m\u001b[38;5;241m.\u001b[39m_compiled_call_impl(\u001b[38;5;241m*\u001b[39margs, \u001b[38;5;241m*\u001b[39m\u001b[38;5;241m*\u001b[39mkwargs)  \u001b[38;5;66;03m# type: ignore[misc]\u001b[39;00m\n\u001b[1;32m   1772\u001b[0m \u001b[38;5;28;01melse\u001b[39;00m:\n\u001b[0;32m-> 1773\u001b[0m     \u001b[38;5;28;01mreturn\u001b[39;00m \u001b[38;5;28;43mself\u001b[39;49m\u001b[38;5;241;43m.\u001b[39;49m\u001b[43m_call_impl\u001b[49m\u001b[43m(\u001b[49m\u001b[38;5;241;43m*\u001b[39;49m\u001b[43margs\u001b[49m\u001b[43m,\u001b[49m\u001b[43m \u001b[49m\u001b[38;5;241;43m*\u001b[39;49m\u001b[38;5;241;43m*\u001b[39;49m\u001b[43mkwargs\u001b[49m\u001b[43m)\u001b[49m\n",
      "File \u001b[0;32m~/personal/uni/project/.venv/lib/python3.10/site-packages/torch/nn/modules/module.py:1784\u001b[0m, in \u001b[0;36mModule._call_impl\u001b[0;34m(self, *args, **kwargs)\u001b[0m\n\u001b[1;32m   1779\u001b[0m \u001b[38;5;66;03m# If we don't have any hooks, we want to skip the rest of the logic in\u001b[39;00m\n\u001b[1;32m   1780\u001b[0m \u001b[38;5;66;03m# this function, and just call forward.\u001b[39;00m\n\u001b[1;32m   1781\u001b[0m \u001b[38;5;28;01mif\u001b[39;00m \u001b[38;5;129;01mnot\u001b[39;00m (\u001b[38;5;28mself\u001b[39m\u001b[38;5;241m.\u001b[39m_backward_hooks \u001b[38;5;129;01mor\u001b[39;00m \u001b[38;5;28mself\u001b[39m\u001b[38;5;241m.\u001b[39m_backward_pre_hooks \u001b[38;5;129;01mor\u001b[39;00m \u001b[38;5;28mself\u001b[39m\u001b[38;5;241m.\u001b[39m_forward_hooks \u001b[38;5;129;01mor\u001b[39;00m \u001b[38;5;28mself\u001b[39m\u001b[38;5;241m.\u001b[39m_forward_pre_hooks\n\u001b[1;32m   1782\u001b[0m         \u001b[38;5;129;01mor\u001b[39;00m _global_backward_pre_hooks \u001b[38;5;129;01mor\u001b[39;00m _global_backward_hooks\n\u001b[1;32m   1783\u001b[0m         \u001b[38;5;129;01mor\u001b[39;00m _global_forward_hooks \u001b[38;5;129;01mor\u001b[39;00m _global_forward_pre_hooks):\n\u001b[0;32m-> 1784\u001b[0m     \u001b[38;5;28;01mreturn\u001b[39;00m \u001b[43mforward_call\u001b[49m\u001b[43m(\u001b[49m\u001b[38;5;241;43m*\u001b[39;49m\u001b[43margs\u001b[49m\u001b[43m,\u001b[49m\u001b[43m \u001b[49m\u001b[38;5;241;43m*\u001b[39;49m\u001b[38;5;241;43m*\u001b[39;49m\u001b[43mkwargs\u001b[49m\u001b[43m)\u001b[49m\n\u001b[1;32m   1786\u001b[0m result \u001b[38;5;241m=\u001b[39m \u001b[38;5;28;01mNone\u001b[39;00m\n\u001b[1;32m   1787\u001b[0m called_always_called_hooks \u001b[38;5;241m=\u001b[39m \u001b[38;5;28mset\u001b[39m()\n",
      "File \u001b[0;32m~/personal/uni/project/.venv/lib/python3.10/site-packages/torch/nn/modules/dropout.py:70\u001b[0m, in \u001b[0;36mDropout.forward\u001b[0;34m(self, input)\u001b[0m\n\u001b[1;32m     69\u001b[0m \u001b[38;5;28;01mdef\u001b[39;00m\u001b[38;5;250m \u001b[39m\u001b[38;5;21mforward\u001b[39m(\u001b[38;5;28mself\u001b[39m, \u001b[38;5;28minput\u001b[39m: Tensor) \u001b[38;5;241m-\u001b[39m\u001b[38;5;241m>\u001b[39m Tensor:\n\u001b[0;32m---> 70\u001b[0m     \u001b[38;5;28;01mreturn\u001b[39;00m \u001b[43mF\u001b[49m\u001b[38;5;241;43m.\u001b[39;49m\u001b[43mdropout\u001b[49m\u001b[43m(\u001b[49m\u001b[38;5;28;43minput\u001b[39;49m\u001b[43m,\u001b[49m\u001b[43m \u001b[49m\u001b[38;5;28;43mself\u001b[39;49m\u001b[38;5;241;43m.\u001b[39;49m\u001b[43mp\u001b[49m\u001b[43m,\u001b[49m\u001b[43m \u001b[49m\u001b[38;5;28;43mself\u001b[39;49m\u001b[38;5;241;43m.\u001b[39;49m\u001b[43mtraining\u001b[49m\u001b[43m,\u001b[49m\u001b[43m \u001b[49m\u001b[38;5;28;43mself\u001b[39;49m\u001b[38;5;241;43m.\u001b[39;49m\u001b[43minplace\u001b[49m\u001b[43m)\u001b[49m\n",
      "File \u001b[0;32m~/personal/uni/project/.venv/lib/python3.10/site-packages/torch/nn/functional.py:1422\u001b[0m, in \u001b[0;36mdropout\u001b[0;34m(input, p, training, inplace)\u001b[0m\n\u001b[1;32m   1419\u001b[0m \u001b[38;5;28;01mif\u001b[39;00m p \u001b[38;5;241m<\u001b[39m \u001b[38;5;241m0.0\u001b[39m \u001b[38;5;129;01mor\u001b[39;00m p \u001b[38;5;241m>\u001b[39m \u001b[38;5;241m1.0\u001b[39m:\n\u001b[1;32m   1420\u001b[0m     \u001b[38;5;28;01mraise\u001b[39;00m \u001b[38;5;167;01mValueError\u001b[39;00m(\u001b[38;5;124mf\u001b[39m\u001b[38;5;124m\"\u001b[39m\u001b[38;5;124mdropout probability has to be between 0 and 1, but got \u001b[39m\u001b[38;5;132;01m{\u001b[39;00mp\u001b[38;5;132;01m}\u001b[39;00m\u001b[38;5;124m\"\u001b[39m)\n\u001b[1;32m   1421\u001b[0m \u001b[38;5;28;01mreturn\u001b[39;00m (\n\u001b[0;32m-> 1422\u001b[0m     _VF\u001b[38;5;241m.\u001b[39mdropout_(\u001b[38;5;28minput\u001b[39m, p, training) \u001b[38;5;28;01mif\u001b[39;00m inplace \u001b[38;5;28;01melse\u001b[39;00m \u001b[43m_VF\u001b[49m\u001b[38;5;241;43m.\u001b[39;49m\u001b[43mdropout\u001b[49m\u001b[43m(\u001b[49m\u001b[38;5;28;43minput\u001b[39;49m\u001b[43m,\u001b[49m\u001b[43m \u001b[49m\u001b[43mp\u001b[49m\u001b[43m,\u001b[49m\u001b[43m \u001b[49m\u001b[43mtraining\u001b[49m\u001b[43m)\u001b[49m\n\u001b[1;32m   1423\u001b[0m )\n",
      "\u001b[0;31mKeyboardInterrupt\u001b[0m: "
     ]
    }
   ],
   "source": [
    "study = optuna.create_study(storage=\"sqlite:///db.sqlite3\", study_name=\"feature_selection\", load_if_exists=True)\n",
    "study.optimize(objective, n_trials=100, n_jobs=1)\n",
    "\n",
    "study.best_params "
   ]
  },
  {
   "cell_type": "code",
   "execution_count": 1,
   "id": "1d42e13a",
   "metadata": {},
   "outputs": [
    {
     "ename": "NameError",
     "evalue": "name 'study' is not defined",
     "output_type": "error",
     "traceback": [
      "\u001b[0;31m---------------------------------------------------------------------------\u001b[0m",
      "\u001b[0;31mNameError\u001b[0m                                 Traceback (most recent call last)",
      "Cell \u001b[0;32mIn[1], line 1\u001b[0m\n\u001b[0;32m----> 1\u001b[0m \u001b[43mstudy\u001b[49m\u001b[38;5;241m.\u001b[39mbest_params\n",
      "\u001b[0;31mNameError\u001b[0m: name 'study' is not defined"
     ]
    }
   ],
   "source": [
    "study.best_params"
   ]
  }
 ],
 "metadata": {
  "kernelspec": {
   "display_name": ".venv",
   "language": "python",
   "name": "python3"
  },
  "language_info": {
   "codemirror_mode": {
    "name": "ipython",
    "version": 3
   },
   "file_extension": ".py",
   "mimetype": "text/x-python",
   "name": "python",
   "nbconvert_exporter": "python",
   "pygments_lexer": "ipython3",
   "version": "3.10.12"
  }
 },
 "nbformat": 4,
 "nbformat_minor": 5
}
