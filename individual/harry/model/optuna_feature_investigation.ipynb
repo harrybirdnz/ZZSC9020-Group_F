{
 "cells": [
  {
   "cell_type": "code",
   "execution_count": 1,
   "id": "900d5a72",
   "metadata": {},
   "outputs": [],
   "source": [
    "#imports\n",
    "import optuna\n",
    "from model import *"
   ]
  },
  {
   "cell_type": "code",
   "execution_count": null,
   "id": "522e7340",
   "metadata": {},
   "outputs": [],
   "source": [
    "## Optuna Function\n",
    "def objective(trial):\n",
    "    # Detect device\n",
    "    device = torch.device('cuda' if torch.cuda.is_available() else 'cpu')\n",
    "\n",
    "    # Suggest hyperparameters\n",
    "    # Restrict d_model and nhead to best from first optuna to get better insights (no inf)\n",
    "    d_model = 48\n",
    "    nhead = 6\n",
    "    \n",
    "    seasons = trial.suggest_int(\"seasons\", 0, 1)\n",
    "    days = trial.suggest_int(\"weekdays\", 0, 1)\n",
    "    weekday_weekend = trial.suggest_int(\"weekday_weekend\", 0, 1)\n",
    "    months = trial.suggest_int(\"months\", 0, 1)\n",
    "    min_demand = trial.suggest_int(\"min_demand\", 0, 1)\n",
    "    avg_demand = trial.suggest_int(\"avg_demand\", 0, 1)\n",
    "    max_demand = trial.suggest_int(\"max_demand\", 0, 1)\n",
    "    avg_temp = trial.suggest_int(\"avg_temp\", 0, 1)\n",
    "    max_temp = trial.suggest_int(\"max_temp\", 0, 1)\n",
    "    min_temp = trial.suggest_int(\"min_temp\", 0, 1)\n",
    "    hd = trial.suggest_int(\"hd\", 0, 1)\n",
    "    cd = trial.suggest_int(\"cd\", 0, 1)\n",
    "    features = ['sum_30_min_demand']  # Always include sum_30_min_demand\n",
    "    cases = [seasons, days, weekday_weekend, months, min_demand, avg_demand, max_demand, avg_temp, max_temp, min_temp, hd, cd]\n",
    "    feature_names = [['is_summer', 'is_autumn', 'is_winter', 'is_spring'], \n",
    "                     ['is_monday', 'is_tuesday', 'is_wednesday', 'is_thursday', 'is_friday', 'is_saturday', 'is_sunday'], \n",
    "                     ['is_weekday', 'is_weekend'], \n",
    "                     ['is_jan', 'is_feb', 'is_mar', 'is_apr', 'is_may', 'is_jun', 'is_jul', 'is_aug', 'is_sep', 'is_oct', 'is_nov', 'is_dec'], \n",
    "                     ['min_30_min_demand'],\n",
    "                     ['avg_30_min_demand'],\n",
    "                     ['max_30_min_demand'], \n",
    "                     ['avg_temp'], \n",
    "                     ['max_temp'], \n",
    "                     ['min_temp'], \n",
    "                     ['hd_next_24h'], \n",
    "                     ['cd_next_24h']]\n",
    "    for i in range(len(cases)):\n",
    "        if cases[i] == 1:\n",
    "            features += feature_names[i]\n",
    "\n",
    "    params = {\n",
    "        'learning_rate': 0.0002,\n",
    "        'batch_size': 22,\n",
    "        'seq_length': 7,\n",
    "        'transformer_encoder_layer_params': {\n",
    "            'd_model': d_model,\n",
    "            'nhead': nhead,\n",
    "            'dim_feedforward': 400,\n",
    "            'dropout': 0.05,\n",
    "            'activation': 'relu'\n",
    "        },\n",
    "        'transformer_layer_params': {\n",
    "            'num_layers': 1,\n",
    "        },\n",
    "        'dataset': '2010-2019',\n",
    "        'train_test_split': '80:20',\n",
    "        'features': features,\n",
    "        'visualise': False,\n",
    "    }\n",
    "\n",
    "    \n",
    "    return median_mape(params)"
   ]
  },
  {
   "cell_type": "code",
   "execution_count": 3,
   "id": "f764341f",
   "metadata": {},
   "outputs": [
    {
     "name": "stderr",
     "output_type": "stream",
     "text": [
      "[I 2025-09-29 11:51:39,453] A new study created in RDB with name: feature_selection\n"
     ]
    },
    {
     "name": "stdout",
     "output_type": "stream",
     "text": [
      "Using device: cuda\n"
     ]
    },
    {
     "name": "stderr",
     "output_type": "stream",
     "text": [
      "[I 2025-09-29 11:52:09,244] Trial 0 finished with value: 2.8497278579115903 and parameters: {'seasons': 1, 'weekdays': 0, 'weekday_weekend': 1, 'months': 0, 'min_demand': 0, 'avg_demand': 0, 'max_demand': 1, 'avg_temp': 0, 'max_temp': 1, 'min_temp': 0, 'hd': 1, 'cd': 1}. Best is trial 0 with value: 2.8497278579115903.\n"
     ]
    },
    {
     "name": "stdout",
     "output_type": "stream",
     "text": [
      "Using device: cuda\n"
     ]
    },
    {
     "name": "stderr",
     "output_type": "stream",
     "text": [
      "[I 2025-09-29 11:52:25,246] Trial 1 finished with value: 3.0590572207756335 and parameters: {'seasons': 0, 'weekdays': 1, 'weekday_weekend': 0, 'months': 0, 'min_demand': 1, 'avg_demand': 1, 'max_demand': 0, 'avg_temp': 0, 'max_temp': 0, 'min_temp': 1, 'hd': 0, 'cd': 0}. Best is trial 0 with value: 2.8497278579115903.\n"
     ]
    },
    {
     "name": "stdout",
     "output_type": "stream",
     "text": [
      "Using device: cuda\n"
     ]
    },
    {
     "name": "stderr",
     "output_type": "stream",
     "text": [
      "[I 2025-09-29 11:52:38,761] Trial 2 finished with value: 3.0186712880305637 and parameters: {'seasons': 0, 'weekdays': 1, 'weekday_weekend': 0, 'months': 0, 'min_demand': 0, 'avg_demand': 0, 'max_demand': 1, 'avg_temp': 1, 'max_temp': 0, 'min_temp': 0, 'hd': 1, 'cd': 0}. Best is trial 0 with value: 2.8497278579115903.\n"
     ]
    },
    {
     "name": "stdout",
     "output_type": "stream",
     "text": [
      "Using device: cuda\n"
     ]
    },
    {
     "name": "stderr",
     "output_type": "stream",
     "text": [
      "[I 2025-09-29 11:52:58,591] Trial 3 finished with value: 3.0370659959478497 and parameters: {'seasons': 1, 'weekdays': 1, 'weekday_weekend': 1, 'months': 0, 'min_demand': 1, 'avg_demand': 0, 'max_demand': 0, 'avg_temp': 1, 'max_temp': 1, 'min_temp': 1, 'hd': 1, 'cd': 1}. Best is trial 0 with value: 2.8497278579115903.\n"
     ]
    },
    {
     "name": "stdout",
     "output_type": "stream",
     "text": [
      "Using device: cuda\n"
     ]
    },
    {
     "name": "stderr",
     "output_type": "stream",
     "text": [
      "[I 2025-09-29 11:53:25,348] Trial 4 finished with value: 2.912748758672497 and parameters: {'seasons': 1, 'weekdays': 0, 'weekday_weekend': 1, 'months': 0, 'min_demand': 0, 'avg_demand': 1, 'max_demand': 0, 'avg_temp': 1, 'max_temp': 1, 'min_temp': 1, 'hd': 1, 'cd': 0}. Best is trial 0 with value: 2.8497278579115903.\n"
     ]
    },
    {
     "name": "stdout",
     "output_type": "stream",
     "text": [
      "Using device: cuda\n"
     ]
    },
    {
     "name": "stderr",
     "output_type": "stream",
     "text": [
      "[I 2025-09-29 11:53:47,652] Trial 5 finished with value: 3.023919969188067 and parameters: {'seasons': 1, 'weekdays': 1, 'weekday_weekend': 1, 'months': 1, 'min_demand': 1, 'avg_demand': 1, 'max_demand': 1, 'avg_temp': 0, 'max_temp': 1, 'min_temp': 1, 'hd': 0, 'cd': 0}. Best is trial 0 with value: 2.8497278579115903.\n"
     ]
    },
    {
     "name": "stdout",
     "output_type": "stream",
     "text": [
      "Using device: cuda\n"
     ]
    },
    {
     "name": "stderr",
     "output_type": "stream",
     "text": [
      "[I 2025-09-29 11:54:04,333] Trial 6 finished with value: 2.91803811231572 and parameters: {'seasons': 0, 'weekdays': 1, 'weekday_weekend': 1, 'months': 0, 'min_demand': 0, 'avg_demand': 1, 'max_demand': 0, 'avg_temp': 1, 'max_temp': 1, 'min_temp': 1, 'hd': 0, 'cd': 1}. Best is trial 0 with value: 2.8497278579115903.\n"
     ]
    },
    {
     "name": "stdout",
     "output_type": "stream",
     "text": [
      "Using device: cuda\n"
     ]
    },
    {
     "name": "stderr",
     "output_type": "stream",
     "text": [
      "[I 2025-09-29 11:54:25,504] Trial 7 finished with value: 2.9317123602745023 and parameters: {'seasons': 0, 'weekdays': 1, 'weekday_weekend': 0, 'months': 1, 'min_demand': 1, 'avg_demand': 1, 'max_demand': 1, 'avg_temp': 0, 'max_temp': 1, 'min_temp': 1, 'hd': 1, 'cd': 1}. Best is trial 0 with value: 2.8497278579115903.\n"
     ]
    },
    {
     "name": "stdout",
     "output_type": "stream",
     "text": [
      "Using device: cuda\n"
     ]
    },
    {
     "name": "stderr",
     "output_type": "stream",
     "text": [
      "[I 2025-09-29 11:54:42,852] Trial 8 finished with value: 3.0200432419418006 and parameters: {'seasons': 0, 'weekdays': 1, 'weekday_weekend': 0, 'months': 1, 'min_demand': 0, 'avg_demand': 0, 'max_demand': 1, 'avg_temp': 0, 'max_temp': 0, 'min_temp': 1, 'hd': 1, 'cd': 1}. Best is trial 0 with value: 2.8497278579115903.\n"
     ]
    },
    {
     "name": "stdout",
     "output_type": "stream",
     "text": [
      "Using device: cuda\n"
     ]
    },
    {
     "name": "stderr",
     "output_type": "stream",
     "text": [
      "[I 2025-09-29 11:54:55,189] Trial 9 finished with value: 4.059987552039413 and parameters: {'seasons': 1, 'weekdays': 0, 'weekday_weekend': 0, 'months': 1, 'min_demand': 1, 'avg_demand': 1, 'max_demand': 0, 'avg_temp': 0, 'max_temp': 0, 'min_temp': 0, 'hd': 1, 'cd': 0}. Best is trial 0 with value: 2.8497278579115903.\n"
     ]
    },
    {
     "name": "stdout",
     "output_type": "stream",
     "text": [
      "Using device: cuda\n"
     ]
    },
    {
     "name": "stderr",
     "output_type": "stream",
     "text": [
      "[I 2025-09-29 11:55:18,801] Trial 10 finished with value: 2.868874879678229 and parameters: {'seasons': 1, 'weekdays': 0, 'weekday_weekend': 1, 'months': 0, 'min_demand': 0, 'avg_demand': 0, 'max_demand': 1, 'avg_temp': 0, 'max_temp': 1, 'min_temp': 0, 'hd': 0, 'cd': 1}. Best is trial 0 with value: 2.8497278579115903.\n"
     ]
    },
    {
     "name": "stdout",
     "output_type": "stream",
     "text": [
      "Using device: cuda\n"
     ]
    },
    {
     "name": "stderr",
     "output_type": "stream",
     "text": [
      "[I 2025-09-29 11:55:37,214] Trial 11 finished with value: 2.7779201853581075 and parameters: {'seasons': 1, 'weekdays': 0, 'weekday_weekend': 1, 'months': 0, 'min_demand': 0, 'avg_demand': 0, 'max_demand': 1, 'avg_temp': 0, 'max_temp': 1, 'min_temp': 0, 'hd': 0, 'cd': 1}. Best is trial 11 with value: 2.7779201853581075.\n"
     ]
    },
    {
     "name": "stdout",
     "output_type": "stream",
     "text": [
      "Using device: cuda\n"
     ]
    },
    {
     "name": "stderr",
     "output_type": "stream",
     "text": [
      "[I 2025-09-29 11:56:00,328] Trial 12 finished with value: 2.819566616114062 and parameters: {'seasons': 1, 'weekdays': 0, 'weekday_weekend': 1, 'months': 0, 'min_demand': 0, 'avg_demand': 0, 'max_demand': 1, 'avg_temp': 0, 'max_temp': 1, 'min_temp': 0, 'hd': 0, 'cd': 1}. Best is trial 11 with value: 2.7779201853581075.\n"
     ]
    },
    {
     "name": "stdout",
     "output_type": "stream",
     "text": [
      "Using device: cuda\n"
     ]
    },
    {
     "name": "stderr",
     "output_type": "stream",
     "text": [
      "[I 2025-09-29 11:56:22,591] Trial 13 finished with value: 2.8831065509242104 and parameters: {'seasons': 1, 'weekdays': 0, 'weekday_weekend': 1, 'months': 0, 'min_demand': 0, 'avg_demand': 0, 'max_demand': 1, 'avg_temp': 0, 'max_temp': 1, 'min_temp': 0, 'hd': 0, 'cd': 1}. Best is trial 11 with value: 2.7779201853581075.\n"
     ]
    },
    {
     "name": "stdout",
     "output_type": "stream",
     "text": [
      "Using device: cuda\n"
     ]
    },
    {
     "name": "stderr",
     "output_type": "stream",
     "text": [
      "[I 2025-09-29 11:56:50,030] Trial 14 finished with value: 2.860772789283112 and parameters: {'seasons': 1, 'weekdays': 0, 'weekday_weekend': 1, 'months': 0, 'min_demand': 0, 'avg_demand': 0, 'max_demand': 1, 'avg_temp': 0, 'max_temp': 1, 'min_temp': 0, 'hd': 0, 'cd': 1}. Best is trial 11 with value: 2.7779201853581075.\n"
     ]
    },
    {
     "name": "stdout",
     "output_type": "stream",
     "text": [
      "Using device: cuda\n"
     ]
    },
    {
     "name": "stderr",
     "output_type": "stream",
     "text": [
      "[I 2025-09-29 11:57:17,626] Trial 15 finished with value: 2.8129383887192247 and parameters: {'seasons': 1, 'weekdays': 0, 'weekday_weekend': 1, 'months': 0, 'min_demand': 0, 'avg_demand': 0, 'max_demand': 1, 'avg_temp': 0, 'max_temp': 1, 'min_temp': 0, 'hd': 0, 'cd': 1}. Best is trial 11 with value: 2.7779201853581075.\n"
     ]
    },
    {
     "name": "stdout",
     "output_type": "stream",
     "text": [
      "Using device: cuda\n"
     ]
    },
    {
     "name": "stderr",
     "output_type": "stream",
     "text": [
      "[I 2025-09-29 11:57:56,874] Trial 16 finished with value: 2.86955608441924 and parameters: {'seasons': 1, 'weekdays': 0, 'weekday_weekend': 1, 'months': 0, 'min_demand': 0, 'avg_demand': 0, 'max_demand': 1, 'avg_temp': 0, 'max_temp': 1, 'min_temp': 0, 'hd': 0, 'cd': 1}. Best is trial 11 with value: 2.7779201853581075.\n"
     ]
    },
    {
     "name": "stdout",
     "output_type": "stream",
     "text": [
      "Using device: cuda\n"
     ]
    },
    {
     "name": "stderr",
     "output_type": "stream",
     "text": [
      "[I 2025-09-29 11:58:26,486] Trial 17 finished with value: 3.072938902511688 and parameters: {'seasons': 1, 'weekdays': 0, 'weekday_weekend': 1, 'months': 1, 'min_demand': 0, 'avg_demand': 0, 'max_demand': 1, 'avg_temp': 1, 'max_temp': 0, 'min_temp': 0, 'hd': 0, 'cd': 1}. Best is trial 11 with value: 2.7779201853581075.\n"
     ]
    },
    {
     "name": "stdout",
     "output_type": "stream",
     "text": [
      "Using device: cuda\n"
     ]
    },
    {
     "name": "stderr",
     "output_type": "stream",
     "text": [
      "[I 2025-09-29 11:58:58,449] Trial 18 finished with value: 2.964564630873648 and parameters: {'seasons': 1, 'weekdays': 0, 'weekday_weekend': 1, 'months': 0, 'min_demand': 0, 'avg_demand': 0, 'max_demand': 1, 'avg_temp': 0, 'max_temp': 1, 'min_temp': 0, 'hd': 0, 'cd': 1}. Best is trial 11 with value: 2.7779201853581075.\n"
     ]
    },
    {
     "name": "stdout",
     "output_type": "stream",
     "text": [
      "Using device: cuda\n"
     ]
    },
    {
     "name": "stderr",
     "output_type": "stream",
     "text": [
      "[I 2025-09-29 11:59:32,866] Trial 19 finished with value: 2.9497386542169104 and parameters: {'seasons': 1, 'weekdays': 0, 'weekday_weekend': 1, 'months': 0, 'min_demand': 0, 'avg_demand': 0, 'max_demand': 1, 'avg_temp': 0, 'max_temp': 1, 'min_temp': 0, 'hd': 0, 'cd': 1}. Best is trial 11 with value: 2.7779201853581075.\n"
     ]
    },
    {
     "name": "stdout",
     "output_type": "stream",
     "text": [
      "Using device: cuda\n"
     ]
    },
    {
     "name": "stderr",
     "output_type": "stream",
     "text": [
      "[I 2025-09-29 11:59:53,799] Trial 20 finished with value: 4.064172530445022 and parameters: {'seasons': 0, 'weekdays': 0, 'weekday_weekend': 0, 'months': 1, 'min_demand': 1, 'avg_demand': 0, 'max_demand': 0, 'avg_temp': 1, 'max_temp': 0, 'min_temp': 0, 'hd': 0, 'cd': 0}. Best is trial 11 with value: 2.7779201853581075.\n"
     ]
    },
    {
     "name": "stdout",
     "output_type": "stream",
     "text": [
      "Using device: cuda\n"
     ]
    },
    {
     "name": "stderr",
     "output_type": "stream",
     "text": [
      "[I 2025-09-29 12:00:16,105] Trial 21 finished with value: 2.863612636873604 and parameters: {'seasons': 1, 'weekdays': 0, 'weekday_weekend': 1, 'months': 0, 'min_demand': 0, 'avg_demand': 0, 'max_demand': 1, 'avg_temp': 0, 'max_temp': 1, 'min_temp': 0, 'hd': 0, 'cd': 1}. Best is trial 11 with value: 2.7779201853581075.\n"
     ]
    },
    {
     "name": "stdout",
     "output_type": "stream",
     "text": [
      "Using device: cuda\n"
     ]
    },
    {
     "name": "stderr",
     "output_type": "stream",
     "text": [
      "[I 2025-09-29 12:00:41,666] Trial 22 finished with value: 2.8324180821147014 and parameters: {'seasons': 1, 'weekdays': 0, 'weekday_weekend': 1, 'months': 0, 'min_demand': 0, 'avg_demand': 0, 'max_demand': 1, 'avg_temp': 0, 'max_temp': 1, 'min_temp': 0, 'hd': 0, 'cd': 1}. Best is trial 11 with value: 2.7779201853581075.\n"
     ]
    },
    {
     "name": "stdout",
     "output_type": "stream",
     "text": [
      "Using device: cuda\n"
     ]
    },
    {
     "name": "stderr",
     "output_type": "stream",
     "text": [
      "[I 2025-09-29 12:01:04,398] Trial 23 finished with value: 2.820236909432484 and parameters: {'seasons': 1, 'weekdays': 0, 'weekday_weekend': 1, 'months': 0, 'min_demand': 0, 'avg_demand': 0, 'max_demand': 1, 'avg_temp': 0, 'max_temp': 1, 'min_temp': 0, 'hd': 0, 'cd': 1}. Best is trial 11 with value: 2.7779201853581075.\n"
     ]
    },
    {
     "name": "stdout",
     "output_type": "stream",
     "text": [
      "Using device: cuda\n"
     ]
    },
    {
     "name": "stderr",
     "output_type": "stream",
     "text": [
      "[I 2025-09-29 12:01:35,876] Trial 24 finished with value: 2.9197282601337258 and parameters: {'seasons': 1, 'weekdays': 0, 'weekday_weekend': 1, 'months': 0, 'min_demand': 0, 'avg_demand': 0, 'max_demand': 1, 'avg_temp': 0, 'max_temp': 1, 'min_temp': 0, 'hd': 0, 'cd': 1}. Best is trial 11 with value: 2.7779201853581075.\n"
     ]
    },
    {
     "name": "stdout",
     "output_type": "stream",
     "text": [
      "Using device: cuda\n"
     ]
    },
    {
     "name": "stderr",
     "output_type": "stream",
     "text": [
      "[I 2025-09-29 12:02:06,057] Trial 25 finished with value: 2.791847268364431 and parameters: {'seasons': 1, 'weekdays': 0, 'weekday_weekend': 1, 'months': 0, 'min_demand': 0, 'avg_demand': 0, 'max_demand': 1, 'avg_temp': 0, 'max_temp': 1, 'min_temp': 0, 'hd': 0, 'cd': 1}. Best is trial 11 with value: 2.7779201853581075.\n"
     ]
    },
    {
     "name": "stdout",
     "output_type": "stream",
     "text": [
      "Using device: cuda\n"
     ]
    },
    {
     "name": "stderr",
     "output_type": "stream",
     "text": [
      "[I 2025-09-29 12:02:28,858] Trial 26 finished with value: 2.8268898699097127 and parameters: {'seasons': 1, 'weekdays': 0, 'weekday_weekend': 1, 'months': 0, 'min_demand': 0, 'avg_demand': 0, 'max_demand': 1, 'avg_temp': 0, 'max_temp': 1, 'min_temp': 0, 'hd': 0, 'cd': 1}. Best is trial 11 with value: 2.7779201853581075.\n"
     ]
    },
    {
     "name": "stdout",
     "output_type": "stream",
     "text": [
      "Using device: cuda\n"
     ]
    },
    {
     "name": "stderr",
     "output_type": "stream",
     "text": [
      "[I 2025-09-29 12:02:51,397] Trial 27 finished with value: 2.8957229924599712 and parameters: {'seasons': 1, 'weekdays': 0, 'weekday_weekend': 1, 'months': 0, 'min_demand': 0, 'avg_demand': 0, 'max_demand': 1, 'avg_temp': 0, 'max_temp': 1, 'min_temp': 0, 'hd': 0, 'cd': 1}. Best is trial 11 with value: 2.7779201853581075.\n"
     ]
    },
    {
     "name": "stdout",
     "output_type": "stream",
     "text": [
      "Using device: cuda\n"
     ]
    },
    {
     "name": "stderr",
     "output_type": "stream",
     "text": [
      "[I 2025-09-29 12:03:17,359] Trial 28 finished with value: 2.8933765741756585 and parameters: {'seasons': 1, 'weekdays': 0, 'weekday_weekend': 1, 'months': 0, 'min_demand': 0, 'avg_demand': 0, 'max_demand': 1, 'avg_temp': 0, 'max_temp': 1, 'min_temp': 0, 'hd': 0, 'cd': 1}. Best is trial 11 with value: 2.7779201853581075.\n"
     ]
    },
    {
     "name": "stdout",
     "output_type": "stream",
     "text": [
      "Using device: cuda\n"
     ]
    },
    {
     "name": "stderr",
     "output_type": "stream",
     "text": [
      "[I 2025-09-29 12:03:44,177] Trial 29 finished with value: 2.849671307356838 and parameters: {'seasons': 1, 'weekdays': 0, 'weekday_weekend': 1, 'months': 0, 'min_demand': 0, 'avg_demand': 0, 'max_demand': 1, 'avg_temp': 0, 'max_temp': 1, 'min_temp': 0, 'hd': 0, 'cd': 1}. Best is trial 11 with value: 2.7779201853581075.\n"
     ]
    },
    {
     "name": "stdout",
     "output_type": "stream",
     "text": [
      "Using device: cuda\n"
     ]
    },
    {
     "name": "stderr",
     "output_type": "stream",
     "text": [
      "[I 2025-09-29 12:04:10,290] Trial 30 finished with value: 2.9074052087428988 and parameters: {'seasons': 1, 'weekdays': 0, 'weekday_weekend': 1, 'months': 0, 'min_demand': 0, 'avg_demand': 0, 'max_demand': 1, 'avg_temp': 0, 'max_temp': 1, 'min_temp': 0, 'hd': 0, 'cd': 1}. Best is trial 11 with value: 2.7779201853581075.\n"
     ]
    },
    {
     "name": "stdout",
     "output_type": "stream",
     "text": [
      "Using device: cuda\n"
     ]
    },
    {
     "name": "stderr",
     "output_type": "stream",
     "text": [
      "[I 2025-09-29 12:04:54,310] Trial 31 finished with value: 3.0070287914968885 and parameters: {'seasons': 1, 'weekdays': 0, 'weekday_weekend': 1, 'months': 0, 'min_demand': 0, 'avg_demand': 0, 'max_demand': 1, 'avg_temp': 0, 'max_temp': 1, 'min_temp': 0, 'hd': 0, 'cd': 1}. Best is trial 11 with value: 2.7779201853581075.\n"
     ]
    },
    {
     "name": "stdout",
     "output_type": "stream",
     "text": [
      "Using device: cuda\n"
     ]
    },
    {
     "name": "stderr",
     "output_type": "stream",
     "text": [
      "[I 2025-09-29 12:05:23,594] Trial 32 finished with value: 2.919885105759386 and parameters: {'seasons': 1, 'weekdays': 0, 'weekday_weekend': 1, 'months': 0, 'min_demand': 0, 'avg_demand': 0, 'max_demand': 1, 'avg_temp': 0, 'max_temp': 1, 'min_temp': 0, 'hd': 0, 'cd': 1}. Best is trial 11 with value: 2.7779201853581075.\n"
     ]
    },
    {
     "name": "stdout",
     "output_type": "stream",
     "text": [
      "Using device: cuda\n"
     ]
    },
    {
     "name": "stderr",
     "output_type": "stream",
     "text": [
      "[I 2025-09-29 12:05:47,448] Trial 33 finished with value: 2.8132552980291043 and parameters: {'seasons': 1, 'weekdays': 0, 'weekday_weekend': 1, 'months': 0, 'min_demand': 0, 'avg_demand': 0, 'max_demand': 1, 'avg_temp': 0, 'max_temp': 1, 'min_temp': 0, 'hd': 0, 'cd': 1}. Best is trial 11 with value: 2.7779201853581075.\n"
     ]
    },
    {
     "name": "stdout",
     "output_type": "stream",
     "text": [
      "Using device: cuda\n"
     ]
    },
    {
     "name": "stderr",
     "output_type": "stream",
     "text": [
      "[I 2025-09-29 12:06:08,636] Trial 34 finished with value: 2.810290538865448 and parameters: {'seasons': 1, 'weekdays': 0, 'weekday_weekend': 1, 'months': 0, 'min_demand': 0, 'avg_demand': 0, 'max_demand': 1, 'avg_temp': 0, 'max_temp': 1, 'min_temp': 0, 'hd': 0, 'cd': 1}. Best is trial 11 with value: 2.7779201853581075.\n"
     ]
    },
    {
     "name": "stdout",
     "output_type": "stream",
     "text": [
      "Using device: cuda\n"
     ]
    },
    {
     "name": "stderr",
     "output_type": "stream",
     "text": [
      "[I 2025-09-29 12:07:08,409] Trial 35 finished with value: 3.7153458086516196 and parameters: {'seasons': 0, 'weekdays': 0, 'weekday_weekend': 0, 'months': 0, 'min_demand': 0, 'avg_demand': 0, 'max_demand': 0, 'avg_temp': 0, 'max_temp': 0, 'min_temp': 0, 'hd': 0, 'cd': 0}. Best is trial 11 with value: 2.7779201853581075.\n"
     ]
    },
    {
     "name": "stdout",
     "output_type": "stream",
     "text": [
      "Using device: cuda\n"
     ]
    },
    {
     "name": "stderr",
     "output_type": "stream",
     "text": [
      "[I 2025-09-29 12:07:35,559] Trial 36 finished with value: 2.9338051875693436 and parameters: {'seasons': 1, 'weekdays': 0, 'weekday_weekend': 1, 'months': 0, 'min_demand': 1, 'avg_demand': 1, 'max_demand': 1, 'avg_temp': 1, 'max_temp': 1, 'min_temp': 0, 'hd': 1, 'cd': 1}. Best is trial 11 with value: 2.7779201853581075.\n"
     ]
    },
    {
     "name": "stdout",
     "output_type": "stream",
     "text": [
      "Using device: cuda\n"
     ]
    },
    {
     "name": "stderr",
     "output_type": "stream",
     "text": [
      "[I 2025-09-29 12:07:54,268] Trial 37 finished with value: 3.037487264485312 and parameters: {'seasons': 1, 'weekdays': 1, 'weekday_weekend': 1, 'months': 0, 'min_demand': 0, 'avg_demand': 0, 'max_demand': 1, 'avg_temp': 0, 'max_temp': 1, 'min_temp': 1, 'hd': 0, 'cd': 0}. Best is trial 11 with value: 2.7779201853581075.\n"
     ]
    },
    {
     "name": "stdout",
     "output_type": "stream",
     "text": [
      "Using device: cuda\n"
     ]
    },
    {
     "name": "stderr",
     "output_type": "stream",
     "text": [
      "[I 2025-09-29 12:08:17,950] Trial 38 finished with value: 2.889926379659347 and parameters: {'seasons': 0, 'weekdays': 0, 'weekday_weekend': 1, 'months': 0, 'min_demand': 0, 'avg_demand': 0, 'max_demand': 0, 'avg_temp': 0, 'max_temp': 1, 'min_temp': 0, 'hd': 0, 'cd': 1}. Best is trial 11 with value: 2.7779201853581075.\n"
     ]
    },
    {
     "name": "stdout",
     "output_type": "stream",
     "text": [
      "Using device: cuda\n"
     ]
    },
    {
     "name": "stderr",
     "output_type": "stream",
     "text": [
      "[I 2025-09-29 12:08:35,213] Trial 39 finished with value: 2.9945421342528693 and parameters: {'seasons': 1, 'weekdays': 1, 'weekday_weekend': 0, 'months': 0, 'min_demand': 1, 'avg_demand': 1, 'max_demand': 1, 'avg_temp': 1, 'max_temp': 1, 'min_temp': 1, 'hd': 1, 'cd': 1}. Best is trial 11 with value: 2.7779201853581075.\n"
     ]
    },
    {
     "name": "stdout",
     "output_type": "stream",
     "text": [
      "Using device: cuda\n"
     ]
    },
    {
     "name": "stderr",
     "output_type": "stream",
     "text": [
      "[I 2025-09-29 12:08:59,370] Trial 40 finished with value: 3.0042944512897467 and parameters: {'seasons': 1, 'weekdays': 0, 'weekday_weekend': 1, 'months': 1, 'min_demand': 0, 'avg_demand': 0, 'max_demand': 1, 'avg_temp': 0, 'max_temp': 0, 'min_temp': 0, 'hd': 0, 'cd': 0}. Best is trial 11 with value: 2.7779201853581075.\n"
     ]
    },
    {
     "name": "stdout",
     "output_type": "stream",
     "text": [
      "Using device: cuda\n"
     ]
    },
    {
     "name": "stderr",
     "output_type": "stream",
     "text": [
      "[I 2025-09-29 12:09:21,081] Trial 41 finished with value: 2.913132130735633 and parameters: {'seasons': 1, 'weekdays': 0, 'weekday_weekend': 1, 'months': 0, 'min_demand': 0, 'avg_demand': 0, 'max_demand': 1, 'avg_temp': 0, 'max_temp': 1, 'min_temp': 0, 'hd': 0, 'cd': 1}. Best is trial 11 with value: 2.7779201853581075.\n"
     ]
    },
    {
     "name": "stdout",
     "output_type": "stream",
     "text": [
      "Using device: cuda\n"
     ]
    },
    {
     "name": "stderr",
     "output_type": "stream",
     "text": [
      "[I 2025-09-29 12:09:42,550] Trial 42 finished with value: 2.906045455293456 and parameters: {'seasons': 1, 'weekdays': 0, 'weekday_weekend': 1, 'months': 0, 'min_demand': 0, 'avg_demand': 0, 'max_demand': 1, 'avg_temp': 0, 'max_temp': 1, 'min_temp': 0, 'hd': 0, 'cd': 1}. Best is trial 11 with value: 2.7779201853581075.\n"
     ]
    },
    {
     "name": "stdout",
     "output_type": "stream",
     "text": [
      "Using device: cuda\n"
     ]
    },
    {
     "name": "stderr",
     "output_type": "stream",
     "text": [
      "[I 2025-09-29 12:10:12,227] Trial 43 finished with value: 2.932227041573252 and parameters: {'seasons': 1, 'weekdays': 0, 'weekday_weekend': 1, 'months': 0, 'min_demand': 0, 'avg_demand': 0, 'max_demand': 1, 'avg_temp': 0, 'max_temp': 1, 'min_temp': 0, 'hd': 0, 'cd': 1}. Best is trial 11 with value: 2.7779201853581075.\n"
     ]
    },
    {
     "name": "stdout",
     "output_type": "stream",
     "text": [
      "Using device: cuda\n"
     ]
    },
    {
     "name": "stderr",
     "output_type": "stream",
     "text": [
      "[I 2025-09-29 12:10:30,210] Trial 44 finished with value: 2.882459536077447 and parameters: {'seasons': 1, 'weekdays': 0, 'weekday_weekend': 1, 'months': 0, 'min_demand': 0, 'avg_demand': 0, 'max_demand': 1, 'avg_temp': 0, 'max_temp': 1, 'min_temp': 0, 'hd': 0, 'cd': 1}. Best is trial 11 with value: 2.7779201853581075.\n"
     ]
    },
    {
     "name": "stdout",
     "output_type": "stream",
     "text": [
      "Using device: cuda\n"
     ]
    },
    {
     "name": "stderr",
     "output_type": "stream",
     "text": [
      "[I 2025-09-29 12:10:49,533] Trial 45 finished with value: 2.8461904426884788 and parameters: {'seasons': 1, 'weekdays': 0, 'weekday_weekend': 1, 'months': 0, 'min_demand': 0, 'avg_demand': 0, 'max_demand': 1, 'avg_temp': 0, 'max_temp': 1, 'min_temp': 0, 'hd': 0, 'cd': 1}. Best is trial 11 with value: 2.7779201853581075.\n"
     ]
    },
    {
     "name": "stdout",
     "output_type": "stream",
     "text": [
      "Using device: cuda\n"
     ]
    },
    {
     "name": "stderr",
     "output_type": "stream",
     "text": [
      "[I 2025-09-29 12:11:20,980] Trial 46 finished with value: 2.9050182281169508 and parameters: {'seasons': 1, 'weekdays': 0, 'weekday_weekend': 1, 'months': 0, 'min_demand': 0, 'avg_demand': 1, 'max_demand': 1, 'avg_temp': 0, 'max_temp': 1, 'min_temp': 0, 'hd': 0, 'cd': 1}. Best is trial 11 with value: 2.7779201853581075.\n"
     ]
    },
    {
     "name": "stdout",
     "output_type": "stream",
     "text": [
      "Using device: cuda\n"
     ]
    },
    {
     "name": "stderr",
     "output_type": "stream",
     "text": [
      "[I 2025-09-29 12:11:47,956] Trial 47 finished with value: 2.8561601784003234 and parameters: {'seasons': 1, 'weekdays': 1, 'weekday_weekend': 1, 'months': 0, 'min_demand': 0, 'avg_demand': 0, 'max_demand': 0, 'avg_temp': 0, 'max_temp': 1, 'min_temp': 1, 'hd': 1, 'cd': 1}. Best is trial 11 with value: 2.7779201853581075.\n"
     ]
    },
    {
     "name": "stdout",
     "output_type": "stream",
     "text": [
      "Using device: cuda\n"
     ]
    },
    {
     "name": "stderr",
     "output_type": "stream",
     "text": [
      "[I 2025-09-29 12:12:13,559] Trial 48 finished with value: 2.941516574216933 and parameters: {'seasons': 0, 'weekdays': 0, 'weekday_weekend': 1, 'months': 0, 'min_demand': 0, 'avg_demand': 0, 'max_demand': 1, 'avg_temp': 0, 'max_temp': 1, 'min_temp': 0, 'hd': 0, 'cd': 1}. Best is trial 11 with value: 2.7779201853581075.\n"
     ]
    },
    {
     "name": "stdout",
     "output_type": "stream",
     "text": [
      "Using device: cuda\n"
     ]
    },
    {
     "name": "stderr",
     "output_type": "stream",
     "text": [
      "[I 2025-09-29 12:12:34,323] Trial 49 finished with value: 3.529579770921762 and parameters: {'seasons': 1, 'weekdays': 0, 'weekday_weekend': 0, 'months': 0, 'min_demand': 1, 'avg_demand': 0, 'max_demand': 1, 'avg_temp': 0, 'max_temp': 1, 'min_temp': 0, 'hd': 0, 'cd': 1}. Best is trial 11 with value: 2.7779201853581075.\n"
     ]
    },
    {
     "name": "stdout",
     "output_type": "stream",
     "text": [
      "Using device: cuda\n"
     ]
    },
    {
     "name": "stderr",
     "output_type": "stream",
     "text": [
      "[I 2025-09-29 12:13:18,712] Trial 50 finished with value: 2.9324282313439305 and parameters: {'seasons': 1, 'weekdays': 0, 'weekday_weekend': 1, 'months': 1, 'min_demand': 0, 'avg_demand': 0, 'max_demand': 1, 'avg_temp': 1, 'max_temp': 1, 'min_temp': 0, 'hd': 0, 'cd': 1}. Best is trial 11 with value: 2.7779201853581075.\n"
     ]
    },
    {
     "name": "stdout",
     "output_type": "stream",
     "text": [
      "Using device: cuda\n"
     ]
    },
    {
     "name": "stderr",
     "output_type": "stream",
     "text": [
      "[I 2025-09-29 12:13:52,523] Trial 51 finished with value: 2.904595274970694 and parameters: {'seasons': 1, 'weekdays': 0, 'weekday_weekend': 1, 'months': 0, 'min_demand': 0, 'avg_demand': 0, 'max_demand': 1, 'avg_temp': 0, 'max_temp': 1, 'min_temp': 0, 'hd': 0, 'cd': 1}. Best is trial 11 with value: 2.7779201853581075.\n"
     ]
    },
    {
     "name": "stdout",
     "output_type": "stream",
     "text": [
      "Using device: cuda\n"
     ]
    },
    {
     "name": "stderr",
     "output_type": "stream",
     "text": [
      "[I 2025-09-29 12:14:20,899] Trial 52 finished with value: 2.9316293756372147 and parameters: {'seasons': 1, 'weekdays': 0, 'weekday_weekend': 1, 'months': 0, 'min_demand': 0, 'avg_demand': 0, 'max_demand': 1, 'avg_temp': 0, 'max_temp': 1, 'min_temp': 0, 'hd': 0, 'cd': 1}. Best is trial 11 with value: 2.7779201853581075.\n"
     ]
    },
    {
     "name": "stdout",
     "output_type": "stream",
     "text": [
      "Using device: cuda\n"
     ]
    },
    {
     "name": "stderr",
     "output_type": "stream",
     "text": [
      "[I 2025-09-29 12:14:47,464] Trial 53 finished with value: 2.8503661128113107 and parameters: {'seasons': 1, 'weekdays': 0, 'weekday_weekend': 1, 'months': 0, 'min_demand': 0, 'avg_demand': 0, 'max_demand': 1, 'avg_temp': 0, 'max_temp': 1, 'min_temp': 0, 'hd': 0, 'cd': 1}. Best is trial 11 with value: 2.7779201853581075.\n"
     ]
    },
    {
     "name": "stdout",
     "output_type": "stream",
     "text": [
      "Using device: cuda\n"
     ]
    },
    {
     "name": "stderr",
     "output_type": "stream",
     "text": [
      "[I 2025-09-29 12:15:12,475] Trial 54 finished with value: 2.8530094441630274 and parameters: {'seasons': 1, 'weekdays': 0, 'weekday_weekend': 1, 'months': 0, 'min_demand': 0, 'avg_demand': 0, 'max_demand': 1, 'avg_temp': 0, 'max_temp': 1, 'min_temp': 0, 'hd': 0, 'cd': 1}. Best is trial 11 with value: 2.7779201853581075.\n"
     ]
    },
    {
     "name": "stdout",
     "output_type": "stream",
     "text": [
      "Using device: cuda\n"
     ]
    },
    {
     "name": "stderr",
     "output_type": "stream",
     "text": [
      "[I 2025-09-29 12:15:35,615] Trial 55 finished with value: 2.8627319800415796 and parameters: {'seasons': 1, 'weekdays': 0, 'weekday_weekend': 1, 'months': 0, 'min_demand': 0, 'avg_demand': 0, 'max_demand': 1, 'avg_temp': 0, 'max_temp': 1, 'min_temp': 0, 'hd': 0, 'cd': 1}. Best is trial 11 with value: 2.7779201853581075.\n"
     ]
    },
    {
     "name": "stdout",
     "output_type": "stream",
     "text": [
      "Using device: cuda\n"
     ]
    },
    {
     "name": "stderr",
     "output_type": "stream",
     "text": [
      "[I 2025-09-29 12:15:59,600] Trial 56 finished with value: 2.928034033703704 and parameters: {'seasons': 1, 'weekdays': 0, 'weekday_weekend': 1, 'months': 0, 'min_demand': 0, 'avg_demand': 0, 'max_demand': 1, 'avg_temp': 0, 'max_temp': 1, 'min_temp': 0, 'hd': 0, 'cd': 1}. Best is trial 11 with value: 2.7779201853581075.\n"
     ]
    },
    {
     "name": "stdout",
     "output_type": "stream",
     "text": [
      "Using device: cuda\n"
     ]
    },
    {
     "name": "stderr",
     "output_type": "stream",
     "text": [
      "[I 2025-09-29 12:16:45,330] Trial 57 finished with value: 2.874833758805507 and parameters: {'seasons': 1, 'weekdays': 0, 'weekday_weekend': 1, 'months': 0, 'min_demand': 0, 'avg_demand': 0, 'max_demand': 1, 'avg_temp': 0, 'max_temp': 0, 'min_temp': 0, 'hd': 0, 'cd': 1}. Best is trial 11 with value: 2.7779201853581075.\n"
     ]
    },
    {
     "name": "stdout",
     "output_type": "stream",
     "text": [
      "Using device: cuda\n"
     ]
    },
    {
     "name": "stderr",
     "output_type": "stream",
     "text": [
      "[I 2025-09-29 12:17:12,289] Trial 58 finished with value: 2.808138506704425 and parameters: {'seasons': 1, 'weekdays': 0, 'weekday_weekend': 1, 'months': 0, 'min_demand': 0, 'avg_demand': 0, 'max_demand': 1, 'avg_temp': 0, 'max_temp': 1, 'min_temp': 0, 'hd': 0, 'cd': 1}. Best is trial 11 with value: 2.7779201853581075.\n"
     ]
    },
    {
     "name": "stdout",
     "output_type": "stream",
     "text": [
      "Using device: cuda\n"
     ]
    },
    {
     "name": "stderr",
     "output_type": "stream",
     "text": [
      "[I 2025-09-29 12:17:32,265] Trial 59 finished with value: 2.818218451422382 and parameters: {'seasons': 1, 'weekdays': 0, 'weekday_weekend': 1, 'months': 0, 'min_demand': 0, 'avg_demand': 0, 'max_demand': 1, 'avg_temp': 0, 'max_temp': 1, 'min_temp': 0, 'hd': 0, 'cd': 1}. Best is trial 11 with value: 2.7779201853581075.\n"
     ]
    },
    {
     "name": "stdout",
     "output_type": "stream",
     "text": [
      "Using device: cuda\n"
     ]
    },
    {
     "name": "stderr",
     "output_type": "stream",
     "text": [
      "[I 2025-09-29 12:17:54,834] Trial 60 finished with value: 2.8706022201456127 and parameters: {'seasons': 1, 'weekdays': 0, 'weekday_weekend': 1, 'months': 0, 'min_demand': 0, 'avg_demand': 0, 'max_demand': 1, 'avg_temp': 0, 'max_temp': 1, 'min_temp': 0, 'hd': 0, 'cd': 1}. Best is trial 11 with value: 2.7779201853581075.\n"
     ]
    },
    {
     "name": "stdout",
     "output_type": "stream",
     "text": [
      "Using device: cuda\n"
     ]
    },
    {
     "name": "stderr",
     "output_type": "stream",
     "text": [
      "[I 2025-09-29 12:18:14,162] Trial 61 finished with value: 2.9897957202625807 and parameters: {'seasons': 1, 'weekdays': 0, 'weekday_weekend': 1, 'months': 0, 'min_demand': 0, 'avg_demand': 0, 'max_demand': 1, 'avg_temp': 0, 'max_temp': 1, 'min_temp': 0, 'hd': 0, 'cd': 1}. Best is trial 11 with value: 2.7779201853581075.\n"
     ]
    },
    {
     "name": "stdout",
     "output_type": "stream",
     "text": [
      "Using device: cuda\n"
     ]
    },
    {
     "name": "stderr",
     "output_type": "stream",
     "text": [
      "[I 2025-09-29 12:18:34,097] Trial 62 finished with value: 2.8960092995281075 and parameters: {'seasons': 1, 'weekdays': 0, 'weekday_weekend': 1, 'months': 0, 'min_demand': 0, 'avg_demand': 0, 'max_demand': 1, 'avg_temp': 0, 'max_temp': 1, 'min_temp': 0, 'hd': 0, 'cd': 1}. Best is trial 11 with value: 2.7779201853581075.\n"
     ]
    },
    {
     "name": "stdout",
     "output_type": "stream",
     "text": [
      "Using device: cuda\n"
     ]
    },
    {
     "name": "stderr",
     "output_type": "stream",
     "text": [
      "[I 2025-09-29 12:18:53,999] Trial 63 finished with value: 2.9998135112161863 and parameters: {'seasons': 1, 'weekdays': 0, 'weekday_weekend': 1, 'months': 0, 'min_demand': 0, 'avg_demand': 0, 'max_demand': 1, 'avg_temp': 0, 'max_temp': 1, 'min_temp': 0, 'hd': 0, 'cd': 1}. Best is trial 11 with value: 2.7779201853581075.\n"
     ]
    },
    {
     "name": "stdout",
     "output_type": "stream",
     "text": [
      "Using device: cuda\n"
     ]
    },
    {
     "name": "stderr",
     "output_type": "stream",
     "text": [
      "[I 2025-09-29 12:19:17,233] Trial 64 finished with value: 2.987904524865765 and parameters: {'seasons': 1, 'weekdays': 0, 'weekday_weekend': 1, 'months': 0, 'min_demand': 0, 'avg_demand': 0, 'max_demand': 1, 'avg_temp': 0, 'max_temp': 1, 'min_temp': 0, 'hd': 0, 'cd': 1}. Best is trial 11 with value: 2.7779201853581075.\n"
     ]
    },
    {
     "name": "stdout",
     "output_type": "stream",
     "text": [
      "Using device: cuda\n"
     ]
    },
    {
     "name": "stderr",
     "output_type": "stream",
     "text": [
      "[I 2025-09-29 12:19:38,980] Trial 65 finished with value: 2.9946256836252343 and parameters: {'seasons': 1, 'weekdays': 0, 'weekday_weekend': 1, 'months': 0, 'min_demand': 0, 'avg_demand': 0, 'max_demand': 1, 'avg_temp': 0, 'max_temp': 1, 'min_temp': 0, 'hd': 0, 'cd': 1}. Best is trial 11 with value: 2.7779201853581075.\n"
     ]
    },
    {
     "name": "stdout",
     "output_type": "stream",
     "text": [
      "Using device: cuda\n"
     ]
    },
    {
     "name": "stderr",
     "output_type": "stream",
     "text": [
      "[I 2025-09-29 12:20:02,139] Trial 66 finished with value: 2.837194893179177 and parameters: {'seasons': 1, 'weekdays': 0, 'weekday_weekend': 1, 'months': 0, 'min_demand': 0, 'avg_demand': 0, 'max_demand': 1, 'avg_temp': 0, 'max_temp': 1, 'min_temp': 0, 'hd': 0, 'cd': 1}. Best is trial 11 with value: 2.7779201853581075.\n"
     ]
    },
    {
     "name": "stdout",
     "output_type": "stream",
     "text": [
      "Using device: cuda\n"
     ]
    },
    {
     "name": "stderr",
     "output_type": "stream",
     "text": [
      "[I 2025-09-29 12:20:20,480] Trial 67 finished with value: 2.785985973985861 and parameters: {'seasons': 1, 'weekdays': 0, 'weekday_weekend': 1, 'months': 0, 'min_demand': 0, 'avg_demand': 0, 'max_demand': 1, 'avg_temp': 0, 'max_temp': 1, 'min_temp': 0, 'hd': 0, 'cd': 1}. Best is trial 11 with value: 2.7779201853581075.\n"
     ]
    },
    {
     "name": "stdout",
     "output_type": "stream",
     "text": [
      "Using device: cuda\n"
     ]
    },
    {
     "name": "stderr",
     "output_type": "stream",
     "text": [
      "[I 2025-09-29 12:20:42,140] Trial 68 finished with value: 2.8167120974728506 and parameters: {'seasons': 1, 'weekdays': 0, 'weekday_weekend': 1, 'months': 0, 'min_demand': 0, 'avg_demand': 0, 'max_demand': 1, 'avg_temp': 0, 'max_temp': 1, 'min_temp': 0, 'hd': 0, 'cd': 1}. Best is trial 11 with value: 2.7779201853581075.\n"
     ]
    },
    {
     "name": "stdout",
     "output_type": "stream",
     "text": [
      "Using device: cuda\n"
     ]
    },
    {
     "name": "stderr",
     "output_type": "stream",
     "text": [
      "[I 2025-09-29 12:21:03,657] Trial 69 finished with value: 2.868066960958404 and parameters: {'seasons': 1, 'weekdays': 0, 'weekday_weekend': 1, 'months': 0, 'min_demand': 0, 'avg_demand': 0, 'max_demand': 1, 'avg_temp': 0, 'max_temp': 1, 'min_temp': 0, 'hd': 0, 'cd': 0}. Best is trial 11 with value: 2.7779201853581075.\n"
     ]
    },
    {
     "name": "stdout",
     "output_type": "stream",
     "text": [
      "Using device: cuda\n"
     ]
    },
    {
     "name": "stderr",
     "output_type": "stream",
     "text": [
      "[I 2025-09-29 12:21:25,032] Trial 70 finished with value: 3.0843785270737114 and parameters: {'seasons': 0, 'weekdays': 0, 'weekday_weekend': 1, 'months': 1, 'min_demand': 0, 'avg_demand': 0, 'max_demand': 0, 'avg_temp': 0, 'max_temp': 1, 'min_temp': 0, 'hd': 0, 'cd': 1}. Best is trial 11 with value: 2.7779201853581075.\n"
     ]
    },
    {
     "name": "stdout",
     "output_type": "stream",
     "text": [
      "Using device: cuda\n"
     ]
    },
    {
     "name": "stderr",
     "output_type": "stream",
     "text": [
      "[I 2025-09-29 12:21:45,557] Trial 71 finished with value: 2.8512442300419654 and parameters: {'seasons': 1, 'weekdays': 0, 'weekday_weekend': 1, 'months': 0, 'min_demand': 0, 'avg_demand': 0, 'max_demand': 1, 'avg_temp': 0, 'max_temp': 1, 'min_temp': 0, 'hd': 0, 'cd': 1}. Best is trial 11 with value: 2.7779201853581075.\n"
     ]
    },
    {
     "name": "stdout",
     "output_type": "stream",
     "text": [
      "Using device: cuda\n"
     ]
    },
    {
     "name": "stderr",
     "output_type": "stream",
     "text": [
      "[I 2025-09-29 12:22:09,866] Trial 72 finished with value: 2.934231895381758 and parameters: {'seasons': 1, 'weekdays': 0, 'weekday_weekend': 1, 'months': 0, 'min_demand': 0, 'avg_demand': 0, 'max_demand': 1, 'avg_temp': 0, 'max_temp': 1, 'min_temp': 0, 'hd': 0, 'cd': 1}. Best is trial 11 with value: 2.7779201853581075.\n"
     ]
    },
    {
     "name": "stdout",
     "output_type": "stream",
     "text": [
      "Using device: cuda\n"
     ]
    },
    {
     "name": "stderr",
     "output_type": "stream",
     "text": [
      "[I 2025-09-29 12:22:39,206] Trial 73 finished with value: 3.0195172731021005 and parameters: {'seasons': 1, 'weekdays': 0, 'weekday_weekend': 1, 'months': 0, 'min_demand': 0, 'avg_demand': 0, 'max_demand': 1, 'avg_temp': 0, 'max_temp': 1, 'min_temp': 0, 'hd': 0, 'cd': 1}. Best is trial 11 with value: 2.7779201853581075.\n"
     ]
    },
    {
     "name": "stdout",
     "output_type": "stream",
     "text": [
      "Using device: cuda\n"
     ]
    },
    {
     "name": "stderr",
     "output_type": "stream",
     "text": [
      "[I 2025-09-29 12:23:10,760] Trial 74 finished with value: 2.920790951358869 and parameters: {'seasons': 1, 'weekdays': 0, 'weekday_weekend': 1, 'months': 0, 'min_demand': 0, 'avg_demand': 0, 'max_demand': 1, 'avg_temp': 0, 'max_temp': 1, 'min_temp': 0, 'hd': 0, 'cd': 1}. Best is trial 11 with value: 2.7779201853581075.\n"
     ]
    },
    {
     "name": "stdout",
     "output_type": "stream",
     "text": [
      "Using device: cuda\n"
     ]
    },
    {
     "name": "stderr",
     "output_type": "stream",
     "text": [
      "[I 2025-09-29 12:23:37,107] Trial 75 finished with value: 3.0131529900021046 and parameters: {'seasons': 1, 'weekdays': 0, 'weekday_weekend': 1, 'months': 0, 'min_demand': 0, 'avg_demand': 0, 'max_demand': 1, 'avg_temp': 0, 'max_temp': 1, 'min_temp': 0, 'hd': 0, 'cd': 1}. Best is trial 11 with value: 2.7779201853581075.\n"
     ]
    },
    {
     "name": "stdout",
     "output_type": "stream",
     "text": [
      "Using device: cuda\n"
     ]
    },
    {
     "name": "stderr",
     "output_type": "stream",
     "text": [
      "[I 2025-09-29 12:24:12,735] Trial 76 finished with value: 2.8887785864091486 and parameters: {'seasons': 1, 'weekdays': 0, 'weekday_weekend': 1, 'months': 0, 'min_demand': 0, 'avg_demand': 0, 'max_demand': 1, 'avg_temp': 0, 'max_temp': 1, 'min_temp': 0, 'hd': 0, 'cd': 1}. Best is trial 11 with value: 2.7779201853581075.\n"
     ]
    },
    {
     "name": "stdout",
     "output_type": "stream",
     "text": [
      "Using device: cuda\n"
     ]
    },
    {
     "name": "stderr",
     "output_type": "stream",
     "text": [
      "[I 2025-09-29 12:24:33,534] Trial 77 finished with value: 2.793211556650472 and parameters: {'seasons': 1, 'weekdays': 0, 'weekday_weekend': 1, 'months': 0, 'min_demand': 0, 'avg_demand': 0, 'max_demand': 1, 'avg_temp': 0, 'max_temp': 1, 'min_temp': 0, 'hd': 1, 'cd': 1}. Best is trial 11 with value: 2.7779201853581075.\n"
     ]
    },
    {
     "name": "stdout",
     "output_type": "stream",
     "text": [
      "Using device: cuda\n"
     ]
    },
    {
     "name": "stderr",
     "output_type": "stream",
     "text": [
      "[I 2025-09-29 12:24:51,506] Trial 78 finished with value: 2.9385280610218807 and parameters: {'seasons': 1, 'weekdays': 1, 'weekday_weekend': 0, 'months': 0, 'min_demand': 0, 'avg_demand': 1, 'max_demand': 1, 'avg_temp': 0, 'max_temp': 1, 'min_temp': 0, 'hd': 1, 'cd': 1}. Best is trial 11 with value: 2.7779201853581075.\n"
     ]
    },
    {
     "name": "stdout",
     "output_type": "stream",
     "text": [
      "Using device: cuda\n"
     ]
    },
    {
     "name": "stderr",
     "output_type": "stream",
     "text": [
      "[I 2025-09-29 12:25:11,722] Trial 79 finished with value: 2.954191192052402 and parameters: {'seasons': 1, 'weekdays': 0, 'weekday_weekend': 1, 'months': 0, 'min_demand': 0, 'avg_demand': 0, 'max_demand': 1, 'avg_temp': 0, 'max_temp': 1, 'min_temp': 0, 'hd': 1, 'cd': 1}. Best is trial 11 with value: 2.7779201853581075.\n"
     ]
    },
    {
     "name": "stdout",
     "output_type": "stream",
     "text": [
      "Using device: cuda\n"
     ]
    },
    {
     "name": "stderr",
     "output_type": "stream",
     "text": [
      "[I 2025-09-29 12:25:40,044] Trial 80 finished with value: 3.048856929809918 and parameters: {'seasons': 1, 'weekdays': 0, 'weekday_weekend': 1, 'months': 0, 'min_demand': 1, 'avg_demand': 0, 'max_demand': 1, 'avg_temp': 0, 'max_temp': 0, 'min_temp': 1, 'hd': 1, 'cd': 1}. Best is trial 11 with value: 2.7779201853581075.\n"
     ]
    },
    {
     "name": "stdout",
     "output_type": "stream",
     "text": [
      "Using device: cuda\n"
     ]
    },
    {
     "name": "stderr",
     "output_type": "stream",
     "text": [
      "[I 2025-09-29 12:25:59,171] Trial 81 finished with value: 2.9410326526236297 and parameters: {'seasons': 1, 'weekdays': 0, 'weekday_weekend': 1, 'months': 0, 'min_demand': 0, 'avg_demand': 0, 'max_demand': 1, 'avg_temp': 0, 'max_temp': 1, 'min_temp': 0, 'hd': 1, 'cd': 1}. Best is trial 11 with value: 2.7779201853581075.\n"
     ]
    },
    {
     "name": "stdout",
     "output_type": "stream",
     "text": [
      "Using device: cuda\n"
     ]
    },
    {
     "name": "stderr",
     "output_type": "stream",
     "text": [
      "[I 2025-09-29 12:26:23,094] Trial 82 finished with value: 2.9989548583222203 and parameters: {'seasons': 1, 'weekdays': 0, 'weekday_weekend': 1, 'months': 0, 'min_demand': 0, 'avg_demand': 0, 'max_demand': 1, 'avg_temp': 0, 'max_temp': 1, 'min_temp': 0, 'hd': 1, 'cd': 1}. Best is trial 11 with value: 2.7779201853581075.\n"
     ]
    },
    {
     "name": "stdout",
     "output_type": "stream",
     "text": [
      "Using device: cuda\n"
     ]
    },
    {
     "name": "stderr",
     "output_type": "stream",
     "text": [
      "[I 2025-09-29 12:26:41,967] Trial 83 finished with value: 2.853778508477489 and parameters: {'seasons': 1, 'weekdays': 0, 'weekday_weekend': 1, 'months': 0, 'min_demand': 0, 'avg_demand': 0, 'max_demand': 1, 'avg_temp': 0, 'max_temp': 1, 'min_temp': 0, 'hd': 0, 'cd': 1}. Best is trial 11 with value: 2.7779201853581075.\n"
     ]
    },
    {
     "name": "stdout",
     "output_type": "stream",
     "text": [
      "Using device: cuda\n"
     ]
    },
    {
     "name": "stderr",
     "output_type": "stream",
     "text": [
      "[I 2025-09-29 12:27:01,828] Trial 84 finished with value: 2.991499535906013 and parameters: {'seasons': 1, 'weekdays': 0, 'weekday_weekend': 1, 'months': 0, 'min_demand': 0, 'avg_demand': 0, 'max_demand': 1, 'avg_temp': 0, 'max_temp': 1, 'min_temp': 0, 'hd': 0, 'cd': 1}. Best is trial 11 with value: 2.7779201853581075.\n"
     ]
    },
    {
     "name": "stdout",
     "output_type": "stream",
     "text": [
      "Using device: cuda\n"
     ]
    },
    {
     "name": "stderr",
     "output_type": "stream",
     "text": [
      "[I 2025-09-29 12:27:22,455] Trial 85 finished with value: 2.7870763713313327 and parameters: {'seasons': 1, 'weekdays': 0, 'weekday_weekend': 1, 'months': 0, 'min_demand': 0, 'avg_demand': 0, 'max_demand': 1, 'avg_temp': 0, 'max_temp': 1, 'min_temp': 0, 'hd': 0, 'cd': 1}. Best is trial 11 with value: 2.7779201853581075.\n"
     ]
    },
    {
     "name": "stdout",
     "output_type": "stream",
     "text": [
      "Using device: cuda\n"
     ]
    },
    {
     "name": "stderr",
     "output_type": "stream",
     "text": [
      "[I 2025-09-29 12:27:39,271] Trial 86 finished with value: 2.923402528302284 and parameters: {'seasons': 1, 'weekdays': 0, 'weekday_weekend': 1, 'months': 0, 'min_demand': 0, 'avg_demand': 0, 'max_demand': 1, 'avg_temp': 0, 'max_temp': 1, 'min_temp': 0, 'hd': 0, 'cd': 1}. Best is trial 11 with value: 2.7779201853581075.\n"
     ]
    },
    {
     "name": "stdout",
     "output_type": "stream",
     "text": [
      "Using device: cuda\n"
     ]
    },
    {
     "name": "stderr",
     "output_type": "stream",
     "text": [
      "[I 2025-09-29 12:27:57,628] Trial 87 finished with value: 2.8653379701331843 and parameters: {'seasons': 1, 'weekdays': 0, 'weekday_weekend': 1, 'months': 0, 'min_demand': 0, 'avg_demand': 0, 'max_demand': 1, 'avg_temp': 1, 'max_temp': 1, 'min_temp': 0, 'hd': 0, 'cd': 1}. Best is trial 11 with value: 2.7779201853581075.\n"
     ]
    },
    {
     "name": "stdout",
     "output_type": "stream",
     "text": [
      "Using device: cuda\n"
     ]
    },
    {
     "name": "stderr",
     "output_type": "stream",
     "text": [
      "[I 2025-09-29 12:28:22,580] Trial 88 finished with value: 2.847409159488158 and parameters: {'seasons': 1, 'weekdays': 0, 'weekday_weekend': 1, 'months': 0, 'min_demand': 0, 'avg_demand': 0, 'max_demand': 1, 'avg_temp': 0, 'max_temp': 1, 'min_temp': 0, 'hd': 0, 'cd': 1}. Best is trial 11 with value: 2.7779201853581075.\n"
     ]
    },
    {
     "name": "stdout",
     "output_type": "stream",
     "text": [
      "Using device: cuda\n"
     ]
    },
    {
     "name": "stderr",
     "output_type": "stream",
     "text": [
      "[I 2025-09-29 12:28:40,075] Trial 89 finished with value: 2.8210233497970005 and parameters: {'seasons': 1, 'weekdays': 0, 'weekday_weekend': 1, 'months': 0, 'min_demand': 0, 'avg_demand': 0, 'max_demand': 1, 'avg_temp': 0, 'max_temp': 1, 'min_temp': 0, 'hd': 0, 'cd': 1}. Best is trial 11 with value: 2.7779201853581075.\n"
     ]
    },
    {
     "name": "stdout",
     "output_type": "stream",
     "text": [
      "Using device: cuda\n"
     ]
    },
    {
     "name": "stderr",
     "output_type": "stream",
     "text": [
      "[I 2025-09-29 12:28:59,389] Trial 90 finished with value: 2.8948206972536137 and parameters: {'seasons': 1, 'weekdays': 0, 'weekday_weekend': 1, 'months': 0, 'min_demand': 0, 'avg_demand': 0, 'max_demand': 1, 'avg_temp': 0, 'max_temp': 1, 'min_temp': 0, 'hd': 1, 'cd': 1}. Best is trial 11 with value: 2.7779201853581075.\n"
     ]
    },
    {
     "name": "stdout",
     "output_type": "stream",
     "text": [
      "Using device: cuda\n"
     ]
    },
    {
     "name": "stderr",
     "output_type": "stream",
     "text": [
      "[I 2025-09-29 12:29:20,624] Trial 91 finished with value: 2.7767215087003234 and parameters: {'seasons': 1, 'weekdays': 0, 'weekday_weekend': 1, 'months': 0, 'min_demand': 0, 'avg_demand': 0, 'max_demand': 1, 'avg_temp': 0, 'max_temp': 1, 'min_temp': 0, 'hd': 0, 'cd': 1}. Best is trial 91 with value: 2.7767215087003234.\n"
     ]
    },
    {
     "name": "stdout",
     "output_type": "stream",
     "text": [
      "Using device: cuda\n"
     ]
    },
    {
     "name": "stderr",
     "output_type": "stream",
     "text": [
      "[I 2025-09-29 12:29:40,740] Trial 92 finished with value: 2.7997195397941392 and parameters: {'seasons': 1, 'weekdays': 0, 'weekday_weekend': 1, 'months': 0, 'min_demand': 0, 'avg_demand': 0, 'max_demand': 1, 'avg_temp': 0, 'max_temp': 1, 'min_temp': 0, 'hd': 0, 'cd': 1}. Best is trial 91 with value: 2.7767215087003234.\n"
     ]
    },
    {
     "name": "stdout",
     "output_type": "stream",
     "text": [
      "Using device: cuda\n"
     ]
    },
    {
     "name": "stderr",
     "output_type": "stream",
     "text": [
      "[I 2025-09-29 12:30:02,134] Trial 93 finished with value: 2.849773631378103 and parameters: {'seasons': 1, 'weekdays': 0, 'weekday_weekend': 1, 'months': 0, 'min_demand': 0, 'avg_demand': 0, 'max_demand': 1, 'avg_temp': 0, 'max_temp': 1, 'min_temp': 0, 'hd': 0, 'cd': 1}. Best is trial 91 with value: 2.7767215087003234.\n"
     ]
    },
    {
     "name": "stdout",
     "output_type": "stream",
     "text": [
      "Using device: cuda\n"
     ]
    },
    {
     "name": "stderr",
     "output_type": "stream",
     "text": [
      "[I 2025-09-29 12:30:25,399] Trial 94 finished with value: 2.8307373472619326 and parameters: {'seasons': 1, 'weekdays': 0, 'weekday_weekend': 1, 'months': 0, 'min_demand': 0, 'avg_demand': 0, 'max_demand': 1, 'avg_temp': 0, 'max_temp': 1, 'min_temp': 0, 'hd': 0, 'cd': 1}. Best is trial 91 with value: 2.7767215087003234.\n"
     ]
    },
    {
     "name": "stdout",
     "output_type": "stream",
     "text": [
      "Using device: cuda\n"
     ]
    },
    {
     "name": "stderr",
     "output_type": "stream",
     "text": [
      "[I 2025-09-29 12:30:44,286] Trial 95 finished with value: 2.957386797215615 and parameters: {'seasons': 1, 'weekdays': 0, 'weekday_weekend': 1, 'months': 0, 'min_demand': 0, 'avg_demand': 0, 'max_demand': 1, 'avg_temp': 0, 'max_temp': 1, 'min_temp': 0, 'hd': 0, 'cd': 1}. Best is trial 91 with value: 2.7767215087003234.\n"
     ]
    },
    {
     "name": "stdout",
     "output_type": "stream",
     "text": [
      "Using device: cuda\n"
     ]
    },
    {
     "name": "stderr",
     "output_type": "stream",
     "text": [
      "[I 2025-09-29 12:31:06,940] Trial 96 finished with value: 2.8845139305686103 and parameters: {'seasons': 1, 'weekdays': 0, 'weekday_weekend': 1, 'months': 0, 'min_demand': 0, 'avg_demand': 0, 'max_demand': 1, 'avg_temp': 0, 'max_temp': 1, 'min_temp': 0, 'hd': 0, 'cd': 1}. Best is trial 91 with value: 2.7767215087003234.\n"
     ]
    },
    {
     "name": "stdout",
     "output_type": "stream",
     "text": [
      "Using device: cuda\n"
     ]
    },
    {
     "name": "stderr",
     "output_type": "stream",
     "text": [
      "[I 2025-09-29 12:31:32,873] Trial 97 finished with value: 2.941996362741635 and parameters: {'seasons': 1, 'weekdays': 0, 'weekday_weekend': 1, 'months': 0, 'min_demand': 0, 'avg_demand': 0, 'max_demand': 1, 'avg_temp': 0, 'max_temp': 1, 'min_temp': 0, 'hd': 0, 'cd': 1}. Best is trial 91 with value: 2.7767215087003234.\n"
     ]
    },
    {
     "name": "stdout",
     "output_type": "stream",
     "text": [
      "Using device: cuda\n"
     ]
    },
    {
     "name": "stderr",
     "output_type": "stream",
     "text": [
      "[I 2025-09-29 12:31:49,820] Trial 98 finished with value: 2.8052408074391346 and parameters: {'seasons': 1, 'weekdays': 0, 'weekday_weekend': 1, 'months': 0, 'min_demand': 0, 'avg_demand': 0, 'max_demand': 1, 'avg_temp': 0, 'max_temp': 1, 'min_temp': 0, 'hd': 0, 'cd': 0}. Best is trial 91 with value: 2.7767215087003234.\n"
     ]
    },
    {
     "name": "stdout",
     "output_type": "stream",
     "text": [
      "Using device: cuda\n"
     ]
    },
    {
     "name": "stderr",
     "output_type": "stream",
     "text": [
      "[I 2025-09-29 12:32:12,748] Trial 99 finished with value: 2.9046869280251717 and parameters: {'seasons': 1, 'weekdays': 0, 'weekday_weekend': 1, 'months': 0, 'min_demand': 0, 'avg_demand': 0, 'max_demand': 1, 'avg_temp': 0, 'max_temp': 1, 'min_temp': 0, 'hd': 0, 'cd': 0}. Best is trial 91 with value: 2.7767215087003234.\n"
     ]
    },
    {
     "data": {
      "text/plain": [
       "{'seasons': 1,\n",
       " 'weekdays': 0,\n",
       " 'weekday_weekend': 1,\n",
       " 'months': 0,\n",
       " 'min_demand': 0,\n",
       " 'avg_demand': 0,\n",
       " 'max_demand': 1,\n",
       " 'avg_temp': 0,\n",
       " 'max_temp': 1,\n",
       " 'min_temp': 0,\n",
       " 'hd': 0,\n",
       " 'cd': 1}"
      ]
     },
     "execution_count": 3,
     "metadata": {},
     "output_type": "execute_result"
    }
   ],
   "source": [
    "study = optuna.create_study(storage=\"sqlite:///db.sqlite3\", study_name=\"feature_selection\", load_if_exists=True)\n",
    "study.optimize(objective, n_trials=100, n_jobs=1)\n",
    "\n",
    "study.best_params"
   ]
  },
  {
   "cell_type": "code",
   "execution_count": 1,
   "id": "1d42e13a",
   "metadata": {},
   "outputs": [
    {
     "ename": "NameError",
     "evalue": "name 'study' is not defined",
     "output_type": "error",
     "traceback": [
      "\u001b[0;31m---------------------------------------------------------------------------\u001b[0m",
      "\u001b[0;31mNameError\u001b[0m                                 Traceback (most recent call last)",
      "Cell \u001b[0;32mIn[1], line 1\u001b[0m\n\u001b[0;32m----> 1\u001b[0m \u001b[43mstudy\u001b[49m\u001b[38;5;241m.\u001b[39mbest_params\n",
      "\u001b[0;31mNameError\u001b[0m: name 'study' is not defined"
     ]
    }
   ],
   "source": [
    "study.best_params"
   ]
  }
 ],
 "metadata": {
  "kernelspec": {
   "display_name": ".venv",
   "language": "python",
   "name": "python3"
  },
  "language_info": {
   "codemirror_mode": {
    "name": "ipython",
    "version": 3
   },
   "file_extension": ".py",
   "mimetype": "text/x-python",
   "name": "python",
   "nbconvert_exporter": "python",
   "pygments_lexer": "ipython3",
   "version": "3.13.5"
  }
 },
 "nbformat": 4,
 "nbformat_minor": 5
}
