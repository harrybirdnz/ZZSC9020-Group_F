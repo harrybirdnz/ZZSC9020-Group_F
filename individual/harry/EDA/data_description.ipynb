{
 "cells": [
  {
   "cell_type": "code",
   "execution_count": 2,
   "id": "ede812ea",
   "metadata": {},
   "outputs": [
    {
     "name": "stdout",
     "output_type": "stream",
     "text": [
      "Index(['datetime_au', 'is_summer', 'is_autumn', 'is_winter', 'is_spring',\n",
      "       'is_sunday', 'is_monday', 'is_tuesday', 'is_wednesday', 'is_thursday',\n",
      "       'is_friday', 'is_saturday', 'is_weekend', 'is_weekday', 'is_jan',\n",
      "       'is_feb', 'is_mar', 'is_apr', 'is_may', 'is_jun', 'is_jul', 'is_aug',\n",
      "       'is_sep', 'is_oct', 'is_nov', 'is_dec', 'avg_30_min_demand',\n",
      "       'min_30_min_demand', 'max_30_min_demand', 'sum_30_min_demand',\n",
      "       'count_30_min_points', 'avg_temp', 'min_temp', 'max_temp',\n",
      "       'hd_next_24h', 'cd_next_24h', 'precipitation', 'sunlight'],\n",
      "      dtype='object')\n"
     ]
    }
   ],
   "source": [
    "import pandas as pd\n",
    "data = pd.read_csv('../../../data/processed/processed2.csv')\n",
    "print(data.columns)"
   ]
  }
 ],
 "metadata": {
  "kernelspec": {
   "display_name": ".venv",
   "language": "python",
   "name": "python3"
  },
  "language_info": {
   "codemirror_mode": {
    "name": "ipython",
    "version": 3
   },
   "file_extension": ".py",
   "mimetype": "text/x-python",
   "name": "python",
   "nbconvert_exporter": "python",
   "pygments_lexer": "ipython3",
   "version": "3.10.12"
  }
 },
 "nbformat": 4,
 "nbformat_minor": 5
}
