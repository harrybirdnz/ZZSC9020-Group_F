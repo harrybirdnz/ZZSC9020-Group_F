{
 "cells": [
  {
   "cell_type": "code",
   "execution_count": null,
   "id": "1133266b",
   "metadata": {},
   "outputs": [],
   "source": [
    "# required libraries\n",
    "import zipfile\n",
    "import pandas as pd\n",
    "import numpy as np\n",
    "import matplotlib.pyplot as plt\n",
    "import seaborn as sns"
   ]
  },
  {
   "cell_type": "markdown",
   "id": "ce5dc6fc",
   "metadata": {},
   "source": [
    "# 1. Load datasets"
   ]
  },
  {
   "cell_type": "code",
   "execution_count": 2,
   "id": "420ab8a9",
   "metadata": {},
   "outputs": [],
   "source": [
    "start = \"2015-12-31 00:00:00\"\n",
    "end = \"2019-12-31 23:30:00\""
   ]
  },
  {
   "cell_type": "markdown",
   "id": "69120ae4",
   "metadata": {},
   "source": [
    "## 1.1. Electricity demand dataset"
   ]
  },
  {
   "cell_type": "code",
   "execution_count": 3,
   "id": "b55c382c",
   "metadata": {},
   "outputs": [
    {
     "name": "stdout",
     "output_type": "stream",
     "text": [
      "        DATETIME  TOTALDEMAND REGIONID\n",
      "0  1/1/2010 0:00      8038.00     NSW1\n",
      "1  1/1/2010 0:30      7809.31     NSW1\n",
      "2  1/1/2010 1:00      7483.69     NSW1\n",
      "3  1/1/2010 1:30      7117.23     NSW1\n",
      "4  1/1/2010 2:00      6812.03     NSW1\n",
      "               DATETIME  TOTALDEMAND REGIONID\n",
      "196508  17/3/2021 22:00      7419.77     NSW1\n",
      "196509  17/3/2021 22:30      7417.91     NSW1\n",
      "196510  17/3/2021 23:00      7287.32     NSW1\n",
      "196511  17/3/2021 23:30      7172.39     NSW1\n",
      "196512   18/3/2021 0:00      7094.51     NSW1\n",
      "DATETIME        object\n",
      "TOTALDEMAND    float64\n",
      "REGIONID        object\n",
      "dtype: object\n",
      "Number of duplicate rows: 0\n"
     ]
    }
   ],
   "source": [
    "# 1. electricty demand data\n",
    "demand = pd.read_csv(\"./Shared/totaldemand_nsw.csv/totaldemand_nsw.csv\")\n",
    "print(demand.head())\n",
    "print(demand.tail())\n",
    "print(demand.dtypes)\n",
    "print(\"Number of duplicate rows:\", demand.duplicated().sum()) #Check number of duplicate rows"
   ]
  },
  {
   "cell_type": "code",
   "execution_count": 4,
   "id": "7790c441",
   "metadata": {},
   "outputs": [
    {
     "name": "stdout",
     "output_type": "stream",
     "text": [
      "             DATETIME  TOTALDEMAND REGIONID\n",
      "0 2010-01-01 00:00:00      8038.00     NSW1\n",
      "1 2010-01-01 00:30:00      7809.31     NSW1\n",
      "2 2010-01-01 01:00:00      7483.69     NSW1\n",
      "3 2010-01-01 01:30:00      7117.23     NSW1\n",
      "4 2010-01-01 02:00:00      6812.03     NSW1\n"
     ]
    }
   ],
   "source": [
    "# Convert DATETIME column to datetime format\n",
    "demand[\"DATETIME\"] = pd.to_datetime(demand[\"DATETIME\"], dayfirst=True)\n",
    "print(demand.head())\n"
   ]
  },
  {
   "cell_type": "code",
   "execution_count": 5,
   "id": "3efb7945",
   "metadata": {},
   "outputs": [
    {
     "name": "stdout",
     "output_type": "stream",
     "text": [
      "                  DATETIME  TOTALDEMAND        DATE\n",
      "105120 2015-12-31 00:00:00      6935.27  2015-12-31\n",
      "105121 2015-12-31 00:30:00      6766.91  2015-12-31\n",
      "105122 2015-12-31 01:00:00      6548.14  2015-12-31\n",
      "105123 2015-12-31 01:30:00      6237.02  2015-12-31\n",
      "105124 2015-12-31 02:00:00      5974.53  2015-12-31\n",
      "(70176, 3)\n"
     ]
    }
   ],
   "source": [
    "demand = demand[(demand[\"DATETIME\"] >= start) & (demand[\"DATETIME\"] <= end)]\n",
    "demand['DATE'] = demand['DATETIME'].dt.date\n",
    "demand = demand.drop([\"REGIONID\"], axis=1)\n",
    "print(demand.head())\n",
    "print(demand.shape)"
   ]
  },
  {
   "cell_type": "code",
   "execution_count": 6,
   "id": "93d34ef0",
   "metadata": {},
   "outputs": [
    {
     "name": "stdout",
     "output_type": "stream",
     "text": [
      "No. of dates (long format) in electricity demand data: 70176\n",
      "Unique dates in electricity demand data: 1462\n"
     ]
    }
   ],
   "source": [
    "print(\"No. of dates (long format) in electricity demand data:\", demand[\"DATETIME\"].nunique())\n",
    "print(\"Unique dates in electricity demand data:\", demand[\"DATE\"].nunique())"
   ]
  },
  {
   "cell_type": "markdown",
   "id": "cb429338",
   "metadata": {},
   "source": [
    "## 1.2. Temperature dataset"
   ]
  },
  {
   "cell_type": "code",
   "execution_count": 7,
   "id": "2280dd27",
   "metadata": {},
   "outputs": [
    {
     "name": "stdout",
     "output_type": "stream",
     "text": [
      "    LOCATION       DATETIME  TEMPERATURE\n",
      "0  Bankstown  1/1/2010 0:00         23.1\n",
      "1  Bankstown  1/1/2010 0:01         23.1\n",
      "2  Bankstown  1/1/2010 0:30         22.9\n",
      "3  Bankstown  1/1/2010 0:50         22.7\n",
      "4  Bankstown  1/1/2010 1:00         22.6\n",
      "         LOCATION         DATETIME  TEMPERATURE\n",
      "220321  Bankstown  17/3/2021 23:00         19.1\n",
      "220322  Bankstown  17/3/2021 23:20         19.0\n",
      "220323  Bankstown  17/3/2021 23:30         18.8\n",
      "220324  Bankstown  17/3/2021 23:34         18.8\n",
      "220325  Bankstown   18/3/2021 0:00         18.6\n",
      "LOCATION        object\n",
      "DATETIME        object\n",
      "TEMPERATURE    float64\n",
      "dtype: object\n"
     ]
    }
   ],
   "source": [
    "# Temperature data\n",
    "temp = pd.read_csv(\"./Shared/temperature_nsw.csv/temperature_nsw.csv\")\n",
    "print(temp.head())\n",
    "print(temp.tail())\n",
    "print(temp.dtypes)"
   ]
  },
  {
   "cell_type": "code",
   "execution_count": 8,
   "id": "591765a8",
   "metadata": {},
   "outputs": [
    {
     "name": "stdout",
     "output_type": "stream",
     "text": [
      "Number of duplicate rows: 13\n",
      "Temperature data after removing duplicates: (220313, 3)\n"
     ]
    }
   ],
   "source": [
    "#Check number of duplicate rows\n",
    "print(\"Number of duplicate rows:\", temp.duplicated().sum())\n",
    "\n",
    "temp = temp.drop_duplicates().reset_index(drop=True)\n",
    "print(\"Temperature data after removing duplicates:\", temp.shape)"
   ]
  },
  {
   "cell_type": "code",
   "execution_count": 9,
   "id": "5686631f",
   "metadata": {},
   "outputs": [
    {
     "name": "stdout",
     "output_type": "stream",
     "text": [
      "    LOCATION            DATETIME  TEMPERATURE\n",
      "0  Bankstown 2010-01-01 00:00:00         23.1\n",
      "1  Bankstown 2010-01-01 00:01:00         23.1\n",
      "2  Bankstown 2010-01-01 00:30:00         22.9\n",
      "3  Bankstown 2010-01-01 00:50:00         22.7\n",
      "4  Bankstown 2010-01-01 01:00:00         22.6\n",
      "5  Bankstown 2010-01-01 01:30:00         22.5\n",
      "6  Bankstown 2010-01-01 02:00:00         22.5\n",
      "7  Bankstown 2010-01-01 02:30:00         22.4\n",
      "8  Bankstown 2010-01-01 03:00:00         22.3\n",
      "9  Bankstown 2010-01-01 03:30:00         22.3\n",
      "(220313, 3)\n"
     ]
    }
   ],
   "source": [
    "#Data between 2016-01-01 and 2019-12-31\n",
    "temp[\"DATETIME\"] = pd.to_datetime(temp[\"DATETIME\"], dayfirst=True)\n",
    "print(temp.head(10))\n",
    "print(temp.shape)"
   ]
  },
  {
   "cell_type": "code",
   "execution_count": 10,
   "id": "bc25be1c",
   "metadata": {},
   "outputs": [
    {
     "name": "stdout",
     "output_type": "stream",
     "text": [
      "         LOCATION            DATETIME  TEMPERATURE        DATE\n",
      "117642  Bankstown 2015-12-31 00:00:00         16.3  2015-12-31\n",
      "117643  Bankstown 2015-12-31 00:30:00         16.3  2015-12-31\n",
      "117644  Bankstown 2015-12-31 01:00:00         16.2  2015-12-31\n",
      "117645  Bankstown 2015-12-31 01:30:00         15.9  2015-12-31\n",
      "117646  Bankstown 2015-12-31 02:00:00         15.3  2015-12-31\n",
      "117647  Bankstown 2015-12-31 02:30:00         15.3  2015-12-31\n",
      "117648  Bankstown 2015-12-31 03:00:00         15.5  2015-12-31\n",
      "117649  Bankstown 2015-12-31 03:30:00         14.8  2015-12-31\n",
      "117650  Bankstown 2015-12-31 04:00:00         14.7  2015-12-31\n",
      "117651  Bankstown 2015-12-31 04:30:00         14.3  2015-12-31\n",
      "(78575, 4)\n"
     ]
    }
   ],
   "source": [
    "#Data between 2016-01-01 and 2019-12-31\n",
    "temp[\"DATETIME\"] = pd.to_datetime(temp[\"DATETIME\"], dayfirst=True)\n",
    "temp['DATE'] = temp['DATETIME'].dt.date\n",
    "temp = temp[(temp[\"DATETIME\"] >= start) & (temp[\"DATETIME\"] <= end)]\n",
    "print(temp.head(10))\n",
    "print(temp.shape)"
   ]
  },
  {
   "cell_type": "code",
   "execution_count": 11,
   "id": "0c991127",
   "metadata": {},
   "outputs": [
    {
     "name": "stdout",
     "output_type": "stream",
     "text": [
      "Number of missing temperature rows: 0\n"
     ]
    }
   ],
   "source": [
    "# Check rows with missing temperature after merge\n",
    "na_temp = temp[temp[\"TEMPERATURE\"].isna()]\n",
    "print(\"Number of missing temperature rows:\", na_temp.shape[0])"
   ]
  },
  {
   "cell_type": "code",
   "execution_count": 12,
   "id": "7770d921",
   "metadata": {},
   "outputs": [
    {
     "name": "stdout",
     "output_type": "stream",
     "text": [
      "Shape after merge: (70176, 4)\n",
      "             DATETIME  TOTALDEMAND        DATE  TEMPERATURE\n",
      "0 2015-12-31 00:00:00      6935.27  2015-12-31         16.3\n",
      "1 2015-12-31 00:30:00      6766.91  2015-12-31         16.3\n",
      "2 2015-12-31 01:00:00      6548.14  2015-12-31         16.2\n",
      "3 2015-12-31 01:30:00      6237.02  2015-12-31         15.9\n",
      "4 2015-12-31 02:00:00      5974.53  2015-12-31         15.3\n",
      "No. of dates (long format) in merged data: 70176\n",
      "Unique dates in merged data: 1462\n"
     ]
    }
   ],
   "source": [
    "# Merge on DATETIME\n",
    "merged = pd.merge(demand, temp[[\"DATETIME\", \"TEMPERATURE\"]], on=\"DATETIME\", how=\"left\")\n",
    "print(\"Shape after merge:\", merged.shape)\n",
    "print(merged.head())\n",
    "print(\"No. of dates (long format) in merged data:\", merged[\"DATETIME\"].nunique())\n",
    "print(\"Unique dates in merged data:\", merged[\"DATE\"].nunique())"
   ]
  },
  {
   "cell_type": "code",
   "execution_count": 13,
   "id": "e73b4db3",
   "metadata": {},
   "outputs": [
    {
     "name": "stdout",
     "output_type": "stream",
     "text": [
      "Number of missing temperature rows: 250\n",
      "First few missing rows:\n",
      "               DATETIME  TOTALDEMAND        DATE  TEMPERATURE\n",
      "397 2016-01-08 06:30:00      7074.54  2016-01-08          NaN\n",
      "398 2016-01-08 07:00:00      7318.20  2016-01-08          NaN\n",
      "399 2016-01-08 07:30:00      7522.06  2016-01-08          NaN\n",
      "400 2016-01-08 08:00:00      7703.92  2016-01-08          NaN\n",
      "405 2016-01-08 10:30:00      7910.10  2016-01-08          NaN\n"
     ]
    }
   ],
   "source": [
    "# Check rows with missing temperature after merge\n",
    "missing_temp = merged[merged[\"TEMPERATURE\"].isna()]\n",
    "\n",
    "print(\"Number of missing temperature rows:\", missing_temp.shape[0])\n",
    "print(\"First few missing rows:\")\n",
    "print(missing_temp.head())"
   ]
  },
  {
   "cell_type": "code",
   "execution_count": 14,
   "id": "c488c20b",
   "metadata": {},
   "outputs": [
    {
     "data": {
      "text/html": [
       "<div>\n",
       "<style scoped>\n",
       "    .dataframe tbody tr th:only-of-type {\n",
       "        vertical-align: middle;\n",
       "    }\n",
       "\n",
       "    .dataframe tbody tr th {\n",
       "        vertical-align: top;\n",
       "    }\n",
       "\n",
       "    .dataframe thead th {\n",
       "        text-align: right;\n",
       "    }\n",
       "</style>\n",
       "<table border=\"1\" class=\"dataframe\">\n",
       "  <thead>\n",
       "    <tr style=\"text-align: right;\">\n",
       "      <th></th>\n",
       "      <th>LOCATION</th>\n",
       "      <th>DATETIME</th>\n",
       "      <th>TEMPERATURE</th>\n",
       "      <th>DATE</th>\n",
       "    </tr>\n",
       "  </thead>\n",
       "  <tbody>\n",
       "  </tbody>\n",
       "</table>\n",
       "</div>"
      ],
      "text/plain": [
       "Empty DataFrame\n",
       "Columns: [LOCATION, DATETIME, TEMPERATURE, DATE]\n",
       "Index: []"
      ]
     },
     "execution_count": 14,
     "metadata": {},
     "output_type": "execute_result"
    }
   ],
   "source": [
    "temp.loc[temp[\"DATETIME\"] == \"2016-01-08 06:30:00\", ]"
   ]
  },
  {
   "cell_type": "code",
   "execution_count": 15,
   "id": "1d419264",
   "metadata": {},
   "outputs": [
    {
     "name": "stdout",
     "output_type": "stream",
     "text": [
      "Number of missing temperature rows after fill: 0\n"
     ]
    }
   ],
   "source": [
    "#Fill remaining missing values using time interpolation\n",
    "merged = merged.set_index(\"DATETIME\")\n",
    "merged[\"TEMPERATURE\"] = merged[\"TEMPERATURE\"].interpolate(method=\"time\", limit_direction=\"both\")\n",
    "\n",
    "# Check again if any missing remains\n",
    "print(\"Number of missing temperature rows after fill:\",\n",
    "      merged[\"TEMPERATURE\"].isna().sum())"
   ]
  },
  {
   "cell_type": "markdown",
   "id": "5c07bd06",
   "metadata": {},
   "source": [
    "## 1.3. Sunlight exposure dataset"
   ]
  },
  {
   "cell_type": "code",
   "execution_count": 16,
   "id": "bebbec9a",
   "metadata": {},
   "outputs": [
    {
     "name": "stdout",
     "output_type": "stream",
     "text": [
      "        DATE  sunlight_exposure\n",
      "0 2016-01-01               32.3\n",
      "1 2016-01-02               23.2\n",
      "2 2016-01-03               12.7\n",
      "3 2016-01-04                7.6\n",
      "4 2016-01-05                3.9\n",
      "           DATE  sunlight_exposure\n",
      "1456 2019-12-27               30.7\n",
      "1457 2019-12-28               30.8\n",
      "1458 2019-12-29               21.8\n",
      "1459 2019-12-30               26.3\n",
      "1460 2019-12-31               27.7\n",
      "DATE                 datetime64[ns]\n",
      "sunlight_exposure           float64\n",
      "dtype: object\n",
      "DATE                 datetime64[ns]\n",
      "sunlight_exposure           float64\n",
      "dtype: object\n",
      "(1461, 2)\n"
     ]
    }
   ],
   "source": [
    "# 5. Sunlight exposure dataset\n",
    "sun_exp = pd.read_excel(\"./Downloaded/sunlight_exposure.xlsx\")\n",
    "print(sun_exp.head())\n",
    "print(sun_exp.tail())\n",
    "print(sun_exp.dtypes)\n",
    "\n",
    "sun_exp[\"DATE\"] = pd.to_datetime(sun_exp[\"DATE\"]) #DATETIME to datetime type\n",
    "print(sun_exp.dtypes)\n",
    "print(sun_exp.shape)\n"
   ]
  },
  {
   "cell_type": "code",
   "execution_count": 17,
   "id": "35061d04",
   "metadata": {},
   "outputs": [
    {
     "name": "stdout",
     "output_type": "stream",
     "text": [
      "DATE                 0\n",
      "sunlight_exposure    1\n",
      "dtype: int64\n"
     ]
    }
   ],
   "source": [
    "print(sun_exp.isna().sum())\n"
   ]
  },
  {
   "cell_type": "code",
   "execution_count": 18,
   "id": "3f02a16b",
   "metadata": {},
   "outputs": [
    {
     "name": "stdout",
     "output_type": "stream",
     "text": [
      "Number of missing sunlight exposure rows after fill: 0\n"
     ]
    }
   ],
   "source": [
    "#sun_exp['DATE'] = sun_exp['DATE'].dt.date\n",
    "sun_exp = sun_exp.set_index(\"DATE\")\n",
    "# Interpolate using time-based method\n",
    "sun_exp[\"sunlight_exposure\"] = sun_exp[\"sunlight_exposure\"].interpolate(method=\"time\", limit_direction=\"both\")\n",
    "\n",
    "# Check again if any missing remains\n",
    "print(\"Number of missing sunlight exposure rows after fill:\",\n",
    "      sun_exp[\"sunlight_exposure\"].isna().sum())"
   ]
  },
  {
   "cell_type": "markdown",
   "id": "f5999853",
   "metadata": {},
   "source": [
    "## 1.4. Precipitation dataset"
   ]
  },
  {
   "cell_type": "code",
   "execution_count": 19,
   "id": "ea4a09ba",
   "metadata": {},
   "outputs": [
    {
     "name": "stdout",
     "output_type": "stream",
     "text": [
      "       time   mean_GPCPDAY_3_3_precip\n",
      "0  1/1/2016                  2.140095\n",
      "1  1/2/2016                  6.496326\n",
      "2  1/3/2016                  8.562486\n",
      "3  1/4/2016                  4.082204\n",
      "4  1/5/2016                  9.977372\n",
      "            time   mean_GPCPDAY_3_3_precip\n",
      "1456  12/27/2019                  0.081469\n",
      "1457  12/28/2019                  0.571150\n",
      "1458  12/29/2019                  0.101862\n",
      "1459  12/30/2019                  0.243804\n",
      "1460  12/31/2019                  1.126134\n",
      "time                         object\n",
      " mean_GPCPDAY_3_3_precip    float64\n",
      "dtype: object\n",
      "        DATE  precipitation\n",
      "0 2016-01-01       2.140095\n",
      "1 2016-01-02       6.496326\n",
      "2 2016-01-03       8.562486\n",
      "3 2016-01-04       4.082204\n",
      "4 2016-01-05       9.977372\n",
      "           DATE  precipitation\n",
      "1456 2019-12-27       0.081469\n",
      "1457 2019-12-28       0.571150\n",
      "1458 2019-12-29       0.101862\n",
      "1459 2019-12-30       0.243804\n",
      "1460 2019-12-31       1.126134\n",
      "DATE             datetime64[ns]\n",
      "precipitation           float64\n",
      "dtype: object\n",
      "(1461, 2)\n"
     ]
    }
   ],
   "source": [
    "# Precipitation dataset\n",
    "precip = pd.read_csv(\"./Downloaded/g4.areaAvgTimeSeries.GPCPDAY_3_3_precip.20160101-20191231.141E_37S_153E_28S.csv\")\n",
    "print(precip.head())\n",
    "print(precip.tail())\n",
    "print(precip.dtypes)\n",
    "\n",
    "# some data cleaning\n",
    "precip = precip.rename(columns={'time': \"DATE\",\n",
    "                                ' mean_GPCPDAY_3_3_precip': \"precipitation\"}) \n",
    "precip[\"DATE\"] = pd.to_datetime(precip[\"DATE\"], format=\"%m/%d/%Y\") #convert DATETIME to datetime type\n",
    "print(precip.head())\n",
    "print(precip.tail())\n",
    "print(precip.dtypes)\n",
    "print(precip.shape)\n"
   ]
  },
  {
   "cell_type": "markdown",
   "id": "2d7595eb",
   "metadata": {},
   "source": [
    "## 1.5. Forecasted demand dataset"
   ]
  },
  {
   "cell_type": "code",
   "execution_count": 98,
   "id": "366737ef",
   "metadata": {},
   "outputs": [
    {
     "name": "stdout",
     "output_type": "stream",
     "text": [
      "   PREDISPATCHSEQNO REGIONID  PERIODID  FORECASTDEMAND          LASTCHANGED  \\\n",
      "0        2009123018     NSW1        71         7832.04  2009-12-30 12:31:49   \n",
      "1        2009123019     NSW1        70         7832.04  2009-12-30 13:01:43   \n",
      "2        2009123020     NSW1        69         7832.03  2009-12-30 13:31:36   \n",
      "3        2009123021     NSW1        68         7832.03  2009-12-30 14:01:44   \n",
      "4        2009123022     NSW1        67         7830.96  2009-12-30 14:31:35   \n",
      "\n",
      "              DATETIME  \n",
      "0  2010-01-01 00:00:00  \n",
      "1  2010-01-01 00:00:00  \n",
      "2  2010-01-01 00:00:00  \n",
      "3  2010-01-01 00:00:00  \n",
      "4  2010-01-01 00:00:00  \n",
      "          PREDISPATCHSEQNO REGIONID  PERIODID  FORECASTDEMAND  \\\n",
      "10906014        2021031736     NSW1         5         7028.45   \n",
      "10906015        2021031737     NSW1         4         7041.65   \n",
      "10906016        2021031738     NSW1         3         7087.60   \n",
      "10906017        2021031739     NSW1         2         7087.28   \n",
      "10906018        2021031740     NSW1         1         7126.37   \n",
      "\n",
      "                  LASTCHANGED             DATETIME  \n",
      "10906014  2021-03-17 21:31:31  2021-03-18 00:00:00  \n",
      "10906015  2021-03-17 22:01:34  2021-03-18 00:00:00  \n",
      "10906016  2021-03-17 22:31:36  2021-03-18 00:00:00  \n",
      "10906017  2021-03-17 23:01:36  2021-03-18 00:00:00  \n",
      "10906018  2021-03-17 23:31:33  2021-03-18 00:00:00  \n",
      "PREDISPATCHSEQNO      int64\n",
      "REGIONID             object\n",
      "PERIODID              int64\n",
      "FORECASTDEMAND      float64\n",
      "LASTCHANGED          object\n",
      "DATETIME             object\n",
      "dtype: object\n"
     ]
    }
   ],
   "source": [
    "# Forecasted demand\n",
    "forecast= pd.read_csv(\"./Shared/forecastdemand_nsw/forecastdemand_nsw.csv\")\n",
    "print(forecast.head())\n",
    "print(forecast.tail())\n",
    "print(forecast.dtypes)\n",
    "\n",
    "# Crop forecast data as well (2016-2019)\n",
    "forecast[\"DATETIME\"] = pd.to_datetime(forecast[\"DATETIME\"])\n",
    "forecast = forecast[(forecast[\"DATETIME\"] >= \"2016-01-01 00:00:00\") & (forecast[\"DATETIME\"] <= end)]"
   ]
  },
  {
   "cell_type": "code",
   "execution_count": 99,
   "id": "300720ba",
   "metadata": {},
   "outputs": [
    {
     "name": "stdout",
     "output_type": "stream",
     "text": [
      "Number of duplicate rows: 142\n",
      "forecast data after removing duplicates: (3891458, 6)\n"
     ]
    }
   ],
   "source": [
    "#Check number of duplicate rows\n",
    "print(\"Number of duplicate rows:\", forecast.duplicated().sum())\n",
    "# removing duplicates\n",
    "forecast = forecast.drop_duplicates().reset_index(drop=True)\n",
    "print(\"forecast data after removing duplicates:\", forecast.shape)"
   ]
  },
  {
   "cell_type": "code",
   "execution_count": 100,
   "id": "bd79e5a2",
   "metadata": {},
   "outputs": [
    {
     "name": "stdout",
     "output_type": "stream",
     "text": [
      "   PREDISPATCHSEQNO REGIONID  PERIODID  FORECASTDEMAND          LASTCHANGED  \\\n",
      "0        2015123018     NSW1        71         6747.49  2015-12-30 12:31:49   \n",
      "1        2015123019     NSW1        70         6753.88  2015-12-30 13:01:46   \n",
      "2        2015123020     NSW1        69         6753.85  2015-12-30 13:31:43   \n",
      "3        2015123021     NSW1        68         6753.57  2015-12-30 14:01:40   \n",
      "4        2015123022     NSW1        67         6753.44  2015-12-30 14:31:20   \n",
      "\n",
      "    DATETIME        DATE  \n",
      "0 2016-01-01  2016-01-01  \n",
      "1 2016-01-01  2016-01-01  \n",
      "2 2016-01-01  2016-01-01  \n",
      "3 2016-01-01  2016-01-01  \n",
      "4 2016-01-01  2016-01-01  \n",
      "         PREDISPATCHSEQNO REGIONID  PERIODID  FORECASTDEMAND  \\\n",
      "3891453        2019123135     NSW1         5         7504.39   \n",
      "3891454        2019123136     NSW1         4         7491.82   \n",
      "3891455        2019123137     NSW1         3         7444.02   \n",
      "3891456        2019123138     NSW1         2         7440.57   \n",
      "3891457        2019123139     NSW1         1         7446.57   \n",
      "\n",
      "                 LASTCHANGED            DATETIME        DATE  \n",
      "3891453  2019-12-31 21:01:14 2019-12-31 23:30:00  2019-12-31  \n",
      "3891454  2019-12-31 21:31:12 2019-12-31 23:30:00  2019-12-31  \n",
      "3891455  2019-12-31 22:01:07 2019-12-31 23:30:00  2019-12-31  \n",
      "3891456  2019-12-31 22:31:12 2019-12-31 23:30:00  2019-12-31  \n",
      "3891457  2019-12-31 23:01:14 2019-12-31 23:30:00  2019-12-31  \n"
     ]
    }
   ],
   "source": [
    "forecast['DATE'] = forecast[\"DATETIME\"].dt.date\n",
    "print(forecast.head())\n",
    "print(forecast.tail())"
   ]
  },
  {
   "cell_type": "code",
   "execution_count": 101,
   "id": "b97a34ca",
   "metadata": {},
   "outputs": [
    {
     "name": "stdout",
     "output_type": "stream",
     "text": [
      "No. of dates (long format) in electricity demand data: 70128\n",
      "Unique dates in electricity demand data: 1461\n"
     ]
    }
   ],
   "source": [
    "print(\"No. of dates (long format) in electricity demand data:\", forecast[\"DATETIME\"].nunique())\n",
    "print(\"Unique dates in electricity demand data:\", forecast[\"DATE\"].nunique())"
   ]
  },
  {
   "cell_type": "code",
   "execution_count": 103,
   "id": "0d8adfa8",
   "metadata": {},
   "outputs": [],
   "source": [
    "# Transforming 5-min forecasted electricity demand into daily basis\n",
    "daily_forecast = forecast.groupby('DATE')['FORECASTDEMAND'].mean().reset_index().round(2)\n",
    "daily_forecast = daily_forecast.rename(columns={'FORECASTDEMAND': \"forecast_demand\"})\n",
    "daily_forecast.head()\n",
    "daily_forecast.to_csv(\"Daily forecast.csv\", index=False)"
   ]
  },
  {
   "cell_type": "code",
   "execution_count": 105,
   "id": "9cb20fd0",
   "metadata": {},
   "outputs": [
    {
     "data": {
      "image/png": "[encoded data removed]",
      "text/plain": [
       "<Figure size 1000x600 with 1 Axes>"
      ]
     },
     "metadata": {},
     "output_type": "display_data"
    }
   ],
   "source": [
    "# Daily forecasted electricity demand plot\n",
    "plt.figure(figsize=(10,6))\n",
    "plt.plot(daily_forecast['DATE'], daily_forecast['forecast_demand'], color='black')\n",
    "plt.gca().xaxis.set_major_formatter(plt.matplotlib.dates.DateFormatter('%b-%Y'))\n",
    "plt.gca().xaxis.set_major_locator(plt.matplotlib.dates.MonthLocator(interval=4)) \n",
    "plt.ylabel(\"Electricity demand (MW)\")\n",
    "plt.tight_layout()\n"
   ]
  },
  {
   "cell_type": "markdown",
   "id": "c3372a4e",
   "metadata": {},
   "source": [
    "# 2. Data processing and exploration\n",
    "First converting the half-hourly dataset into daily basis based on mean values (demand, temperature)"
   ]
  },
  {
   "cell_type": "code",
   "execution_count": null,
   "id": "2671d3cb",
   "metadata": {},
   "outputs": [
    {
     "data": {
      "text/html": [
       "<div>\n",
       "<style scoped>\n",
       "    .dataframe tbody tr th:only-of-type {\n",
       "        vertical-align: middle;\n",
       "    }\n",
       "\n",
       "    .dataframe tbody tr th {\n",
       "        vertical-align: top;\n",
       "    }\n",
       "\n",
       "    .dataframe thead th {\n",
       "        text-align: right;\n",
       "    }\n",
       "</style>\n",
       "<table border=\"1\" class=\"dataframe\">\n",
       "  <thead>\n",
       "    <tr style=\"text-align: right;\">\n",
       "      <th></th>\n",
       "      <th>DATE</th>\n",
       "      <th>avg_30_min_demand</th>\n",
       "      <th>min_demand</th>\n",
       "      <th>max_demand</th>\n",
       "      <th>avg_temp</th>\n",
       "      <th>min_temp</th>\n",
       "      <th>max_temp</th>\n",
       "      <th>lag_min_demand</th>\n",
       "      <th>lag_max_demand</th>\n",
       "    </tr>\n",
       "  </thead>\n",
       "  <tbody>\n",
       "    <tr>\n",
       "      <th>1</th>\n",
       "      <td>2016-01-01</td>\n",
       "      <td>6861.518333</td>\n",
       "      <td>5631.74</td>\n",
       "      <td>7913.75</td>\n",
       "      <td>20.783333</td>\n",
       "      <td>15.2</td>\n",
       "      <td>26.0</td>\n",
       "      <td>5645.67</td>\n",
       "      <td>8529.23</td>\n",
       "    </tr>\n",
       "    <tr>\n",
       "      <th>2</th>\n",
       "      <td>2016-01-02</td>\n",
       "      <td>6731.957292</td>\n",
       "      <td>5559.37</td>\n",
       "      <td>7390.04</td>\n",
       "      <td>20.572917</td>\n",
       "      <td>14.9</td>\n",
       "      <td>24.2</td>\n",
       "      <td>5631.74</td>\n",
       "      <td>7913.75</td>\n",
       "    </tr>\n",
       "    <tr>\n",
       "      <th>3</th>\n",
       "      <td>2016-01-03</td>\n",
       "      <td>6618.040000</td>\n",
       "      <td>5476.66</td>\n",
       "      <td>7328.39</td>\n",
       "      <td>21.170833</td>\n",
       "      <td>19.0</td>\n",
       "      <td>22.9</td>\n",
       "      <td>5559.37</td>\n",
       "      <td>7390.04</td>\n",
       "    </tr>\n",
       "    <tr>\n",
       "      <th>4</th>\n",
       "      <td>2016-01-04</td>\n",
       "      <td>7358.550000</td>\n",
       "      <td>5589.58</td>\n",
       "      <td>8313.11</td>\n",
       "      <td>20.277083</td>\n",
       "      <td>18.4</td>\n",
       "      <td>23.1</td>\n",
       "      <td>5476.66</td>\n",
       "      <td>7328.39</td>\n",
       "    </tr>\n",
       "    <tr>\n",
       "      <th>5</th>\n",
       "      <td>2016-01-05</td>\n",
       "      <td>7460.061875</td>\n",
       "      <td>5768.60</td>\n",
       "      <td>8338.82</td>\n",
       "      <td>18.979167</td>\n",
       "      <td>17.4</td>\n",
       "      <td>20.3</td>\n",
       "      <td>5589.58</td>\n",
       "      <td>8313.11</td>\n",
       "    </tr>\n",
       "  </tbody>\n",
       "</table>\n",
       "</div>"
      ],
      "text/plain": [
       "         DATE  avg_30_min_demand  min_demand  max_demand   avg_temp  min_temp  \\\n",
       "1  2016-01-01        6861.518333     5631.74     7913.75  20.783333      15.2   \n",
       "2  2016-01-02        6731.957292     5559.37     7390.04  20.572917      14.9   \n",
       "3  2016-01-03        6618.040000     5476.66     7328.39  21.170833      19.0   \n",
       "4  2016-01-04        7358.550000     5589.58     8313.11  20.277083      18.4   \n",
       "5  2016-01-05        7460.061875     5768.60     8338.82  18.979167      17.4   \n",
       "\n",
       "   max_temp  lag_min_demand  lag_max_demand  \n",
       "1      26.0         5645.67         8529.23  \n",
       "2      24.2         5631.74         7913.75  \n",
       "3      22.9         5559.37         7390.04  \n",
       "4      23.1         5476.66         7328.39  \n",
       "5      20.3         5589.58         8313.11  "
      ]
     },
     "execution_count": 44,
     "metadata": {},
     "output_type": "execute_result"
    }
   ],
   "source": [
    "# Aggregate to daily level\n",
    "df0 = merged.groupby(\"DATE\", as_index=False).agg({\"TOTALDEMAND\": [\"mean\", \"min\", \"max\"],\n",
    "                                                  \"TEMPERATURE\": [\"mean\", \"min\", \"max\"]})\n",
    "\n",
    "# MultiIndex columns\n",
    "df0.columns = [\"DATE\", \"avg_30_min_demand\", \"min_demand\", \"max_demand\",\n",
    "               \"avg_temp\", \"min_temp\", \"max_temp\"]\n",
    "\n",
    "# Add lag features for min_demand and max_demand\n",
    "df0[\"lag_min_demand\"] = df0[\"min_demand\"].shift(1)\n",
    "df0[\"lag_max_demand\"] = df0[\"max_demand\"].shift(1)\n",
    "\n",
    "df0 = df0.iloc[1:,]\n",
    "df0.head()\n"
   ]
  },
  {
   "cell_type": "code",
   "execution_count": 53,
   "id": "03dc0161",
   "metadata": {},
   "outputs": [
    {
     "name": "stdout",
     "output_type": "stream",
     "text": [
      "        DATE  avg_30_min_demand   avg_temp  min_temp  max_temp  \\\n",
      "1 2016-01-01        6861.518333  20.783333      15.2      26.0   \n",
      "2 2016-01-02        6731.957292  20.572917      14.9      24.2   \n",
      "3 2016-01-03        6618.040000  21.170833      19.0      22.9   \n",
      "4 2016-01-04        7358.550000  20.277083      18.4      23.1   \n",
      "5 2016-01-05        7460.061875  18.979167      17.4      20.3   \n",
      "\n",
      "   lag_min_demand  lag_max_demand  \n",
      "1         5645.67         8529.23  \n",
      "2         5631.74         7913.75  \n",
      "3         5559.37         7390.04  \n",
      "4         5476.66         7328.39  \n",
      "5         5589.58         8313.11  \n",
      "DATE                 datetime64[ns]\n",
      "avg_30_min_demand           float64\n",
      "avg_temp                    float64\n",
      "min_temp                    float64\n",
      "max_temp                    float64\n",
      "lag_min_demand              float64\n",
      "lag_max_demand              float64\n",
      "dtype: object\n"
     ]
    }
   ],
   "source": [
    "df1 = df0.drop(['min_demand', 'max_demand'], axis=1)\n",
    "df1[\"DATE\"] = pd.to_datetime(df1[\"DATE\"])\n",
    "print(df1.head())\n",
    "print(df1.dtypes)"
   ]
  },
  {
   "cell_type": "code",
   "execution_count": 88,
   "id": "45eec717",
   "metadata": {},
   "outputs": [
    {
     "name": "stdout",
     "output_type": "stream",
     "text": [
      "        DATE  avg_30_min_demand   avg_temp  min_temp  max_temp  \\\n",
      "0 2016-01-01        6861.518333  20.783333      15.2      26.0   \n",
      "1 2016-01-02        6731.957292  20.572917      14.9      24.2   \n",
      "2 2016-01-03        6618.040000  21.170833      19.0      22.9   \n",
      "3 2016-01-04        7358.550000  20.277083      18.4      23.1   \n",
      "4 2016-01-05        7460.061875  18.979167      17.4      20.3   \n",
      "\n",
      "   lag_min_demand  lag_max_demand  sunlight  \n",
      "0         5645.67         8529.23      32.3  \n",
      "1         5631.74         7913.75      23.2  \n",
      "2         5559.37         7390.04      12.7  \n",
      "3         5476.66         7328.39       7.6  \n",
      "4         5589.58         8313.11       3.9  \n",
      "(1461, 8)\n",
      "DATE                 datetime64[ns]\n",
      "avg_30_min_demand           float64\n",
      "avg_temp                    float64\n",
      "min_temp                    float64\n",
      "max_temp                    float64\n",
      "lag_min_demand              float64\n",
      "lag_max_demand              float64\n",
      "sunlight                    float64\n",
      "dtype: object\n"
     ]
    }
   ],
   "source": [
    "# Merge sunlight exposure into df1\n",
    "df2 = pd.merge(df1, sun_exp[\"sunlight_exposure\"], on=\"DATE\", how=\"left\")\n",
    "df2 = df2.rename(columns={\"sunlight_exposure\": \"sunlight\"})\n",
    "df2[\"DATE\"] = pd.to_datetime(df2[\"DATE\"])\n",
    "\n",
    "print(df2.head())\n",
    "print(df2.shape)\n",
    "print(df2.dtypes)\n"
   ]
  },
  {
   "cell_type": "code",
   "execution_count": 89,
   "id": "1239b0d4",
   "metadata": {},
   "outputs": [
    {
     "name": "stdout",
     "output_type": "stream",
     "text": [
      "        DATE  avg_30_min_demand   avg_temp  min_temp  max_temp  \\\n",
      "0 2016-01-01        6861.518333  20.783333      15.2      26.0   \n",
      "1 2016-01-02        6731.957292  20.572917      14.9      24.2   \n",
      "2 2016-01-03        6618.040000  21.170833      19.0      22.9   \n",
      "3 2016-01-04        7358.550000  20.277083      18.4      23.1   \n",
      "4 2016-01-05        7460.061875  18.979167      17.4      20.3   \n",
      "\n",
      "   lag_min_demand  lag_max_demand  sunlight  precipitation  \n",
      "0         5645.67         8529.23      32.3       2.140095  \n",
      "1         5631.74         7913.75      23.2       6.496326  \n",
      "2         5559.37         7390.04      12.7       8.562486  \n",
      "3         5476.66         7328.39       7.6       4.082204  \n",
      "4         5589.58         8313.11       3.9       9.977372  \n",
      "           DATE  avg_30_min_demand   avg_temp  min_temp  max_temp  \\\n",
      "1456 2019-12-27        7508.199792  23.522917      19.2      28.5   \n",
      "1457 2019-12-28        7694.271458  23.972917      16.6      29.9   \n",
      "1458 2019-12-29        7746.240833  23.689583      18.1      29.3   \n",
      "1459 2019-12-30        8321.401042  24.172917      18.1      31.0   \n",
      "1460 2019-12-31        8503.726875  26.425000      17.7      42.1   \n",
      "\n",
      "      lag_min_demand  lag_max_demand  sunlight  precipitation  \n",
      "1456         5634.88         8509.18      30.7       0.081469  \n",
      "1457         5868.28         9324.59      30.8       0.571150  \n",
      "1458         5999.20         9806.43      21.8       0.101862  \n",
      "1459         6104.58         9773.20      26.3       0.243804  \n",
      "1460         6127.94        10848.99      27.7       1.126134  \n"
     ]
    }
   ],
   "source": [
    "df3 = pd.merge(df2, precip, on= 'DATE', how= \"left\")\n",
    "print(df3.head())\n",
    "print(df3.tail())"
   ]
  },
  {
   "cell_type": "markdown",
   "id": "81f678ee",
   "metadata": {},
   "source": [
    "# 3. New features\n",
    "Creating dummy variables based on day types."
   ]
  },
  {
   "cell_type": "code",
   "execution_count": null,
   "id": "5b67338a",
   "metadata": {},
   "outputs": [
    {
     "name": "stdout",
     "output_type": "stream",
     "text": [
      "        DATE  avg_30_min_demand   avg_temp  min_temp  max_temp  \\\n",
      "0 2016-01-01        6861.518333  20.783333      15.2      26.0   \n",
      "1 2016-01-02        6731.957292  20.572917      14.9      24.2   \n",
      "2 2016-01-03        6618.040000  21.170833      19.0      22.9   \n",
      "3 2016-01-04        7358.550000  20.277083      18.4      23.1   \n",
      "4 2016-01-05        7460.061875  18.979167      17.4      20.3   \n",
      "\n",
      "   lag_min_demand  lag_max_demand  sunlight  precipitation day_of_week  \\\n",
      "0         5645.67         8529.23      32.3       2.140095      Friday   \n",
      "1         5631.74         7913.75      23.2       6.496326    Saturday   \n",
      "2         5559.37         7390.04      12.7       8.562486      Sunday   \n",
      "3         5476.66         7328.39       7.6       4.082204      Monday   \n",
      "4         5589.58         8313.11       3.9       9.977372     Tuesday   \n",
      "\n",
      "   is_weekend  month  \n",
      "0           0      1  \n",
      "1           1      1  \n",
      "2           1      1  \n",
      "3           0      1  \n",
      "4           0      1  \n",
      "           DATE  avg_30_min_demand   avg_temp  min_temp  max_temp  \\\n",
      "1456 2019-12-27        7508.199792  23.522917      19.2      28.5   \n",
      "1457 2019-12-28        7694.271458  23.972917      16.6      29.9   \n",
      "1458 2019-12-29        7746.240833  23.689583      18.1      29.3   \n",
      "1459 2019-12-30        8321.401042  24.172917      18.1      31.0   \n",
      "1460 2019-12-31        8503.726875  26.425000      17.7      42.1   \n",
      "\n",
      "      lag_min_demand  lag_max_demand  sunlight  precipitation day_of_week  \\\n",
      "1456         5634.88         8509.18      30.7       0.081469      Friday   \n",
      "1457         5868.28         9324.59      30.8       0.571150    Saturday   \n",
      "1458         5999.20         9806.43      21.8       0.101862      Sunday   \n",
      "1459         6104.58         9773.20      26.3       0.243804      Monday   \n",
      "1460         6127.94        10848.99      27.7       1.126134     Tuesday   \n",
      "\n",
      "      is_weekend  month  \n",
      "1456           0     12  \n",
      "1457           1     12  \n",
      "1458           1     12  \n",
      "1459           0     12  \n",
      "1460           0     12  \n"
     ]
    }
   ],
   "source": [
    "dat = df3\n",
    "# adding dummay variables based on types of dates/months\n",
    "dat['DATE'] = pd.to_datetime(dat['DATE'])\n",
    "dat['day_of_week'] = dat['DATE'].dt.day_name() #day of the week (0=Monday, 6=Sunday)\n",
    "dat['is_weekend'] = dat['DATE'].dt.dayofweek >= 5  #True for Sat/Sun\n",
    "dat['is_weekend'] = dat['is_weekend'].astype(int)  #1 = weekend, 0 = weekday\n",
    "dat['month'] = dat['DATE'].dt.month\n",
    "print(dat.head())\n",
    "print(dat.tail())\n"
   ]
  },
  {
   "cell_type": "code",
   "execution_count": 91,
   "id": "00bfb6b7",
   "metadata": {},
   "outputs": [
    {
     "data": {
      "text/html": [
       "<div>\n",
       "<style scoped>\n",
       "    .dataframe tbody tr th:only-of-type {\n",
       "        vertical-align: middle;\n",
       "    }\n",
       "\n",
       "    .dataframe tbody tr th {\n",
       "        vertical-align: top;\n",
       "    }\n",
       "\n",
       "    .dataframe thead th {\n",
       "        text-align: right;\n",
       "    }\n",
       "</style>\n",
       "<table border=\"1\" class=\"dataframe\">\n",
       "  <thead>\n",
       "    <tr style=\"text-align: right;\">\n",
       "      <th></th>\n",
       "      <th>datetime_au</th>\n",
       "      <th>is_summer</th>\n",
       "      <th>is_autumn</th>\n",
       "      <th>is_winter</th>\n",
       "      <th>is_spring</th>\n",
       "      <th>is_sunday</th>\n",
       "      <th>is_monday</th>\n",
       "      <th>is_tuesday</th>\n",
       "      <th>is_wednesday</th>\n",
       "      <th>is_thursday</th>\n",
       "      <th>...</th>\n",
       "      <th>max_30_min_demand</th>\n",
       "      <th>sum_30_min_demand</th>\n",
       "      <th>count_30_min_points</th>\n",
       "      <th>avg_temp</th>\n",
       "      <th>min_temp</th>\n",
       "      <th>max_temp</th>\n",
       "      <th>hd_next_24h</th>\n",
       "      <th>cd_next_24h</th>\n",
       "      <th>precipitation</th>\n",
       "      <th>sunlight</th>\n",
       "    </tr>\n",
       "  </thead>\n",
       "  <tbody>\n",
       "    <tr>\n",
       "      <th>0</th>\n",
       "      <td>2016-01-01</td>\n",
       "      <td>1</td>\n",
       "      <td>0</td>\n",
       "      <td>0</td>\n",
       "      <td>0</td>\n",
       "      <td>0</td>\n",
       "      <td>0</td>\n",
       "      <td>0</td>\n",
       "      <td>0</td>\n",
       "      <td>0</td>\n",
       "      <td>...</td>\n",
       "      <td>7913.75</td>\n",
       "      <td>329352.88</td>\n",
       "      <td>48</td>\n",
       "      <td>20.704082</td>\n",
       "      <td>15.2</td>\n",
       "      <td>26.0</td>\n",
       "      <td>0.0</td>\n",
       "      <td>1.204082</td>\n",
       "      <td>2.140095</td>\n",
       "      <td>32.3</td>\n",
       "    </tr>\n",
       "    <tr>\n",
       "      <th>1</th>\n",
       "      <td>2016-01-02</td>\n",
       "      <td>1</td>\n",
       "      <td>0</td>\n",
       "      <td>0</td>\n",
       "      <td>0</td>\n",
       "      <td>0</td>\n",
       "      <td>0</td>\n",
       "      <td>0</td>\n",
       "      <td>0</td>\n",
       "      <td>0</td>\n",
       "      <td>...</td>\n",
       "      <td>7390.04</td>\n",
       "      <td>323133.95</td>\n",
       "      <td>48</td>\n",
       "      <td>20.572917</td>\n",
       "      <td>14.9</td>\n",
       "      <td>24.2</td>\n",
       "      <td>0.0</td>\n",
       "      <td>1.072917</td>\n",
       "      <td>6.496326</td>\n",
       "      <td>23.2</td>\n",
       "    </tr>\n",
       "    <tr>\n",
       "      <th>2</th>\n",
       "      <td>2016-01-03</td>\n",
       "      <td>1</td>\n",
       "      <td>0</td>\n",
       "      <td>0</td>\n",
       "      <td>0</td>\n",
       "      <td>1</td>\n",
       "      <td>0</td>\n",
       "      <td>0</td>\n",
       "      <td>0</td>\n",
       "      <td>0</td>\n",
       "      <td>...</td>\n",
       "      <td>7328.39</td>\n",
       "      <td>317665.92</td>\n",
       "      <td>48</td>\n",
       "      <td>21.130769</td>\n",
       "      <td>19.0</td>\n",
       "      <td>22.9</td>\n",
       "      <td>0.0</td>\n",
       "      <td>1.630769</td>\n",
       "      <td>8.562486</td>\n",
       "      <td>12.7</td>\n",
       "    </tr>\n",
       "    <tr>\n",
       "      <th>3</th>\n",
       "      <td>2016-01-04</td>\n",
       "      <td>1</td>\n",
       "      <td>0</td>\n",
       "      <td>0</td>\n",
       "      <td>0</td>\n",
       "      <td>0</td>\n",
       "      <td>1</td>\n",
       "      <td>0</td>\n",
       "      <td>0</td>\n",
       "      <td>0</td>\n",
       "      <td>...</td>\n",
       "      <td>8313.11</td>\n",
       "      <td>353210.40</td>\n",
       "      <td>48</td>\n",
       "      <td>20.144444</td>\n",
       "      <td>18.4</td>\n",
       "      <td>23.1</td>\n",
       "      <td>0.0</td>\n",
       "      <td>0.644444</td>\n",
       "      <td>4.082204</td>\n",
       "      <td>7.6</td>\n",
       "    </tr>\n",
       "    <tr>\n",
       "      <th>4</th>\n",
       "      <td>2016-01-05</td>\n",
       "      <td>1</td>\n",
       "      <td>0</td>\n",
       "      <td>0</td>\n",
       "      <td>0</td>\n",
       "      <td>0</td>\n",
       "      <td>0</td>\n",
       "      <td>1</td>\n",
       "      <td>0</td>\n",
       "      <td>0</td>\n",
       "      <td>...</td>\n",
       "      <td>8338.82</td>\n",
       "      <td>358082.97</td>\n",
       "      <td>48</td>\n",
       "      <td>18.904808</td>\n",
       "      <td>17.4</td>\n",
       "      <td>20.3</td>\n",
       "      <td>0.0</td>\n",
       "      <td>0.000000</td>\n",
       "      <td>9.977372</td>\n",
       "      <td>3.9</td>\n",
       "    </tr>\n",
       "  </tbody>\n",
       "</table>\n",
       "<p>5 rows × 38 columns</p>\n",
       "</div>"
      ],
      "text/plain": [
       "  datetime_au  is_summer  is_autumn  is_winter  is_spring  is_sunday  \\\n",
       "0  2016-01-01          1          0          0          0          0   \n",
       "1  2016-01-02          1          0          0          0          0   \n",
       "2  2016-01-03          1          0          0          0          1   \n",
       "3  2016-01-04          1          0          0          0          0   \n",
       "4  2016-01-05          1          0          0          0          0   \n",
       "\n",
       "   is_monday  is_tuesday  is_wednesday  is_thursday  ...  max_30_min_demand  \\\n",
       "0          0           0             0            0  ...            7913.75   \n",
       "1          0           0             0            0  ...            7390.04   \n",
       "2          0           0             0            0  ...            7328.39   \n",
       "3          1           0             0            0  ...            8313.11   \n",
       "4          0           1             0            0  ...            8338.82   \n",
       "\n",
       "   sum_30_min_demand  count_30_min_points   avg_temp  min_temp  max_temp  \\\n",
       "0          329352.88                   48  20.704082      15.2      26.0   \n",
       "1          323133.95                   48  20.572917      14.9      24.2   \n",
       "2          317665.92                   48  21.130769      19.0      22.9   \n",
       "3          353210.40                   48  20.144444      18.4      23.1   \n",
       "4          358082.97                   48  18.904808      17.4      20.3   \n",
       "\n",
       "   hd_next_24h  cd_next_24h  precipitation  sunlight  \n",
       "0          0.0     1.204082       2.140095      32.3  \n",
       "1          0.0     1.072917       6.496326      23.2  \n",
       "2          0.0     1.630769       8.562486      12.7  \n",
       "3          0.0     0.644444       4.082204       7.6  \n",
       "4          0.0     0.000000       9.977372       3.9  \n",
       "\n",
       "[5 rows x 38 columns]"
      ]
     },
     "execution_count": 91,
     "metadata": {},
     "output_type": "execute_result"
    }
   ],
   "source": [
    "# Import CD and HD features data\n",
    "d2 = pd.read_csv('./Shared/processed 1.csv')\n",
    "d2.head()"
   ]
  },
  {
   "cell_type": "code",
   "execution_count": 92,
   "id": "82d42bc9",
   "metadata": {},
   "outputs": [
    {
     "data": {
      "text/html": [
       "<div>\n",
       "<style scoped>\n",
       "    .dataframe tbody tr th:only-of-type {\n",
       "        vertical-align: middle;\n",
       "    }\n",
       "\n",
       "    .dataframe tbody tr th {\n",
       "        vertical-align: top;\n",
       "    }\n",
       "\n",
       "    .dataframe thead th {\n",
       "        text-align: right;\n",
       "    }\n",
       "</style>\n",
       "<table border=\"1\" class=\"dataframe\">\n",
       "  <thead>\n",
       "    <tr style=\"text-align: right;\">\n",
       "      <th></th>\n",
       "      <th>DATE</th>\n",
       "      <th>avg_30_min_demand</th>\n",
       "      <th>avg_temp</th>\n",
       "      <th>min_temp</th>\n",
       "      <th>max_temp</th>\n",
       "      <th>lag_min_demand</th>\n",
       "      <th>lag_max_demand</th>\n",
       "      <th>sunlight</th>\n",
       "      <th>precipitation</th>\n",
       "      <th>day_of_week</th>\n",
       "      <th>is_weekend</th>\n",
       "      <th>month</th>\n",
       "      <th>is_summer</th>\n",
       "      <th>is_winter</th>\n",
       "      <th>is_spring</th>\n",
       "      <th>is_autumn</th>\n",
       "      <th>cd_next_24h</th>\n",
       "      <th>hd_next_24h</th>\n",
       "      <th>count_30_min_points</th>\n",
       "    </tr>\n",
       "  </thead>\n",
       "  <tbody>\n",
       "    <tr>\n",
       "      <th>0</th>\n",
       "      <td>2016-01-01</td>\n",
       "      <td>6861.518333</td>\n",
       "      <td>20.783333</td>\n",
       "      <td>15.2</td>\n",
       "      <td>26.0</td>\n",
       "      <td>5645.67</td>\n",
       "      <td>8529.23</td>\n",
       "      <td>32.3</td>\n",
       "      <td>2.140095</td>\n",
       "      <td>Friday</td>\n",
       "      <td>0</td>\n",
       "      <td>1</td>\n",
       "      <td>1</td>\n",
       "      <td>0</td>\n",
       "      <td>0</td>\n",
       "      <td>0</td>\n",
       "      <td>1.204082</td>\n",
       "      <td>0.0</td>\n",
       "      <td>48</td>\n",
       "    </tr>\n",
       "    <tr>\n",
       "      <th>1</th>\n",
       "      <td>2016-01-02</td>\n",
       "      <td>6731.957292</td>\n",
       "      <td>20.572917</td>\n",
       "      <td>14.9</td>\n",
       "      <td>24.2</td>\n",
       "      <td>5631.74</td>\n",
       "      <td>7913.75</td>\n",
       "      <td>23.2</td>\n",
       "      <td>6.496326</td>\n",
       "      <td>Saturday</td>\n",
       "      <td>1</td>\n",
       "      <td>1</td>\n",
       "      <td>1</td>\n",
       "      <td>0</td>\n",
       "      <td>0</td>\n",
       "      <td>0</td>\n",
       "      <td>1.072917</td>\n",
       "      <td>0.0</td>\n",
       "      <td>48</td>\n",
       "    </tr>\n",
       "    <tr>\n",
       "      <th>2</th>\n",
       "      <td>2016-01-03</td>\n",
       "      <td>6618.040000</td>\n",
       "      <td>21.170833</td>\n",
       "      <td>19.0</td>\n",
       "      <td>22.9</td>\n",
       "      <td>5559.37</td>\n",
       "      <td>7390.04</td>\n",
       "      <td>12.7</td>\n",
       "      <td>8.562486</td>\n",
       "      <td>Sunday</td>\n",
       "      <td>1</td>\n",
       "      <td>1</td>\n",
       "      <td>1</td>\n",
       "      <td>0</td>\n",
       "      <td>0</td>\n",
       "      <td>0</td>\n",
       "      <td>1.630769</td>\n",
       "      <td>0.0</td>\n",
       "      <td>48</td>\n",
       "    </tr>\n",
       "    <tr>\n",
       "      <th>3</th>\n",
       "      <td>2016-01-04</td>\n",
       "      <td>7358.550000</td>\n",
       "      <td>20.277083</td>\n",
       "      <td>18.4</td>\n",
       "      <td>23.1</td>\n",
       "      <td>5476.66</td>\n",
       "      <td>7328.39</td>\n",
       "      <td>7.6</td>\n",
       "      <td>4.082204</td>\n",
       "      <td>Monday</td>\n",
       "      <td>0</td>\n",
       "      <td>1</td>\n",
       "      <td>1</td>\n",
       "      <td>0</td>\n",
       "      <td>0</td>\n",
       "      <td>0</td>\n",
       "      <td>0.644444</td>\n",
       "      <td>0.0</td>\n",
       "      <td>48</td>\n",
       "    </tr>\n",
       "    <tr>\n",
       "      <th>4</th>\n",
       "      <td>2016-01-05</td>\n",
       "      <td>7460.061875</td>\n",
       "      <td>18.979167</td>\n",
       "      <td>17.4</td>\n",
       "      <td>20.3</td>\n",
       "      <td>5589.58</td>\n",
       "      <td>8313.11</td>\n",
       "      <td>3.9</td>\n",
       "      <td>9.977372</td>\n",
       "      <td>Tuesday</td>\n",
       "      <td>0</td>\n",
       "      <td>1</td>\n",
       "      <td>1</td>\n",
       "      <td>0</td>\n",
       "      <td>0</td>\n",
       "      <td>0</td>\n",
       "      <td>0.000000</td>\n",
       "      <td>0.0</td>\n",
       "      <td>48</td>\n",
       "    </tr>\n",
       "  </tbody>\n",
       "</table>\n",
       "</div>"
      ],
      "text/plain": [
       "        DATE  avg_30_min_demand   avg_temp  min_temp  max_temp  \\\n",
       "0 2016-01-01        6861.518333  20.783333      15.2      26.0   \n",
       "1 2016-01-02        6731.957292  20.572917      14.9      24.2   \n",
       "2 2016-01-03        6618.040000  21.170833      19.0      22.9   \n",
       "3 2016-01-04        7358.550000  20.277083      18.4      23.1   \n",
       "4 2016-01-05        7460.061875  18.979167      17.4      20.3   \n",
       "\n",
       "   lag_min_demand  lag_max_demand  sunlight  precipitation day_of_week  \\\n",
       "0         5645.67         8529.23      32.3       2.140095      Friday   \n",
       "1         5631.74         7913.75      23.2       6.496326    Saturday   \n",
       "2         5559.37         7390.04      12.7       8.562486      Sunday   \n",
       "3         5476.66         7328.39       7.6       4.082204      Monday   \n",
       "4         5589.58         8313.11       3.9       9.977372     Tuesday   \n",
       "\n",
       "   is_weekend  month  is_summer  is_winter  is_spring  is_autumn  cd_next_24h  \\\n",
       "0           0      1          1          0          0          0     1.204082   \n",
       "1           1      1          1          0          0          0     1.072917   \n",
       "2           1      1          1          0          0          0     1.630769   \n",
       "3           0      1          1          0          0          0     0.644444   \n",
       "4           0      1          1          0          0          0     0.000000   \n",
       "\n",
       "   hd_next_24h  count_30_min_points  \n",
       "0          0.0                   48  \n",
       "1          0.0                   48  \n",
       "2          0.0                   48  \n",
       "3          0.0                   48  \n",
       "4          0.0                   48  "
      ]
     },
     "execution_count": 92,
     "metadata": {},
     "output_type": "execute_result"
    }
   ],
   "source": [
    "final_df = dat.copy()\n",
    "final_df['is_summer'] = d2['is_summer']\n",
    "final_df['is_winter'] = d2['is_winter']\n",
    "final_df['is_spring'] = d2['is_spring']\n",
    "final_df['is_autumn'] = d2['is_autumn']\n",
    "final_df['cd_next_24h'] = d2['cd_next_24h']\n",
    "final_df['hd_next_24h'] = d2['hd_next_24h']\n",
    "final_df['count_30_min_points'] = d2['count_30_min_points']\n",
    "final_df.head()"
   ]
  },
  {
   "cell_type": "code",
   "execution_count": 93,
   "id": "f8b2659c",
   "metadata": {},
   "outputs": [],
   "source": [
    "final_df.to_csv(\"Final data.csv\", index=False)"
   ]
  }
 ],
 "metadata": {
  "kernelspec": {
   "display_name": "Python 3",
   "language": "python",
   "name": "python3"
  },
  "language_info": {
   "codemirror_mode": {
    "name": "ipython",
    "version": 3
   },
   "file_extension": ".py",
   "mimetype": "text/x-python",
   "name": "python",
   "nbconvert_exporter": "python",
   "pygments_lexer": "ipython3",
   "version": "3.12.5"
  }
 },
 "nbformat": 4,
 "nbformat_minor": 5
}
