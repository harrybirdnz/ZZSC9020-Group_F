{
  "nbformat": 4,
  "nbformat_minor": 0,
  "metadata": {
    "colab": {
      "provenance": [],
      "include_colab_link": true
    },
    "kernelspec": {
      "name": "python3",
      "display_name": "Python 3"
    },
    "language_info": {
      "name": "python"
    }
  },
  "cells": [
    {
      "cell_type": "markdown",
      "metadata": {
        "id": "view-in-github",
        "colab_type": "text"
      },
      "source": [
        "<a href=\"https://colab.research.google.com/github/harrybirdnz/ZZSC9020-Group_F/blob/main/individual/cameron/ZZSC9020_Test.ipynb\" target=\"_parent\"><img src=\"https://colab.research.google.com/assets/colab-badge.svg\" alt=\"Open In Colab\"/></a>"
      ]
    },
    {
      "cell_type": "markdown",
      "source": [
        "This is a test Notebook"
      ],
      "metadata": {
        "id": "04ScetPODtGC"
      }
    },
    {
      "cell_type": "markdown",
      "source": [
        "Edit #1"
      ],
      "metadata": {
        "id": "Wcz7L2mQDxKT"
      }
    },
    {
      "cell_type": "code",
      "source": [],
      "metadata": {
        "id": "YYD2lewdEiUq"
      },
      "execution_count": null,
      "outputs": []
    }
  ]
}