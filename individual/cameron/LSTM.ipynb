{
  "nbformat": 4,
  "nbformat_minor": 0,
  "metadata": {
    "colab": {
      "provenance": [],
      "authorship_tag": "ABX9TyMyPwCnPywqQaL/wDDf/lWL",
      "include_colab_link": true
    },
    "kernelspec": {
      "name": "python3",
      "display_name": "Python 3"
    },
    "language_info": {
      "name": "python"
    }
  },
  "cells": [
    {
      "cell_type": "markdown",
      "metadata": {
        "id": "view-in-github",
        "colab_type": "text"
      },
      "source": [
        "<a href=\"https://colab.research.google.com/github/harrybirdnz/ZZSC9020-Group_F/blob/main/individual/cameron/LSTM.ipynb\" target=\"_parent\"><img src=\"https://colab.research.google.com/assets/colab-badge.svg\" alt=\"Open In Colab\"/></a>"
      ]
    },
    {
      "cell_type": "code",
      "execution_count": 3,
      "metadata": {
        "colab": {
          "base_uri": "https://localhost:8080/"
        },
        "id": "UtmE70NlNNKD",
        "outputId": "5b5a142d-296c-414b-fa35-50f5ac674839"
      },
      "outputs": [
        {
          "output_type": "stream",
          "name": "stdout",
          "text": [
            "Drive already mounted at /content/drive; to attempt to forcibly remount, call drive.mount(\"/content/drive\", force_remount=True).\n"
          ]
        }
      ],
      "source": [
        "from google.colab import drive\n",
        "from dotenv import load_dotenv\n",
        "import os\n",
        "\n",
        "drive.mount('/content/drive')\n",
        "load_dotenv('/content/drive/MyDrive/secrets/.env')\n",
        "token = os.getenv('GITHUB_TOKEN')"
      ]
    },
    {
      "cell_type": "code",
      "source": [
        "repo_url = 'https://github.com/harrybirdnz/ZZSC9020-Group_F'\n",
        "auth_repo_url = repo_url.replace('https://', f'https://{token}@')"
      ],
      "metadata": {
        "id": "EpUbKjyONeVD"
      },
      "execution_count": 5,
      "outputs": []
    },
    {
      "cell_type": "code",
      "source": [
        "!git clone {auth_repo_url}"
      ],
      "metadata": {
        "colab": {
          "base_uri": "https://localhost:8080/"
        },
        "id": "COBCMtYwNiao",
        "outputId": "0c990bdb-4616-4690-cefe-abfba1d2dc4d"
      },
      "execution_count": 4,
      "outputs": [
        {
          "output_type": "stream",
          "name": "stdout",
          "text": [
            "Cloning into 'ZZSC9020-Group_F'...\n",
            "remote: Enumerating objects: 198, done.\u001b[K\n",
            "remote: Counting objects: 100% (118/118), done.\u001b[K\n",
            "remote: Compressing objects: 100% (96/96), done.\u001b[K\n",
            "remote: Total 198 (delta 38), reused 66 (delta 7), pack-reused 80 (from 1)\u001b[K\n",
            "Receiving objects: 100% (198/198), 203.80 MiB | 22.73 MiB/s, done.\n",
            "Resolving deltas: 100% (55/55), done.\n"
          ]
        }
      ]
    },
    {
      "cell_type": "code",
      "source": [
        "%cd ZZSC9020-Group_F\n",
        "!ls"
      ],
      "metadata": {
        "colab": {
          "base_uri": "https://localhost:8080/"
        },
        "id": "3mXNI5aZQACY",
        "outputId": "349a3eb0-f8d0-4df0-b130-4ca0b315bbb0"
      },
      "execution_count": 8,
      "outputs": [
        {
          "output_type": "stream",
          "name": "stdout",
          "text": [
            "/content/ZZSC9020-Group_F\n",
            "agendas     data\t individual  README.md\tsrc\n",
            "checklists  gantt_chart  minutes     report\n"
          ]
        }
      ]
    },
    {
      "cell_type": "code",
      "source": [
        "def check_repo_context(repo_name='your-repo-name'):\n",
        "    cwd = os.getcwd()\n",
        "    repo_path = os.path.join('/content', repo_name)\n",
        "\n",
        "    if os.path.isdir(repo_path):\n",
        "        print(f\"Repo '{repo_name}' is cloned at: {repo_path}\")\n",
        "        print(f\"Current working directory: {cwd}\")\n",
        "        if cwd != repo_path:\n",
        "            print(\"Switching to repo directory...\")\n",
        "            os.chdir(repo_path)\n",
        "            print(f\"Now in: {os.getcwd()}\")\n",
        "        else:\n",
        "            print(\"Already inside the repo directory.\")\n",
        "        print(\"Repo contents:\")\n",
        "        print(os.listdir())\n",
        "        return True\n",
        "    else:\n",
        "        print(f\"Repo '{repo_name}' not found at expected path: {repo_path}\")\n",
        "        print(\"You may need to clone it or check the repo name.\")\n",
        "        return False\n",
        "\n",
        "# Example usage\n",
        "check_repo_context('ZZSC9020-Group_F')\n"
      ],
      "metadata": {
        "colab": {
          "base_uri": "https://localhost:8080/"
        },
        "id": "A22qo6GEQVdU",
        "outputId": "761b5de1-b26e-46ab-f394-ea581646b1fd"
      },
      "execution_count": 10,
      "outputs": [
        {
          "output_type": "stream",
          "name": "stdout",
          "text": [
            "Repo 'ZZSC9020-Group_F' is cloned at: /content/ZZSC9020-Group_F\n",
            "Current working directory: /content/ZZSC9020-Group_F\n",
            "Already inside the repo directory.\n",
            "Repo contents:\n",
            "['minutes', '.git', 'README.md', 'src', 'individual', 'gantt_chart', 'checklists', 'agendas', 'report', 'data']\n"
          ]
        },
        {
          "output_type": "execute_result",
          "data": {
            "text/plain": [
              "True"
            ]
          },
          "metadata": {},
          "execution_count": 10
        }
      ]
    },
    {
      "cell_type": "code",
      "source": [
        "import pandas as pd\n",
        "import numpy as np\n",
        "import matplotlib.pyplot as plt\n",
        "import seaborn as sns"
      ],
      "metadata": {
        "id": "KE7GqoH1N2Qe"
      },
      "execution_count": 6,
      "outputs": []
    }
  ]
}